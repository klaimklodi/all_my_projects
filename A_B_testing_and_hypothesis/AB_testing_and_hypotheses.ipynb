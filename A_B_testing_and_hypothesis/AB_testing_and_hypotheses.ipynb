{
 "cells": [
  {
   "cell_type": "markdown",
   "metadata": {},
   "source": [
    "# Описание проекта"
   ]
  },
  {
   "cell_type": "markdown",
   "metadata": {},
   "source": [
    "**Цель:** Необходимо приоритизировать гипотезы, запустить A/B тест и проанализировать результаты."
   ]
  },
  {
   "cell_type": "markdown",
   "metadata": {},
   "source": [
    "**Этапы:**<br>\n",
    "1) Приоритизация гипотез<br>\n",
    "2) А/В-тест и анализ<br>\n",
    "3) Выводы"
   ]
  },
  {
   "cell_type": "markdown",
   "metadata": {},
   "source": [
    "# Этап 1"
   ]
  },
  {
   "cell_type": "code",
   "execution_count": 1,
   "metadata": {},
   "outputs": [],
   "source": [
    "import pandas as pd\n",
    "import scipy.stats as stats\n",
    "import datetime as dt\n",
    "import numpy as np\n",
    "import matplotlib.pyplot as plt"
   ]
  },
  {
   "cell_type": "code",
   "execution_count": 2,
   "metadata": {},
   "outputs": [
    {
     "data": {
      "text/html": [
       "<div>\n",
       "<style scoped>\n",
       "    .dataframe tbody tr th:only-of-type {\n",
       "        vertical-align: middle;\n",
       "    }\n",
       "\n",
       "    .dataframe tbody tr th {\n",
       "        vertical-align: top;\n",
       "    }\n",
       "\n",
       "    .dataframe thead th {\n",
       "        text-align: right;\n",
       "    }\n",
       "</style>\n",
       "<table border=\"1\" class=\"dataframe\">\n",
       "  <thead>\n",
       "    <tr style=\"text-align: right;\">\n",
       "      <th></th>\n",
       "      <th>Hypothesis</th>\n",
       "      <th>Reach</th>\n",
       "      <th>Impact</th>\n",
       "      <th>Confidence</th>\n",
       "      <th>Efforts</th>\n",
       "    </tr>\n",
       "  </thead>\n",
       "  <tbody>\n",
       "    <tr>\n",
       "      <th>0</th>\n",
       "      <td>Добавить два новых канала привлечения трафика, что позволит привлекать на 30% больше пользователей</td>\n",
       "      <td>3</td>\n",
       "      <td>10</td>\n",
       "      <td>8</td>\n",
       "      <td>6</td>\n",
       "    </tr>\n",
       "    <tr>\n",
       "      <th>1</th>\n",
       "      <td>Запустить собственную службу доставки, что сократит срок доставки заказов</td>\n",
       "      <td>2</td>\n",
       "      <td>5</td>\n",
       "      <td>4</td>\n",
       "      <td>10</td>\n",
       "    </tr>\n",
       "    <tr>\n",
       "      <th>2</th>\n",
       "      <td>Добавить блоки рекомендаций товаров на сайт интернет магазина, чтобы повысить конверсию и средний чек заказа</td>\n",
       "      <td>8</td>\n",
       "      <td>3</td>\n",
       "      <td>7</td>\n",
       "      <td>3</td>\n",
       "    </tr>\n",
       "    <tr>\n",
       "      <th>3</th>\n",
       "      <td>Изменить структура категорий, что увеличит конверсию, т.к. пользователи быстрее найдут нужный товар</td>\n",
       "      <td>8</td>\n",
       "      <td>3</td>\n",
       "      <td>3</td>\n",
       "      <td>8</td>\n",
       "    </tr>\n",
       "    <tr>\n",
       "      <th>4</th>\n",
       "      <td>Изменить цвет фона главной страницы, чтобы увеличить вовлеченность пользователей</td>\n",
       "      <td>3</td>\n",
       "      <td>1</td>\n",
       "      <td>1</td>\n",
       "      <td>1</td>\n",
       "    </tr>\n",
       "    <tr>\n",
       "      <th>5</th>\n",
       "      <td>Добавить страницу отзывов клиентов о магазине, что позволит увеличить количество заказов</td>\n",
       "      <td>3</td>\n",
       "      <td>2</td>\n",
       "      <td>2</td>\n",
       "      <td>3</td>\n",
       "    </tr>\n",
       "    <tr>\n",
       "      <th>6</th>\n",
       "      <td>Показать на главной странице баннеры с актуальными акциями и распродажами, чтобы увеличить конверсию</td>\n",
       "      <td>5</td>\n",
       "      <td>3</td>\n",
       "      <td>8</td>\n",
       "      <td>3</td>\n",
       "    </tr>\n",
       "    <tr>\n",
       "      <th>7</th>\n",
       "      <td>Добавить форму подписки на все основные страницы, чтобы собрать базу клиентов для email-рассылок</td>\n",
       "      <td>10</td>\n",
       "      <td>7</td>\n",
       "      <td>8</td>\n",
       "      <td>5</td>\n",
       "    </tr>\n",
       "    <tr>\n",
       "      <th>8</th>\n",
       "      <td>Запустить акцию, дающую скидку на товар в день рождения</td>\n",
       "      <td>1</td>\n",
       "      <td>9</td>\n",
       "      <td>9</td>\n",
       "      <td>5</td>\n",
       "    </tr>\n",
       "  </tbody>\n",
       "</table>\n",
       "</div>"
      ],
      "text/plain": [
       "                                                                                                     Hypothesis  \\\n",
       "0  Добавить два новых канала привлечения трафика, что позволит привлекать на 30% больше пользователей             \n",
       "1  Запустить собственную службу доставки, что сократит срок доставки заказов                                      \n",
       "2  Добавить блоки рекомендаций товаров на сайт интернет магазина, чтобы повысить конверсию и средний чек заказа   \n",
       "3  Изменить структура категорий, что увеличит конверсию, т.к. пользователи быстрее найдут нужный товар            \n",
       "4  Изменить цвет фона главной страницы, чтобы увеличить вовлеченность пользователей                               \n",
       "5  Добавить страницу отзывов клиентов о магазине, что позволит увеличить количество заказов                       \n",
       "6  Показать на главной странице баннеры с актуальными акциями и распродажами, чтобы увеличить конверсию           \n",
       "7  Добавить форму подписки на все основные страницы, чтобы собрать базу клиентов для email-рассылок               \n",
       "8  Запустить акцию, дающую скидку на товар в день рождения                                                        \n",
       "\n",
       "   Reach  Impact  Confidence  Efforts  \n",
       "0  3      10      8           6        \n",
       "1  2      5       4           10       \n",
       "2  8      3       7           3        \n",
       "3  8      3       3           8        \n",
       "4  3      1       1           1        \n",
       "5  3      2       2           3        \n",
       "6  5      3       8           3        \n",
       "7  10     7       8           5        \n",
       "8  1      9       9           5        "
      ]
     },
     "execution_count": 2,
     "metadata": {},
     "output_type": "execute_result"
    }
   ],
   "source": [
    "data = pd.read_csv('/datasets/hypothesis.csv')\n",
    "pd.options.display.max_colwidth = 1\n",
    "data"
   ]
  },
  {
   "cell_type": "markdown",
   "metadata": {},
   "source": [
    "Изучим данные."
   ]
  },
  {
   "cell_type": "code",
   "execution_count": 3,
   "metadata": {},
   "outputs": [
    {
     "name": "stdout",
     "output_type": "stream",
     "text": [
      "<class 'pandas.core.frame.DataFrame'>\n",
      "RangeIndex: 9 entries, 0 to 8\n",
      "Data columns (total 5 columns):\n",
      " #   Column      Non-Null Count  Dtype \n",
      "---  ------      --------------  ----- \n",
      " 0   Hypothesis  9 non-null      object\n",
      " 1   Reach       9 non-null      int64 \n",
      " 2   Impact      9 non-null      int64 \n",
      " 3   Confidence  9 non-null      int64 \n",
      " 4   Efforts     9 non-null      int64 \n",
      "dtypes: int64(4), object(1)\n",
      "memory usage: 488.0+ bytes\n"
     ]
    }
   ],
   "source": [
    "data.info()"
   ]
  },
  {
   "cell_type": "code",
   "execution_count": 4,
   "metadata": {},
   "outputs": [
    {
     "data": {
      "text/plain": [
       "0"
      ]
     },
     "execution_count": 4,
     "metadata": {},
     "output_type": "execute_result"
    }
   ],
   "source": [
    "data.duplicated().sum()"
   ]
  },
  {
   "cell_type": "markdown",
   "metadata": {},
   "source": [
    "Здесь с данными все хорошо. Дубликатов и пропусков нет."
   ]
  },
  {
   "cell_type": "markdown",
   "metadata": {},
   "source": [
    "Применим фреймворк ICE для приоритизации гипотез."
   ]
  },
  {
   "cell_type": "code",
   "execution_count": 5,
   "metadata": {
    "scrolled": true
   },
   "outputs": [
    {
     "data": {
      "text/html": [
       "<div>\n",
       "<style scoped>\n",
       "    .dataframe tbody tr th:only-of-type {\n",
       "        vertical-align: middle;\n",
       "    }\n",
       "\n",
       "    .dataframe tbody tr th {\n",
       "        vertical-align: top;\n",
       "    }\n",
       "\n",
       "    .dataframe thead th {\n",
       "        text-align: right;\n",
       "    }\n",
       "</style>\n",
       "<table border=\"1\" class=\"dataframe\">\n",
       "  <thead>\n",
       "    <tr style=\"text-align: right;\">\n",
       "      <th></th>\n",
       "      <th>Hypothesis</th>\n",
       "      <th>Reach</th>\n",
       "      <th>Impact</th>\n",
       "      <th>Confidence</th>\n",
       "      <th>Efforts</th>\n",
       "      <th>ICE</th>\n",
       "    </tr>\n",
       "  </thead>\n",
       "  <tbody>\n",
       "    <tr>\n",
       "      <th>8</th>\n",
       "      <td>Запустить акцию, дающую скидку на товар в день рождения</td>\n",
       "      <td>1</td>\n",
       "      <td>9</td>\n",
       "      <td>9</td>\n",
       "      <td>5</td>\n",
       "      <td>16.200</td>\n",
       "    </tr>\n",
       "    <tr>\n",
       "      <th>0</th>\n",
       "      <td>Добавить два новых канала привлечения трафика, что позволит привлекать на 30% больше пользователей</td>\n",
       "      <td>3</td>\n",
       "      <td>10</td>\n",
       "      <td>8</td>\n",
       "      <td>6</td>\n",
       "      <td>13.333</td>\n",
       "    </tr>\n",
       "    <tr>\n",
       "      <th>7</th>\n",
       "      <td>Добавить форму подписки на все основные страницы, чтобы собрать базу клиентов для email-рассылок</td>\n",
       "      <td>10</td>\n",
       "      <td>7</td>\n",
       "      <td>8</td>\n",
       "      <td>5</td>\n",
       "      <td>11.200</td>\n",
       "    </tr>\n",
       "    <tr>\n",
       "      <th>6</th>\n",
       "      <td>Показать на главной странице баннеры с актуальными акциями и распродажами, чтобы увеличить конверсию</td>\n",
       "      <td>5</td>\n",
       "      <td>3</td>\n",
       "      <td>8</td>\n",
       "      <td>3</td>\n",
       "      <td>8.000</td>\n",
       "    </tr>\n",
       "    <tr>\n",
       "      <th>2</th>\n",
       "      <td>Добавить блоки рекомендаций товаров на сайт интернет магазина, чтобы повысить конверсию и средний чек заказа</td>\n",
       "      <td>8</td>\n",
       "      <td>3</td>\n",
       "      <td>7</td>\n",
       "      <td>3</td>\n",
       "      <td>7.000</td>\n",
       "    </tr>\n",
       "    <tr>\n",
       "      <th>1</th>\n",
       "      <td>Запустить собственную службу доставки, что сократит срок доставки заказов</td>\n",
       "      <td>2</td>\n",
       "      <td>5</td>\n",
       "      <td>4</td>\n",
       "      <td>10</td>\n",
       "      <td>2.000</td>\n",
       "    </tr>\n",
       "    <tr>\n",
       "      <th>5</th>\n",
       "      <td>Добавить страницу отзывов клиентов о магазине, что позволит увеличить количество заказов</td>\n",
       "      <td>3</td>\n",
       "      <td>2</td>\n",
       "      <td>2</td>\n",
       "      <td>3</td>\n",
       "      <td>1.333</td>\n",
       "    </tr>\n",
       "    <tr>\n",
       "      <th>3</th>\n",
       "      <td>Изменить структура категорий, что увеличит конверсию, т.к. пользователи быстрее найдут нужный товар</td>\n",
       "      <td>8</td>\n",
       "      <td>3</td>\n",
       "      <td>3</td>\n",
       "      <td>8</td>\n",
       "      <td>1.125</td>\n",
       "    </tr>\n",
       "    <tr>\n",
       "      <th>4</th>\n",
       "      <td>Изменить цвет фона главной страницы, чтобы увеличить вовлеченность пользователей</td>\n",
       "      <td>3</td>\n",
       "      <td>1</td>\n",
       "      <td>1</td>\n",
       "      <td>1</td>\n",
       "      <td>1.000</td>\n",
       "    </tr>\n",
       "  </tbody>\n",
       "</table>\n",
       "</div>"
      ],
      "text/plain": [
       "                                                                                                     Hypothesis  \\\n",
       "8  Запустить акцию, дающую скидку на товар в день рождения                                                        \n",
       "0  Добавить два новых канала привлечения трафика, что позволит привлекать на 30% больше пользователей             \n",
       "7  Добавить форму подписки на все основные страницы, чтобы собрать базу клиентов для email-рассылок               \n",
       "6  Показать на главной странице баннеры с актуальными акциями и распродажами, чтобы увеличить конверсию           \n",
       "2  Добавить блоки рекомендаций товаров на сайт интернет магазина, чтобы повысить конверсию и средний чек заказа   \n",
       "1  Запустить собственную службу доставки, что сократит срок доставки заказов                                      \n",
       "5  Добавить страницу отзывов клиентов о магазине, что позволит увеличить количество заказов                       \n",
       "3  Изменить структура категорий, что увеличит конверсию, т.к. пользователи быстрее найдут нужный товар            \n",
       "4  Изменить цвет фона главной страницы, чтобы увеличить вовлеченность пользователей                               \n",
       "\n",
       "   Reach  Impact  Confidence  Efforts     ICE  \n",
       "8  1      9       9           5        16.200  \n",
       "0  3      10      8           6        13.333  \n",
       "7  10     7       8           5        11.200  \n",
       "6  5      3       8           3        8.000   \n",
       "2  8      3       7           3        7.000   \n",
       "1  2      5       4           10       2.000   \n",
       "5  3      2       2           3        1.333   \n",
       "3  8      3       3           8        1.125   \n",
       "4  3      1       1           1        1.000   "
      ]
     },
     "execution_count": 5,
     "metadata": {},
     "output_type": "execute_result"
    }
   ],
   "source": [
    "data['ICE'] = round((data['Impact'] * data['Confidence'])/data['Efforts'], 3)\n",
    "data.sort_values('ICE', ascending=False)"
   ]
  },
  {
   "cell_type": "markdown",
   "metadata": {},
   "source": [
    "Видим, что гипотеза под номером 8 имеет первый приоритет.Она имеет хорошие показатели по Impact, Confidence и средний Efforts. За восьмой идут гипотезы под номерами 0 и 7."
   ]
  },
  {
   "cell_type": "markdown",
   "metadata": {},
   "source": [
    "Теперь применим фреймворк RICE."
   ]
  },
  {
   "cell_type": "code",
   "execution_count": 6,
   "metadata": {},
   "outputs": [
    {
     "data": {
      "text/html": [
       "<div>\n",
       "<style scoped>\n",
       "    .dataframe tbody tr th:only-of-type {\n",
       "        vertical-align: middle;\n",
       "    }\n",
       "\n",
       "    .dataframe tbody tr th {\n",
       "        vertical-align: top;\n",
       "    }\n",
       "\n",
       "    .dataframe thead th {\n",
       "        text-align: right;\n",
       "    }\n",
       "</style>\n",
       "<table border=\"1\" class=\"dataframe\">\n",
       "  <thead>\n",
       "    <tr style=\"text-align: right;\">\n",
       "      <th></th>\n",
       "      <th>Hypothesis</th>\n",
       "      <th>Reach</th>\n",
       "      <th>Impact</th>\n",
       "      <th>Confidence</th>\n",
       "      <th>Efforts</th>\n",
       "      <th>ICE</th>\n",
       "      <th>RICE</th>\n",
       "    </tr>\n",
       "  </thead>\n",
       "  <tbody>\n",
       "    <tr>\n",
       "      <th>7</th>\n",
       "      <td>Добавить форму подписки на все основные страницы, чтобы собрать базу клиентов для email-рассылок</td>\n",
       "      <td>10</td>\n",
       "      <td>7</td>\n",
       "      <td>8</td>\n",
       "      <td>5</td>\n",
       "      <td>11.200</td>\n",
       "      <td>112.0</td>\n",
       "    </tr>\n",
       "    <tr>\n",
       "      <th>2</th>\n",
       "      <td>Добавить блоки рекомендаций товаров на сайт интернет магазина, чтобы повысить конверсию и средний чек заказа</td>\n",
       "      <td>8</td>\n",
       "      <td>3</td>\n",
       "      <td>7</td>\n",
       "      <td>3</td>\n",
       "      <td>7.000</td>\n",
       "      <td>56.0</td>\n",
       "    </tr>\n",
       "    <tr>\n",
       "      <th>0</th>\n",
       "      <td>Добавить два новых канала привлечения трафика, что позволит привлекать на 30% больше пользователей</td>\n",
       "      <td>3</td>\n",
       "      <td>10</td>\n",
       "      <td>8</td>\n",
       "      <td>6</td>\n",
       "      <td>13.333</td>\n",
       "      <td>40.0</td>\n",
       "    </tr>\n",
       "    <tr>\n",
       "      <th>6</th>\n",
       "      <td>Показать на главной странице баннеры с актуальными акциями и распродажами, чтобы увеличить конверсию</td>\n",
       "      <td>5</td>\n",
       "      <td>3</td>\n",
       "      <td>8</td>\n",
       "      <td>3</td>\n",
       "      <td>8.000</td>\n",
       "      <td>40.0</td>\n",
       "    </tr>\n",
       "    <tr>\n",
       "      <th>8</th>\n",
       "      <td>Запустить акцию, дающую скидку на товар в день рождения</td>\n",
       "      <td>1</td>\n",
       "      <td>9</td>\n",
       "      <td>9</td>\n",
       "      <td>5</td>\n",
       "      <td>16.200</td>\n",
       "      <td>16.2</td>\n",
       "    </tr>\n",
       "    <tr>\n",
       "      <th>3</th>\n",
       "      <td>Изменить структура категорий, что увеличит конверсию, т.к. пользователи быстрее найдут нужный товар</td>\n",
       "      <td>8</td>\n",
       "      <td>3</td>\n",
       "      <td>3</td>\n",
       "      <td>8</td>\n",
       "      <td>1.125</td>\n",
       "      <td>9.0</td>\n",
       "    </tr>\n",
       "    <tr>\n",
       "      <th>1</th>\n",
       "      <td>Запустить собственную службу доставки, что сократит срок доставки заказов</td>\n",
       "      <td>2</td>\n",
       "      <td>5</td>\n",
       "      <td>4</td>\n",
       "      <td>10</td>\n",
       "      <td>2.000</td>\n",
       "      <td>4.0</td>\n",
       "    </tr>\n",
       "    <tr>\n",
       "      <th>5</th>\n",
       "      <td>Добавить страницу отзывов клиентов о магазине, что позволит увеличить количество заказов</td>\n",
       "      <td>3</td>\n",
       "      <td>2</td>\n",
       "      <td>2</td>\n",
       "      <td>3</td>\n",
       "      <td>1.333</td>\n",
       "      <td>4.0</td>\n",
       "    </tr>\n",
       "    <tr>\n",
       "      <th>4</th>\n",
       "      <td>Изменить цвет фона главной страницы, чтобы увеличить вовлеченность пользователей</td>\n",
       "      <td>3</td>\n",
       "      <td>1</td>\n",
       "      <td>1</td>\n",
       "      <td>1</td>\n",
       "      <td>1.000</td>\n",
       "      <td>3.0</td>\n",
       "    </tr>\n",
       "  </tbody>\n",
       "</table>\n",
       "</div>"
      ],
      "text/plain": [
       "                                                                                                     Hypothesis  \\\n",
       "7  Добавить форму подписки на все основные страницы, чтобы собрать базу клиентов для email-рассылок               \n",
       "2  Добавить блоки рекомендаций товаров на сайт интернет магазина, чтобы повысить конверсию и средний чек заказа   \n",
       "0  Добавить два новых канала привлечения трафика, что позволит привлекать на 30% больше пользователей             \n",
       "6  Показать на главной странице баннеры с актуальными акциями и распродажами, чтобы увеличить конверсию           \n",
       "8  Запустить акцию, дающую скидку на товар в день рождения                                                        \n",
       "3  Изменить структура категорий, что увеличит конверсию, т.к. пользователи быстрее найдут нужный товар            \n",
       "1  Запустить собственную службу доставки, что сократит срок доставки заказов                                      \n",
       "5  Добавить страницу отзывов клиентов о магазине, что позволит увеличить количество заказов                       \n",
       "4  Изменить цвет фона главной страницы, чтобы увеличить вовлеченность пользователей                               \n",
       "\n",
       "   Reach  Impact  Confidence  Efforts     ICE   RICE  \n",
       "7  10     7       8           5        11.200  112.0  \n",
       "2  8      3       7           3        7.000   56.0   \n",
       "0  3      10      8           6        13.333  40.0   \n",
       "6  5      3       8           3        8.000   40.0   \n",
       "8  1      9       9           5        16.200  16.2   \n",
       "3  8      3       3           8        1.125   9.0    \n",
       "1  2      5       4           10       2.000   4.0    \n",
       "5  3      2       2           3        1.333   4.0    \n",
       "4  3      1       1           1        1.000   3.0    "
      ]
     },
     "execution_count": 6,
     "metadata": {},
     "output_type": "execute_result"
    }
   ],
   "source": [
    "data['RICE'] = (data['Reach'] * data['Impact'] * data['Confidence'])/data['Efforts']\n",
    "data.sort_values('RICE', ascending=False)"
   ]
  },
  {
   "cell_type": "markdown",
   "metadata": {},
   "source": [
    "Здесь же гипотеза под номером 7 имеет первый приоритет. Она имеет 10 из 10 по показателю Reach. За седьмой идут гипотезы 2 и 0."
   ]
  },
  {
   "cell_type": "markdown",
   "metadata": {},
   "source": [
    "Приоритизация гипотез заметно отличается в зависимости от фреймворка. Это объясняется тем, что при использовании RICE, мы начинаем учитывать параметр Reach, который игнорируется при использовании ICE. Из-за этого некоторые гипотезы, которые имеют невысокие показатели по ICE, становятся приоритетными по RICE."
   ]
  },
  {
   "cell_type": "markdown",
   "metadata": {},
   "source": [
    "Выбирая одну гипотезу из всех, разумно всерьез рассмотреть гипотезу под номером 7. По RICE она занимает 1 место, а по ICE 3 место. Также, имеет потенциал гипотеза под номером 0. У нее 2 место по ICE и 3 место по RICE."
   ]
  },
  {
   "cell_type": "markdown",
   "metadata": {},
   "source": [
    "# Этап 2"
   ]
  },
  {
   "cell_type": "code",
   "execution_count": 7,
   "metadata": {},
   "outputs": [],
   "source": [
    "orders = pd.read_csv('/datasets/orders.csv')\n",
    "visitors = pd.read_csv('/datasets/visitors.csv')"
   ]
  },
  {
   "cell_type": "code",
   "execution_count": 8,
   "metadata": {},
   "outputs": [
    {
     "data": {
      "text/html": [
       "<div>\n",
       "<style scoped>\n",
       "    .dataframe tbody tr th:only-of-type {\n",
       "        vertical-align: middle;\n",
       "    }\n",
       "\n",
       "    .dataframe tbody tr th {\n",
       "        vertical-align: top;\n",
       "    }\n",
       "\n",
       "    .dataframe thead th {\n",
       "        text-align: right;\n",
       "    }\n",
       "</style>\n",
       "<table border=\"1\" class=\"dataframe\">\n",
       "  <thead>\n",
       "    <tr style=\"text-align: right;\">\n",
       "      <th></th>\n",
       "      <th>transactionId</th>\n",
       "      <th>visitorId</th>\n",
       "      <th>date</th>\n",
       "      <th>revenue</th>\n",
       "      <th>group</th>\n",
       "    </tr>\n",
       "  </thead>\n",
       "  <tbody>\n",
       "    <tr>\n",
       "      <th>0</th>\n",
       "      <td>3667963787</td>\n",
       "      <td>3312258926</td>\n",
       "      <td>2019-08-15</td>\n",
       "      <td>1650</td>\n",
       "      <td>B</td>\n",
       "    </tr>\n",
       "    <tr>\n",
       "      <th>1</th>\n",
       "      <td>2804400009</td>\n",
       "      <td>3642806036</td>\n",
       "      <td>2019-08-15</td>\n",
       "      <td>730</td>\n",
       "      <td>B</td>\n",
       "    </tr>\n",
       "    <tr>\n",
       "      <th>2</th>\n",
       "      <td>2961555356</td>\n",
       "      <td>4069496402</td>\n",
       "      <td>2019-08-15</td>\n",
       "      <td>400</td>\n",
       "      <td>A</td>\n",
       "    </tr>\n",
       "    <tr>\n",
       "      <th>3</th>\n",
       "      <td>3797467345</td>\n",
       "      <td>1196621759</td>\n",
       "      <td>2019-08-15</td>\n",
       "      <td>9759</td>\n",
       "      <td>B</td>\n",
       "    </tr>\n",
       "    <tr>\n",
       "      <th>4</th>\n",
       "      <td>2282983706</td>\n",
       "      <td>2322279887</td>\n",
       "      <td>2019-08-15</td>\n",
       "      <td>2308</td>\n",
       "      <td>B</td>\n",
       "    </tr>\n",
       "  </tbody>\n",
       "</table>\n",
       "</div>"
      ],
      "text/plain": [
       "   transactionId   visitorId        date  revenue group\n",
       "0  3667963787     3312258926  2019-08-15  1650     B   \n",
       "1  2804400009     3642806036  2019-08-15  730      B   \n",
       "2  2961555356     4069496402  2019-08-15  400      A   \n",
       "3  3797467345     1196621759  2019-08-15  9759     B   \n",
       "4  2282983706     2322279887  2019-08-15  2308     B   "
      ]
     },
     "execution_count": 8,
     "metadata": {},
     "output_type": "execute_result"
    }
   ],
   "source": [
    "orders.head()"
   ]
  },
  {
   "cell_type": "code",
   "execution_count": 9,
   "metadata": {},
   "outputs": [
    {
     "name": "stdout",
     "output_type": "stream",
     "text": [
      "<class 'pandas.core.frame.DataFrame'>\n",
      "RangeIndex: 1197 entries, 0 to 1196\n",
      "Data columns (total 5 columns):\n",
      " #   Column         Non-Null Count  Dtype \n",
      "---  ------         --------------  ----- \n",
      " 0   transactionId  1197 non-null   int64 \n",
      " 1   visitorId      1197 non-null   int64 \n",
      " 2   date           1197 non-null   object\n",
      " 3   revenue        1197 non-null   int64 \n",
      " 4   group          1197 non-null   object\n",
      "dtypes: int64(3), object(2)\n",
      "memory usage: 46.9+ KB\n"
     ]
    }
   ],
   "source": [
    "orders.info()"
   ]
  },
  {
   "cell_type": "code",
   "execution_count": 10,
   "metadata": {},
   "outputs": [
    {
     "data": {
      "text/plain": [
       "0"
      ]
     },
     "execution_count": 10,
     "metadata": {},
     "output_type": "execute_result"
    }
   ],
   "source": [
    "orders.duplicated().sum()"
   ]
  },
  {
   "cell_type": "markdown",
   "metadata": {},
   "source": [
    "В таблице orders с данными порядок."
   ]
  },
  {
   "cell_type": "code",
   "execution_count": 11,
   "metadata": {},
   "outputs": [
    {
     "data": {
      "text/html": [
       "<div>\n",
       "<style scoped>\n",
       "    .dataframe tbody tr th:only-of-type {\n",
       "        vertical-align: middle;\n",
       "    }\n",
       "\n",
       "    .dataframe tbody tr th {\n",
       "        vertical-align: top;\n",
       "    }\n",
       "\n",
       "    .dataframe thead th {\n",
       "        text-align: right;\n",
       "    }\n",
       "</style>\n",
       "<table border=\"1\" class=\"dataframe\">\n",
       "  <thead>\n",
       "    <tr style=\"text-align: right;\">\n",
       "      <th></th>\n",
       "      <th>date</th>\n",
       "      <th>group</th>\n",
       "      <th>visitors</th>\n",
       "    </tr>\n",
       "  </thead>\n",
       "  <tbody>\n",
       "    <tr>\n",
       "      <th>0</th>\n",
       "      <td>2019-08-01</td>\n",
       "      <td>A</td>\n",
       "      <td>719</td>\n",
       "    </tr>\n",
       "    <tr>\n",
       "      <th>1</th>\n",
       "      <td>2019-08-02</td>\n",
       "      <td>A</td>\n",
       "      <td>619</td>\n",
       "    </tr>\n",
       "    <tr>\n",
       "      <th>2</th>\n",
       "      <td>2019-08-03</td>\n",
       "      <td>A</td>\n",
       "      <td>507</td>\n",
       "    </tr>\n",
       "    <tr>\n",
       "      <th>3</th>\n",
       "      <td>2019-08-04</td>\n",
       "      <td>A</td>\n",
       "      <td>717</td>\n",
       "    </tr>\n",
       "    <tr>\n",
       "      <th>4</th>\n",
       "      <td>2019-08-05</td>\n",
       "      <td>A</td>\n",
       "      <td>756</td>\n",
       "    </tr>\n",
       "  </tbody>\n",
       "</table>\n",
       "</div>"
      ],
      "text/plain": [
       "         date group  visitors\n",
       "0  2019-08-01  A     719     \n",
       "1  2019-08-02  A     619     \n",
       "2  2019-08-03  A     507     \n",
       "3  2019-08-04  A     717     \n",
       "4  2019-08-05  A     756     "
      ]
     },
     "execution_count": 11,
     "metadata": {},
     "output_type": "execute_result"
    }
   ],
   "source": [
    "visitors.head()"
   ]
  },
  {
   "cell_type": "code",
   "execution_count": 12,
   "metadata": {},
   "outputs": [
    {
     "name": "stdout",
     "output_type": "stream",
     "text": [
      "<class 'pandas.core.frame.DataFrame'>\n",
      "RangeIndex: 62 entries, 0 to 61\n",
      "Data columns (total 3 columns):\n",
      " #   Column    Non-Null Count  Dtype \n",
      "---  ------    --------------  ----- \n",
      " 0   date      62 non-null     object\n",
      " 1   group     62 non-null     object\n",
      " 2   visitors  62 non-null     int64 \n",
      "dtypes: int64(1), object(2)\n",
      "memory usage: 1.6+ KB\n"
     ]
    }
   ],
   "source": [
    "visitors.info()"
   ]
  },
  {
   "cell_type": "code",
   "execution_count": 13,
   "metadata": {},
   "outputs": [
    {
     "data": {
      "text/plain": [
       "0"
      ]
     },
     "execution_count": 13,
     "metadata": {},
     "output_type": "execute_result"
    }
   ],
   "source": [
    "visitors.duplicated().sum()"
   ]
  },
  {
   "cell_type": "markdown",
   "metadata": {},
   "source": [
    "В таблице visitors так же все хорошо."
   ]
  },
  {
   "cell_type": "code",
   "execution_count": 14,
   "metadata": {},
   "outputs": [
    {
     "data": {
      "text/plain": [
       "503"
      ]
     },
     "execution_count": 14,
     "metadata": {},
     "output_type": "execute_result"
    }
   ],
   "source": [
    "#orders[['visitorId', 'group']].query('group == \"A\"')\n",
    "visitors_A = orders[['visitorId', 'group']].query('group == \"A\"')['visitorId'].unique()\n",
    "len(visitors_A)"
   ]
  },
  {
   "cell_type": "code",
   "execution_count": 15,
   "metadata": {},
   "outputs": [
    {
     "data": {
      "text/plain": [
       "586"
      ]
     },
     "execution_count": 15,
     "metadata": {},
     "output_type": "execute_result"
    }
   ],
   "source": [
    "visitors_B = orders[['visitorId', 'group']].query('group == \"B\"')['visitorId'].unique()\n",
    "len(visitors_B)"
   ]
  },
  {
   "cell_type": "code",
   "execution_count": 16,
   "metadata": {},
   "outputs": [
    {
     "data": {
      "text/plain": [
       "58"
      ]
     },
     "execution_count": 16,
     "metadata": {},
     "output_type": "execute_result"
    }
   ],
   "source": [
    "visitors_AB = list(set(visitors_A) & set(visitors_B))\n",
    "len(visitors_AB)"
   ]
  },
  {
   "cell_type": "markdown",
   "metadata": {},
   "source": [
    "Имеются пользователи, которые находятся и в группе А и в группе В. Таких 58. Исключим их из анализа."
   ]
  },
  {
   "cell_type": "code",
   "execution_count": 17,
   "metadata": {},
   "outputs": [],
   "source": [
    "orders = orders.loc[~orders['visitorId'].isin(visitors_AB)]"
   ]
  },
  {
   "cell_type": "code",
   "execution_count": 18,
   "metadata": {},
   "outputs": [
    {
     "data": {
      "text/html": [
       "<div>\n",
       "<style scoped>\n",
       "    .dataframe tbody tr th:only-of-type {\n",
       "        vertical-align: middle;\n",
       "    }\n",
       "\n",
       "    .dataframe tbody tr th {\n",
       "        vertical-align: top;\n",
       "    }\n",
       "\n",
       "    .dataframe thead th {\n",
       "        text-align: right;\n",
       "    }\n",
       "</style>\n",
       "<table border=\"1\" class=\"dataframe\">\n",
       "  <thead>\n",
       "    <tr style=\"text-align: right;\">\n",
       "      <th></th>\n",
       "      <th>transactionId</th>\n",
       "      <th>visitorId</th>\n",
       "      <th>date</th>\n",
       "      <th>revenue</th>\n",
       "      <th>group</th>\n",
       "    </tr>\n",
       "  </thead>\n",
       "  <tbody>\n",
       "    <tr>\n",
       "      <th>0</th>\n",
       "      <td>3667963787</td>\n",
       "      <td>3312258926</td>\n",
       "      <td>2019-08-15</td>\n",
       "      <td>1650</td>\n",
       "      <td>B</td>\n",
       "    </tr>\n",
       "    <tr>\n",
       "      <th>1</th>\n",
       "      <td>2804400009</td>\n",
       "      <td>3642806036</td>\n",
       "      <td>2019-08-15</td>\n",
       "      <td>730</td>\n",
       "      <td>B</td>\n",
       "    </tr>\n",
       "    <tr>\n",
       "      <th>3</th>\n",
       "      <td>3797467345</td>\n",
       "      <td>1196621759</td>\n",
       "      <td>2019-08-15</td>\n",
       "      <td>9759</td>\n",
       "      <td>B</td>\n",
       "    </tr>\n",
       "    <tr>\n",
       "      <th>4</th>\n",
       "      <td>2282983706</td>\n",
       "      <td>2322279887</td>\n",
       "      <td>2019-08-15</td>\n",
       "      <td>2308</td>\n",
       "      <td>B</td>\n",
       "    </tr>\n",
       "    <tr>\n",
       "      <th>5</th>\n",
       "      <td>182168103</td>\n",
       "      <td>935554773</td>\n",
       "      <td>2019-08-15</td>\n",
       "      <td>2210</td>\n",
       "      <td>B</td>\n",
       "    </tr>\n",
       "    <tr>\n",
       "      <th>6</th>\n",
       "      <td>398296753</td>\n",
       "      <td>2900797465</td>\n",
       "      <td>2019-08-15</td>\n",
       "      <td>1860</td>\n",
       "      <td>B</td>\n",
       "    </tr>\n",
       "    <tr>\n",
       "      <th>7</th>\n",
       "      <td>2626614568</td>\n",
       "      <td>78758296</td>\n",
       "      <td>2019-08-15</td>\n",
       "      <td>1044</td>\n",
       "      <td>A</td>\n",
       "    </tr>\n",
       "    <tr>\n",
       "      <th>8</th>\n",
       "      <td>1576988021</td>\n",
       "      <td>295230930</td>\n",
       "      <td>2019-08-15</td>\n",
       "      <td>13710</td>\n",
       "      <td>A</td>\n",
       "    </tr>\n",
       "    <tr>\n",
       "      <th>9</th>\n",
       "      <td>1506739906</td>\n",
       "      <td>1882260405</td>\n",
       "      <td>2019-08-15</td>\n",
       "      <td>1855</td>\n",
       "      <td>B</td>\n",
       "    </tr>\n",
       "    <tr>\n",
       "      <th>10</th>\n",
       "      <td>3649131742</td>\n",
       "      <td>879864040</td>\n",
       "      <td>2019-08-15</td>\n",
       "      <td>4008</td>\n",
       "      <td>A</td>\n",
       "    </tr>\n",
       "  </tbody>\n",
       "</table>\n",
       "</div>"
      ],
      "text/plain": [
       "    transactionId   visitorId        date  revenue group\n",
       "0   3667963787     3312258926  2019-08-15  1650     B   \n",
       "1   2804400009     3642806036  2019-08-15  730      B   \n",
       "3   3797467345     1196621759  2019-08-15  9759     B   \n",
       "4   2282983706     2322279887  2019-08-15  2308     B   \n",
       "5   182168103      935554773   2019-08-15  2210     B   \n",
       "6   398296753      2900797465  2019-08-15  1860     B   \n",
       "7   2626614568     78758296    2019-08-15  1044     A   \n",
       "8   1576988021     295230930   2019-08-15  13710    A   \n",
       "9   1506739906     1882260405  2019-08-15  1855     B   \n",
       "10  3649131742     879864040   2019-08-15  4008     A   "
      ]
     },
     "execution_count": 18,
     "metadata": {},
     "output_type": "execute_result"
    }
   ],
   "source": [
    "orders.head(10)"
   ]
  },
  {
   "cell_type": "markdown",
   "metadata": {},
   "source": [
    "Подготовим данные для дальнейших действий."
   ]
  },
  {
   "cell_type": "code",
   "execution_count": 19,
   "metadata": {
    "scrolled": true
   },
   "outputs": [
    {
     "data": {
      "text/html": [
       "<div>\n",
       "<style scoped>\n",
       "    .dataframe tbody tr th:only-of-type {\n",
       "        vertical-align: middle;\n",
       "    }\n",
       "\n",
       "    .dataframe tbody tr th {\n",
       "        vertical-align: top;\n",
       "    }\n",
       "\n",
       "    .dataframe thead th {\n",
       "        text-align: right;\n",
       "    }\n",
       "</style>\n",
       "<table border=\"1\" class=\"dataframe\">\n",
       "  <thead>\n",
       "    <tr style=\"text-align: right;\">\n",
       "      <th></th>\n",
       "      <th>date</th>\n",
       "      <th>ordersPerDateA</th>\n",
       "      <th>revenuePerDateA</th>\n",
       "      <th>ordersPerDateB</th>\n",
       "      <th>revenuePerDateB</th>\n",
       "      <th>ordersCummulativeA</th>\n",
       "      <th>revenueCummulativeA</th>\n",
       "      <th>ordersCummulativeB</th>\n",
       "      <th>revenueCummulativeB</th>\n",
       "      <th>visitorsPerDateA</th>\n",
       "      <th>visitorsPerDateB</th>\n",
       "      <th>visitorsCummulativeA</th>\n",
       "      <th>visitorsCummulativeB</th>\n",
       "    </tr>\n",
       "  </thead>\n",
       "  <tbody>\n",
       "    <tr>\n",
       "      <th>0</th>\n",
       "      <td>2019-08-01</td>\n",
       "      <td>23</td>\n",
       "      <td>142779</td>\n",
       "      <td>17</td>\n",
       "      <td>59758</td>\n",
       "      <td>23</td>\n",
       "      <td>142779</td>\n",
       "      <td>17</td>\n",
       "      <td>59758</td>\n",
       "      <td>719</td>\n",
       "      <td>713</td>\n",
       "      <td>719</td>\n",
       "      <td>713</td>\n",
       "    </tr>\n",
       "    <tr>\n",
       "      <th>1</th>\n",
       "      <td>2019-08-02</td>\n",
       "      <td>19</td>\n",
       "      <td>91602</td>\n",
       "      <td>23</td>\n",
       "      <td>162043</td>\n",
       "      <td>42</td>\n",
       "      <td>234381</td>\n",
       "      <td>40</td>\n",
       "      <td>221801</td>\n",
       "      <td>619</td>\n",
       "      <td>581</td>\n",
       "      <td>1338</td>\n",
       "      <td>1294</td>\n",
       "    </tr>\n",
       "    <tr>\n",
       "      <th>2</th>\n",
       "      <td>2019-08-03</td>\n",
       "      <td>24</td>\n",
       "      <td>112473</td>\n",
       "      <td>14</td>\n",
       "      <td>67049</td>\n",
       "      <td>66</td>\n",
       "      <td>346854</td>\n",
       "      <td>54</td>\n",
       "      <td>288850</td>\n",
       "      <td>507</td>\n",
       "      <td>509</td>\n",
       "      <td>1845</td>\n",
       "      <td>1803</td>\n",
       "    </tr>\n",
       "    <tr>\n",
       "      <th>3</th>\n",
       "      <td>2019-08-04</td>\n",
       "      <td>11</td>\n",
       "      <td>41176</td>\n",
       "      <td>14</td>\n",
       "      <td>96890</td>\n",
       "      <td>77</td>\n",
       "      <td>388030</td>\n",
       "      <td>68</td>\n",
       "      <td>385740</td>\n",
       "      <td>717</td>\n",
       "      <td>770</td>\n",
       "      <td>2562</td>\n",
       "      <td>2573</td>\n",
       "    </tr>\n",
       "    <tr>\n",
       "      <th>4</th>\n",
       "      <td>2019-08-05</td>\n",
       "      <td>22</td>\n",
       "      <td>86383</td>\n",
       "      <td>21</td>\n",
       "      <td>89908</td>\n",
       "      <td>99</td>\n",
       "      <td>474413</td>\n",
       "      <td>89</td>\n",
       "      <td>475648</td>\n",
       "      <td>756</td>\n",
       "      <td>707</td>\n",
       "      <td>3318</td>\n",
       "      <td>3280</td>\n",
       "    </tr>\n",
       "  </tbody>\n",
       "</table>\n",
       "</div>"
      ],
      "text/plain": [
       "         date  ordersPerDateA  revenuePerDateA  ordersPerDateB  \\\n",
       "0  2019-08-01  23              142779           17               \n",
       "1  2019-08-02  19              91602            23               \n",
       "2  2019-08-03  24              112473           14               \n",
       "3  2019-08-04  11              41176            14               \n",
       "4  2019-08-05  22              86383            21               \n",
       "\n",
       "   revenuePerDateB  ordersCummulativeA  revenueCummulativeA  \\\n",
       "0  59758            23                  142779                \n",
       "1  162043           42                  234381                \n",
       "2  67049            66                  346854                \n",
       "3  96890            77                  388030                \n",
       "4  89908            99                  474413                \n",
       "\n",
       "   ordersCummulativeB  revenueCummulativeB  visitorsPerDateA  \\\n",
       "0  17                  59758                719                \n",
       "1  40                  221801               619                \n",
       "2  54                  288850               507                \n",
       "3  68                  385740               717                \n",
       "4  89                  475648               756                \n",
       "\n",
       "   visitorsPerDateB  visitorsCummulativeA  visitorsCummulativeB  \n",
       "0  713               719                   713                   \n",
       "1  581               1338                  1294                  \n",
       "2  509               1845                  1803                  \n",
       "3  770               2562                  2573                  \n",
       "4  707               3318                  3280                  "
      ]
     },
     "execution_count": 19,
     "metadata": {},
     "output_type": "execute_result"
    }
   ],
   "source": [
    "visitorsADaily = visitors[visitors['group'] == 'A'][['date', 'visitors']]\n",
    "visitorsADaily.columns = ['date', 'visitorsPerDateA']\n",
    "\n",
    "visitorsACummulative = visitorsADaily.apply(\n",
    "    lambda x: visitorsADaily[visitorsADaily['date'] <= x['date']].agg(\n",
    "        {'date': 'max', 'visitorsPerDateA': 'sum'}\n",
    "    ),\n",
    "    axis=1,\n",
    ")\n",
    "visitorsACummulative.columns = ['date', 'visitorsCummulativeA']\n",
    "\n",
    "visitorsBDaily = visitors[visitors['group'] == 'B'][['date', 'visitors']]\n",
    "visitorsBDaily.columns = ['date', 'visitorsPerDateB']\n",
    "\n",
    "visitorsBCummulative = visitorsBDaily.apply(\n",
    "    lambda x: visitorsBDaily[visitorsBDaily['date'] <= x['date']].agg(\n",
    "        {'date': 'max', 'visitorsPerDateB': 'sum'}\n",
    "    ),\n",
    "    axis=1,\n",
    ")\n",
    "visitorsBCummulative.columns = ['date', 'visitorsCummulativeB']\n",
    "\n",
    "ordersADaily = (\n",
    "    orders[orders['group'] == 'A'][['date', 'transactionId', 'visitorId', 'revenue']]\n",
    "    .groupby('date', as_index=False)\n",
    "    .agg({'transactionId': pd.Series.nunique, 'revenue': 'sum'})\n",
    ")\n",
    "ordersADaily.columns = ['date', 'ordersPerDateA', 'revenuePerDateA']\n",
    "\n",
    "ordersACummulative = ordersADaily.apply(\n",
    "    lambda x: ordersADaily[ordersADaily['date'] <= x['date']].agg(\n",
    "        {'date': 'max', 'ordersPerDateA': 'sum', 'revenuePerDateA': 'sum'}\n",
    "    ),\n",
    "    axis=1,\n",
    ").sort_values(by=['date'])\n",
    "ordersACummulative.columns = [\n",
    "    'date',\n",
    "    'ordersCummulativeA',\n",
    "    'revenueCummulativeA',\n",
    "]\n",
    "\n",
    "ordersBDaily = (\n",
    "    orders[orders['group'] == 'B'][['date', 'transactionId', 'visitorId', 'revenue']]\n",
    "    .groupby('date', as_index=False)\n",
    "    .agg({'transactionId': pd.Series.nunique, 'revenue': 'sum'})\n",
    ")\n",
    "ordersBDaily.columns = ['date', 'ordersPerDateB', 'revenuePerDateB']\n",
    "\n",
    "ordersBCummulative = ordersBDaily.apply(\n",
    "    lambda x: ordersBDaily[ordersBDaily['date'] <= x['date']].agg(\n",
    "        {'date': 'max', 'ordersPerDateB': 'sum', 'revenuePerDateB': 'sum'}\n",
    "    ),\n",
    "    axis=1,\n",
    ").sort_values(by=['date'])\n",
    "ordersBCummulative.columns = [\n",
    "    'date',\n",
    "    'ordersCummulativeB',\n",
    "    'revenueCummulativeB',\n",
    "]\n",
    "\n",
    "data = (\n",
    "    ordersADaily.merge(\n",
    "        ordersBDaily, left_on='date', right_on='date', how='left'\n",
    "    )\n",
    "    .merge(ordersACummulative, left_on='date', right_on='date', how='left')\n",
    "    .merge(ordersBCummulative, left_on='date', right_on='date', how='left')\n",
    "    .merge(visitorsADaily, left_on='date', right_on='date', how='left')\n",
    "    .merge(visitorsBDaily, left_on='date', right_on='date', how='left')\n",
    "    .merge(visitorsACummulative, left_on='date', right_on='date', how='left')\n",
    "    .merge(visitorsBCummulative, left_on='date', right_on='date', how='left')\n",
    ")\n",
    "\n",
    "data.head(5)"
   ]
  },
  {
   "cell_type": "code",
   "execution_count": 20,
   "metadata": {},
   "outputs": [],
   "source": [
    "# создаем массив уникальных пар значений дат и групп теста\n",
    "datesGroups = orders[['date','group']].drop_duplicates()"
   ]
  },
  {
   "cell_type": "code",
   "execution_count": 21,
   "metadata": {},
   "outputs": [],
   "source": [
    "ordersAggregated = datesGroups.apply(lambda x: orders[np.logical_and(orders['date'] <= x['date'], orders['group'] == x['group'])]\\\n",
    ".agg({'date' : 'max', 'group' : 'max', 'transactionId' : 'nunique', 'visitorId' : 'nunique', 'revenue' : 'sum'}), axis=1).sort_values(by=['date','group'])"
   ]
  },
  {
   "cell_type": "code",
   "execution_count": 22,
   "metadata": {},
   "outputs": [],
   "source": [
    "visitorsAggregated = datesGroups.apply(lambda x: visitors[np.logical_and(visitors['date'] <= x['date'], visitors['group'] == x['group'])].agg({'date' : 'max', 'group' : 'max', 'visitors' : 'sum'}), axis=1).sort_values(by=['date','group'])"
   ]
  },
  {
   "cell_type": "code",
   "execution_count": 23,
   "metadata": {},
   "outputs": [
    {
     "data": {
      "text/html": [
       "<div>\n",
       "<style scoped>\n",
       "    .dataframe tbody tr th:only-of-type {\n",
       "        vertical-align: middle;\n",
       "    }\n",
       "\n",
       "    .dataframe tbody tr th {\n",
       "        vertical-align: top;\n",
       "    }\n",
       "\n",
       "    .dataframe thead th {\n",
       "        text-align: right;\n",
       "    }\n",
       "</style>\n",
       "<table border=\"1\" class=\"dataframe\">\n",
       "  <thead>\n",
       "    <tr style=\"text-align: right;\">\n",
       "      <th></th>\n",
       "      <th>date</th>\n",
       "      <th>group</th>\n",
       "      <th>orders</th>\n",
       "      <th>buyers</th>\n",
       "      <th>revenue</th>\n",
       "      <th>visitors</th>\n",
       "    </tr>\n",
       "  </thead>\n",
       "  <tbody>\n",
       "    <tr>\n",
       "      <th>0</th>\n",
       "      <td>2019-08-01</td>\n",
       "      <td>A</td>\n",
       "      <td>23</td>\n",
       "      <td>19</td>\n",
       "      <td>142779</td>\n",
       "      <td>719</td>\n",
       "    </tr>\n",
       "    <tr>\n",
       "      <th>1</th>\n",
       "      <td>2019-08-01</td>\n",
       "      <td>B</td>\n",
       "      <td>17</td>\n",
       "      <td>17</td>\n",
       "      <td>59758</td>\n",
       "      <td>713</td>\n",
       "    </tr>\n",
       "    <tr>\n",
       "      <th>2</th>\n",
       "      <td>2019-08-02</td>\n",
       "      <td>A</td>\n",
       "      <td>42</td>\n",
       "      <td>36</td>\n",
       "      <td>234381</td>\n",
       "      <td>1338</td>\n",
       "    </tr>\n",
       "    <tr>\n",
       "      <th>3</th>\n",
       "      <td>2019-08-02</td>\n",
       "      <td>B</td>\n",
       "      <td>40</td>\n",
       "      <td>39</td>\n",
       "      <td>221801</td>\n",
       "      <td>1294</td>\n",
       "    </tr>\n",
       "    <tr>\n",
       "      <th>4</th>\n",
       "      <td>2019-08-03</td>\n",
       "      <td>A</td>\n",
       "      <td>66</td>\n",
       "      <td>60</td>\n",
       "      <td>346854</td>\n",
       "      <td>1845</td>\n",
       "    </tr>\n",
       "    <tr>\n",
       "      <th>...</th>\n",
       "      <td>...</td>\n",
       "      <td>...</td>\n",
       "      <td>...</td>\n",
       "      <td>...</td>\n",
       "      <td>...</td>\n",
       "      <td>...</td>\n",
       "    </tr>\n",
       "    <tr>\n",
       "      <th>57</th>\n",
       "      <td>2019-08-29</td>\n",
       "      <td>B</td>\n",
       "      <td>510</td>\n",
       "      <td>490</td>\n",
       "      <td>4746610</td>\n",
       "      <td>17708</td>\n",
       "    </tr>\n",
       "    <tr>\n",
       "      <th>58</th>\n",
       "      <td>2019-08-30</td>\n",
       "      <td>A</td>\n",
       "      <td>460</td>\n",
       "      <td>437</td>\n",
       "      <td>3311413</td>\n",
       "      <td>18037</td>\n",
       "    </tr>\n",
       "    <tr>\n",
       "      <th>59</th>\n",
       "      <td>2019-08-30</td>\n",
       "      <td>B</td>\n",
       "      <td>531</td>\n",
       "      <td>511</td>\n",
       "      <td>4955833</td>\n",
       "      <td>18198</td>\n",
       "    </tr>\n",
       "    <tr>\n",
       "      <th>60</th>\n",
       "      <td>2019-08-31</td>\n",
       "      <td>A</td>\n",
       "      <td>468</td>\n",
       "      <td>445</td>\n",
       "      <td>3364656</td>\n",
       "      <td>18736</td>\n",
       "    </tr>\n",
       "    <tr>\n",
       "      <th>61</th>\n",
       "      <td>2019-08-31</td>\n",
       "      <td>B</td>\n",
       "      <td>548</td>\n",
       "      <td>528</td>\n",
       "      <td>5068972</td>\n",
       "      <td>18916</td>\n",
       "    </tr>\n",
       "  </tbody>\n",
       "</table>\n",
       "<p>62 rows × 6 columns</p>\n",
       "</div>"
      ],
      "text/plain": [
       "          date group  orders  buyers  revenue  visitors\n",
       "0   2019-08-01  A     23      19      142779   719     \n",
       "1   2019-08-01  B     17      17      59758    713     \n",
       "2   2019-08-02  A     42      36      234381   1338    \n",
       "3   2019-08-02  B     40      39      221801   1294    \n",
       "4   2019-08-03  A     66      60      346854   1845    \n",
       "..         ... ..     ..      ..         ...    ...    \n",
       "57  2019-08-29  B     510     490     4746610  17708   \n",
       "58  2019-08-30  A     460     437     3311413  18037   \n",
       "59  2019-08-30  B     531     511     4955833  18198   \n",
       "60  2019-08-31  A     468     445     3364656  18736   \n",
       "61  2019-08-31  B     548     528     5068972  18916   \n",
       "\n",
       "[62 rows x 6 columns]"
      ]
     },
     "execution_count": 23,
     "metadata": {},
     "output_type": "execute_result"
    }
   ],
   "source": [
    "# создаем массив уникальных пар значений дат и групп теста\n",
    "datesGroups = orders[['date','group']].drop_duplicates()\n",
    "\n",
    "# получаем агрегированные кумулятивные по дням данные о заказах \n",
    "ordersAggregated = datesGroups.apply(lambda x: orders[np.logical_and(orders['date'] <= x['date'], orders['group'] == x['group'])].agg({'date' : 'max', 'group' : 'max', 'transactionId' : 'nunique', 'visitorId' : 'nunique', 'revenue' : 'sum'}), axis=1).sort_values(by=['date','group'])\n",
    "\n",
    "# получаем агрегированные кумулятивные по дням данные о посетителях интернет-магазина \n",
    "visitorsAggregated = datesGroups.apply(lambda x: visitors[np.logical_and(visitors['date'] <= x['date'], visitors['group'] == x['group'])].agg({'date' : 'max', 'group' : 'max', 'visitors' : 'sum'}), axis=1).sort_values(by=['date','group'])\n",
    "\n",
    "# объединяем кумулятивные данные в одной таблице и присваиваем ее столбцам понятные названия\n",
    "cumulativeData = ordersAggregated.merge(visitorsAggregated, left_on=['date', 'group'], right_on=['date', 'group'])\n",
    "cumulativeData.columns = ['date', 'group', 'orders', 'buyers', 'revenue', 'visitors']\n",
    "\n",
    "cumulativeData"
   ]
  },
  {
   "cell_type": "markdown",
   "metadata": {},
   "source": [
    "1) Постром график кумулятивной выручки по группам."
   ]
  },
  {
   "cell_type": "code",
   "execution_count": 24,
   "metadata": {},
   "outputs": [
    {
     "data": {
      "text/plain": [
       "Text(0.5, 0, 'Даты')"
      ]
     },
     "execution_count": 24,
     "metadata": {},
     "output_type": "execute_result"
    },
    {
     "data": {
      "image/png": "[encoded data removed]",
      "text/plain": [
       "<Figure size 720x576 with 1 Axes>"
      ]
     },
     "metadata": {
      "needs_background": "light"
     },
     "output_type": "display_data"
    }
   ],
   "source": [
    "plt.figure(figsize=(10,8))\n",
    "# датафрейм с кумулятивным количеством заказов и кумулятивной выручкой по дням в группе А\n",
    "cumulativeRevenueA = cumulativeData[cumulativeData['group']=='A'][['date','revenue', 'orders']]\n",
    "\n",
    "# датафрейм с кумулятивным количеством заказов и кумулятивной выручкой по дням в группе B\n",
    "cumulativeRevenueB = cumulativeData[cumulativeData['group']=='B'][['date','revenue', 'orders']]\n",
    "\n",
    "# Строим график выручки группы А\n",
    "plt.plot(cumulativeRevenueA['date'], cumulativeRevenueA['revenue'], label='A')\n",
    "\n",
    "# Строим график выручки группы B\n",
    "plt.plot(cumulativeRevenueB['date'], cumulativeRevenueB['revenue'], label='B')\n",
    "\n",
    "plt.xticks(rotation=45)\n",
    "plt.legend()\n",
    "plt.title('Динамика кумулятативной выручки по группам')\n",
    "plt.ylabel('Выручка')\n",
    "plt.xlabel('Даты')"
   ]
  },
  {
   "cell_type": "markdown",
   "metadata": {},
   "source": [
    "В течение всего срока выручка увеличивается. График В в некоторых датах резко растет. Это сигнал того, что в данных есть аномалии."
   ]
  },
  {
   "cell_type": "markdown",
   "metadata": {},
   "source": [
    "2) Построим график кумулятивного среднего чека по группам.\n"
   ]
  },
  {
   "cell_type": "code",
   "execution_count": 25,
   "metadata": {},
   "outputs": [
    {
     "data": {
      "text/plain": [
       "Text(0.5, 0, 'Даты')"
      ]
     },
     "execution_count": 25,
     "metadata": {},
     "output_type": "execute_result"
    },
    {
     "data": {
      "image/png": "[encoded data removed]",
      "text/plain": [
       "<Figure size 720x576 with 1 Axes>"
      ]
     },
     "metadata": {
      "needs_background": "light"
     },
     "output_type": "display_data"
    }
   ],
   "source": [
    "plt.figure(figsize=(10,8))\n",
    "plt.plot(cumulativeRevenueA['date'], cumulativeRevenueA['revenue']/cumulativeRevenueA['orders'], label='A')\n",
    "plt.plot(cumulativeRevenueB['date'], cumulativeRevenueB['revenue']/cumulativeRevenueB['orders'], label='B')\n",
    "\n",
    "plt.xticks(rotation=45)\n",
    "plt.legend()\n",
    "plt.title('Динамика среднего чека по группам')\n",
    "plt.ylabel('Выручка')\n",
    "plt.xlabel('Даты')"
   ]
  },
  {
   "cell_type": "markdown",
   "metadata": {},
   "source": [
    "Динамика чуть стабилизировалась по сравнению с началом проведения теста. Для группы A заметен небольшой рост. Средний чек для группы В в последнее время падает. На графиках отчетливо видны аномалии в данных."
   ]
  },
  {
   "cell_type": "markdown",
   "metadata": {},
   "source": [
    "3) Построим график относительного изменения кумулятивного среднего чека группы B к группе A."
   ]
  },
  {
   "cell_type": "code",
   "execution_count": 26,
   "metadata": {},
   "outputs": [
    {
     "data": {
      "text/plain": [
       "Text(0.5, 0, 'Даты')"
      ]
     },
     "execution_count": 26,
     "metadata": {},
     "output_type": "execute_result"
    },
    {
     "data": {
      "image/png": "[encoded data removed]",
      "text/plain": [
       "<Figure size 720x576 with 1 Axes>"
      ]
     },
     "metadata": {
      "needs_background": "light"
     },
     "output_type": "display_data"
    }
   ],
   "source": [
    "plt.figure(figsize=(10,8))\n",
    "# собираем данные в одном датафрейме\n",
    "mergedCumulativeRevenue = cumulativeRevenueA.merge(cumulativeRevenueB, left_on='date', right_on='date', how='left', suffixes=['A', 'B'])\n",
    "\n",
    "# cтроим отношение средних чеков\n",
    "plt.plot(mergedCumulativeRevenue['date'], (mergedCumulativeRevenue['revenueB']/mergedCumulativeRevenue['ordersB'])/(mergedCumulativeRevenue['revenueA']/mergedCumulativeRevenue['ordersA'])-1)\n",
    "\n",
    "plt.xticks(rotation=45)\n",
    "# добавляем ось X\n",
    "plt.axhline(y=0, color='black', linestyle='--')\n",
    "plt.title('Относительное изменение среднего чека группы B к группе A')\n",
    "plt.ylabel('Разница')\n",
    "plt.xlabel('Даты')"
   ]
  },
  {
   "cell_type": "markdown",
   "metadata": {},
   "source": [
    "Благодаря этому графику мы можем лишь убедиться в том, что в данных встречаются аномалии. Имеем очень много резких скачков."
   ]
  },
  {
   "cell_type": "markdown",
   "metadata": {},
   "source": [
    "4) Построим график кумулятивного среднего количества заказов на посетителя по группам."
   ]
  },
  {
   "cell_type": "code",
   "execution_count": 27,
   "metadata": {},
   "outputs": [
    {
     "data": {
      "text/plain": [
       "Text(0.5, 0, 'Даты')"
      ]
     },
     "execution_count": 27,
     "metadata": {},
     "output_type": "execute_result"
    },
    {
     "data": {
      "image/png": "[encoded data removed]",
      "text/plain": [
       "<Figure size 720x576 with 1 Axes>"
      ]
     },
     "metadata": {
      "needs_background": "light"
     },
     "output_type": "display_data"
    }
   ],
   "source": [
    "plt.figure(figsize=(10,8))\n",
    "# считаем кумулятивную конверсию\n",
    "cumulativeData['conversion'] = cumulativeData['orders']/cumulativeData['visitors']\n",
    "\n",
    "# отделяем данные по группе A\n",
    "cumulativeDataA = cumulativeData[cumulativeData['group']=='A']\n",
    "\n",
    "# отделяем данные по группе B\n",
    "cumulativeDataB = cumulativeData[cumulativeData['group']=='B']\n",
    "\n",
    "# строим графики\n",
    "plt.plot(cumulativeDataA['date'], cumulativeDataA['conversion'], label='A')\n",
    "plt.plot(cumulativeDataB['date'], cumulativeDataB['conversion'], label='B')\n",
    "plt.legend()\n",
    "plt.xticks(rotation=45)\n",
    "plt.title('Cреднее количество заказов на посетителя по группам')\n",
    "plt.ylabel('Среднее количество заказов')\n",
    "plt.xlabel('Даты')"
   ]
  },
  {
   "cell_type": "markdown",
   "metadata": {},
   "source": [
    "Колебания конверсий стали заметно меньше, чем в начале теста. Конверсия группы В лучше, чем у группы А."
   ]
  },
  {
   "cell_type": "markdown",
   "metadata": {},
   "source": [
    "5) Построим график относительного изменения кумулятивного среднего количества заказов на посетителя группы B к группе A."
   ]
  },
  {
   "cell_type": "code",
   "execution_count": 28,
   "metadata": {},
   "outputs": [
    {
     "data": {
      "text/plain": [
       "Text(0.5, 0, 'Даты')"
      ]
     },
     "execution_count": 28,
     "metadata": {},
     "output_type": "execute_result"
    },
    {
     "data": {
      "image/png": "[encoded data removed]",
      "text/plain": [
       "<Figure size 720x576 with 1 Axes>"
      ]
     },
     "metadata": {
      "needs_background": "light"
     },
     "output_type": "display_data"
    }
   ],
   "source": [
    "plt.figure(figsize=(10,8))\n",
    "mergedCumulativeConversions = cumulativeDataA[['date','conversion']].merge(cumulativeDataB[['date','conversion']], left_on='date', right_on='date', how='left', suffixes=['A', 'B'])\n",
    "\n",
    "plt.plot(mergedCumulativeConversions['date'], mergedCumulativeConversions['conversionB']/mergedCumulativeConversions['conversionA']-1, label=\"Относительный прирост конверсии группы B относительно группы A\")\n",
    "#plt.legend()\n",
    "\n",
    "plt.axhline(y=0, color='black', linestyle='--')\n",
    "plt.axhline(y=0.14\n",
    "            , color='grey', linestyle='--')\n",
    "plt.xticks(rotation=45)\n",
    "plt.title('Относительное изменение кумулятивного среднего количества заказов на посетителя группы B к группе А ')\n",
    "plt.ylabel('Изменение')\n",
    "plt.xlabel('Даты')"
   ]
  },
  {
   "cell_type": "markdown",
   "metadata": {},
   "source": [
    "В начале теста группа В то выигрывала, то проигрывала группе А. Сейчас конверсия В стабильно лучше конверсии группы А."
   ]
  },
  {
   "cell_type": "markdown",
   "metadata": {},
   "source": [
    "6) Построим точечный график количества заказов по пользователям.\n"
   ]
  },
  {
   "cell_type": "code",
   "execution_count": 29,
   "metadata": {},
   "outputs": [
    {
     "data": {
      "text/html": [
       "<div>\n",
       "<style scoped>\n",
       "    .dataframe tbody tr th:only-of-type {\n",
       "        vertical-align: middle;\n",
       "    }\n",
       "\n",
       "    .dataframe tbody tr th {\n",
       "        vertical-align: top;\n",
       "    }\n",
       "\n",
       "    .dataframe thead th {\n",
       "        text-align: right;\n",
       "    }\n",
       "</style>\n",
       "<table border=\"1\" class=\"dataframe\">\n",
       "  <thead>\n",
       "    <tr style=\"text-align: right;\">\n",
       "      <th></th>\n",
       "      <th>transactionId</th>\n",
       "      <th>visitorId</th>\n",
       "      <th>date</th>\n",
       "      <th>revenue</th>\n",
       "      <th>group</th>\n",
       "    </tr>\n",
       "  </thead>\n",
       "  <tbody>\n",
       "    <tr>\n",
       "      <th>0</th>\n",
       "      <td>3667963787</td>\n",
       "      <td>3312258926</td>\n",
       "      <td>2019-08-15</td>\n",
       "      <td>1650</td>\n",
       "      <td>B</td>\n",
       "    </tr>\n",
       "    <tr>\n",
       "      <th>1</th>\n",
       "      <td>2804400009</td>\n",
       "      <td>3642806036</td>\n",
       "      <td>2019-08-15</td>\n",
       "      <td>730</td>\n",
       "      <td>B</td>\n",
       "    </tr>\n",
       "    <tr>\n",
       "      <th>3</th>\n",
       "      <td>3797467345</td>\n",
       "      <td>1196621759</td>\n",
       "      <td>2019-08-15</td>\n",
       "      <td>9759</td>\n",
       "      <td>B</td>\n",
       "    </tr>\n",
       "    <tr>\n",
       "      <th>4</th>\n",
       "      <td>2282983706</td>\n",
       "      <td>2322279887</td>\n",
       "      <td>2019-08-15</td>\n",
       "      <td>2308</td>\n",
       "      <td>B</td>\n",
       "    </tr>\n",
       "    <tr>\n",
       "      <th>5</th>\n",
       "      <td>182168103</td>\n",
       "      <td>935554773</td>\n",
       "      <td>2019-08-15</td>\n",
       "      <td>2210</td>\n",
       "      <td>B</td>\n",
       "    </tr>\n",
       "  </tbody>\n",
       "</table>\n",
       "</div>"
      ],
      "text/plain": [
       "   transactionId   visitorId        date  revenue group\n",
       "0  3667963787     3312258926  2019-08-15  1650     B   \n",
       "1  2804400009     3642806036  2019-08-15  730      B   \n",
       "3  3797467345     1196621759  2019-08-15  9759     B   \n",
       "4  2282983706     2322279887  2019-08-15  2308     B   \n",
       "5  182168103      935554773   2019-08-15  2210     B   "
      ]
     },
     "execution_count": 29,
     "metadata": {},
     "output_type": "execute_result"
    }
   ],
   "source": [
    "orders.head()"
   ]
  },
  {
   "cell_type": "code",
   "execution_count": 30,
   "metadata": {},
   "outputs": [
    {
     "data": {
      "text/html": [
       "<div>\n",
       "<style scoped>\n",
       "    .dataframe tbody tr th:only-of-type {\n",
       "        vertical-align: middle;\n",
       "    }\n",
       "\n",
       "    .dataframe tbody tr th {\n",
       "        vertical-align: top;\n",
       "    }\n",
       "\n",
       "    .dataframe thead th {\n",
       "        text-align: right;\n",
       "    }\n",
       "</style>\n",
       "<table border=\"1\" class=\"dataframe\">\n",
       "  <thead>\n",
       "    <tr style=\"text-align: right;\">\n",
       "      <th></th>\n",
       "      <th>visitorId</th>\n",
       "      <th>orders</th>\n",
       "    </tr>\n",
       "  </thead>\n",
       "  <tbody>\n",
       "    <tr>\n",
       "      <th>908</th>\n",
       "      <td>3967698036</td>\n",
       "      <td>3</td>\n",
       "    </tr>\n",
       "    <tr>\n",
       "      <th>55</th>\n",
       "      <td>249864742</td>\n",
       "      <td>3</td>\n",
       "    </tr>\n",
       "    <tr>\n",
       "      <th>478</th>\n",
       "      <td>2108163459</td>\n",
       "      <td>3</td>\n",
       "    </tr>\n",
       "    <tr>\n",
       "      <th>687</th>\n",
       "      <td>2988190573</td>\n",
       "      <td>3</td>\n",
       "    </tr>\n",
       "    <tr>\n",
       "      <th>890</th>\n",
       "      <td>3908431265</td>\n",
       "      <td>3</td>\n",
       "    </tr>\n",
       "    <tr>\n",
       "      <th>138</th>\n",
       "      <td>611059232</td>\n",
       "      <td>3</td>\n",
       "    </tr>\n",
       "    <tr>\n",
       "      <th>632</th>\n",
       "      <td>2742574263</td>\n",
       "      <td>3</td>\n",
       "    </tr>\n",
       "    <tr>\n",
       "      <th>157</th>\n",
       "      <td>678354126</td>\n",
       "      <td>2</td>\n",
       "    </tr>\n",
       "    <tr>\n",
       "      <th>323</th>\n",
       "      <td>1404560065</td>\n",
       "      <td>2</td>\n",
       "    </tr>\n",
       "    <tr>\n",
       "      <th>452</th>\n",
       "      <td>1985475298</td>\n",
       "      <td>2</td>\n",
       "    </tr>\n",
       "  </tbody>\n",
       "</table>\n",
       "</div>"
      ],
      "text/plain": [
       "      visitorId  orders\n",
       "908  3967698036  3     \n",
       "55   249864742   3     \n",
       "478  2108163459  3     \n",
       "687  2988190573  3     \n",
       "890  3908431265  3     \n",
       "138  611059232   3     \n",
       "632  2742574263  3     \n",
       "157  678354126   2     \n",
       "323  1404560065  2     \n",
       "452  1985475298  2     "
      ]
     },
     "execution_count": 30,
     "metadata": {},
     "output_type": "execute_result"
    }
   ],
   "source": [
    "ordersByUsers = (\n",
    "    orders.groupby('visitorId', as_index=False)\n",
    "    .agg({'transactionId': 'nunique'})\n",
    ")\n",
    "\n",
    "ordersByUsers.columns = ['visitorId', 'orders']\n",
    "\n",
    "ordersByUsers.sort_values(by='orders', ascending=False).head(10)"
   ]
  },
  {
   "cell_type": "code",
   "execution_count": 31,
   "metadata": {},
   "outputs": [
    {
     "data": {
      "text/plain": [
       "Text(0, 0.5, 'Кол-во заказов')"
      ]
     },
     "execution_count": 31,
     "metadata": {},
     "output_type": "execute_result"
    },
    {
     "data": {
      "image/png": "[encoded data removed]",
      "text/plain": [
       "<Figure size 720x576 with 1 Axes>"
      ]
     },
     "metadata": {
      "needs_background": "light"
     },
     "output_type": "display_data"
    }
   ],
   "source": [
    "plt.figure(figsize=(10,8))\n",
    "\n",
    "x_values = pd.Series(range(0,len(ordersByUsers)))\n",
    "\n",
    "plt.scatter(x_values, ordersByUsers['orders'])\n",
    "\n",
    "plt.title('Количество заказов по пользователям')\n",
    "plt.ylabel('Кол-во заказов')"
   ]
  },
  {
   "cell_type": "markdown",
   "metadata": {},
   "source": [
    "Большинство пользователей совершили от 1 до 5 заказов."
   ]
  },
  {
   "cell_type": "markdown",
   "metadata": {},
   "source": [
    "7) Посчитаем 95-й и 99-й перцентили количества заказов на пользователя. Выберем границу для определения аномальных пользователей."
   ]
  },
  {
   "cell_type": "code",
   "execution_count": 32,
   "metadata": {},
   "outputs": [
    {
     "data": {
      "text/plain": [
       "array([1., 2.])"
      ]
     },
     "execution_count": 32,
     "metadata": {},
     "output_type": "execute_result"
    }
   ],
   "source": [
    "np.percentile(ordersByUsers['orders'], [95, 99])"
   ]
  },
  {
   "cell_type": "markdown",
   "metadata": {},
   "source": [
    "Не более 5% сделали более одного заказов. Выберем 1 заказ на одного пользователя как верхнюю границу числа заказов. Отсеим аномальных пользователей по ней."
   ]
  },
  {
   "cell_type": "markdown",
   "metadata": {},
   "source": [
    "8) Построим точечный график стоимостей заказов."
   ]
  },
  {
   "cell_type": "code",
   "execution_count": 33,
   "metadata": {},
   "outputs": [
    {
     "data": {
      "text/plain": [
       "Text(0, 0.5, 'Стоимость')"
      ]
     },
     "execution_count": 33,
     "metadata": {},
     "output_type": "execute_result"
    },
    {
     "data": {
      "image/png": "[encoded data removed]",
      "text/plain": [
       "<Figure size 720x576 with 1 Axes>"
      ]
     },
     "metadata": {
      "needs_background": "light"
     },
     "output_type": "display_data"
    }
   ],
   "source": [
    "plt.figure(figsize=(10,8))\n",
    "x_values = pd.Series(range(0, len(orders['revenue'])))\n",
    "plt.scatter(x_values, orders['revenue'])\n",
    "\n",
    "plt.title('Стоимость заказов')\n",
    "plt.ylabel('Стоимость')"
   ]
  },
  {
   "cell_type": "markdown",
   "metadata": {},
   "source": [
    "Увеличим масштаб."
   ]
  },
  {
   "cell_type": "code",
   "execution_count": 34,
   "metadata": {
    "scrolled": false
   },
   "outputs": [
    {
     "data": {
      "text/plain": [
       "Text(0, 0.5, 'Стоимость')"
      ]
     },
     "execution_count": 34,
     "metadata": {},
     "output_type": "execute_result"
    },
    {
     "data": {
      "image/png": "[encoded data removed]",
      "text/plain": [
       "<Figure size 720x576 with 1 Axes>"
      ]
     },
     "metadata": {
      "needs_background": "light"
     },
     "output_type": "display_data"
    }
   ],
   "source": [
    "plt.figure(figsize=(10,8))\n",
    "plt.scatter(x_values, orders['revenue'])\n",
    "plt.ylim([0,200000])\n",
    "plt.title('Стоимость заказов')\n",
    "plt.ylabel('Стоимость')"
   ]
  },
  {
   "cell_type": "markdown",
   "metadata": {},
   "source": [
    "Большинство заказов стоят до 40 000."
   ]
  },
  {
   "cell_type": "markdown",
   "metadata": {},
   "source": [
    "9) Посчитаем 95-й и 99-й перцентили стоимости заказов. Выберем границу для определения аномальных заказов.\n"
   ]
  },
  {
   "cell_type": "code",
   "execution_count": 35,
   "metadata": {},
   "outputs": [
    {
     "data": {
      "text/plain": [
       "array([26785., 53904.])"
      ]
     },
     "execution_count": 35,
     "metadata": {},
     "output_type": "execute_result"
    }
   ],
   "source": [
    "np.percentile(orders['revenue'], [95,99])"
   ]
  },
  {
   "cell_type": "markdown",
   "metadata": {},
   "source": [
    "Не более 5% заказов дороже 26 785. Не более 1% заказов дороже 53 904."
   ]
  },
  {
   "cell_type": "markdown",
   "metadata": {},
   "source": [
    "Выберем 27 000 как верхнюю границу стоимости заказа."
   ]
  },
  {
   "cell_type": "markdown",
   "metadata": {},
   "source": [
    "10) Посчитаем статистическую значимость различий в среднем количестве заказов на посетителя между группами по «сырым» данным."
   ]
  },
  {
   "cell_type": "code",
   "execution_count": 36,
   "metadata": {},
   "outputs": [
    {
     "data": {
      "text/html": [
       "<div>\n",
       "<style scoped>\n",
       "    .dataframe tbody tr th:only-of-type {\n",
       "        vertical-align: middle;\n",
       "    }\n",
       "\n",
       "    .dataframe tbody tr th {\n",
       "        vertical-align: top;\n",
       "    }\n",
       "\n",
       "    .dataframe thead th {\n",
       "        text-align: right;\n",
       "    }\n",
       "</style>\n",
       "<table border=\"1\" class=\"dataframe\">\n",
       "  <thead>\n",
       "    <tr style=\"text-align: right;\">\n",
       "      <th></th>\n",
       "      <th>transactionId</th>\n",
       "      <th>visitorId</th>\n",
       "      <th>date</th>\n",
       "      <th>revenue</th>\n",
       "      <th>group</th>\n",
       "    </tr>\n",
       "  </thead>\n",
       "  <tbody>\n",
       "    <tr>\n",
       "      <th>0</th>\n",
       "      <td>3667963787</td>\n",
       "      <td>3312258926</td>\n",
       "      <td>2019-08-15</td>\n",
       "      <td>1650</td>\n",
       "      <td>B</td>\n",
       "    </tr>\n",
       "    <tr>\n",
       "      <th>1</th>\n",
       "      <td>2804400009</td>\n",
       "      <td>3642806036</td>\n",
       "      <td>2019-08-15</td>\n",
       "      <td>730</td>\n",
       "      <td>B</td>\n",
       "    </tr>\n",
       "    <tr>\n",
       "      <th>3</th>\n",
       "      <td>3797467345</td>\n",
       "      <td>1196621759</td>\n",
       "      <td>2019-08-15</td>\n",
       "      <td>9759</td>\n",
       "      <td>B</td>\n",
       "    </tr>\n",
       "    <tr>\n",
       "      <th>4</th>\n",
       "      <td>2282983706</td>\n",
       "      <td>2322279887</td>\n",
       "      <td>2019-08-15</td>\n",
       "      <td>2308</td>\n",
       "      <td>B</td>\n",
       "    </tr>\n",
       "    <tr>\n",
       "      <th>5</th>\n",
       "      <td>182168103</td>\n",
       "      <td>935554773</td>\n",
       "      <td>2019-08-15</td>\n",
       "      <td>2210</td>\n",
       "      <td>B</td>\n",
       "    </tr>\n",
       "  </tbody>\n",
       "</table>\n",
       "</div>"
      ],
      "text/plain": [
       "   transactionId   visitorId        date  revenue group\n",
       "0  3667963787     3312258926  2019-08-15  1650     B   \n",
       "1  2804400009     3642806036  2019-08-15  730      B   \n",
       "3  3797467345     1196621759  2019-08-15  9759     B   \n",
       "4  2282983706     2322279887  2019-08-15  2308     B   \n",
       "5  182168103      935554773   2019-08-15  2210     B   "
      ]
     },
     "execution_count": 36,
     "metadata": {},
     "output_type": "execute_result"
    }
   ],
   "source": [
    "orders.head()"
   ]
  },
  {
   "cell_type": "code",
   "execution_count": 37,
   "metadata": {},
   "outputs": [],
   "source": [
    "ordersByUsersA = (\n",
    "    orders[orders['group'] == 'A']\n",
    "    .groupby('visitorId', as_index=False)\n",
    "    .agg({'transactionId': pd.Series.nunique})\n",
    ")\n",
    "ordersByUsersA.columns = ['transactionId', 'orders']\n",
    "\n",
    "ordersByUsersB = (\n",
    "    orders[orders['group'] == 'B']\n",
    "    .groupby('visitorId', as_index=False)\n",
    "    .agg({'transactionId': pd.Series.nunique})\n",
    ")\n",
    "ordersByUsersB.columns = ['visitorId', 'orders']"
   ]
  },
  {
   "cell_type": "code",
   "execution_count": 38,
   "metadata": {},
   "outputs": [],
   "source": [
    "sampleA = pd.concat([ordersByUsersA['orders'],pd.Series(0, index=np.arange(data['visitorsPerDateA'].sum() - len(ordersByUsersA['orders'])), name='orders')],axis=0)\n",
    "\n",
    "sampleB = pd.concat([ordersByUsersB['orders'],pd.Series(0, index=np.arange(data['visitorsPerDateB'].sum() - len(ordersByUsersB['orders'])), name='orders')],axis=0)"
   ]
  },
  {
   "cell_type": "markdown",
   "metadata": {},
   "source": [
    "Для всех последующих проверок гипотез примем уровень критической значимости равным 0.05."
   ]
  },
  {
   "cell_type": "markdown",
   "metadata": {},
   "source": [
    "**Гипотеза**: Среднее количество заказов на посетителя в группах равно. <br>\n",
    "**Альтернативная гипотеза**: Среднее количество заказов на посетителя в группах отличается.<br>\n",
    "Проверку гипотез будем осуществлять с помощью критерия Манна-Уитни."
   ]
  },
  {
   "cell_type": "code",
   "execution_count": 39,
   "metadata": {
    "scrolled": false
   },
   "outputs": [
    {
     "name": "stdout",
     "output_type": "stream",
     "text": [
      "0.011\n"
     ]
    },
    {
     "data": {
      "text/plain": [
       "'0.160'"
      ]
     },
     "execution_count": 39,
     "metadata": {},
     "output_type": "execute_result"
    }
   ],
   "source": [
    "ordersByUsersA = (\n",
    "    orders[orders['group'] == 'A']\n",
    "    .groupby('visitorId', as_index=False)\n",
    "    .agg({'transactionId': pd.Series.nunique})\n",
    ")\n",
    "ordersByUsersA.columns = ['visitorId', 'orders']\n",
    "\n",
    "ordersByUsersB = (\n",
    "    orders[orders['group'] == 'B']\n",
    "    .groupby('visitorId', as_index=False)\n",
    "    .agg({'transactionId': pd.Series.nunique})\n",
    ")\n",
    "ordersByUsersB.columns = ['visitorId', 'orders']\n",
    "\n",
    "sampleA = pd.concat(\n",
    "    [\n",
    "        ordersByUsersA['orders'],\n",
    "        pd.Series(\n",
    "            0,\n",
    "            index=np.arange(\n",
    "                data['visitorsPerDateA'].sum() - len(ordersByUsersA['orders'])\n",
    "            ),\n",
    "            name='orders',\n",
    "        ),\n",
    "    ],\n",
    "    axis=0,\n",
    ")\n",
    "\n",
    "sampleB = pd.concat(\n",
    "    [\n",
    "        ordersByUsersB['orders'],\n",
    "        pd.Series(\n",
    "            0,\n",
    "            index=np.arange(\n",
    "                data['visitorsPerDateB'].sum() - len(ordersByUsersB['orders'])\n",
    "            ),\n",
    "            name='orders',\n",
    "        ),\n",
    "    ],\n",
    "    axis=0,\n",
    ")\n",
    "\n",
    "print(\"{0:.3f}\".format(stats.mannwhitneyu(sampleA, sampleB)[1]))\n",
    "\"{0:.3f}\".format(sampleB.mean() / sampleA.mean() - 1)"
   ]
  },
  {
   "cell_type": "markdown",
   "metadata": {},
   "source": [
    "P-value меньше 0.05. Значит по сырым данным разница в среднем кол-ве заказов между группами статистически значима. По относительному показателю группа В лучше на 16%. Пользователи из группы В в среднем покупают чаще!"
   ]
  },
  {
   "cell_type": "markdown",
   "metadata": {},
   "source": [
    "11) Посчитаем статистическую значимость различий в среднем чеке заказа между группами по «сырым» данным."
   ]
  },
  {
   "cell_type": "markdown",
   "metadata": {},
   "source": [
    "**Гипотеза**: Средний чек заказа в группах равен. <br>\n",
    "**Альтернативная гипотеза**: Средний чек заказа в группах отличается.<br>\n",
    "Проверку гипотез будем осуществлять с помощью критерия Манна-Уитни."
   ]
  },
  {
   "cell_type": "code",
   "execution_count": 40,
   "metadata": {},
   "outputs": [
    {
     "name": "stdout",
     "output_type": "stream",
     "text": [
      "0.829\n",
      "0.287\n"
     ]
    }
   ],
   "source": [
    "print('{0:.3f}'.format(stats.mannwhitneyu(orders[orders['group']=='A']['revenue'], orders[orders['group']=='B']['revenue'])[1]))\n",
    "print('{0:.3f}'.format(orders[orders['group']=='B']['revenue'].mean()/orders[orders['group']=='A']['revenue'].mean()-1))"
   ]
  },
  {
   "cell_type": "markdown",
   "metadata": {},
   "source": [
    "P-value значительно больше 0.05. Значит, причин отвергать нулевую гипотезу и считать, что в среднем чеке есть различия, нет. Однако средний чек группы В выше на 29%. Возможно дело в аномальных знчениях."
   ]
  },
  {
   "cell_type": "markdown",
   "metadata": {},
   "source": [
    "12) Посчитаем статистическую значимость различий в среднем количестве заказов на посетителя между группами по «очищенным» данным."
   ]
  },
  {
   "cell_type": "markdown",
   "metadata": {},
   "source": [
    "Подготовим данные."
   ]
  },
  {
   "cell_type": "code",
   "execution_count": 41,
   "metadata": {},
   "outputs": [
    {
     "name": "stdout",
     "output_type": "stream",
     "text": [
      "568     113298937\n",
      "1099    148427295\n",
      "928     204675465\n",
      "33      249864742\n",
      "684     358944393\n",
      "Name: visitorId, dtype: int64\n",
      "86\n"
     ]
    }
   ],
   "source": [
    "usersWithManyOrders = pd.concat(\n",
    "    [\n",
    "        ordersByUsersA[ordersByUsersA['orders'] > 1]['visitorId'],\n",
    "        ordersByUsersB[ordersByUsersB['orders'] > 1]['visitorId'],\n",
    "    ],\n",
    "    axis=0,\n",
    ")\n",
    "usersWithExpensiveOrders = orders[orders['revenue'] > 27000]['visitorId']\n",
    "abnormalUsers = (\n",
    "    pd.concat([usersWithManyOrders, usersWithExpensiveOrders], axis=0)\n",
    "    .drop_duplicates()\n",
    "    .sort_values()\n",
    ")\n",
    "print(abnormalUsers.head(5))\n",
    "print(abnormalUsers.shape[0])"
   ]
  },
  {
   "cell_type": "markdown",
   "metadata": {},
   "source": [
    "Всего у нас 86 аномальных пользоватлей."
   ]
  },
  {
   "cell_type": "markdown",
   "metadata": {},
   "source": [
    "Сначала подготовим выборки количества заказов по пользователям по группам теста."
   ]
  },
  {
   "cell_type": "code",
   "execution_count": 42,
   "metadata": {},
   "outputs": [],
   "source": [
    "sampleAFiltered = pd.concat(\n",
    "    [\n",
    "        ordersByUsersA[\n",
    "            np.logical_not(ordersByUsersA['visitorId'].isin(abnormalUsers))\n",
    "        ]['orders'],\n",
    "        pd.Series(\n",
    "            0,\n",
    "            index=np.arange(\n",
    "                data['visitorsPerDateA'].sum() - len(ordersByUsersA['orders'])\n",
    "            ),\n",
    "            name='orders',\n",
    "        ),\n",
    "    ],\n",
    "    axis=0,\n",
    ")\n",
    "\n",
    "sampleBFiltered = pd.concat(\n",
    "    [\n",
    "        ordersByUsersB[\n",
    "            np.logical_not(ordersByUsersB['visitorId'].isin(abnormalUsers))\n",
    "        ]['orders'],\n",
    "        pd.Series(\n",
    "            0,\n",
    "            index=np.arange(\n",
    "                data['visitorsPerDateB'].sum() - len(ordersByUsersB['orders'])\n",
    "            ),\n",
    "            name='orders',\n",
    "        ),\n",
    "    ],\n",
    "    axis=0,\n",
    ")"
   ]
  },
  {
   "cell_type": "code",
   "execution_count": 43,
   "metadata": {},
   "outputs": [
    {
     "data": {
      "text/plain": [
       "'0.016'"
      ]
     },
     "execution_count": 43,
     "metadata": {},
     "output_type": "execute_result"
    }
   ],
   "source": [
    "'{0:.3f}'.format(stats.mannwhitneyu(sampleAFiltered, sampleBFiltered)[1])"
   ]
  },
  {
   "cell_type": "code",
   "execution_count": 44,
   "metadata": {},
   "outputs": [
    {
     "data": {
      "text/plain": [
       "'0.174'"
      ]
     },
     "execution_count": 44,
     "metadata": {},
     "output_type": "execute_result"
    }
   ],
   "source": [
    "'{0:.3f}'.format(sampleBFiltered.mean()/sampleAFiltered.mean()-1)"
   ]
  },
  {
   "cell_type": "markdown",
   "metadata": {},
   "source": [
    "Результаты по среднему количеству заказов практически не изменились. P-value так же меньше 0.05. Разница в количестве заказов статистически значима. По относительному показателю группа В лучше на 17%. Получается, что по среднему количеству заказов группа В дейтсвительно лидирует. "
   ]
  },
  {
   "cell_type": "markdown",
   "metadata": {},
   "source": [
    "13) Посчитаем статистическую значимость различий в среднем чеке заказа между группами по «очищенным» данным."
   ]
  },
  {
   "cell_type": "code",
   "execution_count": 45,
   "metadata": {
    "scrolled": true
   },
   "outputs": [
    {
     "name": "stdout",
     "output_type": "stream",
     "text": [
      "0.727\n",
      "-0.034\n"
     ]
    }
   ],
   "source": [
    "print(\n",
    "    '{0:.3f}'.format(\n",
    "        stats.mannwhitneyu(\n",
    "            orders[\n",
    "                np.logical_and(\n",
    "                    orders['group'] == 'A',\n",
    "                    np.logical_not(orders['visitorId'].isin(abnormalUsers)),\n",
    "                )\n",
    "            ]['revenue'],\n",
    "            orders[\n",
    "                np.logical_and(\n",
    "                    orders['group'] == 'B',\n",
    "                    np.logical_not(orders['visitorId'].isin(abnormalUsers)),\n",
    "                )\n",
    "            ]['revenue'],\n",
    "        )[1]\n",
    "    )\n",
    ")\n",
    "print(\n",
    "    \"{0:.3f}\".format(\n",
    "        orders[\n",
    "            np.logical_and(\n",
    "                orders['group'] == 'B',\n",
    "                np.logical_not(orders['visitorId'].isin(abnormalUsers)),\n",
    "            )\n",
    "        ]['revenue'].mean()\n",
    "        / orders[\n",
    "            np.logical_and(\n",
    "                orders['group'] == 'A',\n",
    "                np.logical_not(orders['visitorId'].isin(abnormalUsers)),\n",
    "            )\n",
    "        ]['revenue'].mean()\n",
    "        - 1\n",
    "    )\n",
    ") "
   ]
  },
  {
   "cell_type": "markdown",
   "metadata": {},
   "source": [
    "Нет статистически значимого различия между группами по среднему чеку. После фильтрации данных группа В проигрывает всего на 3%. Можем утверждать, что средний чек значимо не меняется в зависимости от группы."
   ]
  },
  {
   "cell_type": "markdown",
   "metadata": {},
   "source": [
    "14) Примим решение по результатам теста. Варианты решений: 1. Остановить тест, зафиксировать победу одной из групп. 2. Остановить тест, зафиксировать отсутствие различий между группами. 3. Продолжить тест."
   ]
  },
  {
   "cell_type": "markdown",
   "metadata": {},
   "source": [
    "**Имеем:**"
   ]
  },
  {
   "cell_type": "markdown",
   "metadata": {},
   "source": [
    "-  Присутствует статистически значимое различие по среднему количеству заказов между группами и по «сырым», и по данным после фильтрации аномалий;\n",
    "-  Нет статистически значимого различия по среднему чеку между группами ни по «сырым», ни по данным после фильтрации аномалий;\n",
    "-  График различия конверсии между группами сообщает, что результаты группы B лучше группы A и есть небольшая тенденция к улучшению;"
   ]
  },
  {
   "attachments": {
    "3.png": {
     "image/png": "[encoded data removed]"
    }
   },
   "cell_type": "markdown",
   "metadata": {},
   "source": [
    "![3.png](attachment:3.png)"
   ]
  },
  {
   "cell_type": "markdown",
   "metadata": {},
   "source": [
    "-  График различия среднего чека говорит о том, что результаты группы B стабильно лучше группы А, однако заметна тенденция на снижение среднего чека в группе В."
   ]
  },
  {
   "attachments": {
    "4.png": {
     "image/png": "[encoded data removed]"
    }
   },
   "cell_type": "markdown",
   "metadata": {},
   "source": [
    "![4.png](attachment:4.png)"
   ]
  },
  {
   "cell_type": "markdown",
   "metadata": {},
   "source": [
    "Исходя из имеющихся фактов, **необходимо остановить тест и признать победу группы В**. Группа В имеет хорошие показатели. Количество заказов заметно увеличилось, а средний чек незначительно снизился."
   ]
  },
  {
   "cell_type": "markdown",
   "metadata": {},
   "source": [
    "По ходу проекта мы приотизировали гипотезы с помощью разных фреймворков. Выбрали самую перспективную для реализации. Далее стояла задача анализа А/В-теста. Была проведена предобработка данных. Исключены аномальные значения их датафреймов. Были построены графики по различным метрикам. Мы проверили ряд гипотез на истинность и сформулировали выводы. Эти шаги помогли принять нам итоговое решение по тесту."
   ]
  }
 ],
 "metadata": {
  "ExecuteTimeLog": [
   {
    "duration": 390,
    "start_time": "2022-12-06T11:50:54.566Z"
   },
   {
    "duration": 95,
    "start_time": "2022-12-06T11:51:44.618Z"
   },
   {
    "duration": 36,
    "start_time": "2022-12-06T11:51:50.762Z"
   },
   {
    "duration": 15,
    "start_time": "2022-12-06T11:54:37.533Z"
   },
   {
    "duration": 11,
    "start_time": "2022-12-06T11:55:02.461Z"
   },
   {
    "duration": 12,
    "start_time": "2022-12-06T11:58:09.983Z"
   },
   {
    "duration": 8,
    "start_time": "2022-12-06T11:58:27.190Z"
   },
   {
    "duration": 15,
    "start_time": "2022-12-06T11:59:10.302Z"
   },
   {
    "duration": 14,
    "start_time": "2022-12-06T11:59:56.085Z"
   },
   {
    "duration": 82,
    "start_time": "2022-12-06T12:00:28.611Z"
   },
   {
    "duration": 14,
    "start_time": "2022-12-06T12:00:37.522Z"
   },
   {
    "duration": 168,
    "start_time": "2022-12-06T12:14:03.241Z"
   },
   {
    "duration": 9,
    "start_time": "2022-12-06T13:05:07.304Z"
   },
   {
    "duration": 7,
    "start_time": "2022-12-06T13:05:32.101Z"
   },
   {
    "duration": 452,
    "start_time": "2022-12-06T13:08:14.359Z"
   },
   {
    "duration": 43,
    "start_time": "2022-12-06T13:08:20.258Z"
   },
   {
    "duration": 65,
    "start_time": "2022-12-06T13:08:46.795Z"
   },
   {
    "duration": 8,
    "start_time": "2022-12-06T13:08:47.781Z"
   },
   {
    "duration": 8,
    "start_time": "2022-12-06T13:08:48.506Z"
   },
   {
    "duration": 310,
    "start_time": "2022-12-06T13:08:50.299Z"
   },
   {
    "duration": 102,
    "start_time": "2022-12-06T13:10:42.587Z"
   },
   {
    "duration": 124,
    "start_time": "2022-12-06T13:14:55.668Z"
   },
   {
    "duration": 209,
    "start_time": "2022-12-06T13:15:41.801Z"
   },
   {
    "duration": 235,
    "start_time": "2022-12-06T13:16:16.168Z"
   },
   {
    "duration": 240,
    "start_time": "2022-12-06T13:16:24.911Z"
   },
   {
    "duration": 88,
    "start_time": "2022-12-06T13:20:38.024Z"
   },
   {
    "duration": 454,
    "start_time": "2022-12-06T13:39:46.640Z"
   },
   {
    "duration": 7,
    "start_time": "2022-12-06T13:41:39.612Z"
   },
   {
    "duration": 32,
    "start_time": "2022-12-06T13:42:01.765Z"
   },
   {
    "duration": 150,
    "start_time": "2022-12-06T13:42:45.878Z"
   },
   {
    "duration": 102,
    "start_time": "2022-12-06T13:43:03.306Z"
   },
   {
    "duration": 27,
    "start_time": "2022-12-06T13:43:15.795Z"
   },
   {
    "duration": 254,
    "start_time": "2022-12-06T13:43:49.915Z"
   },
   {
    "duration": 335,
    "start_time": "2022-12-06T13:43:58.740Z"
   },
   {
    "duration": 283,
    "start_time": "2022-12-06T13:44:52.434Z"
   },
   {
    "duration": 45,
    "start_time": "2022-12-06T18:09:15.074Z"
   },
   {
    "duration": 1211,
    "start_time": "2022-12-06T18:09:24.982Z"
   },
   {
    "duration": 148,
    "start_time": "2022-12-06T18:09:26.195Z"
   },
   {
    "duration": 12,
    "start_time": "2022-12-06T18:09:26.344Z"
   },
   {
    "duration": 12,
    "start_time": "2022-12-06T18:09:26.358Z"
   },
   {
    "duration": 141,
    "start_time": "2022-12-06T18:09:26.372Z"
   },
   {
    "duration": 8,
    "start_time": "2022-12-06T18:09:26.514Z"
   },
   {
    "duration": 10,
    "start_time": "2022-12-06T18:09:26.524Z"
   },
   {
    "duration": 216,
    "start_time": "2022-12-06T18:09:26.535Z"
   },
   {
    "duration": 4,
    "start_time": "2022-12-06T18:09:26.753Z"
   },
   {
    "duration": 173,
    "start_time": "2022-12-06T18:09:26.759Z"
   },
   {
    "duration": 130,
    "start_time": "2022-12-06T18:09:26.934Z"
   },
   {
    "duration": 284,
    "start_time": "2022-12-06T18:09:27.066Z"
   },
   {
    "duration": 335,
    "start_time": "2022-12-06T18:09:27.352Z"
   },
   {
    "duration": 248,
    "start_time": "2022-12-06T18:11:08.465Z"
   },
   {
    "duration": 3937,
    "start_time": "2022-12-06T18:11:34.430Z"
   },
   {
    "duration": 323,
    "start_time": "2022-12-06T18:11:50.181Z"
   },
   {
    "duration": 369,
    "start_time": "2022-12-06T18:20:02.199Z"
   },
   {
    "duration": 258,
    "start_time": "2022-12-06T18:20:45.068Z"
   },
   {
    "duration": 257,
    "start_time": "2022-12-06T18:21:01.036Z"
   },
   {
    "duration": 262,
    "start_time": "2022-12-06T18:21:42.237Z"
   },
   {
    "duration": 304,
    "start_time": "2022-12-06T18:21:50.401Z"
   },
   {
    "duration": 349,
    "start_time": "2022-12-06T18:22:18.877Z"
   },
   {
    "duration": 289,
    "start_time": "2022-12-06T18:22:32.866Z"
   },
   {
    "duration": 301,
    "start_time": "2022-12-06T18:22:47.403Z"
   },
   {
    "duration": 111,
    "start_time": "2022-12-06T18:26:01.404Z"
   },
   {
    "duration": 365,
    "start_time": "2022-12-06T18:26:12.885Z"
   },
   {
    "duration": 358,
    "start_time": "2022-12-06T18:26:49.816Z"
   },
   {
    "duration": 267,
    "start_time": "2022-12-06T18:28:45.907Z"
   },
   {
    "duration": 267,
    "start_time": "2022-12-06T18:28:57.645Z"
   },
   {
    "duration": 3,
    "start_time": "2022-12-06T18:29:13.765Z"
   },
   {
    "duration": 262,
    "start_time": "2022-12-06T18:29:16.329Z"
   },
   {
    "duration": 280,
    "start_time": "2022-12-06T18:29:24.205Z"
   },
   {
    "duration": 291,
    "start_time": "2022-12-06T18:29:28.915Z"
   },
   {
    "duration": 94,
    "start_time": "2022-12-06T18:29:35.235Z"
   },
   {
    "duration": 274,
    "start_time": "2022-12-06T18:29:44.731Z"
   },
   {
    "duration": 278,
    "start_time": "2022-12-06T18:30:16.801Z"
   },
   {
    "duration": 265,
    "start_time": "2022-12-06T18:33:03.653Z"
   },
   {
    "duration": 276,
    "start_time": "2022-12-06T18:33:14.216Z"
   },
   {
    "duration": 235,
    "start_time": "2022-12-06T18:38:02.131Z"
   },
   {
    "duration": 376,
    "start_time": "2022-12-06T18:38:15.370Z"
   },
   {
    "duration": 290,
    "start_time": "2022-12-06T18:38:39.413Z"
   },
   {
    "duration": 288,
    "start_time": "2022-12-06T18:39:07.454Z"
   },
   {
    "duration": 373,
    "start_time": "2022-12-06T18:44:17.436Z"
   },
   {
    "duration": 371,
    "start_time": "2022-12-06T18:44:31.022Z"
   },
   {
    "duration": 383,
    "start_time": "2022-12-06T18:45:10.256Z"
   },
   {
    "duration": 417,
    "start_time": "2022-12-06T18:45:21.412Z"
   },
   {
    "duration": 283,
    "start_time": "2022-12-06T18:49:01.016Z"
   },
   {
    "duration": 273,
    "start_time": "2022-12-06T18:49:37.245Z"
   },
   {
    "duration": 271,
    "start_time": "2022-12-06T18:49:41.787Z"
   },
   {
    "duration": 290,
    "start_time": "2022-12-06T18:49:45.923Z"
   },
   {
    "duration": 419,
    "start_time": "2022-12-06T18:50:04.740Z"
   },
   {
    "duration": 225,
    "start_time": "2022-12-06T18:51:57.129Z"
   },
   {
    "duration": 239,
    "start_time": "2022-12-06T18:52:01.864Z"
   },
   {
    "duration": 79,
    "start_time": "2022-12-06T18:52:08.327Z"
   },
   {
    "duration": 275,
    "start_time": "2022-12-06T18:52:16.016Z"
   },
   {
    "duration": 253,
    "start_time": "2022-12-06T18:52:29.330Z"
   },
   {
    "duration": 282,
    "start_time": "2022-12-06T18:55:01.748Z"
   },
   {
    "duration": 307,
    "start_time": "2022-12-06T18:56:07.815Z"
   },
   {
    "duration": 313,
    "start_time": "2022-12-06T18:57:47.004Z"
   },
   {
    "duration": 345,
    "start_time": "2022-12-06T18:57:56.226Z"
   },
   {
    "duration": 1201,
    "start_time": "2022-12-07T05:43:27.669Z"
   },
   {
    "duration": 166,
    "start_time": "2022-12-07T05:43:28.873Z"
   },
   {
    "duration": 14,
    "start_time": "2022-12-07T05:43:29.041Z"
   },
   {
    "duration": 18,
    "start_time": "2022-12-07T05:43:29.058Z"
   },
   {
    "duration": 170,
    "start_time": "2022-12-07T05:43:29.078Z"
   },
   {
    "duration": 9,
    "start_time": "2022-12-07T05:43:29.250Z"
   },
   {
    "duration": 31,
    "start_time": "2022-12-07T05:43:29.260Z"
   },
   {
    "duration": 218,
    "start_time": "2022-12-07T05:43:29.293Z"
   },
   {
    "duration": 5,
    "start_time": "2022-12-07T05:43:29.513Z"
   },
   {
    "duration": 215,
    "start_time": "2022-12-07T05:43:29.520Z"
   },
   {
    "duration": 125,
    "start_time": "2022-12-07T05:43:29.737Z"
   },
   {
    "duration": 278,
    "start_time": "2022-12-07T05:43:29.864Z"
   },
   {
    "duration": 354,
    "start_time": "2022-12-07T05:43:30.144Z"
   },
   {
    "duration": 339,
    "start_time": "2022-12-07T05:43:30.500Z"
   },
   {
    "duration": 455,
    "start_time": "2022-12-07T05:43:30.841Z"
   },
   {
    "duration": 331,
    "start_time": "2022-12-07T05:43:31.298Z"
   },
   {
    "duration": 406,
    "start_time": "2022-12-07T05:43:31.631Z"
   },
   {
    "duration": 411,
    "start_time": "2022-12-07T05:43:46.918Z"
   },
   {
    "duration": 368,
    "start_time": "2022-12-07T05:44:47.963Z"
   },
   {
    "duration": 353,
    "start_time": "2022-12-07T05:44:52.117Z"
   },
   {
    "duration": 346,
    "start_time": "2022-12-07T05:44:58.308Z"
   },
   {
    "duration": 453,
    "start_time": "2022-12-07T05:47:22.413Z"
   },
   {
    "duration": 382,
    "start_time": "2022-12-07T05:47:38.284Z"
   },
   {
    "duration": 9,
    "start_time": "2022-12-07T05:52:59.282Z"
   },
   {
    "duration": 137,
    "start_time": "2022-12-07T05:54:38.191Z"
   },
   {
    "duration": 147,
    "start_time": "2022-12-07T05:54:55.597Z"
   },
   {
    "duration": 8,
    "start_time": "2022-12-07T05:56:28.714Z"
   },
   {
    "duration": 103,
    "start_time": "2022-12-07T05:56:50.984Z"
   },
   {
    "duration": 146,
    "start_time": "2022-12-07T05:57:24.232Z"
   },
   {
    "duration": 14,
    "start_time": "2022-12-07T05:58:01.333Z"
   },
   {
    "duration": 11,
    "start_time": "2022-12-07T05:58:25.646Z"
   },
   {
    "duration": 157,
    "start_time": "2022-12-07T05:58:56.863Z"
   },
   {
    "duration": 162,
    "start_time": "2022-12-07T05:59:46.016Z"
   },
   {
    "duration": 3,
    "start_time": "2022-12-07T06:02:33.453Z"
   },
   {
    "duration": 7,
    "start_time": "2022-12-07T06:02:36.200Z"
   },
   {
    "duration": 8,
    "start_time": "2022-12-07T06:06:58.447Z"
   },
   {
    "duration": 142,
    "start_time": "2022-12-07T06:09:04.305Z"
   },
   {
    "duration": 154,
    "start_time": "2022-12-07T06:11:28.516Z"
   },
   {
    "duration": 116,
    "start_time": "2022-12-07T06:11:57.777Z"
   },
   {
    "duration": 9,
    "start_time": "2022-12-07T06:12:08.424Z"
   },
   {
    "duration": 10,
    "start_time": "2022-12-07T06:13:15.835Z"
   },
   {
    "duration": 128,
    "start_time": "2022-12-07T06:13:28.704Z"
   },
   {
    "duration": 157,
    "start_time": "2022-12-07T06:13:40.173Z"
   },
   {
    "duration": 170,
    "start_time": "2022-12-07T06:15:02.573Z"
   },
   {
    "duration": 112,
    "start_time": "2022-12-07T06:17:22.825Z"
   },
   {
    "duration": 218,
    "start_time": "2022-12-07T06:17:48.034Z"
   },
   {
    "duration": 134,
    "start_time": "2022-12-07T06:18:51.264Z"
   },
   {
    "duration": 177,
    "start_time": "2022-12-07T06:19:55.192Z"
   },
   {
    "duration": 184,
    "start_time": "2022-12-07T06:20:10.176Z"
   },
   {
    "duration": 1198,
    "start_time": "2022-12-07T06:21:43.979Z"
   },
   {
    "duration": 6,
    "start_time": "2022-12-07T06:21:53.227Z"
   },
   {
    "duration": 9,
    "start_time": "2022-12-07T06:29:04.402Z"
   },
   {
    "duration": 141,
    "start_time": "2022-12-07T06:30:21.706Z"
   },
   {
    "duration": 7,
    "start_time": "2022-12-07T06:30:35.021Z"
   },
   {
    "duration": 16,
    "start_time": "2022-12-07T06:31:01.202Z"
   },
   {
    "duration": 163,
    "start_time": "2022-12-07T06:31:48.284Z"
   },
   {
    "duration": 170,
    "start_time": "2022-12-07T06:32:15.395Z"
   },
   {
    "duration": 163,
    "start_time": "2022-12-07T06:32:22.128Z"
   },
   {
    "duration": 10,
    "start_time": "2022-12-07T06:36:49.435Z"
   },
   {
    "duration": 1179,
    "start_time": "2022-12-07T06:38:44.369Z"
   },
   {
    "duration": 176,
    "start_time": "2022-12-07T06:39:05.939Z"
   },
   {
    "duration": 12,
    "start_time": "2022-12-07T06:39:10.623Z"
   },
   {
    "duration": 8,
    "start_time": "2022-12-07T06:41:29.339Z"
   },
   {
    "duration": 22,
    "start_time": "2022-12-07T06:41:53.004Z"
   },
   {
    "duration": 1130,
    "start_time": "2022-12-07T06:44:47.787Z"
   },
   {
    "duration": 9,
    "start_time": "2022-12-07T06:45:04.778Z"
   },
   {
    "duration": 1392,
    "start_time": "2022-12-07T08:19:26.513Z"
   },
   {
    "duration": 123,
    "start_time": "2022-12-07T08:19:27.908Z"
   },
   {
    "duration": 12,
    "start_time": "2022-12-07T08:19:28.032Z"
   },
   {
    "duration": 11,
    "start_time": "2022-12-07T08:19:28.046Z"
   },
   {
    "duration": 171,
    "start_time": "2022-12-07T08:19:28.059Z"
   },
   {
    "duration": 8,
    "start_time": "2022-12-07T08:19:28.231Z"
   },
   {
    "duration": 10,
    "start_time": "2022-12-07T08:19:28.240Z"
   },
   {
    "duration": 202,
    "start_time": "2022-12-07T08:19:28.252Z"
   },
   {
    "duration": 5,
    "start_time": "2022-12-07T08:19:28.455Z"
   },
   {
    "duration": 159,
    "start_time": "2022-12-07T08:19:28.462Z"
   },
   {
    "duration": 110,
    "start_time": "2022-12-07T08:19:28.622Z"
   },
   {
    "duration": 253,
    "start_time": "2022-12-07T08:19:28.734Z"
   },
   {
    "duration": 295,
    "start_time": "2022-12-07T08:19:28.988Z"
   },
   {
    "duration": 286,
    "start_time": "2022-12-07T08:19:29.287Z"
   },
   {
    "duration": 372,
    "start_time": "2022-12-07T08:19:29.575Z"
   },
   {
    "duration": 302,
    "start_time": "2022-12-07T08:19:29.948Z"
   },
   {
    "duration": 595,
    "start_time": "2022-12-07T08:19:30.251Z"
   },
   {
    "duration": 8,
    "start_time": "2022-12-07T08:19:30.848Z"
   },
   {
    "duration": 66,
    "start_time": "2022-12-07T08:19:30.858Z"
   },
   {
    "duration": 415,
    "start_time": "2022-12-07T08:19:30.926Z"
   },
   {
    "duration": 5,
    "start_time": "2022-12-07T08:19:31.343Z"
   },
   {
    "duration": 294,
    "start_time": "2022-12-07T08:19:31.350Z"
   },
   {
    "duration": 225,
    "start_time": "2022-12-07T08:19:31.645Z"
   },
   {
    "duration": 5,
    "start_time": "2022-12-07T08:19:31.871Z"
   },
   {
    "duration": 49,
    "start_time": "2022-12-07T08:19:31.877Z"
   },
   {
    "duration": 143,
    "start_time": "2022-12-07T08:19:31.928Z"
   },
   {
    "duration": 6,
    "start_time": "2022-12-07T08:19:32.072Z"
   },
   {
    "duration": 153,
    "start_time": "2022-12-07T08:19:32.079Z"
   },
   {
    "duration": 8,
    "start_time": "2022-12-07T08:19:32.234Z"
   },
   {
    "duration": 10,
    "start_time": "2022-12-07T08:19:32.243Z"
   },
   {
    "duration": 13,
    "start_time": "2022-12-07T08:19:32.254Z"
   },
   {
    "duration": 23,
    "start_time": "2022-12-07T08:19:32.269Z"
   },
   {
    "duration": 32,
    "start_time": "2022-12-07T08:19:32.294Z"
   },
   {
    "duration": 1269,
    "start_time": "2022-12-07T14:01:24.474Z"
   },
   {
    "duration": 145,
    "start_time": "2022-12-07T14:01:25.745Z"
   },
   {
    "duration": 16,
    "start_time": "2022-12-07T14:01:25.892Z"
   },
   {
    "duration": 16,
    "start_time": "2022-12-07T14:01:25.911Z"
   },
   {
    "duration": 214,
    "start_time": "2022-12-07T14:01:25.929Z"
   },
   {
    "duration": 12,
    "start_time": "2022-12-07T14:01:26.145Z"
   },
   {
    "duration": 24,
    "start_time": "2022-12-07T14:01:26.159Z"
   },
   {
    "duration": 249,
    "start_time": "2022-12-07T14:01:26.186Z"
   },
   {
    "duration": 5,
    "start_time": "2022-12-07T14:01:26.438Z"
   },
   {
    "duration": 180,
    "start_time": "2022-12-07T14:01:26.447Z"
   },
   {
    "duration": 129,
    "start_time": "2022-12-07T14:01:26.629Z"
   },
   {
    "duration": 283,
    "start_time": "2022-12-07T14:01:26.760Z"
   },
   {
    "duration": 327,
    "start_time": "2022-12-07T14:01:27.044Z"
   },
   {
    "duration": 301,
    "start_time": "2022-12-07T14:01:27.373Z"
   },
   {
    "duration": 456,
    "start_time": "2022-12-07T14:01:27.677Z"
   },
   {
    "duration": 331,
    "start_time": "2022-12-07T14:01:28.135Z"
   },
   {
    "duration": 428,
    "start_time": "2022-12-07T14:01:28.468Z"
   },
   {
    "duration": 8,
    "start_time": "2022-12-07T14:01:28.898Z"
   },
   {
    "duration": 14,
    "start_time": "2022-12-07T14:01:28.907Z"
   },
   {
    "duration": 178,
    "start_time": "2022-12-07T14:01:28.922Z"
   },
   {
    "duration": 6,
    "start_time": "2022-12-07T14:01:29.102Z"
   },
   {
    "duration": 179,
    "start_time": "2022-12-07T14:01:29.109Z"
   },
   {
    "duration": 175,
    "start_time": "2022-12-07T14:01:29.297Z"
   },
   {
    "duration": 5,
    "start_time": "2022-12-07T14:01:29.474Z"
   },
   {
    "duration": 16,
    "start_time": "2022-12-07T14:01:29.481Z"
   },
   {
    "duration": 167,
    "start_time": "2022-12-07T14:01:29.499Z"
   },
   {
    "duration": 7,
    "start_time": "2022-12-07T14:01:29.668Z"
   },
   {
    "duration": 169,
    "start_time": "2022-12-07T14:01:29.678Z"
   },
   {
    "duration": 9,
    "start_time": "2022-12-07T14:01:29.849Z"
   },
   {
    "duration": 11,
    "start_time": "2022-12-07T14:01:29.860Z"
   },
   {
    "duration": 28,
    "start_time": "2022-12-07T14:01:29.873Z"
   },
   {
    "duration": 25,
    "start_time": "2022-12-07T14:01:29.903Z"
   },
   {
    "duration": 12,
    "start_time": "2022-12-07T14:01:29.930Z"
   },
   {
    "duration": 999,
    "start_time": "2022-12-07T14:07:16.051Z"
   },
   {
    "duration": 93,
    "start_time": "2022-12-07T14:07:17.052Z"
   },
   {
    "duration": 12,
    "start_time": "2022-12-07T14:07:17.147Z"
   },
   {
    "duration": 13,
    "start_time": "2022-12-07T14:07:17.161Z"
   },
   {
    "duration": 60,
    "start_time": "2022-12-07T14:07:17.176Z"
   },
   {
    "duration": 9,
    "start_time": "2022-12-07T14:07:17.238Z"
   },
   {
    "duration": 23,
    "start_time": "2022-12-07T14:07:17.249Z"
   },
   {
    "duration": 227,
    "start_time": "2022-12-07T14:07:17.273Z"
   },
   {
    "duration": 5,
    "start_time": "2022-12-07T14:07:17.501Z"
   },
   {
    "duration": 174,
    "start_time": "2022-12-07T14:07:17.509Z"
   },
   {
    "duration": 129,
    "start_time": "2022-12-07T14:07:17.685Z"
   },
   {
    "duration": 276,
    "start_time": "2022-12-07T14:07:17.816Z"
   },
   {
    "duration": 331,
    "start_time": "2022-12-07T14:07:18.097Z"
   },
   {
    "duration": 310,
    "start_time": "2022-12-07T14:07:18.430Z"
   },
   {
    "duration": 396,
    "start_time": "2022-12-07T14:07:18.742Z"
   },
   {
    "duration": 326,
    "start_time": "2022-12-07T14:07:19.140Z"
   },
   {
    "duration": 423,
    "start_time": "2022-12-07T14:07:19.467Z"
   },
   {
    "duration": 10,
    "start_time": "2022-12-07T14:07:19.892Z"
   },
   {
    "duration": 32,
    "start_time": "2022-12-07T14:07:19.903Z"
   },
   {
    "duration": 153,
    "start_time": "2022-12-07T14:07:19.938Z"
   },
   {
    "duration": 5,
    "start_time": "2022-12-07T14:07:20.097Z"
   },
   {
    "duration": 173,
    "start_time": "2022-12-07T14:07:20.104Z"
   },
   {
    "duration": 190,
    "start_time": "2022-12-07T14:07:20.279Z"
   },
   {
    "duration": 6,
    "start_time": "2022-12-07T14:07:20.471Z"
   },
   {
    "duration": 24,
    "start_time": "2022-12-07T14:07:20.478Z"
   },
   {
    "duration": 146,
    "start_time": "2022-12-07T14:07:20.504Z"
   },
   {
    "duration": 7,
    "start_time": "2022-12-07T14:07:20.652Z"
   },
   {
    "duration": 182,
    "start_time": "2022-12-07T14:07:20.663Z"
   },
   {
    "duration": 9,
    "start_time": "2022-12-07T14:07:20.847Z"
   },
   {
    "duration": 28,
    "start_time": "2022-12-07T14:07:20.858Z"
   },
   {
    "duration": 34,
    "start_time": "2022-12-07T14:07:20.888Z"
   },
   {
    "duration": 31,
    "start_time": "2022-12-07T14:07:20.924Z"
   },
   {
    "duration": 10,
    "start_time": "2022-12-07T14:07:20.957Z"
   },
   {
    "duration": 75,
    "start_time": "2022-12-07T14:42:19.603Z"
   },
   {
    "duration": 49,
    "start_time": "2022-12-07T15:05:12.591Z"
   },
   {
    "duration": 1085,
    "start_time": "2022-12-07T15:05:17.478Z"
   },
   {
    "duration": 132,
    "start_time": "2022-12-07T15:05:18.565Z"
   },
   {
    "duration": 10,
    "start_time": "2022-12-07T15:05:18.699Z"
   },
   {
    "duration": 14,
    "start_time": "2022-12-07T15:05:18.710Z"
   },
   {
    "duration": 11,
    "start_time": "2022-12-07T15:06:21.897Z"
   },
   {
    "duration": 6,
    "start_time": "2022-12-07T15:08:20.149Z"
   },
   {
    "duration": 6,
    "start_time": "2022-12-07T15:08:25.879Z"
   },
   {
    "duration": 10,
    "start_time": "2022-12-07T15:09:15.574Z"
   },
   {
    "duration": 60,
    "start_time": "2022-12-07T15:10:34.553Z"
   },
   {
    "duration": 3,
    "start_time": "2022-12-07T15:10:45.181Z"
   },
   {
    "duration": 34,
    "start_time": "2022-12-07T15:10:45.189Z"
   },
   {
    "duration": 10,
    "start_time": "2022-12-07T15:10:45.225Z"
   },
   {
    "duration": 8,
    "start_time": "2022-12-07T15:10:45.236Z"
   },
   {
    "duration": 13,
    "start_time": "2022-12-07T15:10:45.246Z"
   },
   {
    "duration": 27,
    "start_time": "2022-12-07T15:10:45.260Z"
   },
   {
    "duration": 155,
    "start_time": "2022-12-07T15:10:45.289Z"
   },
   {
    "duration": 9,
    "start_time": "2022-12-07T15:10:45.445Z"
   },
   {
    "duration": 13,
    "start_time": "2022-12-07T15:10:45.456Z"
   },
   {
    "duration": 11,
    "start_time": "2022-12-07T15:10:45.470Z"
   },
   {
    "duration": 8,
    "start_time": "2022-12-07T15:11:05.860Z"
   },
   {
    "duration": 6,
    "start_time": "2022-12-07T15:11:12.141Z"
   },
   {
    "duration": 12,
    "start_time": "2022-12-07T15:11:53.730Z"
   },
   {
    "duration": 4,
    "start_time": "2022-12-07T15:12:14.430Z"
   },
   {
    "duration": 11,
    "start_time": "2022-12-07T15:14:25.337Z"
   },
   {
    "duration": 9,
    "start_time": "2022-12-07T15:14:31.536Z"
   },
   {
    "duration": 5,
    "start_time": "2022-12-07T15:15:12.224Z"
   },
   {
    "duration": 4,
    "start_time": "2022-12-07T15:15:20.291Z"
   },
   {
    "duration": 11,
    "start_time": "2022-12-07T15:15:53.819Z"
   },
   {
    "duration": 5,
    "start_time": "2022-12-07T15:16:06.044Z"
   },
   {
    "duration": 10,
    "start_time": "2022-12-07T15:16:20.921Z"
   },
   {
    "duration": 14,
    "start_time": "2022-12-07T15:18:08.188Z"
   },
   {
    "duration": 12,
    "start_time": "2022-12-07T15:18:56.406Z"
   },
   {
    "duration": 10,
    "start_time": "2022-12-07T15:19:10.125Z"
   },
   {
    "duration": 11,
    "start_time": "2022-12-07T15:19:17.628Z"
   },
   {
    "duration": 8,
    "start_time": "2022-12-07T15:19:53.401Z"
   },
   {
    "duration": 8,
    "start_time": "2022-12-07T15:21:13.784Z"
   },
   {
    "duration": 8,
    "start_time": "2022-12-07T15:21:27.686Z"
   },
   {
    "duration": 7,
    "start_time": "2022-12-07T15:21:33.973Z"
   },
   {
    "duration": 5,
    "start_time": "2022-12-07T15:21:52.804Z"
   },
   {
    "duration": 4,
    "start_time": "2022-12-07T15:22:59.051Z"
   },
   {
    "duration": 4,
    "start_time": "2022-12-07T15:23:06.106Z"
   },
   {
    "duration": 10,
    "start_time": "2022-12-07T15:25:57.722Z"
   },
   {
    "duration": 9,
    "start_time": "2022-12-07T15:26:28.075Z"
   },
   {
    "duration": 4,
    "start_time": "2022-12-07T15:26:40.394Z"
   },
   {
    "duration": 9,
    "start_time": "2022-12-07T15:26:48.577Z"
   },
   {
    "duration": 4,
    "start_time": "2022-12-07T15:26:54.523Z"
   },
   {
    "duration": 8,
    "start_time": "2022-12-07T15:27:04.545Z"
   },
   {
    "duration": 3,
    "start_time": "2022-12-07T15:31:03.924Z"
   },
   {
    "duration": 6,
    "start_time": "2022-12-07T15:31:05.265Z"
   },
   {
    "duration": 3,
    "start_time": "2022-12-07T15:31:15.435Z"
   },
   {
    "duration": 7,
    "start_time": "2022-12-07T15:31:15.961Z"
   },
   {
    "duration": 14,
    "start_time": "2022-12-07T15:31:28.884Z"
   },
   {
    "duration": 5,
    "start_time": "2022-12-07T15:31:48.651Z"
   },
   {
    "duration": 2,
    "start_time": "2022-12-07T15:32:18.781Z"
   },
   {
    "duration": 56,
    "start_time": "2022-12-07T15:32:18.789Z"
   },
   {
    "duration": 10,
    "start_time": "2022-12-07T15:32:18.847Z"
   },
   {
    "duration": 17,
    "start_time": "2022-12-07T15:32:18.859Z"
   },
   {
    "duration": 41,
    "start_time": "2022-12-07T15:32:18.879Z"
   },
   {
    "duration": 33,
    "start_time": "2022-12-07T15:32:18.922Z"
   },
   {
    "duration": 81,
    "start_time": "2022-12-07T15:32:18.956Z"
   },
   {
    "duration": 9,
    "start_time": "2022-12-07T15:32:19.039Z"
   },
   {
    "duration": 40,
    "start_time": "2022-12-07T15:32:19.049Z"
   },
   {
    "duration": 32,
    "start_time": "2022-12-07T15:32:19.091Z"
   },
   {
    "duration": 45,
    "start_time": "2022-12-07T15:32:19.125Z"
   },
   {
    "duration": 40,
    "start_time": "2022-12-07T15:32:19.172Z"
   },
   {
    "duration": 47,
    "start_time": "2022-12-07T15:32:19.214Z"
   },
   {
    "duration": 31,
    "start_time": "2022-12-07T15:32:19.263Z"
   },
   {
    "duration": 30,
    "start_time": "2022-12-07T15:32:19.295Z"
   },
   {
    "duration": 22,
    "start_time": "2022-12-07T15:32:19.327Z"
   },
   {
    "duration": 4,
    "start_time": "2022-12-07T15:32:33.033Z"
   },
   {
    "duration": 8,
    "start_time": "2022-12-07T15:32:34.426Z"
   },
   {
    "duration": 9,
    "start_time": "2022-12-07T15:32:59.217Z"
   },
   {
    "duration": 10,
    "start_time": "2022-12-07T15:33:05.699Z"
   },
   {
    "duration": 3,
    "start_time": "2022-12-07T15:33:49.086Z"
   },
   {
    "duration": 15,
    "start_time": "2022-12-07T15:36:32.009Z"
   },
   {
    "duration": 3,
    "start_time": "2022-12-07T15:36:38.035Z"
   },
   {
    "duration": 40,
    "start_time": "2022-12-07T15:36:38.044Z"
   },
   {
    "duration": 10,
    "start_time": "2022-12-07T15:36:38.086Z"
   },
   {
    "duration": 8,
    "start_time": "2022-12-07T15:36:38.098Z"
   },
   {
    "duration": 12,
    "start_time": "2022-12-07T15:36:38.108Z"
   },
   {
    "duration": 15,
    "start_time": "2022-12-07T15:36:38.122Z"
   },
   {
    "duration": 59,
    "start_time": "2022-12-07T15:36:38.140Z"
   },
   {
    "duration": 9,
    "start_time": "2022-12-07T15:36:38.200Z"
   },
   {
    "duration": 12,
    "start_time": "2022-12-07T15:36:38.211Z"
   },
   {
    "duration": 6,
    "start_time": "2022-12-07T15:36:38.225Z"
   },
   {
    "duration": 7,
    "start_time": "2022-12-07T15:36:38.233Z"
   },
   {
    "duration": 10,
    "start_time": "2022-12-07T15:36:38.241Z"
   },
   {
    "duration": 6,
    "start_time": "2022-12-07T15:36:38.252Z"
   },
   {
    "duration": 7,
    "start_time": "2022-12-07T15:36:38.260Z"
   },
   {
    "duration": 9,
    "start_time": "2022-12-07T15:36:38.269Z"
   },
   {
    "duration": 3,
    "start_time": "2022-12-07T15:36:38.280Z"
   },
   {
    "duration": 6,
    "start_time": "2022-12-07T15:36:38.285Z"
   },
   {
    "duration": 44,
    "start_time": "2022-12-07T15:36:38.293Z"
   },
   {
    "duration": 201,
    "start_time": "2022-12-07T15:36:38.339Z"
   },
   {
    "duration": 5,
    "start_time": "2022-12-07T15:36:38.542Z"
   },
   {
    "duration": 164,
    "start_time": "2022-12-07T15:36:38.548Z"
   },
   {
    "duration": 122,
    "start_time": "2022-12-07T15:36:38.713Z"
   },
   {
    "duration": 250,
    "start_time": "2022-12-07T15:36:38.837Z"
   },
   {
    "duration": 330,
    "start_time": "2022-12-07T15:36:39.089Z"
   },
   {
    "duration": 307,
    "start_time": "2022-12-07T15:38:17.033Z"
   },
   {
    "duration": 288,
    "start_time": "2022-12-07T15:38:59.997Z"
   },
   {
    "duration": 301,
    "start_time": "2022-12-07T15:39:13.518Z"
   },
   {
    "duration": 303,
    "start_time": "2022-12-07T15:39:25.226Z"
   },
   {
    "duration": 429,
    "start_time": "2022-12-07T15:39:50.114Z"
   },
   {
    "duration": 300,
    "start_time": "2022-12-07T15:40:11.438Z"
   },
   {
    "duration": 371,
    "start_time": "2022-12-07T15:40:27.249Z"
   },
   {
    "duration": 54,
    "start_time": "2022-12-07T15:50:02.021Z"
   },
   {
    "duration": 257,
    "start_time": "2022-12-07T15:52:25.612Z"
   },
   {
    "duration": 3,
    "start_time": "2022-12-07T15:54:53.187Z"
   },
   {
    "duration": 31,
    "start_time": "2022-12-07T15:54:53.196Z"
   },
   {
    "duration": 10,
    "start_time": "2022-12-07T15:54:53.229Z"
   },
   {
    "duration": 10,
    "start_time": "2022-12-07T15:54:53.240Z"
   },
   {
    "duration": 14,
    "start_time": "2022-12-07T15:54:53.252Z"
   },
   {
    "duration": 22,
    "start_time": "2022-12-07T15:54:53.267Z"
   },
   {
    "duration": 56,
    "start_time": "2022-12-07T15:54:53.291Z"
   },
   {
    "duration": 7,
    "start_time": "2022-12-07T15:54:53.349Z"
   },
   {
    "duration": 21,
    "start_time": "2022-12-07T15:54:53.358Z"
   },
   {
    "duration": 21,
    "start_time": "2022-12-07T15:54:53.381Z"
   },
   {
    "duration": 22,
    "start_time": "2022-12-07T15:54:53.403Z"
   },
   {
    "duration": 17,
    "start_time": "2022-12-07T15:54:53.427Z"
   },
   {
    "duration": 17,
    "start_time": "2022-12-07T15:54:53.445Z"
   },
   {
    "duration": 14,
    "start_time": "2022-12-07T15:54:53.464Z"
   },
   {
    "duration": 8,
    "start_time": "2022-12-07T15:54:53.480Z"
   },
   {
    "duration": 11,
    "start_time": "2022-12-07T15:54:53.490Z"
   },
   {
    "duration": 10,
    "start_time": "2022-12-07T15:54:53.502Z"
   },
   {
    "duration": 18,
    "start_time": "2022-12-07T15:54:53.514Z"
   },
   {
    "duration": 209,
    "start_time": "2022-12-07T15:54:53.534Z"
   },
   {
    "duration": 6,
    "start_time": "2022-12-07T15:54:53.745Z"
   },
   {
    "duration": 163,
    "start_time": "2022-12-07T15:54:53.752Z"
   },
   {
    "duration": 118,
    "start_time": "2022-12-07T15:54:53.917Z"
   },
   {
    "duration": 247,
    "start_time": "2022-12-07T15:54:54.037Z"
   },
   {
    "duration": 295,
    "start_time": "2022-12-07T15:54:54.286Z"
   },
   {
    "duration": 303,
    "start_time": "2022-12-07T15:54:54.583Z"
   },
   {
    "duration": 419,
    "start_time": "2022-12-07T15:54:54.888Z"
   },
   {
    "duration": 336,
    "start_time": "2022-12-07T15:54:55.310Z"
   },
   {
    "duration": 455,
    "start_time": "2022-12-07T15:54:55.648Z"
   },
   {
    "duration": 8,
    "start_time": "2022-12-07T15:54:56.105Z"
   },
   {
    "duration": 25,
    "start_time": "2022-12-07T15:54:56.115Z"
   },
   {
    "duration": 179,
    "start_time": "2022-12-07T15:54:56.142Z"
   },
   {
    "duration": 5,
    "start_time": "2022-12-07T15:54:56.323Z"
   },
   {
    "duration": 164,
    "start_time": "2022-12-07T15:54:56.334Z"
   },
   {
    "duration": 184,
    "start_time": "2022-12-07T15:54:56.500Z"
   },
   {
    "duration": 5,
    "start_time": "2022-12-07T15:54:56.687Z"
   },
   {
    "duration": 19,
    "start_time": "2022-12-07T15:54:56.694Z"
   },
   {
    "duration": 155,
    "start_time": "2022-12-07T15:54:56.715Z"
   },
   {
    "duration": 6,
    "start_time": "2022-12-07T15:54:56.872Z"
   },
   {
    "duration": 157,
    "start_time": "2022-12-07T15:54:56.879Z"
   },
   {
    "duration": 8,
    "start_time": "2022-12-07T15:54:57.038Z"
   },
   {
    "duration": 8,
    "start_time": "2022-12-07T15:54:57.047Z"
   },
   {
    "duration": 11,
    "start_time": "2022-12-07T15:55:56.613Z"
   },
   {
    "duration": 9,
    "start_time": "2022-12-07T15:56:52.230Z"
   },
   {
    "duration": 9,
    "start_time": "2022-12-07T15:58:53.122Z"
   },
   {
    "duration": 3,
    "start_time": "2022-12-07T15:59:02.282Z"
   },
   {
    "duration": 61,
    "start_time": "2022-12-07T15:59:02.292Z"
   },
   {
    "duration": 16,
    "start_time": "2022-12-07T15:59:02.355Z"
   },
   {
    "duration": 25,
    "start_time": "2022-12-07T15:59:02.372Z"
   },
   {
    "duration": 41,
    "start_time": "2022-12-07T15:59:02.400Z"
   },
   {
    "duration": 21,
    "start_time": "2022-12-07T15:59:02.443Z"
   },
   {
    "duration": 86,
    "start_time": "2022-12-07T15:59:02.466Z"
   },
   {
    "duration": 10,
    "start_time": "2022-12-07T15:59:02.554Z"
   },
   {
    "duration": 21,
    "start_time": "2022-12-07T15:59:02.567Z"
   },
   {
    "duration": 24,
    "start_time": "2022-12-07T15:59:02.590Z"
   },
   {
    "duration": 25,
    "start_time": "2022-12-07T15:59:02.617Z"
   },
   {
    "duration": 25,
    "start_time": "2022-12-07T15:59:02.644Z"
   },
   {
    "duration": 21,
    "start_time": "2022-12-07T15:59:02.670Z"
   },
   {
    "duration": 12,
    "start_time": "2022-12-07T15:59:02.692Z"
   },
   {
    "duration": 9,
    "start_time": "2022-12-07T15:59:02.705Z"
   },
   {
    "duration": 12,
    "start_time": "2022-12-07T15:59:02.715Z"
   },
   {
    "duration": 39,
    "start_time": "2022-12-07T15:59:02.729Z"
   },
   {
    "duration": 35,
    "start_time": "2022-12-07T15:59:02.769Z"
   },
   {
    "duration": 227,
    "start_time": "2022-12-07T15:59:02.806Z"
   },
   {
    "duration": 4,
    "start_time": "2022-12-07T15:59:03.036Z"
   },
   {
    "duration": 161,
    "start_time": "2022-12-07T15:59:03.042Z"
   },
   {
    "duration": 112,
    "start_time": "2022-12-07T15:59:03.205Z"
   },
   {
    "duration": 280,
    "start_time": "2022-12-07T15:59:03.319Z"
   },
   {
    "duration": 313,
    "start_time": "2022-12-07T15:59:03.601Z"
   },
   {
    "duration": 409,
    "start_time": "2022-12-07T15:59:03.915Z"
   },
   {
    "duration": 386,
    "start_time": "2022-12-07T15:59:04.326Z"
   },
   {
    "duration": 322,
    "start_time": "2022-12-07T15:59:04.713Z"
   },
   {
    "duration": 400,
    "start_time": "2022-12-07T15:59:05.038Z"
   },
   {
    "duration": 9,
    "start_time": "2022-12-07T15:59:05.440Z"
   },
   {
    "duration": 21,
    "start_time": "2022-12-07T15:59:05.450Z"
   },
   {
    "duration": 168,
    "start_time": "2022-12-07T15:59:05.473Z"
   },
   {
    "duration": 5,
    "start_time": "2022-12-07T15:59:05.643Z"
   },
   {
    "duration": 181,
    "start_time": "2022-12-07T15:59:05.650Z"
   },
   {
    "duration": 178,
    "start_time": "2022-12-07T15:59:05.832Z"
   },
   {
    "duration": 5,
    "start_time": "2022-12-07T15:59:06.012Z"
   },
   {
    "duration": 22,
    "start_time": "2022-12-07T15:59:06.018Z"
   },
   {
    "duration": 126,
    "start_time": "2022-12-07T15:59:06.042Z"
   },
   {
    "duration": 8,
    "start_time": "2022-12-07T15:59:06.169Z"
   },
   {
    "duration": 166,
    "start_time": "2022-12-07T15:59:06.179Z"
   },
   {
    "duration": 11,
    "start_time": "2022-12-07T15:59:06.348Z"
   },
   {
    "duration": 26,
    "start_time": "2022-12-07T15:59:06.361Z"
   },
   {
    "duration": 5,
    "start_time": "2022-12-07T16:01:25.066Z"
   },
   {
    "duration": 3,
    "start_time": "2022-12-07T16:01:31.541Z"
   },
   {
    "duration": 34,
    "start_time": "2022-12-07T16:01:31.549Z"
   },
   {
    "duration": 10,
    "start_time": "2022-12-07T16:01:31.585Z"
   },
   {
    "duration": 30,
    "start_time": "2022-12-07T16:01:31.597Z"
   },
   {
    "duration": 28,
    "start_time": "2022-12-07T16:01:31.629Z"
   },
   {
    "duration": 29,
    "start_time": "2022-12-07T16:01:31.659Z"
   },
   {
    "duration": 63,
    "start_time": "2022-12-07T16:01:31.690Z"
   },
   {
    "duration": 8,
    "start_time": "2022-12-07T16:01:31.755Z"
   },
   {
    "duration": 18,
    "start_time": "2022-12-07T16:01:31.764Z"
   },
   {
    "duration": 19,
    "start_time": "2022-12-07T16:01:31.783Z"
   },
   {
    "duration": 20,
    "start_time": "2022-12-07T16:01:31.803Z"
   },
   {
    "duration": 26,
    "start_time": "2022-12-07T16:01:31.825Z"
   },
   {
    "duration": 31,
    "start_time": "2022-12-07T16:01:31.852Z"
   },
   {
    "duration": 16,
    "start_time": "2022-12-07T16:01:31.886Z"
   },
   {
    "duration": 12,
    "start_time": "2022-12-07T16:01:31.903Z"
   },
   {
    "duration": 16,
    "start_time": "2022-12-07T16:01:31.917Z"
   },
   {
    "duration": 25,
    "start_time": "2022-12-07T16:01:31.934Z"
   },
   {
    "duration": 24,
    "start_time": "2022-12-07T16:01:31.961Z"
   },
   {
    "duration": 223,
    "start_time": "2022-12-07T16:01:31.987Z"
   },
   {
    "duration": 6,
    "start_time": "2022-12-07T16:01:32.212Z"
   },
   {
    "duration": 156,
    "start_time": "2022-12-07T16:01:32.219Z"
   },
   {
    "duration": 141,
    "start_time": "2022-12-07T16:01:32.376Z"
   },
   {
    "duration": 303,
    "start_time": "2022-12-07T16:01:32.519Z"
   },
   {
    "duration": 316,
    "start_time": "2022-12-07T16:01:32.824Z"
   },
   {
    "duration": 305,
    "start_time": "2022-12-07T16:01:33.142Z"
   },
   {
    "duration": 363,
    "start_time": "2022-12-07T16:01:33.448Z"
   },
   {
    "duration": 323,
    "start_time": "2022-12-07T16:01:33.813Z"
   },
   {
    "duration": 393,
    "start_time": "2022-12-07T16:01:34.140Z"
   },
   {
    "duration": 8,
    "start_time": "2022-12-07T16:01:34.536Z"
   },
   {
    "duration": 18,
    "start_time": "2022-12-07T16:01:34.545Z"
   },
   {
    "duration": 289,
    "start_time": "2022-12-07T16:01:34.565Z"
   },
   {
    "duration": 4,
    "start_time": "2022-12-07T16:01:34.856Z"
   },
   {
    "duration": 168,
    "start_time": "2022-12-07T16:01:34.862Z"
   },
   {
    "duration": 174,
    "start_time": "2022-12-07T16:01:35.032Z"
   },
   {
    "duration": 5,
    "start_time": "2022-12-07T16:01:35.208Z"
   },
   {
    "duration": 23,
    "start_time": "2022-12-07T16:01:35.215Z"
   },
   {
    "duration": 119,
    "start_time": "2022-12-07T16:01:35.240Z"
   },
   {
    "duration": 7,
    "start_time": "2022-12-07T16:01:35.361Z"
   },
   {
    "duration": 166,
    "start_time": "2022-12-07T16:01:35.370Z"
   },
   {
    "duration": 10,
    "start_time": "2022-12-07T16:01:35.538Z"
   },
   {
    "duration": 12,
    "start_time": "2022-12-07T16:01:35.549Z"
   },
   {
    "duration": 9,
    "start_time": "2022-12-07T16:01:35.563Z"
   },
   {
    "duration": 28,
    "start_time": "2022-12-07T16:01:35.574Z"
   },
   {
    "duration": 31,
    "start_time": "2022-12-07T16:01:35.604Z"
   },
   {
    "duration": 823,
    "start_time": "2022-12-07T16:03:02.146Z"
   },
   {
    "duration": 12,
    "start_time": "2022-12-07T16:03:27.609Z"
   },
   {
    "duration": 3,
    "start_time": "2022-12-07T16:03:39.346Z"
   },
   {
    "duration": 32,
    "start_time": "2022-12-07T16:03:39.361Z"
   },
   {
    "duration": 9,
    "start_time": "2022-12-07T16:03:39.395Z"
   },
   {
    "duration": 7,
    "start_time": "2022-12-07T16:03:39.406Z"
   },
   {
    "duration": 12,
    "start_time": "2022-12-07T16:03:39.415Z"
   },
   {
    "duration": 21,
    "start_time": "2022-12-07T16:03:39.429Z"
   },
   {
    "duration": 49,
    "start_time": "2022-12-07T16:03:39.452Z"
   },
   {
    "duration": 8,
    "start_time": "2022-12-07T16:03:39.502Z"
   },
   {
    "duration": 11,
    "start_time": "2022-12-07T16:03:39.512Z"
   },
   {
    "duration": 8,
    "start_time": "2022-12-07T16:03:39.524Z"
   },
   {
    "duration": 14,
    "start_time": "2022-12-07T16:03:39.533Z"
   },
   {
    "duration": 15,
    "start_time": "2022-12-07T16:03:39.549Z"
   },
   {
    "duration": 8,
    "start_time": "2022-12-07T16:03:39.566Z"
   },
   {
    "duration": 10,
    "start_time": "2022-12-07T16:03:39.576Z"
   },
   {
    "duration": 10,
    "start_time": "2022-12-07T16:03:39.588Z"
   },
   {
    "duration": 4,
    "start_time": "2022-12-07T16:03:39.600Z"
   },
   {
    "duration": 33,
    "start_time": "2022-12-07T16:03:39.606Z"
   },
   {
    "duration": 11,
    "start_time": "2022-12-07T16:03:39.642Z"
   },
   {
    "duration": 225,
    "start_time": "2022-12-07T16:03:39.655Z"
   },
   {
    "duration": 4,
    "start_time": "2022-12-07T16:03:39.882Z"
   },
   {
    "duration": 169,
    "start_time": "2022-12-07T16:03:39.887Z"
   },
   {
    "duration": 126,
    "start_time": "2022-12-07T16:03:40.058Z"
   },
   {
    "duration": 279,
    "start_time": "2022-12-07T16:03:40.186Z"
   },
   {
    "duration": 311,
    "start_time": "2022-12-07T16:03:40.467Z"
   },
   {
    "duration": 316,
    "start_time": "2022-12-07T16:03:40.780Z"
   },
   {
    "duration": 387,
    "start_time": "2022-12-07T16:03:41.098Z"
   },
   {
    "duration": 305,
    "start_time": "2022-12-07T16:03:41.488Z"
   },
   {
    "duration": 389,
    "start_time": "2022-12-07T16:03:41.794Z"
   },
   {
    "duration": 8,
    "start_time": "2022-12-07T16:03:42.185Z"
   },
   {
    "duration": 11,
    "start_time": "2022-12-07T16:03:42.195Z"
   },
   {
    "duration": 182,
    "start_time": "2022-12-07T16:03:42.208Z"
   },
   {
    "duration": 7,
    "start_time": "2022-12-07T16:03:42.393Z"
   },
   {
    "duration": 188,
    "start_time": "2022-12-07T16:03:42.402Z"
   },
   {
    "duration": 195,
    "start_time": "2022-12-07T16:03:42.592Z"
   },
   {
    "duration": 4,
    "start_time": "2022-12-07T16:03:42.790Z"
   },
   {
    "duration": 10,
    "start_time": "2022-12-07T16:03:42.796Z"
   },
   {
    "duration": 146,
    "start_time": "2022-12-07T16:03:42.808Z"
   },
   {
    "duration": 6,
    "start_time": "2022-12-07T16:03:42.957Z"
   },
   {
    "duration": 163,
    "start_time": "2022-12-07T16:03:42.964Z"
   },
   {
    "duration": 22,
    "start_time": "2022-12-07T16:03:43.128Z"
   },
   {
    "duration": 16,
    "start_time": "2022-12-07T16:03:43.152Z"
   },
   {
    "duration": 8,
    "start_time": "2022-12-07T16:03:43.170Z"
   },
   {
    "duration": 23,
    "start_time": "2022-12-07T16:03:43.179Z"
   },
   {
    "duration": 35,
    "start_time": "2022-12-07T16:03:43.204Z"
   },
   {
    "duration": 8,
    "start_time": "2022-12-07T16:04:22.401Z"
   },
   {
    "duration": 15,
    "start_time": "2022-12-07T16:05:05.621Z"
   },
   {
    "duration": 31,
    "start_time": "2022-12-07T16:15:06.491Z"
   },
   {
    "duration": 1000,
    "start_time": "2022-12-08T05:59:21.595Z"
   },
   {
    "duration": 127,
    "start_time": "2022-12-08T05:59:22.598Z"
   },
   {
    "duration": 11,
    "start_time": "2022-12-08T05:59:22.727Z"
   },
   {
    "duration": 25,
    "start_time": "2022-12-08T05:59:22.739Z"
   },
   {
    "duration": 30,
    "start_time": "2022-12-08T05:59:22.766Z"
   },
   {
    "duration": 23,
    "start_time": "2022-12-08T05:59:22.798Z"
   },
   {
    "duration": 178,
    "start_time": "2022-12-08T05:59:22.823Z"
   },
   {
    "duration": 7,
    "start_time": "2022-12-08T05:59:23.003Z"
   },
   {
    "duration": 15,
    "start_time": "2022-12-08T05:59:23.012Z"
   },
   {
    "duration": 28,
    "start_time": "2022-12-08T05:59:23.028Z"
   },
   {
    "duration": 25,
    "start_time": "2022-12-08T05:59:23.057Z"
   },
   {
    "duration": 32,
    "start_time": "2022-12-08T05:59:23.083Z"
   },
   {
    "duration": 20,
    "start_time": "2022-12-08T05:59:23.117Z"
   },
   {
    "duration": 31,
    "start_time": "2022-12-08T05:59:23.139Z"
   },
   {
    "duration": 31,
    "start_time": "2022-12-08T05:59:23.172Z"
   },
   {
    "duration": 30,
    "start_time": "2022-12-08T05:59:23.205Z"
   },
   {
    "duration": 13,
    "start_time": "2022-12-08T05:59:23.236Z"
   },
   {
    "duration": 29,
    "start_time": "2022-12-08T05:59:23.251Z"
   },
   {
    "duration": 218,
    "start_time": "2022-12-08T05:59:23.282Z"
   },
   {
    "duration": 5,
    "start_time": "2022-12-08T05:59:23.501Z"
   },
   {
    "duration": 188,
    "start_time": "2022-12-08T05:59:23.507Z"
   },
   {
    "duration": 104,
    "start_time": "2022-12-08T05:59:23.697Z"
   },
   {
    "duration": 246,
    "start_time": "2022-12-08T05:59:23.803Z"
   },
   {
    "duration": 307,
    "start_time": "2022-12-08T05:59:24.051Z"
   },
   {
    "duration": 297,
    "start_time": "2022-12-08T05:59:24.360Z"
   },
   {
    "duration": 362,
    "start_time": "2022-12-08T05:59:24.659Z"
   },
   {
    "duration": 321,
    "start_time": "2022-12-08T05:59:25.023Z"
   },
   {
    "duration": 398,
    "start_time": "2022-12-08T05:59:25.345Z"
   },
   {
    "duration": 8,
    "start_time": "2022-12-08T05:59:25.745Z"
   },
   {
    "duration": 16,
    "start_time": "2022-12-08T05:59:25.755Z"
   },
   {
    "duration": 173,
    "start_time": "2022-12-08T05:59:25.773Z"
   },
   {
    "duration": 5,
    "start_time": "2022-12-08T05:59:25.947Z"
   },
   {
    "duration": 171,
    "start_time": "2022-12-08T05:59:25.954Z"
   },
   {
    "duration": 174,
    "start_time": "2022-12-08T05:59:26.126Z"
   },
   {
    "duration": 5,
    "start_time": "2022-12-08T05:59:26.301Z"
   },
   {
    "duration": 10,
    "start_time": "2022-12-08T05:59:26.307Z"
   },
   {
    "duration": 156,
    "start_time": "2022-12-08T05:59:26.319Z"
   },
   {
    "duration": 7,
    "start_time": "2022-12-08T05:59:26.477Z"
   },
   {
    "duration": 175,
    "start_time": "2022-12-08T05:59:26.486Z"
   },
   {
    "duration": 11,
    "start_time": "2022-12-08T05:59:26.663Z"
   },
   {
    "duration": 23,
    "start_time": "2022-12-08T05:59:26.678Z"
   },
   {
    "duration": 15,
    "start_time": "2022-12-08T05:59:26.703Z"
   },
   {
    "duration": 34,
    "start_time": "2022-12-08T05:59:26.720Z"
   },
   {
    "duration": 6,
    "start_time": "2022-12-08T05:59:26.755Z"
   },
   {
    "duration": 18,
    "start_time": "2022-12-08T05:59:26.763Z"
   },
   {
    "duration": 1087,
    "start_time": "2022-12-08T06:22:08.367Z"
   },
   {
    "duration": 62,
    "start_time": "2022-12-08T06:22:09.457Z"
   },
   {
    "duration": 24,
    "start_time": "2022-12-08T06:22:09.520Z"
   },
   {
    "duration": 37,
    "start_time": "2022-12-08T06:22:09.545Z"
   },
   {
    "duration": 58,
    "start_time": "2022-12-08T06:22:09.585Z"
   },
   {
    "duration": 23,
    "start_time": "2022-12-08T06:22:09.644Z"
   },
   {
    "duration": 85,
    "start_time": "2022-12-08T06:22:09.669Z"
   },
   {
    "duration": 9,
    "start_time": "2022-12-08T06:22:09.756Z"
   },
   {
    "duration": 51,
    "start_time": "2022-12-08T06:22:09.767Z"
   },
   {
    "duration": 34,
    "start_time": "2022-12-08T06:22:09.820Z"
   },
   {
    "duration": 35,
    "start_time": "2022-12-08T06:22:09.856Z"
   },
   {
    "duration": 30,
    "start_time": "2022-12-08T06:22:09.893Z"
   },
   {
    "duration": 20,
    "start_time": "2022-12-08T06:22:09.925Z"
   },
   {
    "duration": 19,
    "start_time": "2022-12-08T06:22:09.949Z"
   },
   {
    "duration": 26,
    "start_time": "2022-12-08T06:22:09.970Z"
   },
   {
    "duration": 17,
    "start_time": "2022-12-08T06:22:09.999Z"
   },
   {
    "duration": 33,
    "start_time": "2022-12-08T06:22:10.018Z"
   },
   {
    "duration": 33,
    "start_time": "2022-12-08T06:22:10.053Z"
   },
   {
    "duration": 223,
    "start_time": "2022-12-08T06:22:10.088Z"
   },
   {
    "duration": 5,
    "start_time": "2022-12-08T06:22:10.313Z"
   },
   {
    "duration": 167,
    "start_time": "2022-12-08T06:22:10.319Z"
   },
   {
    "duration": 106,
    "start_time": "2022-12-08T06:22:10.488Z"
   },
   {
    "duration": 248,
    "start_time": "2022-12-08T06:22:10.596Z"
   },
   {
    "duration": 296,
    "start_time": "2022-12-08T06:22:10.846Z"
   },
   {
    "duration": 288,
    "start_time": "2022-12-08T06:22:11.144Z"
   },
   {
    "duration": 365,
    "start_time": "2022-12-08T06:22:11.435Z"
   },
   {
    "duration": 298,
    "start_time": "2022-12-08T06:22:11.802Z"
   },
   {
    "duration": 433,
    "start_time": "2022-12-08T06:22:12.102Z"
   },
   {
    "duration": 10,
    "start_time": "2022-12-08T06:22:12.537Z"
   },
   {
    "duration": 21,
    "start_time": "2022-12-08T06:22:12.549Z"
   },
   {
    "duration": 198,
    "start_time": "2022-12-08T06:22:12.572Z"
   },
   {
    "duration": 5,
    "start_time": "2022-12-08T06:22:12.771Z"
   },
   {
    "duration": 155,
    "start_time": "2022-12-08T06:22:12.778Z"
   },
   {
    "duration": 156,
    "start_time": "2022-12-08T06:22:12.935Z"
   },
   {
    "duration": 5,
    "start_time": "2022-12-08T06:22:13.092Z"
   },
   {
    "duration": 13,
    "start_time": "2022-12-08T06:22:13.099Z"
   },
   {
    "duration": 150,
    "start_time": "2022-12-08T06:22:13.114Z"
   },
   {
    "duration": 6,
    "start_time": "2022-12-08T06:22:13.265Z"
   },
   {
    "duration": 178,
    "start_time": "2022-12-08T06:22:13.272Z"
   },
   {
    "duration": 10,
    "start_time": "2022-12-08T06:22:13.451Z"
   },
   {
    "duration": 9,
    "start_time": "2022-12-08T06:22:13.464Z"
   },
   {
    "duration": 12,
    "start_time": "2022-12-08T06:22:13.475Z"
   },
   {
    "duration": 23,
    "start_time": "2022-12-08T06:22:13.489Z"
   },
   {
    "duration": 26,
    "start_time": "2022-12-08T06:22:13.513Z"
   },
   {
    "duration": 14,
    "start_time": "2022-12-08T06:22:13.541Z"
   }
  ],
  "kernelspec": {
   "display_name": "Python 3 (ipykernel)",
   "language": "python",
   "name": "python3"
  },
  "language_info": {
   "codemirror_mode": {
    "name": "ipython",
    "version": 3
   },
   "file_extension": ".py",
   "mimetype": "text/x-python",
   "name": "python",
   "nbconvert_exporter": "python",
   "pygments_lexer": "ipython3",
   "version": "3.9.12"
  },
  "toc": {
   "base_numbering": 1,
   "nav_menu": {},
   "number_sections": true,
   "sideBar": true,
   "skip_h1_title": true,
   "title_cell": "Table of Contents",
   "title_sidebar": "Contents",
   "toc_cell": false,
   "toc_position": {},
   "toc_section_display": true,
   "toc_window_display": false
  }
 },
 "nbformat": 4,
 "nbformat_minor": 2
}
