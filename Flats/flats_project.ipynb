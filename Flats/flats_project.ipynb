{
 "cells": [
  {
   "cell_type": "markdown",
   "metadata": {},
   "source": [
    "# Продажа квартир в Санкт-Петербурге — анализ рынка недвижимости\n",
    "\n",
    "Имеем данные о продаже квартир в Санкт-Петербурге и соседних населённых пунктов за несколько лет. Нужно определить закономерности рыночной стоимости объектов недвижимости от других параметров."
   ]
  },
  {
   "cell_type": "markdown",
   "metadata": {},
   "source": [
    "### Задача проекта\n",
    "Используя данные сервиса Яндекс.Недвижимость, определить рыночную стоимость объектов недвижимости и типичные параметры квартир"
   ]
  },
  {
   "cell_type": "markdown",
   "metadata": {},
   "source": [
    "### Откроем файл с данными и изучим общую информацию. "
   ]
  },
  {
   "cell_type": "code",
   "execution_count": 2,
   "metadata": {},
   "outputs": [],
   "source": [
    "import pandas as pd"
   ]
  },
  {
   "cell_type": "code",
   "execution_count": 3,
   "metadata": {},
   "outputs": [
    {
     "data": {
      "text/html": [
       "<div>\n",
       "<style scoped>\n",
       "    .dataframe tbody tr th:only-of-type {\n",
       "        vertical-align: middle;\n",
       "    }\n",
       "\n",
       "    .dataframe tbody tr th {\n",
       "        vertical-align: top;\n",
       "    }\n",
       "\n",
       "    .dataframe thead th {\n",
       "        text-align: right;\n",
       "    }\n",
       "</style>\n",
       "<table border=\"1\" class=\"dataframe\">\n",
       "  <thead>\n",
       "    <tr style=\"text-align: right;\">\n",
       "      <th></th>\n",
       "      <th>total_images</th>\n",
       "      <th>last_price</th>\n",
       "      <th>total_area</th>\n",
       "      <th>first_day_exposition</th>\n",
       "      <th>rooms</th>\n",
       "      <th>ceiling_height</th>\n",
       "      <th>floors_total</th>\n",
       "      <th>living_area</th>\n",
       "      <th>floor</th>\n",
       "      <th>is_apartment</th>\n",
       "      <th>...</th>\n",
       "      <th>kitchen_area</th>\n",
       "      <th>balcony</th>\n",
       "      <th>locality_name</th>\n",
       "      <th>airports_nearest</th>\n",
       "      <th>cityCenters_nearest</th>\n",
       "      <th>parks_around3000</th>\n",
       "      <th>parks_nearest</th>\n",
       "      <th>ponds_around3000</th>\n",
       "      <th>ponds_nearest</th>\n",
       "      <th>days_exposition</th>\n",
       "    </tr>\n",
       "  </thead>\n",
       "  <tbody>\n",
       "    <tr>\n",
       "      <th>0</th>\n",
       "      <td>20</td>\n",
       "      <td>13000000.0</td>\n",
       "      <td>108.0</td>\n",
       "      <td>2019-03-07T00:00:00</td>\n",
       "      <td>3</td>\n",
       "      <td>2.70</td>\n",
       "      <td>16.0</td>\n",
       "      <td>51.0</td>\n",
       "      <td>8</td>\n",
       "      <td>NaN</td>\n",
       "      <td>...</td>\n",
       "      <td>25.0</td>\n",
       "      <td>NaN</td>\n",
       "      <td>Санкт-Петербург</td>\n",
       "      <td>18863.0</td>\n",
       "      <td>16028.0</td>\n",
       "      <td>1.0</td>\n",
       "      <td>482.0</td>\n",
       "      <td>2.0</td>\n",
       "      <td>755.0</td>\n",
       "      <td>NaN</td>\n",
       "    </tr>\n",
       "    <tr>\n",
       "      <th>1</th>\n",
       "      <td>7</td>\n",
       "      <td>3350000.0</td>\n",
       "      <td>40.4</td>\n",
       "      <td>2018-12-04T00:00:00</td>\n",
       "      <td>1</td>\n",
       "      <td>NaN</td>\n",
       "      <td>11.0</td>\n",
       "      <td>18.6</td>\n",
       "      <td>1</td>\n",
       "      <td>NaN</td>\n",
       "      <td>...</td>\n",
       "      <td>11.0</td>\n",
       "      <td>2.0</td>\n",
       "      <td>посёлок Шушары</td>\n",
       "      <td>12817.0</td>\n",
       "      <td>18603.0</td>\n",
       "      <td>0.0</td>\n",
       "      <td>NaN</td>\n",
       "      <td>0.0</td>\n",
       "      <td>NaN</td>\n",
       "      <td>81.0</td>\n",
       "    </tr>\n",
       "    <tr>\n",
       "      <th>2</th>\n",
       "      <td>10</td>\n",
       "      <td>5196000.0</td>\n",
       "      <td>56.0</td>\n",
       "      <td>2015-08-20T00:00:00</td>\n",
       "      <td>2</td>\n",
       "      <td>NaN</td>\n",
       "      <td>5.0</td>\n",
       "      <td>34.3</td>\n",
       "      <td>4</td>\n",
       "      <td>NaN</td>\n",
       "      <td>...</td>\n",
       "      <td>8.3</td>\n",
       "      <td>0.0</td>\n",
       "      <td>Санкт-Петербург</td>\n",
       "      <td>21741.0</td>\n",
       "      <td>13933.0</td>\n",
       "      <td>1.0</td>\n",
       "      <td>90.0</td>\n",
       "      <td>2.0</td>\n",
       "      <td>574.0</td>\n",
       "      <td>558.0</td>\n",
       "    </tr>\n",
       "    <tr>\n",
       "      <th>3</th>\n",
       "      <td>0</td>\n",
       "      <td>64900000.0</td>\n",
       "      <td>159.0</td>\n",
       "      <td>2015-07-24T00:00:00</td>\n",
       "      <td>3</td>\n",
       "      <td>NaN</td>\n",
       "      <td>14.0</td>\n",
       "      <td>NaN</td>\n",
       "      <td>9</td>\n",
       "      <td>NaN</td>\n",
       "      <td>...</td>\n",
       "      <td>NaN</td>\n",
       "      <td>0.0</td>\n",
       "      <td>Санкт-Петербург</td>\n",
       "      <td>28098.0</td>\n",
       "      <td>6800.0</td>\n",
       "      <td>2.0</td>\n",
       "      <td>84.0</td>\n",
       "      <td>3.0</td>\n",
       "      <td>234.0</td>\n",
       "      <td>424.0</td>\n",
       "    </tr>\n",
       "    <tr>\n",
       "      <th>4</th>\n",
       "      <td>2</td>\n",
       "      <td>10000000.0</td>\n",
       "      <td>100.0</td>\n",
       "      <td>2018-06-19T00:00:00</td>\n",
       "      <td>2</td>\n",
       "      <td>3.03</td>\n",
       "      <td>14.0</td>\n",
       "      <td>32.0</td>\n",
       "      <td>13</td>\n",
       "      <td>NaN</td>\n",
       "      <td>...</td>\n",
       "      <td>41.0</td>\n",
       "      <td>NaN</td>\n",
       "      <td>Санкт-Петербург</td>\n",
       "      <td>31856.0</td>\n",
       "      <td>8098.0</td>\n",
       "      <td>2.0</td>\n",
       "      <td>112.0</td>\n",
       "      <td>1.0</td>\n",
       "      <td>48.0</td>\n",
       "      <td>121.0</td>\n",
       "    </tr>\n",
       "  </tbody>\n",
       "</table>\n",
       "<p>5 rows × 22 columns</p>\n",
       "</div>"
      ],
      "text/plain": [
       "   total_images  last_price  total_area first_day_exposition  rooms  \\\n",
       "0            20  13000000.0       108.0  2019-03-07T00:00:00      3   \n",
       "1             7   3350000.0        40.4  2018-12-04T00:00:00      1   \n",
       "2            10   5196000.0        56.0  2015-08-20T00:00:00      2   \n",
       "3             0  64900000.0       159.0  2015-07-24T00:00:00      3   \n",
       "4             2  10000000.0       100.0  2018-06-19T00:00:00      2   \n",
       "\n",
       "   ceiling_height  floors_total  living_area  floor is_apartment  ...  \\\n",
       "0            2.70          16.0         51.0      8          NaN  ...   \n",
       "1             NaN          11.0         18.6      1          NaN  ...   \n",
       "2             NaN           5.0         34.3      4          NaN  ...   \n",
       "3             NaN          14.0          NaN      9          NaN  ...   \n",
       "4            3.03          14.0         32.0     13          NaN  ...   \n",
       "\n",
       "   kitchen_area  balcony    locality_name  airports_nearest  \\\n",
       "0          25.0      NaN  Санкт-Петербург           18863.0   \n",
       "1          11.0      2.0   посёлок Шушары           12817.0   \n",
       "2           8.3      0.0  Санкт-Петербург           21741.0   \n",
       "3           NaN      0.0  Санкт-Петербург           28098.0   \n",
       "4          41.0      NaN  Санкт-Петербург           31856.0   \n",
       "\n",
       "  cityCenters_nearest  parks_around3000  parks_nearest  ponds_around3000  \\\n",
       "0             16028.0               1.0          482.0               2.0   \n",
       "1             18603.0               0.0            NaN               0.0   \n",
       "2             13933.0               1.0           90.0               2.0   \n",
       "3              6800.0               2.0           84.0               3.0   \n",
       "4              8098.0               2.0          112.0               1.0   \n",
       "\n",
       "   ponds_nearest  days_exposition  \n",
       "0          755.0              NaN  \n",
       "1            NaN             81.0  \n",
       "2          574.0            558.0  \n",
       "3          234.0            424.0  \n",
       "4           48.0            121.0  \n",
       "\n",
       "[5 rows x 22 columns]"
      ]
     },
     "execution_count": 3,
     "metadata": {},
     "output_type": "execute_result"
    }
   ],
   "source": [
    "data = pd.read_csv('', sep='\\t') # удалил в целях безопасности\n",
    "data.head()"
   ]
  },
  {
   "cell_type": "code",
   "execution_count": 4,
   "metadata": {},
   "outputs": [
    {
     "name": "stdout",
     "output_type": "stream",
     "text": [
      "<class 'pandas.core.frame.DataFrame'>\n",
      "RangeIndex: 23699 entries, 0 to 23698\n",
      "Data columns (total 22 columns):\n",
      " #   Column                Non-Null Count  Dtype  \n",
      "---  ------                --------------  -----  \n",
      " 0   total_images          23699 non-null  int64  \n",
      " 1   last_price            23699 non-null  float64\n",
      " 2   total_area            23699 non-null  float64\n",
      " 3   first_day_exposition  23699 non-null  object \n",
      " 4   rooms                 23699 non-null  int64  \n",
      " 5   ceiling_height        14504 non-null  float64\n",
      " 6   floors_total          23613 non-null  float64\n",
      " 7   living_area           21796 non-null  float64\n",
      " 8   floor                 23699 non-null  int64  \n",
      " 9   is_apartment          2775 non-null   object \n",
      " 10  studio                23699 non-null  bool   \n",
      " 11  open_plan             23699 non-null  bool   \n",
      " 12  kitchen_area          21421 non-null  float64\n",
      " 13  balcony               12180 non-null  float64\n",
      " 14  locality_name         23650 non-null  object \n",
      " 15  airports_nearest      18157 non-null  float64\n",
      " 16  cityCenters_nearest   18180 non-null  float64\n",
      " 17  parks_around3000      18181 non-null  float64\n",
      " 18  parks_nearest         8079 non-null   float64\n",
      " 19  ponds_around3000      18181 non-null  float64\n",
      " 20  ponds_nearest         9110 non-null   float64\n",
      " 21  days_exposition       20518 non-null  float64\n",
      "dtypes: bool(2), float64(14), int64(3), object(3)\n",
      "memory usage: 3.7+ MB\n"
     ]
    }
   ],
   "source": [
    "data.info()"
   ]
  },
  {
   "cell_type": "markdown",
   "metadata": {},
   "source": [
    "По первому взгляду на данные, бросается в глаза столбец **\"first_day_exposition\"**. Во-первых, если все значения времени равны **\"00:00:00\"**, то мы сможем опустить время и оставить только год, месяц, число. Пока построем гистограмму по всей таблице, чтобы ознакомиться с данными."
   ]
  },
  {
   "cell_type": "code",
   "execution_count": 5,
   "metadata": {},
   "outputs": [
    {
     "data": {
      "text/plain": [
       "array([[<AxesSubplot:title={'center':'total_images'}>,\n",
       "        <AxesSubplot:title={'center':'last_price'}>,\n",
       "        <AxesSubplot:title={'center':'total_area'}>,\n",
       "        <AxesSubplot:title={'center':'rooms'}>],\n",
       "       [<AxesSubplot:title={'center':'ceiling_height'}>,\n",
       "        <AxesSubplot:title={'center':'floors_total'}>,\n",
       "        <AxesSubplot:title={'center':'living_area'}>,\n",
       "        <AxesSubplot:title={'center':'floor'}>],\n",
       "       [<AxesSubplot:title={'center':'kitchen_area'}>,\n",
       "        <AxesSubplot:title={'center':'balcony'}>,\n",
       "        <AxesSubplot:title={'center':'airports_nearest'}>,\n",
       "        <AxesSubplot:title={'center':'cityCenters_nearest'}>],\n",
       "       [<AxesSubplot:title={'center':'parks_around3000'}>,\n",
       "        <AxesSubplot:title={'center':'parks_nearest'}>,\n",
       "        <AxesSubplot:title={'center':'ponds_around3000'}>,\n",
       "        <AxesSubplot:title={'center':'ponds_nearest'}>],\n",
       "       [<AxesSubplot:title={'center':'days_exposition'}>, <AxesSubplot:>,\n",
       "        <AxesSubplot:>, <AxesSubplot:>]], dtype=object)"
      ]
     },
     "execution_count": 5,
     "metadata": {},
     "output_type": "execute_result"
    },
    {
     "data": {
      "image/png": "[encoded data removed]",
      "text/plain": [
       "<Figure size 1440x1440 with 20 Axes>"
      ]
     },
     "metadata": {
      "needs_background": "light"
     },
     "output_type": "display_data"
    }
   ],
   "source": [
    "data.hist(figsize=(20,20))"
   ]
  },
  {
   "cell_type": "markdown",
   "metadata": {},
   "source": [
    "Особых выводов по гистограммам сделать нельзя. Единственное, построим отдельно гистограмму для столбца **\"last_price\"**, так как слишком маленький масштаб."
   ]
  },
  {
   "cell_type": "code",
   "execution_count": 6,
   "metadata": {},
   "outputs": [
    {
     "data": {
      "text/plain": [
       "array([[<AxesSubplot:title={'center':'last_price'}>]], dtype=object)"
      ]
     },
     "execution_count": 6,
     "metadata": {},
     "output_type": "execute_result"
    },
    {
     "data": {
      "image/png": "[encoded data removed]",
      "text/plain": [
       "<Figure size 720x360 with 1 Axes>"
      ]
     },
     "metadata": {
      "needs_background": "light"
     },
     "output_type": "display_data"
    }
   ],
   "source": [
    "data.hist('last_price', bins=80, figsize=(10,5))"
   ]
  },
  {
   "cell_type": "markdown",
   "metadata": {},
   "source": [
    "Стало чуть нагляднее. Видно, что львиная доля квартир оценивается в районе 10 млн рублей."
   ]
  },
  {
   "cell_type": "markdown",
   "metadata": {},
   "source": [
    "### Предобработка данных"
   ]
  },
  {
   "cell_type": "markdown",
   "metadata": {},
   "source": [
    "Теперь обработаем пропуски в таблице. Первым делом, займёмся столбцом **\"first_day_exposition\"**. Тип данных этого столбца **\"object\"**. Изменим на **\"datetime\"**. Сделаем этот столбец более читаемым."
   ]
  },
  {
   "cell_type": "code",
   "execution_count": 7,
   "metadata": {},
   "outputs": [
    {
     "data": {
      "text/html": [
       "<div>\n",
       "<style scoped>\n",
       "    .dataframe tbody tr th:only-of-type {\n",
       "        vertical-align: middle;\n",
       "    }\n",
       "\n",
       "    .dataframe tbody tr th {\n",
       "        vertical-align: top;\n",
       "    }\n",
       "\n",
       "    .dataframe thead th {\n",
       "        text-align: right;\n",
       "    }\n",
       "</style>\n",
       "<table border=\"1\" class=\"dataframe\">\n",
       "  <thead>\n",
       "    <tr style=\"text-align: right;\">\n",
       "      <th></th>\n",
       "      <th>total_images</th>\n",
       "      <th>last_price</th>\n",
       "      <th>total_area</th>\n",
       "      <th>first_day_exposition</th>\n",
       "      <th>rooms</th>\n",
       "      <th>ceiling_height</th>\n",
       "      <th>floors_total</th>\n",
       "      <th>living_area</th>\n",
       "      <th>floor</th>\n",
       "      <th>is_apartment</th>\n",
       "      <th>...</th>\n",
       "      <th>kitchen_area</th>\n",
       "      <th>balcony</th>\n",
       "      <th>locality_name</th>\n",
       "      <th>airports_nearest</th>\n",
       "      <th>cityCenters_nearest</th>\n",
       "      <th>parks_around3000</th>\n",
       "      <th>parks_nearest</th>\n",
       "      <th>ponds_around3000</th>\n",
       "      <th>ponds_nearest</th>\n",
       "      <th>days_exposition</th>\n",
       "    </tr>\n",
       "  </thead>\n",
       "  <tbody>\n",
       "    <tr>\n",
       "      <th>0</th>\n",
       "      <td>20</td>\n",
       "      <td>13000000.0</td>\n",
       "      <td>108.0</td>\n",
       "      <td>2019-03-07</td>\n",
       "      <td>3</td>\n",
       "      <td>2.70</td>\n",
       "      <td>16.0</td>\n",
       "      <td>51.0</td>\n",
       "      <td>8</td>\n",
       "      <td>NaN</td>\n",
       "      <td>...</td>\n",
       "      <td>25.0</td>\n",
       "      <td>NaN</td>\n",
       "      <td>Санкт-Петербург</td>\n",
       "      <td>18863.0</td>\n",
       "      <td>16028.0</td>\n",
       "      <td>1.0</td>\n",
       "      <td>482.0</td>\n",
       "      <td>2.0</td>\n",
       "      <td>755.0</td>\n",
       "      <td>NaN</td>\n",
       "    </tr>\n",
       "    <tr>\n",
       "      <th>1</th>\n",
       "      <td>7</td>\n",
       "      <td>3350000.0</td>\n",
       "      <td>40.4</td>\n",
       "      <td>2018-12-04</td>\n",
       "      <td>1</td>\n",
       "      <td>NaN</td>\n",
       "      <td>11.0</td>\n",
       "      <td>18.6</td>\n",
       "      <td>1</td>\n",
       "      <td>NaN</td>\n",
       "      <td>...</td>\n",
       "      <td>11.0</td>\n",
       "      <td>2.0</td>\n",
       "      <td>посёлок Шушары</td>\n",
       "      <td>12817.0</td>\n",
       "      <td>18603.0</td>\n",
       "      <td>0.0</td>\n",
       "      <td>NaN</td>\n",
       "      <td>0.0</td>\n",
       "      <td>NaN</td>\n",
       "      <td>81.0</td>\n",
       "    </tr>\n",
       "    <tr>\n",
       "      <th>2</th>\n",
       "      <td>10</td>\n",
       "      <td>5196000.0</td>\n",
       "      <td>56.0</td>\n",
       "      <td>2015-08-20</td>\n",
       "      <td>2</td>\n",
       "      <td>NaN</td>\n",
       "      <td>5.0</td>\n",
       "      <td>34.3</td>\n",
       "      <td>4</td>\n",
       "      <td>NaN</td>\n",
       "      <td>...</td>\n",
       "      <td>8.3</td>\n",
       "      <td>0.0</td>\n",
       "      <td>Санкт-Петербург</td>\n",
       "      <td>21741.0</td>\n",
       "      <td>13933.0</td>\n",
       "      <td>1.0</td>\n",
       "      <td>90.0</td>\n",
       "      <td>2.0</td>\n",
       "      <td>574.0</td>\n",
       "      <td>558.0</td>\n",
       "    </tr>\n",
       "    <tr>\n",
       "      <th>3</th>\n",
       "      <td>0</td>\n",
       "      <td>64900000.0</td>\n",
       "      <td>159.0</td>\n",
       "      <td>2015-07-24</td>\n",
       "      <td>3</td>\n",
       "      <td>NaN</td>\n",
       "      <td>14.0</td>\n",
       "      <td>NaN</td>\n",
       "      <td>9</td>\n",
       "      <td>NaN</td>\n",
       "      <td>...</td>\n",
       "      <td>NaN</td>\n",
       "      <td>0.0</td>\n",
       "      <td>Санкт-Петербург</td>\n",
       "      <td>28098.0</td>\n",
       "      <td>6800.0</td>\n",
       "      <td>2.0</td>\n",
       "      <td>84.0</td>\n",
       "      <td>3.0</td>\n",
       "      <td>234.0</td>\n",
       "      <td>424.0</td>\n",
       "    </tr>\n",
       "    <tr>\n",
       "      <th>4</th>\n",
       "      <td>2</td>\n",
       "      <td>10000000.0</td>\n",
       "      <td>100.0</td>\n",
       "      <td>2018-06-19</td>\n",
       "      <td>2</td>\n",
       "      <td>3.03</td>\n",
       "      <td>14.0</td>\n",
       "      <td>32.0</td>\n",
       "      <td>13</td>\n",
       "      <td>NaN</td>\n",
       "      <td>...</td>\n",
       "      <td>41.0</td>\n",
       "      <td>NaN</td>\n",
       "      <td>Санкт-Петербург</td>\n",
       "      <td>31856.0</td>\n",
       "      <td>8098.0</td>\n",
       "      <td>2.0</td>\n",
       "      <td>112.0</td>\n",
       "      <td>1.0</td>\n",
       "      <td>48.0</td>\n",
       "      <td>121.0</td>\n",
       "    </tr>\n",
       "  </tbody>\n",
       "</table>\n",
       "<p>5 rows × 22 columns</p>\n",
       "</div>"
      ],
      "text/plain": [
       "   total_images  last_price  total_area first_day_exposition  rooms  \\\n",
       "0            20  13000000.0       108.0           2019-03-07      3   \n",
       "1             7   3350000.0        40.4           2018-12-04      1   \n",
       "2            10   5196000.0        56.0           2015-08-20      2   \n",
       "3             0  64900000.0       159.0           2015-07-24      3   \n",
       "4             2  10000000.0       100.0           2018-06-19      2   \n",
       "\n",
       "   ceiling_height  floors_total  living_area  floor is_apartment  ...  \\\n",
       "0            2.70          16.0         51.0      8          NaN  ...   \n",
       "1             NaN          11.0         18.6      1          NaN  ...   \n",
       "2             NaN           5.0         34.3      4          NaN  ...   \n",
       "3             NaN          14.0          NaN      9          NaN  ...   \n",
       "4            3.03          14.0         32.0     13          NaN  ...   \n",
       "\n",
       "   kitchen_area  balcony    locality_name  airports_nearest  \\\n",
       "0          25.0      NaN  Санкт-Петербург           18863.0   \n",
       "1          11.0      2.0   посёлок Шушары           12817.0   \n",
       "2           8.3      0.0  Санкт-Петербург           21741.0   \n",
       "3           NaN      0.0  Санкт-Петербург           28098.0   \n",
       "4          41.0      NaN  Санкт-Петербург           31856.0   \n",
       "\n",
       "  cityCenters_nearest  parks_around3000  parks_nearest  ponds_around3000  \\\n",
       "0             16028.0               1.0          482.0               2.0   \n",
       "1             18603.0               0.0            NaN               0.0   \n",
       "2             13933.0               1.0           90.0               2.0   \n",
       "3              6800.0               2.0           84.0               3.0   \n",
       "4              8098.0               2.0          112.0               1.0   \n",
       "\n",
       "   ponds_nearest  days_exposition  \n",
       "0          755.0              NaN  \n",
       "1            NaN             81.0  \n",
       "2          574.0            558.0  \n",
       "3          234.0            424.0  \n",
       "4           48.0            121.0  \n",
       "\n",
       "[5 rows x 22 columns]"
      ]
     },
     "execution_count": 7,
     "metadata": {},
     "output_type": "execute_result"
    }
   ],
   "source": [
    "data['first_day_exposition'] = pd.to_datetime(data['first_day_exposition'], format='%Y-%m-%d')\n",
    "data.head()"
   ]
  },
  {
   "cell_type": "markdown",
   "metadata": {},
   "source": [
    "Исследуем другие пропуски в данных."
   ]
  },
  {
   "cell_type": "code",
   "execution_count": 8,
   "metadata": {
    "scrolled": true
   },
   "outputs": [
    {
     "data": {
      "text/plain": [
       "total_images                0\n",
       "last_price                  0\n",
       "total_area                  0\n",
       "first_day_exposition        0\n",
       "rooms                       0\n",
       "ceiling_height           9195\n",
       "floors_total               86\n",
       "living_area              1903\n",
       "floor                       0\n",
       "is_apartment            20924\n",
       "studio                      0\n",
       "open_plan                   0\n",
       "kitchen_area             2278\n",
       "balcony                 11519\n",
       "locality_name              49\n",
       "airports_nearest         5542\n",
       "cityCenters_nearest      5519\n",
       "parks_around3000         5518\n",
       "parks_nearest           15620\n",
       "ponds_around3000         5518\n",
       "ponds_nearest           14589\n",
       "days_exposition          3181\n",
       "dtype: int64"
      ]
     },
     "execution_count": 8,
     "metadata": {},
     "output_type": "execute_result"
    }
   ],
   "source": [
    "data.isna().sum()"
   ]
  },
  {
   "cell_type": "markdown",
   "metadata": {},
   "source": [
    "Видно, в каких столбцах есть пропущенные значения. Попробуем обработать эти пропуски."
   ]
  },
  {
   "cell_type": "code",
   "execution_count": 10,
   "metadata": {},
   "outputs": [
    {
     "data": {
      "text/html": [
       "<div>\n",
       "<style scoped>\n",
       "    .dataframe tbody tr th:only-of-type {\n",
       "        vertical-align: middle;\n",
       "    }\n",
       "\n",
       "    .dataframe tbody tr th {\n",
       "        vertical-align: top;\n",
       "    }\n",
       "\n",
       "    .dataframe thead th {\n",
       "        text-align: right;\n",
       "    }\n",
       "</style>\n",
       "<table border=\"1\" class=\"dataframe\">\n",
       "  <thead>\n",
       "    <tr style=\"text-align: right;\">\n",
       "      <th></th>\n",
       "      <th>total_images</th>\n",
       "      <th>last_price</th>\n",
       "      <th>total_area</th>\n",
       "      <th>first_day_exposition</th>\n",
       "      <th>rooms</th>\n",
       "      <th>ceiling_height</th>\n",
       "      <th>floors_total</th>\n",
       "      <th>living_area</th>\n",
       "      <th>floor</th>\n",
       "      <th>is_apartment</th>\n",
       "      <th>...</th>\n",
       "      <th>kitchen_area</th>\n",
       "      <th>balcony</th>\n",
       "      <th>locality_name</th>\n",
       "      <th>airports_nearest</th>\n",
       "      <th>cityCenters_nearest</th>\n",
       "      <th>parks_around3000</th>\n",
       "      <th>parks_nearest</th>\n",
       "      <th>ponds_around3000</th>\n",
       "      <th>ponds_nearest</th>\n",
       "      <th>days_exposition</th>\n",
       "    </tr>\n",
       "  </thead>\n",
       "  <tbody>\n",
       "    <tr>\n",
       "      <th>0</th>\n",
       "      <td>20</td>\n",
       "      <td>13000000.0</td>\n",
       "      <td>108.00</td>\n",
       "      <td>2019-03-07</td>\n",
       "      <td>3</td>\n",
       "      <td>2.70</td>\n",
       "      <td>16.0</td>\n",
       "      <td>51.00</td>\n",
       "      <td>8</td>\n",
       "      <td>False</td>\n",
       "      <td>...</td>\n",
       "      <td>25.00</td>\n",
       "      <td>0.0</td>\n",
       "      <td>Санкт-Петербург</td>\n",
       "      <td>18863.0</td>\n",
       "      <td>16028.0</td>\n",
       "      <td>1.0</td>\n",
       "      <td>482.0</td>\n",
       "      <td>2.0</td>\n",
       "      <td>755.0</td>\n",
       "      <td>NaN</td>\n",
       "    </tr>\n",
       "    <tr>\n",
       "      <th>1</th>\n",
       "      <td>7</td>\n",
       "      <td>3350000.0</td>\n",
       "      <td>40.40</td>\n",
       "      <td>2018-12-04</td>\n",
       "      <td>1</td>\n",
       "      <td>NaN</td>\n",
       "      <td>11.0</td>\n",
       "      <td>18.60</td>\n",
       "      <td>1</td>\n",
       "      <td>False</td>\n",
       "      <td>...</td>\n",
       "      <td>11.00</td>\n",
       "      <td>2.0</td>\n",
       "      <td>посёлок Шушары</td>\n",
       "      <td>12817.0</td>\n",
       "      <td>18603.0</td>\n",
       "      <td>0.0</td>\n",
       "      <td>-1.0</td>\n",
       "      <td>0.0</td>\n",
       "      <td>-1.0</td>\n",
       "      <td>81.0</td>\n",
       "    </tr>\n",
       "    <tr>\n",
       "      <th>2</th>\n",
       "      <td>10</td>\n",
       "      <td>5196000.0</td>\n",
       "      <td>56.00</td>\n",
       "      <td>2015-08-20</td>\n",
       "      <td>2</td>\n",
       "      <td>NaN</td>\n",
       "      <td>5.0</td>\n",
       "      <td>34.30</td>\n",
       "      <td>4</td>\n",
       "      <td>False</td>\n",
       "      <td>...</td>\n",
       "      <td>8.30</td>\n",
       "      <td>0.0</td>\n",
       "      <td>Санкт-Петербург</td>\n",
       "      <td>21741.0</td>\n",
       "      <td>13933.0</td>\n",
       "      <td>1.0</td>\n",
       "      <td>90.0</td>\n",
       "      <td>2.0</td>\n",
       "      <td>574.0</td>\n",
       "      <td>558.0</td>\n",
       "    </tr>\n",
       "    <tr>\n",
       "      <th>3</th>\n",
       "      <td>0</td>\n",
       "      <td>64900000.0</td>\n",
       "      <td>159.00</td>\n",
       "      <td>2015-07-24</td>\n",
       "      <td>3</td>\n",
       "      <td>NaN</td>\n",
       "      <td>14.0</td>\n",
       "      <td>149.90</td>\n",
       "      <td>9</td>\n",
       "      <td>False</td>\n",
       "      <td>...</td>\n",
       "      <td>9.10</td>\n",
       "      <td>0.0</td>\n",
       "      <td>Санкт-Петербург</td>\n",
       "      <td>28098.0</td>\n",
       "      <td>6800.0</td>\n",
       "      <td>2.0</td>\n",
       "      <td>84.0</td>\n",
       "      <td>3.0</td>\n",
       "      <td>234.0</td>\n",
       "      <td>424.0</td>\n",
       "    </tr>\n",
       "    <tr>\n",
       "      <th>4</th>\n",
       "      <td>2</td>\n",
       "      <td>10000000.0</td>\n",
       "      <td>100.00</td>\n",
       "      <td>2018-06-19</td>\n",
       "      <td>2</td>\n",
       "      <td>3.03</td>\n",
       "      <td>14.0</td>\n",
       "      <td>32.00</td>\n",
       "      <td>13</td>\n",
       "      <td>False</td>\n",
       "      <td>...</td>\n",
       "      <td>41.00</td>\n",
       "      <td>0.0</td>\n",
       "      <td>Санкт-Петербург</td>\n",
       "      <td>31856.0</td>\n",
       "      <td>8098.0</td>\n",
       "      <td>2.0</td>\n",
       "      <td>112.0</td>\n",
       "      <td>1.0</td>\n",
       "      <td>48.0</td>\n",
       "      <td>121.0</td>\n",
       "    </tr>\n",
       "    <tr>\n",
       "      <th>5</th>\n",
       "      <td>10</td>\n",
       "      <td>2890000.0</td>\n",
       "      <td>30.40</td>\n",
       "      <td>2018-09-10</td>\n",
       "      <td>1</td>\n",
       "      <td>NaN</td>\n",
       "      <td>12.0</td>\n",
       "      <td>14.40</td>\n",
       "      <td>5</td>\n",
       "      <td>False</td>\n",
       "      <td>...</td>\n",
       "      <td>9.10</td>\n",
       "      <td>0.0</td>\n",
       "      <td>городской посёлок Янино-1</td>\n",
       "      <td>-1.0</td>\n",
       "      <td>-1.0</td>\n",
       "      <td>0.0</td>\n",
       "      <td>-1.0</td>\n",
       "      <td>0.0</td>\n",
       "      <td>-1.0</td>\n",
       "      <td>55.0</td>\n",
       "    </tr>\n",
       "    <tr>\n",
       "      <th>6</th>\n",
       "      <td>6</td>\n",
       "      <td>3700000.0</td>\n",
       "      <td>37.30</td>\n",
       "      <td>2017-11-02</td>\n",
       "      <td>1</td>\n",
       "      <td>NaN</td>\n",
       "      <td>26.0</td>\n",
       "      <td>10.60</td>\n",
       "      <td>6</td>\n",
       "      <td>False</td>\n",
       "      <td>...</td>\n",
       "      <td>14.40</td>\n",
       "      <td>1.0</td>\n",
       "      <td>посёлок Парголово</td>\n",
       "      <td>52996.0</td>\n",
       "      <td>19143.0</td>\n",
       "      <td>0.0</td>\n",
       "      <td>-1.0</td>\n",
       "      <td>0.0</td>\n",
       "      <td>-1.0</td>\n",
       "      <td>155.0</td>\n",
       "    </tr>\n",
       "    <tr>\n",
       "      <th>7</th>\n",
       "      <td>5</td>\n",
       "      <td>7915000.0</td>\n",
       "      <td>71.60</td>\n",
       "      <td>2019-04-18</td>\n",
       "      <td>2</td>\n",
       "      <td>NaN</td>\n",
       "      <td>24.0</td>\n",
       "      <td>52.70</td>\n",
       "      <td>22</td>\n",
       "      <td>False</td>\n",
       "      <td>...</td>\n",
       "      <td>18.90</td>\n",
       "      <td>2.0</td>\n",
       "      <td>Санкт-Петербург</td>\n",
       "      <td>23982.0</td>\n",
       "      <td>11634.0</td>\n",
       "      <td>0.0</td>\n",
       "      <td>-1.0</td>\n",
       "      <td>0.0</td>\n",
       "      <td>-1.0</td>\n",
       "      <td>NaN</td>\n",
       "    </tr>\n",
       "    <tr>\n",
       "      <th>8</th>\n",
       "      <td>20</td>\n",
       "      <td>2900000.0</td>\n",
       "      <td>33.16</td>\n",
       "      <td>2018-05-23</td>\n",
       "      <td>1</td>\n",
       "      <td>NaN</td>\n",
       "      <td>27.0</td>\n",
       "      <td>15.43</td>\n",
       "      <td>26</td>\n",
       "      <td>False</td>\n",
       "      <td>...</td>\n",
       "      <td>8.81</td>\n",
       "      <td>0.0</td>\n",
       "      <td>посёлок Мурино</td>\n",
       "      <td>-1.0</td>\n",
       "      <td>-1.0</td>\n",
       "      <td>0.0</td>\n",
       "      <td>-1.0</td>\n",
       "      <td>0.0</td>\n",
       "      <td>-1.0</td>\n",
       "      <td>189.0</td>\n",
       "    </tr>\n",
       "    <tr>\n",
       "      <th>9</th>\n",
       "      <td>18</td>\n",
       "      <td>5400000.0</td>\n",
       "      <td>61.00</td>\n",
       "      <td>2017-02-26</td>\n",
       "      <td>3</td>\n",
       "      <td>2.50</td>\n",
       "      <td>9.0</td>\n",
       "      <td>43.60</td>\n",
       "      <td>7</td>\n",
       "      <td>False</td>\n",
       "      <td>...</td>\n",
       "      <td>6.50</td>\n",
       "      <td>2.0</td>\n",
       "      <td>Санкт-Петербург</td>\n",
       "      <td>50898.0</td>\n",
       "      <td>15008.0</td>\n",
       "      <td>0.0</td>\n",
       "      <td>-1.0</td>\n",
       "      <td>0.0</td>\n",
       "      <td>-1.0</td>\n",
       "      <td>289.0</td>\n",
       "    </tr>\n",
       "    <tr>\n",
       "      <th>10</th>\n",
       "      <td>5</td>\n",
       "      <td>5050000.0</td>\n",
       "      <td>39.60</td>\n",
       "      <td>2017-11-16</td>\n",
       "      <td>1</td>\n",
       "      <td>2.67</td>\n",
       "      <td>12.0</td>\n",
       "      <td>20.30</td>\n",
       "      <td>3</td>\n",
       "      <td>False</td>\n",
       "      <td>...</td>\n",
       "      <td>8.50</td>\n",
       "      <td>0.0</td>\n",
       "      <td>Санкт-Петербург</td>\n",
       "      <td>38357.0</td>\n",
       "      <td>13878.0</td>\n",
       "      <td>1.0</td>\n",
       "      <td>310.0</td>\n",
       "      <td>2.0</td>\n",
       "      <td>553.0</td>\n",
       "      <td>137.0</td>\n",
       "    </tr>\n",
       "    <tr>\n",
       "      <th>11</th>\n",
       "      <td>9</td>\n",
       "      <td>3300000.0</td>\n",
       "      <td>44.00</td>\n",
       "      <td>2018-08-27</td>\n",
       "      <td>2</td>\n",
       "      <td>NaN</td>\n",
       "      <td>5.0</td>\n",
       "      <td>31.00</td>\n",
       "      <td>4</td>\n",
       "      <td>False</td>\n",
       "      <td>...</td>\n",
       "      <td>6.00</td>\n",
       "      <td>1.0</td>\n",
       "      <td>Ломоносов</td>\n",
       "      <td>48252.0</td>\n",
       "      <td>51677.0</td>\n",
       "      <td>0.0</td>\n",
       "      <td>-1.0</td>\n",
       "      <td>0.0</td>\n",
       "      <td>-1.0</td>\n",
       "      <td>7.0</td>\n",
       "    </tr>\n",
       "    <tr>\n",
       "      <th>12</th>\n",
       "      <td>10</td>\n",
       "      <td>3890000.0</td>\n",
       "      <td>54.00</td>\n",
       "      <td>2016-06-30</td>\n",
       "      <td>2</td>\n",
       "      <td>NaN</td>\n",
       "      <td>5.0</td>\n",
       "      <td>30.00</td>\n",
       "      <td>5</td>\n",
       "      <td>False</td>\n",
       "      <td>...</td>\n",
       "      <td>9.00</td>\n",
       "      <td>0.0</td>\n",
       "      <td>Сертолово</td>\n",
       "      <td>-1.0</td>\n",
       "      <td>-1.0</td>\n",
       "      <td>0.0</td>\n",
       "      <td>-1.0</td>\n",
       "      <td>0.0</td>\n",
       "      <td>-1.0</td>\n",
       "      <td>90.0</td>\n",
       "    </tr>\n",
       "    <tr>\n",
       "      <th>13</th>\n",
       "      <td>20</td>\n",
       "      <td>3550000.0</td>\n",
       "      <td>42.80</td>\n",
       "      <td>2017-07-01</td>\n",
       "      <td>2</td>\n",
       "      <td>2.56</td>\n",
       "      <td>5.0</td>\n",
       "      <td>27.00</td>\n",
       "      <td>5</td>\n",
       "      <td>False</td>\n",
       "      <td>...</td>\n",
       "      <td>5.20</td>\n",
       "      <td>1.0</td>\n",
       "      <td>Петергоф</td>\n",
       "      <td>37868.0</td>\n",
       "      <td>33058.0</td>\n",
       "      <td>1.0</td>\n",
       "      <td>294.0</td>\n",
       "      <td>3.0</td>\n",
       "      <td>298.0</td>\n",
       "      <td>366.0</td>\n",
       "    </tr>\n",
       "    <tr>\n",
       "      <th>14</th>\n",
       "      <td>1</td>\n",
       "      <td>4400000.0</td>\n",
       "      <td>36.00</td>\n",
       "      <td>2016-06-23</td>\n",
       "      <td>1</td>\n",
       "      <td>NaN</td>\n",
       "      <td>6.0</td>\n",
       "      <td>17.00</td>\n",
       "      <td>1</td>\n",
       "      <td>False</td>\n",
       "      <td>...</td>\n",
       "      <td>8.00</td>\n",
       "      <td>0.0</td>\n",
       "      <td>Пушкин</td>\n",
       "      <td>20782.0</td>\n",
       "      <td>30759.0</td>\n",
       "      <td>0.0</td>\n",
       "      <td>-1.0</td>\n",
       "      <td>1.0</td>\n",
       "      <td>96.0</td>\n",
       "      <td>203.0</td>\n",
       "    </tr>\n",
       "    <tr>\n",
       "      <th>15</th>\n",
       "      <td>16</td>\n",
       "      <td>4650000.0</td>\n",
       "      <td>39.00</td>\n",
       "      <td>2017-11-18</td>\n",
       "      <td>1</td>\n",
       "      <td>NaN</td>\n",
       "      <td>14.0</td>\n",
       "      <td>20.50</td>\n",
       "      <td>5</td>\n",
       "      <td>False</td>\n",
       "      <td>...</td>\n",
       "      <td>7.60</td>\n",
       "      <td>1.0</td>\n",
       "      <td>Санкт-Петербург</td>\n",
       "      <td>12900.0</td>\n",
       "      <td>14259.0</td>\n",
       "      <td>1.0</td>\n",
       "      <td>590.0</td>\n",
       "      <td>1.0</td>\n",
       "      <td>296.0</td>\n",
       "      <td>19.0</td>\n",
       "    </tr>\n",
       "    <tr>\n",
       "      <th>16</th>\n",
       "      <td>11</td>\n",
       "      <td>6700000.0</td>\n",
       "      <td>82.00</td>\n",
       "      <td>2017-11-23</td>\n",
       "      <td>3</td>\n",
       "      <td>3.05</td>\n",
       "      <td>5.0</td>\n",
       "      <td>55.60</td>\n",
       "      <td>1</td>\n",
       "      <td>False</td>\n",
       "      <td>...</td>\n",
       "      <td>9.00</td>\n",
       "      <td>0.0</td>\n",
       "      <td>Санкт-Петербург</td>\n",
       "      <td>22108.0</td>\n",
       "      <td>10698.0</td>\n",
       "      <td>3.0</td>\n",
       "      <td>420.0</td>\n",
       "      <td>0.0</td>\n",
       "      <td>-1.0</td>\n",
       "      <td>397.0</td>\n",
       "    </tr>\n",
       "    <tr>\n",
       "      <th>17</th>\n",
       "      <td>6</td>\n",
       "      <td>4180000.0</td>\n",
       "      <td>36.00</td>\n",
       "      <td>2016-09-09</td>\n",
       "      <td>1</td>\n",
       "      <td>NaN</td>\n",
       "      <td>17.0</td>\n",
       "      <td>16.50</td>\n",
       "      <td>7</td>\n",
       "      <td>False</td>\n",
       "      <td>...</td>\n",
       "      <td>11.00</td>\n",
       "      <td>1.0</td>\n",
       "      <td>Санкт-Петербург</td>\n",
       "      <td>33564.0</td>\n",
       "      <td>14616.0</td>\n",
       "      <td>0.0</td>\n",
       "      <td>-1.0</td>\n",
       "      <td>1.0</td>\n",
       "      <td>859.0</td>\n",
       "      <td>571.0</td>\n",
       "    </tr>\n",
       "    <tr>\n",
       "      <th>18</th>\n",
       "      <td>8</td>\n",
       "      <td>3250000.0</td>\n",
       "      <td>31.00</td>\n",
       "      <td>2017-01-27</td>\n",
       "      <td>1</td>\n",
       "      <td>2.50</td>\n",
       "      <td>5.0</td>\n",
       "      <td>19.40</td>\n",
       "      <td>2</td>\n",
       "      <td>False</td>\n",
       "      <td>...</td>\n",
       "      <td>5.60</td>\n",
       "      <td>1.0</td>\n",
       "      <td>Санкт-Петербург</td>\n",
       "      <td>44060.0</td>\n",
       "      <td>10842.0</td>\n",
       "      <td>1.0</td>\n",
       "      <td>759.0</td>\n",
       "      <td>0.0</td>\n",
       "      <td>-1.0</td>\n",
       "      <td>168.0</td>\n",
       "    </tr>\n",
       "    <tr>\n",
       "      <th>19</th>\n",
       "      <td>16</td>\n",
       "      <td>14200000.0</td>\n",
       "      <td>121.00</td>\n",
       "      <td>2019-01-09</td>\n",
       "      <td>3</td>\n",
       "      <td>2.75</td>\n",
       "      <td>16.0</td>\n",
       "      <td>76.00</td>\n",
       "      <td>8</td>\n",
       "      <td>False</td>\n",
       "      <td>...</td>\n",
       "      <td>12.00</td>\n",
       "      <td>0.0</td>\n",
       "      <td>Санкт-Петербург</td>\n",
       "      <td>38900.0</td>\n",
       "      <td>12843.0</td>\n",
       "      <td>0.0</td>\n",
       "      <td>-1.0</td>\n",
       "      <td>0.0</td>\n",
       "      <td>-1.0</td>\n",
       "      <td>97.0</td>\n",
       "    </tr>\n",
       "  </tbody>\n",
       "</table>\n",
       "<p>20 rows × 22 columns</p>\n",
       "</div>"
      ],
      "text/plain": [
       "    total_images  last_price  total_area first_day_exposition  rooms  \\\n",
       "0             20  13000000.0      108.00           2019-03-07      3   \n",
       "1              7   3350000.0       40.40           2018-12-04      1   \n",
       "2             10   5196000.0       56.00           2015-08-20      2   \n",
       "3              0  64900000.0      159.00           2015-07-24      3   \n",
       "4              2  10000000.0      100.00           2018-06-19      2   \n",
       "5             10   2890000.0       30.40           2018-09-10      1   \n",
       "6              6   3700000.0       37.30           2017-11-02      1   \n",
       "7              5   7915000.0       71.60           2019-04-18      2   \n",
       "8             20   2900000.0       33.16           2018-05-23      1   \n",
       "9             18   5400000.0       61.00           2017-02-26      3   \n",
       "10             5   5050000.0       39.60           2017-11-16      1   \n",
       "11             9   3300000.0       44.00           2018-08-27      2   \n",
       "12            10   3890000.0       54.00           2016-06-30      2   \n",
       "13            20   3550000.0       42.80           2017-07-01      2   \n",
       "14             1   4400000.0       36.00           2016-06-23      1   \n",
       "15            16   4650000.0       39.00           2017-11-18      1   \n",
       "16            11   6700000.0       82.00           2017-11-23      3   \n",
       "17             6   4180000.0       36.00           2016-09-09      1   \n",
       "18             8   3250000.0       31.00           2017-01-27      1   \n",
       "19            16  14200000.0      121.00           2019-01-09      3   \n",
       "\n",
       "    ceiling_height  floors_total  living_area  floor  is_apartment  ...  \\\n",
       "0             2.70          16.0        51.00      8         False  ...   \n",
       "1              NaN          11.0        18.60      1         False  ...   \n",
       "2              NaN           5.0        34.30      4         False  ...   \n",
       "3              NaN          14.0       149.90      9         False  ...   \n",
       "4             3.03          14.0        32.00     13         False  ...   \n",
       "5              NaN          12.0        14.40      5         False  ...   \n",
       "6              NaN          26.0        10.60      6         False  ...   \n",
       "7              NaN          24.0        52.70     22         False  ...   \n",
       "8              NaN          27.0        15.43     26         False  ...   \n",
       "9             2.50           9.0        43.60      7         False  ...   \n",
       "10            2.67          12.0        20.30      3         False  ...   \n",
       "11             NaN           5.0        31.00      4         False  ...   \n",
       "12             NaN           5.0        30.00      5         False  ...   \n",
       "13            2.56           5.0        27.00      5         False  ...   \n",
       "14             NaN           6.0        17.00      1         False  ...   \n",
       "15             NaN          14.0        20.50      5         False  ...   \n",
       "16            3.05           5.0        55.60      1         False  ...   \n",
       "17             NaN          17.0        16.50      7         False  ...   \n",
       "18            2.50           5.0        19.40      2         False  ...   \n",
       "19            2.75          16.0        76.00      8         False  ...   \n",
       "\n",
       "    kitchen_area  balcony              locality_name  airports_nearest  \\\n",
       "0          25.00      0.0            Санкт-Петербург           18863.0   \n",
       "1          11.00      2.0             посёлок Шушары           12817.0   \n",
       "2           8.30      0.0            Санкт-Петербург           21741.0   \n",
       "3           9.10      0.0            Санкт-Петербург           28098.0   \n",
       "4          41.00      0.0            Санкт-Петербург           31856.0   \n",
       "5           9.10      0.0  городской посёлок Янино-1              -1.0   \n",
       "6          14.40      1.0          посёлок Парголово           52996.0   \n",
       "7          18.90      2.0            Санкт-Петербург           23982.0   \n",
       "8           8.81      0.0             посёлок Мурино              -1.0   \n",
       "9           6.50      2.0            Санкт-Петербург           50898.0   \n",
       "10          8.50      0.0            Санкт-Петербург           38357.0   \n",
       "11          6.00      1.0                  Ломоносов           48252.0   \n",
       "12          9.00      0.0                  Сертолово              -1.0   \n",
       "13          5.20      1.0                   Петергоф           37868.0   \n",
       "14          8.00      0.0                     Пушкин           20782.0   \n",
       "15          7.60      1.0            Санкт-Петербург           12900.0   \n",
       "16          9.00      0.0            Санкт-Петербург           22108.0   \n",
       "17         11.00      1.0            Санкт-Петербург           33564.0   \n",
       "18          5.60      1.0            Санкт-Петербург           44060.0   \n",
       "19         12.00      0.0            Санкт-Петербург           38900.0   \n",
       "\n",
       "   cityCenters_nearest  parks_around3000  parks_nearest  ponds_around3000  \\\n",
       "0              16028.0               1.0          482.0               2.0   \n",
       "1              18603.0               0.0           -1.0               0.0   \n",
       "2              13933.0               1.0           90.0               2.0   \n",
       "3               6800.0               2.0           84.0               3.0   \n",
       "4               8098.0               2.0          112.0               1.0   \n",
       "5                 -1.0               0.0           -1.0               0.0   \n",
       "6              19143.0               0.0           -1.0               0.0   \n",
       "7              11634.0               0.0           -1.0               0.0   \n",
       "8                 -1.0               0.0           -1.0               0.0   \n",
       "9              15008.0               0.0           -1.0               0.0   \n",
       "10             13878.0               1.0          310.0               2.0   \n",
       "11             51677.0               0.0           -1.0               0.0   \n",
       "12                -1.0               0.0           -1.0               0.0   \n",
       "13             33058.0               1.0          294.0               3.0   \n",
       "14             30759.0               0.0           -1.0               1.0   \n",
       "15             14259.0               1.0          590.0               1.0   \n",
       "16             10698.0               3.0          420.0               0.0   \n",
       "17             14616.0               0.0           -1.0               1.0   \n",
       "18             10842.0               1.0          759.0               0.0   \n",
       "19             12843.0               0.0           -1.0               0.0   \n",
       "\n",
       "    ponds_nearest  days_exposition  \n",
       "0           755.0              NaN  \n",
       "1            -1.0             81.0  \n",
       "2           574.0            558.0  \n",
       "3           234.0            424.0  \n",
       "4            48.0            121.0  \n",
       "5            -1.0             55.0  \n",
       "6            -1.0            155.0  \n",
       "7            -1.0              NaN  \n",
       "8            -1.0            189.0  \n",
       "9            -1.0            289.0  \n",
       "10          553.0            137.0  \n",
       "11           -1.0              7.0  \n",
       "12           -1.0             90.0  \n",
       "13          298.0            366.0  \n",
       "14           96.0            203.0  \n",
       "15          296.0             19.0  \n",
       "16           -1.0            397.0  \n",
       "17          859.0            571.0  \n",
       "18           -1.0            168.0  \n",
       "19           -1.0             97.0  \n",
       "\n",
       "[20 rows x 22 columns]"
      ]
     },
     "execution_count": 10,
     "metadata": {},
     "output_type": "execute_result"
    }
   ],
   "source": [
    "# пропуски в столбце \"balcony\" заполним нулями, так как, скорее всего, балкона в квартире нет, \n",
    "#раз значение оставили пустым.\n",
    "data['balcony'] = data['balcony'].fillna(0)\n",
    "\n",
    "# Столбец \"is_apartment\" заполним значеняими False в пропущенных местах. \n",
    "#Скорее всего, если значение пропущено, то квартира не является апартаментами.\n",
    "data['is_apartment'] = data['is_apartment'].fillna(False)\n",
    "\n",
    "# Пропущенные значения в столбце \"kitchen_area\" заполним средним значением.\n",
    "data['kitchen_area'] = data['kitchen_area'].fillna(data['kitchen_area'].median())\n",
    "\n",
    "# Пропуски в столбце \"airports_nearest\" заполним значением \"-1\". \n",
    "# Квартиры, которые имеют пропуск в этом столбце, распложены в деревнях, посёлках,\n",
    "# небольших городах.\n",
    "data['airports_nearest'] = data['airports_nearest'].fillna(-1)\n",
    "\n",
    "data['living_area'] = data['living_area'].fillna(data['total_area']-data['kitchen_area'])\n",
    "\n",
    "data['cityCenters_nearest'] = data['cityCenters_nearest'].fillna(-1)\n",
    "\n",
    "# В столбцах \"parks_around3000\" и \"ponds_around3000\" пропущенные значения заполним \"-1\",\n",
    "# так как предполагаем, что ни прудов, ни парков рядом нет.\n",
    "data['parks_around3000'] = data['parks_around3000'].fillna(0)\n",
    "data['ponds_around3000'] = data['ponds_around3000'].fillna(0)\n",
    "data['parks_nearest'] = data['parks_nearest'].fillna(-1)\n",
    "data['ponds_nearest'] = data['ponds_nearest'].fillna(-1)\n",
    "data.head(20)"
   ]
  },
  {
   "cell_type": "code",
   "execution_count": 11,
   "metadata": {},
   "outputs": [
    {
     "data": {
      "text/plain": [
       "total_images               0\n",
       "last_price                 0\n",
       "total_area                 0\n",
       "first_day_exposition       0\n",
       "rooms                      0\n",
       "ceiling_height          9195\n",
       "floors_total              86\n",
       "living_area                0\n",
       "floor                      0\n",
       "is_apartment               0\n",
       "studio                     0\n",
       "open_plan                  0\n",
       "kitchen_area               0\n",
       "balcony                    0\n",
       "locality_name             49\n",
       "airports_nearest           0\n",
       "cityCenters_nearest        0\n",
       "parks_around3000           0\n",
       "parks_nearest              0\n",
       "ponds_around3000           0\n",
       "ponds_nearest              0\n",
       "days_exposition         3181\n",
       "dtype: int64"
      ]
     },
     "execution_count": 11,
     "metadata": {},
     "output_type": "execute_result"
    }
   ],
   "source": [
    "# Посмотрим сколько теперь пропусков в данных\n",
    "data.isna().sum()"
   ]
  },
  {
   "cell_type": "markdown",
   "metadata": {},
   "source": [
    "Стало гораздо приятнее работать с данными. Остальные пропуски пока заполнять не будем. Сами пропуски могли возникнуть из-за человеческого фактора. Люди могли просто не вносить некоторые значения. Также, некоторые пропуски могли возникнуть при копировании данных. А сейчас посмотрим на типы данных в столбцах."
   ]
  },
  {
   "cell_type": "code",
   "execution_count": 12,
   "metadata": {},
   "outputs": [
    {
     "name": "stdout",
     "output_type": "stream",
     "text": [
      "<class 'pandas.core.frame.DataFrame'>\n",
      "RangeIndex: 23699 entries, 0 to 23698\n",
      "Data columns (total 22 columns):\n",
      " #   Column                Non-Null Count  Dtype         \n",
      "---  ------                --------------  -----         \n",
      " 0   total_images          23699 non-null  int64         \n",
      " 1   last_price            23699 non-null  float64       \n",
      " 2   total_area            23699 non-null  float64       \n",
      " 3   first_day_exposition  23699 non-null  datetime64[ns]\n",
      " 4   rooms                 23699 non-null  int64         \n",
      " 5   ceiling_height        14504 non-null  float64       \n",
      " 6   floors_total          23613 non-null  float64       \n",
      " 7   living_area           23699 non-null  float64       \n",
      " 8   floor                 23699 non-null  int64         \n",
      " 9   is_apartment          23699 non-null  bool          \n",
      " 10  studio                23699 non-null  bool          \n",
      " 11  open_plan             23699 non-null  bool          \n",
      " 12  kitchen_area          23699 non-null  float64       \n",
      " 13  balcony               23699 non-null  float64       \n",
      " 14  locality_name         23650 non-null  object        \n",
      " 15  airports_nearest      23699 non-null  float64       \n",
      " 16  cityCenters_nearest   23699 non-null  float64       \n",
      " 17  parks_around3000      23699 non-null  float64       \n",
      " 18  parks_nearest         23699 non-null  float64       \n",
      " 19  ponds_around3000      23699 non-null  float64       \n",
      " 20  ponds_nearest         23699 non-null  float64       \n",
      " 21  days_exposition       20518 non-null  float64       \n",
      "dtypes: bool(3), datetime64[ns](1), float64(14), int64(3), object(1)\n",
      "memory usage: 3.5+ MB\n"
     ]
    }
   ],
   "source": [
    "data.info()"
   ]
  },
  {
   "cell_type": "code",
   "execution_count": 13,
   "metadata": {},
   "outputs": [
    {
     "name": "stdout",
     "output_type": "stream",
     "text": [
      "<class 'pandas.core.frame.DataFrame'>\n",
      "RangeIndex: 23699 entries, 0 to 23698\n",
      "Data columns (total 22 columns):\n",
      " #   Column                Non-Null Count  Dtype         \n",
      "---  ------                --------------  -----         \n",
      " 0   total_images          23699 non-null  int64         \n",
      " 1   last_price            23699 non-null  int64         \n",
      " 2   total_area            23699 non-null  float64       \n",
      " 3   first_day_exposition  23699 non-null  datetime64[ns]\n",
      " 4   rooms                 23699 non-null  int64         \n",
      " 5   ceiling_height        14504 non-null  float64       \n",
      " 6   floors_total          23699 non-null  int64         \n",
      " 7   living_area           23699 non-null  float64       \n",
      " 8   floor                 23699 non-null  int64         \n",
      " 9   is_apartment          23699 non-null  bool          \n",
      " 10  studio                23699 non-null  bool          \n",
      " 11  open_plan             23699 non-null  bool          \n",
      " 12  kitchen_area          23699 non-null  float64       \n",
      " 13  balcony               23699 non-null  int64         \n",
      " 14  locality_name         23650 non-null  object        \n",
      " 15  airports_nearest      23699 non-null  int64         \n",
      " 16  cityCenters_nearest   23699 non-null  int64         \n",
      " 17  parks_around3000      23699 non-null  int64         \n",
      " 18  parks_nearest         23699 non-null  int64         \n",
      " 19  ponds_around3000      23699 non-null  int64         \n",
      " 20  ponds_nearest         23699 non-null  int64         \n",
      " 21  days_exposition       23699 non-null  int64         \n",
      "dtypes: bool(3), datetime64[ns](1), float64(4), int64(13), object(1)\n",
      "memory usage: 3.5+ MB\n"
     ]
    }
   ],
   "source": [
    "# Изменим всё, что необходимо.\n",
    "data['last_price'] = data['last_price'].astype('int')\n",
    "# Чтобы изменить тип данных в столбце \"floors_total\", пока заполним пропуски \"-1\".\n",
    "data['floors_total'] = data['floors_total'].fillna(-1)\n",
    "data['floors_total'] = data['floors_total'].astype(int)\n",
    "# Чтобы изменить тип данных в столбце \"days_exposition\", пока заполним пропуски \"-1\".\n",
    "data['days_exposition'] = data['days_exposition'].fillna(-1) \n",
    "columns_to_change = ['balcony', 'airports_nearest', 'cityCenters_nearest','parks_around3000','parks_nearest',\n",
    "         'ponds_around3000', 'ponds_nearest', 'days_exposition']\n",
    "# столбцы, в которых нужно заменить тип данных\n",
    "for value in columns_to_change:\n",
    "    data[value] = data[value].astype('int')\n",
    "data.info()"
   ]
  },
  {
   "cell_type": "markdown",
   "metadata": {},
   "source": [
    "**Типы данных изменены!**\n",
    "\n",
    "Это необходимо для более приятного вида таблицы и для того, чтобы было удобнее работать с данными."
   ]
  },
  {
   "cell_type": "markdown",
   "metadata": {},
   "source": [
    "**Следующим шагом** изучим неявные дубликаты и избавимся от них."
   ]
  },
  {
   "cell_type": "code",
   "execution_count": 14,
   "metadata": {},
   "outputs": [
    {
     "data": {
      "text/plain": [
       "array(['Санкт-Петербург', 'поселок Шушары', 'поселок Янино-1',\n",
       "       'поселок Парголово', 'поселок Мурино', 'Ломоносов', 'Сертолово',\n",
       "       'Петергоф', 'Пушкин', 'деревня Кудрово', 'Коммунар', 'Колпино',\n",
       "       'поселок Красный Бор', 'Гатчина', 'деревня Фёдоровское', 'Выборг',\n",
       "       'Кронштадт', 'Кировск', 'деревня Новое Девяткино',\n",
       "       'поселок Металлострой', 'поселок Лебяжье', 'поселок Сиверский',\n",
       "       'поселок Молодцово', 'поселок Кузьмоловский',\n",
       "       'садовое товарищество Новая Ропша', 'Павловск',\n",
       "       'деревня Пикколово', 'Всеволожск', 'Волхов', 'Кингисепп',\n",
       "       'Приозерск', 'Сестрорецк', 'деревня Куттузи', 'поселок Аннино',\n",
       "       'поселок Ефимовский', 'поселок Плодовое', 'деревня Заклинье',\n",
       "       'поселок Торковичи', 'поселок Первомайское', 'Красное Село',\n",
       "       'поселок Понтонный', 'Сясьстрой', 'деревня Старая',\n",
       "       'деревня Лесколово', 'поселок Новый Свет', 'Сланцы',\n",
       "       'село Путилово', 'Ивангород', 'Мурино', 'Шлиссельбург',\n",
       "       'Никольское', 'Зеленогорск', 'Сосновый Бор', 'деревня Оржицы',\n",
       "       'деревня Кальтино', 'Кудрово', 'поселок Романовка',\n",
       "       'поселок Бугры', 'поселок Рощино', 'Кириши', 'Луга', 'Волосово',\n",
       "       'Отрадное', 'село Павлово', 'поселок Оредеж', 'село Копорье',\n",
       "       'поселок Молодёжное', 'Тихвин', 'поселок Победа', 'деревня Нурма',\n",
       "       'поселок Синявино', 'Тосно', 'поселок Стрельна', 'Бокситогорск',\n",
       "       'поселок Александровская', 'деревня Лопухинка', 'Пикалёво',\n",
       "       'поселок Терволово', 'поселок Советский', 'Подпорожье',\n",
       "       'поселок Петровское', 'поселок Токсово', 'поселок Сельцо',\n",
       "       'поселок Вырица', 'деревня Кипень', 'деревня Келози',\n",
       "       'деревня Вартемяги', 'поселок Тельмана', 'поселок Севастьяново',\n",
       "       'поселок Большая Ижора', 'Not stated', 'поселок Павлово',\n",
       "       'деревня Агалатово', 'поселок Новогорелово', 'поселок Лесогорский',\n",
       "       'деревня Лаголово', 'поселок Цвелодубово', 'поселок Рахья',\n",
       "       'деревня Белогорка', 'поселок Заводской', 'поселок Новоселье',\n",
       "       'деревня Большие Колпаны', 'деревня Горбунки', 'деревня Батово',\n",
       "       'деревня Заневка', 'деревня Иссад', 'Приморск',\n",
       "       'поселок Фёдоровское', 'деревня Мистолово', 'Новая Ладога',\n",
       "       'поселок Зимитицы', 'поселок Барышево', 'деревня Разметелево',\n",
       "       'поселок имени Свердлова', 'деревня Пеники', 'поселок Рябово',\n",
       "       'деревня Пудомяги', 'поселок станции Корнево', 'деревня Низино',\n",
       "       'деревня Бегуницы', 'поселок Поляны', 'поселок Мга',\n",
       "       'поселок Елизаветино', 'поселок Кузнечное', 'деревня Колтуши',\n",
       "       'поселок Запорожское', 'деревня Гостилицы',\n",
       "       'деревня Малое Карлино', 'поселок Мичуринское',\n",
       "       'поселок имени Морозова', 'поселок Песочный', 'поселок Сосново',\n",
       "       'деревня Аро', 'поселок Ильичёво', 'поселок Тайцы',\n",
       "       'деревня Малое Верево', 'деревня Извара', 'поселок станции Вещево',\n",
       "       'село Паша', 'деревня Калитино', 'поселок Ульяновка',\n",
       "       'деревня Чудской Бор', 'поселок Дубровка', 'деревня Мины',\n",
       "       'поселок Войсковицы', 'деревня Коркино', 'поселок Ропша',\n",
       "       'поселок Приладожский', 'поселок Щеглово', 'поселок Гаврилово',\n",
       "       'Лодейное Поле', 'деревня Рабитицы', 'поселок Никольский',\n",
       "       'деревня Кузьмолово', 'деревня Малые Колпаны',\n",
       "       'поселок Петро-Славянка', 'поселок Назия', 'поселок Репино',\n",
       "       'поселок Углово', 'поселок Старая Малукса',\n",
       "       'садовое товарищество Рахья', 'деревня Меньково',\n",
       "       'деревня Старые Бегуницы', 'поселок Сапёрный', 'поселок Семрино',\n",
       "       'поселок Глажево', 'поселок Кобринское', 'деревня Гарболово',\n",
       "       'деревня Юкки', 'поселок станции Приветнинское',\n",
       "       'деревня Мануйлово', 'деревня Пчева', 'поселок Цвылёво',\n",
       "       'поселок Мельниково', 'поселок Пудость', 'поселок Усть-Луга',\n",
       "       'Светогорск', 'Любань', 'поселок Селезнёво', 'Каменногорск',\n",
       "       'деревня Кривко', 'поселок Глебычево', 'деревня Парицы',\n",
       "       'поселок Жилпосёлок', 'поселок Войскорово', 'село Никольское',\n",
       "       'поселок Стеклянный', 'поселок Важины', 'поселок Мыза-Ивановка',\n",
       "       'село Русско-Высоцкое', 'поселок Форносово', 'село Старая Ладога',\n",
       "       'поселок Житково', 'поселок Виллози', 'деревня Лампово',\n",
       "       'деревня Шпаньково', 'деревня Лаврики', 'поселок Сумино',\n",
       "       'поселок Возрождение', 'деревня Старосиверская',\n",
       "       'поселок Кикерино', 'деревня Старое Хинколово',\n",
       "       'поселок Пригородный', 'поселок Торфяное', 'поселок Будогощь',\n",
       "       'поселок Суходолье', 'поселок Красная Долина', 'деревня Хапо-Ое',\n",
       "       'поселок Дружная Горка', 'поселок Лисий Нос', 'деревня Яльгелево',\n",
       "       'село Рождествено', 'деревня Старополье', 'поселок Левашово',\n",
       "       'деревня Сяськелево', 'деревня Камышовка',\n",
       "       'садоводческое некоммерческое товарищество Лесная Поляна',\n",
       "       'деревня Хязельки', 'поселок Жилгородок', 'деревня Ялгино',\n",
       "       'поселок Новый Учхоз', 'поселок Гончарово', 'поселок Почап',\n",
       "       'поселок Сапёрное', 'поселок Платформа 69-й километр',\n",
       "       'поселок Каложицы', 'деревня Фалилеево', 'деревня Пельгора',\n",
       "       'деревня Торошковичи', 'поселок Белоостров', 'поселок Алексеевка',\n",
       "       'поселок Серебрянский', 'поселок Лукаши', 'деревня Щеглово',\n",
       "       'деревня Тарасово', 'поселок Кингисеппский', 'поселок Вещево',\n",
       "       'поселок Ушаки', 'деревня Котлы', 'деревня Сижно',\n",
       "       'деревня Торосово', 'поселок Форт Красная Горка',\n",
       "       'деревня Новолисино', 'поселок станции Громово', 'деревня Глинка',\n",
       "       'деревня Старая Пустошь', 'поселок Коммунары', 'поселок Починок',\n",
       "       'поселок Вознесенье', 'деревня Разбегаево', 'поселок Гладкое',\n",
       "       'поселок Приветнинское', 'поселок Тёсово-4', 'деревня Бор',\n",
       "       'поселок Коробицыно', 'деревня Большая Вруда', 'деревня Курковицы',\n",
       "       'поселок Кобралово', 'деревня Суоранда', 'поселок Кондратьево',\n",
       "       'поселок Счастье', 'поселок Любань', 'деревня Реброво',\n",
       "       'деревня Зимитицы', 'деревня Тойворово', 'поселок Семиозерье',\n",
       "       'поселок Лесное', 'поселок Совхозный', 'поселок Ленинское',\n",
       "       'поселок Суйда', 'деревня Нижние Осельки', 'поселок станции Свирь',\n",
       "       'поселок Перово', 'Высоцк', 'поселок Гарболово', 'село Шум',\n",
       "       'поселок Котельский', 'поселок станции Лужайка',\n",
       "       'деревня Большая Пустомержа', 'поселок Красносельское',\n",
       "       'деревня Вахнова Кара', 'деревня Пижма', 'поселок Кивеннапа Север',\n",
       "       'поселок Ромашки', 'деревня Каськово', 'деревня Куровицы',\n",
       "       'поселок Плоское', 'поселок Кирпичное', 'деревня Ям-Тесово',\n",
       "       'деревня Раздолье', 'деревня Терпилицы', 'поселок Шугозеро',\n",
       "       'деревня Ваганово', 'поселок Пушное', 'садовое товарищество Садко',\n",
       "       'поселок Усть-Ижора', 'деревня Выскатка', 'поселок Свирьстрой',\n",
       "       'поселок Громово', 'деревня Кисельня', 'деревня Трубников Бор',\n",
       "       'поселок Калитино', 'поселок Высокоключевой',\n",
       "       'садовое товарищество Приладожский',\n",
       "       'поселок Пансионат Зелёный Бор', 'деревня Ненимяки',\n",
       "       'деревня Снегирёвка', 'деревня Рапполово', 'деревня Пустынка',\n",
       "       'поселок Рабитицы', 'деревня Большой Сабск', 'деревня Русско',\n",
       "       'деревня Лупполово', 'деревня Большое Рейзино',\n",
       "       'деревня Малая Романовка', 'поселок Дружноселье', 'поселок Пчевжа',\n",
       "       'поселок Володарское', 'деревня Нижняя', 'деревня Тихковицы',\n",
       "       'деревня Борисова Грива', 'поселок Дзержинского'], dtype=object)"
      ]
     },
     "execution_count": 14,
     "metadata": {},
     "output_type": "execute_result"
    }
   ],
   "source": [
    "# Прежде всего, заполним пропуски в столбце \"locality_name\" значениями \"Not stated\", чтобы было\n",
    "# удобнее дальше работать с данными.\n",
    "data['locality_name'] = data['locality_name'].fillna('Not stated')\n",
    "# Выведем уникальные значения столбца \"locality_name\" и найдём неявные дубликаты.\n",
    "data['locality_name'] = data['locality_name'].replace('посёлок.', 'поселок ', regex=True)\n",
    "data['locality_name'] = data['locality_name'].replace('поселок.', 'поселок ', regex=True)\n",
    "data['locality_name'] = data['locality_name'].replace('.городского типа.', ' ', regex=True)\n",
    "data['locality_name'] = data['locality_name'].replace('городской.', '', regex=True)\n",
    "data['locality_name'] = data['locality_name'].replace('коттеджный.', '', regex=True)\n",
    "data['locality_name'] = data['locality_name'].replace('.при железнодорожной станции.', ' ', regex=True)\n",
    "data = data.drop_duplicates()\n",
    "#data.duplicated().sum()\n",
    "data['locality_name'].unique()\n",
    "#data.head(20)"
   ]
  },
  {
   "cell_type": "markdown",
   "metadata": {},
   "source": [
    "Мы сделали значения в столбце **\"locality_name\"** более приятными для обработки."
   ]
  },
  {
   "cell_type": "markdown",
   "metadata": {},
   "source": [
    "Теперь найдем выбивающиеся значения."
   ]
  },
  {
   "cell_type": "code",
   "execution_count": 15,
   "metadata": {},
   "outputs": [],
   "source": [
    "#data.head(15)\n",
    "#data.hist('ceiling_height', bins=20)\n",
    "# Смущают значения, которые находятся в районе 25 м. \n",
    "# Заполним пропуски значениями \"-1\", чтобы удобнее работать с данными.\n",
    "data['ceiling_height'] = data['ceiling_height'].fillna(-1)\n",
    "# Высота потолка 27 м. Логично предположить, что на самом деле 2.7 м. Выполним замену.\n",
    "data.loc[data['ceiling_height'] >= 20, 'ceiling_height'] = data['ceiling_height']/10\n",
    "# После построения гистограмм, других выбивающихся значений я не выявил."
   ]
  },
  {
   "cell_type": "markdown",
   "metadata": {},
   "source": [
    "Я построил отдельно гистограммы по каждому столбцу. Выбивающееся значение нашёл только в столбце **\"ceiling_height\"**."
   ]
  },
  {
   "cell_type": "markdown",
   "metadata": {},
   "source": [
    "### Посчитаем и добавим в таблицу новые столбцы"
   ]
  },
  {
   "cell_type": "code",
   "execution_count": 16,
   "metadata": {},
   "outputs": [],
   "source": [
    "# цена одного квадратного метра\n",
    "data['price_one_meter'] =  data['last_price']/data['total_area']\n",
    "# день недели, месяц, год публикации\n",
    "for i in range(len(data)):\n",
    "    data.loc[i, 'weekday'] = pd.Timestamp(data.loc[i, 'first_day_exposition']).weekday()\n",
    "    data.loc[i, 'month'] = pd.Timestamp(data.loc[i, 'first_day_exposition']).strftime('%B')\n",
    "    data.loc[i, 'year'] = pd.Timestamp(data.loc[i, 'first_day_exposition']).year\n",
    "data['weekday'] = pd.to_numeric(data['weekday'], errors='coerce', downcast='integer')\n",
    "data['year'] = pd.to_numeric(data['year'], errors='coerce', downcast='integer')\n",
    "#data.head(20)"
   ]
  },
  {
   "cell_type": "code",
   "execution_count": 17,
   "metadata": {},
   "outputs": [],
   "source": [
    "# тип этажа квартиры\n",
    "def what_floor(data):\n",
    "    if data.loc['floor'] == 1:\n",
    "        return 'первый'\n",
    "    elif data.loc['floor'] == data.loc['floors_total']:\n",
    "        return 'последний'\n",
    "    else:\n",
    "        return 'другой'\n",
    "\n",
    "data['what_floor'] = data.apply(what_floor, axis=1)"
   ]
  },
  {
   "cell_type": "code",
   "execution_count": 18,
   "metadata": {},
   "outputs": [],
   "source": [
    "# расстояние до центра города\n",
    "def center_km(data):\n",
    "    if data.loc['cityCenters_nearest'] == -1:\n",
    "        return -1\n",
    "    else:\n",
    "        return round(data.loc['cityCenters_nearest']/1000)\n",
    "data['center_km'] = data.apply(center_km, axis=1)\n",
    "#data.info()"
   ]
  },
  {
   "cell_type": "markdown",
   "metadata": {},
   "source": [
    "### Проведем исследовательский анализ данных"
   ]
  },
  {
   "cell_type": "code",
   "execution_count": 19,
   "metadata": {},
   "outputs": [
    {
     "name": "stdout",
     "output_type": "stream",
     "text": [
      "<class 'pandas.core.frame.DataFrame'>\n",
      "Int64Index: 23699 entries, 0 to 23698\n",
      "Data columns (total 28 columns):\n",
      " #   Column                Non-Null Count  Dtype         \n",
      "---  ------                --------------  -----         \n",
      " 0   total_images          23699 non-null  int64         \n",
      " 1   last_price            23699 non-null  int64         \n",
      " 2   total_area            23699 non-null  float64       \n",
      " 3   first_day_exposition  23699 non-null  datetime64[ns]\n",
      " 4   rooms                 23699 non-null  int64         \n",
      " 5   ceiling_height        23699 non-null  float64       \n",
      " 6   floors_total          23699 non-null  int64         \n",
      " 7   living_area           23699 non-null  float64       \n",
      " 8   floor                 23699 non-null  int64         \n",
      " 9   is_apartment          23699 non-null  bool          \n",
      " 10  studio                23699 non-null  bool          \n",
      " 11  open_plan             23699 non-null  bool          \n",
      " 12  kitchen_area          23699 non-null  float64       \n",
      " 13  balcony               23699 non-null  int64         \n",
      " 14  locality_name         23699 non-null  object        \n",
      " 15  airports_nearest      23699 non-null  int64         \n",
      " 16  cityCenters_nearest   23699 non-null  int64         \n",
      " 17  parks_around3000      23699 non-null  int64         \n",
      " 18  parks_nearest         23699 non-null  int64         \n",
      " 19  ponds_around3000      23699 non-null  int64         \n",
      " 20  ponds_nearest         23699 non-null  int64         \n",
      " 21  days_exposition       23699 non-null  int64         \n",
      " 22  price_one_meter       23699 non-null  float64       \n",
      " 23  weekday               23699 non-null  int8          \n",
      " 24  month                 23699 non-null  object        \n",
      " 25  year                  23699 non-null  int16         \n",
      " 26  what_floor            23699 non-null  object        \n",
      " 27  center_km             23699 non-null  int64         \n",
      "dtypes: bool(3), datetime64[ns](1), float64(5), int16(1), int64(14), int8(1), object(3)\n",
      "memory usage: 5.0+ MB\n"
     ]
    }
   ],
   "source": [
    "data.info()"
   ]
  },
  {
   "cell_type": "code",
   "execution_count": 20,
   "metadata": {},
   "outputs": [
    {
     "data": {
      "text/plain": [
       "<AxesSubplot:>"
      ]
     },
     "execution_count": 20,
     "metadata": {},
     "output_type": "execute_result"
    },
    {
     "data": {
      "image/png": "[encoded data removed]",
      "text/plain": [
       "<Figure size 432x288 with 1 Axes>"
      ]
     },
     "metadata": {
      "needs_background": "light"
     },
     "output_type": "display_data"
    }
   ],
   "source": [
    "# Общая площадь\n",
    "data['total_area'].hist(range=(600,1000))"
   ]
  },
  {
   "cell_type": "markdown",
   "metadata": {},
   "source": [
    "Квартира площадью 900 квадратных метров... Удалим этот выброс."
   ]
  },
  {
   "cell_type": "code",
   "execution_count": 21,
   "metadata": {},
   "outputs": [
    {
     "data": {
      "text/plain": [
       "<AxesSubplot:>"
      ]
     },
     "execution_count": 21,
     "metadata": {},
     "output_type": "execute_result"
    },
    {
     "data": {
      "image/png": "[encoded data removed]",
      "text/plain": [
       "<Figure size 432x288 with 1 Axes>"
      ]
     },
     "metadata": {
      "needs_background": "light"
     },
     "output_type": "display_data"
    }
   ],
   "source": [
    "data=data.query('total_area<850')\n",
    "data['total_area'].hist(range=(300,900))"
   ]
  },
  {
   "cell_type": "code",
   "execution_count": 22,
   "metadata": {},
   "outputs": [
    {
     "data": {
      "text/plain": [
       "<AxesSubplot:>"
      ]
     },
     "execution_count": 22,
     "metadata": {},
     "output_type": "execute_result"
    },
    {
     "data": {
      "image/png": "[encoded data removed]",
      "text/plain": [
       "<Figure size 432x288 with 1 Axes>"
      ]
     },
     "metadata": {
      "needs_background": "light"
     },
     "output_type": "display_data"
    }
   ],
   "source": [
    "# Жилая площадь\n",
    "data['living_area'].hist(range=(300,900))"
   ]
  },
  {
   "cell_type": "markdown",
   "metadata": {},
   "source": [
    "Заметно выбивающихся значений нет."
   ]
  },
  {
   "cell_type": "code",
   "execution_count": 23,
   "metadata": {},
   "outputs": [
    {
     "data": {
      "text/plain": [
       "<AxesSubplot:>"
      ]
     },
     "execution_count": 23,
     "metadata": {},
     "output_type": "execute_result"
    },
    {
     "data": {
      "image/png": "[encoded data removed]",
      "text/plain": [
       "<Figure size 432x288 with 1 Axes>"
      ]
     },
     "metadata": {
      "needs_background": "light"
     },
     "output_type": "display_data"
    }
   ],
   "source": [
    "# Площадь кухни\n",
    "data['kitchen_area'].hist(range=(60,200))"
   ]
  },
  {
   "cell_type": "markdown",
   "metadata": {},
   "source": [
    "Выбросов не наблюдается."
   ]
  },
  {
   "cell_type": "code",
   "execution_count": 24,
   "metadata": {},
   "outputs": [
    {
     "data": {
      "text/plain": [
       "<AxesSubplot:>"
      ]
     },
     "execution_count": 24,
     "metadata": {},
     "output_type": "execute_result"
    },
    {
     "data": {
      "image/png": "[encoded data removed]",
      "text/plain": [
       "<Figure size 432x288 with 1 Axes>"
      ]
     },
     "metadata": {
      "needs_background": "light"
     },
     "output_type": "display_data"
    }
   ],
   "source": [
    "# Цена объекта\n",
    "data['last_price'].hist(range=(100000000,800000000))"
   ]
  },
  {
   "cell_type": "markdown",
   "metadata": {},
   "source": [
    "Есть квартира стоимостью порядка 700 млн. руб <br> Разделим число на 10. Думаю в данных лишний разряд."
   ]
  },
  {
   "cell_type": "code",
   "execution_count": 25,
   "metadata": {},
   "outputs": [
    {
     "data": {
      "text/plain": [
       "<AxesSubplot:>"
      ]
     },
     "execution_count": 25,
     "metadata": {},
     "output_type": "execute_result"
    },
    {
     "data": {
      "image/png": "[encoded data removed]",
      "text/plain": [
       "<Figure size 432x288 with 1 Axes>"
      ]
     },
     "metadata": {
      "needs_background": "light"
     },
     "output_type": "display_data"
    }
   ],
   "source": [
    "data.loc[data['last_price']>700000000, 'last_price'] = data['last_price'] / 10\n",
    "data['last_price'].hist(range=(100000000, 800000000))"
   ]
  },
  {
   "cell_type": "markdown",
   "metadata": {},
   "source": [
    "Обработали выбивающееся значение."
   ]
  },
  {
   "cell_type": "code",
   "execution_count": 26,
   "metadata": {},
   "outputs": [
    {
     "data": {
      "text/plain": [
       "<AxesSubplot:>"
      ]
     },
     "execution_count": 26,
     "metadata": {},
     "output_type": "execute_result"
    },
    {
     "data": {
      "image/png": "[encoded data removed]",
      "text/plain": [
       "<Figure size 432x288 with 1 Axes>"
      ]
     },
     "metadata": {
      "needs_background": "light"
     },
     "output_type": "display_data"
    }
   ],
   "source": [
    "# Количество комнат\n",
    "data['rooms'].hist()"
   ]
  },
  {
   "cell_type": "markdown",
   "metadata": {},
   "source": [
    "Здесь всё хорошо с данными."
   ]
  },
  {
   "cell_type": "code",
   "execution_count": 27,
   "metadata": {},
   "outputs": [
    {
     "data": {
      "text/plain": [
       "<AxesSubplot:>"
      ]
     },
     "execution_count": 27,
     "metadata": {},
     "output_type": "execute_result"
    },
    {
     "data": {
      "image/png": "[encoded data removed]",
      "text/plain": [
       "<Figure size 432x288 with 1 Axes>"
      ]
     },
     "metadata": {
      "needs_background": "light"
     },
     "output_type": "display_data"
    }
   ],
   "source": [
    "# Высота потолков\n",
    "data['ceiling_height'].hist(range=(6,14))"
   ]
  },
  {
   "cell_type": "markdown",
   "metadata": {},
   "source": [
    "Особенно выделяющихся значений нет."
   ]
  },
  {
   "cell_type": "code",
   "execution_count": 28,
   "metadata": {},
   "outputs": [
    {
     "data": {
      "text/plain": [
       "<AxesSubplot:>"
      ]
     },
     "execution_count": 28,
     "metadata": {},
     "output_type": "execute_result"
    },
    {
     "data": {
      "image/png": "[encoded data removed]",
      "text/plain": [
       "<Figure size 432x288 with 1 Axes>"
      ]
     },
     "metadata": {
      "needs_background": "light"
     },
     "output_type": "display_data"
    }
   ],
   "source": [
    "# Этаж квартиры\n",
    "data['floor'].hist(range=(25, 36))"
   ]
  },
  {
   "cell_type": "markdown",
   "metadata": {},
   "source": [
    "Здесь выбросов в данных тоже нет."
   ]
  },
  {
   "cell_type": "code",
   "execution_count": 29,
   "metadata": {},
   "outputs": [
    {
     "data": {
      "text/plain": [
       "<AxesSubplot:>"
      ]
     },
     "execution_count": 29,
     "metadata": {},
     "output_type": "execute_result"
    },
    {
     "data": {
      "image/png": "[encoded data removed]",
      "text/plain": [
       "<Figure size 432x288 with 1 Axes>"
      ]
     },
     "metadata": {
      "needs_background": "light"
     },
     "output_type": "display_data"
    }
   ],
   "source": [
    "# Тип этажа\n",
    "data['what_floor'].hist()"
   ]
  },
  {
   "cell_type": "markdown",
   "metadata": {},
   "source": [
    "Большинство квартир между первым и последним этажами, что логично."
   ]
  },
  {
   "cell_type": "code",
   "execution_count": 30,
   "metadata": {},
   "outputs": [
    {
     "data": {
      "text/plain": [
       "2253           Кронштадт\n",
       "16731    Санкт-Петербург\n",
       "Name: locality_name, dtype: object"
      ]
     },
     "execution_count": 30,
     "metadata": {},
     "output_type": "execute_result"
    },
    {
     "data": {
      "image/png": "[encoded data removed]",
      "text/plain": [
       "<Figure size 432x288 with 1 Axes>"
      ]
     },
     "metadata": {
      "needs_background": "light"
     },
     "output_type": "display_data"
    }
   ],
   "source": [
    "# Общее кол-во этажей в доме\n",
    "data['floors_total'].hist()\n",
    "data.query('floors_total >40')['locality_name']"
   ]
  },
  {
   "cell_type": "markdown",
   "metadata": {},
   "source": [
    "Не могу представить, что в Питере есть дом c пятьюдесеятью этажами, да и в Кронштадте... Удалим эти строки из таблицы."
   ]
  },
  {
   "cell_type": "code",
   "execution_count": 31,
   "metadata": {},
   "outputs": [
    {
     "data": {
      "text/plain": [
       "<AxesSubplot:>"
      ]
     },
     "execution_count": 31,
     "metadata": {},
     "output_type": "execute_result"
    },
    {
     "data": {
      "image/png": "[encoded data removed]",
      "text/plain": [
       "<Figure size 432x288 with 1 Axes>"
      ]
     },
     "metadata": {
      "needs_background": "light"
     },
     "output_type": "display_data"
    }
   ],
   "source": [
    "data=data.query('floors_total<45')\n",
    "data['floors_total'].hist()"
   ]
  },
  {
   "cell_type": "code",
   "execution_count": 32,
   "metadata": {},
   "outputs": [
    {
     "data": {
      "text/html": [
       "<div>\n",
       "<style scoped>\n",
       "    .dataframe tbody tr th:only-of-type {\n",
       "        vertical-align: middle;\n",
       "    }\n",
       "\n",
       "    .dataframe tbody tr th {\n",
       "        vertical-align: top;\n",
       "    }\n",
       "\n",
       "    .dataframe thead th {\n",
       "        text-align: right;\n",
       "    }\n",
       "</style>\n",
       "<table border=\"1\" class=\"dataframe\">\n",
       "  <thead>\n",
       "    <tr style=\"text-align: right;\">\n",
       "      <th></th>\n",
       "      <th>total_images</th>\n",
       "      <th>last_price</th>\n",
       "      <th>total_area</th>\n",
       "      <th>first_day_exposition</th>\n",
       "      <th>rooms</th>\n",
       "      <th>ceiling_height</th>\n",
       "      <th>floors_total</th>\n",
       "      <th>living_area</th>\n",
       "      <th>floor</th>\n",
       "      <th>is_apartment</th>\n",
       "      <th>...</th>\n",
       "      <th>parks_nearest</th>\n",
       "      <th>ponds_around3000</th>\n",
       "      <th>ponds_nearest</th>\n",
       "      <th>days_exposition</th>\n",
       "      <th>price_one_meter</th>\n",
       "      <th>weekday</th>\n",
       "      <th>month</th>\n",
       "      <th>year</th>\n",
       "      <th>what_floor</th>\n",
       "      <th>center_km</th>\n",
       "    </tr>\n",
       "  </thead>\n",
       "  <tbody>\n",
       "    <tr>\n",
       "      <th>577</th>\n",
       "      <td>7</td>\n",
       "      <td>4000000.0</td>\n",
       "      <td>59.0</td>\n",
       "      <td>2017-07-23</td>\n",
       "      <td>3</td>\n",
       "      <td>2.50</td>\n",
       "      <td>5</td>\n",
       "      <td>37.0</td>\n",
       "      <td>1</td>\n",
       "      <td>False</td>\n",
       "      <td>...</td>\n",
       "      <td>-1</td>\n",
       "      <td>0</td>\n",
       "      <td>-1</td>\n",
       "      <td>-1</td>\n",
       "      <td>67796.610169</td>\n",
       "      <td>6</td>\n",
       "      <td>July</td>\n",
       "      <td>2017</td>\n",
       "      <td>первый</td>\n",
       "      <td>66</td>\n",
       "    </tr>\n",
       "    <tr>\n",
       "      <th>2974</th>\n",
       "      <td>13</td>\n",
       "      <td>3200000.0</td>\n",
       "      <td>46.3</td>\n",
       "      <td>2018-03-31</td>\n",
       "      <td>2</td>\n",
       "      <td>2.50</td>\n",
       "      <td>3</td>\n",
       "      <td>29.2</td>\n",
       "      <td>2</td>\n",
       "      <td>False</td>\n",
       "      <td>...</td>\n",
       "      <td>-1</td>\n",
       "      <td>0</td>\n",
       "      <td>-1</td>\n",
       "      <td>205</td>\n",
       "      <td>69114.470842</td>\n",
       "      <td>5</td>\n",
       "      <td>March</td>\n",
       "      <td>2018</td>\n",
       "      <td>другой</td>\n",
       "      <td>62</td>\n",
       "    </tr>\n",
       "    <tr>\n",
       "      <th>5218</th>\n",
       "      <td>15</td>\n",
       "      <td>3650000.0</td>\n",
       "      <td>53.8</td>\n",
       "      <td>2018-09-24</td>\n",
       "      <td>3</td>\n",
       "      <td>2.50</td>\n",
       "      <td>4</td>\n",
       "      <td>36.9</td>\n",
       "      <td>3</td>\n",
       "      <td>False</td>\n",
       "      <td>...</td>\n",
       "      <td>-1</td>\n",
       "      <td>0</td>\n",
       "      <td>-1</td>\n",
       "      <td>121</td>\n",
       "      <td>67843.866171</td>\n",
       "      <td>0</td>\n",
       "      <td>September</td>\n",
       "      <td>2018</td>\n",
       "      <td>другой</td>\n",
       "      <td>65</td>\n",
       "    </tr>\n",
       "    <tr>\n",
       "      <th>5340</th>\n",
       "      <td>19</td>\n",
       "      <td>3600000.0</td>\n",
       "      <td>50.6</td>\n",
       "      <td>2019-03-19</td>\n",
       "      <td>2</td>\n",
       "      <td>2.50</td>\n",
       "      <td>5</td>\n",
       "      <td>29.9</td>\n",
       "      <td>4</td>\n",
       "      <td>False</td>\n",
       "      <td>...</td>\n",
       "      <td>-1</td>\n",
       "      <td>0</td>\n",
       "      <td>-1</td>\n",
       "      <td>-1</td>\n",
       "      <td>71146.245059</td>\n",
       "      <td>1</td>\n",
       "      <td>March</td>\n",
       "      <td>2019</td>\n",
       "      <td>другой</td>\n",
       "      <td>66</td>\n",
       "    </tr>\n",
       "    <tr>\n",
       "      <th>9640</th>\n",
       "      <td>8</td>\n",
       "      <td>4200000.0</td>\n",
       "      <td>51.4</td>\n",
       "      <td>2014-12-10</td>\n",
       "      <td>2</td>\n",
       "      <td>2.55</td>\n",
       "      <td>5</td>\n",
       "      <td>31.0</td>\n",
       "      <td>2</td>\n",
       "      <td>False</td>\n",
       "      <td>...</td>\n",
       "      <td>-1</td>\n",
       "      <td>0</td>\n",
       "      <td>-1</td>\n",
       "      <td>1194</td>\n",
       "      <td>81712.062257</td>\n",
       "      <td>2</td>\n",
       "      <td>December</td>\n",
       "      <td>2014</td>\n",
       "      <td>другой</td>\n",
       "      <td>66</td>\n",
       "    </tr>\n",
       "    <tr>\n",
       "      <th>16569</th>\n",
       "      <td>13</td>\n",
       "      <td>3200000.0</td>\n",
       "      <td>52.8</td>\n",
       "      <td>2017-06-20</td>\n",
       "      <td>2</td>\n",
       "      <td>2.55</td>\n",
       "      <td>5</td>\n",
       "      <td>29.9</td>\n",
       "      <td>3</td>\n",
       "      <td>False</td>\n",
       "      <td>...</td>\n",
       "      <td>223</td>\n",
       "      <td>0</td>\n",
       "      <td>-1</td>\n",
       "      <td>240</td>\n",
       "      <td>60606.060606</td>\n",
       "      <td>1</td>\n",
       "      <td>June</td>\n",
       "      <td>2017</td>\n",
       "      <td>другой</td>\n",
       "      <td>61</td>\n",
       "    </tr>\n",
       "    <tr>\n",
       "      <th>18884</th>\n",
       "      <td>15</td>\n",
       "      <td>3600000.0</td>\n",
       "      <td>57.6</td>\n",
       "      <td>2019-02-08</td>\n",
       "      <td>3</td>\n",
       "      <td>2.55</td>\n",
       "      <td>3</td>\n",
       "      <td>41.3</td>\n",
       "      <td>2</td>\n",
       "      <td>False</td>\n",
       "      <td>...</td>\n",
       "      <td>-1</td>\n",
       "      <td>0</td>\n",
       "      <td>-1</td>\n",
       "      <td>13</td>\n",
       "      <td>62500.000000</td>\n",
       "      <td>4</td>\n",
       "      <td>February</td>\n",
       "      <td>2019</td>\n",
       "      <td>другой</td>\n",
       "      <td>63</td>\n",
       "    </tr>\n",
       "    <tr>\n",
       "      <th>20746</th>\n",
       "      <td>1</td>\n",
       "      <td>3300000.0</td>\n",
       "      <td>43.5</td>\n",
       "      <td>2016-02-16</td>\n",
       "      <td>2</td>\n",
       "      <td>2.55</td>\n",
       "      <td>4</td>\n",
       "      <td>27.2</td>\n",
       "      <td>2</td>\n",
       "      <td>False</td>\n",
       "      <td>...</td>\n",
       "      <td>-1</td>\n",
       "      <td>0</td>\n",
       "      <td>-1</td>\n",
       "      <td>1043</td>\n",
       "      <td>75862.068966</td>\n",
       "      <td>1</td>\n",
       "      <td>February</td>\n",
       "      <td>2016</td>\n",
       "      <td>другой</td>\n",
       "      <td>65</td>\n",
       "    </tr>\n",
       "    <tr>\n",
       "      <th>23123</th>\n",
       "      <td>0</td>\n",
       "      <td>1800000.0</td>\n",
       "      <td>32.0</td>\n",
       "      <td>2018-07-17</td>\n",
       "      <td>1</td>\n",
       "      <td>-1.00</td>\n",
       "      <td>2</td>\n",
       "      <td>17.0</td>\n",
       "      <td>1</td>\n",
       "      <td>False</td>\n",
       "      <td>...</td>\n",
       "      <td>17</td>\n",
       "      <td>0</td>\n",
       "      <td>-1</td>\n",
       "      <td>147</td>\n",
       "      <td>56250.000000</td>\n",
       "      <td>1</td>\n",
       "      <td>July</td>\n",
       "      <td>2018</td>\n",
       "      <td>первый</td>\n",
       "      <td>60</td>\n",
       "    </tr>\n",
       "  </tbody>\n",
       "</table>\n",
       "<p>9 rows × 28 columns</p>\n",
       "</div>"
      ],
      "text/plain": [
       "       total_images  last_price  total_area first_day_exposition  rooms  \\\n",
       "577               7   4000000.0        59.0           2017-07-23      3   \n",
       "2974             13   3200000.0        46.3           2018-03-31      2   \n",
       "5218             15   3650000.0        53.8           2018-09-24      3   \n",
       "5340             19   3600000.0        50.6           2019-03-19      2   \n",
       "9640              8   4200000.0        51.4           2014-12-10      2   \n",
       "16569            13   3200000.0        52.8           2017-06-20      2   \n",
       "18884            15   3600000.0        57.6           2019-02-08      3   \n",
       "20746             1   3300000.0        43.5           2016-02-16      2   \n",
       "23123             0   1800000.0        32.0           2018-07-17      1   \n",
       "\n",
       "       ceiling_height  floors_total  living_area  floor  is_apartment  ...  \\\n",
       "577              2.50             5         37.0      1         False  ...   \n",
       "2974             2.50             3         29.2      2         False  ...   \n",
       "5218             2.50             4         36.9      3         False  ...   \n",
       "5340             2.50             5         29.9      4         False  ...   \n",
       "9640             2.55             5         31.0      2         False  ...   \n",
       "16569            2.55             5         29.9      3         False  ...   \n",
       "18884            2.55             3         41.3      2         False  ...   \n",
       "20746            2.55             4         27.2      2         False  ...   \n",
       "23123           -1.00             2         17.0      1         False  ...   \n",
       "\n",
       "       parks_nearest  ponds_around3000  ponds_nearest  days_exposition  \\\n",
       "577               -1                 0             -1               -1   \n",
       "2974              -1                 0             -1              205   \n",
       "5218              -1                 0             -1              121   \n",
       "5340              -1                 0             -1               -1   \n",
       "9640              -1                 0             -1             1194   \n",
       "16569            223                 0             -1              240   \n",
       "18884             -1                 0             -1               13   \n",
       "20746             -1                 0             -1             1043   \n",
       "23123             17                 0             -1              147   \n",
       "\n",
       "      price_one_meter  weekday      month  year  what_floor  center_km  \n",
       "577      67796.610169        6       July  2017      первый         66  \n",
       "2974     69114.470842        5      March  2018      другой         62  \n",
       "5218     67843.866171        0  September  2018      другой         65  \n",
       "5340     71146.245059        1      March  2019      другой         66  \n",
       "9640     81712.062257        2   December  2014      другой         66  \n",
       "16569    60606.060606        1       June  2017      другой         61  \n",
       "18884    62500.000000        4   February  2019      другой         63  \n",
       "20746    75862.068966        1   February  2016      другой         65  \n",
       "23123    56250.000000        1       July  2018      первый         60  \n",
       "\n",
       "[9 rows x 28 columns]"
      ]
     },
     "execution_count": 32,
     "metadata": {},
     "output_type": "execute_result"
    },
    {
     "data": {
      "image/png": "[encoded data removed]",
      "text/plain": [
       "<Figure size 432x288 with 1 Axes>"
      ]
     },
     "metadata": {
      "needs_background": "light"
     },
     "output_type": "display_data"
    }
   ],
   "source": [
    "# Расстояние до центра в метрах\n",
    "data['cityCenters_nearest'].hist(range=(50000,70000))\n",
    "data.query('cityCenters_nearest >60000')"
   ]
  },
  {
   "cell_type": "markdown",
   "metadata": {},
   "source": [
    "Представленные квартиры имеют низкую стоимость одного квадратного метра. Возможно из-за того, что они расположены далеко от центра."
   ]
  },
  {
   "cell_type": "code",
   "execution_count": 33,
   "metadata": {},
   "outputs": [
    {
     "data": {
      "text/html": [
       "<div>\n",
       "<style scoped>\n",
       "    .dataframe tbody tr th:only-of-type {\n",
       "        vertical-align: middle;\n",
       "    }\n",
       "\n",
       "    .dataframe tbody tr th {\n",
       "        vertical-align: top;\n",
       "    }\n",
       "\n",
       "    .dataframe thead th {\n",
       "        text-align: right;\n",
       "    }\n",
       "</style>\n",
       "<table border=\"1\" class=\"dataframe\">\n",
       "  <thead>\n",
       "    <tr style=\"text-align: right;\">\n",
       "      <th></th>\n",
       "      <th>total_images</th>\n",
       "      <th>last_price</th>\n",
       "      <th>total_area</th>\n",
       "      <th>first_day_exposition</th>\n",
       "      <th>rooms</th>\n",
       "      <th>ceiling_height</th>\n",
       "      <th>floors_total</th>\n",
       "      <th>living_area</th>\n",
       "      <th>floor</th>\n",
       "      <th>is_apartment</th>\n",
       "      <th>...</th>\n",
       "      <th>parks_nearest</th>\n",
       "      <th>ponds_around3000</th>\n",
       "      <th>ponds_nearest</th>\n",
       "      <th>days_exposition</th>\n",
       "      <th>price_one_meter</th>\n",
       "      <th>weekday</th>\n",
       "      <th>month</th>\n",
       "      <th>year</th>\n",
       "      <th>what_floor</th>\n",
       "      <th>center_km</th>\n",
       "    </tr>\n",
       "  </thead>\n",
       "  <tbody>\n",
       "    <tr>\n",
       "      <th>302</th>\n",
       "      <td>6</td>\n",
       "      <td>3500000.0</td>\n",
       "      <td>31.0</td>\n",
       "      <td>2016-04-05</td>\n",
       "      <td>1</td>\n",
       "      <td>2.55</td>\n",
       "      <td>5</td>\n",
       "      <td>17.5</td>\n",
       "      <td>1</td>\n",
       "      <td>False</td>\n",
       "      <td>...</td>\n",
       "      <td>92</td>\n",
       "      <td>1</td>\n",
       "      <td>571</td>\n",
       "      <td>168</td>\n",
       "      <td>112903.225806</td>\n",
       "      <td>1</td>\n",
       "      <td>April</td>\n",
       "      <td>2016</td>\n",
       "      <td>первый</td>\n",
       "      <td>53</td>\n",
       "    </tr>\n",
       "    <tr>\n",
       "      <th>376</th>\n",
       "      <td>18</td>\n",
       "      <td>8400000.0</td>\n",
       "      <td>84.0</td>\n",
       "      <td>2018-06-26</td>\n",
       "      <td>2</td>\n",
       "      <td>2.75</td>\n",
       "      <td>3</td>\n",
       "      <td>41.0</td>\n",
       "      <td>1</td>\n",
       "      <td>False</td>\n",
       "      <td>...</td>\n",
       "      <td>-1</td>\n",
       "      <td>0</td>\n",
       "      <td>-1</td>\n",
       "      <td>201</td>\n",
       "      <td>100000.000000</td>\n",
       "      <td>1</td>\n",
       "      <td>June</td>\n",
       "      <td>2018</td>\n",
       "      <td>первый</td>\n",
       "      <td>55</td>\n",
       "    </tr>\n",
       "    <tr>\n",
       "      <th>577</th>\n",
       "      <td>7</td>\n",
       "      <td>4000000.0</td>\n",
       "      <td>59.0</td>\n",
       "      <td>2017-07-23</td>\n",
       "      <td>3</td>\n",
       "      <td>2.50</td>\n",
       "      <td>5</td>\n",
       "      <td>37.0</td>\n",
       "      <td>1</td>\n",
       "      <td>False</td>\n",
       "      <td>...</td>\n",
       "      <td>-1</td>\n",
       "      <td>0</td>\n",
       "      <td>-1</td>\n",
       "      <td>-1</td>\n",
       "      <td>67796.610169</td>\n",
       "      <td>6</td>\n",
       "      <td>July</td>\n",
       "      <td>2017</td>\n",
       "      <td>первый</td>\n",
       "      <td>66</td>\n",
       "    </tr>\n",
       "    <tr>\n",
       "      <th>939</th>\n",
       "      <td>17</td>\n",
       "      <td>3015000.0</td>\n",
       "      <td>31.2</td>\n",
       "      <td>2019-04-16</td>\n",
       "      <td>1</td>\n",
       "      <td>2.50</td>\n",
       "      <td>3</td>\n",
       "      <td>17.5</td>\n",
       "      <td>1</td>\n",
       "      <td>False</td>\n",
       "      <td>...</td>\n",
       "      <td>-1</td>\n",
       "      <td>1</td>\n",
       "      <td>347</td>\n",
       "      <td>-1</td>\n",
       "      <td>96634.615385</td>\n",
       "      <td>1</td>\n",
       "      <td>April</td>\n",
       "      <td>2019</td>\n",
       "      <td>первый</td>\n",
       "      <td>57</td>\n",
       "    </tr>\n",
       "    <tr>\n",
       "      <th>2036</th>\n",
       "      <td>19</td>\n",
       "      <td>6100000.0</td>\n",
       "      <td>50.0</td>\n",
       "      <td>2018-03-24</td>\n",
       "      <td>2</td>\n",
       "      <td>2.60</td>\n",
       "      <td>5</td>\n",
       "      <td>29.0</td>\n",
       "      <td>5</td>\n",
       "      <td>False</td>\n",
       "      <td>...</td>\n",
       "      <td>37</td>\n",
       "      <td>1</td>\n",
       "      <td>926</td>\n",
       "      <td>72</td>\n",
       "      <td>122000.000000</td>\n",
       "      <td>5</td>\n",
       "      <td>March</td>\n",
       "      <td>2018</td>\n",
       "      <td>последний</td>\n",
       "      <td>53</td>\n",
       "    </tr>\n",
       "    <tr>\n",
       "      <th>2974</th>\n",
       "      <td>13</td>\n",
       "      <td>3200000.0</td>\n",
       "      <td>46.3</td>\n",
       "      <td>2018-03-31</td>\n",
       "      <td>2</td>\n",
       "      <td>2.50</td>\n",
       "      <td>3</td>\n",
       "      <td>29.2</td>\n",
       "      <td>2</td>\n",
       "      <td>False</td>\n",
       "      <td>...</td>\n",
       "      <td>-1</td>\n",
       "      <td>0</td>\n",
       "      <td>-1</td>\n",
       "      <td>205</td>\n",
       "      <td>69114.470842</td>\n",
       "      <td>5</td>\n",
       "      <td>March</td>\n",
       "      <td>2018</td>\n",
       "      <td>другой</td>\n",
       "      <td>62</td>\n",
       "    </tr>\n",
       "    <tr>\n",
       "      <th>3477</th>\n",
       "      <td>4</td>\n",
       "      <td>6400000.0</td>\n",
       "      <td>67.2</td>\n",
       "      <td>2016-10-10</td>\n",
       "      <td>3</td>\n",
       "      <td>-1.00</td>\n",
       "      <td>6</td>\n",
       "      <td>43.0</td>\n",
       "      <td>1</td>\n",
       "      <td>False</td>\n",
       "      <td>...</td>\n",
       "      <td>112</td>\n",
       "      <td>1</td>\n",
       "      <td>408</td>\n",
       "      <td>316</td>\n",
       "      <td>95238.095238</td>\n",
       "      <td>0</td>\n",
       "      <td>October</td>\n",
       "      <td>2016</td>\n",
       "      <td>первый</td>\n",
       "      <td>53</td>\n",
       "    </tr>\n",
       "    <tr>\n",
       "      <th>3936</th>\n",
       "      <td>10</td>\n",
       "      <td>4250000.0</td>\n",
       "      <td>38.0</td>\n",
       "      <td>2017-11-30</td>\n",
       "      <td>1</td>\n",
       "      <td>2.70</td>\n",
       "      <td>3</td>\n",
       "      <td>20.0</td>\n",
       "      <td>3</td>\n",
       "      <td>False</td>\n",
       "      <td>...</td>\n",
       "      <td>533</td>\n",
       "      <td>2</td>\n",
       "      <td>123</td>\n",
       "      <td>179</td>\n",
       "      <td>111842.105263</td>\n",
       "      <td>3</td>\n",
       "      <td>November</td>\n",
       "      <td>2017</td>\n",
       "      <td>последний</td>\n",
       "      <td>53</td>\n",
       "    </tr>\n",
       "    <tr>\n",
       "      <th>4441</th>\n",
       "      <td>6</td>\n",
       "      <td>2300000.0</td>\n",
       "      <td>31.0</td>\n",
       "      <td>2016-05-26</td>\n",
       "      <td>1</td>\n",
       "      <td>-1.00</td>\n",
       "      <td>3</td>\n",
       "      <td>12.0</td>\n",
       "      <td>1</td>\n",
       "      <td>False</td>\n",
       "      <td>...</td>\n",
       "      <td>-1</td>\n",
       "      <td>0</td>\n",
       "      <td>-1</td>\n",
       "      <td>232</td>\n",
       "      <td>74193.548387</td>\n",
       "      <td>3</td>\n",
       "      <td>May</td>\n",
       "      <td>2016</td>\n",
       "      <td>первый</td>\n",
       "      <td>60</td>\n",
       "    </tr>\n",
       "    <tr>\n",
       "      <th>4906</th>\n",
       "      <td>11</td>\n",
       "      <td>5500000.0</td>\n",
       "      <td>49.0</td>\n",
       "      <td>2017-10-24</td>\n",
       "      <td>2</td>\n",
       "      <td>2.50</td>\n",
       "      <td>5</td>\n",
       "      <td>29.0</td>\n",
       "      <td>3</td>\n",
       "      <td>False</td>\n",
       "      <td>...</td>\n",
       "      <td>296</td>\n",
       "      <td>2</td>\n",
       "      <td>521</td>\n",
       "      <td>25</td>\n",
       "      <td>112244.897959</td>\n",
       "      <td>1</td>\n",
       "      <td>October</td>\n",
       "      <td>2017</td>\n",
       "      <td>другой</td>\n",
       "      <td>53</td>\n",
       "    </tr>\n",
       "    <tr>\n",
       "      <th>5218</th>\n",
       "      <td>15</td>\n",
       "      <td>3650000.0</td>\n",
       "      <td>53.8</td>\n",
       "      <td>2018-09-24</td>\n",
       "      <td>3</td>\n",
       "      <td>2.50</td>\n",
       "      <td>4</td>\n",
       "      <td>36.9</td>\n",
       "      <td>3</td>\n",
       "      <td>False</td>\n",
       "      <td>...</td>\n",
       "      <td>-1</td>\n",
       "      <td>0</td>\n",
       "      <td>-1</td>\n",
       "      <td>121</td>\n",
       "      <td>67843.866171</td>\n",
       "      <td>0</td>\n",
       "      <td>September</td>\n",
       "      <td>2018</td>\n",
       "      <td>другой</td>\n",
       "      <td>65</td>\n",
       "    </tr>\n",
       "    <tr>\n",
       "      <th>5340</th>\n",
       "      <td>19</td>\n",
       "      <td>3600000.0</td>\n",
       "      <td>50.6</td>\n",
       "      <td>2019-03-19</td>\n",
       "      <td>2</td>\n",
       "      <td>2.50</td>\n",
       "      <td>5</td>\n",
       "      <td>29.9</td>\n",
       "      <td>4</td>\n",
       "      <td>False</td>\n",
       "      <td>...</td>\n",
       "      <td>-1</td>\n",
       "      <td>0</td>\n",
       "      <td>-1</td>\n",
       "      <td>-1</td>\n",
       "      <td>71146.245059</td>\n",
       "      <td>1</td>\n",
       "      <td>March</td>\n",
       "      <td>2019</td>\n",
       "      <td>другой</td>\n",
       "      <td>66</td>\n",
       "    </tr>\n",
       "    <tr>\n",
       "      <th>6247</th>\n",
       "      <td>8</td>\n",
       "      <td>9600000.0</td>\n",
       "      <td>180.1</td>\n",
       "      <td>2017-03-07</td>\n",
       "      <td>4</td>\n",
       "      <td>2.75</td>\n",
       "      <td>2</td>\n",
       "      <td>100.0</td>\n",
       "      <td>2</td>\n",
       "      <td>False</td>\n",
       "      <td>...</td>\n",
       "      <td>-1</td>\n",
       "      <td>1</td>\n",
       "      <td>1037</td>\n",
       "      <td>496</td>\n",
       "      <td>53303.720155</td>\n",
       "      <td>1</td>\n",
       "      <td>March</td>\n",
       "      <td>2017</td>\n",
       "      <td>последний</td>\n",
       "      <td>55</td>\n",
       "    </tr>\n",
       "    <tr>\n",
       "      <th>7324</th>\n",
       "      <td>13</td>\n",
       "      <td>5000000.0</td>\n",
       "      <td>46.3</td>\n",
       "      <td>2017-09-12</td>\n",
       "      <td>2</td>\n",
       "      <td>2.55</td>\n",
       "      <td>9</td>\n",
       "      <td>30.1</td>\n",
       "      <td>5</td>\n",
       "      <td>False</td>\n",
       "      <td>...</td>\n",
       "      <td>174</td>\n",
       "      <td>2</td>\n",
       "      <td>561</td>\n",
       "      <td>28</td>\n",
       "      <td>107991.360691</td>\n",
       "      <td>1</td>\n",
       "      <td>September</td>\n",
       "      <td>2017</td>\n",
       "      <td>другой</td>\n",
       "      <td>53</td>\n",
       "    </tr>\n",
       "    <tr>\n",
       "      <th>8862</th>\n",
       "      <td>11</td>\n",
       "      <td>5000000.0</td>\n",
       "      <td>40.0</td>\n",
       "      <td>2018-06-29</td>\n",
       "      <td>1</td>\n",
       "      <td>2.70</td>\n",
       "      <td>4</td>\n",
       "      <td>16.0</td>\n",
       "      <td>1</td>\n",
       "      <td>False</td>\n",
       "      <td>...</td>\n",
       "      <td>574</td>\n",
       "      <td>1</td>\n",
       "      <td>507</td>\n",
       "      <td>165</td>\n",
       "      <td>125000.000000</td>\n",
       "      <td>4</td>\n",
       "      <td>June</td>\n",
       "      <td>2018</td>\n",
       "      <td>первый</td>\n",
       "      <td>54</td>\n",
       "    </tr>\n",
       "    <tr>\n",
       "      <th>9493</th>\n",
       "      <td>0</td>\n",
       "      <td>5350000.0</td>\n",
       "      <td>47.5</td>\n",
       "      <td>2017-06-14</td>\n",
       "      <td>2</td>\n",
       "      <td>2.55</td>\n",
       "      <td>5</td>\n",
       "      <td>29.9</td>\n",
       "      <td>4</td>\n",
       "      <td>False</td>\n",
       "      <td>...</td>\n",
       "      <td>37</td>\n",
       "      <td>1</td>\n",
       "      <td>926</td>\n",
       "      <td>394</td>\n",
       "      <td>112631.578947</td>\n",
       "      <td>2</td>\n",
       "      <td>June</td>\n",
       "      <td>2017</td>\n",
       "      <td>другой</td>\n",
       "      <td>53</td>\n",
       "    </tr>\n",
       "    <tr>\n",
       "      <th>9640</th>\n",
       "      <td>8</td>\n",
       "      <td>4200000.0</td>\n",
       "      <td>51.4</td>\n",
       "      <td>2014-12-10</td>\n",
       "      <td>2</td>\n",
       "      <td>2.55</td>\n",
       "      <td>5</td>\n",
       "      <td>31.0</td>\n",
       "      <td>2</td>\n",
       "      <td>False</td>\n",
       "      <td>...</td>\n",
       "      <td>-1</td>\n",
       "      <td>0</td>\n",
       "      <td>-1</td>\n",
       "      <td>1194</td>\n",
       "      <td>81712.062257</td>\n",
       "      <td>2</td>\n",
       "      <td>December</td>\n",
       "      <td>2014</td>\n",
       "      <td>другой</td>\n",
       "      <td>66</td>\n",
       "    </tr>\n",
       "    <tr>\n",
       "      <th>9679</th>\n",
       "      <td>7</td>\n",
       "      <td>4500000.0</td>\n",
       "      <td>46.3</td>\n",
       "      <td>2017-06-07</td>\n",
       "      <td>2</td>\n",
       "      <td>2.60</td>\n",
       "      <td>9</td>\n",
       "      <td>26.4</td>\n",
       "      <td>4</td>\n",
       "      <td>False</td>\n",
       "      <td>...</td>\n",
       "      <td>112</td>\n",
       "      <td>1</td>\n",
       "      <td>408</td>\n",
       "      <td>124</td>\n",
       "      <td>97192.224622</td>\n",
       "      <td>2</td>\n",
       "      <td>June</td>\n",
       "      <td>2017</td>\n",
       "      <td>другой</td>\n",
       "      <td>53</td>\n",
       "    </tr>\n",
       "    <tr>\n",
       "      <th>10541</th>\n",
       "      <td>9</td>\n",
       "      <td>3850000.0</td>\n",
       "      <td>41.4</td>\n",
       "      <td>2018-09-06</td>\n",
       "      <td>2</td>\n",
       "      <td>2.50</td>\n",
       "      <td>3</td>\n",
       "      <td>28.0</td>\n",
       "      <td>1</td>\n",
       "      <td>False</td>\n",
       "      <td>...</td>\n",
       "      <td>37</td>\n",
       "      <td>1</td>\n",
       "      <td>591</td>\n",
       "      <td>207</td>\n",
       "      <td>92995.169082</td>\n",
       "      <td>3</td>\n",
       "      <td>September</td>\n",
       "      <td>2018</td>\n",
       "      <td>первый</td>\n",
       "      <td>53</td>\n",
       "    </tr>\n",
       "    <tr>\n",
       "      <th>11244</th>\n",
       "      <td>8</td>\n",
       "      <td>4250000.0</td>\n",
       "      <td>32.0</td>\n",
       "      <td>2018-02-04</td>\n",
       "      <td>1</td>\n",
       "      <td>-1.00</td>\n",
       "      <td>2</td>\n",
       "      <td>20.0</td>\n",
       "      <td>2</td>\n",
       "      <td>False</td>\n",
       "      <td>...</td>\n",
       "      <td>148</td>\n",
       "      <td>1</td>\n",
       "      <td>671</td>\n",
       "      <td>24</td>\n",
       "      <td>132812.500000</td>\n",
       "      <td>6</td>\n",
       "      <td>February</td>\n",
       "      <td>2018</td>\n",
       "      <td>последний</td>\n",
       "      <td>59</td>\n",
       "    </tr>\n",
       "    <tr>\n",
       "      <th>14185</th>\n",
       "      <td>10</td>\n",
       "      <td>17212500.0</td>\n",
       "      <td>76.5</td>\n",
       "      <td>2015-09-03</td>\n",
       "      <td>2</td>\n",
       "      <td>-1.00</td>\n",
       "      <td>4</td>\n",
       "      <td>30.2</td>\n",
       "      <td>2</td>\n",
       "      <td>False</td>\n",
       "      <td>...</td>\n",
       "      <td>-1</td>\n",
       "      <td>0</td>\n",
       "      <td>-1</td>\n",
       "      <td>-1</td>\n",
       "      <td>225000.000000</td>\n",
       "      <td>3</td>\n",
       "      <td>September</td>\n",
       "      <td>2015</td>\n",
       "      <td>другой</td>\n",
       "      <td>51</td>\n",
       "    </tr>\n",
       "    <tr>\n",
       "      <th>15037</th>\n",
       "      <td>9</td>\n",
       "      <td>23000000.0</td>\n",
       "      <td>71.0</td>\n",
       "      <td>2017-05-15</td>\n",
       "      <td>2</td>\n",
       "      <td>3.30</td>\n",
       "      <td>4</td>\n",
       "      <td>31.0</td>\n",
       "      <td>2</td>\n",
       "      <td>False</td>\n",
       "      <td>...</td>\n",
       "      <td>-1</td>\n",
       "      <td>0</td>\n",
       "      <td>-1</td>\n",
       "      <td>90</td>\n",
       "      <td>323943.661972</td>\n",
       "      <td>0</td>\n",
       "      <td>May</td>\n",
       "      <td>2017</td>\n",
       "      <td>другой</td>\n",
       "      <td>51</td>\n",
       "    </tr>\n",
       "    <tr>\n",
       "      <th>17683</th>\n",
       "      <td>8</td>\n",
       "      <td>3700000.0</td>\n",
       "      <td>40.8</td>\n",
       "      <td>2018-10-10</td>\n",
       "      <td>2</td>\n",
       "      <td>2.50</td>\n",
       "      <td>3</td>\n",
       "      <td>27.2</td>\n",
       "      <td>2</td>\n",
       "      <td>False</td>\n",
       "      <td>...</td>\n",
       "      <td>305</td>\n",
       "      <td>1</td>\n",
       "      <td>55</td>\n",
       "      <td>27</td>\n",
       "      <td>90686.274510</td>\n",
       "      <td>2</td>\n",
       "      <td>October</td>\n",
       "      <td>2018</td>\n",
       "      <td>другой</td>\n",
       "      <td>53</td>\n",
       "    </tr>\n",
       "    <tr>\n",
       "      <th>18096</th>\n",
       "      <td>2</td>\n",
       "      <td>6177600.0</td>\n",
       "      <td>70.2</td>\n",
       "      <td>2015-11-10</td>\n",
       "      <td>3</td>\n",
       "      <td>-1.00</td>\n",
       "      <td>4</td>\n",
       "      <td>43.7</td>\n",
       "      <td>4</td>\n",
       "      <td>False</td>\n",
       "      <td>...</td>\n",
       "      <td>574</td>\n",
       "      <td>1</td>\n",
       "      <td>507</td>\n",
       "      <td>259</td>\n",
       "      <td>88000.000000</td>\n",
       "      <td>1</td>\n",
       "      <td>November</td>\n",
       "      <td>2015</td>\n",
       "      <td>последний</td>\n",
       "      <td>54</td>\n",
       "    </tr>\n",
       "    <tr>\n",
       "      <th>18884</th>\n",
       "      <td>15</td>\n",
       "      <td>3600000.0</td>\n",
       "      <td>57.6</td>\n",
       "      <td>2019-02-08</td>\n",
       "      <td>3</td>\n",
       "      <td>2.55</td>\n",
       "      <td>3</td>\n",
       "      <td>41.3</td>\n",
       "      <td>2</td>\n",
       "      <td>False</td>\n",
       "      <td>...</td>\n",
       "      <td>-1</td>\n",
       "      <td>0</td>\n",
       "      <td>-1</td>\n",
       "      <td>13</td>\n",
       "      <td>62500.000000</td>\n",
       "      <td>4</td>\n",
       "      <td>February</td>\n",
       "      <td>2019</td>\n",
       "      <td>другой</td>\n",
       "      <td>63</td>\n",
       "    </tr>\n",
       "    <tr>\n",
       "      <th>20191</th>\n",
       "      <td>6</td>\n",
       "      <td>3100000.0</td>\n",
       "      <td>30.0</td>\n",
       "      <td>2017-11-23</td>\n",
       "      <td>1</td>\n",
       "      <td>2.55</td>\n",
       "      <td>9</td>\n",
       "      <td>12.0</td>\n",
       "      <td>1</td>\n",
       "      <td>False</td>\n",
       "      <td>...</td>\n",
       "      <td>147</td>\n",
       "      <td>1</td>\n",
       "      <td>101</td>\n",
       "      <td>-1</td>\n",
       "      <td>103333.333333</td>\n",
       "      <td>3</td>\n",
       "      <td>November</td>\n",
       "      <td>2017</td>\n",
       "      <td>первый</td>\n",
       "      <td>53</td>\n",
       "    </tr>\n",
       "    <tr>\n",
       "      <th>20746</th>\n",
       "      <td>1</td>\n",
       "      <td>3300000.0</td>\n",
       "      <td>43.5</td>\n",
       "      <td>2016-02-16</td>\n",
       "      <td>2</td>\n",
       "      <td>2.55</td>\n",
       "      <td>4</td>\n",
       "      <td>27.2</td>\n",
       "      <td>2</td>\n",
       "      <td>False</td>\n",
       "      <td>...</td>\n",
       "      <td>-1</td>\n",
       "      <td>0</td>\n",
       "      <td>-1</td>\n",
       "      <td>1043</td>\n",
       "      <td>75862.068966</td>\n",
       "      <td>1</td>\n",
       "      <td>February</td>\n",
       "      <td>2016</td>\n",
       "      <td>другой</td>\n",
       "      <td>65</td>\n",
       "    </tr>\n",
       "    <tr>\n",
       "      <th>22855</th>\n",
       "      <td>16</td>\n",
       "      <td>2950000.0</td>\n",
       "      <td>31.0</td>\n",
       "      <td>2018-03-07</td>\n",
       "      <td>1</td>\n",
       "      <td>2.70</td>\n",
       "      <td>1</td>\n",
       "      <td>16.4</td>\n",
       "      <td>1</td>\n",
       "      <td>False</td>\n",
       "      <td>...</td>\n",
       "      <td>188</td>\n",
       "      <td>1</td>\n",
       "      <td>269</td>\n",
       "      <td>328</td>\n",
       "      <td>95161.290323</td>\n",
       "      <td>2</td>\n",
       "      <td>March</td>\n",
       "      <td>2018</td>\n",
       "      <td>первый</td>\n",
       "      <td>54</td>\n",
       "    </tr>\n",
       "    <tr>\n",
       "      <th>22941</th>\n",
       "      <td>8</td>\n",
       "      <td>10965000.0</td>\n",
       "      <td>69.3</td>\n",
       "      <td>2019-01-10</td>\n",
       "      <td>1</td>\n",
       "      <td>3.00</td>\n",
       "      <td>4</td>\n",
       "      <td>48.9</td>\n",
       "      <td>4</td>\n",
       "      <td>True</td>\n",
       "      <td>...</td>\n",
       "      <td>4</td>\n",
       "      <td>1</td>\n",
       "      <td>217</td>\n",
       "      <td>110</td>\n",
       "      <td>158225.108225</td>\n",
       "      <td>3</td>\n",
       "      <td>January</td>\n",
       "      <td>2019</td>\n",
       "      <td>последний</td>\n",
       "      <td>54</td>\n",
       "    </tr>\n",
       "  </tbody>\n",
       "</table>\n",
       "<p>29 rows × 28 columns</p>\n",
       "</div>"
      ],
      "text/plain": [
       "       total_images  last_price  total_area first_day_exposition  rooms  \\\n",
       "302               6   3500000.0        31.0           2016-04-05      1   \n",
       "376              18   8400000.0        84.0           2018-06-26      2   \n",
       "577               7   4000000.0        59.0           2017-07-23      3   \n",
       "939              17   3015000.0        31.2           2019-04-16      1   \n",
       "2036             19   6100000.0        50.0           2018-03-24      2   \n",
       "2974             13   3200000.0        46.3           2018-03-31      2   \n",
       "3477              4   6400000.0        67.2           2016-10-10      3   \n",
       "3936             10   4250000.0        38.0           2017-11-30      1   \n",
       "4441              6   2300000.0        31.0           2016-05-26      1   \n",
       "4906             11   5500000.0        49.0           2017-10-24      2   \n",
       "5218             15   3650000.0        53.8           2018-09-24      3   \n",
       "5340             19   3600000.0        50.6           2019-03-19      2   \n",
       "6247              8   9600000.0       180.1           2017-03-07      4   \n",
       "7324             13   5000000.0        46.3           2017-09-12      2   \n",
       "8862             11   5000000.0        40.0           2018-06-29      1   \n",
       "9493              0   5350000.0        47.5           2017-06-14      2   \n",
       "9640              8   4200000.0        51.4           2014-12-10      2   \n",
       "9679              7   4500000.0        46.3           2017-06-07      2   \n",
       "10541             9   3850000.0        41.4           2018-09-06      2   \n",
       "11244             8   4250000.0        32.0           2018-02-04      1   \n",
       "14185            10  17212500.0        76.5           2015-09-03      2   \n",
       "15037             9  23000000.0        71.0           2017-05-15      2   \n",
       "17683             8   3700000.0        40.8           2018-10-10      2   \n",
       "18096             2   6177600.0        70.2           2015-11-10      3   \n",
       "18884            15   3600000.0        57.6           2019-02-08      3   \n",
       "20191             6   3100000.0        30.0           2017-11-23      1   \n",
       "20746             1   3300000.0        43.5           2016-02-16      2   \n",
       "22855            16   2950000.0        31.0           2018-03-07      1   \n",
       "22941             8  10965000.0        69.3           2019-01-10      1   \n",
       "\n",
       "       ceiling_height  floors_total  living_area  floor  is_apartment  ...  \\\n",
       "302              2.55             5         17.5      1         False  ...   \n",
       "376              2.75             3         41.0      1         False  ...   \n",
       "577              2.50             5         37.0      1         False  ...   \n",
       "939              2.50             3         17.5      1         False  ...   \n",
       "2036             2.60             5         29.0      5         False  ...   \n",
       "2974             2.50             3         29.2      2         False  ...   \n",
       "3477            -1.00             6         43.0      1         False  ...   \n",
       "3936             2.70             3         20.0      3         False  ...   \n",
       "4441            -1.00             3         12.0      1         False  ...   \n",
       "4906             2.50             5         29.0      3         False  ...   \n",
       "5218             2.50             4         36.9      3         False  ...   \n",
       "5340             2.50             5         29.9      4         False  ...   \n",
       "6247             2.75             2        100.0      2         False  ...   \n",
       "7324             2.55             9         30.1      5         False  ...   \n",
       "8862             2.70             4         16.0      1         False  ...   \n",
       "9493             2.55             5         29.9      4         False  ...   \n",
       "9640             2.55             5         31.0      2         False  ...   \n",
       "9679             2.60             9         26.4      4         False  ...   \n",
       "10541            2.50             3         28.0      1         False  ...   \n",
       "11244           -1.00             2         20.0      2         False  ...   \n",
       "14185           -1.00             4         30.2      2         False  ...   \n",
       "15037            3.30             4         31.0      2         False  ...   \n",
       "17683            2.50             3         27.2      2         False  ...   \n",
       "18096           -1.00             4         43.7      4         False  ...   \n",
       "18884            2.55             3         41.3      2         False  ...   \n",
       "20191            2.55             9         12.0      1         False  ...   \n",
       "20746            2.55             4         27.2      2         False  ...   \n",
       "22855            2.70             1         16.4      1         False  ...   \n",
       "22941            3.00             4         48.9      4          True  ...   \n",
       "\n",
       "       parks_nearest  ponds_around3000  ponds_nearest  days_exposition  \\\n",
       "302               92                 1            571              168   \n",
       "376               -1                 0             -1              201   \n",
       "577               -1                 0             -1               -1   \n",
       "939               -1                 1            347               -1   \n",
       "2036              37                 1            926               72   \n",
       "2974              -1                 0             -1              205   \n",
       "3477             112                 1            408              316   \n",
       "3936             533                 2            123              179   \n",
       "4441              -1                 0             -1              232   \n",
       "4906             296                 2            521               25   \n",
       "5218              -1                 0             -1              121   \n",
       "5340              -1                 0             -1               -1   \n",
       "6247              -1                 1           1037              496   \n",
       "7324             174                 2            561               28   \n",
       "8862             574                 1            507              165   \n",
       "9493              37                 1            926              394   \n",
       "9640              -1                 0             -1             1194   \n",
       "9679             112                 1            408              124   \n",
       "10541             37                 1            591              207   \n",
       "11244            148                 1            671               24   \n",
       "14185             -1                 0             -1               -1   \n",
       "15037             -1                 0             -1               90   \n",
       "17683            305                 1             55               27   \n",
       "18096            574                 1            507              259   \n",
       "18884             -1                 0             -1               13   \n",
       "20191            147                 1            101               -1   \n",
       "20746             -1                 0             -1             1043   \n",
       "22855            188                 1            269              328   \n",
       "22941              4                 1            217              110   \n",
       "\n",
       "      price_one_meter  weekday      month  year  what_floor  center_km  \n",
       "302     112903.225806        1      April  2016      первый         53  \n",
       "376     100000.000000        1       June  2018      первый         55  \n",
       "577      67796.610169        6       July  2017      первый         66  \n",
       "939      96634.615385        1      April  2019      первый         57  \n",
       "2036    122000.000000        5      March  2018   последний         53  \n",
       "2974     69114.470842        5      March  2018      другой         62  \n",
       "3477     95238.095238        0    October  2016      первый         53  \n",
       "3936    111842.105263        3   November  2017   последний         53  \n",
       "4441     74193.548387        3        May  2016      первый         60  \n",
       "4906    112244.897959        1    October  2017      другой         53  \n",
       "5218     67843.866171        0  September  2018      другой         65  \n",
       "5340     71146.245059        1      March  2019      другой         66  \n",
       "6247     53303.720155        1      March  2017   последний         55  \n",
       "7324    107991.360691        1  September  2017      другой         53  \n",
       "8862    125000.000000        4       June  2018      первый         54  \n",
       "9493    112631.578947        2       June  2017      другой         53  \n",
       "9640     81712.062257        2   December  2014      другой         66  \n",
       "9679     97192.224622        2       June  2017      другой         53  \n",
       "10541    92995.169082        3  September  2018      первый         53  \n",
       "11244   132812.500000        6   February  2018   последний         59  \n",
       "14185   225000.000000        3  September  2015      другой         51  \n",
       "15037   323943.661972        0        May  2017      другой         51  \n",
       "17683    90686.274510        2    October  2018      другой         53  \n",
       "18096    88000.000000        1   November  2015   последний         54  \n",
       "18884    62500.000000        4   February  2019      другой         63  \n",
       "20191   103333.333333        3   November  2017      первый         53  \n",
       "20746    75862.068966        1   February  2016      другой         65  \n",
       "22855    95161.290323        2      March  2018      первый         54  \n",
       "22941   158225.108225        3    January  2019   последний         54  \n",
       "\n",
       "[29 rows x 28 columns]"
      ]
     },
     "execution_count": 33,
     "metadata": {},
     "output_type": "execute_result"
    },
    {
     "data": {
      "image/png": "[encoded data removed]",
      "text/plain": [
       "<Figure size 432x288 with 1 Axes>"
      ]
     },
     "metadata": {
      "needs_background": "light"
     },
     "output_type": "display_data"
    }
   ],
   "source": [
    "# Расстояние до аэропорта\n",
    "data['airports_nearest'].hist()\n",
    "data.query('airports_nearest >70000')"
   ]
  },
  {
   "cell_type": "markdown",
   "metadata": {},
   "source": [
    "Необычных значений нет. Оставим все данные в таблице."
   ]
  },
  {
   "cell_type": "code",
   "execution_count": 34,
   "metadata": {},
   "outputs": [
    {
     "data": {
      "text/plain": [
       "<AxesSubplot:>"
      ]
     },
     "execution_count": 34,
     "metadata": {},
     "output_type": "execute_result"
    },
    {
     "data": {
      "image/png": "[encoded data removed]",
      "text/plain": [
       "<Figure size 432x288 with 1 Axes>"
      ]
     },
     "metadata": {
      "needs_background": "light"
     },
     "output_type": "display_data"
    }
   ],
   "source": [
    "# Расстояние до парка\n",
    "data['parks_nearest'].hist()"
   ]
  },
  {
   "cell_type": "code",
   "execution_count": 35,
   "metadata": {},
   "outputs": [
    {
     "data": {
      "text/plain": [
       "<AxesSubplot:>"
      ]
     },
     "execution_count": 35,
     "metadata": {},
     "output_type": "execute_result"
    },
    {
     "data": {
      "image/png": "[encoded data removed]",
      "text/plain": [
       "<Figure size 432x288 with 1 Axes>"
      ]
     },
     "metadata": {
      "needs_background": "light"
     },
     "output_type": "display_data"
    }
   ],
   "source": [
    "# День публикации\n",
    "data['weekday'].hist(bins=15)"
   ]
  },
  {
   "cell_type": "code",
   "execution_count": 36,
   "metadata": {},
   "outputs": [
    {
     "data": {
      "text/plain": [
       "<AxesSubplot:>"
      ]
     },
     "execution_count": 36,
     "metadata": {},
     "output_type": "execute_result"
    },
    {
     "data": {
      "image/png": "[encoded data removed]",
      "text/plain": [
       "<Figure size 864x432 with 1 Axes>"
      ]
     },
     "metadata": {
      "needs_background": "light"
     },
     "output_type": "display_data"
    }
   ],
   "source": [
    "# Месяц публикации\n",
    "data['month'].hist(bins=20, figsize=(12,6))"
   ]
  },
  {
   "cell_type": "markdown",
   "metadata": {},
   "source": [
    "В столбцах **\"parks_nearest\"**, **\"weekday\"**, **\"month\"** выделяющихся значений нет."
   ]
  },
  {
   "cell_type": "markdown",
   "metadata": {},
   "source": [
    "\n",
    "Выделяется квартира с общей площадью 900 $м^2$. В такое не очень верится, но вдруг... Так что пока оставим её в таблице.<br>Бросается в глаза квартира стоимостью 763 млн. Но зато рядом с центром... Может того стоит, пока оставим её в таблице.<br> Львиная доля квартир находится в районе 25 км от аэропорта. Конечно, не учитывая пропущенные значения.<br> Большинство квартир находятся в 500 метрах от ближайшего парка.\n"
   ]
  },
  {
   "cell_type": "markdown",
   "metadata": {},
   "source": [
    "Посмотрим как быстро продавались квартиры."
   ]
  },
  {
   "cell_type": "code",
   "execution_count": 37,
   "metadata": {},
   "outputs": [
    {
     "name": "stdout",
     "output_type": "stream",
     "text": [
      "Среднее значение равно 180.89963441384353\n",
      "Медиана равна 95.0\n"
     ]
    },
    {
     "data": {
      "image/png": "[encoded data removed]",
      "text/plain": [
       "<Figure size 432x288 with 1 Axes>"
      ]
     },
     "metadata": {
      "needs_background": "light"
     },
     "output_type": "display_data"
    }
   ],
   "source": [
    "# Избавимся от значений \"-1\" в стобце days_exposition.\n",
    "data.query('days_exposition>0')['days_exposition'].hist()\n",
    "print('Среднее значение равно', data.query('days_exposition > 0')['days_exposition'].mean())\n",
    "print('Медиана равна', data.query('days_exposition > 0')['days_exposition'].median())"
   ]
  },
  {
   "cell_type": "markdown",
   "metadata": {},
   "source": [
    "Можно говорить о том, что в среднем продажа занимает около трёх месяцев. Если квартира продаётся за этот срок, то это быстрая продажа. Если срок размещения объявления превышает 200 дней, то это уже долгая продажа. "
   ]
  },
  {
   "cell_type": "code",
   "execution_count": 39,
   "metadata": {},
   "outputs": [
    {
     "data": {
      "text/plain": [
       "<AxesSubplot:>"
      ]
     },
     "execution_count": 39,
     "metadata": {},
     "output_type": "execute_result"
    },
    {
     "data": {
      "image/png": "[encoded data removed]",
      "text/plain": [
       "<Figure size 432x288 with 1 Axes>"
      ]
     },
     "metadata": {
      "needs_background": "light"
     },
     "output_type": "display_data"
    }
   ],
   "source": [
    "data = data.query('(last_price >= 500000) & (last_price <=40000000)')\n",
    "data['last_price'].hist()"
   ]
  },
  {
   "cell_type": "code",
   "execution_count": 40,
   "metadata": {},
   "outputs": [
    {
     "data": {
      "text/plain": [
       "<AxesSubplot:>"
      ]
     },
     "execution_count": 40,
     "metadata": {},
     "output_type": "execute_result"
    },
    {
     "data": {
      "image/png": "[encoded data removed]",
      "text/plain": [
       "<Figure size 432x288 with 1 Axes>"
      ]
     },
     "metadata": {
      "needs_background": "light"
     },
     "output_type": "display_data"
    }
   ],
   "source": [
    "data = data.query('total_area < 150')\n",
    "data['total_area'].hist()"
   ]
  },
  {
   "cell_type": "code",
   "execution_count": 41,
   "metadata": {},
   "outputs": [
    {
     "data": {
      "text/plain": [
       "<AxesSubplot:>"
      ]
     },
     "execution_count": 41,
     "metadata": {},
     "output_type": "execute_result"
    },
    {
     "data": {
      "image/png": "[encoded data removed]",
      "text/plain": [
       "<Figure size 432x288 with 1 Axes>"
      ]
     },
     "metadata": {
      "needs_background": "light"
     },
     "output_type": "display_data"
    }
   ],
   "source": [
    "data = data.query('rooms < 8')\n",
    "data['rooms'].hist()"
   ]
  },
  {
   "cell_type": "markdown",
   "metadata": {},
   "source": [
    "Рассмотрим какие факторы больше всего влияют на полную стоимость объекта."
   ]
  },
  {
   "cell_type": "code",
   "execution_count": 82,
   "metadata": {},
   "outputs": [
    {
     "data": {
      "text/plain": [
       "<AxesSubplot:title={'center':'Зависимость цены от площади'}, xlabel='площадь', ylabel='цена'>"
      ]
     },
     "execution_count": 82,
     "metadata": {},
     "output_type": "execute_result"
    },
    {
     "data": {
      "image/png": "[encoded data removed]",
      "text/plain": [
       "<Figure size 432x288 with 1 Axes>"
      ]
     },
     "metadata": {
      "needs_background": "light"
     },
     "output_type": "display_data"
    }
   ],
   "source": [
    "# Total_area\n",
    "data.plot(kind='scatter', x='total_area',y='last_price', xlim=(0,200), ylim=(0,10000000), title=\n",
    "         'Зависимость цены от площади', xlabel='площадь', ylabel='цена')"
   ]
  },
  {
   "cell_type": "code",
   "execution_count": 20,
   "metadata": {},
   "outputs": [
    {
     "data": {
      "text/plain": [
       "<AxesSubplot:xlabel='living_area', ylabel='last_price'>"
      ]
     },
     "execution_count": 20,
     "metadata": {},
     "output_type": "execute_result"
    },
    {
     "data": {
      "image/png": "[encoded data removed]",
      "text/plain": [
       "<Figure size 432x288 with 1 Axes>"
      ]
     },
     "metadata": {
      "needs_background": "light"
     },
     "output_type": "display_data"
    }
   ],
   "source": [
    "# Living_area\n",
    "data.plot(kind='scatter', x='living_area', y='last_price', xlim=(0,100), ylim=(0, 100000000))"
   ]
  },
  {
   "cell_type": "code",
   "execution_count": 83,
   "metadata": {},
   "outputs": [
    {
     "data": {
      "text/plain": [
       "<AxesSubplot:xlabel='kitchen_area', ylabel='last_price'>"
      ]
     },
     "execution_count": 83,
     "metadata": {},
     "output_type": "execute_result"
    },
    {
     "data": {
      "image/png": "[encoded data removed]",
      "text/plain": [
       "<Figure size 432x288 with 1 Axes>"
      ]
     },
     "metadata": {
      "needs_background": "light"
     },
     "output_type": "display_data"
    }
   ],
   "source": [
    "# Kitchen_area\n",
    "data.plot(kind='scatter', x='kitchen_area', y='last_price', ylim=(0,50000000),xlim=(1,60))"
   ]
  },
  {
   "cell_type": "code",
   "execution_count": 90,
   "metadata": {},
   "outputs": [
    {
     "data": {
      "text/plain": [
       "<AxesSubplot:xlabel='rooms', ylabel='last_price'>"
      ]
     },
     "execution_count": 90,
     "metadata": {},
     "output_type": "execute_result"
    },
    {
     "data": {
      "image/png": "[encoded data removed]",
      "text/plain": [
       "<Figure size 432x288 with 1 Axes>"
      ]
     },
     "metadata": {
      "needs_background": "light"
     },
     "output_type": "display_data"
    }
   ],
   "source": [
    "# Rooms\n",
    "data.plot(kind='scatter', x='rooms', y='last_price')"
   ]
  },
  {
   "cell_type": "code",
   "execution_count": 93,
   "metadata": {},
   "outputs": [
    {
     "data": {
      "text/plain": [
       "<AxesSubplot:xlabel='тип этажа', ylabel='цена'>"
      ]
     },
     "execution_count": 93,
     "metadata": {},
     "output_type": "execute_result"
    },
    {
     "data": {
      "image/png": "[encoded data removed]",
      "text/plain": [
       "<Figure size 432x288 with 1 Axes>"
      ]
     },
     "metadata": {
      "needs_background": "light"
     },
     "output_type": "display_data"
    }
   ],
   "source": [
    "# What_floor\n",
    "data.groupby('what_floor')['last_price'].median().plot(xlabel='тип этажа', ylabel='цена')"
   ]
  },
  {
   "cell_type": "code",
   "execution_count": 105,
   "metadata": {},
   "outputs": [
    {
     "data": {
      "text/plain": [
       "<AxesSubplot:title={'center':'Зависимость цены от дня публикации'}, xlabel='день недели', ylabel='цена'>"
      ]
     },
     "execution_count": 105,
     "metadata": {},
     "output_type": "execute_result"
    },
    {
     "data": {
      "image/png": "[encoded data removed]",
      "text/plain": [
       "<Figure size 432x288 with 1 Axes>"
      ]
     },
     "metadata": {
      "needs_background": "light"
     },
     "output_type": "display_data"
    }
   ],
   "source": [
    "# first_day_exposition,\n",
    "data.groupby('weekday')['last_price'].median().plot(xlabel='день недели', ylabel='цена',  title='Зависимость цены от дня публикации')"
   ]
  },
  {
   "cell_type": "code",
   "execution_count": 104,
   "metadata": {},
   "outputs": [
    {
     "data": {
      "text/plain": [
       "<AxesSubplot:title={'center':'Зависимость цены от месяца публикации'}, xlabel='месяц', ylabel='цена'>"
      ]
     },
     "execution_count": 104,
     "metadata": {},
     "output_type": "execute_result"
    },
    {
     "data": {
      "image/png": "[encoded data removed]",
      "text/plain": [
       "<Figure size 432x288 with 1 Axes>"
      ]
     },
     "metadata": {
      "needs_background": "light"
     },
     "output_type": "display_data"
    }
   ],
   "source": [
    "data.groupby('month')['last_price'].median().plot(xlabel='месяц', ylabel='цена',  title='Зависимость цены от месяца публикации')"
   ]
  },
  {
   "cell_type": "code",
   "execution_count": 103,
   "metadata": {},
   "outputs": [
    {
     "data": {
      "text/plain": [
       "<AxesSubplot:title={'center':'Зависимость цены от года публикации'}, xlabel='год', ylabel='цена'>"
      ]
     },
     "execution_count": 103,
     "metadata": {},
     "output_type": "execute_result"
    },
    {
     "data": {
      "image/png": "[encoded data removed]",
      "text/plain": [
       "<Figure size 432x288 with 1 Axes>"
      ]
     },
     "metadata": {
      "needs_background": "light"
     },
     "output_type": "display_data"
    }
   ],
   "source": [
    "data.groupby('year')['last_price'].median().plot(xlabel='год', ylabel='цена', title='Зависимость цены от года публикации')"
   ]
  },
  {
   "cell_type": "markdown",
   "metadata": {},
   "source": [
    "Видно, что цена квартиры зависит от общей площади, жилой площади. Также цена имеет положительную корреляцию с площадью кухни. С другой стороны, количество комнат и дата размещения объявления имеют очень слабую корреляцию. Также, дороже стоят квартиры, находящиеся между первым и последним этажами."
   ]
  },
  {
   "cell_type": "markdown",
   "metadata": {},
   "source": [
    "Посчитаем среднюю цену одного квадратного метра в 10 населённых пунктах с наибольшим числом объявлений."
   ]
  },
  {
   "cell_type": "code",
   "execution_count": 25,
   "metadata": {},
   "outputs": [
    {
     "data": {
      "text/html": [
       "<div>\n",
       "<style scoped>\n",
       "    .dataframe tbody tr th:only-of-type {\n",
       "        vertical-align: middle;\n",
       "    }\n",
       "\n",
       "    .dataframe tbody tr th {\n",
       "        vertical-align: top;\n",
       "    }\n",
       "\n",
       "    .dataframe thead th {\n",
       "        text-align: right;\n",
       "    }\n",
       "</style>\n",
       "<table border=\"1\" class=\"dataframe\">\n",
       "  <thead>\n",
       "    <tr style=\"text-align: right;\">\n",
       "      <th></th>\n",
       "      <th>price_one_meter</th>\n",
       "      <th>count</th>\n",
       "    </tr>\n",
       "    <tr>\n",
       "      <th>locality_name</th>\n",
       "      <th></th>\n",
       "      <th></th>\n",
       "    </tr>\n",
       "  </thead>\n",
       "  <tbody>\n",
       "    <tr>\n",
       "      <th>Санкт-Петербург</th>\n",
       "      <td>114849.008794</td>\n",
       "      <td>15721</td>\n",
       "    </tr>\n",
       "    <tr>\n",
       "      <th>поселок Мурино</th>\n",
       "      <td>85681.762601</td>\n",
       "      <td>556</td>\n",
       "    </tr>\n",
       "    <tr>\n",
       "      <th>поселок Шушары</th>\n",
       "      <td>78677.364217</td>\n",
       "      <td>440</td>\n",
       "    </tr>\n",
       "    <tr>\n",
       "      <th>Всеволожск</th>\n",
       "      <td>68654.473986</td>\n",
       "      <td>398</td>\n",
       "    </tr>\n",
       "    <tr>\n",
       "      <th>Пушкин</th>\n",
       "      <td>103125.819291</td>\n",
       "      <td>369</td>\n",
       "    </tr>\n",
       "    <tr>\n",
       "      <th>Колпино</th>\n",
       "      <td>75424.579098</td>\n",
       "      <td>338</td>\n",
       "    </tr>\n",
       "    <tr>\n",
       "      <th>поселок Парголово</th>\n",
       "      <td>90175.913458</td>\n",
       "      <td>327</td>\n",
       "    </tr>\n",
       "    <tr>\n",
       "      <th>Гатчина</th>\n",
       "      <td>68746.146763</td>\n",
       "      <td>307</td>\n",
       "    </tr>\n",
       "    <tr>\n",
       "      <th>деревня Кудрово</th>\n",
       "      <td>92473.547576</td>\n",
       "      <td>299</td>\n",
       "    </tr>\n",
       "    <tr>\n",
       "      <th>Выборг</th>\n",
       "      <td>58141.909153</td>\n",
       "      <td>237</td>\n",
       "    </tr>\n",
       "  </tbody>\n",
       "</table>\n",
       "</div>"
      ],
      "text/plain": [
       "                   price_one_meter  count\n",
       "locality_name                            \n",
       "Санкт-Петербург      114849.008794  15721\n",
       "поселок Мурино        85681.762601    556\n",
       "поселок Шушары        78677.364217    440\n",
       "Всеволожск            68654.473986    398\n",
       "Пушкин               103125.819291    369\n",
       "Колпино               75424.579098    338\n",
       "поселок Парголово     90175.913458    327\n",
       "Гатчина               68746.146763    307\n",
       "деревня Кудрово       92473.547576    299\n",
       "Выборг                58141.909153    237"
      ]
     },
     "execution_count": 25,
     "metadata": {},
     "output_type": "execute_result"
    }
   ],
   "source": [
    "data_ten_localities = data.pivot_table(index='locality_name', values='price_one_meter')\n",
    "data_ten_localities['count'] = data.groupby('locality_name')['last_price'].count()\n",
    "data_ten_localities.sort_values('count', ascending=False).head(10)"
   ]
  },
  {
   "cell_type": "markdown",
   "metadata": {},
   "source": [
    "В Санкт-Петербурге в среднем самая высокая стоимость одного квадратного метра, а в Выборге - самая низкая."
   ]
  },
  {
   "cell_type": "markdown",
   "metadata": {},
   "source": [
    "Выделим квартиры Санкт-Петербурга и вычислим среднюю цену одного километра до центра города."
   ]
  },
  {
   "cell_type": "code",
   "execution_count": 107,
   "metadata": {},
   "outputs": [
    {
     "data": {
      "text/plain": [
       "<AxesSubplot:title={'center':'Зависимость цены от расстояния до центра'}, xlabel='расстояние до центра', ylabel='цена'>"
      ]
     },
     "execution_count": 107,
     "metadata": {},
     "output_type": "execute_result"
    },
    {
     "data": {
      "image/png": "[encoded data removed]",
      "text/plain": [
       "<Figure size 432x288 with 1 Axes>"
      ]
     },
     "metadata": {
      "needs_background": "light"
     },
     "output_type": "display_data"
    }
   ],
   "source": [
    "data_only_Saint_Pet = data.query('locality_name == \"Санкт-Петербург\"')\n",
    "data_only_Saint_Pet = data_only_Saint_Pet.query('center_km>0')\n",
    "data_only_Saint_Pet = data_only_Saint_Pet.reset_index(drop=True)\n",
    "data_price_center_km = data_only_Saint_Pet.pivot_table(index='center_km', values='last_price')\n",
    "data_price_center_km.plot(xlabel='расстояние до центра', ylabel='цена', title='Зависимость цены от расстояния до центра')"
   ]
  },
  {
   "cell_type": "markdown",
   "metadata": {},
   "source": [
    "Видно, что чем ближе от квартиры до центра, тем она дороже."
   ]
  },
  {
   "cell_type": "markdown",
   "metadata": {},
   "source": [
    "### Общий вывод"
   ]
  },
  {
   "cell_type": "markdown",
   "metadata": {},
   "source": [
    "Мы изучили объекты, которые есть на рынке недвижимости. Выполнили предобработку данных и их анализ. Заметили интресные закономерности, построив гистограммы и другие графики. Выяснили какие параметры коррелируют с другими. В ходе исследования мы сталкивались со сложностями в работе с данными, поэтому применяли разные методы, которые позволяют нам сделать данные более удобными для работы, для их анализа. Сюда можно отнести заполнение пропусков в значениях, изменение типов данных, нахождение выбросов в данных. "
   ]
  }
 ],
 "metadata": {
  "ExecuteTimeLog": [
   {
    "duration": 599,
    "start_time": "2022-08-26T14:45:51.107Z"
   },
   {
    "duration": 111,
    "start_time": "2022-08-26T14:47:29.814Z"
   },
   {
    "duration": 151,
    "start_time": "2022-08-26T14:47:43.913Z"
   },
   {
    "duration": 134,
    "start_time": "2022-08-26T14:47:59.862Z"
   },
   {
    "duration": 101,
    "start_time": "2022-08-26T14:49:17.303Z"
   },
   {
    "duration": 127,
    "start_time": "2022-08-26T14:51:03.451Z"
   },
   {
    "duration": 4400,
    "start_time": "2022-08-26T14:59:29.966Z"
   },
   {
    "duration": 3831,
    "start_time": "2022-08-26T15:00:03.649Z"
   },
   {
    "duration": 1490,
    "start_time": "2022-08-26T15:00:32.517Z"
   },
   {
    "duration": 1771,
    "start_time": "2022-08-26T15:00:45.384Z"
   },
   {
    "duration": 2071,
    "start_time": "2022-08-26T15:01:00.938Z"
   },
   {
    "duration": 2734,
    "start_time": "2022-08-26T15:01:13.140Z"
   },
   {
    "duration": 94,
    "start_time": "2022-08-26T15:07:14.852Z"
   },
   {
    "duration": 295,
    "start_time": "2022-08-26T15:07:29.455Z"
   },
   {
    "duration": 70,
    "start_time": "2022-08-26T15:07:40.954Z"
   },
   {
    "duration": 450,
    "start_time": "2022-08-26T15:07:44.460Z"
   },
   {
    "duration": 2007,
    "start_time": "2022-08-26T15:07:56.096Z"
   },
   {
    "duration": 1587,
    "start_time": "2022-08-26T15:08:15.997Z"
   },
   {
    "duration": 15237,
    "start_time": "2022-08-26T15:10:34.226Z"
   },
   {
    "duration": 240,
    "start_time": "2022-08-26T15:10:56.194Z"
   },
   {
    "duration": 208,
    "start_time": "2022-08-26T15:11:06.273Z"
   },
   {
    "duration": 241,
    "start_time": "2022-08-26T15:11:21.894Z"
   },
   {
    "duration": 189,
    "start_time": "2022-08-26T15:11:29.159Z"
   },
   {
    "duration": 286,
    "start_time": "2022-08-26T15:11:47.396Z"
   },
   {
    "duration": 52,
    "start_time": "2022-08-27T06:52:55.415Z"
   },
   {
    "duration": 719,
    "start_time": "2022-08-27T06:53:14.316Z"
   },
   {
    "duration": 2291,
    "start_time": "2022-08-27T06:53:15.036Z"
   },
   {
    "duration": 228,
    "start_time": "2022-08-27T06:53:17.329Z"
   },
   {
    "duration": 6,
    "start_time": "2022-08-27T06:53:17.559Z"
   },
   {
    "duration": 5,
    "start_time": "2022-08-27T06:55:01.833Z"
   },
   {
    "duration": 110,
    "start_time": "2022-08-27T06:55:08.080Z"
   },
   {
    "duration": 1819,
    "start_time": "2022-08-27T06:55:08.192Z"
   },
   {
    "duration": 225,
    "start_time": "2022-08-27T06:55:10.012Z"
   },
   {
    "duration": 6,
    "start_time": "2022-08-27T06:55:10.239Z"
   },
   {
    "duration": 101,
    "start_time": "2022-08-27T06:55:25.716Z"
   },
   {
    "duration": 1869,
    "start_time": "2022-08-27T06:55:25.819Z"
   },
   {
    "duration": 266,
    "start_time": "2022-08-27T06:55:27.690Z"
   },
   {
    "duration": 5,
    "start_time": "2022-08-27T06:55:27.958Z"
   },
   {
    "duration": 99,
    "start_time": "2022-08-27T06:56:50.086Z"
   },
   {
    "duration": 1858,
    "start_time": "2022-08-27T06:56:50.188Z"
   },
   {
    "duration": 226,
    "start_time": "2022-08-27T06:56:52.048Z"
   },
   {
    "duration": 4,
    "start_time": "2022-08-27T06:56:52.276Z"
   },
   {
    "duration": 20,
    "start_time": "2022-08-27T06:57:11.720Z"
   },
   {
    "duration": 18,
    "start_time": "2022-08-27T06:57:23.686Z"
   },
   {
    "duration": 16,
    "start_time": "2022-08-27T06:58:14.180Z"
   },
   {
    "duration": 39,
    "start_time": "2022-08-27T07:00:06.136Z"
   },
   {
    "duration": 100,
    "start_time": "2022-08-27T07:05:35.483Z"
   },
   {
    "duration": 1879,
    "start_time": "2022-08-27T07:05:35.585Z"
   },
   {
    "duration": 217,
    "start_time": "2022-08-27T07:05:37.467Z"
   },
   {
    "duration": 26,
    "start_time": "2022-08-27T07:05:37.685Z"
   },
   {
    "duration": 688,
    "start_time": "2022-08-27T07:05:37.713Z"
   },
   {
    "duration": 9,
    "start_time": "2022-08-27T07:11:12.328Z"
   },
   {
    "duration": 102,
    "start_time": "2022-08-27T07:11:39.767Z"
   },
   {
    "duration": 1934,
    "start_time": "2022-08-27T07:11:39.872Z"
   },
   {
    "duration": 219,
    "start_time": "2022-08-27T07:11:41.808Z"
   },
   {
    "duration": 8,
    "start_time": "2022-08-27T07:11:42.028Z"
   },
   {
    "duration": 8,
    "start_time": "2022-08-27T07:12:45.514Z"
   },
   {
    "duration": 100,
    "start_time": "2022-08-27T07:13:02.780Z"
   },
   {
    "duration": 1743,
    "start_time": "2022-08-27T07:13:02.881Z"
   },
   {
    "duration": 217,
    "start_time": "2022-08-27T07:13:04.626Z"
   },
   {
    "duration": 7,
    "start_time": "2022-08-27T07:13:04.844Z"
   },
   {
    "duration": 7,
    "start_time": "2022-08-27T07:15:02.791Z"
   },
   {
    "duration": 7,
    "start_time": "2022-08-27T07:15:12.128Z"
   },
   {
    "duration": 7,
    "start_time": "2022-08-27T07:15:37.493Z"
   },
   {
    "duration": 7,
    "start_time": "2022-08-27T07:15:48.910Z"
   },
   {
    "duration": 101,
    "start_time": "2022-08-27T07:15:54.482Z"
   },
   {
    "duration": 1941,
    "start_time": "2022-08-27T07:15:54.584Z"
   },
   {
    "duration": 221,
    "start_time": "2022-08-27T07:15:56.526Z"
   },
   {
    "duration": 8,
    "start_time": "2022-08-27T07:15:56.749Z"
   },
   {
    "duration": 144,
    "start_time": "2022-08-27T07:27:34.290Z"
   },
   {
    "duration": 1916,
    "start_time": "2022-08-27T07:27:34.436Z"
   },
   {
    "duration": 237,
    "start_time": "2022-08-27T07:27:36.354Z"
   },
   {
    "duration": 17,
    "start_time": "2022-08-27T07:27:36.594Z"
   },
   {
    "duration": 257,
    "start_time": "2022-08-27T07:27:46.435Z"
   },
   {
    "duration": 12,
    "start_time": "2022-08-27T07:28:51.188Z"
   },
   {
    "duration": 33,
    "start_time": "2022-08-27T07:29:26.203Z"
   },
   {
    "duration": 28,
    "start_time": "2022-08-27T07:29:33.059Z"
   },
   {
    "duration": 15,
    "start_time": "2022-08-27T07:30:35.732Z"
   },
   {
    "duration": 29,
    "start_time": "2022-08-27T07:30:53.644Z"
   },
   {
    "duration": 10,
    "start_time": "2022-08-27T07:33:41.075Z"
   },
   {
    "duration": 15,
    "start_time": "2022-08-27T07:37:32.926Z"
   },
   {
    "duration": 9,
    "start_time": "2022-08-27T07:43:01.042Z"
   },
   {
    "duration": 123,
    "start_time": "2022-08-27T07:47:11.372Z"
   },
   {
    "duration": 2020,
    "start_time": "2022-08-27T07:47:11.497Z"
   },
   {
    "duration": 233,
    "start_time": "2022-08-27T07:47:13.526Z"
   },
   {
    "duration": 7,
    "start_time": "2022-08-27T07:47:13.788Z"
   },
   {
    "duration": 120,
    "start_time": "2022-08-27T07:47:13.901Z"
   },
   {
    "duration": 1915,
    "start_time": "2022-08-27T07:47:14.023Z"
   },
   {
    "duration": 559,
    "start_time": "2022-08-27T07:47:15.940Z"
   },
   {
    "duration": 41,
    "start_time": "2022-08-27T07:47:16.501Z"
   },
   {
    "duration": 144,
    "start_time": "2022-08-27T07:51:07.189Z"
   },
   {
    "duration": 2288,
    "start_time": "2022-08-27T07:51:07.337Z"
   },
   {
    "duration": 311,
    "start_time": "2022-08-27T07:51:09.627Z"
   },
   {
    "duration": 33,
    "start_time": "2022-08-27T07:51:09.940Z"
   },
   {
    "duration": 10,
    "start_time": "2022-08-27T07:51:09.975Z"
   },
   {
    "duration": 38,
    "start_time": "2022-08-27T07:51:09.987Z"
   },
   {
    "duration": 35,
    "start_time": "2022-08-27T07:51:25.772Z"
   },
   {
    "duration": 39,
    "start_time": "2022-08-27T07:52:54.232Z"
   },
   {
    "duration": 101,
    "start_time": "2022-08-27T07:58:05.144Z"
   },
   {
    "duration": 1817,
    "start_time": "2022-08-27T07:58:05.248Z"
   },
   {
    "duration": 238,
    "start_time": "2022-08-27T07:58:07.067Z"
   },
   {
    "duration": 37,
    "start_time": "2022-08-27T07:58:07.307Z"
   },
   {
    "duration": 8,
    "start_time": "2022-08-27T07:58:07.345Z"
   },
   {
    "duration": 34,
    "start_time": "2022-08-27T07:58:07.354Z"
   },
   {
    "duration": 48,
    "start_time": "2022-08-27T08:00:22.274Z"
   },
   {
    "duration": 9,
    "start_time": "2022-08-27T08:00:54.008Z"
   },
   {
    "duration": 9,
    "start_time": "2022-08-27T08:01:10.033Z"
   },
   {
    "duration": 34,
    "start_time": "2022-08-27T08:01:36.174Z"
   },
   {
    "duration": 15,
    "start_time": "2022-08-27T08:02:19.462Z"
   },
   {
    "duration": 42,
    "start_time": "2022-08-27T08:02:36.139Z"
   },
   {
    "duration": 46,
    "start_time": "2022-08-27T08:02:46.395Z"
   },
   {
    "duration": 109,
    "start_time": "2022-08-27T08:03:18.133Z"
   },
   {
    "duration": 1816,
    "start_time": "2022-08-27T08:03:18.243Z"
   },
   {
    "duration": 240,
    "start_time": "2022-08-27T08:03:20.060Z"
   },
   {
    "duration": 38,
    "start_time": "2022-08-27T08:03:20.301Z"
   },
   {
    "duration": 7,
    "start_time": "2022-08-27T08:03:20.341Z"
   },
   {
    "duration": 35,
    "start_time": "2022-08-27T08:03:20.350Z"
   },
   {
    "duration": 43,
    "start_time": "2022-08-27T08:03:54.180Z"
   },
   {
    "duration": 42,
    "start_time": "2022-08-27T08:04:48.832Z"
   },
   {
    "duration": 9,
    "start_time": "2022-08-27T08:05:22.186Z"
   },
   {
    "duration": 50,
    "start_time": "2022-08-27T08:05:32.804Z"
   },
   {
    "duration": 36,
    "start_time": "2022-08-27T08:06:50.172Z"
   },
   {
    "duration": 35,
    "start_time": "2022-08-27T08:07:00.484Z"
   },
   {
    "duration": 102,
    "start_time": "2022-08-27T08:07:20.274Z"
   },
   {
    "duration": 2149,
    "start_time": "2022-08-27T08:07:20.378Z"
   },
   {
    "duration": 301,
    "start_time": "2022-08-27T08:07:22.529Z"
   },
   {
    "duration": 26,
    "start_time": "2022-08-27T08:07:22.832Z"
   },
   {
    "duration": 7,
    "start_time": "2022-08-27T08:07:22.860Z"
   },
   {
    "duration": 58,
    "start_time": "2022-08-27T08:07:22.869Z"
   },
   {
    "duration": 35,
    "start_time": "2022-08-27T08:08:22.231Z"
   },
   {
    "duration": 7,
    "start_time": "2022-08-27T08:09:11.697Z"
   },
   {
    "duration": 22,
    "start_time": "2022-08-27T08:10:07.354Z"
   },
   {
    "duration": 38,
    "start_time": "2022-08-27T08:12:54.635Z"
   },
   {
    "duration": 10,
    "start_time": "2022-08-27T08:13:50.443Z"
   },
   {
    "duration": 10,
    "start_time": "2022-08-27T08:16:21.294Z"
   },
   {
    "duration": 40,
    "start_time": "2022-08-27T08:16:43.232Z"
   },
   {
    "duration": 64,
    "start_time": "2022-08-27T10:08:30.037Z"
   },
   {
    "duration": 649,
    "start_time": "2022-08-27T10:08:36.863Z"
   },
   {
    "duration": 26,
    "start_time": "2022-08-27T10:08:37.515Z"
   },
   {
    "duration": 2713,
    "start_time": "2022-08-27T10:08:37.543Z"
   },
   {
    "duration": 277,
    "start_time": "2022-08-27T10:08:40.258Z"
   },
   {
    "duration": 35,
    "start_time": "2022-08-27T10:08:40.537Z"
   },
   {
    "duration": 23,
    "start_time": "2022-08-27T10:08:40.574Z"
   },
   {
    "duration": 47,
    "start_time": "2022-08-27T10:08:40.598Z"
   },
   {
    "duration": 47,
    "start_time": "2022-08-27T10:17:18.888Z"
   },
   {
    "duration": 52,
    "start_time": "2022-08-27T10:17:58.623Z"
   },
   {
    "duration": 127,
    "start_time": "2022-08-27T10:18:18.028Z"
   },
   {
    "duration": 16,
    "start_time": "2022-08-27T10:18:18.158Z"
   },
   {
    "duration": 2305,
    "start_time": "2022-08-27T10:18:18.176Z"
   },
   {
    "duration": 291,
    "start_time": "2022-08-27T10:18:20.491Z"
   },
   {
    "duration": 33,
    "start_time": "2022-08-27T10:18:20.784Z"
   },
   {
    "duration": 10,
    "start_time": "2022-08-27T10:18:20.819Z"
   },
   {
    "duration": 72,
    "start_time": "2022-08-27T10:18:20.831Z"
   },
   {
    "duration": 48,
    "start_time": "2022-08-27T10:19:39.756Z"
   },
   {
    "duration": 15,
    "start_time": "2022-08-27T10:20:15.276Z"
   },
   {
    "duration": 8,
    "start_time": "2022-08-27T10:27:27.063Z"
   },
   {
    "duration": 8,
    "start_time": "2022-08-27T10:27:31.755Z"
   },
   {
    "duration": 118,
    "start_time": "2022-08-27T10:27:37.343Z"
   },
   {
    "duration": 29,
    "start_time": "2022-08-27T10:27:37.464Z"
   },
   {
    "duration": 2346,
    "start_time": "2022-08-27T10:27:37.494Z"
   },
   {
    "duration": 305,
    "start_time": "2022-08-27T10:27:39.843Z"
   },
   {
    "duration": 42,
    "start_time": "2022-08-27T10:27:40.151Z"
   },
   {
    "duration": 14,
    "start_time": "2022-08-27T10:27:40.196Z"
   },
   {
    "duration": 19,
    "start_time": "2022-08-27T10:27:40.212Z"
   },
   {
    "duration": 44,
    "start_time": "2022-08-27T10:27:49.991Z"
   },
   {
    "duration": 12,
    "start_time": "2022-08-27T10:37:21.391Z"
   },
   {
    "duration": 12,
    "start_time": "2022-08-27T10:37:34.260Z"
   },
   {
    "duration": 11,
    "start_time": "2022-08-27T10:37:43.814Z"
   },
   {
    "duration": 12,
    "start_time": "2022-08-27T10:38:20.453Z"
   },
   {
    "duration": 14,
    "start_time": "2022-08-27T10:38:42.692Z"
   },
   {
    "duration": 44,
    "start_time": "2022-08-27T10:38:54.579Z"
   },
   {
    "duration": 45,
    "start_time": "2022-08-27T10:39:59.775Z"
   },
   {
    "duration": 121,
    "start_time": "2022-08-27T10:43:51.181Z"
   },
   {
    "duration": 16,
    "start_time": "2022-08-27T10:43:51.304Z"
   },
   {
    "duration": 2386,
    "start_time": "2022-08-27T10:43:51.322Z"
   },
   {
    "duration": 287,
    "start_time": "2022-08-27T10:43:53.711Z"
   },
   {
    "duration": 35,
    "start_time": "2022-08-27T10:43:54.000Z"
   },
   {
    "duration": 11,
    "start_time": "2022-08-27T10:43:54.037Z"
   },
   {
    "duration": 75,
    "start_time": "2022-08-27T10:43:54.050Z"
   },
   {
    "duration": 68,
    "start_time": "2022-08-27T10:45:35.449Z"
   },
   {
    "duration": 67,
    "start_time": "2022-08-27T10:45:37.047Z"
   },
   {
    "duration": 55,
    "start_time": "2022-08-27T10:51:10.179Z"
   },
   {
    "duration": 49,
    "start_time": "2022-08-27T11:08:33.923Z"
   },
   {
    "duration": 25,
    "start_time": "2022-08-27T11:09:03.696Z"
   },
   {
    "duration": 78,
    "start_time": "2022-08-27T11:13:30.336Z"
   },
   {
    "duration": 72,
    "start_time": "2022-08-27T11:14:22.056Z"
   },
   {
    "duration": 120,
    "start_time": "2022-08-27T11:14:56.575Z"
   },
   {
    "duration": 15,
    "start_time": "2022-08-27T11:14:56.697Z"
   },
   {
    "duration": 2441,
    "start_time": "2022-08-27T11:14:56.714Z"
   },
   {
    "duration": 328,
    "start_time": "2022-08-27T11:14:59.158Z"
   },
   {
    "duration": 35,
    "start_time": "2022-08-27T11:14:59.488Z"
   },
   {
    "duration": 10,
    "start_time": "2022-08-27T11:14:59.524Z"
   },
   {
    "duration": 73,
    "start_time": "2022-08-27T11:14:59.536Z"
   },
   {
    "duration": 25,
    "start_time": "2022-08-27T11:15:21.202Z"
   },
   {
    "duration": 46,
    "start_time": "2022-08-27T11:16:23.815Z"
   },
   {
    "duration": 116,
    "start_time": "2022-08-27T11:16:32.308Z"
   },
   {
    "duration": 17,
    "start_time": "2022-08-27T11:16:32.426Z"
   },
   {
    "duration": 2448,
    "start_time": "2022-08-27T11:16:32.445Z"
   },
   {
    "duration": 285,
    "start_time": "2022-08-27T11:16:34.895Z"
   },
   {
    "duration": 40,
    "start_time": "2022-08-27T11:16:35.182Z"
   },
   {
    "duration": 9,
    "start_time": "2022-08-27T11:16:35.224Z"
   },
   {
    "duration": 84,
    "start_time": "2022-08-27T11:16:35.235Z"
   },
   {
    "duration": 47,
    "start_time": "2022-08-27T11:16:53.351Z"
   },
   {
    "duration": 128,
    "start_time": "2022-08-27T11:17:07.922Z"
   },
   {
    "duration": 16,
    "start_time": "2022-08-27T11:17:08.052Z"
   },
   {
    "duration": 2245,
    "start_time": "2022-08-27T11:17:08.070Z"
   },
   {
    "duration": 533,
    "start_time": "2022-08-27T11:17:10.318Z"
   },
   {
    "duration": 46,
    "start_time": "2022-08-27T11:17:10.854Z"
   },
   {
    "duration": 10,
    "start_time": "2022-08-27T11:17:10.902Z"
   },
   {
    "duration": 52,
    "start_time": "2022-08-27T11:17:10.914Z"
   },
   {
    "duration": 46,
    "start_time": "2022-08-27T12:36:23.212Z"
   },
   {
    "duration": 119,
    "start_time": "2022-08-27T12:36:28.749Z"
   },
   {
    "duration": 22,
    "start_time": "2022-08-27T12:36:28.870Z"
   },
   {
    "duration": 2153,
    "start_time": "2022-08-27T12:36:28.893Z"
   },
   {
    "duration": 284,
    "start_time": "2022-08-27T12:36:31.049Z"
   },
   {
    "duration": 33,
    "start_time": "2022-08-27T12:36:31.335Z"
   },
   {
    "duration": 28,
    "start_time": "2022-08-27T12:36:31.370Z"
   },
   {
    "duration": 57,
    "start_time": "2022-08-27T12:36:31.399Z"
   },
   {
    "duration": 54,
    "start_time": "2022-08-27T12:45:57.068Z"
   },
   {
    "duration": 17,
    "start_time": "2022-08-27T12:46:10.450Z"
   },
   {
    "duration": 122,
    "start_time": "2022-08-27T12:46:17.627Z"
   },
   {
    "duration": 15,
    "start_time": "2022-08-27T12:46:17.751Z"
   },
   {
    "duration": 2565,
    "start_time": "2022-08-27T12:46:17.768Z"
   },
   {
    "duration": 307,
    "start_time": "2022-08-27T12:46:20.336Z"
   },
   {
    "duration": 34,
    "start_time": "2022-08-27T12:46:20.645Z"
   },
   {
    "duration": 16,
    "start_time": "2022-08-27T12:46:20.692Z"
   },
   {
    "duration": 45,
    "start_time": "2022-08-27T12:46:20.710Z"
   },
   {
    "duration": 1635,
    "start_time": "2022-08-27T12:51:24.006Z"
   },
   {
    "duration": 1178,
    "start_time": "2022-08-27T12:51:41.501Z"
   },
   {
    "duration": 15,
    "start_time": "2022-08-27T12:51:58.183Z"
   },
   {
    "duration": 119,
    "start_time": "2022-08-27T12:52:07.227Z"
   },
   {
    "duration": 18,
    "start_time": "2022-08-27T12:52:07.348Z"
   },
   {
    "duration": 2197,
    "start_time": "2022-08-27T12:52:07.368Z"
   },
   {
    "duration": 293,
    "start_time": "2022-08-27T12:52:09.567Z"
   },
   {
    "duration": 43,
    "start_time": "2022-08-27T12:52:09.862Z"
   },
   {
    "duration": 10,
    "start_time": "2022-08-27T12:52:09.906Z"
   },
   {
    "duration": 17,
    "start_time": "2022-08-27T12:52:09.918Z"
   },
   {
    "duration": 47,
    "start_time": "2022-08-27T12:54:48.032Z"
   },
   {
    "duration": 141,
    "start_time": "2022-08-27T12:55:09.320Z"
   },
   {
    "duration": 16,
    "start_time": "2022-08-27T12:55:09.463Z"
   },
   {
    "duration": 2267,
    "start_time": "2022-08-27T12:55:09.480Z"
   },
   {
    "duration": 682,
    "start_time": "2022-08-27T12:55:11.749Z"
   },
   {
    "duration": 34,
    "start_time": "2022-08-27T12:55:12.433Z"
   },
   {
    "duration": 24,
    "start_time": "2022-08-27T12:55:12.469Z"
   },
   {
    "duration": 49,
    "start_time": "2022-08-27T12:55:12.495Z"
   },
   {
    "duration": 115,
    "start_time": "2022-08-27T12:56:51.493Z"
   },
   {
    "duration": 16,
    "start_time": "2022-08-27T12:56:51.609Z"
   },
   {
    "duration": 2239,
    "start_time": "2022-08-27T12:56:51.627Z"
   },
   {
    "duration": 285,
    "start_time": "2022-08-27T12:56:53.869Z"
   },
   {
    "duration": 43,
    "start_time": "2022-08-27T12:56:54.156Z"
   },
   {
    "duration": 8,
    "start_time": "2022-08-27T12:56:54.201Z"
   },
   {
    "duration": 48,
    "start_time": "2022-08-27T12:56:54.211Z"
   },
   {
    "duration": 10,
    "start_time": "2022-08-27T12:57:54.913Z"
   },
   {
    "duration": 15,
    "start_time": "2022-08-27T12:59:08.336Z"
   },
   {
    "duration": 6,
    "start_time": "2022-08-27T13:06:08.136Z"
   },
   {
    "duration": 9,
    "start_time": "2022-08-27T13:06:26.091Z"
   },
   {
    "duration": 33,
    "start_time": "2022-08-27T13:07:00.834Z"
   },
   {
    "duration": 18,
    "start_time": "2022-08-27T13:08:01.523Z"
   },
   {
    "duration": 17,
    "start_time": "2022-08-27T13:09:13.418Z"
   },
   {
    "duration": 111,
    "start_time": "2022-08-27T13:09:25.182Z"
   },
   {
    "duration": 16,
    "start_time": "2022-08-27T13:09:25.295Z"
   },
   {
    "duration": 2130,
    "start_time": "2022-08-27T13:09:25.312Z"
   },
   {
    "duration": 273,
    "start_time": "2022-08-27T13:09:27.444Z"
   },
   {
    "duration": 30,
    "start_time": "2022-08-27T13:09:27.718Z"
   },
   {
    "duration": 8,
    "start_time": "2022-08-27T13:09:27.750Z"
   },
   {
    "duration": 74,
    "start_time": "2022-08-27T13:09:27.760Z"
   },
   {
    "duration": 8,
    "start_time": "2022-08-27T13:09:27.835Z"
   },
   {
    "duration": 22,
    "start_time": "2022-08-27T13:09:27.845Z"
   },
   {
    "duration": 28,
    "start_time": "2022-08-27T13:10:15.456Z"
   },
   {
    "duration": 41,
    "start_time": "2022-08-27T13:10:30.482Z"
   },
   {
    "duration": 14,
    "start_time": "2022-08-27T13:11:54.693Z"
   },
   {
    "duration": 43,
    "start_time": "2022-08-27T13:16:04.260Z"
   },
   {
    "duration": 41,
    "start_time": "2022-08-27T13:17:06.944Z"
   },
   {
    "duration": 114,
    "start_time": "2022-08-27T13:17:14.332Z"
   },
   {
    "duration": 14,
    "start_time": "2022-08-27T13:17:14.448Z"
   },
   {
    "duration": 2531,
    "start_time": "2022-08-27T13:17:14.464Z"
   },
   {
    "duration": 274,
    "start_time": "2022-08-27T13:17:16.997Z"
   },
   {
    "duration": 41,
    "start_time": "2022-08-27T13:17:17.273Z"
   },
   {
    "duration": 8,
    "start_time": "2022-08-27T13:17:17.315Z"
   },
   {
    "duration": 68,
    "start_time": "2022-08-27T13:17:17.325Z"
   },
   {
    "duration": 8,
    "start_time": "2022-08-27T13:17:17.395Z"
   },
   {
    "duration": 15,
    "start_time": "2022-08-27T13:17:17.405Z"
   },
   {
    "duration": 40,
    "start_time": "2022-08-27T13:17:17.423Z"
   },
   {
    "duration": 11,
    "start_time": "2022-08-27T13:17:29.443Z"
   },
   {
    "duration": 120,
    "start_time": "2022-08-27T13:17:40.115Z"
   },
   {
    "duration": 17,
    "start_time": "2022-08-27T13:17:40.238Z"
   },
   {
    "duration": 2229,
    "start_time": "2022-08-27T13:17:40.257Z"
   },
   {
    "duration": 292,
    "start_time": "2022-08-27T13:17:42.488Z"
   },
   {
    "duration": 36,
    "start_time": "2022-08-27T13:17:42.782Z"
   },
   {
    "duration": 9,
    "start_time": "2022-08-27T13:17:42.820Z"
   },
   {
    "duration": 68,
    "start_time": "2022-08-27T13:17:42.830Z"
   },
   {
    "duration": 9,
    "start_time": "2022-08-27T13:17:42.899Z"
   },
   {
    "duration": 14,
    "start_time": "2022-08-27T13:17:42.910Z"
   },
   {
    "duration": 67,
    "start_time": "2022-08-27T13:17:42.926Z"
   },
   {
    "duration": 122,
    "start_time": "2022-08-27T13:19:26.162Z"
   },
   {
    "duration": 19,
    "start_time": "2022-08-27T13:19:26.286Z"
   },
   {
    "duration": 2240,
    "start_time": "2022-08-27T13:19:26.307Z"
   },
   {
    "duration": 280,
    "start_time": "2022-08-27T13:19:28.550Z"
   },
   {
    "duration": 33,
    "start_time": "2022-08-27T13:19:28.831Z"
   },
   {
    "duration": 26,
    "start_time": "2022-08-27T13:19:28.866Z"
   },
   {
    "duration": 49,
    "start_time": "2022-08-27T13:19:28.895Z"
   },
   {
    "duration": 8,
    "start_time": "2022-08-27T13:19:28.946Z"
   },
   {
    "duration": 37,
    "start_time": "2022-08-27T13:19:28.955Z"
   },
   {
    "duration": 73,
    "start_time": "2022-08-27T13:19:28.995Z"
   },
   {
    "duration": 14,
    "start_time": "2022-08-27T13:19:41.105Z"
   },
   {
    "duration": 14,
    "start_time": "2022-08-27T13:19:58.287Z"
   },
   {
    "duration": 14,
    "start_time": "2022-08-27T13:20:12.158Z"
   },
   {
    "duration": 15,
    "start_time": "2022-08-27T13:20:14.409Z"
   },
   {
    "duration": 39,
    "start_time": "2022-08-27T13:20:17.186Z"
   },
   {
    "duration": 17,
    "start_time": "2022-08-27T13:20:34.838Z"
   },
   {
    "duration": 12,
    "start_time": "2022-08-27T13:21:12.420Z"
   },
   {
    "duration": 19,
    "start_time": "2022-08-27T13:23:50.286Z"
   },
   {
    "duration": 14,
    "start_time": "2022-08-27T13:24:48.884Z"
   },
   {
    "duration": 17,
    "start_time": "2022-08-27T13:29:04.435Z"
   },
   {
    "duration": 37,
    "start_time": "2022-08-27T13:29:20.552Z"
   },
   {
    "duration": 72,
    "start_time": "2022-08-27T13:29:45.135Z"
   },
   {
    "duration": 7,
    "start_time": "2022-08-27T13:30:20.227Z"
   },
   {
    "duration": 31,
    "start_time": "2022-08-27T13:34:00.550Z"
   },
   {
    "duration": 34,
    "start_time": "2022-08-27T13:37:06.593Z"
   },
   {
    "duration": 144,
    "start_time": "2022-08-27T13:37:11.724Z"
   },
   {
    "duration": 22,
    "start_time": "2022-08-27T13:37:11.871Z"
   },
   {
    "duration": 2196,
    "start_time": "2022-08-27T13:37:11.899Z"
   },
   {
    "duration": 284,
    "start_time": "2022-08-27T13:37:14.097Z"
   },
   {
    "duration": 40,
    "start_time": "2022-08-27T13:37:14.382Z"
   },
   {
    "duration": 12,
    "start_time": "2022-08-27T13:37:14.423Z"
   },
   {
    "duration": 518,
    "start_time": "2022-08-27T13:37:14.436Z"
   },
   {
    "duration": 10,
    "start_time": "2022-08-27T13:37:14.956Z"
   },
   {
    "duration": 34,
    "start_time": "2022-08-27T13:37:14.967Z"
   },
   {
    "duration": 32,
    "start_time": "2022-08-27T13:37:15.004Z"
   },
   {
    "duration": 22,
    "start_time": "2022-08-27T13:37:46.406Z"
   },
   {
    "duration": 158,
    "start_time": "2022-08-27T13:38:36.752Z"
   },
   {
    "duration": 19,
    "start_time": "2022-08-27T13:38:36.912Z"
   },
   {
    "duration": 2340,
    "start_time": "2022-08-27T13:38:36.933Z"
   },
   {
    "duration": 323,
    "start_time": "2022-08-27T13:38:39.275Z"
   },
   {
    "duration": 36,
    "start_time": "2022-08-27T13:38:39.600Z"
   },
   {
    "duration": 11,
    "start_time": "2022-08-27T13:38:39.638Z"
   },
   {
    "duration": 78,
    "start_time": "2022-08-27T13:38:39.651Z"
   },
   {
    "duration": 8,
    "start_time": "2022-08-27T13:38:39.731Z"
   },
   {
    "duration": 13,
    "start_time": "2022-08-27T13:38:39.741Z"
   },
   {
    "duration": 50,
    "start_time": "2022-08-27T13:38:39.756Z"
   },
   {
    "duration": 49,
    "start_time": "2022-08-29T05:12:12.937Z"
   },
   {
    "duration": 770,
    "start_time": "2022-08-29T05:12:18.293Z"
   },
   {
    "duration": 15,
    "start_time": "2022-08-29T05:12:19.065Z"
   },
   {
    "duration": 2468,
    "start_time": "2022-08-29T05:12:19.082Z"
   },
   {
    "duration": 258,
    "start_time": "2022-08-29T05:12:21.553Z"
   },
   {
    "duration": 30,
    "start_time": "2022-08-29T05:12:21.812Z"
   },
   {
    "duration": 8,
    "start_time": "2022-08-29T05:12:21.844Z"
   },
   {
    "duration": 69,
    "start_time": "2022-08-29T05:12:21.854Z"
   },
   {
    "duration": 8,
    "start_time": "2022-08-29T05:12:21.924Z"
   },
   {
    "duration": 17,
    "start_time": "2022-08-29T05:12:21.934Z"
   },
   {
    "duration": 27,
    "start_time": "2022-08-29T05:12:21.953Z"
   },
   {
    "duration": 43,
    "start_time": "2022-08-29T05:12:21.981Z"
   },
   {
    "duration": 21,
    "start_time": "2022-08-29T05:12:29.703Z"
   },
   {
    "duration": 6,
    "start_time": "2022-08-29T05:13:22.457Z"
   },
   {
    "duration": 36,
    "start_time": "2022-08-29T05:15:19.005Z"
   },
   {
    "duration": 7,
    "start_time": "2022-08-29T05:15:33.881Z"
   },
   {
    "duration": 371,
    "start_time": "2022-08-29T05:16:31.617Z"
   },
   {
    "duration": 322,
    "start_time": "2022-08-29T05:18:12.238Z"
   },
   {
    "duration": 327,
    "start_time": "2022-08-29T05:18:19.428Z"
   },
   {
    "duration": 310,
    "start_time": "2022-08-29T05:19:22.339Z"
   },
   {
    "duration": 318,
    "start_time": "2022-08-29T05:21:40.700Z"
   },
   {
    "duration": 114,
    "start_time": "2022-08-29T05:21:51.894Z"
   },
   {
    "duration": 13,
    "start_time": "2022-08-29T05:21:52.010Z"
   },
   {
    "duration": 2237,
    "start_time": "2022-08-29T05:21:52.024Z"
   },
   {
    "duration": 299,
    "start_time": "2022-08-29T05:21:54.264Z"
   },
   {
    "duration": 44,
    "start_time": "2022-08-29T05:21:54.566Z"
   },
   {
    "duration": 14,
    "start_time": "2022-08-29T05:21:54.612Z"
   },
   {
    "duration": 90,
    "start_time": "2022-08-29T05:21:54.628Z"
   },
   {
    "duration": 11,
    "start_time": "2022-08-29T05:21:54.720Z"
   },
   {
    "duration": 22,
    "start_time": "2022-08-29T05:21:54.732Z"
   },
   {
    "duration": 26,
    "start_time": "2022-08-29T05:21:54.757Z"
   },
   {
    "duration": 393,
    "start_time": "2022-08-29T05:21:54.784Z"
   },
   {
    "duration": 19,
    "start_time": "2022-08-29T05:22:40.395Z"
   },
   {
    "duration": 8,
    "start_time": "2022-08-29T05:23:31.295Z"
   },
   {
    "duration": 9,
    "start_time": "2022-08-29T05:24:04.581Z"
   },
   {
    "duration": 8,
    "start_time": "2022-08-29T05:24:10.394Z"
   },
   {
    "duration": 42,
    "start_time": "2022-08-29T05:24:31.267Z"
   },
   {
    "duration": 121,
    "start_time": "2022-08-29T05:25:22.614Z"
   },
   {
    "duration": 16,
    "start_time": "2022-08-29T05:25:22.737Z"
   },
   {
    "duration": 2129,
    "start_time": "2022-08-29T05:25:22.755Z"
   },
   {
    "duration": 255,
    "start_time": "2022-08-29T05:25:24.886Z"
   },
   {
    "duration": 31,
    "start_time": "2022-08-29T05:25:25.143Z"
   },
   {
    "duration": 9,
    "start_time": "2022-08-29T05:25:25.176Z"
   },
   {
    "duration": 65,
    "start_time": "2022-08-29T05:25:25.187Z"
   },
   {
    "duration": 8,
    "start_time": "2022-08-29T05:25:25.254Z"
   },
   {
    "duration": 15,
    "start_time": "2022-08-29T05:25:25.264Z"
   },
   {
    "duration": 46,
    "start_time": "2022-08-29T05:25:25.281Z"
   },
   {
    "duration": 8,
    "start_time": "2022-08-29T05:25:25.329Z"
   },
   {
    "duration": 112,
    "start_time": "2022-08-29T05:25:44.776Z"
   },
   {
    "duration": 24,
    "start_time": "2022-08-29T05:25:44.890Z"
   },
   {
    "duration": 2198,
    "start_time": "2022-08-29T05:25:44.916Z"
   },
   {
    "duration": 341,
    "start_time": "2022-08-29T05:25:47.116Z"
   },
   {
    "duration": 32,
    "start_time": "2022-08-29T05:25:47.459Z"
   },
   {
    "duration": 23,
    "start_time": "2022-08-29T05:25:47.493Z"
   },
   {
    "duration": 49,
    "start_time": "2022-08-29T05:25:47.518Z"
   },
   {
    "duration": 8,
    "start_time": "2022-08-29T05:25:47.569Z"
   },
   {
    "duration": 39,
    "start_time": "2022-08-29T05:25:47.579Z"
   },
   {
    "duration": 26,
    "start_time": "2022-08-29T05:25:47.622Z"
   },
   {
    "duration": 62,
    "start_time": "2022-08-29T05:25:47.649Z"
   },
   {
    "duration": 158,
    "start_time": "2022-08-29T05:26:08.652Z"
   },
   {
    "duration": 15,
    "start_time": "2022-08-29T05:26:08.812Z"
   },
   {
    "duration": 2321,
    "start_time": "2022-08-29T05:26:08.829Z"
   },
   {
    "duration": 279,
    "start_time": "2022-08-29T05:26:11.152Z"
   },
   {
    "duration": 33,
    "start_time": "2022-08-29T05:26:11.433Z"
   },
   {
    "duration": 14,
    "start_time": "2022-08-29T05:26:11.468Z"
   },
   {
    "duration": 93,
    "start_time": "2022-08-29T05:26:11.485Z"
   },
   {
    "duration": 32,
    "start_time": "2022-08-29T05:26:11.581Z"
   },
   {
    "duration": 21,
    "start_time": "2022-08-29T05:26:11.616Z"
   },
   {
    "duration": 28,
    "start_time": "2022-08-29T05:26:11.640Z"
   },
   {
    "duration": 73,
    "start_time": "2022-08-29T05:26:11.670Z"
   },
   {
    "duration": 122,
    "start_time": "2022-08-29T05:26:55.576Z"
   },
   {
    "duration": 18,
    "start_time": "2022-08-29T05:26:55.708Z"
   },
   {
    "duration": 2387,
    "start_time": "2022-08-29T05:26:55.728Z"
   },
   {
    "duration": 277,
    "start_time": "2022-08-29T05:26:58.117Z"
   },
   {
    "duration": 37,
    "start_time": "2022-08-29T05:26:58.395Z"
   },
   {
    "duration": 8,
    "start_time": "2022-08-29T05:26:58.434Z"
   },
   {
    "duration": 74,
    "start_time": "2022-08-29T05:26:58.444Z"
   },
   {
    "duration": 7,
    "start_time": "2022-08-29T05:26:58.520Z"
   },
   {
    "duration": 13,
    "start_time": "2022-08-29T05:26:58.529Z"
   },
   {
    "duration": 25,
    "start_time": "2022-08-29T05:26:58.544Z"
   },
   {
    "duration": 69,
    "start_time": "2022-08-29T05:26:58.571Z"
   },
   {
    "duration": 19,
    "start_time": "2022-08-29T05:27:27.068Z"
   },
   {
    "duration": 116,
    "start_time": "2022-08-29T05:27:30.930Z"
   },
   {
    "duration": 16,
    "start_time": "2022-08-29T05:27:31.049Z"
   },
   {
    "duration": 2268,
    "start_time": "2022-08-29T05:27:31.067Z"
   },
   {
    "duration": 272,
    "start_time": "2022-08-29T05:27:33.338Z"
   },
   {
    "duration": 32,
    "start_time": "2022-08-29T05:27:33.611Z"
   },
   {
    "duration": 8,
    "start_time": "2022-08-29T05:27:33.645Z"
   },
   {
    "duration": 74,
    "start_time": "2022-08-29T05:27:33.655Z"
   },
   {
    "duration": 8,
    "start_time": "2022-08-29T05:27:33.731Z"
   },
   {
    "duration": 13,
    "start_time": "2022-08-29T05:27:33.740Z"
   },
   {
    "duration": 26,
    "start_time": "2022-08-29T05:27:33.756Z"
   },
   {
    "duration": 19,
    "start_time": "2022-08-29T05:27:33.809Z"
   },
   {
    "duration": 833,
    "start_time": "2022-08-29T05:28:16.812Z"
   },
   {
    "duration": 662,
    "start_time": "2022-08-29T05:28:24.670Z"
   },
   {
    "duration": 692,
    "start_time": "2022-08-29T05:29:24.139Z"
   },
   {
    "duration": 12,
    "start_time": "2022-08-29T05:33:34.471Z"
   },
   {
    "duration": 12,
    "start_time": "2022-08-29T05:34:13.352Z"
   },
   {
    "duration": 112,
    "start_time": "2022-08-29T05:34:29.804Z"
   },
   {
    "duration": 15,
    "start_time": "2022-08-29T05:34:29.919Z"
   },
   {
    "duration": 2146,
    "start_time": "2022-08-29T05:34:29.936Z"
   },
   {
    "duration": 268,
    "start_time": "2022-08-29T05:34:32.084Z"
   },
   {
    "duration": 30,
    "start_time": "2022-08-29T05:34:32.353Z"
   },
   {
    "duration": 25,
    "start_time": "2022-08-29T05:34:32.385Z"
   },
   {
    "duration": 47,
    "start_time": "2022-08-29T05:34:32.411Z"
   },
   {
    "duration": 7,
    "start_time": "2022-08-29T05:34:32.460Z"
   },
   {
    "duration": 14,
    "start_time": "2022-08-29T05:34:32.468Z"
   },
   {
    "duration": 27,
    "start_time": "2022-08-29T05:34:32.508Z"
   },
   {
    "duration": 11,
    "start_time": "2022-08-29T05:34:32.536Z"
   },
   {
    "duration": 7,
    "start_time": "2022-08-29T05:34:51.646Z"
   },
   {
    "duration": 12,
    "start_time": "2022-08-29T05:35:06.844Z"
   },
   {
    "duration": 6,
    "start_time": "2022-08-29T05:35:43.889Z"
   },
   {
    "duration": 604,
    "start_time": "2022-08-29T05:42:51.540Z"
   },
   {
    "duration": 117,
    "start_time": "2022-08-29T05:43:02.989Z"
   },
   {
    "duration": 14,
    "start_time": "2022-08-29T05:43:03.109Z"
   },
   {
    "duration": 2268,
    "start_time": "2022-08-29T05:43:03.125Z"
   },
   {
    "duration": 257,
    "start_time": "2022-08-29T05:43:05.395Z"
   },
   {
    "duration": 32,
    "start_time": "2022-08-29T05:43:05.653Z"
   },
   {
    "duration": 27,
    "start_time": "2022-08-29T05:43:05.687Z"
   },
   {
    "duration": 58,
    "start_time": "2022-08-29T05:43:05.715Z"
   },
   {
    "duration": 8,
    "start_time": "2022-08-29T05:43:05.774Z"
   },
   {
    "duration": 30,
    "start_time": "2022-08-29T05:43:05.784Z"
   },
   {
    "duration": 24,
    "start_time": "2022-08-29T05:43:05.817Z"
   },
   {
    "duration": 672,
    "start_time": "2022-08-29T05:43:05.842Z"
   },
   {
    "duration": 638,
    "start_time": "2022-08-29T05:43:19.996Z"
   },
   {
    "duration": 10,
    "start_time": "2022-08-29T05:44:31.235Z"
   },
   {
    "duration": 9,
    "start_time": "2022-08-29T05:44:43.712Z"
   },
   {
    "duration": 24,
    "start_time": "2022-08-29T05:44:58.252Z"
   },
   {
    "duration": 16,
    "start_time": "2022-08-29T05:46:24.619Z"
   },
   {
    "duration": 18,
    "start_time": "2022-08-29T05:49:29.187Z"
   },
   {
    "duration": 115,
    "start_time": "2022-08-29T05:49:36.921Z"
   },
   {
    "duration": 15,
    "start_time": "2022-08-29T05:49:37.038Z"
   },
   {
    "duration": 2111,
    "start_time": "2022-08-29T05:49:37.055Z"
   },
   {
    "duration": 274,
    "start_time": "2022-08-29T05:49:39.168Z"
   },
   {
    "duration": 29,
    "start_time": "2022-08-29T05:49:39.443Z"
   },
   {
    "duration": 8,
    "start_time": "2022-08-29T05:49:39.474Z"
   },
   {
    "duration": 69,
    "start_time": "2022-08-29T05:49:39.483Z"
   },
   {
    "duration": 8,
    "start_time": "2022-08-29T05:49:39.553Z"
   },
   {
    "duration": 18,
    "start_time": "2022-08-29T05:49:39.562Z"
   },
   {
    "duration": 41,
    "start_time": "2022-08-29T05:49:39.582Z"
   },
   {
    "duration": 662,
    "start_time": "2022-08-29T05:49:39.625Z"
   },
   {
    "duration": 25,
    "start_time": "2022-08-29T05:49:40.309Z"
   },
   {
    "duration": 33,
    "start_time": "2022-08-29T05:49:54.723Z"
   },
   {
    "duration": 72,
    "start_time": "2022-08-29T05:57:56.898Z"
   },
   {
    "duration": 77,
    "start_time": "2022-08-29T06:00:17.211Z"
   },
   {
    "duration": 20,
    "start_time": "2022-08-29T06:00:30.394Z"
   },
   {
    "duration": 18,
    "start_time": "2022-08-29T06:00:49.025Z"
   },
   {
    "duration": 19,
    "start_time": "2022-08-29T06:00:55.736Z"
   },
   {
    "duration": 113,
    "start_time": "2022-08-29T06:01:10.974Z"
   },
   {
    "duration": 27,
    "start_time": "2022-08-29T06:01:11.088Z"
   },
   {
    "duration": 2343,
    "start_time": "2022-08-29T06:01:11.116Z"
   },
   {
    "duration": 260,
    "start_time": "2022-08-29T06:01:13.461Z"
   },
   {
    "duration": 30,
    "start_time": "2022-08-29T06:01:13.723Z"
   },
   {
    "duration": 13,
    "start_time": "2022-08-29T06:01:13.755Z"
   },
   {
    "duration": 65,
    "start_time": "2022-08-29T06:01:13.770Z"
   },
   {
    "duration": 8,
    "start_time": "2022-08-29T06:01:13.836Z"
   },
   {
    "duration": 13,
    "start_time": "2022-08-29T06:01:13.845Z"
   },
   {
    "duration": 50,
    "start_time": "2022-08-29T06:01:13.861Z"
   },
   {
    "duration": 627,
    "start_time": "2022-08-29T06:01:13.913Z"
   },
   {
    "duration": 19,
    "start_time": "2022-08-29T06:01:14.542Z"
   },
   {
    "duration": 19,
    "start_time": "2022-08-29T06:01:44.840Z"
   },
   {
    "duration": 18,
    "start_time": "2022-08-29T06:02:02.246Z"
   },
   {
    "duration": 110,
    "start_time": "2022-08-29T06:02:06.567Z"
   },
   {
    "duration": 14,
    "start_time": "2022-08-29T06:02:06.678Z"
   },
   {
    "duration": 2083,
    "start_time": "2022-08-29T06:02:06.710Z"
   },
   {
    "duration": 269,
    "start_time": "2022-08-29T06:02:08.796Z"
   },
   {
    "duration": 29,
    "start_time": "2022-08-29T06:02:09.067Z"
   },
   {
    "duration": 8,
    "start_time": "2022-08-29T06:02:09.110Z"
   },
   {
    "duration": 45,
    "start_time": "2022-08-29T06:02:09.120Z"
   },
   {
    "duration": 8,
    "start_time": "2022-08-29T06:02:09.167Z"
   },
   {
    "duration": 40,
    "start_time": "2022-08-29T06:02:09.177Z"
   },
   {
    "duration": 23,
    "start_time": "2022-08-29T06:02:09.220Z"
   },
   {
    "duration": 645,
    "start_time": "2022-08-29T06:02:09.245Z"
   },
   {
    "duration": 22,
    "start_time": "2022-08-29T06:02:09.909Z"
   },
   {
    "duration": 59,
    "start_time": "2022-08-29T13:13:09.226Z"
   },
   {
    "duration": 716,
    "start_time": "2022-08-29T13:13:30.084Z"
   },
   {
    "duration": 15,
    "start_time": "2022-08-29T13:13:30.802Z"
   },
   {
    "duration": 2619,
    "start_time": "2022-08-29T13:13:30.818Z"
   },
   {
    "duration": 258,
    "start_time": "2022-08-29T13:13:33.440Z"
   },
   {
    "duration": 48,
    "start_time": "2022-08-29T13:13:33.700Z"
   },
   {
    "duration": 9,
    "start_time": "2022-08-29T13:13:33.751Z"
   },
   {
    "duration": 46,
    "start_time": "2022-08-29T13:13:33.762Z"
   },
   {
    "duration": 7,
    "start_time": "2022-08-29T13:13:33.810Z"
   },
   {
    "duration": 16,
    "start_time": "2022-08-29T13:13:33.839Z"
   },
   {
    "duration": 24,
    "start_time": "2022-08-29T13:13:33.857Z"
   },
   {
    "duration": 676,
    "start_time": "2022-08-29T13:13:33.883Z"
   },
   {
    "duration": 13,
    "start_time": "2022-08-29T14:28:55.641Z"
   },
   {
    "duration": 10,
    "start_time": "2022-08-29T14:29:08.391Z"
   },
   {
    "duration": 120,
    "start_time": "2022-08-29T14:29:21.943Z"
   },
   {
    "duration": 13,
    "start_time": "2022-08-29T14:29:22.065Z"
   },
   {
    "duration": 2127,
    "start_time": "2022-08-29T14:29:22.080Z"
   },
   {
    "duration": 356,
    "start_time": "2022-08-29T14:29:24.209Z"
   },
   {
    "duration": 39,
    "start_time": "2022-08-29T14:29:24.568Z"
   },
   {
    "duration": 10,
    "start_time": "2022-08-29T14:29:24.609Z"
   },
   {
    "duration": 59,
    "start_time": "2022-08-29T14:29:24.639Z"
   },
   {
    "duration": 8,
    "start_time": "2022-08-29T14:29:24.700Z"
   },
   {
    "duration": 37,
    "start_time": "2022-08-29T14:29:24.709Z"
   },
   {
    "duration": 22,
    "start_time": "2022-08-29T14:29:24.749Z"
   },
   {
    "duration": 10,
    "start_time": "2022-08-29T14:29:24.773Z"
   },
   {
    "duration": 12,
    "start_time": "2022-08-29T14:29:50.222Z"
   },
   {
    "duration": 115,
    "start_time": "2022-08-29T14:30:01.808Z"
   },
   {
    "duration": 22,
    "start_time": "2022-08-29T14:30:01.925Z"
   },
   {
    "duration": 2138,
    "start_time": "2022-08-29T14:30:01.949Z"
   },
   {
    "duration": 260,
    "start_time": "2022-08-29T14:30:04.089Z"
   },
   {
    "duration": 31,
    "start_time": "2022-08-29T14:30:04.351Z"
   },
   {
    "duration": 8,
    "start_time": "2022-08-29T14:30:04.384Z"
   },
   {
    "duration": 69,
    "start_time": "2022-08-29T14:30:04.394Z"
   },
   {
    "duration": 7,
    "start_time": "2022-08-29T14:30:04.465Z"
   },
   {
    "duration": 13,
    "start_time": "2022-08-29T14:30:04.474Z"
   },
   {
    "duration": 25,
    "start_time": "2022-08-29T14:30:04.489Z"
   },
   {
    "duration": 12,
    "start_time": "2022-08-29T14:30:04.539Z"
   },
   {
    "duration": 11,
    "start_time": "2022-08-29T14:32:19.402Z"
   },
   {
    "duration": 10,
    "start_time": "2022-08-29T14:33:14.627Z"
   },
   {
    "duration": 41,
    "start_time": "2022-08-29T14:33:24.264Z"
   },
   {
    "duration": 40,
    "start_time": "2022-08-29T14:33:39.060Z"
   },
   {
    "duration": 72,
    "start_time": "2022-08-29T14:42:34.341Z"
   },
   {
    "duration": 113,
    "start_time": "2022-08-29T14:43:07.148Z"
   },
   {
    "duration": 14,
    "start_time": "2022-08-29T14:43:07.263Z"
   },
   {
    "duration": 2311,
    "start_time": "2022-08-29T14:43:07.279Z"
   },
   {
    "duration": 286,
    "start_time": "2022-08-29T14:43:09.593Z"
   },
   {
    "duration": 42,
    "start_time": "2022-08-29T14:43:09.881Z"
   },
   {
    "duration": 24,
    "start_time": "2022-08-29T14:43:09.925Z"
   },
   {
    "duration": 67,
    "start_time": "2022-08-29T14:43:09.952Z"
   },
   {
    "duration": 22,
    "start_time": "2022-08-29T14:43:10.021Z"
   },
   {
    "duration": 18,
    "start_time": "2022-08-29T14:43:10.045Z"
   },
   {
    "duration": 32,
    "start_time": "2022-08-29T14:43:10.066Z"
   },
   {
    "duration": 83,
    "start_time": "2022-08-29T14:43:10.101Z"
   },
   {
    "duration": 52,
    "start_time": "2022-08-29T14:43:20.690Z"
   },
   {
    "duration": 158,
    "start_time": "2022-08-29T14:43:29.526Z"
   },
   {
    "duration": 19,
    "start_time": "2022-08-29T14:43:29.687Z"
   },
   {
    "duration": 2241,
    "start_time": "2022-08-29T14:43:29.709Z"
   },
   {
    "duration": 266,
    "start_time": "2022-08-29T14:43:31.952Z"
   },
   {
    "duration": 41,
    "start_time": "2022-08-29T14:43:32.220Z"
   },
   {
    "duration": 23,
    "start_time": "2022-08-29T14:43:32.263Z"
   },
   {
    "duration": 61,
    "start_time": "2022-08-29T14:43:32.288Z"
   },
   {
    "duration": 11,
    "start_time": "2022-08-29T14:43:32.352Z"
   },
   {
    "duration": 36,
    "start_time": "2022-08-29T14:43:32.365Z"
   },
   {
    "duration": 46,
    "start_time": "2022-08-29T14:43:32.403Z"
   },
   {
    "duration": 65,
    "start_time": "2022-08-29T14:43:32.451Z"
   },
   {
    "duration": 131,
    "start_time": "2022-08-29T14:43:55.815Z"
   },
   {
    "duration": 20,
    "start_time": "2022-08-29T14:43:55.949Z"
   },
   {
    "duration": 2419,
    "start_time": "2022-08-29T14:43:55.971Z"
   },
   {
    "duration": 286,
    "start_time": "2022-08-29T14:43:58.392Z"
   },
   {
    "duration": 30,
    "start_time": "2022-08-29T14:43:58.679Z"
   },
   {
    "duration": 27,
    "start_time": "2022-08-29T14:43:58.711Z"
   },
   {
    "duration": 64,
    "start_time": "2022-08-29T14:43:58.741Z"
   },
   {
    "duration": 8,
    "start_time": "2022-08-29T14:43:58.807Z"
   },
   {
    "duration": 45,
    "start_time": "2022-08-29T14:43:58.816Z"
   },
   {
    "duration": 30,
    "start_time": "2022-08-29T14:43:58.864Z"
   },
   {
    "duration": 50,
    "start_time": "2022-08-29T14:43:58.896Z"
   },
   {
    "duration": 128,
    "start_time": "2022-08-29T14:44:20.920Z"
   },
   {
    "duration": 15,
    "start_time": "2022-08-29T14:44:21.051Z"
   },
   {
    "duration": 2352,
    "start_time": "2022-08-29T14:44:21.069Z"
   },
   {
    "duration": 319,
    "start_time": "2022-08-29T14:44:23.423Z"
   },
   {
    "duration": 51,
    "start_time": "2022-08-29T14:44:23.746Z"
   },
   {
    "duration": 12,
    "start_time": "2022-08-29T14:44:23.799Z"
   },
   {
    "duration": 93,
    "start_time": "2022-08-29T14:44:23.814Z"
   },
   {
    "duration": 10,
    "start_time": "2022-08-29T14:44:23.909Z"
   },
   {
    "duration": 35,
    "start_time": "2022-08-29T14:44:23.921Z"
   },
   {
    "duration": 27,
    "start_time": "2022-08-29T14:44:23.959Z"
   },
   {
    "duration": 98,
    "start_time": "2022-08-29T14:44:23.989Z"
   },
   {
    "duration": 119,
    "start_time": "2022-08-29T14:50:22.210Z"
   },
   {
    "duration": 21,
    "start_time": "2022-08-29T14:50:22.331Z"
   },
   {
    "duration": 2204,
    "start_time": "2022-08-29T14:50:22.354Z"
   },
   {
    "duration": 291,
    "start_time": "2022-08-29T14:50:24.561Z"
   },
   {
    "duration": 36,
    "start_time": "2022-08-29T14:50:24.854Z"
   },
   {
    "duration": 713,
    "start_time": "2022-08-29T14:50:24.893Z"
   },
   {
    "duration": 683,
    "start_time": "2022-08-29T14:50:25.608Z"
   },
   {
    "duration": 623,
    "start_time": "2022-08-29T14:50:26.293Z"
   },
   {
    "duration": 31,
    "start_time": "2022-08-29T14:50:26.918Z"
   },
   {
    "duration": 49,
    "start_time": "2022-08-29T14:50:26.953Z"
   },
   {
    "duration": 64,
    "start_time": "2022-08-29T14:50:27.004Z"
   },
   {
    "duration": 39,
    "start_time": "2022-08-29T14:51:23.382Z"
   },
   {
    "duration": 50,
    "start_time": "2022-08-29T14:52:27.074Z"
   },
   {
    "duration": 115,
    "start_time": "2022-08-29T14:52:34.381Z"
   },
   {
    "duration": 15,
    "start_time": "2022-08-29T14:52:34.498Z"
   },
   {
    "duration": 2481,
    "start_time": "2022-08-29T14:52:34.514Z"
   },
   {
    "duration": 296,
    "start_time": "2022-08-29T14:52:36.997Z"
   },
   {
    "duration": 56,
    "start_time": "2022-08-29T14:52:37.294Z"
   },
   {
    "duration": 14,
    "start_time": "2022-08-29T14:52:37.352Z"
   },
   {
    "duration": 56,
    "start_time": "2022-08-29T14:52:37.367Z"
   },
   {
    "duration": 11,
    "start_time": "2022-08-29T14:52:37.439Z"
   },
   {
    "duration": 24,
    "start_time": "2022-08-29T14:52:37.453Z"
   },
   {
    "duration": 35,
    "start_time": "2022-08-29T14:52:37.480Z"
   },
   {
    "duration": 51,
    "start_time": "2022-08-29T14:52:37.540Z"
   },
   {
    "duration": 152,
    "start_time": "2022-08-29T14:53:47.117Z"
   },
   {
    "duration": 22,
    "start_time": "2022-08-29T14:53:47.272Z"
   },
   {
    "duration": 2342,
    "start_time": "2022-08-29T14:53:47.296Z"
   },
   {
    "duration": 301,
    "start_time": "2022-08-29T14:53:49.641Z"
   },
   {
    "duration": 47,
    "start_time": "2022-08-29T14:53:49.944Z"
   },
   {
    "duration": 10,
    "start_time": "2022-08-29T14:53:49.992Z"
   },
   {
    "duration": 80,
    "start_time": "2022-08-29T14:53:50.004Z"
   },
   {
    "duration": 11,
    "start_time": "2022-08-29T14:53:50.086Z"
   },
   {
    "duration": 31,
    "start_time": "2022-08-29T14:53:50.100Z"
   },
   {
    "duration": 32,
    "start_time": "2022-08-29T14:53:50.140Z"
   },
   {
    "duration": 79,
    "start_time": "2022-08-29T14:53:50.174Z"
   },
   {
    "duration": 16,
    "start_time": "2022-08-29T14:54:19.478Z"
   },
   {
    "duration": 170,
    "start_time": "2022-08-29T14:54:49.210Z"
   },
   {
    "duration": 22,
    "start_time": "2022-08-29T14:54:49.383Z"
   },
   {
    "duration": 2407,
    "start_time": "2022-08-29T14:54:49.407Z"
   },
   {
    "duration": 601,
    "start_time": "2022-08-29T14:54:51.817Z"
   },
   {
    "duration": 37,
    "start_time": "2022-08-29T14:54:52.420Z"
   },
   {
    "duration": 13,
    "start_time": "2022-08-29T14:54:52.460Z"
   },
   {
    "duration": 89,
    "start_time": "2022-08-29T14:54:52.476Z"
   },
   {
    "duration": 11,
    "start_time": "2022-08-29T14:54:52.568Z"
   },
   {
    "duration": 30,
    "start_time": "2022-08-29T14:54:52.581Z"
   },
   {
    "duration": 47,
    "start_time": "2022-08-29T14:54:52.614Z"
   },
   {
    "duration": 54,
    "start_time": "2022-08-29T14:54:52.663Z"
   },
   {
    "duration": 159,
    "start_time": "2022-08-29T14:56:30.984Z"
   },
   {
    "duration": 22,
    "start_time": "2022-08-29T14:56:31.145Z"
   },
   {
    "duration": 3124,
    "start_time": "2022-08-29T14:56:31.169Z"
   },
   {
    "duration": 410,
    "start_time": "2022-08-29T14:56:34.298Z"
   },
   {
    "duration": 53,
    "start_time": "2022-08-29T14:56:34.712Z"
   },
   {
    "duration": 14,
    "start_time": "2022-08-29T14:56:34.768Z"
   },
   {
    "duration": 90,
    "start_time": "2022-08-29T14:56:34.785Z"
   },
   {
    "duration": 12,
    "start_time": "2022-08-29T14:56:34.877Z"
   },
   {
    "duration": 25,
    "start_time": "2022-08-29T14:56:34.891Z"
   },
   {
    "duration": 49,
    "start_time": "2022-08-29T14:56:34.920Z"
   },
   {
    "duration": 117,
    "start_time": "2022-08-29T14:56:34.972Z"
   },
   {
    "duration": 119,
    "start_time": "2022-08-29T14:57:10.068Z"
   },
   {
    "duration": 15,
    "start_time": "2022-08-29T14:57:10.189Z"
   },
   {
    "duration": 2346,
    "start_time": "2022-08-29T14:57:10.206Z"
   },
   {
    "duration": 314,
    "start_time": "2022-08-29T14:57:12.555Z"
   },
   {
    "duration": 39,
    "start_time": "2022-08-29T14:57:12.870Z"
   },
   {
    "duration": 28,
    "start_time": "2022-08-29T14:57:12.911Z"
   },
   {
    "duration": 59,
    "start_time": "2022-08-29T14:57:12.941Z"
   },
   {
    "duration": 11,
    "start_time": "2022-08-29T14:57:13.002Z"
   },
   {
    "duration": 33,
    "start_time": "2022-08-29T14:57:13.015Z"
   },
   {
    "duration": 29,
    "start_time": "2022-08-29T14:57:13.051Z"
   },
   {
    "duration": 93,
    "start_time": "2022-08-29T14:57:13.082Z"
   },
   {
    "duration": 142,
    "start_time": "2022-08-29T14:58:49.586Z"
   },
   {
    "duration": 40,
    "start_time": "2022-08-29T14:58:49.730Z"
   },
   {
    "duration": 2844,
    "start_time": "2022-08-29T14:58:49.773Z"
   },
   {
    "duration": 355,
    "start_time": "2022-08-29T14:58:52.620Z"
   },
   {
    "duration": 34,
    "start_time": "2022-08-29T14:58:52.978Z"
   },
   {
    "duration": 32,
    "start_time": "2022-08-29T14:58:53.013Z"
   },
   {
    "duration": 64,
    "start_time": "2022-08-29T14:58:53.048Z"
   },
   {
    "duration": 26,
    "start_time": "2022-08-29T14:58:53.114Z"
   },
   {
    "duration": 18,
    "start_time": "2022-08-29T14:58:53.142Z"
   },
   {
    "duration": 29,
    "start_time": "2022-08-29T14:58:53.163Z"
   },
   {
    "duration": 120,
    "start_time": "2022-08-29T14:58:53.195Z"
   },
   {
    "duration": 153,
    "start_time": "2022-08-29T14:59:52.973Z"
   },
   {
    "duration": 31,
    "start_time": "2022-08-29T14:59:53.128Z"
   },
   {
    "duration": 2338,
    "start_time": "2022-08-29T14:59:53.162Z"
   },
   {
    "duration": 292,
    "start_time": "2022-08-29T14:59:55.505Z"
   },
   {
    "duration": 40,
    "start_time": "2022-08-29T14:59:55.799Z"
   },
   {
    "duration": 11,
    "start_time": "2022-08-29T14:59:55.842Z"
   },
   {
    "duration": 52,
    "start_time": "2022-08-29T14:59:55.856Z"
   },
   {
    "duration": 35,
    "start_time": "2022-08-29T14:59:55.909Z"
   },
   {
    "duration": 20,
    "start_time": "2022-08-29T14:59:55.946Z"
   },
   {
    "duration": 45,
    "start_time": "2022-08-29T14:59:55.970Z"
   },
   {
    "duration": 91,
    "start_time": "2022-08-29T14:59:56.017Z"
   },
   {
    "duration": 160,
    "start_time": "2022-08-29T15:00:15.855Z"
   },
   {
    "duration": 29,
    "start_time": "2022-08-29T15:00:16.017Z"
   },
   {
    "duration": 3064,
    "start_time": "2022-08-29T15:00:16.048Z"
   },
   {
    "duration": 409,
    "start_time": "2022-08-29T15:00:19.115Z"
   },
   {
    "duration": 55,
    "start_time": "2022-08-29T15:00:19.527Z"
   },
   {
    "duration": 13,
    "start_time": "2022-08-29T15:00:19.584Z"
   },
   {
    "duration": 96,
    "start_time": "2022-08-29T15:00:19.599Z"
   },
   {
    "duration": 11,
    "start_time": "2022-08-29T15:00:19.697Z"
   },
   {
    "duration": 30,
    "start_time": "2022-08-29T15:00:19.710Z"
   },
   {
    "duration": 27,
    "start_time": "2022-08-29T15:00:19.743Z"
   },
   {
    "duration": 115,
    "start_time": "2022-08-29T15:00:19.772Z"
   },
   {
    "duration": 16,
    "start_time": "2022-08-29T15:00:52.120Z"
   },
   {
    "duration": 18,
    "start_time": "2022-08-29T15:01:13.426Z"
   },
   {
    "duration": 19,
    "start_time": "2022-08-29T15:02:12.277Z"
   },
   {
    "duration": 13,
    "start_time": "2022-08-29T15:02:19.473Z"
   },
   {
    "duration": 112,
    "start_time": "2022-08-29T15:02:26.131Z"
   },
   {
    "duration": 15,
    "start_time": "2022-08-29T15:02:26.246Z"
   },
   {
    "duration": 1992,
    "start_time": "2022-08-29T15:02:26.263Z"
   },
   {
    "duration": 755,
    "start_time": "2022-08-29T15:02:28.257Z"
   },
   {
    "duration": 49,
    "start_time": "2022-08-29T15:02:29.015Z"
   },
   {
    "duration": 16,
    "start_time": "2022-08-29T15:02:29.066Z"
   },
   {
    "duration": 78,
    "start_time": "2022-08-29T15:02:29.085Z"
   },
   {
    "duration": 11,
    "start_time": "2022-08-29T15:02:29.165Z"
   },
   {
    "duration": 22,
    "start_time": "2022-08-29T15:02:29.178Z"
   },
   {
    "duration": 49,
    "start_time": "2022-08-29T15:02:29.203Z"
   },
   {
    "duration": 91,
    "start_time": "2022-08-29T15:02:29.254Z"
   },
   {
    "duration": 13,
    "start_time": "2022-08-29T15:03:27.719Z"
   },
   {
    "duration": 115,
    "start_time": "2022-08-29T15:03:50.521Z"
   },
   {
    "duration": 15,
    "start_time": "2022-08-29T15:03:50.638Z"
   },
   {
    "duration": 2075,
    "start_time": "2022-08-29T15:03:50.655Z"
   },
   {
    "duration": 269,
    "start_time": "2022-08-29T15:03:52.732Z"
   },
   {
    "duration": 38,
    "start_time": "2022-08-29T15:03:53.003Z"
   },
   {
    "duration": 9,
    "start_time": "2022-08-29T15:03:53.042Z"
   },
   {
    "duration": 47,
    "start_time": "2022-08-29T15:03:53.053Z"
   },
   {
    "duration": 37,
    "start_time": "2022-08-29T15:03:53.102Z"
   },
   {
    "duration": 18,
    "start_time": "2022-08-29T15:03:53.141Z"
   },
   {
    "duration": 25,
    "start_time": "2022-08-29T15:03:53.162Z"
   },
   {
    "duration": 103,
    "start_time": "2022-08-29T15:03:53.188Z"
   },
   {
    "duration": 108,
    "start_time": "2022-08-29T15:04:09.945Z"
   },
   {
    "duration": 14,
    "start_time": "2022-08-29T15:04:10.055Z"
   },
   {
    "duration": 1998,
    "start_time": "2022-08-29T15:04:10.071Z"
   },
   {
    "duration": 270,
    "start_time": "2022-08-29T15:04:12.071Z"
   },
   {
    "duration": 30,
    "start_time": "2022-08-29T15:04:12.343Z"
   },
   {
    "duration": 8,
    "start_time": "2022-08-29T15:04:12.375Z"
   },
   {
    "duration": 65,
    "start_time": "2022-08-29T15:04:12.385Z"
   },
   {
    "duration": 9,
    "start_time": "2022-08-29T15:04:12.452Z"
   },
   {
    "duration": 13,
    "start_time": "2022-08-29T15:04:12.463Z"
   },
   {
    "duration": 25,
    "start_time": "2022-08-29T15:04:12.479Z"
   },
   {
    "duration": 114,
    "start_time": "2022-08-29T15:04:12.506Z"
   },
   {
    "duration": 107,
    "start_time": "2022-08-29T15:04:31.277Z"
   },
   {
    "duration": 13,
    "start_time": "2022-08-29T15:04:31.386Z"
   },
   {
    "duration": 2004,
    "start_time": "2022-08-29T15:04:31.401Z"
   },
   {
    "duration": 264,
    "start_time": "2022-08-29T15:04:33.408Z"
   },
   {
    "duration": 38,
    "start_time": "2022-08-29T15:04:33.674Z"
   },
   {
    "duration": 24,
    "start_time": "2022-08-29T15:04:33.714Z"
   },
   {
    "duration": 48,
    "start_time": "2022-08-29T15:04:33.740Z"
   },
   {
    "duration": 8,
    "start_time": "2022-08-29T15:04:33.789Z"
   },
   {
    "duration": 13,
    "start_time": "2022-08-29T15:04:33.798Z"
   },
   {
    "duration": 47,
    "start_time": "2022-08-29T15:04:33.813Z"
   },
   {
    "duration": 91,
    "start_time": "2022-08-29T15:04:33.862Z"
   },
   {
    "duration": 18,
    "start_time": "2022-08-29T15:05:01.665Z"
   },
   {
    "duration": 121,
    "start_time": "2022-08-29T15:05:05.258Z"
   },
   {
    "duration": 16,
    "start_time": "2022-08-29T15:05:05.381Z"
   },
   {
    "duration": 2023,
    "start_time": "2022-08-29T15:05:05.398Z"
   },
   {
    "duration": 837,
    "start_time": "2022-08-29T15:05:07.424Z"
   },
   {
    "duration": 30,
    "start_time": "2022-08-29T15:05:08.262Z"
   },
   {
    "duration": 12,
    "start_time": "2022-08-29T15:05:08.294Z"
   },
   {
    "duration": 64,
    "start_time": "2022-08-29T15:05:08.308Z"
   },
   {
    "duration": 8,
    "start_time": "2022-08-29T15:05:08.374Z"
   },
   {
    "duration": 12,
    "start_time": "2022-08-29T15:05:08.384Z"
   },
   {
    "duration": 46,
    "start_time": "2022-08-29T15:05:08.399Z"
   },
   {
    "duration": 79,
    "start_time": "2022-08-29T15:05:08.447Z"
   },
   {
    "duration": 13,
    "start_time": "2022-08-29T15:05:19.855Z"
   },
   {
    "duration": 140,
    "start_time": "2022-08-29T15:06:18.876Z"
   },
   {
    "duration": 30,
    "start_time": "2022-08-29T15:06:19.018Z"
   },
   {
    "duration": 2013,
    "start_time": "2022-08-29T15:06:19.050Z"
   },
   {
    "duration": 264,
    "start_time": "2022-08-29T15:06:21.065Z"
   },
   {
    "duration": 33,
    "start_time": "2022-08-29T15:06:21.331Z"
   },
   {
    "duration": 10,
    "start_time": "2022-08-29T15:06:21.366Z"
   },
   {
    "duration": 74,
    "start_time": "2022-08-29T15:06:21.378Z"
   },
   {
    "duration": 9,
    "start_time": "2022-08-29T15:06:21.453Z"
   },
   {
    "duration": 16,
    "start_time": "2022-08-29T15:06:21.463Z"
   },
   {
    "duration": 25,
    "start_time": "2022-08-29T15:06:21.482Z"
   },
   {
    "duration": 130,
    "start_time": "2022-08-29T15:06:21.508Z"
   },
   {
    "duration": 19,
    "start_time": "2022-08-29T15:06:34.227Z"
   },
   {
    "duration": 109,
    "start_time": "2022-08-29T15:06:37.560Z"
   },
   {
    "duration": 20,
    "start_time": "2022-08-29T15:06:37.672Z"
   },
   {
    "duration": 2130,
    "start_time": "2022-08-29T15:06:37.694Z"
   },
   {
    "duration": 260,
    "start_time": "2022-08-29T15:06:39.827Z"
   },
   {
    "duration": 32,
    "start_time": "2022-08-29T15:06:40.089Z"
   },
   {
    "duration": 9,
    "start_time": "2022-08-29T15:06:40.138Z"
   },
   {
    "duration": 54,
    "start_time": "2022-08-29T15:06:40.149Z"
   },
   {
    "duration": 8,
    "start_time": "2022-08-29T15:06:40.204Z"
   },
   {
    "duration": 15,
    "start_time": "2022-08-29T15:06:40.239Z"
   },
   {
    "duration": 28,
    "start_time": "2022-08-29T15:06:40.256Z"
   },
   {
    "duration": 131,
    "start_time": "2022-08-29T15:06:40.286Z"
   },
   {
    "duration": 17,
    "start_time": "2022-08-29T15:06:46.291Z"
   },
   {
    "duration": 21,
    "start_time": "2022-08-29T15:11:53.572Z"
   },
   {
    "duration": 109,
    "start_time": "2022-08-29T15:13:41.392Z"
   },
   {
    "duration": 15,
    "start_time": "2022-08-29T15:13:41.502Z"
   },
   {
    "duration": 1940,
    "start_time": "2022-08-29T15:13:41.518Z"
   },
   {
    "duration": 258,
    "start_time": "2022-08-29T15:13:43.460Z"
   },
   {
    "duration": 41,
    "start_time": "2022-08-29T15:13:43.719Z"
   },
   {
    "duration": 8,
    "start_time": "2022-08-29T15:13:43.761Z"
   },
   {
    "duration": 59,
    "start_time": "2022-08-29T15:13:43.771Z"
   },
   {
    "duration": 12,
    "start_time": "2022-08-29T15:13:43.831Z"
   },
   {
    "duration": 25,
    "start_time": "2022-08-29T15:13:43.844Z"
   },
   {
    "duration": 30,
    "start_time": "2022-08-29T15:13:43.871Z"
   },
   {
    "duration": 172,
    "start_time": "2022-08-29T15:13:43.902Z"
   },
   {
    "duration": 16,
    "start_time": "2022-08-29T15:13:53.437Z"
   },
   {
    "duration": 14,
    "start_time": "2022-08-29T15:14:35.751Z"
   },
   {
    "duration": 121,
    "start_time": "2022-08-29T15:14:52.537Z"
   },
   {
    "duration": 13,
    "start_time": "2022-08-29T15:14:52.660Z"
   },
   {
    "duration": 2028,
    "start_time": "2022-08-29T15:14:52.674Z"
   },
   {
    "duration": 257,
    "start_time": "2022-08-29T15:14:54.704Z"
   },
   {
    "duration": 28,
    "start_time": "2022-08-29T15:14:54.963Z"
   },
   {
    "duration": 9,
    "start_time": "2022-08-29T15:14:54.992Z"
   },
   {
    "duration": 68,
    "start_time": "2022-08-29T15:14:55.002Z"
   },
   {
    "duration": 8,
    "start_time": "2022-08-29T15:14:55.071Z"
   },
   {
    "duration": 14,
    "start_time": "2022-08-29T15:14:55.080Z"
   },
   {
    "duration": 42,
    "start_time": "2022-08-29T15:14:55.096Z"
   },
   {
    "duration": 143,
    "start_time": "2022-08-29T15:14:55.140Z"
   },
   {
    "duration": 17,
    "start_time": "2022-08-29T15:16:15.637Z"
   },
   {
    "duration": 111,
    "start_time": "2022-08-29T15:16:20.994Z"
   },
   {
    "duration": 15,
    "start_time": "2022-08-29T15:16:21.108Z"
   },
   {
    "duration": 2668,
    "start_time": "2022-08-29T15:16:21.138Z"
   },
   {
    "duration": 251,
    "start_time": "2022-08-29T15:16:23.808Z"
   },
   {
    "duration": 30,
    "start_time": "2022-08-29T15:16:24.060Z"
   },
   {
    "duration": 14,
    "start_time": "2022-08-29T15:16:24.091Z"
   },
   {
    "duration": 63,
    "start_time": "2022-08-29T15:16:24.107Z"
   },
   {
    "duration": 8,
    "start_time": "2022-08-29T15:16:24.171Z"
   },
   {
    "duration": 30,
    "start_time": "2022-08-29T15:16:24.181Z"
   },
   {
    "duration": 32,
    "start_time": "2022-08-29T15:16:24.213Z"
   },
   {
    "duration": 151,
    "start_time": "2022-08-29T15:16:24.247Z"
   },
   {
    "duration": 15,
    "start_time": "2022-08-29T15:17:17.978Z"
   },
   {
    "duration": 25,
    "start_time": "2022-08-29T15:17:43.294Z"
   },
   {
    "duration": 25,
    "start_time": "2022-08-29T15:18:07.564Z"
   },
   {
    "duration": 110,
    "start_time": "2022-08-29T15:18:12.885Z"
   },
   {
    "duration": 15,
    "start_time": "2022-08-29T15:18:12.997Z"
   },
   {
    "duration": 2036,
    "start_time": "2022-08-29T15:18:13.014Z"
   },
   {
    "duration": 263,
    "start_time": "2022-08-29T15:18:15.052Z"
   },
   {
    "duration": 42,
    "start_time": "2022-08-29T15:18:15.317Z"
   },
   {
    "duration": 19,
    "start_time": "2022-08-29T15:18:15.361Z"
   },
   {
    "duration": 59,
    "start_time": "2022-08-29T15:18:15.382Z"
   },
   {
    "duration": 8,
    "start_time": "2022-08-29T15:18:15.443Z"
   },
   {
    "duration": 17,
    "start_time": "2022-08-29T15:18:15.452Z"
   },
   {
    "duration": 23,
    "start_time": "2022-08-29T15:18:15.472Z"
   },
   {
    "duration": 175,
    "start_time": "2022-08-29T15:18:15.497Z"
   },
   {
    "duration": 24,
    "start_time": "2022-08-29T15:18:27.614Z"
   },
   {
    "duration": 24,
    "start_time": "2022-08-29T15:18:28.494Z"
   },
   {
    "duration": 25,
    "start_time": "2022-08-29T15:18:34.227Z"
   },
   {
    "duration": 6,
    "start_time": "2022-08-29T15:19:40.963Z"
   },
   {
    "duration": 7,
    "start_time": "2022-08-29T15:20:05.782Z"
   },
   {
    "duration": 6,
    "start_time": "2022-08-29T15:20:15.011Z"
   },
   {
    "duration": 6,
    "start_time": "2022-08-29T15:20:17.384Z"
   },
   {
    "duration": 8,
    "start_time": "2022-08-29T15:20:25.319Z"
   },
   {
    "duration": 17,
    "start_time": "2022-08-29T15:20:53.709Z"
   },
   {
    "duration": 111,
    "start_time": "2022-08-29T15:20:58.102Z"
   },
   {
    "duration": 25,
    "start_time": "2022-08-29T15:20:58.215Z"
   },
   {
    "duration": 2086,
    "start_time": "2022-08-29T15:20:58.242Z"
   },
   {
    "duration": 261,
    "start_time": "2022-08-29T15:21:00.331Z"
   },
   {
    "duration": 32,
    "start_time": "2022-08-29T15:21:00.594Z"
   },
   {
    "duration": 11,
    "start_time": "2022-08-29T15:21:00.639Z"
   },
   {
    "duration": 49,
    "start_time": "2022-08-29T15:21:00.652Z"
   },
   {
    "duration": 8,
    "start_time": "2022-08-29T15:21:00.702Z"
   },
   {
    "duration": 44,
    "start_time": "2022-08-29T15:21:00.711Z"
   },
   {
    "duration": 23,
    "start_time": "2022-08-29T15:21:00.758Z"
   },
   {
    "duration": 57,
    "start_time": "2022-08-29T15:21:00.783Z"
   },
   {
    "duration": 24,
    "start_time": "2022-08-29T15:21:54.841Z"
   },
   {
    "duration": 23,
    "start_time": "2022-08-29T15:22:00.884Z"
   },
   {
    "duration": 23,
    "start_time": "2022-08-29T15:22:06.751Z"
   },
   {
    "duration": 35,
    "start_time": "2022-08-29T15:22:20.318Z"
   },
   {
    "duration": 120,
    "start_time": "2022-08-29T15:22:24.676Z"
   },
   {
    "duration": 14,
    "start_time": "2022-08-29T15:22:24.798Z"
   },
   {
    "duration": 2092,
    "start_time": "2022-08-29T15:22:24.813Z"
   },
   {
    "duration": 273,
    "start_time": "2022-08-29T15:22:26.908Z"
   },
   {
    "duration": 31,
    "start_time": "2022-08-29T15:22:27.183Z"
   },
   {
    "duration": 29,
    "start_time": "2022-08-29T15:22:27.216Z"
   },
   {
    "duration": 57,
    "start_time": "2022-08-29T15:22:27.248Z"
   },
   {
    "duration": 7,
    "start_time": "2022-08-29T15:22:27.307Z"
   },
   {
    "duration": 31,
    "start_time": "2022-08-29T15:22:27.316Z"
   },
   {
    "duration": 23,
    "start_time": "2022-08-29T15:22:27.349Z"
   },
   {
    "duration": 29,
    "start_time": "2022-08-29T15:22:27.374Z"
   },
   {
    "duration": 38,
    "start_time": "2022-08-29T15:22:50.415Z"
   },
   {
    "duration": 35,
    "start_time": "2022-08-29T15:24:43.715Z"
   },
   {
    "duration": 24,
    "start_time": "2022-08-29T15:38:17.251Z"
   },
   {
    "duration": 24,
    "start_time": "2022-08-29T15:38:25.695Z"
   },
   {
    "duration": 24,
    "start_time": "2022-08-29T15:38:30.623Z"
   },
   {
    "duration": 22,
    "start_time": "2022-08-29T15:38:45.677Z"
   },
   {
    "duration": 22,
    "start_time": "2022-08-29T15:38:50.902Z"
   },
   {
    "duration": 10,
    "start_time": "2022-08-29T15:39:01.050Z"
   },
   {
    "duration": 138,
    "start_time": "2022-08-29T15:39:15.235Z"
   },
   {
    "duration": 25,
    "start_time": "2022-08-29T15:48:47.882Z"
   },
   {
    "duration": 148,
    "start_time": "2022-08-29T15:49:52.148Z"
   },
   {
    "duration": 153,
    "start_time": "2022-08-29T15:51:35.978Z"
   },
   {
    "duration": 157,
    "start_time": "2022-08-29T15:52:52.574Z"
   },
   {
    "duration": 113,
    "start_time": "2022-08-29T15:52:59.246Z"
   },
   {
    "duration": 20,
    "start_time": "2022-08-29T15:52:59.361Z"
   },
   {
    "duration": 2025,
    "start_time": "2022-08-29T15:52:59.383Z"
   },
   {
    "duration": 266,
    "start_time": "2022-08-29T15:53:01.410Z"
   },
   {
    "duration": 38,
    "start_time": "2022-08-29T15:53:01.679Z"
   },
   {
    "duration": 51,
    "start_time": "2022-08-29T15:53:01.719Z"
   },
   {
    "duration": 53,
    "start_time": "2022-08-29T15:53:01.772Z"
   },
   {
    "duration": 8,
    "start_time": "2022-08-29T15:53:01.827Z"
   },
   {
    "duration": 16,
    "start_time": "2022-08-29T15:53:01.837Z"
   },
   {
    "duration": 43,
    "start_time": "2022-08-29T15:53:01.855Z"
   },
   {
    "duration": 141,
    "start_time": "2022-08-29T15:53:01.899Z"
   },
   {
    "duration": 169,
    "start_time": "2022-08-29T15:53:02.041Z"
   },
   {
    "duration": 176,
    "start_time": "2022-08-29T15:53:58.471Z"
   },
   {
    "duration": 172,
    "start_time": "2022-08-29T15:55:32.067Z"
   },
   {
    "duration": 151,
    "start_time": "2022-08-29T15:56:58.464Z"
   },
   {
    "duration": 170,
    "start_time": "2022-08-29T15:58:00.508Z"
   },
   {
    "duration": 178,
    "start_time": "2022-08-29T15:59:51.580Z"
   },
   {
    "duration": 182,
    "start_time": "2022-08-29T15:59:59.277Z"
   },
   {
    "duration": 119,
    "start_time": "2022-08-29T16:00:05.756Z"
   },
   {
    "duration": 14,
    "start_time": "2022-08-29T16:00:05.876Z"
   },
   {
    "duration": 2065,
    "start_time": "2022-08-29T16:00:05.892Z"
   },
   {
    "duration": 261,
    "start_time": "2022-08-29T16:00:07.959Z"
   },
   {
    "duration": 40,
    "start_time": "2022-08-29T16:00:08.222Z"
   },
   {
    "duration": 9,
    "start_time": "2022-08-29T16:00:08.264Z"
   },
   {
    "duration": 45,
    "start_time": "2022-08-29T16:00:08.274Z"
   },
   {
    "duration": 26,
    "start_time": "2022-08-29T16:00:08.320Z"
   },
   {
    "duration": 22,
    "start_time": "2022-08-29T16:00:08.348Z"
   },
   {
    "duration": 24,
    "start_time": "2022-08-29T16:00:08.372Z"
   },
   {
    "duration": 165,
    "start_time": "2022-08-29T16:00:08.398Z"
   },
   {
    "duration": 180,
    "start_time": "2022-08-29T16:00:08.564Z"
   },
   {
    "duration": 175,
    "start_time": "2022-08-29T16:00:45.686Z"
   },
   {
    "duration": 114,
    "start_time": "2022-08-29T16:00:50.375Z"
   },
   {
    "duration": 15,
    "start_time": "2022-08-29T16:00:50.491Z"
   },
   {
    "duration": 2973,
    "start_time": "2022-08-29T16:00:50.507Z"
   },
   {
    "duration": 271,
    "start_time": "2022-08-29T16:00:53.481Z"
   },
   {
    "duration": 30,
    "start_time": "2022-08-29T16:00:53.754Z"
   },
   {
    "duration": 23,
    "start_time": "2022-08-29T16:00:53.786Z"
   },
   {
    "duration": 60,
    "start_time": "2022-08-29T16:00:53.811Z"
   },
   {
    "duration": 8,
    "start_time": "2022-08-29T16:00:53.873Z"
   },
   {
    "duration": 21,
    "start_time": "2022-08-29T16:00:53.883Z"
   },
   {
    "duration": 44,
    "start_time": "2022-08-29T16:00:53.906Z"
   },
   {
    "duration": 143,
    "start_time": "2022-08-29T16:00:53.952Z"
   },
   {
    "duration": 184,
    "start_time": "2022-08-29T16:00:54.096Z"
   },
   {
    "duration": 145,
    "start_time": "2022-08-29T16:05:29.137Z"
   },
   {
    "duration": 14,
    "start_time": "2022-08-29T16:05:29.284Z"
   },
   {
    "duration": 2174,
    "start_time": "2022-08-29T16:05:29.300Z"
   },
   {
    "duration": 278,
    "start_time": "2022-08-29T16:05:31.477Z"
   },
   {
    "duration": 30,
    "start_time": "2022-08-29T16:05:31.759Z"
   },
   {
    "duration": 8,
    "start_time": "2022-08-29T16:05:31.790Z"
   },
   {
    "duration": 74,
    "start_time": "2022-08-29T16:05:31.800Z"
   },
   {
    "duration": 7,
    "start_time": "2022-08-29T16:05:31.876Z"
   },
   {
    "duration": 13,
    "start_time": "2022-08-29T16:05:31.885Z"
   },
   {
    "duration": 58,
    "start_time": "2022-08-29T16:05:31.900Z"
   },
   {
    "duration": 158,
    "start_time": "2022-08-29T16:05:31.960Z"
   },
   {
    "duration": 199,
    "start_time": "2022-08-29T16:05:32.120Z"
   },
   {
    "duration": 13,
    "start_time": "2022-08-29T16:16:56.377Z"
   },
   {
    "duration": 115,
    "start_time": "2022-08-29T16:17:03.050Z"
   },
   {
    "duration": 15,
    "start_time": "2022-08-29T16:17:03.167Z"
   },
   {
    "duration": 2074,
    "start_time": "2022-08-29T16:17:03.184Z"
   },
   {
    "duration": 267,
    "start_time": "2022-08-29T16:17:05.260Z"
   },
   {
    "duration": 36,
    "start_time": "2022-08-29T16:17:05.528Z"
   },
   {
    "duration": 25,
    "start_time": "2022-08-29T16:17:05.566Z"
   },
   {
    "duration": 65,
    "start_time": "2022-08-29T16:17:05.593Z"
   },
   {
    "duration": 10,
    "start_time": "2022-08-29T16:17:05.660Z"
   },
   {
    "duration": 24,
    "start_time": "2022-08-29T16:17:05.672Z"
   },
   {
    "duration": 31,
    "start_time": "2022-08-29T16:17:05.699Z"
   },
   {
    "duration": 152,
    "start_time": "2022-08-29T16:17:05.732Z"
   },
   {
    "duration": 12,
    "start_time": "2022-08-29T16:17:05.886Z"
   },
   {
    "duration": 23,
    "start_time": "2022-08-29T16:19:58.264Z"
   },
   {
    "duration": 19,
    "start_time": "2022-08-29T16:20:08.618Z"
   },
   {
    "duration": 204,
    "start_time": "2022-08-29T16:20:29.968Z"
   },
   {
    "duration": 5,
    "start_time": "2022-08-29T16:29:37.026Z"
   },
   {
    "duration": 25,
    "start_time": "2022-08-29T16:30:23.809Z"
   },
   {
    "duration": 148,
    "start_time": "2022-08-29T16:30:36.723Z"
   },
   {
    "duration": 16,
    "start_time": "2022-08-29T16:30:36.874Z"
   },
   {
    "duration": 2227,
    "start_time": "2022-08-29T16:30:36.891Z"
   },
   {
    "duration": 368,
    "start_time": "2022-08-29T16:30:39.121Z"
   },
   {
    "duration": 29,
    "start_time": "2022-08-29T16:30:39.491Z"
   },
   {
    "duration": 27,
    "start_time": "2022-08-29T16:30:39.522Z"
   },
   {
    "duration": 67,
    "start_time": "2022-08-29T16:30:39.551Z"
   },
   {
    "duration": 8,
    "start_time": "2022-08-29T16:30:39.620Z"
   },
   {
    "duration": 14,
    "start_time": "2022-08-29T16:30:39.630Z"
   },
   {
    "duration": 52,
    "start_time": "2022-08-29T16:30:39.646Z"
   },
   {
    "duration": 178,
    "start_time": "2022-08-29T16:30:39.700Z"
   },
   {
    "duration": 23,
    "start_time": "2022-08-29T16:30:39.880Z"
   },
   {
    "duration": 115,
    "start_time": "2022-08-29T16:37:57.186Z"
   },
   {
    "duration": 13,
    "start_time": "2022-08-29T16:37:57.303Z"
   },
   {
    "duration": 2104,
    "start_time": "2022-08-29T16:37:57.318Z"
   },
   {
    "duration": 263,
    "start_time": "2022-08-29T16:37:59.423Z"
   },
   {
    "duration": 31,
    "start_time": "2022-08-29T16:37:59.690Z"
   },
   {
    "duration": 29,
    "start_time": "2022-08-29T16:37:59.722Z"
   },
   {
    "duration": 45,
    "start_time": "2022-08-29T16:37:59.753Z"
   },
   {
    "duration": 8,
    "start_time": "2022-08-29T16:37:59.800Z"
   },
   {
    "duration": 38,
    "start_time": "2022-08-29T16:37:59.809Z"
   },
   {
    "duration": 25,
    "start_time": "2022-08-29T16:37:59.850Z"
   },
   {
    "duration": 145,
    "start_time": "2022-08-29T16:37:59.877Z"
   },
   {
    "duration": 5,
    "start_time": "2022-08-29T16:38:00.024Z"
   },
   {
    "duration": 34,
    "start_time": "2022-08-29T16:39:09.717Z"
   },
   {
    "duration": 12,
    "start_time": "2022-08-29T16:40:18.082Z"
   },
   {
    "duration": 10,
    "start_time": "2022-08-29T16:40:29.157Z"
   },
   {
    "duration": 26,
    "start_time": "2022-08-29T16:41:31.226Z"
   },
   {
    "duration": 127,
    "start_time": "2022-08-29T16:41:44.161Z"
   },
   {
    "duration": 17,
    "start_time": "2022-08-29T16:41:44.290Z"
   },
   {
    "duration": 2264,
    "start_time": "2022-08-29T16:41:44.308Z"
   },
   {
    "duration": 291,
    "start_time": "2022-08-29T16:41:46.574Z"
   },
   {
    "duration": 45,
    "start_time": "2022-08-29T16:41:46.867Z"
   },
   {
    "duration": 9,
    "start_time": "2022-08-29T16:41:46.914Z"
   },
   {
    "duration": 73,
    "start_time": "2022-08-29T16:41:46.937Z"
   },
   {
    "duration": 9,
    "start_time": "2022-08-29T16:41:47.012Z"
   },
   {
    "duration": 32,
    "start_time": "2022-08-29T16:41:47.024Z"
   },
   {
    "duration": 30,
    "start_time": "2022-08-29T16:41:47.059Z"
   },
   {
    "duration": 182,
    "start_time": "2022-08-29T16:41:47.092Z"
   },
   {
    "duration": 26,
    "start_time": "2022-08-29T16:41:47.276Z"
   },
   {
    "duration": 991,
    "start_time": "2022-08-29T16:42:56.328Z"
   },
   {
    "duration": 114,
    "start_time": "2022-08-29T16:43:09.302Z"
   },
   {
    "duration": 21,
    "start_time": "2022-08-29T16:43:09.418Z"
   },
   {
    "duration": 2108,
    "start_time": "2022-08-29T16:43:09.444Z"
   },
   {
    "duration": 299,
    "start_time": "2022-08-29T16:43:11.555Z"
   },
   {
    "duration": 30,
    "start_time": "2022-08-29T16:43:11.856Z"
   },
   {
    "duration": 16,
    "start_time": "2022-08-29T16:43:11.887Z"
   },
   {
    "duration": 57,
    "start_time": "2022-08-29T16:43:11.905Z"
   },
   {
    "duration": 8,
    "start_time": "2022-08-29T16:43:11.963Z"
   },
   {
    "duration": 14,
    "start_time": "2022-08-29T16:43:11.973Z"
   },
   {
    "duration": 55,
    "start_time": "2022-08-29T16:43:11.989Z"
   },
   {
    "duration": 174,
    "start_time": "2022-08-29T16:43:12.048Z"
   },
   {
    "duration": 1125,
    "start_time": "2022-08-29T16:43:12.224Z"
   },
   {
    "duration": 10,
    "start_time": "2022-08-29T16:43:50.038Z"
   },
   {
    "duration": 125,
    "start_time": "2022-08-29T16:44:00.732Z"
   },
   {
    "duration": 15,
    "start_time": "2022-08-29T16:44:00.859Z"
   },
   {
    "duration": 3162,
    "start_time": "2022-08-29T16:44:00.876Z"
   },
   {
    "duration": 271,
    "start_time": "2022-08-29T16:44:04.041Z"
   },
   {
    "duration": 49,
    "start_time": "2022-08-29T16:44:04.314Z"
   },
   {
    "duration": 10,
    "start_time": "2022-08-29T16:44:04.365Z"
   },
   {
    "duration": 64,
    "start_time": "2022-08-29T16:44:04.377Z"
   },
   {
    "duration": 11,
    "start_time": "2022-08-29T16:44:04.447Z"
   },
   {
    "duration": 44,
    "start_time": "2022-08-29T16:44:04.460Z"
   },
   {
    "duration": 26,
    "start_time": "2022-08-29T16:44:04.506Z"
   },
   {
    "duration": 160,
    "start_time": "2022-08-29T16:44:04.534Z"
   },
   {
    "duration": 7,
    "start_time": "2022-08-29T16:44:04.695Z"
   },
   {
    "duration": 155,
    "start_time": "2022-08-29T16:44:25.039Z"
   },
   {
    "duration": 175,
    "start_time": "2022-08-29T16:45:33.793Z"
   },
   {
    "duration": 151,
    "start_time": "2022-08-29T16:45:45.935Z"
   },
   {
    "duration": 132,
    "start_time": "2022-08-29T16:45:51.501Z"
   },
   {
    "duration": 296,
    "start_time": "2022-08-29T16:46:22.368Z"
   },
   {
    "duration": 113,
    "start_time": "2022-08-29T16:46:39.473Z"
   },
   {
    "duration": 15,
    "start_time": "2022-08-29T16:46:39.588Z"
   },
   {
    "duration": 2137,
    "start_time": "2022-08-29T16:46:39.605Z"
   },
   {
    "duration": 280,
    "start_time": "2022-08-29T16:46:41.745Z"
   },
   {
    "duration": 39,
    "start_time": "2022-08-29T16:46:42.027Z"
   },
   {
    "duration": 25,
    "start_time": "2022-08-29T16:46:42.068Z"
   },
   {
    "duration": 57,
    "start_time": "2022-08-29T16:46:42.095Z"
   },
   {
    "duration": 11,
    "start_time": "2022-08-29T16:46:42.155Z"
   },
   {
    "duration": 16,
    "start_time": "2022-08-29T16:46:42.168Z"
   },
   {
    "duration": 22,
    "start_time": "2022-08-29T16:46:42.186Z"
   },
   {
    "duration": 170,
    "start_time": "2022-08-29T16:46:42.210Z"
   },
   {
    "duration": 307,
    "start_time": "2022-08-29T16:46:42.381Z"
   },
   {
    "duration": 191,
    "start_time": "2022-08-29T16:52:42.077Z"
   },
   {
    "duration": 300,
    "start_time": "2022-08-29T16:53:53.807Z"
   },
   {
    "duration": 157,
    "start_time": "2022-08-29T16:54:02.847Z"
   },
   {
    "duration": 146,
    "start_time": "2022-08-29T16:54:54.432Z"
   },
   {
    "duration": 160,
    "start_time": "2022-08-29T16:55:23.173Z"
   },
   {
    "duration": 10,
    "start_time": "2022-08-29T16:55:55.561Z"
   },
   {
    "duration": 204,
    "start_time": "2022-08-29T16:56:02.755Z"
   },
   {
    "duration": 140,
    "start_time": "2022-08-29T16:56:37.390Z"
   },
   {
    "duration": 36,
    "start_time": "2022-08-29T16:57:28.755Z"
   },
   {
    "duration": 164,
    "start_time": "2022-08-29T16:58:09.690Z"
   },
   {
    "duration": 224,
    "start_time": "2022-08-29T16:58:43.034Z"
   },
   {
    "duration": 152,
    "start_time": "2022-08-29T16:58:56.976Z"
   },
   {
    "duration": 169,
    "start_time": "2022-08-29T17:00:17.293Z"
   },
   {
    "duration": 8,
    "start_time": "2022-08-29T17:00:56.551Z"
   },
   {
    "duration": 155,
    "start_time": "2022-08-29T17:02:12.417Z"
   },
   {
    "duration": 155,
    "start_time": "2022-08-29T17:02:50.807Z"
   },
   {
    "duration": 216,
    "start_time": "2022-08-29T17:03:18.829Z"
   },
   {
    "duration": 312,
    "start_time": "2022-08-29T17:03:39.759Z"
   },
   {
    "duration": 170,
    "start_time": "2022-08-29T17:03:47.399Z"
   },
   {
    "duration": 204,
    "start_time": "2022-08-29T17:03:58.825Z"
   },
   {
    "duration": 138,
    "start_time": "2022-08-29T17:04:07.056Z"
   },
   {
    "duration": 150,
    "start_time": "2022-08-29T17:04:13.786Z"
   },
   {
    "duration": 167,
    "start_time": "2022-08-29T17:04:40.110Z"
   },
   {
    "duration": 235,
    "start_time": "2022-08-29T17:04:57.029Z"
   },
   {
    "duration": 26,
    "start_time": "2022-08-29T18:01:14.016Z"
   },
   {
    "duration": 25,
    "start_time": "2022-08-29T18:01:48.531Z"
   },
   {
    "duration": 30,
    "start_time": "2022-08-29T18:20:04.417Z"
   },
   {
    "duration": 32,
    "start_time": "2022-08-29T18:20:33.209Z"
   },
   {
    "duration": 6,
    "start_time": "2022-08-29T18:20:56.602Z"
   },
   {
    "duration": 11,
    "start_time": "2022-08-29T18:23:04.478Z"
   },
   {
    "duration": 11,
    "start_time": "2022-08-29T18:24:27.043Z"
   },
   {
    "duration": 9,
    "start_time": "2022-08-29T18:36:27.266Z"
   },
   {
    "duration": 136,
    "start_time": "2022-08-29T18:36:31.779Z"
   },
   {
    "duration": 13,
    "start_time": "2022-08-29T18:36:31.918Z"
   },
   {
    "duration": 1971,
    "start_time": "2022-08-29T18:36:31.938Z"
   },
   {
    "duration": 256,
    "start_time": "2022-08-29T18:36:33.911Z"
   },
   {
    "duration": 30,
    "start_time": "2022-08-29T18:36:34.169Z"
   },
   {
    "duration": 8,
    "start_time": "2022-08-29T18:36:34.201Z"
   },
   {
    "duration": 67,
    "start_time": "2022-08-29T18:36:34.211Z"
   },
   {
    "duration": 8,
    "start_time": "2022-08-29T18:36:34.279Z"
   },
   {
    "duration": 13,
    "start_time": "2022-08-29T18:36:34.289Z"
   },
   {
    "duration": 55,
    "start_time": "2022-08-29T18:36:34.303Z"
   },
   {
    "duration": 139,
    "start_time": "2022-08-29T18:36:34.360Z"
   },
   {
    "duration": 150,
    "start_time": "2022-08-29T18:36:34.501Z"
   },
   {
    "duration": 10,
    "start_time": "2022-08-29T18:36:34.653Z"
   },
   {
    "duration": 10,
    "start_time": "2022-08-29T18:41:43.222Z"
   },
   {
    "duration": 10,
    "start_time": "2022-08-29T18:41:44.194Z"
   },
   {
    "duration": 141,
    "start_time": "2022-08-29T18:41:48.834Z"
   },
   {
    "duration": 17,
    "start_time": "2022-08-29T18:41:48.978Z"
   },
   {
    "duration": 2020,
    "start_time": "2022-08-29T18:41:48.998Z"
   },
   {
    "duration": 261,
    "start_time": "2022-08-29T18:41:51.021Z"
   },
   {
    "duration": 33,
    "start_time": "2022-08-29T18:41:51.284Z"
   },
   {
    "duration": 24,
    "start_time": "2022-08-29T18:41:51.319Z"
   },
   {
    "duration": 49,
    "start_time": "2022-08-29T18:41:51.346Z"
   },
   {
    "duration": 8,
    "start_time": "2022-08-29T18:41:51.397Z"
   },
   {
    "duration": 40,
    "start_time": "2022-08-29T18:41:51.406Z"
   },
   {
    "duration": 24,
    "start_time": "2022-08-29T18:41:51.448Z"
   },
   {
    "duration": 149,
    "start_time": "2022-08-29T18:41:51.474Z"
   },
   {
    "duration": 171,
    "start_time": "2022-08-29T18:41:51.625Z"
   },
   {
    "duration": 10,
    "start_time": "2022-08-29T18:41:51.797Z"
   },
   {
    "duration": 6,
    "start_time": "2022-08-29T18:43:05.217Z"
   },
   {
    "duration": 8,
    "start_time": "2022-08-29T18:43:46.372Z"
   },
   {
    "duration": 5,
    "start_time": "2022-08-29T18:43:56.625Z"
   },
   {
    "duration": 4,
    "start_time": "2022-08-29T18:44:35.091Z"
   },
   {
    "duration": 4,
    "start_time": "2022-08-29T18:44:45.580Z"
   },
   {
    "duration": 134,
    "start_time": "2022-08-29T18:45:29.007Z"
   },
   {
    "duration": 15,
    "start_time": "2022-08-29T18:45:29.143Z"
   },
   {
    "duration": 2023,
    "start_time": "2022-08-29T18:45:29.160Z"
   },
   {
    "duration": 261,
    "start_time": "2022-08-29T18:45:31.185Z"
   },
   {
    "duration": 29,
    "start_time": "2022-08-29T18:45:31.448Z"
   },
   {
    "duration": 8,
    "start_time": "2022-08-29T18:45:31.479Z"
   },
   {
    "duration": 69,
    "start_time": "2022-08-29T18:45:31.489Z"
   },
   {
    "duration": 8,
    "start_time": "2022-08-29T18:45:31.559Z"
   },
   {
    "duration": 19,
    "start_time": "2022-08-29T18:45:31.569Z"
   },
   {
    "duration": 23,
    "start_time": "2022-08-29T18:45:31.590Z"
   },
   {
    "duration": 163,
    "start_time": "2022-08-29T18:45:31.614Z"
   },
   {
    "duration": 151,
    "start_time": "2022-08-29T18:45:31.778Z"
   },
   {
    "duration": 8,
    "start_time": "2022-08-29T18:45:31.931Z"
   },
   {
    "duration": 743,
    "start_time": "2022-08-29T18:45:31.941Z"
   },
   {
    "duration": 748,
    "start_time": "2022-08-29T18:45:43.392Z"
   },
   {
    "duration": 815,
    "start_time": "2022-08-29T18:46:47.888Z"
   },
   {
    "duration": 9,
    "start_time": "2022-08-29T18:51:03.754Z"
   },
   {
    "duration": 122,
    "start_time": "2022-08-29T18:51:11.169Z"
   },
   {
    "duration": 14,
    "start_time": "2022-08-29T18:51:11.293Z"
   },
   {
    "duration": 1991,
    "start_time": "2022-08-29T18:51:11.308Z"
   },
   {
    "duration": 254,
    "start_time": "2022-08-29T18:51:13.301Z"
   },
   {
    "duration": 30,
    "start_time": "2022-08-29T18:51:13.557Z"
   },
   {
    "duration": 11,
    "start_time": "2022-08-29T18:51:13.588Z"
   },
   {
    "duration": 65,
    "start_time": "2022-08-29T18:51:13.601Z"
   },
   {
    "duration": 11,
    "start_time": "2022-08-29T18:51:13.668Z"
   },
   {
    "duration": 19,
    "start_time": "2022-08-29T18:51:13.681Z"
   },
   {
    "duration": 56,
    "start_time": "2022-08-29T18:51:13.703Z"
   },
   {
    "duration": 144,
    "start_time": "2022-08-29T18:51:13.761Z"
   },
   {
    "duration": 154,
    "start_time": "2022-08-29T18:51:13.906Z"
   },
   {
    "duration": 5,
    "start_time": "2022-08-29T18:51:14.062Z"
   },
   {
    "duration": 11,
    "start_time": "2022-08-29T18:51:14.069Z"
   },
   {
    "duration": 784,
    "start_time": "2022-08-29T18:51:23.927Z"
   },
   {
    "duration": 30,
    "start_time": "2022-08-29T18:53:59.767Z"
   },
   {
    "duration": 9,
    "start_time": "2022-08-29T18:54:17.896Z"
   },
   {
    "duration": 30,
    "start_time": "2022-08-29T18:54:24.642Z"
   },
   {
    "duration": 9,
    "start_time": "2022-08-29T18:55:05.443Z"
   },
   {
    "duration": 29,
    "start_time": "2022-08-29T18:55:24.474Z"
   },
   {
    "duration": 16,
    "start_time": "2022-08-29T18:56:20.335Z"
   },
   {
    "duration": 32,
    "start_time": "2022-08-29T18:56:58.347Z"
   },
   {
    "duration": 9,
    "start_time": "2022-08-29T18:58:11.301Z"
   },
   {
    "duration": 9,
    "start_time": "2022-08-29T18:58:28.360Z"
   },
   {
    "duration": 11,
    "start_time": "2022-08-29T18:59:51.330Z"
   },
   {
    "duration": 11,
    "start_time": "2022-08-29T19:00:09.958Z"
   },
   {
    "duration": 11,
    "start_time": "2022-08-29T19:00:10.900Z"
   },
   {
    "duration": 11,
    "start_time": "2022-08-29T19:09:50.415Z"
   },
   {
    "duration": 30,
    "start_time": "2022-08-29T19:12:02.366Z"
   },
   {
    "duration": 8,
    "start_time": "2022-08-29T19:12:06.837Z"
   },
   {
    "duration": 22,
    "start_time": "2022-08-29T19:12:48.555Z"
   },
   {
    "duration": 117,
    "start_time": "2022-08-29T19:14:14.277Z"
   },
   {
    "duration": 13,
    "start_time": "2022-08-29T19:14:14.396Z"
   },
   {
    "duration": 2017,
    "start_time": "2022-08-29T19:14:14.410Z"
   },
   {
    "duration": 260,
    "start_time": "2022-08-29T19:14:16.429Z"
   },
   {
    "duration": 30,
    "start_time": "2022-08-29T19:14:16.692Z"
   },
   {
    "duration": 27,
    "start_time": "2022-08-29T19:14:16.723Z"
   },
   {
    "duration": 51,
    "start_time": "2022-08-29T19:14:16.753Z"
   },
   {
    "duration": 7,
    "start_time": "2022-08-29T19:14:16.806Z"
   },
   {
    "duration": 35,
    "start_time": "2022-08-29T19:14:16.814Z"
   },
   {
    "duration": 26,
    "start_time": "2022-08-29T19:14:16.852Z"
   },
   {
    "duration": 172,
    "start_time": "2022-08-29T19:14:16.880Z"
   },
   {
    "duration": 155,
    "start_time": "2022-08-29T19:14:17.054Z"
   },
   {
    "duration": 32,
    "start_time": "2022-08-29T19:14:17.211Z"
   },
   {
    "duration": 5,
    "start_time": "2022-08-29T19:14:49.250Z"
   },
   {
    "duration": 10,
    "start_time": "2022-08-29T19:15:37.791Z"
   },
   {
    "duration": 11,
    "start_time": "2022-08-29T19:16:29.661Z"
   },
   {
    "duration": 1054,
    "start_time": "2022-08-29T19:17:08.779Z"
   },
   {
    "duration": 963,
    "start_time": "2022-08-29T19:17:35.830Z"
   },
   {
    "duration": 10,
    "start_time": "2022-08-29T19:18:01.489Z"
   },
   {
    "duration": 615,
    "start_time": "2022-08-29T19:21:01.468Z"
   },
   {
    "duration": 10,
    "start_time": "2022-08-29T19:21:35.959Z"
   },
   {
    "duration": 373,
    "start_time": "2022-08-29T19:21:46.769Z"
   },
   {
    "duration": 48,
    "start_time": "2022-08-30T06:06:57.220Z"
   },
   {
    "duration": 659,
    "start_time": "2022-08-30T06:07:01.537Z"
   },
   {
    "duration": 16,
    "start_time": "2022-08-30T06:07:02.199Z"
   },
   {
    "duration": 2622,
    "start_time": "2022-08-30T06:07:02.217Z"
   },
   {
    "duration": 270,
    "start_time": "2022-08-30T06:07:04.843Z"
   },
   {
    "duration": 33,
    "start_time": "2022-08-30T06:07:05.116Z"
   },
   {
    "duration": 13,
    "start_time": "2022-08-30T06:07:05.151Z"
   },
   {
    "duration": 69,
    "start_time": "2022-08-30T06:07:05.167Z"
   },
   {
    "duration": 8,
    "start_time": "2022-08-30T06:07:05.238Z"
   },
   {
    "duration": 15,
    "start_time": "2022-08-30T06:07:05.247Z"
   },
   {
    "duration": 49,
    "start_time": "2022-08-30T06:07:05.264Z"
   },
   {
    "duration": 175,
    "start_time": "2022-08-30T06:07:05.315Z"
   },
   {
    "duration": 16,
    "start_time": "2022-08-30T06:07:05.492Z"
   },
   {
    "duration": 9,
    "start_time": "2022-08-30T06:08:08.934Z"
   },
   {
    "duration": 45,
    "start_time": "2022-08-30T07:24:53.917Z"
   },
   {
    "duration": 7,
    "start_time": "2022-08-30T07:25:22.050Z"
   },
   {
    "duration": 29,
    "start_time": "2022-08-30T07:26:50.154Z"
   },
   {
    "duration": 6,
    "start_time": "2022-08-30T07:27:41.627Z"
   },
   {
    "duration": 9,
    "start_time": "2022-08-30T07:28:00.535Z"
   },
   {
    "duration": 5,
    "start_time": "2022-08-30T07:28:08.248Z"
   },
   {
    "duration": 7,
    "start_time": "2022-08-30T07:28:30.791Z"
   },
   {
    "duration": 6,
    "start_time": "2022-08-30T07:29:08.120Z"
   },
   {
    "duration": 4347,
    "start_time": "2022-08-30T07:29:28.435Z"
   },
   {
    "duration": 3784,
    "start_time": "2022-08-30T07:30:27.238Z"
   },
   {
    "duration": 3950,
    "start_time": "2022-08-30T07:30:41.479Z"
   },
   {
    "duration": 124,
    "start_time": "2022-08-30T07:44:01.531Z"
   },
   {
    "duration": 14,
    "start_time": "2022-08-30T07:44:01.657Z"
   },
   {
    "duration": 2295,
    "start_time": "2022-08-30T07:44:01.673Z"
   },
   {
    "duration": 289,
    "start_time": "2022-08-30T07:44:03.971Z"
   },
   {
    "duration": 42,
    "start_time": "2022-08-30T07:44:04.262Z"
   },
   {
    "duration": 10,
    "start_time": "2022-08-30T07:44:04.306Z"
   },
   {
    "duration": 51,
    "start_time": "2022-08-30T07:44:04.317Z"
   },
   {
    "duration": 29,
    "start_time": "2022-08-30T07:44:04.369Z"
   },
   {
    "duration": 15,
    "start_time": "2022-08-30T07:44:04.400Z"
   },
   {
    "duration": 29,
    "start_time": "2022-08-30T07:44:04.419Z"
   },
   {
    "duration": 189,
    "start_time": "2022-08-30T07:44:04.450Z"
   },
   {
    "duration": 5,
    "start_time": "2022-08-30T07:44:04.641Z"
   },
   {
    "duration": 3896,
    "start_time": "2022-08-30T07:44:04.648Z"
   },
   {
    "duration": 599,
    "start_time": "2022-08-30T07:47:34.204Z"
   },
   {
    "duration": 7952,
    "start_time": "2022-08-30T07:48:37.381Z"
   },
   {
    "duration": 115,
    "start_time": "2022-08-30T08:00:09.037Z"
   },
   {
    "duration": 16,
    "start_time": "2022-08-30T08:00:09.154Z"
   },
   {
    "duration": 2309,
    "start_time": "2022-08-30T08:00:09.172Z"
   },
   {
    "duration": 267,
    "start_time": "2022-08-30T08:00:11.483Z"
   },
   {
    "duration": 40,
    "start_time": "2022-08-30T08:00:11.752Z"
   },
   {
    "duration": 13,
    "start_time": "2022-08-30T08:00:11.794Z"
   },
   {
    "duration": 86,
    "start_time": "2022-08-30T08:00:11.809Z"
   },
   {
    "duration": 12,
    "start_time": "2022-08-30T08:00:11.898Z"
   },
   {
    "duration": 25,
    "start_time": "2022-08-30T08:00:11.912Z"
   },
   {
    "duration": 56,
    "start_time": "2022-08-30T08:00:11.939Z"
   },
   {
    "duration": 207,
    "start_time": "2022-08-30T08:00:11.997Z"
   },
   {
    "duration": 5,
    "start_time": "2022-08-30T08:00:12.206Z"
   },
   {
    "duration": 25784,
    "start_time": "2022-08-30T08:00:12.212Z"
   },
   {
    "duration": 24480,
    "start_time": "2022-08-30T08:03:41.838Z"
   },
   {
    "duration": 23464,
    "start_time": "2022-08-30T08:09:23.110Z"
   },
   {
    "duration": 27975,
    "start_time": "2022-08-30T08:10:34.730Z"
   },
   {
    "duration": 115,
    "start_time": "2022-08-30T08:38:41.115Z"
   },
   {
    "duration": 14,
    "start_time": "2022-08-30T08:38:41.232Z"
   },
   {
    "duration": 2303,
    "start_time": "2022-08-30T08:38:41.248Z"
   },
   {
    "duration": 293,
    "start_time": "2022-08-30T08:38:43.552Z"
   },
   {
    "duration": 33,
    "start_time": "2022-08-30T08:38:43.847Z"
   },
   {
    "duration": 10,
    "start_time": "2022-08-30T08:38:43.892Z"
   },
   {
    "duration": 77,
    "start_time": "2022-08-30T08:38:43.903Z"
   },
   {
    "duration": 15,
    "start_time": "2022-08-30T08:38:43.982Z"
   },
   {
    "duration": 18,
    "start_time": "2022-08-30T08:38:44.000Z"
   },
   {
    "duration": 25,
    "start_time": "2022-08-30T08:38:44.020Z"
   },
   {
    "duration": 203,
    "start_time": "2022-08-30T08:38:44.046Z"
   },
   {
    "duration": 5,
    "start_time": "2022-08-30T08:38:44.251Z"
   },
   {
    "duration": 21,
    "start_time": "2022-08-30T08:38:44.258Z"
   },
   {
    "duration": 123,
    "start_time": "2022-08-30T08:39:12.469Z"
   },
   {
    "duration": 15,
    "start_time": "2022-08-30T08:39:12.594Z"
   },
   {
    "duration": 2312,
    "start_time": "2022-08-30T08:39:12.611Z"
   },
   {
    "duration": 283,
    "start_time": "2022-08-30T08:39:14.926Z"
   },
   {
    "duration": 32,
    "start_time": "2022-08-30T08:39:15.212Z"
   },
   {
    "duration": 9,
    "start_time": "2022-08-30T08:39:15.246Z"
   },
   {
    "duration": 71,
    "start_time": "2022-08-30T08:39:15.257Z"
   },
   {
    "duration": 8,
    "start_time": "2022-08-30T08:39:15.330Z"
   },
   {
    "duration": 22,
    "start_time": "2022-08-30T08:39:15.340Z"
   },
   {
    "duration": 47,
    "start_time": "2022-08-30T08:39:15.364Z"
   },
   {
    "duration": 172,
    "start_time": "2022-08-30T08:39:15.413Z"
   },
   {
    "duration": 9,
    "start_time": "2022-08-30T08:39:15.586Z"
   },
   {
    "duration": 17,
    "start_time": "2022-08-30T08:39:15.596Z"
   },
   {
    "duration": 25006,
    "start_time": "2022-08-30T08:39:23.432Z"
   },
   {
    "duration": 26627,
    "start_time": "2022-08-30T08:40:20.240Z"
   },
   {
    "duration": 26633,
    "start_time": "2022-08-30T08:41:33.726Z"
   },
   {
    "duration": 26994,
    "start_time": "2022-08-30T08:42:34.268Z"
   },
   {
    "duration": 26404,
    "start_time": "2022-08-30T08:43:24.564Z"
   },
   {
    "duration": 26398,
    "start_time": "2022-08-30T08:47:07.764Z"
   },
   {
    "duration": 1002,
    "start_time": "2022-08-30T08:48:05.940Z"
   },
   {
    "duration": 1210,
    "start_time": "2022-08-30T08:49:00.295Z"
   },
   {
    "duration": 121,
    "start_time": "2022-08-30T08:49:17.058Z"
   },
   {
    "duration": 16,
    "start_time": "2022-08-30T08:49:17.191Z"
   },
   {
    "duration": 2389,
    "start_time": "2022-08-30T08:49:17.209Z"
   },
   {
    "duration": 291,
    "start_time": "2022-08-30T08:49:19.601Z"
   },
   {
    "duration": 32,
    "start_time": "2022-08-30T08:49:19.894Z"
   },
   {
    "duration": 9,
    "start_time": "2022-08-30T08:49:19.928Z"
   },
   {
    "duration": 78,
    "start_time": "2022-08-30T08:49:19.939Z"
   },
   {
    "duration": 9,
    "start_time": "2022-08-30T08:49:20.020Z"
   },
   {
    "duration": 15,
    "start_time": "2022-08-30T08:49:20.031Z"
   },
   {
    "duration": 47,
    "start_time": "2022-08-30T08:49:20.049Z"
   },
   {
    "duration": 170,
    "start_time": "2022-08-30T08:49:20.098Z"
   },
   {
    "duration": 5,
    "start_time": "2022-08-30T08:49:20.269Z"
   },
   {
    "duration": 25273,
    "start_time": "2022-08-30T08:49:20.276Z"
   },
   {
    "duration": 13,
    "start_time": "2022-08-30T08:53:18.413Z"
   },
   {
    "duration": 123,
    "start_time": "2022-08-30T08:53:52.272Z"
   },
   {
    "duration": 16,
    "start_time": "2022-08-30T08:53:52.397Z"
   },
   {
    "duration": 2220,
    "start_time": "2022-08-30T08:53:52.415Z"
   },
   {
    "duration": 278,
    "start_time": "2022-08-30T08:53:54.638Z"
   },
   {
    "duration": 31,
    "start_time": "2022-08-30T08:53:54.918Z"
   },
   {
    "duration": 8,
    "start_time": "2022-08-30T08:53:54.951Z"
   },
   {
    "duration": 69,
    "start_time": "2022-08-30T08:53:54.961Z"
   },
   {
    "duration": 9,
    "start_time": "2022-08-30T08:53:55.031Z"
   },
   {
    "duration": 15,
    "start_time": "2022-08-30T08:53:55.042Z"
   },
   {
    "duration": 51,
    "start_time": "2022-08-30T08:53:55.059Z"
   },
   {
    "duration": 186,
    "start_time": "2022-08-30T08:53:55.115Z"
   },
   {
    "duration": 5,
    "start_time": "2022-08-30T08:53:55.303Z"
   },
   {
    "duration": 15,
    "start_time": "2022-08-30T08:53:55.310Z"
   },
   {
    "duration": 33232,
    "start_time": "2022-08-30T08:55:22.896Z"
   },
   {
    "duration": 33371,
    "start_time": "2022-08-30T08:56:52.288Z"
   },
   {
    "duration": 114,
    "start_time": "2022-08-30T09:02:04.034Z"
   },
   {
    "duration": 16,
    "start_time": "2022-08-30T09:02:04.150Z"
   },
   {
    "duration": 2359,
    "start_time": "2022-08-30T09:02:04.168Z"
   },
   {
    "duration": 275,
    "start_time": "2022-08-30T09:02:06.529Z"
   },
   {
    "duration": 32,
    "start_time": "2022-08-30T09:02:06.806Z"
   },
   {
    "duration": 24,
    "start_time": "2022-08-30T09:02:06.840Z"
   },
   {
    "duration": 63,
    "start_time": "2022-08-30T09:02:06.866Z"
   },
   {
    "duration": 8,
    "start_time": "2022-08-30T09:02:06.931Z"
   },
   {
    "duration": 22,
    "start_time": "2022-08-30T09:02:06.941Z"
   },
   {
    "duration": 42,
    "start_time": "2022-08-30T09:02:06.966Z"
   },
   {
    "duration": 186,
    "start_time": "2022-08-30T09:02:07.010Z"
   },
   {
    "duration": 5,
    "start_time": "2022-08-30T09:02:07.198Z"
   },
   {
    "duration": 32990,
    "start_time": "2022-08-30T09:02:07.204Z"
   },
   {
    "duration": 13,
    "start_time": "2022-08-30T09:02:40.196Z"
   },
   {
    "duration": 1337,
    "start_time": "2022-08-30T09:04:44.760Z"
   },
   {
    "duration": 749,
    "start_time": "2022-08-30T09:06:33.620Z"
   },
   {
    "duration": 119,
    "start_time": "2022-08-30T09:06:41.595Z"
   },
   {
    "duration": 14,
    "start_time": "2022-08-30T09:06:41.716Z"
   },
   {
    "duration": 2163,
    "start_time": "2022-08-30T09:06:41.732Z"
   },
   {
    "duration": 279,
    "start_time": "2022-08-30T09:06:43.898Z"
   },
   {
    "duration": 34,
    "start_time": "2022-08-30T09:06:44.179Z"
   },
   {
    "duration": 8,
    "start_time": "2022-08-30T09:06:44.215Z"
   },
   {
    "duration": 49,
    "start_time": "2022-08-30T09:06:44.224Z"
   },
   {
    "duration": 24,
    "start_time": "2022-08-30T09:06:44.274Z"
   },
   {
    "duration": 13,
    "start_time": "2022-08-30T09:06:44.299Z"
   },
   {
    "duration": 24,
    "start_time": "2022-08-30T09:06:44.315Z"
   },
   {
    "duration": 191,
    "start_time": "2022-08-30T09:06:44.340Z"
   },
   {
    "duration": 5,
    "start_time": "2022-08-30T09:06:44.533Z"
   },
   {
    "duration": 0,
    "start_time": "2022-08-30T09:07:18.400Z"
   },
   {
    "duration": 0,
    "start_time": "2022-08-30T09:07:18.401Z"
   },
   {
    "duration": 0,
    "start_time": "2022-08-30T09:07:18.402Z"
   },
   {
    "duration": 0,
    "start_time": "2022-08-30T09:07:18.403Z"
   },
   {
    "duration": 0,
    "start_time": "2022-08-30T09:07:18.404Z"
   },
   {
    "duration": 0,
    "start_time": "2022-08-30T09:07:18.405Z"
   },
   {
    "duration": 0,
    "start_time": "2022-08-30T09:07:18.406Z"
   },
   {
    "duration": 0,
    "start_time": "2022-08-30T09:07:18.407Z"
   },
   {
    "duration": 0,
    "start_time": "2022-08-30T09:07:18.408Z"
   },
   {
    "duration": 0,
    "start_time": "2022-08-30T09:07:18.409Z"
   },
   {
    "duration": 0,
    "start_time": "2022-08-30T09:07:18.411Z"
   },
   {
    "duration": 0,
    "start_time": "2022-08-30T09:07:18.412Z"
   },
   {
    "duration": 0,
    "start_time": "2022-08-30T09:07:18.413Z"
   },
   {
    "duration": 0,
    "start_time": "2022-08-30T09:07:18.414Z"
   },
   {
    "duration": 121,
    "start_time": "2022-08-30T09:07:53.074Z"
   },
   {
    "duration": 15,
    "start_time": "2022-08-30T09:07:53.198Z"
   },
   {
    "duration": 2518,
    "start_time": "2022-08-30T09:07:53.215Z"
   },
   {
    "duration": 288,
    "start_time": "2022-08-30T09:07:55.735Z"
   },
   {
    "duration": 32,
    "start_time": "2022-08-30T09:07:56.025Z"
   },
   {
    "duration": 9,
    "start_time": "2022-08-30T09:07:56.058Z"
   },
   {
    "duration": 69,
    "start_time": "2022-08-30T09:07:56.068Z"
   },
   {
    "duration": 8,
    "start_time": "2022-08-30T09:07:56.139Z"
   },
   {
    "duration": 14,
    "start_time": "2022-08-30T09:07:56.149Z"
   },
   {
    "duration": 48,
    "start_time": "2022-08-30T09:07:56.165Z"
   },
   {
    "duration": 180,
    "start_time": "2022-08-30T09:07:56.214Z"
   },
   {
    "duration": 5,
    "start_time": "2022-08-30T09:07:56.396Z"
   },
   {
    "duration": 32902,
    "start_time": "2022-08-30T09:07:56.403Z"
   },
   {
    "duration": 769,
    "start_time": "2022-08-30T09:08:29.306Z"
   },
   {
    "duration": 15,
    "start_time": "2022-08-30T09:09:39.506Z"
   },
   {
    "duration": 120,
    "start_time": "2022-08-30T09:11:50.144Z"
   },
   {
    "duration": 29,
    "start_time": "2022-08-30T09:11:50.266Z"
   },
   {
    "duration": 2206,
    "start_time": "2022-08-30T09:11:50.297Z"
   },
   {
    "duration": 295,
    "start_time": "2022-08-30T09:11:52.506Z"
   },
   {
    "duration": 33,
    "start_time": "2022-08-30T09:11:52.802Z"
   },
   {
    "duration": 12,
    "start_time": "2022-08-30T09:11:52.836Z"
   },
   {
    "duration": 78,
    "start_time": "2022-08-30T09:11:52.850Z"
   },
   {
    "duration": 9,
    "start_time": "2022-08-30T09:11:52.930Z"
   },
   {
    "duration": 44,
    "start_time": "2022-08-30T09:11:52.940Z"
   },
   {
    "duration": 40,
    "start_time": "2022-08-30T09:11:52.987Z"
   },
   {
    "duration": 175,
    "start_time": "2022-08-30T09:11:53.030Z"
   },
   {
    "duration": 5,
    "start_time": "2022-08-30T09:11:53.207Z"
   },
   {
    "duration": 33698,
    "start_time": "2022-08-30T09:11:53.214Z"
   },
   {
    "duration": 14,
    "start_time": "2022-08-30T09:12:26.914Z"
   },
   {
    "duration": 18,
    "start_time": "2022-08-30T09:15:30.140Z"
   },
   {
    "duration": 11,
    "start_time": "2022-08-30T09:16:15.642Z"
   },
   {
    "duration": 10,
    "start_time": "2022-08-30T09:16:16.504Z"
   },
   {
    "duration": 163,
    "start_time": "2022-08-30T09:16:21.931Z"
   },
   {
    "duration": 23,
    "start_time": "2022-08-30T09:16:22.096Z"
   },
   {
    "duration": 2207,
    "start_time": "2022-08-30T09:16:22.121Z"
   },
   {
    "duration": 625,
    "start_time": "2022-08-30T09:16:24.330Z"
   },
   {
    "duration": 36,
    "start_time": "2022-08-30T09:16:24.957Z"
   },
   {
    "duration": 8,
    "start_time": "2022-08-30T09:16:24.995Z"
   },
   {
    "duration": 53,
    "start_time": "2022-08-30T09:16:25.005Z"
   },
   {
    "duration": 10,
    "start_time": "2022-08-30T09:16:25.060Z"
   },
   {
    "duration": 14,
    "start_time": "2022-08-30T09:16:25.093Z"
   },
   {
    "duration": 26,
    "start_time": "2022-08-30T09:16:25.109Z"
   },
   {
    "duration": 192,
    "start_time": "2022-08-30T09:16:25.136Z"
   },
   {
    "duration": 5,
    "start_time": "2022-08-30T09:16:25.330Z"
   },
   {
    "duration": 32706,
    "start_time": "2022-08-30T09:16:25.337Z"
   },
   {
    "duration": 12,
    "start_time": "2022-08-30T09:16:58.045Z"
   },
   {
    "duration": 14,
    "start_time": "2022-08-30T09:17:26.568Z"
   },
   {
    "duration": 145,
    "start_time": "2022-08-30T09:17:42.656Z"
   },
   {
    "duration": 15,
    "start_time": "2022-08-30T09:17:42.802Z"
   },
   {
    "duration": 2150,
    "start_time": "2022-08-30T09:17:42.819Z"
   },
   {
    "duration": 298,
    "start_time": "2022-08-30T09:17:44.972Z"
   },
   {
    "duration": 39,
    "start_time": "2022-08-30T09:17:45.272Z"
   },
   {
    "duration": 9,
    "start_time": "2022-08-30T09:17:45.313Z"
   },
   {
    "duration": 69,
    "start_time": "2022-08-30T09:17:45.324Z"
   },
   {
    "duration": 9,
    "start_time": "2022-08-30T09:17:45.395Z"
   },
   {
    "duration": 14,
    "start_time": "2022-08-30T09:17:45.406Z"
   },
   {
    "duration": 26,
    "start_time": "2022-08-30T09:17:45.423Z"
   },
   {
    "duration": 200,
    "start_time": "2022-08-30T09:17:45.451Z"
   },
   {
    "duration": 6,
    "start_time": "2022-08-30T09:17:45.652Z"
   },
   {
    "duration": 32781,
    "start_time": "2022-08-30T09:17:45.659Z"
   },
   {
    "duration": 15,
    "start_time": "2022-08-30T09:18:18.442Z"
   },
   {
    "duration": 13,
    "start_time": "2022-08-30T09:19:11.493Z"
   },
   {
    "duration": 123,
    "start_time": "2022-08-30T09:19:17.707Z"
   },
   {
    "duration": 17,
    "start_time": "2022-08-30T09:19:17.832Z"
   },
   {
    "duration": 2164,
    "start_time": "2022-08-30T09:19:17.851Z"
   },
   {
    "duration": 285,
    "start_time": "2022-08-30T09:19:20.018Z"
   },
   {
    "duration": 32,
    "start_time": "2022-08-30T09:19:20.305Z"
   },
   {
    "duration": 14,
    "start_time": "2022-08-30T09:19:20.339Z"
   },
   {
    "duration": 70,
    "start_time": "2022-08-30T09:19:20.355Z"
   },
   {
    "duration": 9,
    "start_time": "2022-08-30T09:19:20.426Z"
   },
   {
    "duration": 14,
    "start_time": "2022-08-30T09:19:20.436Z"
   },
   {
    "duration": 49,
    "start_time": "2022-08-30T09:19:20.453Z"
   },
   {
    "duration": 162,
    "start_time": "2022-08-30T09:19:20.504Z"
   },
   {
    "duration": 4,
    "start_time": "2022-08-30T09:19:20.668Z"
   },
   {
    "duration": 31939,
    "start_time": "2022-08-30T09:19:20.674Z"
   },
   {
    "duration": 14,
    "start_time": "2022-08-30T09:19:52.615Z"
   },
   {
    "duration": 1244,
    "start_time": "2022-08-30T09:22:55.952Z"
   },
   {
    "duration": 946,
    "start_time": "2022-08-30T09:28:17.024Z"
   },
   {
    "duration": 116,
    "start_time": "2022-08-30T09:28:23.991Z"
   },
   {
    "duration": 13,
    "start_time": "2022-08-30T09:28:24.109Z"
   },
   {
    "duration": 2062,
    "start_time": "2022-08-30T09:28:24.124Z"
   },
   {
    "duration": 699,
    "start_time": "2022-08-30T09:28:26.188Z"
   },
   {
    "duration": 34,
    "start_time": "2022-08-30T09:28:26.891Z"
   },
   {
    "duration": 8,
    "start_time": "2022-08-30T09:28:26.927Z"
   },
   {
    "duration": 70,
    "start_time": "2022-08-30T09:28:26.937Z"
   },
   {
    "duration": 9,
    "start_time": "2022-08-30T09:28:27.009Z"
   },
   {
    "duration": 14,
    "start_time": "2022-08-30T09:28:27.019Z"
   },
   {
    "duration": 25,
    "start_time": "2022-08-30T09:28:27.036Z"
   },
   {
    "duration": 200,
    "start_time": "2022-08-30T09:28:27.063Z"
   },
   {
    "duration": 5,
    "start_time": "2022-08-30T09:28:27.265Z"
   },
   {
    "duration": 33008,
    "start_time": "2022-08-30T09:28:27.271Z"
   },
   {
    "duration": 945,
    "start_time": "2022-08-30T09:29:00.281Z"
   },
   {
    "duration": 1382,
    "start_time": "2022-08-30T09:31:37.586Z"
   },
   {
    "duration": 732,
    "start_time": "2022-08-30T09:32:10.882Z"
   },
   {
    "duration": 143,
    "start_time": "2022-08-30T09:32:31.896Z"
   },
   {
    "duration": 22,
    "start_time": "2022-08-30T09:32:32.041Z"
   },
   {
    "duration": 2130,
    "start_time": "2022-08-30T09:32:32.065Z"
   },
   {
    "duration": 281,
    "start_time": "2022-08-30T09:32:34.198Z"
   },
   {
    "duration": 32,
    "start_time": "2022-08-30T09:32:34.481Z"
   },
   {
    "duration": 11,
    "start_time": "2022-08-30T09:32:34.515Z"
   },
   {
    "duration": 64,
    "start_time": "2022-08-30T09:32:34.528Z"
   },
   {
    "duration": 9,
    "start_time": "2022-08-30T09:32:34.593Z"
   },
   {
    "duration": 15,
    "start_time": "2022-08-30T09:32:34.603Z"
   },
   {
    "duration": 24,
    "start_time": "2022-08-30T09:32:34.621Z"
   },
   {
    "duration": 181,
    "start_time": "2022-08-30T09:32:34.646Z"
   },
   {
    "duration": 5,
    "start_time": "2022-08-30T09:32:34.829Z"
   },
   {
    "duration": 32469,
    "start_time": "2022-08-30T09:32:34.835Z"
   },
   {
    "duration": 757,
    "start_time": "2022-08-30T09:33:07.306Z"
   },
   {
    "duration": 121,
    "start_time": "2022-08-30T09:33:47.504Z"
   },
   {
    "duration": 15,
    "start_time": "2022-08-30T09:33:47.628Z"
   },
   {
    "duration": 2124,
    "start_time": "2022-08-30T09:33:47.646Z"
   },
   {
    "duration": 277,
    "start_time": "2022-08-30T09:33:49.772Z"
   },
   {
    "duration": 42,
    "start_time": "2022-08-30T09:33:50.051Z"
   },
   {
    "duration": 9,
    "start_time": "2022-08-30T09:33:50.094Z"
   },
   {
    "duration": 49,
    "start_time": "2022-08-30T09:33:50.106Z"
   },
   {
    "duration": 8,
    "start_time": "2022-08-30T09:33:50.157Z"
   },
   {
    "duration": 37,
    "start_time": "2022-08-30T09:33:50.167Z"
   },
   {
    "duration": 44,
    "start_time": "2022-08-30T09:33:50.207Z"
   },
   {
    "duration": 161,
    "start_time": "2022-08-30T09:33:50.253Z"
   },
   {
    "duration": 5,
    "start_time": "2022-08-30T09:33:50.415Z"
   },
   {
    "duration": 32674,
    "start_time": "2022-08-30T09:33:50.422Z"
   },
   {
    "duration": 740,
    "start_time": "2022-08-30T09:34:23.098Z"
   },
   {
    "duration": 41,
    "start_time": "2022-08-30T09:35:26.565Z"
   },
   {
    "duration": 149,
    "start_time": "2022-08-30T09:35:31.915Z"
   },
   {
    "duration": 25,
    "start_time": "2022-08-30T09:35:32.067Z"
   },
   {
    "duration": 2662,
    "start_time": "2022-08-30T09:35:32.094Z"
   },
   {
    "duration": 270,
    "start_time": "2022-08-30T09:35:34.759Z"
   },
   {
    "duration": 33,
    "start_time": "2022-08-30T09:35:35.031Z"
   },
   {
    "duration": 27,
    "start_time": "2022-08-30T09:35:35.065Z"
   },
   {
    "duration": 56,
    "start_time": "2022-08-30T09:35:35.094Z"
   },
   {
    "duration": 9,
    "start_time": "2022-08-30T09:35:35.152Z"
   },
   {
    "duration": 38,
    "start_time": "2022-08-30T09:35:35.163Z"
   },
   {
    "duration": 25,
    "start_time": "2022-08-30T09:35:35.204Z"
   },
   {
    "duration": 186,
    "start_time": "2022-08-30T09:35:35.231Z"
   },
   {
    "duration": 5,
    "start_time": "2022-08-30T09:35:35.419Z"
   },
   {
    "duration": 33168,
    "start_time": "2022-08-30T09:35:35.426Z"
   },
   {
    "duration": 25,
    "start_time": "2022-08-30T09:36:08.596Z"
   },
   {
    "duration": 115,
    "start_time": "2022-08-30T09:37:00.263Z"
   },
   {
    "duration": 25,
    "start_time": "2022-08-30T09:37:00.379Z"
   },
   {
    "duration": 2244,
    "start_time": "2022-08-30T09:37:00.405Z"
   },
   {
    "duration": 274,
    "start_time": "2022-08-30T09:37:02.652Z"
   },
   {
    "duration": 35,
    "start_time": "2022-08-30T09:37:02.928Z"
   },
   {
    "duration": 26,
    "start_time": "2022-08-30T09:37:02.965Z"
   },
   {
    "duration": 51,
    "start_time": "2022-08-30T09:37:02.993Z"
   },
   {
    "duration": 8,
    "start_time": "2022-08-30T09:37:03.046Z"
   },
   {
    "duration": 37,
    "start_time": "2022-08-30T09:37:03.056Z"
   },
   {
    "duration": 25,
    "start_time": "2022-08-30T09:37:03.096Z"
   },
   {
    "duration": 182,
    "start_time": "2022-08-30T09:37:03.123Z"
   },
   {
    "duration": 6,
    "start_time": "2022-08-30T09:37:03.307Z"
   },
   {
    "duration": 32541,
    "start_time": "2022-08-30T09:37:03.315Z"
   },
   {
    "duration": 706,
    "start_time": "2022-08-30T09:37:35.858Z"
   },
   {
    "duration": 730,
    "start_time": "2022-08-30T09:48:37.739Z"
   },
   {
    "duration": 773,
    "start_time": "2022-08-30T09:48:41.419Z"
   },
   {
    "duration": 691,
    "start_time": "2022-08-30T09:48:59.850Z"
   },
   {
    "duration": 725,
    "start_time": "2022-08-30T09:49:30.046Z"
   },
   {
    "duration": 114,
    "start_time": "2022-08-30T09:51:27.037Z"
   },
   {
    "duration": 18,
    "start_time": "2022-08-30T09:51:27.154Z"
   },
   {
    "duration": 2118,
    "start_time": "2022-08-30T09:51:27.174Z"
   },
   {
    "duration": 292,
    "start_time": "2022-08-30T09:51:29.295Z"
   },
   {
    "duration": 31,
    "start_time": "2022-08-30T09:51:29.591Z"
   },
   {
    "duration": 9,
    "start_time": "2022-08-30T09:51:29.624Z"
   },
   {
    "duration": 75,
    "start_time": "2022-08-30T09:51:29.635Z"
   },
   {
    "duration": 8,
    "start_time": "2022-08-30T09:51:29.712Z"
   },
   {
    "duration": 20,
    "start_time": "2022-08-30T09:51:29.721Z"
   },
   {
    "duration": 26,
    "start_time": "2022-08-30T09:51:29.745Z"
   },
   {
    "duration": 164,
    "start_time": "2022-08-30T09:51:29.791Z"
   },
   {
    "duration": 7,
    "start_time": "2022-08-30T09:51:29.956Z"
   },
   {
    "duration": 33590,
    "start_time": "2022-08-30T09:51:29.965Z"
   },
   {
    "duration": 743,
    "start_time": "2022-08-30T09:52:03.557Z"
   },
   {
    "duration": 538,
    "start_time": "2022-08-30T09:52:04.302Z"
   },
   {
    "duration": 770,
    "start_time": "2022-08-30T09:52:31.502Z"
   },
   {
    "duration": 1285,
    "start_time": "2022-08-30T09:52:59.340Z"
   },
   {
    "duration": 510,
    "start_time": "2022-08-30T09:53:20.132Z"
   },
   {
    "duration": 512,
    "start_time": "2022-08-30T09:53:32.305Z"
   },
   {
    "duration": 16,
    "start_time": "2022-08-30T10:25:16.471Z"
   },
   {
    "duration": 125,
    "start_time": "2022-08-30T10:25:37.816Z"
   },
   {
    "duration": 144,
    "start_time": "2022-08-30T10:26:08.186Z"
   },
   {
    "duration": 140,
    "start_time": "2022-08-30T10:26:20.580Z"
   },
   {
    "duration": 147,
    "start_time": "2022-08-30T10:26:37.546Z"
   },
   {
    "duration": 148,
    "start_time": "2022-08-30T10:26:43.913Z"
   },
   {
    "duration": 126,
    "start_time": "2022-08-30T10:26:54.965Z"
   },
   {
    "duration": 146,
    "start_time": "2022-08-30T10:27:36.879Z"
   },
   {
    "duration": 140,
    "start_time": "2022-08-30T10:28:09.259Z"
   },
   {
    "duration": 147,
    "start_time": "2022-08-30T10:28:17.869Z"
   },
   {
    "duration": 149,
    "start_time": "2022-08-30T10:28:32.029Z"
   },
   {
    "duration": 155,
    "start_time": "2022-08-30T10:32:19.091Z"
   },
   {
    "duration": 38,
    "start_time": "2022-08-30T10:33:22.861Z"
   },
   {
    "duration": 26,
    "start_time": "2022-08-30T10:41:17.260Z"
   },
   {
    "duration": 132,
    "start_time": "2022-08-30T10:43:12.304Z"
   },
   {
    "duration": 139,
    "start_time": "2022-08-30T10:43:28.638Z"
   },
   {
    "duration": 168,
    "start_time": "2022-08-30T10:43:36.189Z"
   },
   {
    "duration": 26,
    "start_time": "2022-08-30T10:44:07.875Z"
   },
   {
    "duration": 146,
    "start_time": "2022-08-30T10:45:42.682Z"
   },
   {
    "duration": 162,
    "start_time": "2022-08-30T10:45:56.647Z"
   },
   {
    "duration": 132,
    "start_time": "2022-08-30T10:46:00.613Z"
   },
   {
    "duration": 144,
    "start_time": "2022-08-30T10:46:06.862Z"
   },
   {
    "duration": 25,
    "start_time": "2022-08-30T10:47:07.161Z"
   },
   {
    "duration": 161,
    "start_time": "2022-08-30T10:48:46.854Z"
   },
   {
    "duration": 178,
    "start_time": "2022-08-30T10:49:31.788Z"
   },
   {
    "duration": 172,
    "start_time": "2022-08-30T10:50:03.448Z"
   },
   {
    "duration": 23,
    "start_time": "2022-08-30T10:50:07.747Z"
   },
   {
    "duration": 184,
    "start_time": "2022-08-30T10:53:26.742Z"
   },
   {
    "duration": 6,
    "start_time": "2022-08-30T10:53:40.525Z"
   },
   {
    "duration": 25,
    "start_time": "2022-08-30T10:54:09.148Z"
   },
   {
    "duration": 17,
    "start_time": "2022-08-30T10:55:01.362Z"
   },
   {
    "duration": 10,
    "start_time": "2022-08-30T10:55:23.798Z"
   },
   {
    "duration": 11,
    "start_time": "2022-08-30T10:55:36.358Z"
   },
   {
    "duration": 139,
    "start_time": "2022-08-30T10:56:39.930Z"
   },
   {
    "duration": 156,
    "start_time": "2022-08-30T10:56:59.693Z"
   },
   {
    "duration": 157,
    "start_time": "2022-08-30T10:57:09.892Z"
   },
   {
    "duration": 25,
    "start_time": "2022-08-30T10:57:42.456Z"
   },
   {
    "duration": 46,
    "start_time": "2022-08-30T10:58:59.404Z"
   },
   {
    "duration": 40,
    "start_time": "2022-08-30T11:33:49.496Z"
   },
   {
    "duration": 39,
    "start_time": "2022-08-30T11:34:12.489Z"
   },
   {
    "duration": 1291,
    "start_time": "2022-08-30T11:34:44.309Z"
   },
   {
    "duration": 6671,
    "start_time": "2022-08-30T11:35:12.066Z"
   },
   {
    "duration": 1129,
    "start_time": "2022-08-30T11:38:33.528Z"
   },
   {
    "duration": 46,
    "start_time": "2022-08-30T11:39:03.019Z"
   },
   {
    "duration": 45,
    "start_time": "2022-08-30T11:39:37.085Z"
   },
   {
    "duration": 40,
    "start_time": "2022-08-30T11:40:31.474Z"
   },
   {
    "duration": 31,
    "start_time": "2022-08-30T11:40:46.473Z"
   },
   {
    "duration": 122,
    "start_time": "2022-08-30T11:40:52.594Z"
   },
   {
    "duration": 16,
    "start_time": "2022-08-30T11:40:52.718Z"
   },
   {
    "duration": 2091,
    "start_time": "2022-08-30T11:40:52.736Z"
   },
   {
    "duration": 298,
    "start_time": "2022-08-30T11:40:54.830Z"
   },
   {
    "duration": 33,
    "start_time": "2022-08-30T11:40:55.130Z"
   },
   {
    "duration": 27,
    "start_time": "2022-08-30T11:40:55.165Z"
   },
   {
    "duration": 55,
    "start_time": "2022-08-30T11:40:55.195Z"
   },
   {
    "duration": 9,
    "start_time": "2022-08-30T11:40:55.252Z"
   },
   {
    "duration": 41,
    "start_time": "2022-08-30T11:40:55.263Z"
   },
   {
    "duration": 203,
    "start_time": "2022-08-30T11:40:55.307Z"
   },
   {
    "duration": 165,
    "start_time": "2022-08-30T11:40:55.511Z"
   },
   {
    "duration": 14,
    "start_time": "2022-08-30T11:40:55.678Z"
   },
   {
    "duration": 33264,
    "start_time": "2022-08-30T11:40:55.694Z"
   },
   {
    "duration": 688,
    "start_time": "2022-08-30T11:41:28.960Z"
   },
   {
    "duration": 501,
    "start_time": "2022-08-30T11:41:29.650Z"
   },
   {
    "duration": 17,
    "start_time": "2022-08-30T11:41:30.152Z"
   },
   {
    "duration": 51,
    "start_time": "2022-08-30T11:41:30.171Z"
   },
   {
    "duration": 32,
    "start_time": "2022-08-30T11:41:58.940Z"
   },
   {
    "duration": 28,
    "start_time": "2022-08-30T11:42:19.203Z"
   },
   {
    "duration": 130,
    "start_time": "2022-08-30T11:42:24.614Z"
   },
   {
    "duration": 15,
    "start_time": "2022-08-30T11:42:24.746Z"
   },
   {
    "duration": 2077,
    "start_time": "2022-08-30T11:42:24.763Z"
   },
   {
    "duration": 282,
    "start_time": "2022-08-30T11:42:26.842Z"
   },
   {
    "duration": 37,
    "start_time": "2022-08-30T11:42:27.126Z"
   },
   {
    "duration": 26,
    "start_time": "2022-08-30T11:42:27.165Z"
   },
   {
    "duration": 50,
    "start_time": "2022-08-30T11:42:27.194Z"
   },
   {
    "duration": 10,
    "start_time": "2022-08-30T11:42:27.246Z"
   },
   {
    "duration": 40,
    "start_time": "2022-08-30T11:42:27.258Z"
   },
   {
    "duration": 25,
    "start_time": "2022-08-30T11:42:27.302Z"
   },
   {
    "duration": 186,
    "start_time": "2022-08-30T11:42:27.329Z"
   },
   {
    "duration": 5,
    "start_time": "2022-08-30T11:42:27.518Z"
   },
   {
    "duration": 33241,
    "start_time": "2022-08-30T11:42:27.525Z"
   },
   {
    "duration": 687,
    "start_time": "2022-08-30T11:43:00.767Z"
   },
   {
    "duration": 1202,
    "start_time": "2022-08-30T11:43:01.456Z"
   },
   {
    "duration": 17,
    "start_time": "2022-08-30T11:43:02.659Z"
   },
   {
    "duration": 48,
    "start_time": "2022-08-30T11:43:02.678Z"
   },
   {
    "duration": 33,
    "start_time": "2022-08-30T11:43:21.463Z"
   },
   {
    "duration": 114,
    "start_time": "2022-08-30T11:44:47.381Z"
   },
   {
    "duration": 15,
    "start_time": "2022-08-30T11:44:47.497Z"
   },
   {
    "duration": 2123,
    "start_time": "2022-08-30T11:44:47.514Z"
   },
   {
    "duration": 277,
    "start_time": "2022-08-30T11:44:49.639Z"
   },
   {
    "duration": 32,
    "start_time": "2022-08-30T11:44:49.918Z"
   },
   {
    "duration": 9,
    "start_time": "2022-08-30T11:44:49.952Z"
   },
   {
    "duration": 74,
    "start_time": "2022-08-30T11:44:49.963Z"
   },
   {
    "duration": 8,
    "start_time": "2022-08-30T11:44:50.039Z"
   },
   {
    "duration": 37,
    "start_time": "2022-08-30T11:44:50.048Z"
   },
   {
    "duration": 25,
    "start_time": "2022-08-30T11:44:50.088Z"
   },
   {
    "duration": 170,
    "start_time": "2022-08-30T11:44:50.115Z"
   },
   {
    "duration": 8,
    "start_time": "2022-08-30T11:44:50.287Z"
   },
   {
    "duration": 32572,
    "start_time": "2022-08-30T11:44:50.297Z"
   },
   {
    "duration": 675,
    "start_time": "2022-08-30T11:45:22.871Z"
   },
   {
    "duration": 495,
    "start_time": "2022-08-30T11:45:23.547Z"
   },
   {
    "duration": 16,
    "start_time": "2022-08-30T11:45:24.044Z"
   },
   {
    "duration": 44,
    "start_time": "2022-08-30T11:45:24.062Z"
   },
   {
    "duration": 133,
    "start_time": "2022-08-30T11:45:50.361Z"
   },
   {
    "duration": 152,
    "start_time": "2022-08-30T11:45:58.512Z"
   },
   {
    "duration": 138,
    "start_time": "2022-08-30T11:46:54.150Z"
   },
   {
    "duration": 439,
    "start_time": "2022-08-30T11:47:10.926Z"
   },
   {
    "duration": 146,
    "start_time": "2022-08-30T11:47:14.502Z"
   },
   {
    "duration": 167,
    "start_time": "2022-08-30T11:47:19.860Z"
   },
   {
    "duration": 133,
    "start_time": "2022-08-30T11:47:25.536Z"
   },
   {
    "duration": 173,
    "start_time": "2022-08-30T11:47:41.137Z"
   },
   {
    "duration": 160,
    "start_time": "2022-08-30T11:47:45.618Z"
   },
   {
    "duration": 25,
    "start_time": "2022-08-30T11:48:00.696Z"
   },
   {
    "duration": 129,
    "start_time": "2022-08-30T11:49:06.941Z"
   },
   {
    "duration": 1733,
    "start_time": "2022-08-30T11:50:06.280Z"
   },
   {
    "duration": 1382,
    "start_time": "2022-08-30T11:50:16.709Z"
   },
   {
    "duration": 150,
    "start_time": "2022-08-30T11:50:36.626Z"
   },
   {
    "duration": 22,
    "start_time": "2022-08-30T11:52:47.905Z"
   },
   {
    "duration": 130,
    "start_time": "2022-08-30T11:54:06.337Z"
   },
   {
    "duration": 140,
    "start_time": "2022-08-30T11:54:28.847Z"
   },
   {
    "duration": 151,
    "start_time": "2022-08-30T11:54:41.651Z"
   },
   {
    "duration": 174,
    "start_time": "2022-08-30T11:55:08.070Z"
   },
   {
    "duration": 169,
    "start_time": "2022-08-30T11:55:18.022Z"
   },
   {
    "duration": 27,
    "start_time": "2022-08-30T11:55:22.563Z"
   },
   {
    "duration": 9,
    "start_time": "2022-08-30T11:55:54.616Z"
   },
   {
    "duration": 10,
    "start_time": "2022-08-30T11:56:38.304Z"
   },
   {
    "duration": 126,
    "start_time": "2022-08-30T11:59:46.323Z"
   },
   {
    "duration": 157,
    "start_time": "2022-08-30T12:29:12.186Z"
   },
   {
    "duration": 131,
    "start_time": "2022-08-30T12:29:52.223Z"
   },
   {
    "duration": 178,
    "start_time": "2022-08-30T12:30:02.782Z"
   },
   {
    "duration": 151,
    "start_time": "2022-08-30T12:30:14.734Z"
   },
   {
    "duration": 143,
    "start_time": "2022-08-30T12:30:18.995Z"
   },
   {
    "duration": 144,
    "start_time": "2022-08-30T12:30:38.627Z"
   },
   {
    "duration": 208,
    "start_time": "2022-08-30T12:31:44.812Z"
   },
   {
    "duration": 114,
    "start_time": "2022-08-30T12:32:03.847Z"
   },
   {
    "duration": 231,
    "start_time": "2022-08-30T12:32:06.983Z"
   },
   {
    "duration": 211,
    "start_time": "2022-08-30T12:32:18.838Z"
   },
   {
    "duration": 154,
    "start_time": "2022-08-30T12:33:23.865Z"
   },
   {
    "duration": 131,
    "start_time": "2022-08-30T12:33:57.115Z"
   },
   {
    "duration": 152,
    "start_time": "2022-08-30T12:36:27.919Z"
   },
   {
    "duration": 130,
    "start_time": "2022-08-30T12:36:38.337Z"
   },
   {
    "duration": 141,
    "start_time": "2022-08-30T12:36:40.906Z"
   },
   {
    "duration": 154,
    "start_time": "2022-08-30T12:37:53.900Z"
   },
   {
    "duration": 148,
    "start_time": "2022-08-30T12:38:19.660Z"
   },
   {
    "duration": 46,
    "start_time": "2022-08-31T08:06:38.391Z"
   },
   {
    "duration": 519,
    "start_time": "2022-08-31T08:06:41.936Z"
   },
   {
    "duration": 13,
    "start_time": "2022-08-31T08:06:42.457Z"
   },
   {
    "duration": 2365,
    "start_time": "2022-08-31T08:06:42.472Z"
   },
   {
    "duration": 258,
    "start_time": "2022-08-31T08:06:44.839Z"
   },
   {
    "duration": 31,
    "start_time": "2022-08-31T08:06:45.098Z"
   },
   {
    "duration": 12,
    "start_time": "2022-08-31T08:06:45.130Z"
   },
   {
    "duration": 61,
    "start_time": "2022-08-31T08:06:45.143Z"
   },
   {
    "duration": 7,
    "start_time": "2022-08-31T08:06:45.206Z"
   },
   {
    "duration": 14,
    "start_time": "2022-08-31T08:06:45.215Z"
   },
   {
    "duration": 49,
    "start_time": "2022-08-31T08:06:45.231Z"
   },
   {
    "duration": 158,
    "start_time": "2022-08-31T08:06:45.281Z"
   },
   {
    "duration": 6,
    "start_time": "2022-08-31T08:06:45.441Z"
   },
   {
    "duration": 31039,
    "start_time": "2022-08-31T08:06:45.449Z"
   },
   {
    "duration": 743,
    "start_time": "2022-08-31T08:07:16.490Z"
   },
   {
    "duration": 456,
    "start_time": "2022-08-31T08:07:17.234Z"
   },
   {
    "duration": 14,
    "start_time": "2022-08-31T08:07:17.692Z"
   },
   {
    "duration": 4,
    "start_time": "2022-08-31T08:07:17.707Z"
   },
   {
    "duration": 0,
    "start_time": "2022-08-31T08:07:17.712Z"
   },
   {
    "duration": 3,
    "start_time": "2022-08-31T08:07:51.684Z"
   },
   {
    "duration": 112,
    "start_time": "2022-08-31T08:07:55.053Z"
   },
   {
    "duration": 13,
    "start_time": "2022-08-31T08:07:55.167Z"
   },
   {
    "duration": 2236,
    "start_time": "2022-08-31T08:07:55.182Z"
   },
   {
    "duration": 263,
    "start_time": "2022-08-31T08:07:57.420Z"
   },
   {
    "duration": 32,
    "start_time": "2022-08-31T08:07:57.684Z"
   },
   {
    "duration": 8,
    "start_time": "2022-08-31T08:07:57.718Z"
   },
   {
    "duration": 71,
    "start_time": "2022-08-31T08:07:57.727Z"
   },
   {
    "duration": 7,
    "start_time": "2022-08-31T08:07:57.800Z"
   },
   {
    "duration": 14,
    "start_time": "2022-08-31T08:07:57.808Z"
   },
   {
    "duration": 46,
    "start_time": "2022-08-31T08:07:57.825Z"
   },
   {
    "duration": 155,
    "start_time": "2022-08-31T08:07:57.873Z"
   },
   {
    "duration": 5,
    "start_time": "2022-08-31T08:07:58.030Z"
   },
   {
    "duration": 32189,
    "start_time": "2022-08-31T08:07:58.037Z"
   },
   {
    "duration": 636,
    "start_time": "2022-08-31T08:08:30.228Z"
   },
   {
    "duration": 453,
    "start_time": "2022-08-31T08:08:30.867Z"
   },
   {
    "duration": 14,
    "start_time": "2022-08-31T08:08:31.322Z"
   },
   {
    "duration": 11,
    "start_time": "2022-08-31T08:08:31.337Z"
   },
   {
    "duration": 1749,
    "start_time": "2022-08-31T08:08:31.350Z"
   },
   {
    "duration": 145,
    "start_time": "2022-08-31T08:08:52.827Z"
   },
   {
    "duration": 136,
    "start_time": "2022-08-31T08:09:16.875Z"
   },
   {
    "duration": 269,
    "start_time": "2022-08-31T08:09:25.743Z"
   },
   {
    "duration": 599,
    "start_time": "2022-08-31T08:10:06.177Z"
   },
   {
    "duration": 150,
    "start_time": "2022-08-31T08:10:22.243Z"
   },
   {
    "duration": 157,
    "start_time": "2022-08-31T08:10:40.411Z"
   },
   {
    "duration": 434,
    "start_time": "2022-08-31T08:13:15.664Z"
   },
   {
    "duration": 150,
    "start_time": "2022-08-31T08:13:20.941Z"
   },
   {
    "duration": 128,
    "start_time": "2022-08-31T08:13:28.482Z"
   },
   {
    "duration": 146,
    "start_time": "2022-08-31T08:13:41.096Z"
   },
   {
    "duration": 148,
    "start_time": "2022-08-31T08:17:23.687Z"
   },
   {
    "duration": 120,
    "start_time": "2022-08-31T08:18:29.977Z"
   },
   {
    "duration": 161,
    "start_time": "2022-08-31T08:19:35.614Z"
   },
   {
    "duration": 45,
    "start_time": "2022-09-03T04:30:46.145Z"
   },
   {
    "duration": 738,
    "start_time": "2022-09-03T04:30:51.391Z"
   },
   {
    "duration": 15,
    "start_time": "2022-09-03T04:30:52.131Z"
   },
   {
    "duration": 2379,
    "start_time": "2022-09-03T04:30:52.147Z"
   },
   {
    "duration": 275,
    "start_time": "2022-09-03T04:30:54.529Z"
   },
   {
    "duration": 29,
    "start_time": "2022-09-03T04:30:54.806Z"
   },
   {
    "duration": 8,
    "start_time": "2022-09-03T04:30:54.837Z"
   },
   {
    "duration": 65,
    "start_time": "2022-09-03T04:30:54.846Z"
   },
   {
    "duration": 7,
    "start_time": "2022-09-03T04:30:54.913Z"
   },
   {
    "duration": 15,
    "start_time": "2022-09-03T04:30:54.922Z"
   },
   {
    "duration": 23,
    "start_time": "2022-09-03T04:30:54.940Z"
   },
   {
    "duration": 180,
    "start_time": "2022-09-03T04:30:54.965Z"
   },
   {
    "duration": 7,
    "start_time": "2022-09-03T04:30:55.146Z"
   },
   {
    "duration": 31433,
    "start_time": "2022-09-03T04:30:55.155Z"
   },
   {
    "duration": 741,
    "start_time": "2022-09-03T04:31:26.590Z"
   },
   {
    "duration": 461,
    "start_time": "2022-09-03T04:31:27.332Z"
   },
   {
    "duration": 16,
    "start_time": "2022-09-03T04:31:27.795Z"
   },
   {
    "duration": 3,
    "start_time": "2022-09-03T04:31:27.813Z"
   },
   {
    "duration": 178,
    "start_time": "2022-09-03T04:31:27.818Z"
   },
   {
    "duration": 40,
    "start_time": "2022-09-03T04:31:27.998Z"
   },
   {
    "duration": 10,
    "start_time": "2022-09-03T04:31:43.018Z"
   },
   {
    "duration": 18,
    "start_time": "2022-09-03T04:32:37.174Z"
   },
   {
    "duration": 125,
    "start_time": "2022-09-03T04:33:42.538Z"
   },
   {
    "duration": 25747,
    "start_time": "2022-09-03T04:34:07.529Z"
   },
   {
    "duration": 149,
    "start_time": "2022-09-03T04:34:45.658Z"
   },
   {
    "duration": 17,
    "start_time": "2022-09-03T04:35:00.693Z"
   },
   {
    "duration": 102,
    "start_time": "2022-09-03T04:36:02.919Z"
   },
   {
    "duration": 152,
    "start_time": "2022-09-03T04:36:27.001Z"
   },
   {
    "duration": 123,
    "start_time": "2022-09-03T04:36:59.459Z"
   },
   {
    "duration": 127,
    "start_time": "2022-09-03T04:38:04.676Z"
   },
   {
    "duration": 15,
    "start_time": "2022-09-03T04:39:06.814Z"
   },
   {
    "duration": 55252,
    "start_time": "2022-09-03T04:39:20.575Z"
   },
   {
    "duration": 18,
    "start_time": "2022-09-03T04:41:20.463Z"
   },
   {
    "duration": 1021,
    "start_time": "2022-09-03T04:42:21.161Z"
   },
   {
    "duration": 180,
    "start_time": "2022-09-03T04:42:50.846Z"
   },
   {
    "duration": 115,
    "start_time": "2022-09-03T04:43:16.828Z"
   },
   {
    "duration": 117,
    "start_time": "2022-09-03T04:43:33.873Z"
   },
   {
    "duration": 182,
    "start_time": "2022-09-03T04:44:12.722Z"
   },
   {
    "duration": 140,
    "start_time": "2022-09-03T04:44:24.097Z"
   },
   {
    "duration": 192,
    "start_time": "2022-09-03T04:44:49.954Z"
   },
   {
    "duration": 190,
    "start_time": "2022-09-03T04:44:59.499Z"
   },
   {
    "duration": 163,
    "start_time": "2022-09-03T04:45:28.597Z"
   },
   {
    "duration": 152,
    "start_time": "2022-09-03T04:46:11.747Z"
   },
   {
    "duration": 164,
    "start_time": "2022-09-03T04:46:48.254Z"
   },
   {
    "duration": 150,
    "start_time": "2022-09-03T04:47:09.176Z"
   },
   {
    "duration": 152,
    "start_time": "2022-09-03T04:47:28.405Z"
   },
   {
    "duration": 168,
    "start_time": "2022-09-03T04:47:40.503Z"
   },
   {
    "duration": 159,
    "start_time": "2022-09-03T04:47:54.449Z"
   },
   {
    "duration": 159,
    "start_time": "2022-09-03T04:49:24.049Z"
   },
   {
    "duration": 173,
    "start_time": "2022-09-03T04:49:31.393Z"
   },
   {
    "duration": 178,
    "start_time": "2022-09-03T04:50:11.485Z"
   },
   {
    "duration": 158,
    "start_time": "2022-09-03T04:50:18.848Z"
   },
   {
    "duration": 182,
    "start_time": "2022-09-03T04:50:26.059Z"
   },
   {
    "duration": 172,
    "start_time": "2022-09-03T04:50:59.790Z"
   },
   {
    "duration": 196,
    "start_time": "2022-09-03T04:51:16.151Z"
   },
   {
    "duration": 103,
    "start_time": "2022-09-03T04:56:22.766Z"
   },
   {
    "duration": 15,
    "start_time": "2022-09-03T04:56:22.871Z"
   },
   {
    "duration": 1837,
    "start_time": "2022-09-03T04:56:22.890Z"
   },
   {
    "duration": 238,
    "start_time": "2022-09-03T04:56:24.729Z"
   },
   {
    "duration": 36,
    "start_time": "2022-09-03T04:56:24.969Z"
   },
   {
    "duration": 8,
    "start_time": "2022-09-03T04:56:25.007Z"
   },
   {
    "duration": 45,
    "start_time": "2022-09-03T04:56:25.016Z"
   },
   {
    "duration": 30,
    "start_time": "2022-09-03T04:56:25.062Z"
   },
   {
    "duration": 12,
    "start_time": "2022-09-03T04:56:25.093Z"
   },
   {
    "duration": 21,
    "start_time": "2022-09-03T04:56:25.106Z"
   },
   {
    "duration": 159,
    "start_time": "2022-09-03T04:56:25.129Z"
   },
   {
    "duration": 6,
    "start_time": "2022-09-03T04:56:25.289Z"
   },
   {
    "duration": 114,
    "start_time": "2022-09-03T04:57:27.563Z"
   },
   {
    "duration": 14,
    "start_time": "2022-09-03T04:57:27.688Z"
   },
   {
    "duration": 2032,
    "start_time": "2022-09-03T04:57:27.704Z"
   },
   {
    "duration": 286,
    "start_time": "2022-09-03T04:57:29.738Z"
   },
   {
    "duration": 31,
    "start_time": "2022-09-03T04:57:30.026Z"
   },
   {
    "duration": 8,
    "start_time": "2022-09-03T04:57:30.059Z"
   },
   {
    "duration": 44,
    "start_time": "2022-09-03T04:57:30.087Z"
   },
   {
    "duration": 8,
    "start_time": "2022-09-03T04:57:30.133Z"
   },
   {
    "duration": 27,
    "start_time": "2022-09-03T04:57:30.143Z"
   },
   {
    "duration": 37,
    "start_time": "2022-09-03T04:57:30.173Z"
   },
   {
    "duration": 155,
    "start_time": "2022-09-03T04:57:30.212Z"
   },
   {
    "duration": 18,
    "start_time": "2022-09-03T04:57:30.369Z"
   },
   {
    "duration": 32103,
    "start_time": "2022-09-03T04:57:30.388Z"
   },
   {
    "duration": 647,
    "start_time": "2022-09-03T04:58:02.493Z"
   },
   {
    "duration": 473,
    "start_time": "2022-09-03T04:58:03.141Z"
   },
   {
    "duration": 15,
    "start_time": "2022-09-03T04:58:03.615Z"
   },
   {
    "duration": 4,
    "start_time": "2022-09-03T04:58:03.631Z"
   },
   {
    "duration": 156,
    "start_time": "2022-09-03T04:58:03.637Z"
   },
   {
    "duration": 144,
    "start_time": "2022-09-03T04:58:03.795Z"
   },
   {
    "duration": 191,
    "start_time": "2022-09-03T04:58:03.941Z"
   },
   {
    "duration": 181,
    "start_time": "2022-09-03T04:58:04.134Z"
   },
   {
    "duration": 161,
    "start_time": "2022-09-03T04:58:04.317Z"
   },
   {
    "duration": 137,
    "start_time": "2022-09-03T04:58:47.291Z"
   },
   {
    "duration": 150,
    "start_time": "2022-09-03T04:58:52.357Z"
   },
   {
    "duration": 197,
    "start_time": "2022-09-03T05:04:25.910Z"
   },
   {
    "duration": 185,
    "start_time": "2022-09-03T05:05:45.266Z"
   },
   {
    "duration": 115,
    "start_time": "2022-09-03T05:10:20.211Z"
   },
   {
    "duration": 14,
    "start_time": "2022-09-03T05:10:20.328Z"
   },
   {
    "duration": 1992,
    "start_time": "2022-09-03T05:10:20.344Z"
   },
   {
    "duration": 250,
    "start_time": "2022-09-03T05:10:22.337Z"
   },
   {
    "duration": 28,
    "start_time": "2022-09-03T05:10:22.588Z"
   },
   {
    "duration": 7,
    "start_time": "2022-09-03T05:10:22.618Z"
   },
   {
    "duration": 65,
    "start_time": "2022-09-03T05:10:22.628Z"
   },
   {
    "duration": 9,
    "start_time": "2022-09-03T05:10:22.695Z"
   },
   {
    "duration": 13,
    "start_time": "2022-09-03T05:10:22.705Z"
   },
   {
    "duration": 24,
    "start_time": "2022-09-03T05:10:22.719Z"
   },
   {
    "duration": 178,
    "start_time": "2022-09-03T05:10:22.745Z"
   },
   {
    "duration": 6,
    "start_time": "2022-09-03T05:10:22.925Z"
   },
   {
    "duration": 32851,
    "start_time": "2022-09-03T05:10:22.933Z"
   },
   {
    "duration": 693,
    "start_time": "2022-09-03T05:10:55.786Z"
   },
   {
    "duration": 481,
    "start_time": "2022-09-03T05:10:56.481Z"
   },
   {
    "duration": 23,
    "start_time": "2022-09-03T05:10:56.964Z"
   },
   {
    "duration": 3,
    "start_time": "2022-09-03T05:10:56.988Z"
   },
   {
    "duration": 168,
    "start_time": "2022-09-03T05:10:56.993Z"
   },
   {
    "duration": 141,
    "start_time": "2022-09-03T05:10:57.163Z"
   },
   {
    "duration": 184,
    "start_time": "2022-09-03T05:10:57.306Z"
   },
   {
    "duration": 187,
    "start_time": "2022-09-03T05:10:57.492Z"
   },
   {
    "duration": 245,
    "start_time": "2022-09-03T05:10:57.681Z"
   },
   {
    "duration": 202,
    "start_time": "2022-09-03T05:12:10.347Z"
   },
   {
    "duration": 172,
    "start_time": "2022-09-03T05:15:58.642Z"
   },
   {
    "duration": 181,
    "start_time": "2022-09-03T05:16:08.905Z"
   },
   {
    "duration": 161,
    "start_time": "2022-09-03T05:16:57.754Z"
   },
   {
    "duration": 131,
    "start_time": "2022-09-03T05:17:40.438Z"
   },
   {
    "duration": 61,
    "start_time": "2022-09-03T05:17:50.883Z"
   },
   {
    "duration": 161,
    "start_time": "2022-09-03T05:17:54.592Z"
   },
   {
    "duration": 148,
    "start_time": "2022-09-03T05:18:23.691Z"
   },
   {
    "duration": 181,
    "start_time": "2022-09-03T05:18:29.029Z"
   },
   {
    "duration": 316,
    "start_time": "2022-09-03T05:19:59.253Z"
   },
   {
    "duration": 257,
    "start_time": "2022-09-03T05:20:17.101Z"
   },
   {
    "duration": 48,
    "start_time": "2022-09-03T05:20:42.611Z"
   },
   {
    "duration": 280,
    "start_time": "2022-09-03T05:20:47.667Z"
   },
   {
    "duration": 9,
    "start_time": "2022-09-03T05:29:39.552Z"
   },
   {
    "duration": 10,
    "start_time": "2022-09-03T05:29:49.279Z"
   },
   {
    "duration": 8,
    "start_time": "2022-09-03T05:32:45.618Z"
   },
   {
    "duration": 9,
    "start_time": "2022-09-03T05:36:01.072Z"
   },
   {
    "duration": 13,
    "start_time": "2022-09-03T05:36:08.624Z"
   },
   {
    "duration": 19,
    "start_time": "2022-09-03T05:36:17.093Z"
   },
   {
    "duration": 21,
    "start_time": "2022-09-03T05:38:51.176Z"
   },
   {
    "duration": 19,
    "start_time": "2022-09-03T05:39:08.308Z"
   },
   {
    "duration": 15,
    "start_time": "2022-09-03T05:39:22.336Z"
   },
   {
    "duration": 21,
    "start_time": "2022-09-03T05:39:39.972Z"
   },
   {
    "duration": 22,
    "start_time": "2022-09-03T05:40:07.000Z"
   },
   {
    "duration": 23,
    "start_time": "2022-09-03T05:40:19.617Z"
   },
   {
    "duration": 19,
    "start_time": "2022-09-03T05:40:35.177Z"
   },
   {
    "duration": 21,
    "start_time": "2022-09-03T05:53:24.991Z"
   },
   {
    "duration": 22,
    "start_time": "2022-09-03T05:54:17.599Z"
   },
   {
    "duration": 11,
    "start_time": "2022-09-03T05:54:30.514Z"
   },
   {
    "duration": 15,
    "start_time": "2022-09-03T05:54:53.607Z"
   },
   {
    "duration": 16,
    "start_time": "2022-09-03T05:55:23.769Z"
   },
   {
    "duration": 5,
    "start_time": "2022-09-03T05:56:28.561Z"
   },
   {
    "duration": 18,
    "start_time": "2022-09-03T05:57:55.081Z"
   },
   {
    "duration": 679,
    "start_time": "2022-09-03T05:58:59.165Z"
   },
   {
    "duration": 768,
    "start_time": "2022-09-03T05:59:31.250Z"
   },
   {
    "duration": 896,
    "start_time": "2022-09-03T06:00:26.516Z"
   },
   {
    "duration": 918,
    "start_time": "2022-09-03T06:00:34.374Z"
   },
   {
    "duration": 16,
    "start_time": "2022-09-03T06:00:44.050Z"
   },
   {
    "duration": 959,
    "start_time": "2022-09-03T06:00:54.655Z"
   },
   {
    "duration": 22,
    "start_time": "2022-09-03T06:06:19.951Z"
   },
   {
    "duration": 16,
    "start_time": "2022-09-03T06:06:32.432Z"
   },
   {
    "duration": 21,
    "start_time": "2022-09-03T06:06:35.250Z"
   },
   {
    "duration": 22,
    "start_time": "2022-09-03T06:06:55.308Z"
   },
   {
    "duration": 20,
    "start_time": "2022-09-03T06:07:01.312Z"
   },
   {
    "duration": 33,
    "start_time": "2022-09-03T06:11:44.560Z"
   },
   {
    "duration": 45,
    "start_time": "2022-09-03T06:12:04.094Z"
   },
   {
    "duration": 63,
    "start_time": "2022-09-03T06:12:16.181Z"
   },
   {
    "duration": 30,
    "start_time": "2022-09-03T06:17:15.566Z"
   },
   {
    "duration": 43,
    "start_time": "2022-09-03T06:17:41.520Z"
   },
   {
    "duration": 94,
    "start_time": "2022-09-03T06:17:57.581Z"
   },
   {
    "duration": 43,
    "start_time": "2022-09-03T06:18:17.836Z"
   },
   {
    "duration": 4496,
    "start_time": "2022-09-03T06:18:38.164Z"
   },
   {
    "duration": 34,
    "start_time": "2022-09-03T06:19:09.212Z"
   },
   {
    "duration": 37,
    "start_time": "2022-09-03T06:20:53.563Z"
   },
   {
    "duration": 54,
    "start_time": "2022-09-03T06:21:05.630Z"
   },
   {
    "duration": 39,
    "start_time": "2022-09-03T06:21:16.409Z"
   },
   {
    "duration": 32,
    "start_time": "2022-09-03T06:21:26.073Z"
   },
   {
    "duration": 35,
    "start_time": "2022-09-03T06:22:17.404Z"
   },
   {
    "duration": 119,
    "start_time": "2022-09-03T06:22:23.599Z"
   },
   {
    "duration": 13,
    "start_time": "2022-09-03T06:22:23.720Z"
   },
   {
    "duration": 1962,
    "start_time": "2022-09-03T06:22:23.735Z"
   },
   {
    "duration": 245,
    "start_time": "2022-09-03T06:22:25.702Z"
   },
   {
    "duration": 43,
    "start_time": "2022-09-03T06:22:25.950Z"
   },
   {
    "duration": 10,
    "start_time": "2022-09-03T06:22:25.999Z"
   },
   {
    "duration": 54,
    "start_time": "2022-09-03T06:22:26.011Z"
   },
   {
    "duration": 25,
    "start_time": "2022-09-03T06:22:26.067Z"
   },
   {
    "duration": 16,
    "start_time": "2022-09-03T06:22:26.093Z"
   },
   {
    "duration": 23,
    "start_time": "2022-09-03T06:22:26.111Z"
   },
   {
    "duration": 207,
    "start_time": "2022-09-03T06:22:26.135Z"
   },
   {
    "duration": 8,
    "start_time": "2022-09-03T06:22:26.345Z"
   },
   {
    "duration": 31713,
    "start_time": "2022-09-03T06:22:26.355Z"
   },
   {
    "duration": 669,
    "start_time": "2022-09-03T06:22:58.070Z"
   },
   {
    "duration": 500,
    "start_time": "2022-09-03T06:22:58.741Z"
   },
   {
    "duration": 15,
    "start_time": "2022-09-03T06:22:59.243Z"
   },
   {
    "duration": 3,
    "start_time": "2022-09-03T06:22:59.260Z"
   },
   {
    "duration": 174,
    "start_time": "2022-09-03T06:22:59.264Z"
   },
   {
    "duration": 157,
    "start_time": "2022-09-03T06:22:59.440Z"
   },
   {
    "duration": 166,
    "start_time": "2022-09-03T06:22:59.599Z"
   },
   {
    "duration": 189,
    "start_time": "2022-09-03T06:22:59.767Z"
   },
   {
    "duration": 209,
    "start_time": "2022-09-03T06:22:59.958Z"
   },
   {
    "duration": 190,
    "start_time": "2022-09-03T06:23:00.169Z"
   },
   {
    "duration": 311,
    "start_time": "2022-09-03T06:23:00.361Z"
   },
   {
    "duration": 41,
    "start_time": "2022-09-03T06:23:00.674Z"
   },
   {
    "duration": 34,
    "start_time": "2022-09-03T06:23:00.717Z"
   },
   {
    "duration": 21,
    "start_time": "2022-09-03T06:24:10.057Z"
   },
   {
    "duration": 2526,
    "start_time": "2022-09-03T06:24:52.421Z"
   },
   {
    "duration": 34,
    "start_time": "2022-09-03T06:24:59.576Z"
   },
   {
    "duration": 23,
    "start_time": "2022-09-03T06:26:00.699Z"
   },
   {
    "duration": 18,
    "start_time": "2022-09-03T06:26:22.461Z"
   },
   {
    "duration": 32,
    "start_time": "2022-09-03T06:26:37.283Z"
   },
   {
    "duration": 33,
    "start_time": "2022-09-03T06:27:08.304Z"
   },
   {
    "duration": 36,
    "start_time": "2022-09-03T06:29:35.868Z"
   },
   {
    "duration": 1436,
    "start_time": "2022-09-03T06:31:23.383Z"
   },
   {
    "duration": 116,
    "start_time": "2022-09-03T06:32:37.774Z"
   },
   {
    "duration": 15,
    "start_time": "2022-09-03T06:32:37.892Z"
   },
   {
    "duration": 1932,
    "start_time": "2022-09-03T06:32:37.909Z"
   },
   {
    "duration": 255,
    "start_time": "2022-09-03T06:32:39.844Z"
   },
   {
    "duration": 31,
    "start_time": "2022-09-03T06:32:40.101Z"
   },
   {
    "duration": 9,
    "start_time": "2022-09-03T06:32:40.133Z"
   },
   {
    "duration": 67,
    "start_time": "2022-09-03T06:32:40.144Z"
   },
   {
    "duration": 9,
    "start_time": "2022-09-03T06:32:40.213Z"
   },
   {
    "duration": 15,
    "start_time": "2022-09-03T06:32:40.223Z"
   },
   {
    "duration": 47,
    "start_time": "2022-09-03T06:32:40.240Z"
   },
   {
    "duration": 162,
    "start_time": "2022-09-03T06:32:40.289Z"
   },
   {
    "duration": 5,
    "start_time": "2022-09-03T06:32:40.452Z"
   },
   {
    "duration": 31034,
    "start_time": "2022-09-03T06:32:40.459Z"
   },
   {
    "duration": 650,
    "start_time": "2022-09-03T06:33:11.494Z"
   },
   {
    "duration": 482,
    "start_time": "2022-09-03T06:33:12.146Z"
   },
   {
    "duration": 16,
    "start_time": "2022-09-03T06:33:12.629Z"
   },
   {
    "duration": 3,
    "start_time": "2022-09-03T06:33:12.646Z"
   },
   {
    "duration": 167,
    "start_time": "2022-09-03T06:33:12.651Z"
   },
   {
    "duration": 136,
    "start_time": "2022-09-03T06:33:12.819Z"
   },
   {
    "duration": 177,
    "start_time": "2022-09-03T06:33:12.957Z"
   },
   {
    "duration": 174,
    "start_time": "2022-09-03T06:33:13.136Z"
   },
   {
    "duration": 204,
    "start_time": "2022-09-03T06:33:13.312Z"
   },
   {
    "duration": 173,
    "start_time": "2022-09-03T06:33:13.517Z"
   },
   {
    "duration": 296,
    "start_time": "2022-09-03T06:33:13.692Z"
   },
   {
    "duration": 19,
    "start_time": "2022-09-03T06:33:13.990Z"
   },
   {
    "duration": 803,
    "start_time": "2022-09-03T06:33:14.011Z"
   },
   {
    "duration": 2323,
    "start_time": "2022-09-03T06:34:52.686Z"
   },
   {
    "duration": 752,
    "start_time": "2022-09-03T06:37:40.844Z"
   },
   {
    "duration": 865,
    "start_time": "2022-09-03T06:37:48.512Z"
   },
   {
    "duration": 112,
    "start_time": "2022-09-03T06:37:56.048Z"
   },
   {
    "duration": 29,
    "start_time": "2022-09-03T06:37:56.162Z"
   },
   {
    "duration": 6586,
    "start_time": "2022-09-03T06:37:56.194Z"
   },
   {
    "duration": 271,
    "start_time": "2022-09-03T06:38:02.782Z"
   },
   {
    "duration": 41,
    "start_time": "2022-09-03T06:38:03.055Z"
   },
   {
    "duration": 9,
    "start_time": "2022-09-03T06:38:03.098Z"
   },
   {
    "duration": 49,
    "start_time": "2022-09-03T06:38:03.108Z"
   },
   {
    "duration": 29,
    "start_time": "2022-09-03T06:38:03.159Z"
   },
   {
    "duration": 14,
    "start_time": "2022-09-03T06:38:03.190Z"
   },
   {
    "duration": 31,
    "start_time": "2022-09-03T06:38:03.206Z"
   },
   {
    "duration": 175,
    "start_time": "2022-09-03T06:38:03.239Z"
   },
   {
    "duration": 6,
    "start_time": "2022-09-03T06:38:03.415Z"
   },
   {
    "duration": 32268,
    "start_time": "2022-09-03T06:38:03.423Z"
   },
   {
    "duration": 704,
    "start_time": "2022-09-03T06:38:35.693Z"
   },
   {
    "duration": 505,
    "start_time": "2022-09-03T06:38:36.399Z"
   },
   {
    "duration": 16,
    "start_time": "2022-09-03T06:38:36.905Z"
   },
   {
    "duration": 0,
    "start_time": "2022-09-03T06:38:39.110Z"
   },
   {
    "duration": 0,
    "start_time": "2022-09-03T06:38:39.111Z"
   },
   {
    "duration": 0,
    "start_time": "2022-09-03T06:38:39.112Z"
   },
   {
    "duration": 0,
    "start_time": "2022-09-03T06:38:39.113Z"
   },
   {
    "duration": 0,
    "start_time": "2022-09-03T06:38:39.114Z"
   },
   {
    "duration": 0,
    "start_time": "2022-09-03T06:38:39.115Z"
   },
   {
    "duration": 0,
    "start_time": "2022-09-03T06:38:39.116Z"
   },
   {
    "duration": 0,
    "start_time": "2022-09-03T06:38:39.118Z"
   },
   {
    "duration": 0,
    "start_time": "2022-09-03T06:38:39.118Z"
   },
   {
    "duration": 0,
    "start_time": "2022-09-03T06:38:39.120Z"
   },
   {
    "duration": 0,
    "start_time": "2022-09-03T06:38:39.121Z"
   },
   {
    "duration": 0,
    "start_time": "2022-09-03T06:38:39.122Z"
   },
   {
    "duration": 0,
    "start_time": "2022-09-03T06:38:39.123Z"
   },
   {
    "duration": 0,
    "start_time": "2022-09-03T06:38:39.124Z"
   },
   {
    "duration": 0,
    "start_time": "2022-09-03T06:38:39.125Z"
   },
   {
    "duration": 0,
    "start_time": "2022-09-03T06:38:39.127Z"
   },
   {
    "duration": 0,
    "start_time": "2022-09-03T06:38:39.128Z"
   },
   {
    "duration": 0,
    "start_time": "2022-09-03T06:38:39.129Z"
   },
   {
    "duration": 0,
    "start_time": "2022-09-03T06:38:39.131Z"
   },
   {
    "duration": 0,
    "start_time": "2022-09-03T06:38:39.132Z"
   },
   {
    "duration": 0,
    "start_time": "2022-09-03T06:38:39.133Z"
   },
   {
    "duration": 0,
    "start_time": "2022-09-03T06:38:39.135Z"
   },
   {
    "duration": 0,
    "start_time": "2022-09-03T06:38:39.136Z"
   },
   {
    "duration": 0,
    "start_time": "2022-09-03T06:38:39.138Z"
   },
   {
    "duration": 0,
    "start_time": "2022-09-03T06:38:39.139Z"
   },
   {
    "duration": 0,
    "start_time": "2022-09-03T06:38:39.141Z"
   },
   {
    "duration": 102,
    "start_time": "2022-09-03T06:39:33.768Z"
   },
   {
    "duration": 27,
    "start_time": "2022-09-03T06:39:33.872Z"
   },
   {
    "duration": 1966,
    "start_time": "2022-09-03T06:39:33.901Z"
   },
   {
    "duration": 264,
    "start_time": "2022-09-03T06:39:35.870Z"
   },
   {
    "duration": 28,
    "start_time": "2022-09-03T06:39:36.136Z"
   },
   {
    "duration": 23,
    "start_time": "2022-09-03T06:39:36.165Z"
   },
   {
    "duration": 63,
    "start_time": "2022-09-03T06:39:36.191Z"
   },
   {
    "duration": 10,
    "start_time": "2022-09-03T06:39:36.256Z"
   },
   {
    "duration": 17,
    "start_time": "2022-09-03T06:39:36.287Z"
   },
   {
    "duration": 33,
    "start_time": "2022-09-03T06:39:36.307Z"
   },
   {
    "duration": 264,
    "start_time": "2022-09-03T06:39:36.342Z"
   },
   {
    "duration": 6,
    "start_time": "2022-09-03T06:39:36.608Z"
   },
   {
    "duration": 32153,
    "start_time": "2022-09-03T06:39:36.615Z"
   },
   {
    "duration": 644,
    "start_time": "2022-09-03T06:40:08.770Z"
   },
   {
    "duration": 490,
    "start_time": "2022-09-03T06:40:09.415Z"
   },
   {
    "duration": 16,
    "start_time": "2022-09-03T06:40:09.906Z"
   },
   {
    "duration": 3,
    "start_time": "2022-09-03T06:40:09.923Z"
   },
   {
    "duration": 177,
    "start_time": "2022-09-03T06:40:09.927Z"
   },
   {
    "duration": 190,
    "start_time": "2022-09-03T06:40:10.106Z"
   },
   {
    "duration": 202,
    "start_time": "2022-09-03T06:40:10.298Z"
   },
   {
    "duration": 183,
    "start_time": "2022-09-03T06:40:10.503Z"
   },
   {
    "duration": 191,
    "start_time": "2022-09-03T06:40:10.688Z"
   },
   {
    "duration": 177,
    "start_time": "2022-09-03T06:40:10.881Z"
   },
   {
    "duration": 299,
    "start_time": "2022-09-03T06:40:11.059Z"
   },
   {
    "duration": 28,
    "start_time": "2022-09-03T06:40:11.360Z"
   },
   {
    "duration": 4364,
    "start_time": "2022-09-03T06:40:11.390Z"
   },
   {
    "duration": 4303,
    "start_time": "2022-09-03T06:41:38.991Z"
   },
   {
    "duration": 40,
    "start_time": "2022-09-03T06:43:14.081Z"
   },
   {
    "duration": 23,
    "start_time": "2022-09-03T06:44:34.707Z"
   },
   {
    "duration": 54,
    "start_time": "2022-09-03T06:45:43.590Z"
   },
   {
    "duration": 23,
    "start_time": "2022-09-03T06:45:55.601Z"
   },
   {
    "duration": 60,
    "start_time": "2022-09-03T06:46:14.398Z"
   },
   {
    "duration": 27,
    "start_time": "2022-09-03T06:46:26.636Z"
   },
   {
    "duration": 26,
    "start_time": "2022-09-03T06:47:26.773Z"
   },
   {
    "duration": 35,
    "start_time": "2022-09-03T06:54:56.633Z"
   },
   {
    "duration": 25,
    "start_time": "2022-09-03T06:59:29.298Z"
   },
   {
    "duration": 731,
    "start_time": "2022-09-03T15:08:18.412Z"
   },
   {
    "duration": 13,
    "start_time": "2022-09-03T15:08:19.145Z"
   },
   {
    "duration": 2211,
    "start_time": "2022-09-03T15:08:19.159Z"
   },
   {
    "duration": 218,
    "start_time": "2022-09-03T15:08:21.372Z"
   },
   {
    "duration": 38,
    "start_time": "2022-09-03T15:08:21.593Z"
   },
   {
    "duration": 7,
    "start_time": "2022-09-03T15:08:21.633Z"
   },
   {
    "duration": 46,
    "start_time": "2022-09-03T15:08:21.641Z"
   },
   {
    "duration": 31,
    "start_time": "2022-09-03T15:08:21.689Z"
   },
   {
    "duration": 22,
    "start_time": "2022-09-03T15:08:21.722Z"
   },
   {
    "duration": 25,
    "start_time": "2022-09-03T15:08:21.745Z"
   },
   {
    "duration": 150,
    "start_time": "2022-09-03T15:08:21.772Z"
   },
   {
    "duration": 6,
    "start_time": "2022-09-03T15:08:21.924Z"
   },
   {
    "duration": 29370,
    "start_time": "2022-09-03T15:08:21.931Z"
   },
   {
    "duration": 697,
    "start_time": "2022-09-03T15:08:51.303Z"
   },
   {
    "duration": 454,
    "start_time": "2022-09-03T15:08:52.001Z"
   },
   {
    "duration": 19,
    "start_time": "2022-09-03T15:08:52.457Z"
   },
   {
    "duration": 3,
    "start_time": "2022-09-03T15:08:52.477Z"
   },
   {
    "duration": 152,
    "start_time": "2022-09-03T15:08:52.482Z"
   },
   {
    "duration": 134,
    "start_time": "2022-09-03T15:08:52.636Z"
   },
   {
    "duration": 173,
    "start_time": "2022-09-03T15:08:52.772Z"
   },
   {
    "duration": 175,
    "start_time": "2022-09-03T15:08:52.947Z"
   },
   {
    "duration": 198,
    "start_time": "2022-09-03T15:08:53.124Z"
   },
   {
    "duration": 176,
    "start_time": "2022-09-03T15:08:53.323Z"
   },
   {
    "duration": 339,
    "start_time": "2022-09-03T15:08:53.500Z"
   },
   {
    "duration": 18,
    "start_time": "2022-09-03T15:08:53.841Z"
   },
   {
    "duration": 22,
    "start_time": "2022-09-03T15:08:53.861Z"
   },
   {
    "duration": 48,
    "start_time": "2022-09-03T15:11:26.847Z"
   },
   {
    "duration": 174,
    "start_time": "2022-09-03T15:32:42.500Z"
   },
   {
    "duration": 201,
    "start_time": "2022-09-03T15:32:54.644Z"
   },
   {
    "duration": 124,
    "start_time": "2022-09-03T15:33:02.634Z"
   },
   {
    "duration": 47,
    "start_time": "2022-09-03T16:01:56.789Z"
   },
   {
    "duration": 3,
    "start_time": "2022-09-03T16:02:28.685Z"
   },
   {
    "duration": 113,
    "start_time": "2022-09-03T16:02:28.693Z"
   },
   {
    "duration": 14,
    "start_time": "2022-09-03T16:02:28.807Z"
   },
   {
    "duration": 1977,
    "start_time": "2022-09-03T16:02:28.822Z"
   },
   {
    "duration": 266,
    "start_time": "2022-09-03T16:02:30.801Z"
   },
   {
    "duration": 35,
    "start_time": "2022-09-03T16:02:31.069Z"
   },
   {
    "duration": 7,
    "start_time": "2022-09-03T16:02:31.106Z"
   },
   {
    "duration": 22,
    "start_time": "2022-09-03T16:02:31.115Z"
   },
   {
    "duration": 1965,
    "start_time": "2022-09-03T16:02:31.138Z"
   },
   {
    "duration": 2,
    "start_time": "2022-09-03T16:04:24.372Z"
   },
   {
    "duration": 105,
    "start_time": "2022-09-03T16:04:24.388Z"
   },
   {
    "duration": 13,
    "start_time": "2022-09-03T16:04:24.495Z"
   },
   {
    "duration": 2094,
    "start_time": "2022-09-03T16:04:24.510Z"
   },
   {
    "duration": 265,
    "start_time": "2022-09-03T16:04:26.606Z"
   },
   {
    "duration": 34,
    "start_time": "2022-09-03T16:04:26.873Z"
   },
   {
    "duration": 10,
    "start_time": "2022-09-03T16:04:26.909Z"
   },
   {
    "duration": 17,
    "start_time": "2022-09-03T16:04:26.921Z"
   },
   {
    "duration": 58,
    "start_time": "2022-09-03T16:04:26.939Z"
   },
   {
    "duration": 3,
    "start_time": "2022-09-03T16:10:30.097Z"
   },
   {
    "duration": 107,
    "start_time": "2022-09-03T16:10:30.176Z"
   },
   {
    "duration": 13,
    "start_time": "2022-09-03T16:10:30.285Z"
   },
   {
    "duration": 2041,
    "start_time": "2022-09-03T16:10:30.299Z"
   },
   {
    "duration": 246,
    "start_time": "2022-09-03T16:10:32.342Z"
   },
   {
    "duration": 27,
    "start_time": "2022-09-03T16:10:32.590Z"
   },
   {
    "duration": 14,
    "start_time": "2022-09-03T16:10:32.618Z"
   },
   {
    "duration": 18,
    "start_time": "2022-09-03T16:10:32.633Z"
   },
   {
    "duration": 52,
    "start_time": "2022-09-03T16:10:32.653Z"
   },
   {
    "duration": 8,
    "start_time": "2022-09-03T16:10:32.706Z"
   },
   {
    "duration": 33,
    "start_time": "2022-09-03T16:10:32.715Z"
   },
   {
    "duration": 37,
    "start_time": "2022-09-03T16:10:32.749Z"
   },
   {
    "duration": 144,
    "start_time": "2022-09-03T16:10:32.788Z"
   },
   {
    "duration": 7,
    "start_time": "2022-09-03T16:10:32.934Z"
   },
   {
    "duration": 30492,
    "start_time": "2022-09-03T16:10:32.944Z"
   },
   {
    "duration": 672,
    "start_time": "2022-09-03T16:11:03.438Z"
   },
   {
    "duration": 640,
    "start_time": "2022-09-03T16:11:04.112Z"
   },
   {
    "duration": 17,
    "start_time": "2022-09-03T16:11:04.754Z"
   },
   {
    "duration": 136,
    "start_time": "2022-09-03T16:11:04.773Z"
   },
   {
    "duration": 163,
    "start_time": "2022-09-03T16:11:04.911Z"
   },
   {
    "duration": 137,
    "start_time": "2022-09-03T16:11:05.076Z"
   },
   {
    "duration": 135,
    "start_time": "2022-09-03T16:11:05.214Z"
   },
   {
    "duration": 157,
    "start_time": "2022-09-03T16:11:05.351Z"
   },
   {
    "duration": 149,
    "start_time": "2022-09-03T16:11:05.510Z"
   },
   {
    "duration": 141,
    "start_time": "2022-09-03T16:11:05.661Z"
   },
   {
    "duration": 127,
    "start_time": "2022-09-03T16:11:05.803Z"
   },
   {
    "duration": 164,
    "start_time": "2022-09-03T16:11:05.931Z"
   },
   {
    "duration": 144,
    "start_time": "2022-09-03T16:11:06.097Z"
   },
   {
    "duration": 187,
    "start_time": "2022-09-03T16:11:06.243Z"
   },
   {
    "duration": 143,
    "start_time": "2022-09-03T16:11:06.431Z"
   },
   {
    "duration": 172,
    "start_time": "2022-09-03T16:11:06.576Z"
   },
   {
    "duration": 196,
    "start_time": "2022-09-03T16:11:06.750Z"
   },
   {
    "duration": 140,
    "start_time": "2022-09-03T16:11:53.268Z"
   },
   {
    "duration": 185,
    "start_time": "2022-09-03T16:14:26.269Z"
   },
   {
    "duration": 131,
    "start_time": "2022-09-03T16:14:49.884Z"
   },
   {
    "duration": 140,
    "start_time": "2022-09-03T16:15:00.555Z"
   },
   {
    "duration": 163,
    "start_time": "2022-09-03T16:15:07.190Z"
   },
   {
    "duration": 126,
    "start_time": "2022-09-03T16:15:15.347Z"
   },
   {
    "duration": 106,
    "start_time": "2022-09-03T16:15:29.643Z"
   },
   {
    "duration": 181,
    "start_time": "2022-09-03T16:15:48.054Z"
   },
   {
    "duration": 123,
    "start_time": "2022-09-03T16:15:51.251Z"
   },
   {
    "duration": 119,
    "start_time": "2022-09-03T16:15:55.651Z"
   },
   {
    "duration": 142,
    "start_time": "2022-09-03T16:16:02.331Z"
   },
   {
    "duration": 113,
    "start_time": "2022-09-03T16:16:30.153Z"
   },
   {
    "duration": 131,
    "start_time": "2022-09-03T16:41:24.280Z"
   },
   {
    "duration": 131,
    "start_time": "2022-09-03T16:41:42.885Z"
   },
   {
    "duration": 323,
    "start_time": "2022-09-03T16:41:52.247Z"
   },
   {
    "duration": 134,
    "start_time": "2022-09-03T16:42:22.558Z"
   },
   {
    "duration": 156,
    "start_time": "2022-09-03T16:43:26.216Z"
   },
   {
    "duration": 135,
    "start_time": "2022-09-03T16:43:37.011Z"
   },
   {
    "duration": 691,
    "start_time": "2022-09-03T16:47:33.415Z"
   },
   {
    "duration": 631,
    "start_time": "2022-09-03T16:47:48.288Z"
   },
   {
    "duration": 547,
    "start_time": "2022-09-03T16:48:06.662Z"
   },
   {
    "duration": 542,
    "start_time": "2022-09-03T16:48:28.193Z"
   },
   {
    "duration": 791,
    "start_time": "2022-09-03T16:49:20.131Z"
   },
   {
    "duration": 3,
    "start_time": "2022-09-03T16:49:29.275Z"
   },
   {
    "duration": 113,
    "start_time": "2022-09-03T16:49:29.286Z"
   },
   {
    "duration": 13,
    "start_time": "2022-09-03T16:49:29.401Z"
   },
   {
    "duration": 1926,
    "start_time": "2022-09-03T16:49:29.416Z"
   },
   {
    "duration": 249,
    "start_time": "2022-09-03T16:49:31.344Z"
   },
   {
    "duration": 30,
    "start_time": "2022-09-03T16:49:31.595Z"
   },
   {
    "duration": 10,
    "start_time": "2022-09-03T16:49:31.627Z"
   },
   {
    "duration": 18,
    "start_time": "2022-09-03T16:49:31.639Z"
   },
   {
    "duration": 69,
    "start_time": "2022-09-03T16:49:31.659Z"
   },
   {
    "duration": 9,
    "start_time": "2022-09-03T16:49:31.730Z"
   },
   {
    "duration": 12,
    "start_time": "2022-09-03T16:49:31.742Z"
   },
   {
    "duration": 46,
    "start_time": "2022-09-03T16:49:31.756Z"
   },
   {
    "duration": 161,
    "start_time": "2022-09-03T16:49:31.804Z"
   },
   {
    "duration": 6,
    "start_time": "2022-09-03T16:49:31.968Z"
   },
   {
    "duration": 32100,
    "start_time": "2022-09-03T16:49:31.976Z"
   },
   {
    "duration": 861,
    "start_time": "2022-09-03T16:50:04.078Z"
   },
   {
    "duration": 486,
    "start_time": "2022-09-03T16:50:04.941Z"
   },
   {
    "duration": 16,
    "start_time": "2022-09-03T16:50:05.428Z"
   },
   {
    "duration": 151,
    "start_time": "2022-09-03T16:50:05.447Z"
   },
   {
    "duration": 145,
    "start_time": "2022-09-03T16:50:05.600Z"
   },
   {
    "duration": 122,
    "start_time": "2022-09-03T16:50:05.747Z"
   },
   {
    "duration": 154,
    "start_time": "2022-09-03T16:50:05.870Z"
   },
   {
    "duration": 147,
    "start_time": "2022-09-03T16:50:06.026Z"
   },
   {
    "duration": 620,
    "start_time": "2022-09-03T16:50:06.175Z"
   },
   {
    "duration": 9,
    "start_time": "2022-09-03T16:50:50.423Z"
   },
   {
    "duration": 6,
    "start_time": "2022-09-03T16:51:06.129Z"
   },
   {
    "duration": 6,
    "start_time": "2022-09-03T16:51:33.512Z"
   },
   {
    "duration": 149,
    "start_time": "2022-09-03T16:51:51.990Z"
   },
   {
    "duration": 134,
    "start_time": "2022-09-03T16:52:31.663Z"
   },
   {
    "duration": 137,
    "start_time": "2022-09-03T16:52:38.279Z"
   },
   {
    "duration": 131,
    "start_time": "2022-09-03T16:52:43.287Z"
   },
   {
    "duration": 146,
    "start_time": "2022-09-03T16:55:23.518Z"
   },
   {
    "duration": 147,
    "start_time": "2022-09-03T16:55:30.705Z"
   },
   {
    "duration": 151,
    "start_time": "2022-09-03T16:59:09.651Z"
   },
   {
    "duration": 145,
    "start_time": "2022-09-03T16:59:23.997Z"
   },
   {
    "duration": 121,
    "start_time": "2022-09-03T17:01:03.047Z"
   },
   {
    "duration": 137,
    "start_time": "2022-09-03T17:02:30.345Z"
   },
   {
    "duration": 135,
    "start_time": "2022-09-03T17:04:07.805Z"
   },
   {
    "duration": 41,
    "start_time": "2022-09-04T04:46:33.076Z"
   },
   {
    "duration": 366,
    "start_time": "2022-09-04T04:46:37.573Z"
   },
   {
    "duration": 337,
    "start_time": "2022-09-04T04:46:37.940Z"
   },
   {
    "duration": 12,
    "start_time": "2022-09-04T04:46:38.279Z"
   },
   {
    "duration": 2236,
    "start_time": "2022-09-04T04:46:38.293Z"
   },
   {
    "duration": 225,
    "start_time": "2022-09-04T04:46:40.531Z"
   },
   {
    "duration": 28,
    "start_time": "2022-09-04T04:46:40.758Z"
   },
   {
    "duration": 7,
    "start_time": "2022-09-04T04:46:40.788Z"
   },
   {
    "duration": 65,
    "start_time": "2022-09-04T04:46:40.797Z"
   },
   {
    "duration": 42,
    "start_time": "2022-09-04T04:46:40.864Z"
   },
   {
    "duration": 6,
    "start_time": "2022-09-04T04:46:40.908Z"
   },
   {
    "duration": 31,
    "start_time": "2022-09-04T04:46:40.916Z"
   },
   {
    "duration": 24,
    "start_time": "2022-09-04T04:46:40.948Z"
   },
   {
    "duration": 149,
    "start_time": "2022-09-04T04:46:40.973Z"
   },
   {
    "duration": 5,
    "start_time": "2022-09-04T04:46:41.124Z"
   },
   {
    "duration": 28851,
    "start_time": "2022-09-04T04:46:41.137Z"
   },
   {
    "duration": 685,
    "start_time": "2022-09-04T04:47:09.990Z"
   },
   {
    "duration": 443,
    "start_time": "2022-09-04T04:47:10.677Z"
   },
   {
    "duration": 16,
    "start_time": "2022-09-04T04:47:11.122Z"
   },
   {
    "duration": 131,
    "start_time": "2022-09-04T04:47:11.140Z"
   },
   {
    "duration": 117,
    "start_time": "2022-09-04T04:47:11.272Z"
   },
   {
    "duration": 112,
    "start_time": "2022-09-04T04:47:11.390Z"
   },
   {
    "duration": 125,
    "start_time": "2022-09-04T04:47:11.503Z"
   },
   {
    "duration": 132,
    "start_time": "2022-09-04T04:47:11.629Z"
   },
   {
    "duration": 116,
    "start_time": "2022-09-04T04:47:11.762Z"
   },
   {
    "duration": 131,
    "start_time": "2022-09-04T04:47:11.879Z"
   },
   {
    "duration": 134,
    "start_time": "2022-09-04T04:47:12.011Z"
   },
   {
    "duration": 113,
    "start_time": "2022-09-04T04:47:12.146Z"
   },
   {
    "duration": 193,
    "start_time": "2022-09-04T04:47:12.262Z"
   },
   {
    "duration": 133,
    "start_time": "2022-09-04T04:47:12.456Z"
   },
   {
    "duration": 140,
    "start_time": "2022-09-04T04:47:12.591Z"
   },
   {
    "duration": 222,
    "start_time": "2022-09-04T04:47:12.732Z"
   },
   {
    "duration": 0,
    "start_time": "2022-09-04T04:47:12.955Z"
   },
   {
    "duration": 2,
    "start_time": "2022-09-04T04:47:52.526Z"
   },
   {
    "duration": 121,
    "start_time": "2022-09-04T04:47:52.536Z"
   },
   {
    "duration": 14,
    "start_time": "2022-09-04T04:47:52.659Z"
   },
   {
    "duration": 2051,
    "start_time": "2022-09-04T04:47:52.674Z"
   },
   {
    "duration": 254,
    "start_time": "2022-09-04T04:47:54.727Z"
   },
   {
    "duration": 30,
    "start_time": "2022-09-04T04:47:54.982Z"
   },
   {
    "duration": 8,
    "start_time": "2022-09-04T04:47:55.013Z"
   },
   {
    "duration": 30,
    "start_time": "2022-09-04T04:47:55.023Z"
   },
   {
    "duration": 46,
    "start_time": "2022-09-04T04:47:55.054Z"
   },
   {
    "duration": 7,
    "start_time": "2022-09-04T04:47:55.102Z"
   },
   {
    "duration": 11,
    "start_time": "2022-09-04T04:47:55.138Z"
   },
   {
    "duration": 21,
    "start_time": "2022-09-04T04:47:55.151Z"
   },
   {
    "duration": 153,
    "start_time": "2022-09-04T04:47:55.173Z"
   },
   {
    "duration": 13,
    "start_time": "2022-09-04T04:47:55.327Z"
   },
   {
    "duration": 28966,
    "start_time": "2022-09-04T04:47:55.341Z"
   },
   {
    "duration": 599,
    "start_time": "2022-09-04T04:48:24.309Z"
   },
   {
    "duration": 441,
    "start_time": "2022-09-04T04:48:24.909Z"
   },
   {
    "duration": 15,
    "start_time": "2022-09-04T04:48:25.352Z"
   },
   {
    "duration": 137,
    "start_time": "2022-09-04T04:48:25.368Z"
   },
   {
    "duration": 236,
    "start_time": "2022-09-04T04:48:25.507Z"
   },
   {
    "duration": 115,
    "start_time": "2022-09-04T04:48:25.745Z"
   },
   {
    "duration": 136,
    "start_time": "2022-09-04T04:48:25.861Z"
   },
   {
    "duration": 122,
    "start_time": "2022-09-04T04:48:25.999Z"
   },
   {
    "duration": 135,
    "start_time": "2022-09-04T04:48:26.123Z"
   },
   {
    "duration": 130,
    "start_time": "2022-09-04T04:48:26.260Z"
   },
   {
    "duration": 138,
    "start_time": "2022-09-04T04:48:26.392Z"
   },
   {
    "duration": 125,
    "start_time": "2022-09-04T04:48:26.538Z"
   },
   {
    "duration": 111,
    "start_time": "2022-09-04T04:48:26.665Z"
   },
   {
    "duration": 133,
    "start_time": "2022-09-04T04:48:26.779Z"
   },
   {
    "duration": 147,
    "start_time": "2022-09-04T04:48:26.914Z"
   },
   {
    "duration": 216,
    "start_time": "2022-09-04T04:48:27.063Z"
   },
   {
    "duration": 0,
    "start_time": "2022-09-04T04:48:27.281Z"
   },
   {
    "duration": 118,
    "start_time": "2022-09-04T04:48:46.872Z"
   },
   {
    "duration": 126,
    "start_time": "2022-09-04T04:50:04.869Z"
   },
   {
    "duration": 122,
    "start_time": "2022-09-04T04:50:10.884Z"
   },
   {
    "duration": 156,
    "start_time": "2022-09-04T04:52:49.531Z"
   },
   {
    "duration": 101,
    "start_time": "2022-09-04T04:55:09.513Z"
   },
   {
    "duration": 134,
    "start_time": "2022-09-04T04:55:39.425Z"
   },
   {
    "duration": 130,
    "start_time": "2022-09-04T04:55:44.027Z"
   },
   {
    "duration": 160,
    "start_time": "2022-09-04T05:01:26.847Z"
   },
   {
    "duration": 17,
    "start_time": "2022-09-04T05:01:56.353Z"
   },
   {
    "duration": 182,
    "start_time": "2022-09-04T05:02:43.610Z"
   },
   {
    "duration": 233,
    "start_time": "2022-09-04T05:02:56.893Z"
   },
   {
    "duration": 173,
    "start_time": "2022-09-04T05:03:10.047Z"
   },
   {
    "duration": 158,
    "start_time": "2022-09-04T05:03:17.180Z"
   },
   {
    "duration": 164,
    "start_time": "2022-09-04T05:03:21.270Z"
   },
   {
    "duration": 158,
    "start_time": "2022-09-04T05:04:21.615Z"
   },
   {
    "duration": 145,
    "start_time": "2022-09-04T05:04:32.777Z"
   },
   {
    "duration": 149,
    "start_time": "2022-09-04T05:04:36.891Z"
   },
   {
    "duration": 157,
    "start_time": "2022-09-04T05:06:09.755Z"
   },
   {
    "duration": 160,
    "start_time": "2022-09-04T05:07:09.647Z"
   },
   {
    "duration": 158,
    "start_time": "2022-09-04T05:07:58.005Z"
   },
   {
    "duration": 217,
    "start_time": "2022-09-04T05:08:40.698Z"
   },
   {
    "duration": 228,
    "start_time": "2022-09-04T05:09:33.047Z"
   },
   {
    "duration": 223,
    "start_time": "2022-09-04T05:10:01.063Z"
   },
   {
    "duration": 148,
    "start_time": "2022-09-04T05:11:37.865Z"
   },
   {
    "duration": 254,
    "start_time": "2022-09-04T05:11:57.009Z"
   },
   {
    "duration": 127,
    "start_time": "2022-09-04T05:13:18.452Z"
   },
   {
    "duration": 174,
    "start_time": "2022-09-04T05:14:34.498Z"
   },
   {
    "duration": 223,
    "start_time": "2022-09-04T05:14:55.438Z"
   },
   {
    "duration": 108,
    "start_time": "2022-09-04T05:16:05.837Z"
   },
   {
    "duration": 99,
    "start_time": "2022-09-04T05:17:00.676Z"
   },
   {
    "duration": 196,
    "start_time": "2022-09-04T05:18:03.644Z"
   },
   {
    "duration": 129,
    "start_time": "2022-09-04T05:18:54.857Z"
   },
   {
    "duration": 128,
    "start_time": "2022-09-04T05:19:47.341Z"
   },
   {
    "duration": 111,
    "start_time": "2022-09-04T05:19:59.043Z"
   },
   {
    "duration": 116,
    "start_time": "2022-09-04T05:20:40.845Z"
   },
   {
    "duration": 116,
    "start_time": "2022-09-04T05:20:48.306Z"
   },
   {
    "duration": 120,
    "start_time": "2022-09-04T05:20:58.789Z"
   },
   {
    "duration": 119,
    "start_time": "2022-09-04T05:21:47.372Z"
   },
   {
    "duration": 290,
    "start_time": "2022-09-04T05:22:01.961Z"
   },
   {
    "duration": 117,
    "start_time": "2022-09-04T05:22:27.137Z"
   },
   {
    "duration": 124,
    "start_time": "2022-09-04T05:22:45.916Z"
   },
   {
    "duration": 131,
    "start_time": "2022-09-04T05:23:01.009Z"
   },
   {
    "duration": 136,
    "start_time": "2022-09-04T05:26:39.319Z"
   },
   {
    "duration": 148,
    "start_time": "2022-09-04T05:28:00.495Z"
   },
   {
    "duration": 407,
    "start_time": "2022-09-04T17:27:00.329Z"
   },
   {
    "duration": 344,
    "start_time": "2022-09-04T17:27:00.738Z"
   },
   {
    "duration": 15,
    "start_time": "2022-09-04T17:27:01.084Z"
   },
   {
    "duration": 2405,
    "start_time": "2022-09-04T17:27:01.101Z"
   },
   {
    "duration": 266,
    "start_time": "2022-09-04T17:27:03.508Z"
   },
   {
    "duration": 43,
    "start_time": "2022-09-04T17:27:03.776Z"
   },
   {
    "duration": 10,
    "start_time": "2022-09-04T17:27:03.822Z"
   },
   {
    "duration": 77,
    "start_time": "2022-09-04T17:27:03.834Z"
   },
   {
    "duration": 53,
    "start_time": "2022-09-04T17:27:03.913Z"
   },
   {
    "duration": 8,
    "start_time": "2022-09-04T17:27:03.986Z"
   },
   {
    "duration": 14,
    "start_time": "2022-09-04T17:27:03.996Z"
   },
   {
    "duration": 34,
    "start_time": "2022-09-04T17:27:04.013Z"
   },
   {
    "duration": 209,
    "start_time": "2022-09-04T17:27:04.049Z"
   },
   {
    "duration": 7,
    "start_time": "2022-09-04T17:27:04.260Z"
   },
   {
    "duration": 31499,
    "start_time": "2022-09-04T17:27:04.269Z"
   },
   {
    "duration": 711,
    "start_time": "2022-09-04T17:27:35.770Z"
   },
   {
    "duration": 541,
    "start_time": "2022-09-04T17:27:36.483Z"
   },
   {
    "duration": 13,
    "start_time": "2022-09-04T17:27:37.026Z"
   },
   {
    "duration": 136,
    "start_time": "2022-09-04T17:27:37.041Z"
   },
   {
    "duration": 122,
    "start_time": "2022-09-04T17:27:37.178Z"
   },
   {
    "duration": 115,
    "start_time": "2022-09-04T17:27:37.302Z"
   },
   {
    "duration": 144,
    "start_time": "2022-09-04T17:27:37.418Z"
   },
   {
    "duration": 140,
    "start_time": "2022-09-04T17:27:37.564Z"
   },
   {
    "duration": 141,
    "start_time": "2022-09-04T17:27:37.706Z"
   },
   {
    "duration": 138,
    "start_time": "2022-09-04T17:27:37.849Z"
   },
   {
    "duration": 142,
    "start_time": "2022-09-04T17:27:37.988Z"
   },
   {
    "duration": 205,
    "start_time": "2022-09-04T17:27:38.131Z"
   },
   {
    "duration": 115,
    "start_time": "2022-09-04T17:27:38.339Z"
   },
   {
    "duration": 139,
    "start_time": "2022-09-04T17:27:38.455Z"
   },
   {
    "duration": 148,
    "start_time": "2022-09-04T17:27:38.596Z"
   },
   {
    "duration": 168,
    "start_time": "2022-09-04T17:27:38.746Z"
   },
   {
    "duration": 143,
    "start_time": "2022-09-04T17:27:38.916Z"
   },
   {
    "duration": 137,
    "start_time": "2022-09-04T17:27:39.060Z"
   },
   {
    "duration": 132,
    "start_time": "2022-09-04T17:27:39.198Z"
   },
   {
    "duration": 185,
    "start_time": "2022-09-04T17:27:39.332Z"
   },
   {
    "duration": 148,
    "start_time": "2022-09-04T17:27:39.518Z"
   },
   {
    "duration": 32,
    "start_time": "2022-09-04T17:27:39.667Z"
   },
   {
    "duration": 20,
    "start_time": "2022-09-04T17:27:53.474Z"
   },
   {
    "duration": 418,
    "start_time": "2022-09-05T12:00:03.470Z"
   },
   {
    "duration": 719,
    "start_time": "2022-09-05T12:00:03.889Z"
   },
   {
    "duration": 18,
    "start_time": "2022-09-05T12:00:04.610Z"
   },
   {
    "duration": 2380,
    "start_time": "2022-09-05T12:00:04.630Z"
   },
   {
    "duration": 217,
    "start_time": "2022-09-05T12:00:07.011Z"
   },
   {
    "duration": 26,
    "start_time": "2022-09-05T12:00:07.230Z"
   },
   {
    "duration": 10,
    "start_time": "2022-09-05T12:00:07.258Z"
   },
   {
    "duration": 66,
    "start_time": "2022-09-05T12:00:07.269Z"
   },
   {
    "duration": 42,
    "start_time": "2022-09-05T12:00:07.337Z"
   },
   {
    "duration": 18,
    "start_time": "2022-09-05T12:00:07.381Z"
   },
   {
    "duration": 12,
    "start_time": "2022-09-05T12:00:07.401Z"
   },
   {
    "duration": 26,
    "start_time": "2022-09-05T12:00:07.414Z"
   },
   {
    "duration": 189,
    "start_time": "2022-09-05T12:00:07.442Z"
   },
   {
    "duration": 6,
    "start_time": "2022-09-05T12:00:07.632Z"
   },
   {
    "duration": 26750,
    "start_time": "2022-09-05T12:00:07.639Z"
   },
   {
    "duration": 942,
    "start_time": "2022-09-05T12:00:34.391Z"
   },
   {
    "duration": 539,
    "start_time": "2022-09-05T12:00:35.335Z"
   },
   {
    "duration": 14,
    "start_time": "2022-09-05T12:00:35.876Z"
   },
   {
    "duration": 148,
    "start_time": "2022-09-05T12:00:35.899Z"
   },
   {
    "duration": 122,
    "start_time": "2022-09-05T12:00:36.048Z"
   },
   {
    "duration": 130,
    "start_time": "2022-09-05T12:00:36.172Z"
   },
   {
    "duration": 150,
    "start_time": "2022-09-05T12:00:36.304Z"
   },
   {
    "duration": 130,
    "start_time": "2022-09-05T12:00:36.455Z"
   },
   {
    "duration": 122,
    "start_time": "2022-09-05T12:00:36.587Z"
   },
   {
    "duration": 135,
    "start_time": "2022-09-05T12:00:36.711Z"
   },
   {
    "duration": 140,
    "start_time": "2022-09-05T12:00:36.847Z"
   },
   {
    "duration": 134,
    "start_time": "2022-09-05T12:00:36.989Z"
   },
   {
    "duration": 178,
    "start_time": "2022-09-05T12:00:37.126Z"
   },
   {
    "duration": 141,
    "start_time": "2022-09-05T12:00:37.306Z"
   },
   {
    "duration": 137,
    "start_time": "2022-09-05T12:00:37.449Z"
   },
   {
    "duration": 163,
    "start_time": "2022-09-05T12:00:37.588Z"
   },
   {
    "duration": 136,
    "start_time": "2022-09-05T12:00:37.753Z"
   },
   {
    "duration": 124,
    "start_time": "2022-09-05T12:00:37.898Z"
   },
   {
    "duration": 117,
    "start_time": "2022-09-05T12:00:38.023Z"
   },
   {
    "duration": 188,
    "start_time": "2022-09-05T12:00:38.141Z"
   },
   {
    "duration": 141,
    "start_time": "2022-09-05T12:00:38.331Z"
   },
   {
    "duration": 29,
    "start_time": "2022-09-05T12:00:38.474Z"
   },
   {
    "duration": 47,
    "start_time": "2022-09-05T13:06:14.219Z"
   },
   {
    "duration": 374,
    "start_time": "2022-09-05T13:06:22.940Z"
   },
   {
    "duration": 354,
    "start_time": "2022-09-05T13:06:23.316Z"
   },
   {
    "duration": 16,
    "start_time": "2022-09-05T13:06:23.671Z"
   },
   {
    "duration": 2606,
    "start_time": "2022-09-05T13:06:23.689Z"
   },
   {
    "duration": 277,
    "start_time": "2022-09-05T13:06:26.298Z"
   },
   {
    "duration": 45,
    "start_time": "2022-09-05T13:06:26.577Z"
   },
   {
    "duration": 9,
    "start_time": "2022-09-05T13:06:26.624Z"
   },
   {
    "duration": 73,
    "start_time": "2022-09-05T13:06:26.635Z"
   },
   {
    "duration": 54,
    "start_time": "2022-09-05T13:06:26.710Z"
   },
   {
    "duration": 8,
    "start_time": "2022-09-05T13:06:26.767Z"
   },
   {
    "duration": 37,
    "start_time": "2022-09-05T13:06:26.777Z"
   },
   {
    "duration": 31,
    "start_time": "2022-09-05T13:06:26.816Z"
   },
   {
    "duration": 195,
    "start_time": "2022-09-05T13:06:26.848Z"
   },
   {
    "duration": 6,
    "start_time": "2022-09-05T13:06:27.045Z"
   },
   {
    "duration": 31945,
    "start_time": "2022-09-05T13:06:27.052Z"
   },
   {
    "duration": 782,
    "start_time": "2022-09-05T13:06:58.999Z"
   },
   {
    "duration": 528,
    "start_time": "2022-09-05T13:06:59.783Z"
   },
   {
    "duration": 16,
    "start_time": "2022-09-05T13:07:00.313Z"
   },
   {
    "duration": 161,
    "start_time": "2022-09-05T13:07:00.331Z"
   },
   {
    "duration": 145,
    "start_time": "2022-09-05T13:07:00.494Z"
   },
   {
    "duration": 142,
    "start_time": "2022-09-05T13:07:00.641Z"
   },
   {
    "duration": 163,
    "start_time": "2022-09-05T13:07:00.784Z"
   },
   {
    "duration": 153,
    "start_time": "2022-09-05T13:07:00.949Z"
   },
   {
    "duration": 146,
    "start_time": "2022-09-05T13:07:01.103Z"
   },
   {
    "duration": 160,
    "start_time": "2022-09-05T13:07:01.251Z"
   },
   {
    "duration": 182,
    "start_time": "2022-09-05T13:07:01.413Z"
   },
   {
    "duration": 151,
    "start_time": "2022-09-05T13:07:01.600Z"
   },
   {
    "duration": 249,
    "start_time": "2022-09-05T13:07:01.755Z"
   },
   {
    "duration": 160,
    "start_time": "2022-09-05T13:07:02.006Z"
   },
   {
    "duration": 176,
    "start_time": "2022-09-05T13:07:02.168Z"
   },
   {
    "duration": 182,
    "start_time": "2022-09-05T13:07:02.346Z"
   },
   {
    "duration": 163,
    "start_time": "2022-09-05T13:07:02.530Z"
   },
   {
    "duration": 146,
    "start_time": "2022-09-05T13:07:02.700Z"
   },
   {
    "duration": 140,
    "start_time": "2022-09-05T13:07:02.848Z"
   },
   {
    "duration": 200,
    "start_time": "2022-09-05T13:07:03.000Z"
   },
   {
    "duration": 168,
    "start_time": "2022-09-05T13:07:03.203Z"
   },
   {
    "duration": 38,
    "start_time": "2022-09-05T13:07:03.373Z"
   },
   {
    "duration": 162,
    "start_time": "2022-09-05T13:07:03.414Z"
   },
   {
    "duration": 146,
    "start_time": "2022-09-05T13:08:10.075Z"
   },
   {
    "duration": 155,
    "start_time": "2022-09-05T13:09:09.617Z"
   }
  ],
  "kernelspec": {
   "display_name": "Python 3 (ipykernel)",
   "language": "python",
   "name": "python3"
  },
  "language_info": {
   "codemirror_mode": {
    "name": "ipython",
    "version": 3
   },
   "file_extension": ".py",
   "mimetype": "text/x-python",
   "name": "python",
   "nbconvert_exporter": "python",
   "pygments_lexer": "ipython3",
   "version": "3.9.13"
  },
  "toc": {
   "base_numbering": 1,
   "nav_menu": {},
   "number_sections": true,
   "sideBar": true,
   "skip_h1_title": true,
   "title_cell": "Table of Contents",
   "title_sidebar": "Contents",
   "toc_cell": false,
   "toc_position": {
    "height": "calc(100% - 180px)",
    "left": "10px",
    "top": "150px",
    "width": "164.993px"
   },
   "toc_section_display": true,
   "toc_window_display": true
  }
 },
 "nbformat": 4,
 "nbformat_minor": 2
}
