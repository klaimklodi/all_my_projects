{
 "cells": [
  {
   "cell_type": "markdown",
   "metadata": {},
   "source": [
    "## Определение успешности компьютерных игр"
   ]
  },
  {
   "cell_type": "markdown",
   "metadata": {},
   "source": [
    "### Задача проекта\n",
    "\n",
    "Используя исторические данные о продажах компьютерных игр, оценки пользователей и экспертов, жанры и платформы, выявить закономерности, определяющие успешность игры "
   ]
  },
  {
   "cell_type": "markdown",
   "metadata": {},
   "source": [
    "### Общая информация"
   ]
  },
  {
   "cell_type": "code",
   "execution_count": 2,
   "metadata": {},
   "outputs": [],
   "source": [
    "import pandas as pd\n",
    "import numpy as np\n",
    "import matplotlib.pyplot as plt"
   ]
  },
  {
   "cell_type": "code",
   "execution_count": 3,
   "metadata": {},
   "outputs": [
    {
     "data": {
      "text/html": [
       "<div>\n",
       "<style scoped>\n",
       "    .dataframe tbody tr th:only-of-type {\n",
       "        vertical-align: middle;\n",
       "    }\n",
       "\n",
       "    .dataframe tbody tr th {\n",
       "        vertical-align: top;\n",
       "    }\n",
       "\n",
       "    .dataframe thead th {\n",
       "        text-align: right;\n",
       "    }\n",
       "</style>\n",
       "<table border=\"1\" class=\"dataframe\">\n",
       "  <thead>\n",
       "    <tr style=\"text-align: right;\">\n",
       "      <th></th>\n",
       "      <th>Name</th>\n",
       "      <th>Platform</th>\n",
       "      <th>Year_of_Release</th>\n",
       "      <th>Genre</th>\n",
       "      <th>NA_sales</th>\n",
       "      <th>EU_sales</th>\n",
       "      <th>JP_sales</th>\n",
       "      <th>Other_sales</th>\n",
       "      <th>Critic_Score</th>\n",
       "      <th>User_Score</th>\n",
       "      <th>Rating</th>\n",
       "    </tr>\n",
       "  </thead>\n",
       "  <tbody>\n",
       "    <tr>\n",
       "      <th>0</th>\n",
       "      <td>Wii Sports</td>\n",
       "      <td>Wii</td>\n",
       "      <td>2006.0</td>\n",
       "      <td>Sports</td>\n",
       "      <td>41.36</td>\n",
       "      <td>28.96</td>\n",
       "      <td>3.77</td>\n",
       "      <td>8.45</td>\n",
       "      <td>76.0</td>\n",
       "      <td>8</td>\n",
       "      <td>E</td>\n",
       "    </tr>\n",
       "    <tr>\n",
       "      <th>1</th>\n",
       "      <td>Super Mario Bros.</td>\n",
       "      <td>NES</td>\n",
       "      <td>1985.0</td>\n",
       "      <td>Platform</td>\n",
       "      <td>29.08</td>\n",
       "      <td>3.58</td>\n",
       "      <td>6.81</td>\n",
       "      <td>0.77</td>\n",
       "      <td>NaN</td>\n",
       "      <td>NaN</td>\n",
       "      <td>NaN</td>\n",
       "    </tr>\n",
       "    <tr>\n",
       "      <th>2</th>\n",
       "      <td>Mario Kart Wii</td>\n",
       "      <td>Wii</td>\n",
       "      <td>2008.0</td>\n",
       "      <td>Racing</td>\n",
       "      <td>15.68</td>\n",
       "      <td>12.76</td>\n",
       "      <td>3.79</td>\n",
       "      <td>3.29</td>\n",
       "      <td>82.0</td>\n",
       "      <td>8.3</td>\n",
       "      <td>E</td>\n",
       "    </tr>\n",
       "    <tr>\n",
       "      <th>3</th>\n",
       "      <td>Wii Sports Resort</td>\n",
       "      <td>Wii</td>\n",
       "      <td>2009.0</td>\n",
       "      <td>Sports</td>\n",
       "      <td>15.61</td>\n",
       "      <td>10.93</td>\n",
       "      <td>3.28</td>\n",
       "      <td>2.95</td>\n",
       "      <td>80.0</td>\n",
       "      <td>8</td>\n",
       "      <td>E</td>\n",
       "    </tr>\n",
       "    <tr>\n",
       "      <th>4</th>\n",
       "      <td>Pokemon Red/Pokemon Blue</td>\n",
       "      <td>GB</td>\n",
       "      <td>1996.0</td>\n",
       "      <td>Role-Playing</td>\n",
       "      <td>11.27</td>\n",
       "      <td>8.89</td>\n",
       "      <td>10.22</td>\n",
       "      <td>1.00</td>\n",
       "      <td>NaN</td>\n",
       "      <td>NaN</td>\n",
       "      <td>NaN</td>\n",
       "    </tr>\n",
       "    <tr>\n",
       "      <th>5</th>\n",
       "      <td>Tetris</td>\n",
       "      <td>GB</td>\n",
       "      <td>1989.0</td>\n",
       "      <td>Puzzle</td>\n",
       "      <td>23.20</td>\n",
       "      <td>2.26</td>\n",
       "      <td>4.22</td>\n",
       "      <td>0.58</td>\n",
       "      <td>NaN</td>\n",
       "      <td>NaN</td>\n",
       "      <td>NaN</td>\n",
       "    </tr>\n",
       "    <tr>\n",
       "      <th>6</th>\n",
       "      <td>New Super Mario Bros.</td>\n",
       "      <td>DS</td>\n",
       "      <td>2006.0</td>\n",
       "      <td>Platform</td>\n",
       "      <td>11.28</td>\n",
       "      <td>9.14</td>\n",
       "      <td>6.50</td>\n",
       "      <td>2.88</td>\n",
       "      <td>89.0</td>\n",
       "      <td>8.5</td>\n",
       "      <td>E</td>\n",
       "    </tr>\n",
       "    <tr>\n",
       "      <th>7</th>\n",
       "      <td>Wii Play</td>\n",
       "      <td>Wii</td>\n",
       "      <td>2006.0</td>\n",
       "      <td>Misc</td>\n",
       "      <td>13.96</td>\n",
       "      <td>9.18</td>\n",
       "      <td>2.93</td>\n",
       "      <td>2.84</td>\n",
       "      <td>58.0</td>\n",
       "      <td>6.6</td>\n",
       "      <td>E</td>\n",
       "    </tr>\n",
       "    <tr>\n",
       "      <th>8</th>\n",
       "      <td>New Super Mario Bros. Wii</td>\n",
       "      <td>Wii</td>\n",
       "      <td>2009.0</td>\n",
       "      <td>Platform</td>\n",
       "      <td>14.44</td>\n",
       "      <td>6.94</td>\n",
       "      <td>4.70</td>\n",
       "      <td>2.24</td>\n",
       "      <td>87.0</td>\n",
       "      <td>8.4</td>\n",
       "      <td>E</td>\n",
       "    </tr>\n",
       "    <tr>\n",
       "      <th>9</th>\n",
       "      <td>Duck Hunt</td>\n",
       "      <td>NES</td>\n",
       "      <td>1984.0</td>\n",
       "      <td>Shooter</td>\n",
       "      <td>26.93</td>\n",
       "      <td>0.63</td>\n",
       "      <td>0.28</td>\n",
       "      <td>0.47</td>\n",
       "      <td>NaN</td>\n",
       "      <td>NaN</td>\n",
       "      <td>NaN</td>\n",
       "    </tr>\n",
       "    <tr>\n",
       "      <th>10</th>\n",
       "      <td>Nintendogs</td>\n",
       "      <td>DS</td>\n",
       "      <td>2005.0</td>\n",
       "      <td>Simulation</td>\n",
       "      <td>9.05</td>\n",
       "      <td>10.95</td>\n",
       "      <td>1.93</td>\n",
       "      <td>2.74</td>\n",
       "      <td>NaN</td>\n",
       "      <td>NaN</td>\n",
       "      <td>NaN</td>\n",
       "    </tr>\n",
       "    <tr>\n",
       "      <th>11</th>\n",
       "      <td>Mario Kart DS</td>\n",
       "      <td>DS</td>\n",
       "      <td>2005.0</td>\n",
       "      <td>Racing</td>\n",
       "      <td>9.71</td>\n",
       "      <td>7.47</td>\n",
       "      <td>4.13</td>\n",
       "      <td>1.90</td>\n",
       "      <td>91.0</td>\n",
       "      <td>8.6</td>\n",
       "      <td>E</td>\n",
       "    </tr>\n",
       "    <tr>\n",
       "      <th>12</th>\n",
       "      <td>Pokemon Gold/Pokemon Silver</td>\n",
       "      <td>GB</td>\n",
       "      <td>1999.0</td>\n",
       "      <td>Role-Playing</td>\n",
       "      <td>9.00</td>\n",
       "      <td>6.18</td>\n",
       "      <td>7.20</td>\n",
       "      <td>0.71</td>\n",
       "      <td>NaN</td>\n",
       "      <td>NaN</td>\n",
       "      <td>NaN</td>\n",
       "    </tr>\n",
       "    <tr>\n",
       "      <th>13</th>\n",
       "      <td>Wii Fit</td>\n",
       "      <td>Wii</td>\n",
       "      <td>2007.0</td>\n",
       "      <td>Sports</td>\n",
       "      <td>8.92</td>\n",
       "      <td>8.03</td>\n",
       "      <td>3.60</td>\n",
       "      <td>2.15</td>\n",
       "      <td>80.0</td>\n",
       "      <td>7.7</td>\n",
       "      <td>E</td>\n",
       "    </tr>\n",
       "    <tr>\n",
       "      <th>14</th>\n",
       "      <td>Kinect Adventures!</td>\n",
       "      <td>X360</td>\n",
       "      <td>2010.0</td>\n",
       "      <td>Misc</td>\n",
       "      <td>15.00</td>\n",
       "      <td>4.89</td>\n",
       "      <td>0.24</td>\n",
       "      <td>1.69</td>\n",
       "      <td>61.0</td>\n",
       "      <td>6.3</td>\n",
       "      <td>E</td>\n",
       "    </tr>\n",
       "  </tbody>\n",
       "</table>\n",
       "</div>"
      ],
      "text/plain": [
       "                           Name Platform  Year_of_Release         Genre  \\\n",
       "0                    Wii Sports      Wii           2006.0        Sports   \n",
       "1             Super Mario Bros.      NES           1985.0      Platform   \n",
       "2                Mario Kart Wii      Wii           2008.0        Racing   \n",
       "3             Wii Sports Resort      Wii           2009.0        Sports   \n",
       "4      Pokemon Red/Pokemon Blue       GB           1996.0  Role-Playing   \n",
       "5                        Tetris       GB           1989.0        Puzzle   \n",
       "6         New Super Mario Bros.       DS           2006.0      Platform   \n",
       "7                      Wii Play      Wii           2006.0          Misc   \n",
       "8     New Super Mario Bros. Wii      Wii           2009.0      Platform   \n",
       "9                     Duck Hunt      NES           1984.0       Shooter   \n",
       "10                   Nintendogs       DS           2005.0    Simulation   \n",
       "11                Mario Kart DS       DS           2005.0        Racing   \n",
       "12  Pokemon Gold/Pokemon Silver       GB           1999.0  Role-Playing   \n",
       "13                      Wii Fit      Wii           2007.0        Sports   \n",
       "14           Kinect Adventures!     X360           2010.0          Misc   \n",
       "\n",
       "    NA_sales  EU_sales  JP_sales  Other_sales  Critic_Score User_Score Rating  \n",
       "0      41.36     28.96      3.77         8.45          76.0          8      E  \n",
       "1      29.08      3.58      6.81         0.77           NaN        NaN    NaN  \n",
       "2      15.68     12.76      3.79         3.29          82.0        8.3      E  \n",
       "3      15.61     10.93      3.28         2.95          80.0          8      E  \n",
       "4      11.27      8.89     10.22         1.00           NaN        NaN    NaN  \n",
       "5      23.20      2.26      4.22         0.58           NaN        NaN    NaN  \n",
       "6      11.28      9.14      6.50         2.88          89.0        8.5      E  \n",
       "7      13.96      9.18      2.93         2.84          58.0        6.6      E  \n",
       "8      14.44      6.94      4.70         2.24          87.0        8.4      E  \n",
       "9      26.93      0.63      0.28         0.47           NaN        NaN    NaN  \n",
       "10      9.05     10.95      1.93         2.74           NaN        NaN    NaN  \n",
       "11      9.71      7.47      4.13         1.90          91.0        8.6      E  \n",
       "12      9.00      6.18      7.20         0.71           NaN        NaN    NaN  \n",
       "13      8.92      8.03      3.60         2.15          80.0        7.7      E  \n",
       "14     15.00      4.89      0.24         1.69          61.0        6.3      E  "
      ]
     },
     "execution_count": 3,
     "metadata": {},
     "output_type": "execute_result"
    }
   ],
   "source": [
    "data = pd.read_csv('') # удалил\n",
    "data.head(15)"
   ]
  },
  {
   "cell_type": "code",
   "execution_count": 4,
   "metadata": {},
   "outputs": [
    {
     "name": "stdout",
     "output_type": "stream",
     "text": [
      "<class 'pandas.core.frame.DataFrame'>\n",
      "RangeIndex: 16715 entries, 0 to 16714\n",
      "Data columns (total 11 columns):\n",
      " #   Column           Non-Null Count  Dtype  \n",
      "---  ------           --------------  -----  \n",
      " 0   Name             16713 non-null  object \n",
      " 1   Platform         16715 non-null  object \n",
      " 2   Year_of_Release  16446 non-null  float64\n",
      " 3   Genre            16713 non-null  object \n",
      " 4   NA_sales         16715 non-null  float64\n",
      " 5   EU_sales         16715 non-null  float64\n",
      " 6   JP_sales         16715 non-null  float64\n",
      " 7   Other_sales      16715 non-null  float64\n",
      " 8   Critic_Score     8137 non-null   float64\n",
      " 9   User_Score       10014 non-null  object \n",
      " 10  Rating           9949 non-null   object \n",
      "dtypes: float64(6), object(5)\n",
      "memory usage: 1.4+ MB\n"
     ]
    }
   ],
   "source": [
    "data.info()"
   ]
  },
  {
   "cell_type": "markdown",
   "metadata": {},
   "source": [
    "**Найдем явные дубликаты, если они есть.**"
   ]
  },
  {
   "cell_type": "code",
   "execution_count": 5,
   "metadata": {},
   "outputs": [
    {
     "data": {
      "text/plain": [
       "0"
      ]
     },
     "execution_count": 5,
     "metadata": {},
     "output_type": "execute_result"
    }
   ],
   "source": [
    "data.duplicated().sum()"
   ]
  },
  {
   "cell_type": "markdown",
   "metadata": {},
   "source": [
    "Явных дубликатов нет."
   ]
  },
  {
   "cell_type": "markdown",
   "metadata": {},
   "source": [
    "### Подготовка данных"
   ]
  },
  {
   "cell_type": "markdown",
   "metadata": {},
   "source": [
    " **Приводим к нижнему регистру названия столбцов**"
   ]
  },
  {
   "cell_type": "code",
   "execution_count": 6,
   "metadata": {},
   "outputs": [
    {
     "name": "stdout",
     "output_type": "stream",
     "text": [
      "<class 'pandas.core.frame.DataFrame'>\n",
      "RangeIndex: 16715 entries, 0 to 16714\n",
      "Data columns (total 11 columns):\n",
      " #   Column           Non-Null Count  Dtype  \n",
      "---  ------           --------------  -----  \n",
      " 0   name             16713 non-null  object \n",
      " 1   platform         16715 non-null  object \n",
      " 2   year_of_release  16446 non-null  float64\n",
      " 3   genre            16713 non-null  object \n",
      " 4   na_sales         16715 non-null  float64\n",
      " 5   eu_sales         16715 non-null  float64\n",
      " 6   jp_sales         16715 non-null  float64\n",
      " 7   other_sales      16715 non-null  float64\n",
      " 8   critic_score     8137 non-null   float64\n",
      " 9   user_score       10014 non-null  object \n",
      " 10  rating           9949 non-null   object \n",
      "dtypes: float64(6), object(5)\n",
      "memory usage: 1.4+ MB\n"
     ]
    }
   ],
   "source": [
    "data.columns = data.columns.str.lower()\n",
    "data.info()"
   ]
  },
  {
   "cell_type": "markdown",
   "metadata": {},
   "source": [
    "**Работаем с пропусками**"
   ]
  },
  {
   "cell_type": "code",
   "execution_count": 7,
   "metadata": {},
   "outputs": [
    {
     "data": {
      "text/html": [
       "<div>\n",
       "<style scoped>\n",
       "    .dataframe tbody tr th:only-of-type {\n",
       "        vertical-align: middle;\n",
       "    }\n",
       "\n",
       "    .dataframe tbody tr th {\n",
       "        vertical-align: top;\n",
       "    }\n",
       "\n",
       "    .dataframe thead th {\n",
       "        text-align: right;\n",
       "    }\n",
       "</style>\n",
       "<table border=\"1\" class=\"dataframe\">\n",
       "  <thead>\n",
       "    <tr style=\"text-align: right;\">\n",
       "      <th></th>\n",
       "      <th>name</th>\n",
       "      <th>platform</th>\n",
       "      <th>year_of_release</th>\n",
       "      <th>genre</th>\n",
       "      <th>na_sales</th>\n",
       "      <th>eu_sales</th>\n",
       "      <th>jp_sales</th>\n",
       "      <th>other_sales</th>\n",
       "      <th>critic_score</th>\n",
       "      <th>user_score</th>\n",
       "      <th>rating</th>\n",
       "    </tr>\n",
       "  </thead>\n",
       "  <tbody>\n",
       "    <tr>\n",
       "      <th>659</th>\n",
       "      <td>NaN</td>\n",
       "      <td>GEN</td>\n",
       "      <td>1993.0</td>\n",
       "      <td>NaN</td>\n",
       "      <td>1.78</td>\n",
       "      <td>0.53</td>\n",
       "      <td>0.00</td>\n",
       "      <td>0.08</td>\n",
       "      <td>NaN</td>\n",
       "      <td>NaN</td>\n",
       "      <td>NaN</td>\n",
       "    </tr>\n",
       "    <tr>\n",
       "      <th>14244</th>\n",
       "      <td>NaN</td>\n",
       "      <td>GEN</td>\n",
       "      <td>1993.0</td>\n",
       "      <td>NaN</td>\n",
       "      <td>0.00</td>\n",
       "      <td>0.00</td>\n",
       "      <td>0.03</td>\n",
       "      <td>0.00</td>\n",
       "      <td>NaN</td>\n",
       "      <td>NaN</td>\n",
       "      <td>NaN</td>\n",
       "    </tr>\n",
       "  </tbody>\n",
       "</table>\n",
       "</div>"
      ],
      "text/plain": [
       "      name platform  year_of_release genre  na_sales  eu_sales  jp_sales  \\\n",
       "659    NaN      GEN           1993.0   NaN      1.78      0.53      0.00   \n",
       "14244  NaN      GEN           1993.0   NaN      0.00      0.00      0.03   \n",
       "\n",
       "       other_sales  critic_score user_score rating  \n",
       "659           0.08           NaN        NaN    NaN  \n",
       "14244         0.00           NaN        NaN    NaN  "
      ]
     },
     "execution_count": 7,
     "metadata": {},
     "output_type": "execute_result"
    }
   ],
   "source": [
    "data[data['name'].isna()]"
   ]
  },
  {
   "cell_type": "markdown",
   "metadata": {},
   "source": [
    "Этими играми можно пренебречь. Слишком много пропусков и продажи невелики."
   ]
  },
  {
   "cell_type": "code",
   "execution_count": 8,
   "metadata": {},
   "outputs": [
    {
     "name": "stdout",
     "output_type": "stream",
     "text": [
      "<class 'pandas.core.frame.DataFrame'>\n",
      "Int64Index: 16713 entries, 0 to 16714\n",
      "Data columns (total 11 columns):\n",
      " #   Column           Non-Null Count  Dtype  \n",
      "---  ------           --------------  -----  \n",
      " 0   name             16713 non-null  object \n",
      " 1   platform         16713 non-null  object \n",
      " 2   year_of_release  16444 non-null  float64\n",
      " 3   genre            16713 non-null  object \n",
      " 4   na_sales         16713 non-null  float64\n",
      " 5   eu_sales         16713 non-null  float64\n",
      " 6   jp_sales         16713 non-null  float64\n",
      " 7   other_sales      16713 non-null  float64\n",
      " 8   critic_score     8137 non-null   float64\n",
      " 9   user_score       10014 non-null  object \n",
      " 10  rating           9949 non-null   object \n",
      "dtypes: float64(6), object(5)\n",
      "memory usage: 1.5+ MB\n"
     ]
    }
   ],
   "source": [
    "data = data.drop([659,14244])\n",
    "data.info()"
   ]
  },
  {
   "cell_type": "markdown",
   "metadata": {},
   "source": [
    "Видно, что бывают пропуски в столбце **\"year_of_release\"**. Их немного, можем удалить эти данные."
   ]
  },
  {
   "cell_type": "code",
   "execution_count": 9,
   "metadata": {},
   "outputs": [
    {
     "name": "stdout",
     "output_type": "stream",
     "text": [
      "<class 'pandas.core.frame.DataFrame'>\n",
      "Int64Index: 16444 entries, 0 to 16714\n",
      "Data columns (total 11 columns):\n",
      " #   Column           Non-Null Count  Dtype  \n",
      "---  ------           --------------  -----  \n",
      " 0   name             16444 non-null  object \n",
      " 1   platform         16444 non-null  object \n",
      " 2   year_of_release  16444 non-null  float64\n",
      " 3   genre            16444 non-null  object \n",
      " 4   na_sales         16444 non-null  float64\n",
      " 5   eu_sales         16444 non-null  float64\n",
      " 6   jp_sales         16444 non-null  float64\n",
      " 7   other_sales      16444 non-null  float64\n",
      " 8   critic_score     7983 non-null   float64\n",
      " 9   user_score       9839 non-null   object \n",
      " 10  rating           9768 non-null   object \n",
      "dtypes: float64(6), object(5)\n",
      "memory usage: 1.5+ MB\n"
     ]
    }
   ],
   "source": [
    "indexes_to_delete = data[data['year_of_release'].isna()].index\n",
    "data = data.drop(indexes_to_delete)\n",
    "data.info()"
   ]
  },
  {
   "cell_type": "markdown",
   "metadata": {},
   "source": [
    "**Обработаем последние три столбца**"
   ]
  },
  {
   "cell_type": "markdown",
   "metadata": {},
   "source": [
    "Удалять не можем, так как слишком большой объем данных. Какими значениями заменять пропуски тоже непонятно. Тогда оставим значения пропущенными."
   ]
  },
  {
   "cell_type": "code",
   "execution_count": 10,
   "metadata": {},
   "outputs": [
    {
     "data": {
      "text/plain": [
       "array([76., nan, 82., 80., 89., 58., 87., 91., 61., 97., 95., 77., 88.,\n",
       "       83., 94., 93., 85., 86., 98., 96., 90., 84., 73., 74., 78., 92.,\n",
       "       71., 72., 68., 62., 49., 67., 81., 66., 56., 79., 70., 59., 64.,\n",
       "       75., 60., 63., 69., 50., 25., 42., 44., 55., 48., 57., 29., 47.,\n",
       "       65., 54., 20., 53., 37., 38., 33., 52., 30., 32., 43., 45., 51.,\n",
       "       40., 46., 39., 34., 41., 36., 31., 27., 35., 26., 19., 28., 23.,\n",
       "       24., 21., 17., 13.])"
      ]
     },
     "execution_count": 10,
     "metadata": {},
     "output_type": "execute_result"
    }
   ],
   "source": [
    "data['critic_score'].unique()"
   ]
  },
  {
   "cell_type": "code",
   "execution_count": 11,
   "metadata": {},
   "outputs": [
    {
     "data": {
      "text/plain": [
       "array(['E', nan, 'M', 'T', 'E10+', 'K-A', 'AO', 'EC', 'RP'], dtype=object)"
      ]
     },
     "execution_count": 11,
     "metadata": {},
     "output_type": "execute_result"
    }
   ],
   "source": [
    "data['rating'].unique()"
   ]
  },
  {
   "cell_type": "code",
   "execution_count": 12,
   "metadata": {},
   "outputs": [
    {
     "data": {
      "text/plain": [
       "array(['8', nan, '8.3', '8.5', '6.6', '8.4', '8.6', '7.7', '6.3', '7.4',\n",
       "       '8.2', '9', '7.9', '8.1', '8.7', '7.1', '3.4', '5.3', '4.8', '3.2',\n",
       "       '8.9', '6.4', '7.8', '7.5', '2.6', '7.2', '9.2', '7', '7.3', '4.3',\n",
       "       '7.6', '5.7', '5', '9.1', '6.5', 'tbd', '8.8', '6.9', '9.4', '6.8',\n",
       "       '6.1', '6.7', '5.4', '4', '4.9', '4.5', '9.3', '6.2', '4.2', '6',\n",
       "       '3.7', '4.1', '5.8', '5.6', '5.5', '4.4', '4.6', '5.9', '3.9',\n",
       "       '3.1', '2.9', '5.2', '3.3', '4.7', '5.1', '3.5', '2.5', '1.9', '3',\n",
       "       '2.7', '2.2', '2', '9.5', '2.1', '3.6', '2.8', '1.8', '3.8', '0',\n",
       "       '1.6', '9.6', '2.4', '1.7', '1.1', '0.3', '1.5', '0.7', '1.2',\n",
       "       '2.3', '0.5', '1.3', '0.2', '0.6', '1.4', '0.9', '1', '9.7'],\n",
       "      dtype=object)"
      ]
     },
     "execution_count": 12,
     "metadata": {},
     "output_type": "execute_result"
    }
   ],
   "source": [
    "data['user_score'].unique()"
   ]
  },
  {
   "cell_type": "markdown",
   "metadata": {},
   "source": [
    "В столбце **\"user_score\"** имеем значение *tbd* . Это значит, что данных нет. Заменим эти значения на *NaN*."
   ]
  },
  {
   "cell_type": "code",
   "execution_count": 13,
   "metadata": {},
   "outputs": [
    {
     "data": {
      "text/plain": [
       "array(['8', nan, '8.3', '8.5', '6.6', '8.4', '8.6', '7.7', '6.3', '7.4',\n",
       "       '8.2', '9', '7.9', '8.1', '8.7', '7.1', '3.4', '5.3', '4.8', '3.2',\n",
       "       '8.9', '6.4', '7.8', '7.5', '2.6', '7.2', '9.2', '7', '7.3', '4.3',\n",
       "       '7.6', '5.7', '5', '9.1', '6.5', '8.8', '6.9', '9.4', '6.8', '6.1',\n",
       "       '6.7', '5.4', '4', '4.9', '4.5', '9.3', '6.2', '4.2', '6', '3.7',\n",
       "       '4.1', '5.8', '5.6', '5.5', '4.4', '4.6', '5.9', '3.9', '3.1',\n",
       "       '2.9', '5.2', '3.3', '4.7', '5.1', '3.5', '2.5', '1.9', '3', '2.7',\n",
       "       '2.2', '2', '9.5', '2.1', '3.6', '2.8', '1.8', '3.8', '0', '1.6',\n",
       "       '9.6', '2.4', '1.7', '1.1', '0.3', '1.5', '0.7', '1.2', '2.3',\n",
       "       '0.5', '1.3', '0.2', '0.6', '1.4', '0.9', '1', '9.7'], dtype=object)"
      ]
     },
     "execution_count": 13,
     "metadata": {},
     "output_type": "execute_result"
    }
   ],
   "source": [
    "data['user_score'] = data['user_score'].replace('tbd', np.NaN)\n",
    "data['user_score'].unique()"
   ]
  },
  {
   "cell_type": "markdown",
   "metadata": {},
   "source": [
    "С пропусками закончили. Они могли возникнутьпри копировании данных, либо из-за других технических проблем. Также, нужно учитывать человеческий фактор. Данные могли быть пропущены при заполнении. "
   ]
  },
  {
   "cell_type": "markdown",
   "metadata": {},
   "source": [
    "**Заменим типы данных.**"
   ]
  },
  {
   "cell_type": "code",
   "execution_count": 14,
   "metadata": {},
   "outputs": [
    {
     "name": "stdout",
     "output_type": "stream",
     "text": [
      "<class 'pandas.core.frame.DataFrame'>\n",
      "Int64Index: 16444 entries, 0 to 16714\n",
      "Data columns (total 11 columns):\n",
      " #   Column           Non-Null Count  Dtype  \n",
      "---  ------           --------------  -----  \n",
      " 0   name             16444 non-null  object \n",
      " 1   platform         16444 non-null  object \n",
      " 2   year_of_release  16444 non-null  float64\n",
      " 3   genre            16444 non-null  object \n",
      " 4   na_sales         16444 non-null  float64\n",
      " 5   eu_sales         16444 non-null  float64\n",
      " 6   jp_sales         16444 non-null  float64\n",
      " 7   other_sales      16444 non-null  float64\n",
      " 8   critic_score     7983 non-null   float64\n",
      " 9   user_score       7463 non-null   object \n",
      " 10  rating           9768 non-null   object \n",
      "dtypes: float64(6), object(5)\n",
      "memory usage: 1.5+ MB\n"
     ]
    }
   ],
   "source": [
    "data.info()"
   ]
  },
  {
   "cell_type": "markdown",
   "metadata": {},
   "source": [
    "Преобразуем **\"year_of_release\"** в *integer*. A **\"user_score\"** в *float*."
   ]
  },
  {
   "cell_type": "code",
   "execution_count": 15,
   "metadata": {},
   "outputs": [
    {
     "name": "stdout",
     "output_type": "stream",
     "text": [
      "<class 'pandas.core.frame.DataFrame'>\n",
      "Int64Index: 16444 entries, 0 to 16714\n",
      "Data columns (total 11 columns):\n",
      " #   Column           Non-Null Count  Dtype  \n",
      "---  ------           --------------  -----  \n",
      " 0   name             16444 non-null  object \n",
      " 1   platform         16444 non-null  object \n",
      " 2   year_of_release  16444 non-null  int64  \n",
      " 3   genre            16444 non-null  object \n",
      " 4   na_sales         16444 non-null  float64\n",
      " 5   eu_sales         16444 non-null  float64\n",
      " 6   jp_sales         16444 non-null  float64\n",
      " 7   other_sales      16444 non-null  float64\n",
      " 8   critic_score     7983 non-null   float64\n",
      " 9   user_score       7463 non-null   float64\n",
      " 10  rating           9768 non-null   object \n",
      "dtypes: float64(6), int64(1), object(4)\n",
      "memory usage: 1.5+ MB\n"
     ]
    }
   ],
   "source": [
    "data['year_of_release'] = data['year_of_release'].astype('int') \n",
    "data['user_score'] = data['user_score'].astype('float', errors='ignore')\n",
    "data.info()"
   ]
  },
  {
   "cell_type": "code",
   "execution_count": 16,
   "metadata": {},
   "outputs": [
    {
     "data": {
      "text/html": [
       "<div>\n",
       "<style scoped>\n",
       "    .dataframe tbody tr th:only-of-type {\n",
       "        vertical-align: middle;\n",
       "    }\n",
       "\n",
       "    .dataframe tbody tr th {\n",
       "        vertical-align: top;\n",
       "    }\n",
       "\n",
       "    .dataframe thead th {\n",
       "        text-align: right;\n",
       "    }\n",
       "</style>\n",
       "<table border=\"1\" class=\"dataframe\">\n",
       "  <thead>\n",
       "    <tr style=\"text-align: right;\">\n",
       "      <th></th>\n",
       "      <th>name</th>\n",
       "      <th>platform</th>\n",
       "      <th>year_of_release</th>\n",
       "      <th>genre</th>\n",
       "      <th>na_sales</th>\n",
       "      <th>eu_sales</th>\n",
       "      <th>jp_sales</th>\n",
       "      <th>other_sales</th>\n",
       "      <th>critic_score</th>\n",
       "      <th>user_score</th>\n",
       "      <th>rating</th>\n",
       "    </tr>\n",
       "  </thead>\n",
       "  <tbody>\n",
       "    <tr>\n",
       "      <th>0</th>\n",
       "      <td>Wii Sports</td>\n",
       "      <td>Wii</td>\n",
       "      <td>2006</td>\n",
       "      <td>Sports</td>\n",
       "      <td>41.36</td>\n",
       "      <td>28.96</td>\n",
       "      <td>3.77</td>\n",
       "      <td>8.45</td>\n",
       "      <td>76.0</td>\n",
       "      <td>8.0</td>\n",
       "      <td>E</td>\n",
       "    </tr>\n",
       "    <tr>\n",
       "      <th>1</th>\n",
       "      <td>Super Mario Bros.</td>\n",
       "      <td>NES</td>\n",
       "      <td>1985</td>\n",
       "      <td>Platform</td>\n",
       "      <td>29.08</td>\n",
       "      <td>3.58</td>\n",
       "      <td>6.81</td>\n",
       "      <td>0.77</td>\n",
       "      <td>NaN</td>\n",
       "      <td>NaN</td>\n",
       "      <td>NaN</td>\n",
       "    </tr>\n",
       "    <tr>\n",
       "      <th>2</th>\n",
       "      <td>Mario Kart Wii</td>\n",
       "      <td>Wii</td>\n",
       "      <td>2008</td>\n",
       "      <td>Racing</td>\n",
       "      <td>15.68</td>\n",
       "      <td>12.76</td>\n",
       "      <td>3.79</td>\n",
       "      <td>3.29</td>\n",
       "      <td>82.0</td>\n",
       "      <td>8.3</td>\n",
       "      <td>E</td>\n",
       "    </tr>\n",
       "    <tr>\n",
       "      <th>3</th>\n",
       "      <td>Wii Sports Resort</td>\n",
       "      <td>Wii</td>\n",
       "      <td>2009</td>\n",
       "      <td>Sports</td>\n",
       "      <td>15.61</td>\n",
       "      <td>10.93</td>\n",
       "      <td>3.28</td>\n",
       "      <td>2.95</td>\n",
       "      <td>80.0</td>\n",
       "      <td>8.0</td>\n",
       "      <td>E</td>\n",
       "    </tr>\n",
       "    <tr>\n",
       "      <th>4</th>\n",
       "      <td>Pokemon Red/Pokemon Blue</td>\n",
       "      <td>GB</td>\n",
       "      <td>1996</td>\n",
       "      <td>Role-Playing</td>\n",
       "      <td>11.27</td>\n",
       "      <td>8.89</td>\n",
       "      <td>10.22</td>\n",
       "      <td>1.00</td>\n",
       "      <td>NaN</td>\n",
       "      <td>NaN</td>\n",
       "      <td>NaN</td>\n",
       "    </tr>\n",
       "    <tr>\n",
       "      <th>5</th>\n",
       "      <td>Tetris</td>\n",
       "      <td>GB</td>\n",
       "      <td>1989</td>\n",
       "      <td>Puzzle</td>\n",
       "      <td>23.20</td>\n",
       "      <td>2.26</td>\n",
       "      <td>4.22</td>\n",
       "      <td>0.58</td>\n",
       "      <td>NaN</td>\n",
       "      <td>NaN</td>\n",
       "      <td>NaN</td>\n",
       "    </tr>\n",
       "    <tr>\n",
       "      <th>6</th>\n",
       "      <td>New Super Mario Bros.</td>\n",
       "      <td>DS</td>\n",
       "      <td>2006</td>\n",
       "      <td>Platform</td>\n",
       "      <td>11.28</td>\n",
       "      <td>9.14</td>\n",
       "      <td>6.50</td>\n",
       "      <td>2.88</td>\n",
       "      <td>89.0</td>\n",
       "      <td>8.5</td>\n",
       "      <td>E</td>\n",
       "    </tr>\n",
       "    <tr>\n",
       "      <th>7</th>\n",
       "      <td>Wii Play</td>\n",
       "      <td>Wii</td>\n",
       "      <td>2006</td>\n",
       "      <td>Misc</td>\n",
       "      <td>13.96</td>\n",
       "      <td>9.18</td>\n",
       "      <td>2.93</td>\n",
       "      <td>2.84</td>\n",
       "      <td>58.0</td>\n",
       "      <td>6.6</td>\n",
       "      <td>E</td>\n",
       "    </tr>\n",
       "    <tr>\n",
       "      <th>8</th>\n",
       "      <td>New Super Mario Bros. Wii</td>\n",
       "      <td>Wii</td>\n",
       "      <td>2009</td>\n",
       "      <td>Platform</td>\n",
       "      <td>14.44</td>\n",
       "      <td>6.94</td>\n",
       "      <td>4.70</td>\n",
       "      <td>2.24</td>\n",
       "      <td>87.0</td>\n",
       "      <td>8.4</td>\n",
       "      <td>E</td>\n",
       "    </tr>\n",
       "    <tr>\n",
       "      <th>9</th>\n",
       "      <td>Duck Hunt</td>\n",
       "      <td>NES</td>\n",
       "      <td>1984</td>\n",
       "      <td>Shooter</td>\n",
       "      <td>26.93</td>\n",
       "      <td>0.63</td>\n",
       "      <td>0.28</td>\n",
       "      <td>0.47</td>\n",
       "      <td>NaN</td>\n",
       "      <td>NaN</td>\n",
       "      <td>NaN</td>\n",
       "    </tr>\n",
       "  </tbody>\n",
       "</table>\n",
       "</div>"
      ],
      "text/plain": [
       "                        name platform  year_of_release         genre  \\\n",
       "0                 Wii Sports      Wii             2006        Sports   \n",
       "1          Super Mario Bros.      NES             1985      Platform   \n",
       "2             Mario Kart Wii      Wii             2008        Racing   \n",
       "3          Wii Sports Resort      Wii             2009        Sports   \n",
       "4   Pokemon Red/Pokemon Blue       GB             1996  Role-Playing   \n",
       "5                     Tetris       GB             1989        Puzzle   \n",
       "6      New Super Mario Bros.       DS             2006      Platform   \n",
       "7                   Wii Play      Wii             2006          Misc   \n",
       "8  New Super Mario Bros. Wii      Wii             2009      Platform   \n",
       "9                  Duck Hunt      NES             1984       Shooter   \n",
       "\n",
       "   na_sales  eu_sales  jp_sales  other_sales  critic_score  user_score rating  \n",
       "0     41.36     28.96      3.77         8.45          76.0         8.0      E  \n",
       "1     29.08      3.58      6.81         0.77           NaN         NaN    NaN  \n",
       "2     15.68     12.76      3.79         3.29          82.0         8.3      E  \n",
       "3     15.61     10.93      3.28         2.95          80.0         8.0      E  \n",
       "4     11.27      8.89     10.22         1.00           NaN         NaN    NaN  \n",
       "5     23.20      2.26      4.22         0.58           NaN         NaN    NaN  \n",
       "6     11.28      9.14      6.50         2.88          89.0         8.5      E  \n",
       "7     13.96      9.18      2.93         2.84          58.0         6.6      E  \n",
       "8     14.44      6.94      4.70         2.24          87.0         8.4      E  \n",
       "9     26.93      0.63      0.28         0.47           NaN         NaN    NaN  "
      ]
     },
     "execution_count": 16,
     "metadata": {},
     "output_type": "execute_result"
    }
   ],
   "source": [
    "data = data.reset_index(drop=True)\n",
    "data.head(10)"
   ]
  },
  {
   "cell_type": "markdown",
   "metadata": {},
   "source": [
    "**Посчитаем суммарные продажи по всем регионам.**"
   ]
  },
  {
   "cell_type": "code",
   "execution_count": 17,
   "metadata": {},
   "outputs": [
    {
     "data": {
      "text/html": [
       "<div>\n",
       "<style scoped>\n",
       "    .dataframe tbody tr th:only-of-type {\n",
       "        vertical-align: middle;\n",
       "    }\n",
       "\n",
       "    .dataframe tbody tr th {\n",
       "        vertical-align: top;\n",
       "    }\n",
       "\n",
       "    .dataframe thead th {\n",
       "        text-align: right;\n",
       "    }\n",
       "</style>\n",
       "<table border=\"1\" class=\"dataframe\">\n",
       "  <thead>\n",
       "    <tr style=\"text-align: right;\">\n",
       "      <th></th>\n",
       "      <th>name</th>\n",
       "      <th>platform</th>\n",
       "      <th>year_of_release</th>\n",
       "      <th>genre</th>\n",
       "      <th>na_sales</th>\n",
       "      <th>eu_sales</th>\n",
       "      <th>jp_sales</th>\n",
       "      <th>other_sales</th>\n",
       "      <th>critic_score</th>\n",
       "      <th>user_score</th>\n",
       "      <th>rating</th>\n",
       "      <th>sum_sales</th>\n",
       "    </tr>\n",
       "  </thead>\n",
       "  <tbody>\n",
       "    <tr>\n",
       "      <th>0</th>\n",
       "      <td>Wii Sports</td>\n",
       "      <td>Wii</td>\n",
       "      <td>2006</td>\n",
       "      <td>Sports</td>\n",
       "      <td>41.36</td>\n",
       "      <td>28.96</td>\n",
       "      <td>3.77</td>\n",
       "      <td>8.45</td>\n",
       "      <td>76.0</td>\n",
       "      <td>8.0</td>\n",
       "      <td>E</td>\n",
       "      <td>82.54</td>\n",
       "    </tr>\n",
       "    <tr>\n",
       "      <th>1</th>\n",
       "      <td>Super Mario Bros.</td>\n",
       "      <td>NES</td>\n",
       "      <td>1985</td>\n",
       "      <td>Platform</td>\n",
       "      <td>29.08</td>\n",
       "      <td>3.58</td>\n",
       "      <td>6.81</td>\n",
       "      <td>0.77</td>\n",
       "      <td>NaN</td>\n",
       "      <td>NaN</td>\n",
       "      <td>NaN</td>\n",
       "      <td>40.24</td>\n",
       "    </tr>\n",
       "    <tr>\n",
       "      <th>2</th>\n",
       "      <td>Mario Kart Wii</td>\n",
       "      <td>Wii</td>\n",
       "      <td>2008</td>\n",
       "      <td>Racing</td>\n",
       "      <td>15.68</td>\n",
       "      <td>12.76</td>\n",
       "      <td>3.79</td>\n",
       "      <td>3.29</td>\n",
       "      <td>82.0</td>\n",
       "      <td>8.3</td>\n",
       "      <td>E</td>\n",
       "      <td>35.52</td>\n",
       "    </tr>\n",
       "    <tr>\n",
       "      <th>3</th>\n",
       "      <td>Wii Sports Resort</td>\n",
       "      <td>Wii</td>\n",
       "      <td>2009</td>\n",
       "      <td>Sports</td>\n",
       "      <td>15.61</td>\n",
       "      <td>10.93</td>\n",
       "      <td>3.28</td>\n",
       "      <td>2.95</td>\n",
       "      <td>80.0</td>\n",
       "      <td>8.0</td>\n",
       "      <td>E</td>\n",
       "      <td>32.77</td>\n",
       "    </tr>\n",
       "    <tr>\n",
       "      <th>4</th>\n",
       "      <td>Pokemon Red/Pokemon Blue</td>\n",
       "      <td>GB</td>\n",
       "      <td>1996</td>\n",
       "      <td>Role-Playing</td>\n",
       "      <td>11.27</td>\n",
       "      <td>8.89</td>\n",
       "      <td>10.22</td>\n",
       "      <td>1.00</td>\n",
       "      <td>NaN</td>\n",
       "      <td>NaN</td>\n",
       "      <td>NaN</td>\n",
       "      <td>31.38</td>\n",
       "    </tr>\n",
       "    <tr>\n",
       "      <th>5</th>\n",
       "      <td>Tetris</td>\n",
       "      <td>GB</td>\n",
       "      <td>1989</td>\n",
       "      <td>Puzzle</td>\n",
       "      <td>23.20</td>\n",
       "      <td>2.26</td>\n",
       "      <td>4.22</td>\n",
       "      <td>0.58</td>\n",
       "      <td>NaN</td>\n",
       "      <td>NaN</td>\n",
       "      <td>NaN</td>\n",
       "      <td>30.26</td>\n",
       "    </tr>\n",
       "    <tr>\n",
       "      <th>6</th>\n",
       "      <td>New Super Mario Bros.</td>\n",
       "      <td>DS</td>\n",
       "      <td>2006</td>\n",
       "      <td>Platform</td>\n",
       "      <td>11.28</td>\n",
       "      <td>9.14</td>\n",
       "      <td>6.50</td>\n",
       "      <td>2.88</td>\n",
       "      <td>89.0</td>\n",
       "      <td>8.5</td>\n",
       "      <td>E</td>\n",
       "      <td>29.80</td>\n",
       "    </tr>\n",
       "    <tr>\n",
       "      <th>7</th>\n",
       "      <td>Wii Play</td>\n",
       "      <td>Wii</td>\n",
       "      <td>2006</td>\n",
       "      <td>Misc</td>\n",
       "      <td>13.96</td>\n",
       "      <td>9.18</td>\n",
       "      <td>2.93</td>\n",
       "      <td>2.84</td>\n",
       "      <td>58.0</td>\n",
       "      <td>6.6</td>\n",
       "      <td>E</td>\n",
       "      <td>28.91</td>\n",
       "    </tr>\n",
       "    <tr>\n",
       "      <th>8</th>\n",
       "      <td>New Super Mario Bros. Wii</td>\n",
       "      <td>Wii</td>\n",
       "      <td>2009</td>\n",
       "      <td>Platform</td>\n",
       "      <td>14.44</td>\n",
       "      <td>6.94</td>\n",
       "      <td>4.70</td>\n",
       "      <td>2.24</td>\n",
       "      <td>87.0</td>\n",
       "      <td>8.4</td>\n",
       "      <td>E</td>\n",
       "      <td>28.32</td>\n",
       "    </tr>\n",
       "    <tr>\n",
       "      <th>9</th>\n",
       "      <td>Duck Hunt</td>\n",
       "      <td>NES</td>\n",
       "      <td>1984</td>\n",
       "      <td>Shooter</td>\n",
       "      <td>26.93</td>\n",
       "      <td>0.63</td>\n",
       "      <td>0.28</td>\n",
       "      <td>0.47</td>\n",
       "      <td>NaN</td>\n",
       "      <td>NaN</td>\n",
       "      <td>NaN</td>\n",
       "      <td>28.31</td>\n",
       "    </tr>\n",
       "  </tbody>\n",
       "</table>\n",
       "</div>"
      ],
      "text/plain": [
       "                        name platform  year_of_release         genre  \\\n",
       "0                 Wii Sports      Wii             2006        Sports   \n",
       "1          Super Mario Bros.      NES             1985      Platform   \n",
       "2             Mario Kart Wii      Wii             2008        Racing   \n",
       "3          Wii Sports Resort      Wii             2009        Sports   \n",
       "4   Pokemon Red/Pokemon Blue       GB             1996  Role-Playing   \n",
       "5                     Tetris       GB             1989        Puzzle   \n",
       "6      New Super Mario Bros.       DS             2006      Platform   \n",
       "7                   Wii Play      Wii             2006          Misc   \n",
       "8  New Super Mario Bros. Wii      Wii             2009      Platform   \n",
       "9                  Duck Hunt      NES             1984       Shooter   \n",
       "\n",
       "   na_sales  eu_sales  jp_sales  other_sales  critic_score  user_score rating  \\\n",
       "0     41.36     28.96      3.77         8.45          76.0         8.0      E   \n",
       "1     29.08      3.58      6.81         0.77           NaN         NaN    NaN   \n",
       "2     15.68     12.76      3.79         3.29          82.0         8.3      E   \n",
       "3     15.61     10.93      3.28         2.95          80.0         8.0      E   \n",
       "4     11.27      8.89     10.22         1.00           NaN         NaN    NaN   \n",
       "5     23.20      2.26      4.22         0.58           NaN         NaN    NaN   \n",
       "6     11.28      9.14      6.50         2.88          89.0         8.5      E   \n",
       "7     13.96      9.18      2.93         2.84          58.0         6.6      E   \n",
       "8     14.44      6.94      4.70         2.24          87.0         8.4      E   \n",
       "9     26.93      0.63      0.28         0.47           NaN         NaN    NaN   \n",
       "\n",
       "   sum_sales  \n",
       "0      82.54  \n",
       "1      40.24  \n",
       "2      35.52  \n",
       "3      32.77  \n",
       "4      31.38  \n",
       "5      30.26  \n",
       "6      29.80  \n",
       "7      28.91  \n",
       "8      28.32  \n",
       "9      28.31  "
      ]
     },
     "execution_count": 17,
     "metadata": {},
     "output_type": "execute_result"
    }
   ],
   "source": [
    "data['sum_sales'] = data['na_sales']+data['eu_sales']+data['jp_sales']+data['other_sales']\n",
    "data.head(10)"
   ]
  },
  {
   "cell_type": "markdown",
   "metadata": {},
   "source": [
    "### Исследовательский анализ данных"
   ]
  },
  {
   "cell_type": "markdown",
   "metadata": {},
   "source": [
    "**Посмотрим, сколько игр выпускалось в разные год.**"
   ]
  },
  {
   "cell_type": "code",
   "execution_count": 19,
   "metadata": {},
   "outputs": [
    {
     "data": {
      "text/plain": [
       "year_of_release\n",
       "1980       9\n",
       "1981      46\n",
       "1982      36\n",
       "1983      17\n",
       "1984      14\n",
       "1985      14\n",
       "1986      21\n",
       "1987      16\n",
       "1988      15\n",
       "1989      17\n",
       "1990      16\n",
       "1991      41\n",
       "1992      43\n",
       "1993      60\n",
       "1994     121\n",
       "1995     219\n",
       "1996     263\n",
       "1997     289\n",
       "1998     379\n",
       "1999     338\n",
       "2000     350\n",
       "2001     482\n",
       "2002     829\n",
       "2003     775\n",
       "2004     762\n",
       "2005     939\n",
       "2006    1006\n",
       "2007    1197\n",
       "2008    1427\n",
       "2009    1426\n",
       "2010    1255\n",
       "2011    1136\n",
       "2012     653\n",
       "2013     544\n",
       "2014     581\n",
       "2015     606\n",
       "2016     502\n",
       "Name: name, dtype: int64"
      ]
     },
     "execution_count": 19,
     "metadata": {},
     "output_type": "execute_result"
    }
   ],
   "source": [
    "data.groupby('year_of_release')['name'].count()"
   ]
  },
  {
   "cell_type": "markdown",
   "metadata": {},
   "source": [
    "Для наглядности построим график."
   ]
  },
  {
   "cell_type": "code",
   "execution_count": 20,
   "metadata": {},
   "outputs": [
    {
     "data": {
      "text/plain": [
       "<AxesSubplot:>"
      ]
     },
     "execution_count": 20,
     "metadata": {},
     "output_type": "execute_result"
    },
    {
     "data": {
      "image/png": "[encoded data removed]",
      "text/plain": [
       "<Figure size 432x288 with 1 Axes>"
      ]
     },
     "metadata": {
      "needs_background": "light"
     },
     "output_type": "display_data"
    }
   ],
   "source": [
    "data_year_count = data['year_of_release'].hist(bins=37)\n",
    "data_year_count"
   ]
  },
  {
   "cell_type": "markdown",
   "metadata": {},
   "source": [
    "Игры, выпущенные много лет назад, скорее всего потеряли свою актуальность. Поэтому данные по ним нас не слишком интересуют. Возьмём данные, начиная с 2010 года."
   ]
  },
  {
   "cell_type": "markdown",
   "metadata": {},
   "source": [
    "Нам будут нужны не все данные, так как большинство игр и платформ, имеющих популярность в 2000-х, сейчас мало кому интересны."
   ]
  },
  {
   "cell_type": "markdown",
   "metadata": {},
   "source": [
    "**Посмотрим, как менялись продажи по платформам.**"
   ]
  },
  {
   "cell_type": "code",
   "execution_count": 21,
   "metadata": {},
   "outputs": [
    {
     "data": {
      "text/html": [
       "<div>\n",
       "<style scoped>\n",
       "    .dataframe tbody tr th:only-of-type {\n",
       "        vertical-align: middle;\n",
       "    }\n",
       "\n",
       "    .dataframe tbody tr th {\n",
       "        vertical-align: top;\n",
       "    }\n",
       "\n",
       "    .dataframe thead th {\n",
       "        text-align: right;\n",
       "    }\n",
       "</style>\n",
       "<table border=\"1\" class=\"dataframe\">\n",
       "  <thead>\n",
       "    <tr style=\"text-align: right;\">\n",
       "      <th></th>\n",
       "      <th>total_sales</th>\n",
       "    </tr>\n",
       "    <tr>\n",
       "      <th>platform</th>\n",
       "      <th></th>\n",
       "    </tr>\n",
       "  </thead>\n",
       "  <tbody>\n",
       "    <tr>\n",
       "      <th>PS2</th>\n",
       "      <td>1233.56</td>\n",
       "    </tr>\n",
       "    <tr>\n",
       "      <th>X360</th>\n",
       "      <td>961.24</td>\n",
       "    </tr>\n",
       "    <tr>\n",
       "      <th>PS3</th>\n",
       "      <td>931.34</td>\n",
       "    </tr>\n",
       "    <tr>\n",
       "      <th>Wii</th>\n",
       "      <td>891.18</td>\n",
       "    </tr>\n",
       "    <tr>\n",
       "      <th>DS</th>\n",
       "      <td>802.78</td>\n",
       "    </tr>\n",
       "    <tr>\n",
       "      <th>PS</th>\n",
       "      <td>727.58</td>\n",
       "    </tr>\n",
       "    <tr>\n",
       "      <th>PS4</th>\n",
       "      <td>314.14</td>\n",
       "    </tr>\n",
       "    <tr>\n",
       "      <th>GBA</th>\n",
       "      <td>312.88</td>\n",
       "    </tr>\n",
       "    <tr>\n",
       "      <th>PSP</th>\n",
       "      <td>289.53</td>\n",
       "    </tr>\n",
       "    <tr>\n",
       "      <th>3DS</th>\n",
       "      <td>257.81</td>\n",
       "    </tr>\n",
       "    <tr>\n",
       "      <th>PC</th>\n",
       "      <td>255.76</td>\n",
       "    </tr>\n",
       "    <tr>\n",
       "      <th>GB</th>\n",
       "      <td>254.43</td>\n",
       "    </tr>\n",
       "    <tr>\n",
       "      <th>XB</th>\n",
       "      <td>251.57</td>\n",
       "    </tr>\n",
       "    <tr>\n",
       "      <th>NES</th>\n",
       "      <td>251.05</td>\n",
       "    </tr>\n",
       "    <tr>\n",
       "      <th>N64</th>\n",
       "      <td>218.01</td>\n",
       "    </tr>\n",
       "    <tr>\n",
       "      <th>SNES</th>\n",
       "      <td>200.04</td>\n",
       "    </tr>\n",
       "    <tr>\n",
       "      <th>GC</th>\n",
       "      <td>196.73</td>\n",
       "    </tr>\n",
       "    <tr>\n",
       "      <th>XOne</th>\n",
       "      <td>159.32</td>\n",
       "    </tr>\n",
       "    <tr>\n",
       "      <th>2600</th>\n",
       "      <td>86.48</td>\n",
       "    </tr>\n",
       "    <tr>\n",
       "      <th>WiiU</th>\n",
       "      <td>82.19</td>\n",
       "    </tr>\n",
       "    <tr>\n",
       "      <th>PSV</th>\n",
       "      <td>53.81</td>\n",
       "    </tr>\n",
       "    <tr>\n",
       "      <th>SAT</th>\n",
       "      <td>33.59</td>\n",
       "    </tr>\n",
       "    <tr>\n",
       "      <th>GEN</th>\n",
       "      <td>28.35</td>\n",
       "    </tr>\n",
       "    <tr>\n",
       "      <th>DC</th>\n",
       "      <td>15.95</td>\n",
       "    </tr>\n",
       "    <tr>\n",
       "      <th>SCD</th>\n",
       "      <td>1.86</td>\n",
       "    </tr>\n",
       "    <tr>\n",
       "      <th>NG</th>\n",
       "      <td>1.44</td>\n",
       "    </tr>\n",
       "    <tr>\n",
       "      <th>WS</th>\n",
       "      <td>1.42</td>\n",
       "    </tr>\n",
       "    <tr>\n",
       "      <th>TG16</th>\n",
       "      <td>0.16</td>\n",
       "    </tr>\n",
       "    <tr>\n",
       "      <th>3DO</th>\n",
       "      <td>0.10</td>\n",
       "    </tr>\n",
       "    <tr>\n",
       "      <th>GG</th>\n",
       "      <td>0.04</td>\n",
       "    </tr>\n",
       "    <tr>\n",
       "      <th>PCFX</th>\n",
       "      <td>0.03</td>\n",
       "    </tr>\n",
       "  </tbody>\n",
       "</table>\n",
       "</div>"
      ],
      "text/plain": [
       "          total_sales\n",
       "platform             \n",
       "PS2           1233.56\n",
       "X360           961.24\n",
       "PS3            931.34\n",
       "Wii            891.18\n",
       "DS             802.78\n",
       "PS             727.58\n",
       "PS4            314.14\n",
       "GBA            312.88\n",
       "PSP            289.53\n",
       "3DS            257.81\n",
       "PC             255.76\n",
       "GB             254.43\n",
       "XB             251.57\n",
       "NES            251.05\n",
       "N64            218.01\n",
       "SNES           200.04\n",
       "GC             196.73\n",
       "XOne           159.32\n",
       "2600            86.48\n",
       "WiiU            82.19\n",
       "PSV             53.81\n",
       "SAT             33.59\n",
       "GEN             28.35\n",
       "DC              15.95\n",
       "SCD              1.86\n",
       "NG               1.44\n",
       "WS               1.42\n",
       "TG16             0.16\n",
       "3DO              0.10\n",
       "GG               0.04\n",
       "PCFX             0.03"
      ]
     },
     "execution_count": 21,
     "metadata": {},
     "output_type": "execute_result"
    }
   ],
   "source": [
    "data_platform_sales = pd.pivot_table(data, index='platform', aggfunc={'sum_sales': 'sum'})\n",
    "data_platform_sales = data_platform_sales.sort_values('sum_sales',ascending=False).rename(columns={'sum_sales': 'total_sales'})\n",
    "data_platform_sales"
   ]
  },
  {
   "cell_type": "markdown",
   "metadata": {},
   "source": [
    "Это платформы и количество проданных видеоигр на них."
   ]
  },
  {
   "cell_type": "markdown",
   "metadata": {},
   "source": [
    "Оставим топ 10 платформ по продажам."
   ]
  },
  {
   "cell_type": "code",
   "execution_count": 22,
   "metadata": {},
   "outputs": [
    {
     "data": {
      "text/html": [
       "<div>\n",
       "<style scoped>\n",
       "    .dataframe tbody tr th:only-of-type {\n",
       "        vertical-align: middle;\n",
       "    }\n",
       "\n",
       "    .dataframe tbody tr th {\n",
       "        vertical-align: top;\n",
       "    }\n",
       "\n",
       "    .dataframe thead th {\n",
       "        text-align: right;\n",
       "    }\n",
       "</style>\n",
       "<table border=\"1\" class=\"dataframe\">\n",
       "  <thead>\n",
       "    <tr style=\"text-align: right;\">\n",
       "      <th></th>\n",
       "      <th>total_sales</th>\n",
       "    </tr>\n",
       "    <tr>\n",
       "      <th>platform</th>\n",
       "      <th></th>\n",
       "    </tr>\n",
       "  </thead>\n",
       "  <tbody>\n",
       "    <tr>\n",
       "      <th>PS2</th>\n",
       "      <td>1233.56</td>\n",
       "    </tr>\n",
       "    <tr>\n",
       "      <th>X360</th>\n",
       "      <td>961.24</td>\n",
       "    </tr>\n",
       "    <tr>\n",
       "      <th>PS3</th>\n",
       "      <td>931.34</td>\n",
       "    </tr>\n",
       "    <tr>\n",
       "      <th>Wii</th>\n",
       "      <td>891.18</td>\n",
       "    </tr>\n",
       "    <tr>\n",
       "      <th>DS</th>\n",
       "      <td>802.78</td>\n",
       "    </tr>\n",
       "    <tr>\n",
       "      <th>PS</th>\n",
       "      <td>727.58</td>\n",
       "    </tr>\n",
       "    <tr>\n",
       "      <th>PS4</th>\n",
       "      <td>314.14</td>\n",
       "    </tr>\n",
       "    <tr>\n",
       "      <th>GBA</th>\n",
       "      <td>312.88</td>\n",
       "    </tr>\n",
       "    <tr>\n",
       "      <th>PSP</th>\n",
       "      <td>289.53</td>\n",
       "    </tr>\n",
       "    <tr>\n",
       "      <th>3DS</th>\n",
       "      <td>257.81</td>\n",
       "    </tr>\n",
       "  </tbody>\n",
       "</table>\n",
       "</div>"
      ],
      "text/plain": [
       "          total_sales\n",
       "platform             \n",
       "PS2           1233.56\n",
       "X360           961.24\n",
       "PS3            931.34\n",
       "Wii            891.18\n",
       "DS             802.78\n",
       "PS             727.58\n",
       "PS4            314.14\n",
       "GBA            312.88\n",
       "PSP            289.53\n",
       "3DS            257.81"
      ]
     },
     "execution_count": 22,
     "metadata": {},
     "output_type": "execute_result"
    }
   ],
   "source": [
    "data_platform_sales = data_platform_sales[:10]\n",
    "data_platform_sales"
   ]
  },
  {
   "cell_type": "markdown",
   "metadata": {},
   "source": [
    "По этим платформам построим подробное распределение по годам."
   ]
  },
  {
   "cell_type": "code",
   "execution_count": 23,
   "metadata": {
    "scrolled": true
   },
   "outputs": [
    {
     "data": {
      "image/png": "[encoded data removed]",
      "text/plain": [
       "<Figure size 432x288 with 1 Axes>"
      ]
     },
     "metadata": {
      "needs_background": "light"
     },
     "output_type": "display_data"
    },
    {
     "data": {
      "image/png": "[encoded data removed]",
      "text/plain": [
       "<Figure size 432x288 with 1 Axes>"
      ]
     },
     "metadata": {
      "needs_background": "light"
     },
     "output_type": "display_data"
    },
    {
     "data": {
      "image/png": "[encoded data removed]",
      "text/plain": [
       "<Figure size 432x288 with 1 Axes>"
      ]
     },
     "metadata": {
      "needs_background": "light"
     },
     "output_type": "display_data"
    },
    {
     "data": {
      "image/png": "[encoded data removed]",
      "text/plain": [
       "<Figure size 432x288 with 1 Axes>"
      ]
     },
     "metadata": {
      "needs_background": "light"
     },
     "output_type": "display_data"
    },
    {
     "data": {
      "image/png": "[encoded data removed]",
      "text/plain": [
       "<Figure size 432x288 with 1 Axes>"
      ]
     },
     "metadata": {
      "needs_background": "light"
     },
     "output_type": "display_data"
    },
    {
     "data": {
      "image/png": "[encoded data removed]",
      "text/plain": [
       "<Figure size 432x288 with 1 Axes>"
      ]
     },
     "metadata": {
      "needs_background": "light"
     },
     "output_type": "display_data"
    },
    {
     "data": {
      "image/png": "[encoded data removed]",
      "text/plain": [
       "<Figure size 432x288 with 1 Axes>"
      ]
     },
     "metadata": {
      "needs_background": "light"
     },
     "output_type": "display_data"
    },
    {
     "data": {
      "image/png": "[encoded data removed]",
      "text/plain": [
       "<Figure size 432x288 with 1 Axes>"
      ]
     },
     "metadata": {
      "needs_background": "light"
     },
     "output_type": "display_data"
    },
    {
     "data": {
      "image/png": "[encoded data removed]",
      "text/plain": [
       "<Figure size 432x288 with 1 Axes>"
      ]
     },
     "metadata": {
      "needs_background": "light"
     },
     "output_type": "display_data"
    },
    {
     "data": {
      "image/png": "[encoded data removed]",
      "text/plain": [
       "<Figure size 432x288 with 1 Axes>"
      ]
     },
     "metadata": {
      "needs_background": "light"
     },
     "output_type": "display_data"
    }
   ],
   "source": [
    "platforms = data_platform_sales.index\n",
    "data_best_platforms = data.loc[data['platform'].isin(platforms)]\n",
    "for platform in platforms:\n",
    "    data_best_platforms[data_best_platforms['platform'] == platform].pivot_table(index=\\\n",
    "                            'year_of_release', values='sum_sales',\\\n",
    "                            aggfunc='sum').plot(kind='bar', title=platform, xlabel='Год выпуска',\\\n",
    "                            ylabel='Суммарные продажи игр',legend=0)\n",
    "#data_best_platforms.head(15)"
   ]
  },
  {
   "cell_type": "markdown",
   "metadata": {},
   "source": [
    "Видно, что есть платформы, которые на 2015-2016 год уже практически не имеют продаж. Они нам неинтересны. Замечается тенденция, что через 6-7 лет после того, как на платформе происходит пик продаж, она заметно сокращает объемы продаж и проигрывает конкуренцию другим, более современным платформам. Посмотрим на примере **PS2** и **PS3**."
   ]
  },
  {
   "cell_type": "code",
   "execution_count": 24,
   "metadata": {},
   "outputs": [
    {
     "data": {
      "image/png": "[encoded data removed]",
      "text/plain": [
       "<Figure size 432x288 with 1 Axes>"
      ]
     },
     "metadata": {
      "needs_background": "light"
     },
     "output_type": "display_data"
    },
    {
     "data": {
      "image/png": "[encoded data removed]",
      "text/plain": [
       "<Figure size 432x288 with 1 Axes>"
      ]
     },
     "metadata": {
      "needs_background": "light"
     },
     "output_type": "display_data"
    }
   ],
   "source": [
    "PS_2_3 = ['PS2', 'PS3']\n",
    "for platform in PS_2_3:\n",
    "    data_best_platforms[data_best_platforms['platform'] == platform].pivot_table(index=\\\n",
    "                            'year_of_release', values='sum_sales',\\\n",
    "                            aggfunc='sum').plot(kind='bar', title=platform, xlabel='Год выпуска',\\\n",
    "                            ylabel='Суммарные продажи игр',legend=0)\n"
   ]
  },
  {
   "cell_type": "markdown",
   "metadata": {},
   "source": [
    "Пик продаж по **PS2** пришелся на 2004 год. В 2006 появляется **PS3**. Она стремительно набирает обороты, уже в 2009 в несколько раз обгоняет **PS2** по продажам. А к 2011 **PS3** доходит до своего пика и полностью вытесняет **PS2** с рынка."
   ]
  },
  {
   "cell_type": "markdown",
   "metadata": {},
   "source": [
    "Чтобы построить прогноз на 2017, нужно взять данные за последние 6 лет. Они будут содражать актуальную для нас информацию. Найдем топ 10 платформ по количеству продаж за период с 2014 по 2016."
   ]
  },
  {
   "cell_type": "code",
   "execution_count": 25,
   "metadata": {},
   "outputs": [
    {
     "data": {
      "text/html": [
       "<div>\n",
       "<style scoped>\n",
       "    .dataframe tbody tr th:only-of-type {\n",
       "        vertical-align: middle;\n",
       "    }\n",
       "\n",
       "    .dataframe tbody tr th {\n",
       "        vertical-align: top;\n",
       "    }\n",
       "\n",
       "    .dataframe thead th {\n",
       "        text-align: right;\n",
       "    }\n",
       "</style>\n",
       "<table border=\"1\" class=\"dataframe\">\n",
       "  <thead>\n",
       "    <tr style=\"text-align: right;\">\n",
       "      <th></th>\n",
       "      <th>total_sales</th>\n",
       "    </tr>\n",
       "    <tr>\n",
       "      <th>platform</th>\n",
       "      <th></th>\n",
       "    </tr>\n",
       "  </thead>\n",
       "  <tbody>\n",
       "    <tr>\n",
       "      <th>PS4</th>\n",
       "      <td>288.15</td>\n",
       "    </tr>\n",
       "    <tr>\n",
       "      <th>XOne</th>\n",
       "      <td>140.36</td>\n",
       "    </tr>\n",
       "    <tr>\n",
       "      <th>3DS</th>\n",
       "      <td>86.68</td>\n",
       "    </tr>\n",
       "    <tr>\n",
       "      <th>PS3</th>\n",
       "      <td>68.18</td>\n",
       "    </tr>\n",
       "    <tr>\n",
       "      <th>X360</th>\n",
       "      <td>48.22</td>\n",
       "    </tr>\n",
       "    <tr>\n",
       "      <th>WiiU</th>\n",
       "      <td>42.98</td>\n",
       "    </tr>\n",
       "    <tr>\n",
       "      <th>PC</th>\n",
       "      <td>27.05</td>\n",
       "    </tr>\n",
       "    <tr>\n",
       "      <th>PSV</th>\n",
       "      <td>22.40</td>\n",
       "    </tr>\n",
       "    <tr>\n",
       "      <th>Wii</th>\n",
       "      <td>5.07</td>\n",
       "    </tr>\n",
       "    <tr>\n",
       "      <th>PSP</th>\n",
       "      <td>0.36</td>\n",
       "    </tr>\n",
       "  </tbody>\n",
       "</table>\n",
       "</div>"
      ],
      "text/plain": [
       "          total_sales\n",
       "platform             \n",
       "PS4            288.15\n",
       "XOne           140.36\n",
       "3DS             86.68\n",
       "PS3             68.18\n",
       "X360            48.22\n",
       "WiiU            42.98\n",
       "PC              27.05\n",
       "PSV             22.40\n",
       "Wii              5.07\n",
       "PSP              0.36"
      ]
     },
     "execution_count": 25,
     "metadata": {},
     "output_type": "execute_result"
    }
   ],
   "source": [
    "data = data.query('year_of_release >= 2014')\n",
    "data_best_platforms_after_2014 = pd.pivot_table(data, index='platform', aggfunc={'sum_sales': 'sum'})\n",
    "data_best_platforms_after_2014 = data_best_platforms_after_2014.sort_values('sum_sales',ascending=False).rename(columns={'sum_sales': 'total_sales'})\n",
    "data_best_platforms_after_2014 = data_best_platforms_after_2014[:10] \n",
    "data_best_platforms_after_2014"
   ]
  },
  {
   "cell_type": "markdown",
   "metadata": {},
   "source": [
    "По ним построим распределение по годам."
   ]
  },
  {
   "cell_type": "code",
   "execution_count": 26,
   "metadata": {},
   "outputs": [
    {
     "data": {
      "image/png": "[encoded data removed]",
      "text/plain": [
       "<Figure size 432x288 with 1 Axes>"
      ]
     },
     "metadata": {
      "needs_background": "light"
     },
     "output_type": "display_data"
    },
    {
     "data": {
      "image/png": "[encoded data removed]",
      "text/plain": [
       "<Figure size 432x288 with 1 Axes>"
      ]
     },
     "metadata": {
      "needs_background": "light"
     },
     "output_type": "display_data"
    },
    {
     "data": {
      "image/png": "[encoded data removed]",
      "text/plain": [
       "<Figure size 432x288 with 1 Axes>"
      ]
     },
     "metadata": {
      "needs_background": "light"
     },
     "output_type": "display_data"
    },
    {
     "data": {
      "image/png": "[encoded data removed]",
      "text/plain": [
       "<Figure size 432x288 with 1 Axes>"
      ]
     },
     "metadata": {
      "needs_background": "light"
     },
     "output_type": "display_data"
    },
    {
     "data": {
      "image/png": "[encoded data removed]",
      "text/plain": [
       "<Figure size 432x288 with 1 Axes>"
      ]
     },
     "metadata": {
      "needs_background": "light"
     },
     "output_type": "display_data"
    },
    {
     "data": {
      "image/png": "[encoded data removed]",
      "text/plain": [
       "<Figure size 432x288 with 1 Axes>"
      ]
     },
     "metadata": {
      "needs_background": "light"
     },
     "output_type": "display_data"
    },
    {
     "data": {
      "image/png": "[encoded data removed]",
      "text/plain": [
       "<Figure size 432x288 with 1 Axes>"
      ]
     },
     "metadata": {
      "needs_background": "light"
     },
     "output_type": "display_data"
    },
    {
     "data": {
      "image/png": "[encoded data removed]",
      "text/plain": [
       "<Figure size 432x288 with 1 Axes>"
      ]
     },
     "metadata": {
      "needs_background": "light"
     },
     "output_type": "display_data"
    },
    {
     "data": {
      "image/png": "[encoded data removed]",
      "text/plain": [
       "<Figure size 432x288 with 1 Axes>"
      ]
     },
     "metadata": {
      "needs_background": "light"
     },
     "output_type": "display_data"
    },
    {
     "data": {
      "image/png": "[encoded data removed]",
      "text/plain": [
       "<Figure size 432x288 with 1 Axes>"
      ]
     },
     "metadata": {
      "needs_background": "light"
     },
     "output_type": "display_data"
    }
   ],
   "source": [
    "platforms_top_after_2014 = data_best_platforms_after_2014.index\n",
    "for platform in platforms_top_after_2014:\n",
    "    data[data['platform'] == platform].pivot_table(index=\\\n",
    "                            'year_of_release', values='sum_sales',\\\n",
    "                            aggfunc='sum').plot(kind='bar', title=platform, xlabel='Год выпуска',\\\n",
    "                            ylabel='Суммарные продажи игр',legend=0)"
   ]
  },
  {
   "cell_type": "markdown",
   "metadata": {},
   "source": [
    "Глядя на графики, можем выделить платформы **PC**,**XOne**, **3DS**, **PS4**. Они лидируют по продажам за последний год. Однако, даже у них тенденция на снижение продаж. Самыми надежными платформами на 2017 выглядят **XOne** и **PS4**, так как у них пик продаж пришелся на 2015. Тогда весьма многоверотно, что эти платформы будут актуальны и на 2017, и на ближайшие несколько лет.  <br>\n",
    "Остальные платформы уже потеряли свою популярность. "
   ]
  },
  {
   "cell_type": "code",
   "execution_count": 27,
   "metadata": {},
   "outputs": [
    {
     "data": {
      "text/plain": [
       "<AxesSubplot:title={'center':'sum_sales'}, xlabel='platform'>"
      ]
     },
     "execution_count": 27,
     "metadata": {},
     "output_type": "execute_result"
    },
    {
     "data": {
      "image/png": "[encoded data removed]",
      "text/plain": [
       "<Figure size 720x720 with 1 Axes>"
      ]
     },
     "metadata": {
      "needs_background": "light"
     },
     "output_type": "display_data"
    }
   ],
   "source": [
    "data.boxplot(column='sum_sales',by='platform', figsize=(10,10))"
   ]
  },
  {
   "cell_type": "markdown",
   "metadata": {},
   "source": [
    "Увеличим масштаб нижней части графика."
   ]
  },
  {
   "cell_type": "code",
   "execution_count": 28,
   "metadata": {},
   "outputs": [
    {
     "data": {
      "text/plain": [
       "(0.0, 2.0)"
      ]
     },
     "execution_count": 28,
     "metadata": {},
     "output_type": "execute_result"
    },
    {
     "data": {
      "image/png": "[encoded data removed]",
      "text/plain": [
       "<Figure size 720x720 with 1 Axes>"
      ]
     },
     "metadata": {
      "needs_background": "light"
     },
     "output_type": "display_data"
    }
   ],
   "source": [
    "data.boxplot(column='sum_sales',by='platform', figsize=(10,10))\n",
    "plt.ylim(0,2)"
   ]
  },
  {
   "cell_type": "markdown",
   "metadata": {},
   "source": [
    "Наглядно видна разница между всеми платформами. На PS4, XOne и 3DS чаще выходят игры, с продажами больше 6 миллионов, чем на других платформах. Анализируя медианы и квартили, можно сказать, что самой привлекательной платформой являются **PS4**."
   ]
  },
  {
   "cell_type": "markdown",
   "metadata": {},
   "source": [
    "**Посмотрим, как влияют отзывы на продажи**."
   ]
  },
  {
   "cell_type": "code",
   "execution_count": 29,
   "metadata": {},
   "outputs": [
    {
     "name": "stdout",
     "output_type": "stream",
     "text": [
      "<class 'pandas.core.frame.DataFrame'>\n",
      "Int64Index: 1689 entries, 31 to 16443\n",
      "Data columns (total 12 columns):\n",
      " #   Column           Non-Null Count  Dtype  \n",
      "---  ------           --------------  -----  \n",
      " 0   name             1689 non-null   object \n",
      " 1   platform         1689 non-null   object \n",
      " 2   year_of_release  1689 non-null   int64  \n",
      " 3   genre            1689 non-null   object \n",
      " 4   na_sales         1689 non-null   float64\n",
      " 5   eu_sales         1689 non-null   float64\n",
      " 6   jp_sales         1689 non-null   float64\n",
      " 7   other_sales      1689 non-null   float64\n",
      " 8   critic_score     718 non-null    float64\n",
      " 9   user_score       888 non-null    float64\n",
      " 10  rating           940 non-null    object \n",
      " 11  sum_sales        1689 non-null   float64\n",
      "dtypes: float64(7), int64(1), object(4)\n",
      "memory usage: 171.5+ KB\n"
     ]
    }
   ],
   "source": [
    "data.info()"
   ]
  },
  {
   "cell_type": "markdown",
   "metadata": {},
   "source": [
    "Построим диаграмму рассеяния по платформе **PS4**."
   ]
  },
  {
   "cell_type": "markdown",
   "metadata": {},
   "source": [
    "Сначала посмотрим на зависимость оценки пользователей и суммы продаж."
   ]
  },
  {
   "cell_type": "code",
   "execution_count": 30,
   "metadata": {},
   "outputs": [
    {
     "data": {
      "text/plain": [
       "<AxesSubplot:title={'center':'Зависимость оценки польз-й и продаж'}, xlabel='user_score', ylabel='sum_sales'>"
      ]
     },
     "execution_count": 30,
     "metadata": {},
     "output_type": "execute_result"
    },
    {
     "data": {
      "image/png": "[encoded data removed]",
      "text/plain": [
       "<Figure size 432x288 with 1 Axes>"
      ]
     },
     "metadata": {
      "needs_background": "light"
     },
     "output_type": "display_data"
    }
   ],
   "source": [
    "PS4_data = data.query('platform == \"PS4\"')\n",
    "PS4_data.plot(kind='scatter', x='user_score', y='sum_sales', title='Зависимость оценки польз-й и продаж')"
   ]
  },
  {
   "cell_type": "markdown",
   "metadata": {},
   "source": [
    "Посмотрим подробнее значения между оценками 6 и 8."
   ]
  },
  {
   "cell_type": "code",
   "execution_count": 31,
   "metadata": {},
   "outputs": [
    {
     "data": {
      "text/plain": [
       "<AxesSubplot:title={'center':'Зависимость оценки польз-й и продаж'}, xlabel='user_score', ylabel='sum_sales'>"
      ]
     },
     "execution_count": 31,
     "metadata": {},
     "output_type": "execute_result"
    },
    {
     "data": {
      "image/png": "[encoded data removed]",
      "text/plain": [
       "<Figure size 432x288 with 1 Axes>"
      ]
     },
     "metadata": {
      "needs_background": "light"
     },
     "output_type": "display_data"
    }
   ],
   "source": [
    "PS4_data.plot(kind='scatter', x='user_score', y='sum_sales', title='Зависимость оценки польз-й и продаж',\\\n",
    "             ylim=(0,2), xlim=(6,8))"
   ]
  },
  {
   "cell_type": "markdown",
   "metadata": {},
   "source": [
    "Глядя на график, можно сказать, что корреляции нет, либо она очень незначительная. Рассчитаем коэффициент корреляции."
   ]
  },
  {
   "cell_type": "code",
   "execution_count": 32,
   "metadata": {},
   "outputs": [
    {
     "data": {
      "text/plain": [
       "-0.040131589472697356"
      ]
     },
     "execution_count": 32,
     "metadata": {},
     "output_type": "execute_result"
    }
   ],
   "source": [
    "PS4_data['user_score'].corr(PS4_data['sum_sales'])"
   ]
  },
  {
   "cell_type": "markdown",
   "metadata": {},
   "source": [
    "Значение очень маленькое, делаем вывод, что зависмости нет."
   ]
  },
  {
   "cell_type": "markdown",
   "metadata": {},
   "source": [
    "Проделаем то же самое с оценками критиков."
   ]
  },
  {
   "cell_type": "code",
   "execution_count": 33,
   "metadata": {},
   "outputs": [
    {
     "data": {
      "text/plain": [
       "<AxesSubplot:title={'center':'Зависимость оценки критиков и продаж'}, xlabel='critic_score', ylabel='sum_sales'>"
      ]
     },
     "execution_count": 33,
     "metadata": {},
     "output_type": "execute_result"
    },
    {
     "data": {
      "image/png": "[encoded data removed]",
      "text/plain": [
       "<Figure size 432x288 with 1 Axes>"
      ]
     },
     "metadata": {
      "needs_background": "light"
     },
     "output_type": "display_data"
    }
   ],
   "source": [
    "PS4_data.plot(kind='scatter', x='critic_score', y='sum_sales', title='Зависимость оценки критиков и продаж')"
   ]
  },
  {
   "cell_type": "markdown",
   "metadata": {},
   "source": [
    "Подробнее рассмотрим значения между 40 и 90."
   ]
  },
  {
   "cell_type": "code",
   "execution_count": 34,
   "metadata": {},
   "outputs": [
    {
     "data": {
      "text/plain": [
       "<AxesSubplot:title={'center':'Зависимость оценки критиков и продаж'}, xlabel='critic_score', ylabel='sum_sales'>"
      ]
     },
     "execution_count": 34,
     "metadata": {},
     "output_type": "execute_result"
    },
    {
     "data": {
      "image/png": "[encoded data removed]",
      "text/plain": [
       "<Figure size 432x288 with 1 Axes>"
      ]
     },
     "metadata": {
      "needs_background": "light"
     },
     "output_type": "display_data"
    }
   ],
   "source": [
    "PS4_data.plot(kind='scatter', x='critic_score', y='sum_sales', xlim=(40, 90), ylim=(0,4),\n",
    "              title='Зависимость оценки критиков и продаж')"
   ]
  },
  {
   "cell_type": "markdown",
   "metadata": {},
   "source": [
    "Видим, что есть прямая корреляция, причем заметная. Рассчитаем коэффициент корреляции."
   ]
  },
  {
   "cell_type": "code",
   "execution_count": 35,
   "metadata": {},
   "outputs": [
    {
     "data": {
      "text/plain": [
       "0.40266141068104083"
      ]
     },
     "execution_count": 35,
     "metadata": {},
     "output_type": "execute_result"
    }
   ],
   "source": [
    "PS4_data['critic_score'].corr(PS4_data['sum_sales'])"
   ]
  },
  {
   "cell_type": "markdown",
   "metadata": {},
   "source": [
    "Значение показывает, что величины коррелируют."
   ]
  },
  {
   "cell_type": "markdown",
   "metadata": {},
   "source": [
    "**Тогда делаем вывод**. <br> Отзывы клиентов практически не влияют на продажу, в то время, как отзывы критиков оказывают значительное влияние."
   ]
  },
  {
   "cell_type": "markdown",
   "metadata": {},
   "source": [
    "Проверим наши выводы по другим платформам."
   ]
  },
  {
   "cell_type": "code",
   "execution_count": 36,
   "metadata": {},
   "outputs": [
    {
     "data": {
      "text/plain": [
       "array(['PS4', '3DS', 'XOne', 'WiiU', 'PS3', 'X360', 'PC', 'Wii', 'PSV',\n",
       "       'PSP'], dtype=object)"
      ]
     },
     "execution_count": 36,
     "metadata": {},
     "output_type": "execute_result"
    }
   ],
   "source": [
    "data['platform'].unique()"
   ]
  },
  {
   "cell_type": "code",
   "execution_count": 37,
   "metadata": {},
   "outputs": [
    {
     "name": "stdout",
     "output_type": "stream",
     "text": [
      "PC\n",
      "Коэффициент зависимости продаж и отзывов пользователей -0.07159665703472451\n",
      "AxesSubplot(0.125,0.125;0.775x0.755)\n"
     ]
    },
    {
     "data": {
      "image/png": "[encoded data removed]",
      "text/plain": [
       "<Figure size 432x288 with 1 Axes>"
      ]
     },
     "metadata": {
      "needs_background": "light"
     },
     "output_type": "display_data"
    },
    {
     "name": "stdout",
     "output_type": "stream",
     "text": [
      "Коэффициент зависимости продаж и отзывов критиков 0.17463413769350036\n",
      "AxesSubplot(0.125,0.125;0.775x0.755)\n",
      "XOne\n",
      "Коэффициент зависимости продаж и отзывов пользователей -0.0703839280647581\n",
      "AxesSubplot(0.125,0.125;0.775x0.755)\n"
     ]
    },
    {
     "data": {
      "image/png": "[encoded data removed]",
      "text/plain": [
       "<Figure size 432x288 with 1 Axes>"
      ]
     },
     "metadata": {
      "needs_background": "light"
     },
     "output_type": "display_data"
    },
    {
     "data": {
      "image/png": "[encoded data removed]",
      "text/plain": [
       "<Figure size 432x288 with 1 Axes>"
      ]
     },
     "metadata": {
      "needs_background": "light"
     },
     "output_type": "display_data"
    },
    {
     "name": "stdout",
     "output_type": "stream",
     "text": [
      "Коэффициент зависимости продаж и отзывов критиков 0.42867694370333226\n",
      "AxesSubplot(0.125,0.125;0.775x0.755)\n",
      "3DS\n",
      "Коэффициент зависимости продаж и отзывов пользователей 0.2151932718527028\n",
      "AxesSubplot(0.125,0.125;0.775x0.755)\n"
     ]
    },
    {
     "data": {
      "image/png": "[encoded data removed]",
      "text/plain": [
       "<Figure size 432x288 with 1 Axes>"
      ]
     },
     "metadata": {
      "needs_background": "light"
     },
     "output_type": "display_data"
    },
    {
     "data": {
      "image/png": "[encoded data removed]",
      "text/plain": [
       "<Figure size 432x288 with 1 Axes>"
      ]
     },
     "metadata": {
      "needs_background": "light"
     },
     "output_type": "display_data"
    },
    {
     "name": "stdout",
     "output_type": "stream",
     "text": [
      "Коэффициент зависимости продаж и отзывов критиков 0.314117492869051\n",
      "AxesSubplot(0.125,0.125;0.775x0.755)\n",
      "WiiU\n",
      "Коэффициент зависимости продаж и отзывов пользователей 0.40792645792170773\n",
      "AxesSubplot(0.125,0.125;0.775x0.755)\n"
     ]
    },
    {
     "data": {
      "image/png": "[encoded data removed]",
      "text/plain": [
       "<Figure size 432x288 with 1 Axes>"
      ]
     },
     "metadata": {
      "needs_background": "light"
     },
     "output_type": "display_data"
    },
    {
     "data": {
      "image/png": "[encoded data removed]",
      "text/plain": [
       "<Figure size 432x288 with 1 Axes>"
      ]
     },
     "metadata": {
      "needs_background": "light"
     },
     "output_type": "display_data"
    },
    {
     "name": "stdout",
     "output_type": "stream",
     "text": [
      "Коэффициент зависимости продаж и отзывов критиков 0.370201412480884\n",
      "AxesSubplot(0.125,0.125;0.775x0.755)\n",
      "PS3\n",
      "Коэффициент зависимости продаж и отзывов пользователей -0.16676141347662118\n",
      "AxesSubplot(0.125,0.125;0.775x0.755)\n"
     ]
    },
    {
     "data": {
      "image/png": "[encoded data removed]",
      "text/plain": [
       "<Figure size 432x288 with 1 Axes>"
      ]
     },
     "metadata": {
      "needs_background": "light"
     },
     "output_type": "display_data"
    },
    {
     "data": {
      "image/png": "[encoded data removed]",
      "text/plain": [
       "<Figure size 432x288 with 1 Axes>"
      ]
     },
     "metadata": {
      "needs_background": "light"
     },
     "output_type": "display_data"
    },
    {
     "name": "stdout",
     "output_type": "stream",
     "text": [
      "Коэффициент зависимости продаж и отзывов критиков 0.44657460493190704\n",
      "AxesSubplot(0.125,0.125;0.775x0.755)\n"
     ]
    },
    {
     "data": {
      "image/png": "[encoded data removed]",
      "text/plain": [
       "<Figure size 432x288 with 1 Axes>"
      ]
     },
     "metadata": {
      "needs_background": "light"
     },
     "output_type": "display_data"
    }
   ],
   "source": [
    "platforms = ['PC', 'XOne', '3DS', 'WiiU', 'PS3']\n",
    "for value in platforms:\n",
    "    data_for_value = data[data['platform'] == value]\n",
    "    print(value)\n",
    "    print('Коэффициент зависимости продаж и отзывов пользователей', data_for_value['user_score'].corr(data_for_value['sum_sales']))\n",
    "    print(data_for_value.plot(kind='scatter', x='user_score', y='sum_sales', xlim=(4,8), ylim=(0,1), \\\n",
    "              title='Зависимость оценки пользователей и продаж'))\n",
    "    plt.show()\n",
    "    print('Коэффициент зависимости продаж и отзывов критиков', data_for_value['critic_score'].corr(data_for_value['sum_sales']))\n",
    "    print(data_for_value.plot(kind='scatter', x='critic_score', y='sum_sales', xlim=(50,90), ylim=(0,1), \\\n",
    "              title='Зависимость оценки критиков и продаж'))\n",
    "    data_for_value = data"
   ]
  },
  {
   "cell_type": "markdown",
   "metadata": {},
   "source": [
    "В большинстве случаев, отзывы пользователей действительно не оказывают большого влияния на продажи, и абсолютно везде отзывы критиков имеют значительное влияние на продажи."
   ]
  },
  {
   "cell_type": "markdown",
   "metadata": {},
   "source": [
    "**Посмотрим на распределение игр по жанрам.**"
   ]
  },
  {
   "cell_type": "markdown",
   "metadata": {},
   "source": [
    "Рассчитаем суммарные продажи по каждому жанру."
   ]
  },
  {
   "cell_type": "code",
   "execution_count": 38,
   "metadata": {},
   "outputs": [
    {
     "data": {
      "text/html": [
       "<div>\n",
       "<style scoped>\n",
       "    .dataframe tbody tr th:only-of-type {\n",
       "        vertical-align: middle;\n",
       "    }\n",
       "\n",
       "    .dataframe tbody tr th {\n",
       "        vertical-align: top;\n",
       "    }\n",
       "\n",
       "    .dataframe thead th {\n",
       "        text-align: right;\n",
       "    }\n",
       "</style>\n",
       "<table border=\"1\" class=\"dataframe\">\n",
       "  <thead>\n",
       "    <tr style=\"text-align: right;\">\n",
       "      <th></th>\n",
       "      <th>total_sales</th>\n",
       "    </tr>\n",
       "    <tr>\n",
       "      <th>genre</th>\n",
       "      <th></th>\n",
       "    </tr>\n",
       "  </thead>\n",
       "  <tbody>\n",
       "    <tr>\n",
       "      <th>Action</th>\n",
       "      <td>199.36</td>\n",
       "    </tr>\n",
       "    <tr>\n",
       "      <th>Shooter</th>\n",
       "      <td>170.94</td>\n",
       "    </tr>\n",
       "    <tr>\n",
       "      <th>Sports</th>\n",
       "      <td>109.48</td>\n",
       "    </tr>\n",
       "    <tr>\n",
       "      <th>Role-Playing</th>\n",
       "      <td>101.44</td>\n",
       "    </tr>\n",
       "    <tr>\n",
       "      <th>Misc</th>\n",
       "      <td>37.55</td>\n",
       "    </tr>\n",
       "    <tr>\n",
       "      <th>Fighting</th>\n",
       "      <td>28.22</td>\n",
       "    </tr>\n",
       "    <tr>\n",
       "      <th>Racing</th>\n",
       "      <td>27.52</td>\n",
       "    </tr>\n",
       "    <tr>\n",
       "      <th>Platform</th>\n",
       "      <td>18.09</td>\n",
       "    </tr>\n",
       "    <tr>\n",
       "      <th>Adventure</th>\n",
       "      <td>17.55</td>\n",
       "    </tr>\n",
       "    <tr>\n",
       "      <th>Simulation</th>\n",
       "      <td>13.13</td>\n",
       "    </tr>\n",
       "    <tr>\n",
       "      <th>Strategy</th>\n",
       "      <td>3.96</td>\n",
       "    </tr>\n",
       "    <tr>\n",
       "      <th>Puzzle</th>\n",
       "      <td>2.21</td>\n",
       "    </tr>\n",
       "  </tbody>\n",
       "</table>\n",
       "</div>"
      ],
      "text/plain": [
       "              total_sales\n",
       "genre                    \n",
       "Action             199.36\n",
       "Shooter            170.94\n",
       "Sports             109.48\n",
       "Role-Playing       101.44\n",
       "Misc                37.55\n",
       "Fighting            28.22\n",
       "Racing              27.52\n",
       "Platform            18.09\n",
       "Adventure           17.55\n",
       "Simulation          13.13\n",
       "Strategy             3.96\n",
       "Puzzle               2.21"
      ]
     },
     "execution_count": 38,
     "metadata": {},
     "output_type": "execute_result"
    }
   ],
   "source": [
    "data_genres = pd.pivot_table(data, index='genre', values='sum_sales', aggfunc='sum').sort_values('sum_sales', ascending=False).\\\n",
    "                             rename(columns={'sum_sales':'total_sales'})\n",
    "data_genres"
   ]
  },
  {
   "cell_type": "markdown",
   "metadata": {},
   "source": [
    "Выделяются жанры **Action** и **Shooter** с самыми высокими продажами. С другой стороны, **Strategy** и **Puzzle** имеют самые низкие продажи."
   ]
  },
  {
   "cell_type": "code",
   "execution_count": 39,
   "metadata": {},
   "outputs": [
    {
     "data": {
      "text/plain": [
       "<AxesSubplot:title={'center':'sum_sales'}, xlabel='genre'>"
      ]
     },
     "execution_count": 39,
     "metadata": {},
     "output_type": "execute_result"
    },
    {
     "data": {
      "image/png": "[encoded data removed]",
      "text/plain": [
       "<Figure size 720x360 with 1 Axes>"
      ]
     },
     "metadata": {
      "needs_background": "light"
     },
     "output_type": "display_data"
    }
   ],
   "source": [
    "data.boxplot(column='sum_sales', by='genre', figsize=(10,5))"
   ]
  },
  {
   "cell_type": "markdown",
   "metadata": {},
   "source": [
    "Увеличим масштаб."
   ]
  },
  {
   "cell_type": "code",
   "execution_count": 40,
   "metadata": {},
   "outputs": [
    {
     "data": {
      "text/plain": [
       "(0.0, 4.0)"
      ]
     },
     "execution_count": 40,
     "metadata": {},
     "output_type": "execute_result"
    },
    {
     "data": {
      "image/png": "[encoded data removed]",
      "text/plain": [
       "<Figure size 864x360 with 1 Axes>"
      ]
     },
     "metadata": {
      "needs_background": "light"
     },
     "output_type": "display_data"
    }
   ],
   "source": [
    "data.boxplot(column='sum_sales', by='genre', figsize=(12,5))\n",
    "plt.ylim(0,4)"
   ]
  },
  {
   "cell_type": "markdown",
   "metadata": {},
   "source": [
    "Видим, что самыми надежными явлются жанры Shooter, Sports и Platform."
   ]
  },
  {
   "cell_type": "markdown",
   "metadata": {},
   "source": [
    "### Портрет пользователя каждого региона"
   ]
  },
  {
   "cell_type": "markdown",
   "metadata": {},
   "source": [
    "#### Самые популярные платформы для каждого региона"
   ]
  },
  {
   "cell_type": "code",
   "execution_count": 41,
   "metadata": {},
   "outputs": [
    {
     "data": {
      "text/html": [
       "<div>\n",
       "<style scoped>\n",
       "    .dataframe tbody tr th:only-of-type {\n",
       "        vertical-align: middle;\n",
       "    }\n",
       "\n",
       "    .dataframe tbody tr th {\n",
       "        vertical-align: top;\n",
       "    }\n",
       "\n",
       "    .dataframe thead th {\n",
       "        text-align: right;\n",
       "    }\n",
       "</style>\n",
       "<table border=\"1\" class=\"dataframe\">\n",
       "  <thead>\n",
       "    <tr style=\"text-align: right;\">\n",
       "      <th></th>\n",
       "      <th>name</th>\n",
       "      <th>platform</th>\n",
       "      <th>year_of_release</th>\n",
       "      <th>genre</th>\n",
       "      <th>na_sales</th>\n",
       "      <th>eu_sales</th>\n",
       "      <th>jp_sales</th>\n",
       "      <th>other_sales</th>\n",
       "      <th>critic_score</th>\n",
       "      <th>user_score</th>\n",
       "      <th>rating</th>\n",
       "      <th>sum_sales</th>\n",
       "    </tr>\n",
       "  </thead>\n",
       "  <tbody>\n",
       "    <tr>\n",
       "      <th>0</th>\n",
       "      <td>Call of Duty: Black Ops 3</td>\n",
       "      <td>PS4</td>\n",
       "      <td>2015</td>\n",
       "      <td>Shooter</td>\n",
       "      <td>6.03</td>\n",
       "      <td>5.86</td>\n",
       "      <td>0.36</td>\n",
       "      <td>2.38</td>\n",
       "      <td>NaN</td>\n",
       "      <td>NaN</td>\n",
       "      <td>NaN</td>\n",
       "      <td>14.63</td>\n",
       "    </tr>\n",
       "    <tr>\n",
       "      <th>1</th>\n",
       "      <td>Grand Theft Auto V</td>\n",
       "      <td>PS4</td>\n",
       "      <td>2014</td>\n",
       "      <td>Action</td>\n",
       "      <td>3.96</td>\n",
       "      <td>6.31</td>\n",
       "      <td>0.38</td>\n",
       "      <td>1.97</td>\n",
       "      <td>97.0</td>\n",
       "      <td>8.3</td>\n",
       "      <td>M</td>\n",
       "      <td>12.62</td>\n",
       "    </tr>\n",
       "    <tr>\n",
       "      <th>2</th>\n",
       "      <td>Pokemon Omega Ruby/Pokemon Alpha Sapphire</td>\n",
       "      <td>3DS</td>\n",
       "      <td>2014</td>\n",
       "      <td>Role-Playing</td>\n",
       "      <td>4.35</td>\n",
       "      <td>3.49</td>\n",
       "      <td>3.10</td>\n",
       "      <td>0.74</td>\n",
       "      <td>NaN</td>\n",
       "      <td>NaN</td>\n",
       "      <td>NaN</td>\n",
       "      <td>11.68</td>\n",
       "    </tr>\n",
       "    <tr>\n",
       "      <th>3</th>\n",
       "      <td>FIFA 16</td>\n",
       "      <td>PS4</td>\n",
       "      <td>2015</td>\n",
       "      <td>Sports</td>\n",
       "      <td>1.12</td>\n",
       "      <td>6.12</td>\n",
       "      <td>0.06</td>\n",
       "      <td>1.28</td>\n",
       "      <td>82.0</td>\n",
       "      <td>4.3</td>\n",
       "      <td>E</td>\n",
       "      <td>8.58</td>\n",
       "    </tr>\n",
       "    <tr>\n",
       "      <th>4</th>\n",
       "      <td>Star Wars Battlefront (2015)</td>\n",
       "      <td>PS4</td>\n",
       "      <td>2015</td>\n",
       "      <td>Shooter</td>\n",
       "      <td>2.99</td>\n",
       "      <td>3.49</td>\n",
       "      <td>0.22</td>\n",
       "      <td>1.28</td>\n",
       "      <td>NaN</td>\n",
       "      <td>NaN</td>\n",
       "      <td>NaN</td>\n",
       "      <td>7.98</td>\n",
       "    </tr>\n",
       "    <tr>\n",
       "      <th>5</th>\n",
       "      <td>Call of Duty: Advanced Warfare</td>\n",
       "      <td>PS4</td>\n",
       "      <td>2014</td>\n",
       "      <td>Shooter</td>\n",
       "      <td>2.81</td>\n",
       "      <td>3.48</td>\n",
       "      <td>0.14</td>\n",
       "      <td>1.23</td>\n",
       "      <td>83.0</td>\n",
       "      <td>5.7</td>\n",
       "      <td>M</td>\n",
       "      <td>7.66</td>\n",
       "    </tr>\n",
       "    <tr>\n",
       "      <th>6</th>\n",
       "      <td>FIFA 17</td>\n",
       "      <td>PS4</td>\n",
       "      <td>2016</td>\n",
       "      <td>Sports</td>\n",
       "      <td>0.66</td>\n",
       "      <td>5.75</td>\n",
       "      <td>0.08</td>\n",
       "      <td>1.11</td>\n",
       "      <td>85.0</td>\n",
       "      <td>5.0</td>\n",
       "      <td>E</td>\n",
       "      <td>7.60</td>\n",
       "    </tr>\n",
       "    <tr>\n",
       "      <th>7</th>\n",
       "      <td>Super Smash Bros. for Wii U and 3DS</td>\n",
       "      <td>3DS</td>\n",
       "      <td>2014</td>\n",
       "      <td>Fighting</td>\n",
       "      <td>3.27</td>\n",
       "      <td>1.37</td>\n",
       "      <td>2.43</td>\n",
       "      <td>0.48</td>\n",
       "      <td>NaN</td>\n",
       "      <td>NaN</td>\n",
       "      <td>NaN</td>\n",
       "      <td>7.55</td>\n",
       "    </tr>\n",
       "    <tr>\n",
       "      <th>8</th>\n",
       "      <td>Call of Duty: Black Ops 3</td>\n",
       "      <td>XOne</td>\n",
       "      <td>2015</td>\n",
       "      <td>Shooter</td>\n",
       "      <td>4.59</td>\n",
       "      <td>2.11</td>\n",
       "      <td>0.01</td>\n",
       "      <td>0.68</td>\n",
       "      <td>NaN</td>\n",
       "      <td>NaN</td>\n",
       "      <td>NaN</td>\n",
       "      <td>7.39</td>\n",
       "    </tr>\n",
       "    <tr>\n",
       "      <th>9</th>\n",
       "      <td>Fallout 4</td>\n",
       "      <td>PS4</td>\n",
       "      <td>2015</td>\n",
       "      <td>Role-Playing</td>\n",
       "      <td>2.53</td>\n",
       "      <td>3.27</td>\n",
       "      <td>0.24</td>\n",
       "      <td>1.13</td>\n",
       "      <td>87.0</td>\n",
       "      <td>6.5</td>\n",
       "      <td>M</td>\n",
       "      <td>7.17</td>\n",
       "    </tr>\n",
       "    <tr>\n",
       "      <th>10</th>\n",
       "      <td>Pokemon Sun/Moon</td>\n",
       "      <td>3DS</td>\n",
       "      <td>2016</td>\n",
       "      <td>Role-Playing</td>\n",
       "      <td>2.98</td>\n",
       "      <td>1.45</td>\n",
       "      <td>2.26</td>\n",
       "      <td>0.45</td>\n",
       "      <td>NaN</td>\n",
       "      <td>NaN</td>\n",
       "      <td>NaN</td>\n",
       "      <td>7.14</td>\n",
       "    </tr>\n",
       "    <tr>\n",
       "      <th>11</th>\n",
       "      <td>Mario Kart 8</td>\n",
       "      <td>WiiU</td>\n",
       "      <td>2014</td>\n",
       "      <td>Racing</td>\n",
       "      <td>3.15</td>\n",
       "      <td>2.15</td>\n",
       "      <td>1.28</td>\n",
       "      <td>0.51</td>\n",
       "      <td>88.0</td>\n",
       "      <td>9.1</td>\n",
       "      <td>E</td>\n",
       "      <td>7.09</td>\n",
       "    </tr>\n",
       "    <tr>\n",
       "      <th>12</th>\n",
       "      <td>FIFA 15</td>\n",
       "      <td>PS4</td>\n",
       "      <td>2014</td>\n",
       "      <td>Sports</td>\n",
       "      <td>0.80</td>\n",
       "      <td>4.33</td>\n",
       "      <td>0.05</td>\n",
       "      <td>0.90</td>\n",
       "      <td>82.0</td>\n",
       "      <td>5.7</td>\n",
       "      <td>E</td>\n",
       "      <td>6.08</td>\n",
       "    </tr>\n",
       "    <tr>\n",
       "      <th>13</th>\n",
       "      <td>Destiny</td>\n",
       "      <td>PS4</td>\n",
       "      <td>2014</td>\n",
       "      <td>Shooter</td>\n",
       "      <td>2.49</td>\n",
       "      <td>2.07</td>\n",
       "      <td>0.16</td>\n",
       "      <td>0.92</td>\n",
       "      <td>76.0</td>\n",
       "      <td>6.1</td>\n",
       "      <td>T</td>\n",
       "      <td>5.64</td>\n",
       "    </tr>\n",
       "    <tr>\n",
       "      <th>14</th>\n",
       "      <td>Grand Theft Auto V</td>\n",
       "      <td>XOne</td>\n",
       "      <td>2014</td>\n",
       "      <td>Action</td>\n",
       "      <td>2.81</td>\n",
       "      <td>2.19</td>\n",
       "      <td>0.00</td>\n",
       "      <td>0.47</td>\n",
       "      <td>97.0</td>\n",
       "      <td>7.9</td>\n",
       "      <td>M</td>\n",
       "      <td>5.47</td>\n",
       "    </tr>\n",
       "  </tbody>\n",
       "</table>\n",
       "</div>"
      ],
      "text/plain": [
       "                                         name platform  year_of_release  \\\n",
       "0                   Call of Duty: Black Ops 3      PS4             2015   \n",
       "1                          Grand Theft Auto V      PS4             2014   \n",
       "2   Pokemon Omega Ruby/Pokemon Alpha Sapphire      3DS             2014   \n",
       "3                                     FIFA 16      PS4             2015   \n",
       "4                Star Wars Battlefront (2015)      PS4             2015   \n",
       "5              Call of Duty: Advanced Warfare      PS4             2014   \n",
       "6                                     FIFA 17      PS4             2016   \n",
       "7         Super Smash Bros. for Wii U and 3DS      3DS             2014   \n",
       "8                   Call of Duty: Black Ops 3     XOne             2015   \n",
       "9                                   Fallout 4      PS4             2015   \n",
       "10                           Pokemon Sun/Moon      3DS             2016   \n",
       "11                               Mario Kart 8     WiiU             2014   \n",
       "12                                    FIFA 15      PS4             2014   \n",
       "13                                    Destiny      PS4             2014   \n",
       "14                         Grand Theft Auto V     XOne             2014   \n",
       "\n",
       "           genre  na_sales  eu_sales  jp_sales  other_sales  critic_score  \\\n",
       "0        Shooter      6.03      5.86      0.36         2.38           NaN   \n",
       "1         Action      3.96      6.31      0.38         1.97          97.0   \n",
       "2   Role-Playing      4.35      3.49      3.10         0.74           NaN   \n",
       "3         Sports      1.12      6.12      0.06         1.28          82.0   \n",
       "4        Shooter      2.99      3.49      0.22         1.28           NaN   \n",
       "5        Shooter      2.81      3.48      0.14         1.23          83.0   \n",
       "6         Sports      0.66      5.75      0.08         1.11          85.0   \n",
       "7       Fighting      3.27      1.37      2.43         0.48           NaN   \n",
       "8        Shooter      4.59      2.11      0.01         0.68           NaN   \n",
       "9   Role-Playing      2.53      3.27      0.24         1.13          87.0   \n",
       "10  Role-Playing      2.98      1.45      2.26         0.45           NaN   \n",
       "11        Racing      3.15      2.15      1.28         0.51          88.0   \n",
       "12        Sports      0.80      4.33      0.05         0.90          82.0   \n",
       "13       Shooter      2.49      2.07      0.16         0.92          76.0   \n",
       "14        Action      2.81      2.19      0.00         0.47          97.0   \n",
       "\n",
       "    user_score rating  sum_sales  \n",
       "0          NaN    NaN      14.63  \n",
       "1          8.3      M      12.62  \n",
       "2          NaN    NaN      11.68  \n",
       "3          4.3      E       8.58  \n",
       "4          NaN    NaN       7.98  \n",
       "5          5.7      M       7.66  \n",
       "6          5.0      E       7.60  \n",
       "7          NaN    NaN       7.55  \n",
       "8          NaN    NaN       7.39  \n",
       "9          6.5      M       7.17  \n",
       "10         NaN    NaN       7.14  \n",
       "11         9.1      E       7.09  \n",
       "12         5.7      E       6.08  \n",
       "13         6.1      T       5.64  \n",
       "14         7.9      M       5.47  "
      ]
     },
     "execution_count": 41,
     "metadata": {},
     "output_type": "execute_result"
    }
   ],
   "source": [
    "data = data.reset_index(drop=True)\n",
    "data.head(15)"
   ]
  },
  {
   "cell_type": "markdown",
   "metadata": {},
   "source": [
    "**Северная Америка**"
   ]
  },
  {
   "cell_type": "code",
   "execution_count": 42,
   "metadata": {},
   "outputs": [
    {
     "data": {
      "text/html": [
       "<div>\n",
       "<style scoped>\n",
       "    .dataframe tbody tr th:only-of-type {\n",
       "        vertical-align: middle;\n",
       "    }\n",
       "\n",
       "    .dataframe tbody tr th {\n",
       "        vertical-align: top;\n",
       "    }\n",
       "\n",
       "    .dataframe thead th {\n",
       "        text-align: right;\n",
       "    }\n",
       "</style>\n",
       "<table border=\"1\" class=\"dataframe\">\n",
       "  <thead>\n",
       "    <tr style=\"text-align: right;\">\n",
       "      <th></th>\n",
       "      <th>na_sales</th>\n",
       "      <th>share</th>\n",
       "    </tr>\n",
       "    <tr>\n",
       "      <th>platform</th>\n",
       "      <th></th>\n",
       "      <th></th>\n",
       "    </tr>\n",
       "  </thead>\n",
       "  <tbody>\n",
       "    <tr>\n",
       "      <th>PS4</th>\n",
       "      <td>98.61</td>\n",
       "      <td>0.347</td>\n",
       "    </tr>\n",
       "    <tr>\n",
       "      <th>XOne</th>\n",
       "      <td>81.27</td>\n",
       "      <td>0.286</td>\n",
       "    </tr>\n",
       "    <tr>\n",
       "      <th>X360</th>\n",
       "      <td>28.30</td>\n",
       "      <td>0.100</td>\n",
       "    </tr>\n",
       "    <tr>\n",
       "      <th>3DS</th>\n",
       "      <td>22.64</td>\n",
       "      <td>0.080</td>\n",
       "    </tr>\n",
       "    <tr>\n",
       "      <th>PS3</th>\n",
       "      <td>22.05</td>\n",
       "      <td>0.078</td>\n",
       "    </tr>\n",
       "  </tbody>\n",
       "</table>\n",
       "</div>"
      ],
      "text/plain": [
       "          na_sales  share\n",
       "platform                 \n",
       "PS4          98.61  0.347\n",
       "XOne         81.27  0.286\n",
       "X360         28.30  0.100\n",
       "3DS          22.64  0.080\n",
       "PS3          22.05  0.078"
      ]
     },
     "execution_count": 42,
     "metadata": {},
     "output_type": "execute_result"
    }
   ],
   "source": [
    "na_total = data['na_sales'].sum()\n",
    "na_top_platform = pd.pivot_table(data, index='platform', values='na_sales', aggfunc='sum').sort_values('na_sales', ascending=False)\n",
    "na_top_platform = na_top_platform[:5] \n",
    "na_top_platform['share'] = round(na_top_platform['na_sales']/ na_total, 3)\n",
    "na_top_platform"
   ]
  },
  {
   "cell_type": "markdown",
   "metadata": {},
   "source": [
    "В Северной Америке платформы **X360** и **PS3** занимают 50% рынка по продажам игр."
   ]
  },
  {
   "cell_type": "markdown",
   "metadata": {},
   "source": [
    "**Европа**"
   ]
  },
  {
   "cell_type": "code",
   "execution_count": 43,
   "metadata": {},
   "outputs": [
    {
     "data": {
      "text/html": [
       "<div>\n",
       "<style scoped>\n",
       "    .dataframe tbody tr th:only-of-type {\n",
       "        vertical-align: middle;\n",
       "    }\n",
       "\n",
       "    .dataframe tbody tr th {\n",
       "        vertical-align: top;\n",
       "    }\n",
       "\n",
       "    .dataframe thead th {\n",
       "        text-align: right;\n",
       "    }\n",
       "</style>\n",
       "<table border=\"1\" class=\"dataframe\">\n",
       "  <thead>\n",
       "    <tr style=\"text-align: right;\">\n",
       "      <th></th>\n",
       "      <th>eu_sales</th>\n",
       "      <th>share</th>\n",
       "    </tr>\n",
       "    <tr>\n",
       "      <th>platform</th>\n",
       "      <th></th>\n",
       "      <th></th>\n",
       "    </tr>\n",
       "  </thead>\n",
       "  <tbody>\n",
       "    <tr>\n",
       "      <th>PS4</th>\n",
       "      <td>130.04</td>\n",
       "      <td>0.480</td>\n",
       "    </tr>\n",
       "    <tr>\n",
       "      <th>XOne</th>\n",
       "      <td>46.25</td>\n",
       "      <td>0.171</td>\n",
       "    </tr>\n",
       "    <tr>\n",
       "      <th>PS3</th>\n",
       "      <td>25.54</td>\n",
       "      <td>0.094</td>\n",
       "    </tr>\n",
       "    <tr>\n",
       "      <th>PC</th>\n",
       "      <td>17.97</td>\n",
       "      <td>0.066</td>\n",
       "    </tr>\n",
       "    <tr>\n",
       "      <th>3DS</th>\n",
       "      <td>16.12</td>\n",
       "      <td>0.060</td>\n",
       "    </tr>\n",
       "  </tbody>\n",
       "</table>\n",
       "</div>"
      ],
      "text/plain": [
       "          eu_sales  share\n",
       "platform                 \n",
       "PS4         130.04  0.480\n",
       "XOne         46.25  0.171\n",
       "PS3          25.54  0.094\n",
       "PC           17.97  0.066\n",
       "3DS          16.12  0.060"
      ]
     },
     "execution_count": 43,
     "metadata": {},
     "output_type": "execute_result"
    }
   ],
   "source": [
    "eu_total = data['eu_sales'].sum()\n",
    "eu_top_platform = pd.pivot_table(data, index='platform', values='eu_sales', aggfunc='sum').sort_values('eu_sales', ascending=False)\n",
    "eu_top_platform = eu_top_platform[:5] \n",
    "eu_top_platform['share'] = round(eu_top_platform['eu_sales']/ eu_total, 3)\n",
    "eu_top_platform"
   ]
  },
  {
   "cell_type": "markdown",
   "metadata": {},
   "source": [
    "В Европе на рынке господствуют платформы **PS3**, **X360** и **PS4**. Они составляют 61% рынка."
   ]
  },
  {
   "cell_type": "markdown",
   "metadata": {},
   "source": [
    "**Япония**"
   ]
  },
  {
   "cell_type": "code",
   "execution_count": 44,
   "metadata": {},
   "outputs": [
    {
     "data": {
      "text/html": [
       "<div>\n",
       "<style scoped>\n",
       "    .dataframe tbody tr th:only-of-type {\n",
       "        vertical-align: middle;\n",
       "    }\n",
       "\n",
       "    .dataframe tbody tr th {\n",
       "        vertical-align: top;\n",
       "    }\n",
       "\n",
       "    .dataframe thead th {\n",
       "        text-align: right;\n",
       "    }\n",
       "</style>\n",
       "<table border=\"1\" class=\"dataframe\">\n",
       "  <thead>\n",
       "    <tr style=\"text-align: right;\">\n",
       "      <th></th>\n",
       "      <th>jp_sales</th>\n",
       "      <th>share</th>\n",
       "    </tr>\n",
       "    <tr>\n",
       "      <th>platform</th>\n",
       "      <th></th>\n",
       "      <th></th>\n",
       "    </tr>\n",
       "  </thead>\n",
       "  <tbody>\n",
       "    <tr>\n",
       "      <th>3DS</th>\n",
       "      <td>44.24</td>\n",
       "      <td>0.475</td>\n",
       "    </tr>\n",
       "    <tr>\n",
       "      <th>PS4</th>\n",
       "      <td>15.02</td>\n",
       "      <td>0.161</td>\n",
       "    </tr>\n",
       "    <tr>\n",
       "      <th>PSV</th>\n",
       "      <td>14.54</td>\n",
       "      <td>0.156</td>\n",
       "    </tr>\n",
       "    <tr>\n",
       "      <th>PS3</th>\n",
       "      <td>11.22</td>\n",
       "      <td>0.121</td>\n",
       "    </tr>\n",
       "    <tr>\n",
       "      <th>WiiU</th>\n",
       "      <td>7.31</td>\n",
       "      <td>0.079</td>\n",
       "    </tr>\n",
       "  </tbody>\n",
       "</table>\n",
       "</div>"
      ],
      "text/plain": [
       "          jp_sales  share\n",
       "platform                 \n",
       "3DS          44.24  0.475\n",
       "PS4          15.02  0.161\n",
       "PSV          14.54  0.156\n",
       "PS3          11.22  0.121\n",
       "WiiU          7.31  0.079"
      ]
     },
     "execution_count": 44,
     "metadata": {},
     "output_type": "execute_result"
    }
   ],
   "source": [
    "jp_total = data['jp_sales'].sum()\n",
    "jp_top_platform = pd.pivot_table(data, index='platform', values='jp_sales', aggfunc='sum').sort_values('jp_sales', ascending=False)\n",
    "jp_top_platform = jp_top_platform[:5] \n",
    "jp_top_platform['share'] = round(jp_top_platform['jp_sales']/ jp_total, 3)\n",
    "jp_top_platform"
   ]
  },
  {
   "cell_type": "markdown",
   "metadata": {},
   "source": [
    "В Японии лидируют **3DS**, **PS3** и **PSP**. Их доля равна 66%"
   ]
  },
  {
   "cell_type": "markdown",
   "metadata": {},
   "source": [
    "#### Самые популярные жанры"
   ]
  },
  {
   "cell_type": "markdown",
   "metadata": {},
   "source": [
    "**Северная Америка**"
   ]
  },
  {
   "cell_type": "code",
   "execution_count": 45,
   "metadata": {},
   "outputs": [
    {
     "name": "stdout",
     "output_type": "stream",
     "text": [
      "              na_sales\n",
      "genre                 \n",
      "Shooter          79.02\n",
      "Action           72.53\n",
      "Sports           46.13\n",
      "Role-Playing     33.47\n",
      "Misc             15.05\n",
      "\n",
      "              eu_sales\n",
      "genre                 \n",
      "Action           74.68\n",
      "Shooter          65.52\n",
      "Sports           45.73\n",
      "Role-Playing     28.17\n",
      "Racing           14.13\n",
      "\n",
      "              jp_sales\n",
      "genre                 \n",
      "Role-Playing     31.16\n",
      "Action           29.58\n",
      "Fighting          6.37\n",
      "Misc              5.61\n",
      "Shooter           4.87\n",
      "\n"
     ]
    }
   ],
   "source": [
    "values = ['na_sales', 'eu_sales', 'jp_sales']\n",
    "for value in values:\n",
    "    pivot_table = pd.pivot_table(data, index='genre', values=value , aggfunc='sum').sort_values(value, ascending=False)\n",
    "    pivot_table = pivot_table[:5]\n",
    "    print(pivot_table)\n",
    "    print()"
   ]
  },
  {
   "cell_type": "markdown",
   "metadata": {},
   "source": [
    "В Японии очень популярны компьютерные ролевые игры, поэтому они занимают большую часть рынка. А вот игры, связанные со спортом им не сильно интересны.<br>В Северной Америке и Европе набор популярных игр примерно одинаковый."
   ]
  },
  {
   "cell_type": "markdown",
   "metadata": {},
   "source": [
    "### Влияет ли рейтинг ESRB на продажи"
   ]
  },
  {
   "cell_type": "code",
   "execution_count": 46,
   "metadata": {},
   "outputs": [],
   "source": [
    "data['rating'] = data['rating'].fillna('no info')"
   ]
  },
  {
   "cell_type": "code",
   "execution_count": 47,
   "metadata": {},
   "outputs": [
    {
     "name": "stdout",
     "output_type": "stream",
     "text": [
      "         na_sales\n",
      "rating           \n",
      "M           96.42\n",
      "no info     64.72\n",
      "E           50.74\n",
      "T           38.95\n",
      "E10+        33.23\n",
      "\n",
      "         eu_sales\n",
      "rating           \n",
      "M           93.44\n",
      "no info     58.95\n",
      "E           58.06\n",
      "T           34.07\n",
      "E10+        26.16\n",
      "\n",
      "         jp_sales\n",
      "rating           \n",
      "no info     56.90\n",
      "T           14.78\n",
      "E            8.94\n",
      "M            8.01\n",
      "E10+         4.46\n",
      "\n"
     ]
    }
   ],
   "source": [
    "values = ['na_sales', 'eu_sales', 'jp_sales']\n",
    "for value in values:\n",
    "    data_grouped_ESRB = pd.pivot_table(data, index='rating', values=value, aggfunc='sum').sort_values(value, ascending=False)\n",
    "    print(data_grouped_ESRB)\n",
    "    print()"
   ]
  },
  {
   "cell_type": "markdown",
   "metadata": {},
   "source": [
    "Глядя на таблицы, очевидно, что рейтинг **ESRB** влияет на продажи в Америке и Европе, но не влияет на продажи в Японии."
   ]
  },
  {
   "cell_type": "markdown",
   "metadata": {},
   "source": [
    "### Проверка гипотез"
   ]
  },
  {
   "cell_type": "code",
   "execution_count": 49,
   "metadata": {},
   "outputs": [],
   "source": [
    "from scipy import stats as st"
   ]
  },
  {
   "cell_type": "markdown",
   "metadata": {},
   "source": [
    "**Гипотеза 1.**<br>\n",
    "**H0**: Средние пользовательские рейтинги платформ XOne и PC одинаковые.<br>\n",
    "**H1**: Средние пользовательские рейтинги платформ XOne и PC разные."
   ]
  },
  {
   "cell_type": "markdown",
   "metadata": {},
   "source": [
    "Нам нужно сравнить среднее двух генеральных совокупностей. Для этого подойдет метод **st.ttest_ind().**"
   ]
  },
  {
   "cell_type": "markdown",
   "metadata": {},
   "source": [
    "Критический уровень статистической значимости возьмем равным **0.05.**<br>\n",
    "Если наше значение окажется меньше, то отвергнем нулевую гипотезу."
   ]
  },
  {
   "cell_type": "code",
   "execution_count": 50,
   "metadata": {},
   "outputs": [
    {
     "name": "stdout",
     "output_type": "stream",
     "text": [
      "p-значение: 0.10450507919348415\n"
     ]
    }
   ],
   "source": [
    "XOne_user_score = data[data['platform'] == \"XOne\"]['user_score'].dropna()\n",
    "PC_user_score = data[data['platform'] == \"PC\"]['user_score'].dropna()\n",
    "\n",
    "results = st.ttest_ind(XOne_user_score, PC_user_score)\n",
    "print('p-значение:', results.pvalue)"
   ]
  },
  {
   "cell_type": "markdown",
   "metadata": {},
   "source": [
    "Тогда делаем вывод, что нулевая гипотеза верна, и не будем ее отвергать. "
   ]
  },
  {
   "cell_type": "markdown",
   "metadata": {},
   "source": [
    "**Гипотеза 2.**<br>\n",
    "**H0**: Средние пользовательские рейтинги жанров Action и Sports одинаковые.<br>\n",
    "**H1**: Средние пользовательские рейтинги жанров Action и Sports разные."
   ]
  },
  {
   "cell_type": "markdown",
   "metadata": {},
   "source": [
    "Нам так же нужно сравнить среднее двух генеральных совокупностей. Для этого подойдет метод **st.ttest_ind().**"
   ]
  },
  {
   "cell_type": "markdown",
   "metadata": {},
   "source": [
    "Критический уровень статистической значимости возьмем равным **0.05.**<br>\n",
    "Если наше значение окажется меньше, то отвергаем нулевую гипотезу."
   ]
  },
  {
   "cell_type": "code",
   "execution_count": 51,
   "metadata": {},
   "outputs": [
    {
     "name": "stdout",
     "output_type": "stream",
     "text": [
      "p-значение: 2.8711147985105864e-19\n"
     ]
    }
   ],
   "source": [
    "Action_user_score = data[data['genre'] == \"Action\"]['user_score'].dropna()\n",
    "Sports_user_score = data[data['genre'] == \"Sports\"]['user_score'].dropna()\n",
    "\n",
    "results = st.ttest_ind(Action_user_score, Sports_user_score)\n",
    "print('p-значение:', results.pvalue)"
   ]
  },
  {
   "cell_type": "markdown",
   "metadata": {},
   "source": [
    "Тогда делаем вывод, что нулевая гипотеза ложна. Значит отвергаем ее и принимаем альтернативную гипотезу."
   ]
  },
  {
   "cell_type": "markdown",
   "metadata": {},
   "source": [
    "### Общий вывод"
   ]
  },
  {
   "cell_type": "markdown",
   "metadata": {},
   "source": [
    "Работа была очень объемной и интересной. Было проведено много исследований, выявлено закономерностей и рассмотрено гипотез. Перед этим мы ознакомились с данными, подготовили их, избавились от пропусков и заменили типы данных там, где необходимо. Не упустили и исследовательский анализ данных. Здесь мы группировали данные по разным признакам. Также, сравнивали одни платформы с другими, узнали, какие жанры популярны в том или ином регионе. Проверили, как коррелируют одни значения с другими. Цель исследования достигнута. После просмотра моего проекта можно с уверенностью сказать, на каких платформах какие жанры игр будут популярны, в разных регионах нашей планеты!"
   ]
  },
  {
   "cell_type": "markdown",
   "metadata": {},
   "source": [
    "Я рекомендую выходить на рынок компьютерных игр на платофрме PS4 с игрой в жанре **Shooter**. Продвигать игру стоит в Северной Америке. Важно учитывать, что нашей игре нужен хороший рейтинг **ESRB** и хорошие отзывы критиков, ведьэти показатели значительно влияют на продажи."
   ]
  }
 ],
 "metadata": {
  "ExecuteTimeLog": [
   {
    "duration": 386,
    "start_time": "2022-09-22T06:37:31.231Z"
   },
   {
    "duration": 66,
    "start_time": "2022-09-22T06:38:04.650Z"
   },
   {
    "duration": 101,
    "start_time": "2022-09-22T06:38:10.777Z"
   },
   {
    "duration": 67,
    "start_time": "2022-09-22T06:38:16.024Z"
   },
   {
    "duration": 15,
    "start_time": "2022-09-22T06:41:30.537Z"
   },
   {
    "duration": 4,
    "start_time": "2022-09-22T06:43:05.035Z"
   },
   {
    "duration": 8,
    "start_time": "2022-09-22T06:44:30.846Z"
   },
   {
    "duration": 79,
    "start_time": "2022-09-22T06:44:49.146Z"
   },
   {
    "duration": 8,
    "start_time": "2022-09-22T06:44:57.170Z"
   },
   {
    "duration": 136,
    "start_time": "2022-09-22T06:46:50.682Z"
   },
   {
    "duration": 15,
    "start_time": "2022-09-22T06:46:55.311Z"
   },
   {
    "duration": 13,
    "start_time": "2022-09-22T06:47:42.748Z"
   },
   {
    "duration": 6,
    "start_time": "2022-09-22T06:51:19.059Z"
   },
   {
    "duration": 8,
    "start_time": "2022-09-22T06:51:33.900Z"
   },
   {
    "duration": 5,
    "start_time": "2022-09-22T06:51:41.515Z"
   },
   {
    "duration": 64,
    "start_time": "2022-09-22T06:52:09.561Z"
   },
   {
    "duration": 28,
    "start_time": "2022-09-22T06:53:53.868Z"
   },
   {
    "duration": 3,
    "start_time": "2022-09-22T06:56:43.085Z"
   },
   {
    "duration": 65,
    "start_time": "2022-09-22T06:56:43.090Z"
   },
   {
    "duration": 12,
    "start_time": "2022-09-22T06:56:43.158Z"
   },
   {
    "duration": 13,
    "start_time": "2022-09-22T06:56:43.172Z"
   },
   {
    "duration": 22,
    "start_time": "2022-09-22T06:56:43.188Z"
   },
   {
    "duration": 41,
    "start_time": "2022-09-24T18:11:24.584Z"
   },
   {
    "duration": 348,
    "start_time": "2022-09-24T18:11:29.288Z"
   },
   {
    "duration": 192,
    "start_time": "2022-09-24T18:11:29.638Z"
   },
   {
    "duration": 13,
    "start_time": "2022-09-24T18:11:29.832Z"
   },
   {
    "duration": 16,
    "start_time": "2022-09-24T18:11:29.847Z"
   },
   {
    "duration": 13,
    "start_time": "2022-09-24T18:11:29.865Z"
   },
   {
    "duration": 53,
    "start_time": "2022-09-24T18:15:44.378Z"
   },
   {
    "duration": 9,
    "start_time": "2022-09-24T18:15:50.374Z"
   },
   {
    "duration": 12,
    "start_time": "2022-09-24T18:15:56.848Z"
   },
   {
    "duration": 2,
    "start_time": "2022-09-24T18:16:20.059Z"
   },
   {
    "duration": 69,
    "start_time": "2022-09-24T18:16:20.063Z"
   },
   {
    "duration": 12,
    "start_time": "2022-09-24T18:16:20.133Z"
   },
   {
    "duration": 11,
    "start_time": "2022-09-24T18:16:20.146Z"
   },
   {
    "duration": 12,
    "start_time": "2022-09-24T18:16:20.159Z"
   },
   {
    "duration": 9,
    "start_time": "2022-09-24T18:16:20.172Z"
   },
   {
    "duration": 10,
    "start_time": "2022-09-24T18:17:19.716Z"
   },
   {
    "duration": 916,
    "start_time": "2022-09-24T18:17:32.951Z"
   },
   {
    "duration": 3,
    "start_time": "2022-09-24T18:17:44.637Z"
   },
   {
    "duration": 80,
    "start_time": "2022-09-24T18:17:44.642Z"
   },
   {
    "duration": 13,
    "start_time": "2022-09-24T18:17:44.723Z"
   },
   {
    "duration": 13,
    "start_time": "2022-09-24T18:17:44.738Z"
   },
   {
    "duration": 13,
    "start_time": "2022-09-24T18:17:44.752Z"
   },
   {
    "duration": 18,
    "start_time": "2022-09-24T18:17:44.767Z"
   },
   {
    "duration": 15,
    "start_time": "2022-09-24T18:20:35.159Z"
   },
   {
    "duration": 15,
    "start_time": "2022-09-24T18:21:26.279Z"
   },
   {
    "duration": 21,
    "start_time": "2022-09-24T18:21:35.104Z"
   },
   {
    "duration": 23,
    "start_time": "2022-09-24T18:23:14.006Z"
   },
   {
    "duration": 24,
    "start_time": "2022-09-24T18:23:18.596Z"
   },
   {
    "duration": 13,
    "start_time": "2022-09-24T18:23:24.709Z"
   },
   {
    "duration": 9,
    "start_time": "2022-09-24T18:23:39.274Z"
   },
   {
    "duration": 10,
    "start_time": "2022-09-24T18:24:26.911Z"
   },
   {
    "duration": 3,
    "start_time": "2022-09-24T18:24:41.172Z"
   },
   {
    "duration": 68,
    "start_time": "2022-09-24T18:24:41.181Z"
   },
   {
    "duration": 11,
    "start_time": "2022-09-24T18:24:41.251Z"
   },
   {
    "duration": 13,
    "start_time": "2022-09-24T18:24:41.263Z"
   },
   {
    "duration": 27,
    "start_time": "2022-09-24T18:24:41.277Z"
   },
   {
    "duration": 24,
    "start_time": "2022-09-24T18:24:41.306Z"
   },
   {
    "duration": 12,
    "start_time": "2022-09-24T18:25:25.135Z"
   },
   {
    "duration": 11,
    "start_time": "2022-09-24T18:25:41.255Z"
   },
   {
    "duration": 8,
    "start_time": "2022-09-24T18:25:50.858Z"
   },
   {
    "duration": 3,
    "start_time": "2022-09-24T18:26:12.936Z"
   },
   {
    "duration": 8,
    "start_time": "2022-09-24T18:26:22.415Z"
   },
   {
    "duration": 8,
    "start_time": "2022-09-24T18:26:37.354Z"
   },
   {
    "duration": 10,
    "start_time": "2022-09-24T18:26:50.534Z"
   },
   {
    "duration": 12,
    "start_time": "2022-09-24T18:26:57.441Z"
   },
   {
    "duration": 5,
    "start_time": "2022-09-24T18:27:20.113Z"
   },
   {
    "duration": 6,
    "start_time": "2022-09-24T18:27:46.138Z"
   },
   {
    "duration": 13,
    "start_time": "2022-09-24T18:27:49.603Z"
   },
   {
    "duration": 5,
    "start_time": "2022-09-24T18:28:03.198Z"
   },
   {
    "duration": 941,
    "start_time": "2022-09-24T18:28:20.095Z"
   },
   {
    "duration": 924,
    "start_time": "2022-09-24T18:28:39.802Z"
   },
   {
    "duration": 2,
    "start_time": "2022-09-24T18:28:55.917Z"
   },
   {
    "duration": 65,
    "start_time": "2022-09-24T18:28:55.923Z"
   },
   {
    "duration": 14,
    "start_time": "2022-09-24T18:28:55.990Z"
   },
   {
    "duration": 23,
    "start_time": "2022-09-24T18:28:56.006Z"
   },
   {
    "duration": 20,
    "start_time": "2022-09-24T18:28:56.031Z"
   },
   {
    "duration": 14,
    "start_time": "2022-09-24T18:29:24.582Z"
   },
   {
    "duration": 8,
    "start_time": "2022-09-24T18:29:41.740Z"
   },
   {
    "duration": 8,
    "start_time": "2022-09-24T18:29:50.857Z"
   },
   {
    "duration": 7,
    "start_time": "2022-09-24T18:29:58.930Z"
   },
   {
    "duration": 13,
    "start_time": "2022-09-24T18:31:32.464Z"
   },
   {
    "duration": 969,
    "start_time": "2022-09-24T18:32:17.765Z"
   },
   {
    "duration": 927,
    "start_time": "2022-09-24T18:32:38.591Z"
   },
   {
    "duration": 873,
    "start_time": "2022-09-24T18:33:06.295Z"
   },
   {
    "duration": 891,
    "start_time": "2022-09-24T18:33:16.387Z"
   },
   {
    "duration": 904,
    "start_time": "2022-09-24T18:33:46.996Z"
   },
   {
    "duration": 8,
    "start_time": "2022-09-24T18:34:43.772Z"
   },
   {
    "duration": 8,
    "start_time": "2022-09-24T18:34:49.002Z"
   },
   {
    "duration": 2,
    "start_time": "2022-09-24T18:35:01.982Z"
   },
   {
    "duration": 129,
    "start_time": "2022-09-24T18:35:01.990Z"
   },
   {
    "duration": 12,
    "start_time": "2022-09-24T18:35:02.121Z"
   },
   {
    "duration": 59,
    "start_time": "2022-09-24T18:35:02.134Z"
   },
   {
    "duration": 39,
    "start_time": "2022-09-24T18:35:02.195Z"
   },
   {
    "duration": 8,
    "start_time": "2022-09-24T18:35:14.824Z"
   },
   {
    "duration": 4,
    "start_time": "2022-09-24T18:35:27.222Z"
   },
   {
    "duration": 5,
    "start_time": "2022-09-24T18:35:59.362Z"
   },
   {
    "duration": 7,
    "start_time": "2022-09-24T18:36:31.547Z"
   },
   {
    "duration": 18,
    "start_time": "2022-09-24T18:36:36.121Z"
   },
   {
    "duration": 14,
    "start_time": "2022-09-24T18:36:50.596Z"
   },
   {
    "duration": 13,
    "start_time": "2022-09-24T18:36:52.631Z"
   },
   {
    "duration": 2,
    "start_time": "2022-09-24T18:37:03.003Z"
   },
   {
    "duration": 74,
    "start_time": "2022-09-24T18:37:03.009Z"
   },
   {
    "duration": 11,
    "start_time": "2022-09-24T18:37:03.085Z"
   },
   {
    "duration": 12,
    "start_time": "2022-09-24T18:37:03.098Z"
   },
   {
    "duration": 19,
    "start_time": "2022-09-24T18:37:03.111Z"
   },
   {
    "duration": 24,
    "start_time": "2022-09-24T18:37:17.870Z"
   },
   {
    "duration": 149,
    "start_time": "2022-09-24T18:40:18.673Z"
   },
   {
    "duration": 17,
    "start_time": "2022-09-24T18:42:52.329Z"
   },
   {
    "duration": 16,
    "start_time": "2022-09-24T18:42:58.469Z"
   },
   {
    "duration": 14,
    "start_time": "2022-09-24T18:43:01.463Z"
   },
   {
    "duration": 13,
    "start_time": "2022-09-24T18:43:32.233Z"
   },
   {
    "duration": 9,
    "start_time": "2022-09-24T18:44:01.442Z"
   },
   {
    "duration": 904,
    "start_time": "2022-09-24T18:44:14.493Z"
   },
   {
    "duration": 941,
    "start_time": "2022-09-24T18:44:24.466Z"
   },
   {
    "duration": 941,
    "start_time": "2022-09-24T18:45:04.024Z"
   },
   {
    "duration": 1290,
    "start_time": "2022-09-24T18:45:10.217Z"
   },
   {
    "duration": 885,
    "start_time": "2022-09-24T18:45:28.195Z"
   },
   {
    "duration": 46,
    "start_time": "2022-09-24T18:45:33.163Z"
   },
   {
    "duration": 3,
    "start_time": "2022-09-24T18:45:33.211Z"
   },
   {
    "duration": 66,
    "start_time": "2022-09-24T18:45:33.216Z"
   },
   {
    "duration": 14,
    "start_time": "2022-09-24T18:45:33.285Z"
   },
   {
    "duration": 19,
    "start_time": "2022-09-24T18:45:33.301Z"
   },
   {
    "duration": 13,
    "start_time": "2022-09-24T18:45:33.322Z"
   },
   {
    "duration": 17,
    "start_time": "2022-09-24T18:45:33.337Z"
   },
   {
    "duration": 14,
    "start_time": "2022-09-24T18:45:53.775Z"
   },
   {
    "duration": 8,
    "start_time": "2022-09-24T18:46:15.083Z"
   },
   {
    "duration": 10,
    "start_time": "2022-09-24T18:46:30.101Z"
   },
   {
    "duration": 45,
    "start_time": "2022-09-24T18:46:41.108Z"
   },
   {
    "duration": 2,
    "start_time": "2022-09-24T18:46:41.155Z"
   },
   {
    "duration": 61,
    "start_time": "2022-09-24T18:46:41.158Z"
   },
   {
    "duration": 11,
    "start_time": "2022-09-24T18:46:41.221Z"
   },
   {
    "duration": 11,
    "start_time": "2022-09-24T18:46:41.233Z"
   },
   {
    "duration": 10,
    "start_time": "2022-09-24T18:46:41.246Z"
   },
   {
    "duration": 12,
    "start_time": "2022-09-24T18:46:58.695Z"
   },
   {
    "duration": 13,
    "start_time": "2022-09-24T18:56:10.740Z"
   },
   {
    "duration": 12,
    "start_time": "2022-09-24T18:56:16.814Z"
   },
   {
    "duration": 57,
    "start_time": "2022-09-24T18:56:20.473Z"
   },
   {
    "duration": 3,
    "start_time": "2022-09-24T18:56:20.532Z"
   },
   {
    "duration": 64,
    "start_time": "2022-09-24T18:56:20.537Z"
   },
   {
    "duration": 11,
    "start_time": "2022-09-24T18:56:20.603Z"
   },
   {
    "duration": 11,
    "start_time": "2022-09-24T18:56:20.615Z"
   },
   {
    "duration": 11,
    "start_time": "2022-09-24T18:56:20.628Z"
   },
   {
    "duration": 6,
    "start_time": "2022-09-24T18:56:50.376Z"
   },
   {
    "duration": 19,
    "start_time": "2022-09-24T18:56:56.151Z"
   },
   {
    "duration": 8,
    "start_time": "2022-09-24T18:57:28.605Z"
   },
   {
    "duration": 38,
    "start_time": "2022-09-24T18:57:35.371Z"
   },
   {
    "duration": 3,
    "start_time": "2022-09-24T18:57:35.410Z"
   },
   {
    "duration": 62,
    "start_time": "2022-09-24T18:57:35.414Z"
   },
   {
    "duration": 11,
    "start_time": "2022-09-24T18:57:35.478Z"
   },
   {
    "duration": 10,
    "start_time": "2022-09-24T18:57:35.490Z"
   },
   {
    "duration": 11,
    "start_time": "2022-09-24T18:57:35.502Z"
   },
   {
    "duration": 23,
    "start_time": "2022-09-24T18:57:35.514Z"
   },
   {
    "duration": 14,
    "start_time": "2022-09-24T18:57:35.539Z"
   },
   {
    "duration": 10,
    "start_time": "2022-09-24T18:57:58.586Z"
   },
   {
    "duration": 7,
    "start_time": "2022-09-24T18:58:13.366Z"
   },
   {
    "duration": 37,
    "start_time": "2022-09-24T18:58:20.386Z"
   },
   {
    "duration": 2,
    "start_time": "2022-09-24T18:58:20.425Z"
   },
   {
    "duration": 73,
    "start_time": "2022-09-24T18:58:20.428Z"
   },
   {
    "duration": 12,
    "start_time": "2022-09-24T18:58:20.504Z"
   },
   {
    "duration": 13,
    "start_time": "2022-09-24T18:58:20.518Z"
   },
   {
    "duration": 12,
    "start_time": "2022-09-24T18:58:20.533Z"
   },
   {
    "duration": 9,
    "start_time": "2022-09-24T18:58:20.547Z"
   },
   {
    "duration": 15,
    "start_time": "2022-09-24T18:58:20.557Z"
   },
   {
    "duration": 37,
    "start_time": "2022-09-24T18:58:53.064Z"
   },
   {
    "duration": 2,
    "start_time": "2022-09-24T18:58:53.103Z"
   },
   {
    "duration": 65,
    "start_time": "2022-09-24T18:58:53.106Z"
   },
   {
    "duration": 11,
    "start_time": "2022-09-24T18:58:53.173Z"
   },
   {
    "duration": 14,
    "start_time": "2022-09-24T18:58:53.185Z"
   },
   {
    "duration": 14,
    "start_time": "2022-09-24T19:02:50.092Z"
   },
   {
    "duration": 38,
    "start_time": "2022-09-24T19:02:58.651Z"
   },
   {
    "duration": 3,
    "start_time": "2022-09-24T19:02:58.690Z"
   },
   {
    "duration": 63,
    "start_time": "2022-09-24T19:02:58.694Z"
   },
   {
    "duration": 12,
    "start_time": "2022-09-24T19:02:58.759Z"
   },
   {
    "duration": 12,
    "start_time": "2022-09-24T19:02:58.772Z"
   },
   {
    "duration": 16,
    "start_time": "2022-09-24T19:02:58.785Z"
   },
   {
    "duration": 42,
    "start_time": "2022-09-24T19:03:18.522Z"
   },
   {
    "duration": 2,
    "start_time": "2022-09-24T19:03:18.566Z"
   },
   {
    "duration": 63,
    "start_time": "2022-09-24T19:03:18.569Z"
   },
   {
    "duration": 11,
    "start_time": "2022-09-24T19:03:18.634Z"
   },
   {
    "duration": 20,
    "start_time": "2022-09-24T19:03:18.647Z"
   },
   {
    "duration": 11,
    "start_time": "2022-09-24T19:03:18.668Z"
   },
   {
    "duration": 16,
    "start_time": "2022-09-24T19:03:18.681Z"
   },
   {
    "duration": 13,
    "start_time": "2022-09-24T19:03:32.234Z"
   },
   {
    "duration": 13,
    "start_time": "2022-09-24T19:05:40.317Z"
   },
   {
    "duration": 38,
    "start_time": "2022-09-24T19:05:45.677Z"
   },
   {
    "duration": 2,
    "start_time": "2022-09-24T19:05:45.717Z"
   },
   {
    "duration": 71,
    "start_time": "2022-09-24T19:05:45.721Z"
   },
   {
    "duration": 13,
    "start_time": "2022-09-24T19:05:45.794Z"
   },
   {
    "duration": 15,
    "start_time": "2022-09-24T19:05:45.809Z"
   },
   {
    "duration": 13,
    "start_time": "2022-09-24T19:05:45.826Z"
   },
   {
    "duration": 18,
    "start_time": "2022-09-24T19:05:45.840Z"
   },
   {
    "duration": 39,
    "start_time": "2022-09-24T19:05:55.153Z"
   },
   {
    "duration": 4,
    "start_time": "2022-09-24T19:05:55.193Z"
   },
   {
    "duration": 65,
    "start_time": "2022-09-24T19:05:55.198Z"
   },
   {
    "duration": 12,
    "start_time": "2022-09-24T19:05:55.264Z"
   },
   {
    "duration": 10,
    "start_time": "2022-09-24T19:05:55.277Z"
   },
   {
    "duration": 10,
    "start_time": "2022-09-24T19:05:55.289Z"
   },
   {
    "duration": 23,
    "start_time": "2022-09-24T19:05:55.301Z"
   },
   {
    "duration": 35,
    "start_time": "2022-09-25T04:42:39.121Z"
   },
   {
    "duration": 396,
    "start_time": "2022-09-25T04:42:39.157Z"
   },
   {
    "duration": 65,
    "start_time": "2022-09-25T04:42:39.554Z"
   },
   {
    "duration": 12,
    "start_time": "2022-09-25T04:42:39.621Z"
   },
   {
    "duration": 15,
    "start_time": "2022-09-25T04:42:39.635Z"
   },
   {
    "duration": 26,
    "start_time": "2022-09-25T04:42:39.652Z"
   },
   {
    "duration": 70,
    "start_time": "2022-09-25T04:42:39.680Z"
   },
   {
    "duration": 17,
    "start_time": "2022-09-25T04:43:06.903Z"
   },
   {
    "duration": 9,
    "start_time": "2022-09-25T04:43:40.311Z"
   },
   {
    "duration": 20,
    "start_time": "2022-09-25T04:46:43.546Z"
   },
   {
    "duration": 14,
    "start_time": "2022-09-25T04:47:29.095Z"
   },
   {
    "duration": 15,
    "start_time": "2022-09-25T04:49:42.357Z"
   },
   {
    "duration": 8,
    "start_time": "2022-09-25T04:53:27.264Z"
   },
   {
    "duration": 480,
    "start_time": "2022-09-25T04:53:48.783Z"
   },
   {
    "duration": 29,
    "start_time": "2022-09-25T04:54:05.017Z"
   },
   {
    "duration": 3,
    "start_time": "2022-09-25T04:54:05.048Z"
   },
   {
    "duration": 70,
    "start_time": "2022-09-25T04:54:05.053Z"
   },
   {
    "duration": 14,
    "start_time": "2022-09-25T04:54:05.125Z"
   },
   {
    "duration": 17,
    "start_time": "2022-09-25T04:54:05.141Z"
   },
   {
    "duration": 18,
    "start_time": "2022-09-25T04:54:05.179Z"
   },
   {
    "duration": 21,
    "start_time": "2022-09-25T04:54:05.199Z"
   },
   {
    "duration": 20,
    "start_time": "2022-09-25T04:54:05.222Z"
   },
   {
    "duration": 655,
    "start_time": "2022-09-25T04:54:05.244Z"
   },
   {
    "duration": 895,
    "start_time": "2022-09-25T04:54:42.111Z"
   },
   {
    "duration": 12,
    "start_time": "2022-09-25T04:57:01.668Z"
   },
   {
    "duration": 25,
    "start_time": "2022-09-25T04:57:07.352Z"
   },
   {
    "duration": 2,
    "start_time": "2022-09-25T04:57:07.379Z"
   },
   {
    "duration": 83,
    "start_time": "2022-09-25T04:57:07.383Z"
   },
   {
    "duration": 12,
    "start_time": "2022-09-25T04:57:07.468Z"
   },
   {
    "duration": 12,
    "start_time": "2022-09-25T04:57:07.482Z"
   },
   {
    "duration": 13,
    "start_time": "2022-09-25T04:57:07.495Z"
   },
   {
    "duration": 30,
    "start_time": "2022-09-25T04:57:07.509Z"
   },
   {
    "duration": 22,
    "start_time": "2022-09-25T04:57:07.541Z"
   },
   {
    "duration": 23,
    "start_time": "2022-09-25T04:57:07.564Z"
   },
   {
    "duration": 26,
    "start_time": "2022-09-25T04:57:14.856Z"
   },
   {
    "duration": 3,
    "start_time": "2022-09-25T04:57:14.884Z"
   },
   {
    "duration": 77,
    "start_time": "2022-09-25T04:57:14.889Z"
   },
   {
    "duration": 16,
    "start_time": "2022-09-25T04:57:14.969Z"
   },
   {
    "duration": 15,
    "start_time": "2022-09-25T04:57:14.986Z"
   },
   {
    "duration": 14,
    "start_time": "2022-09-25T04:57:15.004Z"
   },
   {
    "duration": 33,
    "start_time": "2022-09-25T04:57:15.020Z"
   },
   {
    "duration": 30,
    "start_time": "2022-09-25T04:57:15.055Z"
   },
   {
    "duration": 15,
    "start_time": "2022-09-25T04:57:15.086Z"
   },
   {
    "duration": 10,
    "start_time": "2022-09-25T04:57:46.391Z"
   },
   {
    "duration": 10,
    "start_time": "2022-09-25T04:58:03.639Z"
   },
   {
    "duration": 10,
    "start_time": "2022-09-25T04:58:21.179Z"
   },
   {
    "duration": 26,
    "start_time": "2022-09-25T04:58:27.029Z"
   },
   {
    "duration": 6,
    "start_time": "2022-09-25T04:58:27.057Z"
   },
   {
    "duration": 69,
    "start_time": "2022-09-25T04:58:27.065Z"
   },
   {
    "duration": 13,
    "start_time": "2022-09-25T04:58:27.136Z"
   },
   {
    "duration": 13,
    "start_time": "2022-09-25T04:58:27.150Z"
   },
   {
    "duration": 13,
    "start_time": "2022-09-25T04:58:27.164Z"
   },
   {
    "duration": 15,
    "start_time": "2022-09-25T04:58:27.179Z"
   },
   {
    "duration": 14,
    "start_time": "2022-09-25T04:58:27.195Z"
   },
   {
    "duration": 10,
    "start_time": "2022-09-25T04:58:27.210Z"
   },
   {
    "duration": 16,
    "start_time": "2022-09-25T04:59:20.999Z"
   },
   {
    "duration": 23,
    "start_time": "2022-09-25T05:00:09.213Z"
   },
   {
    "duration": 19,
    "start_time": "2022-09-25T07:43:28.660Z"
   },
   {
    "duration": 23,
    "start_time": "2022-09-25T07:43:56.462Z"
   },
   {
    "duration": 28,
    "start_time": "2022-09-25T07:46:31.866Z"
   },
   {
    "duration": 2,
    "start_time": "2022-09-25T07:46:31.896Z"
   },
   {
    "duration": 101,
    "start_time": "2022-09-25T07:46:31.900Z"
   },
   {
    "duration": 14,
    "start_time": "2022-09-25T07:46:32.003Z"
   },
   {
    "duration": 26,
    "start_time": "2022-09-25T07:46:32.019Z"
   },
   {
    "duration": 30,
    "start_time": "2022-09-25T07:46:32.047Z"
   },
   {
    "duration": 18,
    "start_time": "2022-09-25T07:46:32.079Z"
   },
   {
    "duration": 14,
    "start_time": "2022-09-25T07:46:32.098Z"
   },
   {
    "duration": 20,
    "start_time": "2022-09-25T07:46:32.113Z"
   },
   {
    "duration": 9,
    "start_time": "2022-09-25T07:46:54.261Z"
   },
   {
    "duration": 9,
    "start_time": "2022-09-25T07:47:55.818Z"
   },
   {
    "duration": 3,
    "start_time": "2022-09-25T07:47:59.669Z"
   },
   {
    "duration": 5,
    "start_time": "2022-09-25T07:48:10.329Z"
   },
   {
    "duration": 27,
    "start_time": "2022-09-25T07:48:15.164Z"
   },
   {
    "duration": 9,
    "start_time": "2022-09-25T07:50:24.610Z"
   },
   {
    "duration": 12,
    "start_time": "2022-09-25T07:51:48.846Z"
   },
   {
    "duration": 29,
    "start_time": "2022-09-25T07:51:53.869Z"
   },
   {
    "duration": 2,
    "start_time": "2022-09-25T07:51:53.900Z"
   },
   {
    "duration": 65,
    "start_time": "2022-09-25T07:51:53.904Z"
   },
   {
    "duration": 12,
    "start_time": "2022-09-25T07:51:53.971Z"
   },
   {
    "duration": 13,
    "start_time": "2022-09-25T07:51:53.985Z"
   },
   {
    "duration": 13,
    "start_time": "2022-09-25T07:51:53.999Z"
   },
   {
    "duration": 15,
    "start_time": "2022-09-25T07:51:54.013Z"
   },
   {
    "duration": 13,
    "start_time": "2022-09-25T07:51:54.030Z"
   },
   {
    "duration": 40,
    "start_time": "2022-09-25T07:51:54.044Z"
   },
   {
    "duration": 37,
    "start_time": "2022-09-25T07:54:34.010Z"
   },
   {
    "duration": 10,
    "start_time": "2022-09-25T07:55:05.675Z"
   },
   {
    "duration": 110,
    "start_time": "2022-09-25T07:55:25.283Z"
   },
   {
    "duration": 28,
    "start_time": "2022-09-25T07:56:11.813Z"
   },
   {
    "duration": 801,
    "start_time": "2022-09-25T07:58:17.617Z"
   },
   {
    "duration": 20,
    "start_time": "2022-09-25T07:58:35.338Z"
   },
   {
    "duration": 23,
    "start_time": "2022-09-25T07:58:52.661Z"
   },
   {
    "duration": 73,
    "start_time": "2022-09-25T08:00:15.276Z"
   },
   {
    "duration": 826,
    "start_time": "2022-09-25T08:00:26.882Z"
   },
   {
    "duration": 28,
    "start_time": "2022-09-25T08:00:37.323Z"
   },
   {
    "duration": 2,
    "start_time": "2022-09-25T08:00:37.353Z"
   },
   {
    "duration": 64,
    "start_time": "2022-09-25T08:00:37.357Z"
   },
   {
    "duration": 13,
    "start_time": "2022-09-25T08:00:37.423Z"
   },
   {
    "duration": 12,
    "start_time": "2022-09-25T08:00:37.437Z"
   },
   {
    "duration": 11,
    "start_time": "2022-09-25T08:00:37.451Z"
   },
   {
    "duration": 23,
    "start_time": "2022-09-25T08:00:37.464Z"
   },
   {
    "duration": 14,
    "start_time": "2022-09-25T08:00:37.489Z"
   },
   {
    "duration": 1369,
    "start_time": "2022-09-25T08:00:37.504Z"
   },
   {
    "duration": 23,
    "start_time": "2022-09-25T08:00:47.850Z"
   },
   {
    "duration": 22,
    "start_time": "2022-09-25T08:02:47.143Z"
   },
   {
    "duration": 19,
    "start_time": "2022-09-25T08:02:59.658Z"
   },
   {
    "duration": 1024,
    "start_time": "2022-09-25T08:03:51.148Z"
   },
   {
    "duration": 33,
    "start_time": "2022-09-25T08:03:56.912Z"
   },
   {
    "duration": 2,
    "start_time": "2022-09-25T08:03:56.947Z"
   },
   {
    "duration": 76,
    "start_time": "2022-09-25T08:03:56.951Z"
   },
   {
    "duration": 14,
    "start_time": "2022-09-25T08:03:57.029Z"
   },
   {
    "duration": 15,
    "start_time": "2022-09-25T08:03:57.045Z"
   },
   {
    "duration": 25,
    "start_time": "2022-09-25T08:03:57.062Z"
   },
   {
    "duration": 14,
    "start_time": "2022-09-25T08:03:57.088Z"
   },
   {
    "duration": 13,
    "start_time": "2022-09-25T08:03:57.103Z"
   },
   {
    "duration": 1263,
    "start_time": "2022-09-25T08:03:57.118Z"
   },
   {
    "duration": 40,
    "start_time": "2022-09-25T08:04:04.975Z"
   },
   {
    "duration": 3,
    "start_time": "2022-09-25T08:04:05.017Z"
   },
   {
    "duration": 69,
    "start_time": "2022-09-25T08:04:05.021Z"
   },
   {
    "duration": 13,
    "start_time": "2022-09-25T08:04:05.092Z"
   },
   {
    "duration": 12,
    "start_time": "2022-09-25T08:04:05.107Z"
   },
   {
    "duration": 14,
    "start_time": "2022-09-25T08:04:05.120Z"
   },
   {
    "duration": 44,
    "start_time": "2022-09-25T08:04:05.135Z"
   },
   {
    "duration": 18,
    "start_time": "2022-09-25T08:04:05.181Z"
   },
   {
    "duration": 876,
    "start_time": "2022-09-25T08:04:05.201Z"
   },
   {
    "duration": 25,
    "start_time": "2022-09-25T08:04:18.307Z"
   },
   {
    "duration": 24,
    "start_time": "2022-09-25T08:04:22.360Z"
   },
   {
    "duration": 26,
    "start_time": "2022-09-25T08:04:51.646Z"
   },
   {
    "duration": 25,
    "start_time": "2022-09-25T08:05:56.493Z"
   },
   {
    "duration": 1297,
    "start_time": "2022-09-25T08:07:11.963Z"
   },
   {
    "duration": 1572,
    "start_time": "2022-09-25T08:07:20.085Z"
   },
   {
    "duration": 767,
    "start_time": "2022-09-25T08:07:31.439Z"
   },
   {
    "duration": 40,
    "start_time": "2022-09-25T08:07:37.760Z"
   },
   {
    "duration": 2,
    "start_time": "2022-09-25T08:07:37.802Z"
   },
   {
    "duration": 66,
    "start_time": "2022-09-25T08:07:37.806Z"
   },
   {
    "duration": 12,
    "start_time": "2022-09-25T08:07:37.874Z"
   },
   {
    "duration": 12,
    "start_time": "2022-09-25T08:07:37.888Z"
   },
   {
    "duration": 14,
    "start_time": "2022-09-25T08:07:37.902Z"
   },
   {
    "duration": 19,
    "start_time": "2022-09-25T08:07:37.918Z"
   },
   {
    "duration": 17,
    "start_time": "2022-09-25T08:07:37.939Z"
   },
   {
    "duration": 994,
    "start_time": "2022-09-25T08:07:37.957Z"
   },
   {
    "duration": 82,
    "start_time": "2022-09-25T08:07:50.568Z"
   },
   {
    "duration": 835,
    "start_time": "2022-09-25T08:07:55.957Z"
   },
   {
    "duration": 23,
    "start_time": "2022-09-25T08:09:21.118Z"
   },
   {
    "duration": 1714,
    "start_time": "2022-09-25T08:09:59.659Z"
   },
   {
    "duration": 22,
    "start_time": "2022-09-25T08:10:22.895Z"
   },
   {
    "duration": 1096,
    "start_time": "2022-09-25T08:11:06.006Z"
   },
   {
    "duration": 47,
    "start_time": "2022-09-25T08:19:22.219Z"
   },
   {
    "duration": 12,
    "start_time": "2022-09-25T08:20:08.725Z"
   },
   {
    "duration": 12,
    "start_time": "2022-09-25T08:20:17.922Z"
   },
   {
    "duration": 31,
    "start_time": "2022-09-25T08:20:26.337Z"
   },
   {
    "duration": 2,
    "start_time": "2022-09-25T08:20:26.371Z"
   },
   {
    "duration": 66,
    "start_time": "2022-09-25T08:20:26.375Z"
   },
   {
    "duration": 12,
    "start_time": "2022-09-25T08:20:26.444Z"
   },
   {
    "duration": 17,
    "start_time": "2022-09-25T08:20:26.458Z"
   },
   {
    "duration": 19,
    "start_time": "2022-09-25T08:20:26.477Z"
   },
   {
    "duration": 29,
    "start_time": "2022-09-25T08:20:26.498Z"
   },
   {
    "duration": 20,
    "start_time": "2022-09-25T08:20:26.529Z"
   },
   {
    "duration": 32,
    "start_time": "2022-09-25T08:20:26.551Z"
   },
   {
    "duration": 8,
    "start_time": "2022-09-25T08:20:37.756Z"
   },
   {
    "duration": 12,
    "start_time": "2022-09-25T08:21:11.886Z"
   },
   {
    "duration": 13,
    "start_time": "2022-09-25T08:21:47.354Z"
   },
   {
    "duration": 23,
    "start_time": "2022-09-25T08:22:38.364Z"
   },
   {
    "duration": 22,
    "start_time": "2022-09-25T08:23:48.694Z"
   },
   {
    "duration": 21,
    "start_time": "2022-09-25T08:23:56.006Z"
   },
   {
    "duration": 23,
    "start_time": "2022-09-25T08:35:21.867Z"
   },
   {
    "duration": 19,
    "start_time": "2022-09-25T08:41:51.103Z"
   },
   {
    "duration": 5,
    "start_time": "2022-09-25T08:42:45.762Z"
   },
   {
    "duration": 16,
    "start_time": "2022-09-25T08:44:01.633Z"
   },
   {
    "duration": 5,
    "start_time": "2022-09-25T08:46:14.637Z"
   },
   {
    "duration": 5,
    "start_time": "2022-09-25T08:46:26.880Z"
   },
   {
    "duration": 5,
    "start_time": "2022-09-25T08:53:33.560Z"
   },
   {
    "duration": 5,
    "start_time": "2022-09-25T08:53:46.402Z"
   },
   {
    "duration": 6,
    "start_time": "2022-09-25T08:55:11.608Z"
   },
   {
    "duration": 6,
    "start_time": "2022-09-25T09:00:46.024Z"
   },
   {
    "duration": 7,
    "start_time": "2022-09-25T09:01:12.170Z"
   },
   {
    "duration": 2,
    "start_time": "2022-09-25T09:01:23.751Z"
   },
   {
    "duration": 8,
    "start_time": "2022-09-25T09:01:28.705Z"
   },
   {
    "duration": 6,
    "start_time": "2022-09-25T09:01:54.049Z"
   },
   {
    "duration": 39,
    "start_time": "2022-09-25T09:02:13.089Z"
   },
   {
    "duration": 3,
    "start_time": "2022-09-25T09:02:13.130Z"
   },
   {
    "duration": 66,
    "start_time": "2022-09-25T09:02:13.135Z"
   },
   {
    "duration": 13,
    "start_time": "2022-09-25T09:02:13.203Z"
   },
   {
    "duration": 12,
    "start_time": "2022-09-25T09:02:13.218Z"
   },
   {
    "duration": 12,
    "start_time": "2022-09-25T09:02:13.231Z"
   },
   {
    "duration": 53,
    "start_time": "2022-09-25T09:02:13.245Z"
   },
   {
    "duration": 16,
    "start_time": "2022-09-25T09:02:13.300Z"
   },
   {
    "duration": 5,
    "start_time": "2022-09-25T09:02:13.318Z"
   },
   {
    "duration": 10,
    "start_time": "2022-09-25T09:02:13.324Z"
   },
   {
    "duration": 5,
    "start_time": "2022-09-25T09:03:29.508Z"
   },
   {
    "duration": 13,
    "start_time": "2022-09-25T09:05:02.063Z"
   },
   {
    "duration": 4,
    "start_time": "2022-09-25T09:05:32.472Z"
   },
   {
    "duration": 14,
    "start_time": "2022-09-25T09:08:52.635Z"
   },
   {
    "duration": 12,
    "start_time": "2022-09-25T09:09:48.498Z"
   },
   {
    "duration": 14,
    "start_time": "2022-09-25T09:09:58.278Z"
   },
   {
    "duration": 12,
    "start_time": "2022-09-25T09:10:25.419Z"
   },
   {
    "duration": 52,
    "start_time": "2022-09-25T09:10:45.356Z"
   },
   {
    "duration": 3,
    "start_time": "2022-09-25T09:10:45.410Z"
   },
   {
    "duration": 84,
    "start_time": "2022-09-25T09:10:45.416Z"
   },
   {
    "duration": 16,
    "start_time": "2022-09-25T09:10:45.503Z"
   },
   {
    "duration": 14,
    "start_time": "2022-09-25T09:10:45.521Z"
   },
   {
    "duration": 17,
    "start_time": "2022-09-25T09:10:45.537Z"
   },
   {
    "duration": 48,
    "start_time": "2022-09-25T09:10:45.556Z"
   },
   {
    "duration": 15,
    "start_time": "2022-09-25T09:10:45.605Z"
   },
   {
    "duration": 5,
    "start_time": "2022-09-25T09:10:45.621Z"
   },
   {
    "duration": 10,
    "start_time": "2022-09-25T09:10:45.628Z"
   },
   {
    "duration": 13,
    "start_time": "2022-09-25T09:10:45.639Z"
   },
   {
    "duration": 19,
    "start_time": "2022-09-25T09:10:45.653Z"
   },
   {
    "duration": 13,
    "start_time": "2022-09-25T09:10:45.673Z"
   },
   {
    "duration": 13,
    "start_time": "2022-09-25T09:10:45.688Z"
   },
   {
    "duration": 15,
    "start_time": "2022-09-25T09:17:35.972Z"
   },
   {
    "duration": 17,
    "start_time": "2022-09-25T09:17:56.008Z"
   },
   {
    "duration": 15,
    "start_time": "2022-09-25T09:19:57.293Z"
   },
   {
    "duration": 27,
    "start_time": "2022-09-25T09:50:22.072Z"
   },
   {
    "duration": 18,
    "start_time": "2022-09-25T09:50:35.341Z"
   },
   {
    "duration": 20,
    "start_time": "2022-09-25T09:50:44.385Z"
   },
   {
    "duration": 6,
    "start_time": "2022-09-25T09:54:04.416Z"
   },
   {
    "duration": 515,
    "start_time": "2022-09-25T09:58:43.713Z"
   },
   {
    "duration": 602,
    "start_time": "2022-09-25T10:00:41.678Z"
   },
   {
    "duration": 15,
    "start_time": "2022-09-25T10:01:09.247Z"
   },
   {
    "duration": 788,
    "start_time": "2022-09-25T10:01:41.554Z"
   },
   {
    "duration": 18,
    "start_time": "2022-09-25T10:02:09.017Z"
   },
   {
    "duration": 369,
    "start_time": "2022-09-25T10:05:05.140Z"
   },
   {
    "duration": 302,
    "start_time": "2022-09-25T10:05:23.149Z"
   },
   {
    "duration": 154,
    "start_time": "2022-09-25T10:06:07.389Z"
   },
   {
    "duration": 181,
    "start_time": "2022-09-25T10:06:39.953Z"
   },
   {
    "duration": 164,
    "start_time": "2022-09-25T10:06:56.689Z"
   },
   {
    "duration": 9,
    "start_time": "2022-09-25T10:13:56.950Z"
   },
   {
    "duration": 4,
    "start_time": "2022-09-25T10:14:07.106Z"
   },
   {
    "duration": 8,
    "start_time": "2022-09-25T10:14:13.278Z"
   },
   {
    "duration": 10,
    "start_time": "2022-09-25T10:14:53.531Z"
   },
   {
    "duration": 11,
    "start_time": "2022-09-25T10:15:14.035Z"
   },
   {
    "duration": 16,
    "start_time": "2022-09-25T10:17:21.013Z"
   },
   {
    "duration": 6,
    "start_time": "2022-09-25T10:17:28.719Z"
   },
   {
    "duration": 7,
    "start_time": "2022-09-25T10:17:32.069Z"
   },
   {
    "duration": 48,
    "start_time": "2022-09-25T16:56:26.722Z"
   },
   {
    "duration": 348,
    "start_time": "2022-09-25T16:56:26.771Z"
   },
   {
    "duration": 109,
    "start_time": "2022-09-25T16:56:27.121Z"
   },
   {
    "duration": 12,
    "start_time": "2022-09-25T16:56:27.232Z"
   },
   {
    "duration": 12,
    "start_time": "2022-09-25T16:56:27.245Z"
   },
   {
    "duration": 18,
    "start_time": "2022-09-25T16:56:27.259Z"
   },
   {
    "duration": 15,
    "start_time": "2022-09-25T16:56:27.279Z"
   },
   {
    "duration": 23,
    "start_time": "2022-09-25T16:56:27.296Z"
   },
   {
    "duration": 4,
    "start_time": "2022-09-25T16:56:27.320Z"
   },
   {
    "duration": 6,
    "start_time": "2022-09-25T16:56:27.326Z"
   },
   {
    "duration": 7,
    "start_time": "2022-09-25T16:56:27.334Z"
   },
   {
    "duration": 9,
    "start_time": "2022-09-25T16:56:27.342Z"
   },
   {
    "duration": 16,
    "start_time": "2022-09-25T16:56:27.353Z"
   },
   {
    "duration": 38,
    "start_time": "2022-09-25T16:56:27.371Z"
   },
   {
    "duration": 13,
    "start_time": "2022-09-25T16:56:27.410Z"
   },
   {
    "duration": 18,
    "start_time": "2022-09-25T16:56:27.425Z"
   },
   {
    "duration": 7,
    "start_time": "2022-09-25T16:56:27.444Z"
   },
   {
    "duration": 580,
    "start_time": "2022-09-25T16:56:27.452Z"
   },
   {
    "duration": 3,
    "start_time": "2022-09-25T16:56:28.033Z"
   },
   {
    "duration": 12,
    "start_time": "2022-09-25T16:56:28.037Z"
   },
   {
    "duration": 84,
    "start_time": "2022-09-25T16:57:22.338Z"
   },
   {
    "duration": 11,
    "start_time": "2022-09-25T16:57:31.836Z"
   },
   {
    "duration": 15,
    "start_time": "2022-09-25T17:01:12.101Z"
   },
   {
    "duration": 13,
    "start_time": "2022-09-25T17:01:45.765Z"
   },
   {
    "duration": 14,
    "start_time": "2022-09-25T17:02:24.499Z"
   },
   {
    "duration": 13,
    "start_time": "2022-09-25T17:07:12.243Z"
   },
   {
    "duration": 13,
    "start_time": "2022-09-25T17:07:29.436Z"
   },
   {
    "duration": 4,
    "start_time": "2022-09-25T17:09:14.930Z"
   },
   {
    "duration": 16,
    "start_time": "2022-09-25T17:11:42.905Z"
   },
   {
    "duration": 10,
    "start_time": "2022-09-25T17:18:29.980Z"
   },
   {
    "duration": 15,
    "start_time": "2022-09-25T17:18:35.189Z"
   },
   {
    "duration": 10,
    "start_time": "2022-09-25T17:18:39.441Z"
   },
   {
    "duration": 8,
    "start_time": "2022-09-25T17:27:50.093Z"
   },
   {
    "duration": 23,
    "start_time": "2022-09-25T17:28:02.116Z"
   },
   {
    "duration": 16,
    "start_time": "2022-09-25T17:32:10.636Z"
   },
   {
    "duration": 15,
    "start_time": "2022-09-25T17:33:50.733Z"
   },
   {
    "duration": 27,
    "start_time": "2022-09-25T17:33:56.375Z"
   },
   {
    "duration": 2,
    "start_time": "2022-09-25T17:33:56.403Z"
   },
   {
    "duration": 67,
    "start_time": "2022-09-25T17:33:56.407Z"
   },
   {
    "duration": 12,
    "start_time": "2022-09-25T17:33:56.476Z"
   },
   {
    "duration": 15,
    "start_time": "2022-09-25T17:33:56.489Z"
   },
   {
    "duration": 12,
    "start_time": "2022-09-25T17:33:56.505Z"
   },
   {
    "duration": 14,
    "start_time": "2022-09-25T17:33:56.519Z"
   },
   {
    "duration": 15,
    "start_time": "2022-09-25T17:33:56.535Z"
   },
   {
    "duration": 5,
    "start_time": "2022-09-25T17:33:56.551Z"
   },
   {
    "duration": 5,
    "start_time": "2022-09-25T17:33:56.559Z"
   },
   {
    "duration": 6,
    "start_time": "2022-09-25T17:33:56.565Z"
   },
   {
    "duration": 41,
    "start_time": "2022-09-25T17:33:56.573Z"
   },
   {
    "duration": 13,
    "start_time": "2022-09-25T17:33:56.615Z"
   },
   {
    "duration": 15,
    "start_time": "2022-09-25T17:33:56.630Z"
   },
   {
    "duration": 14,
    "start_time": "2022-09-25T17:33:56.646Z"
   },
   {
    "duration": 18,
    "start_time": "2022-09-25T17:33:56.662Z"
   },
   {
    "duration": 6,
    "start_time": "2022-09-25T17:33:56.709Z"
   },
   {
    "duration": 169,
    "start_time": "2022-09-25T17:33:56.717Z"
   },
   {
    "duration": 2,
    "start_time": "2022-09-25T17:33:56.888Z"
   },
   {
    "duration": 27,
    "start_time": "2022-09-25T17:33:56.891Z"
   },
   {
    "duration": 15,
    "start_time": "2022-09-25T17:34:18.668Z"
   },
   {
    "duration": 14,
    "start_time": "2022-09-25T17:36:46.677Z"
   },
   {
    "duration": 14,
    "start_time": "2022-09-25T17:37:20.250Z"
   },
   {
    "duration": 27,
    "start_time": "2022-09-25T17:37:26.081Z"
   },
   {
    "duration": 3,
    "start_time": "2022-09-25T17:37:26.109Z"
   },
   {
    "duration": 68,
    "start_time": "2022-09-25T17:37:26.114Z"
   },
   {
    "duration": 12,
    "start_time": "2022-09-25T17:37:26.184Z"
   },
   {
    "duration": 16,
    "start_time": "2022-09-25T17:37:26.197Z"
   },
   {
    "duration": 12,
    "start_time": "2022-09-25T17:37:26.215Z"
   },
   {
    "duration": 14,
    "start_time": "2022-09-25T17:37:26.228Z"
   },
   {
    "duration": 14,
    "start_time": "2022-09-25T17:37:26.243Z"
   },
   {
    "duration": 63,
    "start_time": "2022-09-25T17:37:26.259Z"
   },
   {
    "duration": 5,
    "start_time": "2022-09-25T17:37:26.326Z"
   },
   {
    "duration": 21,
    "start_time": "2022-09-25T17:37:26.332Z"
   },
   {
    "duration": 13,
    "start_time": "2022-09-25T17:37:26.355Z"
   },
   {
    "duration": 13,
    "start_time": "2022-09-25T17:37:26.370Z"
   },
   {
    "duration": 25,
    "start_time": "2022-09-25T17:37:26.385Z"
   },
   {
    "duration": 13,
    "start_time": "2022-09-25T17:37:26.412Z"
   },
   {
    "duration": 18,
    "start_time": "2022-09-25T17:37:26.427Z"
   },
   {
    "duration": 6,
    "start_time": "2022-09-25T17:37:26.447Z"
   },
   {
    "duration": 180,
    "start_time": "2022-09-25T17:37:26.455Z"
   },
   {
    "duration": 3,
    "start_time": "2022-09-25T17:37:26.637Z"
   },
   {
    "duration": 16,
    "start_time": "2022-09-25T17:37:26.641Z"
   },
   {
    "duration": 14,
    "start_time": "2022-09-25T17:37:37.488Z"
   },
   {
    "duration": 14,
    "start_time": "2022-09-25T17:37:57.099Z"
   },
   {
    "duration": 7,
    "start_time": "2022-09-25T17:39:42.107Z"
   },
   {
    "duration": 682,
    "start_time": "2022-09-25T17:43:06.600Z"
   },
   {
    "duration": 12,
    "start_time": "2022-09-25T17:47:20.539Z"
   },
   {
    "duration": 23,
    "start_time": "2022-09-25T17:47:28.474Z"
   },
   {
    "duration": 2,
    "start_time": "2022-09-25T17:47:28.499Z"
   },
   {
    "duration": 69,
    "start_time": "2022-09-25T17:47:28.502Z"
   },
   {
    "duration": 12,
    "start_time": "2022-09-25T17:47:28.573Z"
   },
   {
    "duration": 12,
    "start_time": "2022-09-25T17:47:28.586Z"
   },
   {
    "duration": 17,
    "start_time": "2022-09-25T17:47:28.599Z"
   },
   {
    "duration": 13,
    "start_time": "2022-09-25T17:47:28.618Z"
   },
   {
    "duration": 15,
    "start_time": "2022-09-25T17:47:28.633Z"
   },
   {
    "duration": 4,
    "start_time": "2022-09-25T17:47:28.650Z"
   },
   {
    "duration": 5,
    "start_time": "2022-09-25T17:47:28.656Z"
   },
   {
    "duration": 8,
    "start_time": "2022-09-25T17:47:28.663Z"
   },
   {
    "duration": 11,
    "start_time": "2022-09-25T17:47:28.672Z"
   },
   {
    "duration": 14,
    "start_time": "2022-09-25T17:47:28.709Z"
   },
   {
    "duration": 16,
    "start_time": "2022-09-25T17:47:28.725Z"
   },
   {
    "duration": 14,
    "start_time": "2022-09-25T17:47:28.742Z"
   },
   {
    "duration": 18,
    "start_time": "2022-09-25T17:47:28.758Z"
   },
   {
    "duration": 36,
    "start_time": "2022-09-25T17:47:28.778Z"
   },
   {
    "duration": 179,
    "start_time": "2022-09-25T17:47:28.816Z"
   },
   {
    "duration": 2,
    "start_time": "2022-09-25T17:47:28.997Z"
   },
   {
    "duration": 14,
    "start_time": "2022-09-25T17:47:29.008Z"
   },
   {
    "duration": 8,
    "start_time": "2022-09-25T17:47:29.023Z"
   },
   {
    "duration": 12,
    "start_time": "2022-09-25T17:47:29.032Z"
   },
   {
    "duration": 7,
    "start_time": "2022-09-25T17:47:49.649Z"
   },
   {
    "duration": 24,
    "start_time": "2022-09-25T18:12:56.102Z"
   },
   {
    "duration": 15,
    "start_time": "2022-09-25T18:14:37.071Z"
   },
   {
    "duration": 61,
    "start_time": "2022-09-25T18:14:44.536Z"
   },
   {
    "duration": 2,
    "start_time": "2022-09-25T18:14:44.599Z"
   },
   {
    "duration": 67,
    "start_time": "2022-09-25T18:14:44.603Z"
   },
   {
    "duration": 12,
    "start_time": "2022-09-25T18:14:44.672Z"
   },
   {
    "duration": 12,
    "start_time": "2022-09-25T18:14:44.686Z"
   },
   {
    "duration": 12,
    "start_time": "2022-09-25T18:14:44.699Z"
   },
   {
    "duration": 15,
    "start_time": "2022-09-25T18:14:44.712Z"
   },
   {
    "duration": 15,
    "start_time": "2022-09-25T18:14:44.729Z"
   },
   {
    "duration": 5,
    "start_time": "2022-09-25T18:14:44.745Z"
   },
   {
    "duration": 7,
    "start_time": "2022-09-25T18:14:44.752Z"
   },
   {
    "duration": 10,
    "start_time": "2022-09-25T18:14:44.760Z"
   },
   {
    "duration": 12,
    "start_time": "2022-09-25T18:14:44.772Z"
   },
   {
    "duration": 15,
    "start_time": "2022-09-25T18:14:44.809Z"
   },
   {
    "duration": 19,
    "start_time": "2022-09-25T18:14:44.825Z"
   },
   {
    "duration": 15,
    "start_time": "2022-09-25T18:15:20.704Z"
   },
   {
    "duration": 14,
    "start_time": "2022-09-25T18:15:45.208Z"
   },
   {
    "duration": 15,
    "start_time": "2022-09-25T18:16:06.105Z"
   },
   {
    "duration": 23,
    "start_time": "2022-09-25T18:16:35.358Z"
   },
   {
    "duration": 2,
    "start_time": "2022-09-25T18:16:35.383Z"
   },
   {
    "duration": 67,
    "start_time": "2022-09-25T18:16:35.387Z"
   },
   {
    "duration": 13,
    "start_time": "2022-09-25T18:16:35.456Z"
   },
   {
    "duration": 12,
    "start_time": "2022-09-25T18:16:35.471Z"
   },
   {
    "duration": 28,
    "start_time": "2022-09-25T18:16:35.485Z"
   },
   {
    "duration": 15,
    "start_time": "2022-09-25T18:16:35.515Z"
   },
   {
    "duration": 15,
    "start_time": "2022-09-25T18:16:35.531Z"
   },
   {
    "duration": 4,
    "start_time": "2022-09-25T18:16:35.548Z"
   },
   {
    "duration": 6,
    "start_time": "2022-09-25T18:16:35.554Z"
   },
   {
    "duration": 5,
    "start_time": "2022-09-25T18:16:35.562Z"
   },
   {
    "duration": 41,
    "start_time": "2022-09-25T18:16:35.568Z"
   },
   {
    "duration": 12,
    "start_time": "2022-09-25T18:16:35.610Z"
   },
   {
    "duration": 14,
    "start_time": "2022-09-25T18:16:35.624Z"
   },
   {
    "duration": 14,
    "start_time": "2022-09-25T18:16:35.640Z"
   },
   {
    "duration": 21,
    "start_time": "2022-09-25T18:16:35.655Z"
   },
   {
    "duration": 5,
    "start_time": "2022-09-25T18:16:35.678Z"
   },
   {
    "duration": 179,
    "start_time": "2022-09-25T18:16:35.685Z"
   },
   {
    "duration": 2,
    "start_time": "2022-09-25T18:16:35.865Z"
   },
   {
    "duration": 17,
    "start_time": "2022-09-25T18:16:35.869Z"
   },
   {
    "duration": 23,
    "start_time": "2022-09-25T18:16:35.888Z"
   },
   {
    "duration": 10,
    "start_time": "2022-09-25T18:16:35.913Z"
   },
   {
    "duration": 14,
    "start_time": "2022-09-25T18:20:19.568Z"
   },
   {
    "duration": 8,
    "start_time": "2022-09-25T18:20:33.693Z"
   },
   {
    "duration": 4,
    "start_time": "2022-09-25T18:20:51.088Z"
   },
   {
    "duration": 4,
    "start_time": "2022-09-25T18:20:55.180Z"
   },
   {
    "duration": 9,
    "start_time": "2022-09-25T18:22:35.438Z"
   },
   {
    "duration": 8,
    "start_time": "2022-09-25T18:23:28.992Z"
   },
   {
    "duration": 26,
    "start_time": "2022-09-25T18:23:32.721Z"
   },
   {
    "duration": 18,
    "start_time": "2022-09-25T18:23:32.749Z"
   },
   {
    "duration": 85,
    "start_time": "2022-09-25T18:23:32.768Z"
   },
   {
    "duration": 20,
    "start_time": "2022-09-25T18:23:32.855Z"
   },
   {
    "duration": 34,
    "start_time": "2022-09-25T18:23:32.877Z"
   },
   {
    "duration": 39,
    "start_time": "2022-09-25T18:23:32.913Z"
   },
   {
    "duration": 36,
    "start_time": "2022-09-25T18:23:32.954Z"
   },
   {
    "duration": 15,
    "start_time": "2022-09-25T18:23:32.992Z"
   },
   {
    "duration": 18,
    "start_time": "2022-09-25T18:23:33.009Z"
   },
   {
    "duration": 16,
    "start_time": "2022-09-25T18:23:33.030Z"
   },
   {
    "duration": 26,
    "start_time": "2022-09-25T18:23:33.048Z"
   },
   {
    "duration": 29,
    "start_time": "2022-09-25T18:23:33.076Z"
   },
   {
    "duration": 29,
    "start_time": "2022-09-25T18:23:33.106Z"
   },
   {
    "duration": 22,
    "start_time": "2022-09-25T18:23:33.136Z"
   },
   {
    "duration": 23,
    "start_time": "2022-09-25T18:23:33.159Z"
   },
   {
    "duration": 21,
    "start_time": "2022-09-25T18:23:33.184Z"
   },
   {
    "duration": 15,
    "start_time": "2022-09-25T18:23:33.206Z"
   },
   {
    "duration": 155,
    "start_time": "2022-09-25T18:23:33.223Z"
   },
   {
    "duration": 2,
    "start_time": "2022-09-25T18:23:33.380Z"
   },
   {
    "duration": 31,
    "start_time": "2022-09-25T18:23:33.384Z"
   },
   {
    "duration": 29,
    "start_time": "2022-09-25T18:23:33.417Z"
   },
   {
    "duration": 18,
    "start_time": "2022-09-25T18:23:33.447Z"
   },
   {
    "duration": 26,
    "start_time": "2022-09-25T18:24:08.524Z"
   },
   {
    "duration": 15,
    "start_time": "2022-09-25T18:26:36.012Z"
   },
   {
    "duration": 16,
    "start_time": "2022-09-25T18:27:23.583Z"
   },
   {
    "duration": 12,
    "start_time": "2022-09-25T18:28:47.418Z"
   },
   {
    "duration": 17,
    "start_time": "2022-09-25T18:28:53.730Z"
   },
   {
    "duration": 15,
    "start_time": "2022-09-25T18:29:12.349Z"
   },
   {
    "duration": 16,
    "start_time": "2022-09-25T18:36:23.273Z"
   },
   {
    "duration": 26,
    "start_time": "2022-09-25T18:36:28.526Z"
   },
   {
    "duration": 2,
    "start_time": "2022-09-25T18:36:28.554Z"
   },
   {
    "duration": 66,
    "start_time": "2022-09-25T18:36:28.558Z"
   },
   {
    "duration": 13,
    "start_time": "2022-09-25T18:36:28.626Z"
   },
   {
    "duration": 12,
    "start_time": "2022-09-25T18:36:28.640Z"
   },
   {
    "duration": 11,
    "start_time": "2022-09-25T18:36:28.654Z"
   },
   {
    "duration": 14,
    "start_time": "2022-09-25T18:36:28.667Z"
   },
   {
    "duration": 35,
    "start_time": "2022-09-25T18:36:28.682Z"
   },
   {
    "duration": 4,
    "start_time": "2022-09-25T18:36:28.719Z"
   },
   {
    "duration": 6,
    "start_time": "2022-09-25T18:36:28.725Z"
   },
   {
    "duration": 6,
    "start_time": "2022-09-25T18:36:28.733Z"
   },
   {
    "duration": 9,
    "start_time": "2022-09-25T18:36:28.740Z"
   },
   {
    "duration": 16,
    "start_time": "2022-09-25T18:36:28.750Z"
   },
   {
    "duration": 14,
    "start_time": "2022-09-25T18:36:28.767Z"
   },
   {
    "duration": 15,
    "start_time": "2022-09-25T18:36:28.809Z"
   },
   {
    "duration": 18,
    "start_time": "2022-09-25T18:36:28.826Z"
   },
   {
    "duration": 6,
    "start_time": "2022-09-25T18:36:28.846Z"
   },
   {
    "duration": 184,
    "start_time": "2022-09-25T18:36:28.854Z"
   },
   {
    "duration": 3,
    "start_time": "2022-09-25T18:36:29.040Z"
   },
   {
    "duration": 18,
    "start_time": "2022-09-25T18:36:29.044Z"
   },
   {
    "duration": 7,
    "start_time": "2022-09-25T18:36:29.064Z"
   },
   {
    "duration": 18,
    "start_time": "2022-09-25T18:36:29.072Z"
   },
   {
    "duration": 20,
    "start_time": "2022-09-25T18:36:56.895Z"
   },
   {
    "duration": 11,
    "start_time": "2022-09-25T18:39:10.637Z"
   },
   {
    "duration": 12,
    "start_time": "2022-09-25T18:39:24.618Z"
   },
   {
    "duration": 1591,
    "start_time": "2022-09-25T18:47:23.144Z"
   },
   {
    "duration": 1878,
    "start_time": "2022-09-25T18:48:31.903Z"
   },
   {
    "duration": 7,
    "start_time": "2022-09-25T18:49:28.463Z"
   },
   {
    "duration": 19,
    "start_time": "2022-09-25T18:49:31.679Z"
   },
   {
    "duration": 19,
    "start_time": "2022-09-25T18:50:15.511Z"
   },
   {
    "duration": 7,
    "start_time": "2022-09-25T18:52:28.564Z"
   },
   {
    "duration": 1205,
    "start_time": "2022-09-25T18:52:37.590Z"
   },
   {
    "duration": 70,
    "start_time": "2022-09-25T18:56:15.349Z"
   },
   {
    "duration": 1366,
    "start_time": "2022-09-25T18:56:22.468Z"
   },
   {
    "duration": 1330,
    "start_time": "2022-09-25T18:56:37.950Z"
   },
   {
    "duration": 14,
    "start_time": "2022-09-25T19:02:01.473Z"
   },
   {
    "duration": 8,
    "start_time": "2022-09-25T19:03:22.310Z"
   },
   {
    "duration": 1077,
    "start_time": "2022-09-25T19:03:30.733Z"
   },
   {
    "duration": 67,
    "start_time": "2022-09-26T04:46:35.588Z"
   },
   {
    "duration": 35,
    "start_time": "2022-09-26T04:46:44.449Z"
   },
   {
    "duration": 402,
    "start_time": "2022-09-26T04:46:44.486Z"
   },
   {
    "duration": 141,
    "start_time": "2022-09-26T04:46:44.890Z"
   },
   {
    "duration": 22,
    "start_time": "2022-09-26T04:46:45.032Z"
   },
   {
    "duration": 21,
    "start_time": "2022-09-26T04:46:45.057Z"
   },
   {
    "duration": 15,
    "start_time": "2022-09-26T04:46:45.080Z"
   },
   {
    "duration": 24,
    "start_time": "2022-09-26T04:46:45.097Z"
   },
   {
    "duration": 39,
    "start_time": "2022-09-26T04:46:45.123Z"
   },
   {
    "duration": 6,
    "start_time": "2022-09-26T04:46:45.164Z"
   },
   {
    "duration": 6,
    "start_time": "2022-09-26T04:46:45.171Z"
   },
   {
    "duration": 5,
    "start_time": "2022-09-26T04:46:45.179Z"
   },
   {
    "duration": 8,
    "start_time": "2022-09-26T04:46:45.186Z"
   },
   {
    "duration": 53,
    "start_time": "2022-09-26T04:46:45.195Z"
   },
   {
    "duration": 23,
    "start_time": "2022-09-26T04:46:45.252Z"
   },
   {
    "duration": 18,
    "start_time": "2022-09-26T04:46:45.278Z"
   },
   {
    "duration": 36,
    "start_time": "2022-09-26T04:46:45.299Z"
   },
   {
    "duration": 21,
    "start_time": "2022-09-26T04:46:45.336Z"
   },
   {
    "duration": 632,
    "start_time": "2022-09-26T04:46:45.359Z"
   },
   {
    "duration": 32,
    "start_time": "2022-09-26T04:46:45.993Z"
   },
   {
    "duration": 17,
    "start_time": "2022-09-26T04:46:46.038Z"
   },
   {
    "duration": 10,
    "start_time": "2022-09-26T04:46:46.057Z"
   },
   {
    "duration": 1334,
    "start_time": "2022-09-26T04:46:46.068Z"
   },
   {
    "duration": 35,
    "start_time": "2022-09-26T04:54:26.304Z"
   },
   {
    "duration": 6,
    "start_time": "2022-09-26T04:56:00.565Z"
   },
   {
    "duration": 31,
    "start_time": "2022-09-26T04:56:04.924Z"
   },
   {
    "duration": 8,
    "start_time": "2022-09-26T04:56:12.359Z"
   },
   {
    "duration": 1236,
    "start_time": "2022-09-26T04:56:22.148Z"
   },
   {
    "duration": 49,
    "start_time": "2022-09-26T04:56:38.228Z"
   },
   {
    "duration": 3,
    "start_time": "2022-09-26T04:56:38.280Z"
   },
   {
    "duration": 115,
    "start_time": "2022-09-26T04:56:38.285Z"
   },
   {
    "duration": 41,
    "start_time": "2022-09-26T04:56:38.402Z"
   },
   {
    "duration": 27,
    "start_time": "2022-09-26T04:56:38.445Z"
   },
   {
    "duration": 15,
    "start_time": "2022-09-26T04:56:38.474Z"
   },
   {
    "duration": 36,
    "start_time": "2022-09-26T04:56:38.491Z"
   },
   {
    "duration": 22,
    "start_time": "2022-09-26T04:56:38.531Z"
   },
   {
    "duration": 11,
    "start_time": "2022-09-26T04:56:38.554Z"
   },
   {
    "duration": 7,
    "start_time": "2022-09-26T04:56:38.567Z"
   },
   {
    "duration": 9,
    "start_time": "2022-09-26T04:56:38.575Z"
   },
   {
    "duration": 12,
    "start_time": "2022-09-26T04:56:38.586Z"
   },
   {
    "duration": 27,
    "start_time": "2022-09-26T04:56:38.600Z"
   },
   {
    "duration": 47,
    "start_time": "2022-09-26T04:56:38.629Z"
   },
   {
    "duration": 20,
    "start_time": "2022-09-26T04:56:38.678Z"
   },
   {
    "duration": 23,
    "start_time": "2022-09-26T04:56:38.700Z"
   },
   {
    "duration": 56,
    "start_time": "2022-09-26T04:56:38.724Z"
   },
   {
    "duration": 261,
    "start_time": "2022-09-26T04:56:38.782Z"
   },
   {
    "duration": 8,
    "start_time": "2022-09-26T04:56:39.052Z"
   },
   {
    "duration": 18,
    "start_time": "2022-09-26T04:56:39.061Z"
   },
   {
    "duration": 6,
    "start_time": "2022-09-26T04:56:39.081Z"
   },
   {
    "duration": 1644,
    "start_time": "2022-09-26T04:56:39.089Z"
   },
   {
    "duration": 346,
    "start_time": "2022-09-26T05:07:07.383Z"
   },
   {
    "duration": 18,
    "start_time": "2022-09-26T05:45:46.921Z"
   },
   {
    "duration": 22,
    "start_time": "2022-09-26T05:46:20.103Z"
   },
   {
    "duration": 16,
    "start_time": "2022-09-26T05:46:43.868Z"
   },
   {
    "duration": 20,
    "start_time": "2022-09-26T05:46:56.218Z"
   },
   {
    "duration": 17,
    "start_time": "2022-09-26T05:47:06.254Z"
   },
   {
    "duration": 9,
    "start_time": "2022-09-26T05:47:12.305Z"
   },
   {
    "duration": 42,
    "start_time": "2022-09-26T05:47:21.136Z"
   },
   {
    "duration": 2,
    "start_time": "2022-09-26T05:47:21.180Z"
   },
   {
    "duration": 77,
    "start_time": "2022-09-26T05:47:21.184Z"
   },
   {
    "duration": 13,
    "start_time": "2022-09-26T05:47:21.263Z"
   },
   {
    "duration": 22,
    "start_time": "2022-09-26T05:47:21.278Z"
   },
   {
    "duration": 25,
    "start_time": "2022-09-26T05:47:21.302Z"
   },
   {
    "duration": 14,
    "start_time": "2022-09-26T05:47:21.329Z"
   },
   {
    "duration": 15,
    "start_time": "2022-09-26T05:47:21.344Z"
   },
   {
    "duration": 4,
    "start_time": "2022-09-26T05:47:21.360Z"
   },
   {
    "duration": 6,
    "start_time": "2022-09-26T05:47:21.367Z"
   },
   {
    "duration": 10,
    "start_time": "2022-09-26T05:47:21.374Z"
   },
   {
    "duration": 34,
    "start_time": "2022-09-26T05:47:21.385Z"
   },
   {
    "duration": 14,
    "start_time": "2022-09-26T05:47:21.420Z"
   },
   {
    "duration": 14,
    "start_time": "2022-09-26T05:47:21.436Z"
   },
   {
    "duration": 13,
    "start_time": "2022-09-26T05:47:21.452Z"
   },
   {
    "duration": 15,
    "start_time": "2022-09-26T05:47:21.467Z"
   },
   {
    "duration": 37,
    "start_time": "2022-09-26T05:47:21.483Z"
   },
   {
    "duration": 175,
    "start_time": "2022-09-26T05:47:21.521Z"
   },
   {
    "duration": 25,
    "start_time": "2022-09-26T05:47:21.698Z"
   },
   {
    "duration": 9,
    "start_time": "2022-09-26T05:47:21.725Z"
   },
   {
    "duration": 1480,
    "start_time": "2022-09-26T05:47:21.735Z"
   },
   {
    "duration": 313,
    "start_time": "2022-09-26T05:47:23.217Z"
   },
   {
    "duration": 17,
    "start_time": "2022-09-26T05:47:23.532Z"
   },
   {
    "duration": 1289,
    "start_time": "2022-09-26T05:49:23.683Z"
   },
   {
    "duration": 1550,
    "start_time": "2022-09-26T06:07:26.800Z"
   },
   {
    "duration": 10,
    "start_time": "2022-09-26T06:07:46.198Z"
   },
   {
    "duration": 104,
    "start_time": "2022-09-26T06:09:04.176Z"
   },
   {
    "duration": 15,
    "start_time": "2022-09-26T06:10:42.125Z"
   },
   {
    "duration": 127,
    "start_time": "2022-09-26T06:10:49.290Z"
   },
   {
    "duration": 107,
    "start_time": "2022-09-26T06:12:02.648Z"
   },
   {
    "duration": 27,
    "start_time": "2022-09-26T06:12:11.672Z"
   },
   {
    "duration": 5,
    "start_time": "2022-09-26T06:12:11.702Z"
   },
   {
    "duration": 107,
    "start_time": "2022-09-26T06:12:11.708Z"
   },
   {
    "duration": 15,
    "start_time": "2022-09-26T06:12:11.817Z"
   },
   {
    "duration": 13,
    "start_time": "2022-09-26T06:12:11.834Z"
   },
   {
    "duration": 16,
    "start_time": "2022-09-26T06:12:11.849Z"
   },
   {
    "duration": 48,
    "start_time": "2022-09-26T06:12:11.867Z"
   },
   {
    "duration": 15,
    "start_time": "2022-09-26T06:12:11.917Z"
   },
   {
    "duration": 4,
    "start_time": "2022-09-26T06:12:11.934Z"
   },
   {
    "duration": 7,
    "start_time": "2022-09-26T06:12:11.941Z"
   },
   {
    "duration": 8,
    "start_time": "2022-09-26T06:12:11.949Z"
   },
   {
    "duration": 137,
    "start_time": "2022-09-26T06:12:11.958Z"
   },
   {
    "duration": 18,
    "start_time": "2022-09-26T06:12:12.097Z"
   },
   {
    "duration": 16,
    "start_time": "2022-09-26T06:12:12.117Z"
   },
   {
    "duration": 15,
    "start_time": "2022-09-26T06:12:12.135Z"
   },
   {
    "duration": 26,
    "start_time": "2022-09-26T06:12:12.152Z"
   },
   {
    "duration": 8,
    "start_time": "2022-09-26T06:12:12.210Z"
   },
   {
    "duration": 174,
    "start_time": "2022-09-26T06:12:12.220Z"
   },
   {
    "duration": 26,
    "start_time": "2022-09-26T06:12:12.395Z"
   },
   {
    "duration": 9,
    "start_time": "2022-09-26T06:12:12.423Z"
   },
   {
    "duration": 1428,
    "start_time": "2022-09-26T06:12:12.434Z"
   },
   {
    "duration": 325,
    "start_time": "2022-09-26T06:12:13.863Z"
   },
   {
    "duration": 24,
    "start_time": "2022-09-26T06:12:14.190Z"
   },
   {
    "duration": 51,
    "start_time": "2022-09-26T06:12:14.216Z"
   },
   {
    "duration": 0,
    "start_time": "2022-09-26T06:12:14.269Z"
   },
   {
    "duration": 89,
    "start_time": "2022-09-26T06:12:23.312Z"
   },
   {
    "duration": 2,
    "start_time": "2022-09-26T06:12:23.404Z"
   },
   {
    "duration": 95,
    "start_time": "2022-09-26T06:12:23.408Z"
   },
   {
    "duration": 14,
    "start_time": "2022-09-26T06:12:23.505Z"
   },
   {
    "duration": 17,
    "start_time": "2022-09-26T06:12:23.520Z"
   },
   {
    "duration": 16,
    "start_time": "2022-09-26T06:12:23.539Z"
   },
   {
    "duration": 25,
    "start_time": "2022-09-26T06:12:23.557Z"
   },
   {
    "duration": 38,
    "start_time": "2022-09-26T06:12:23.584Z"
   },
   {
    "duration": 5,
    "start_time": "2022-09-26T06:12:23.626Z"
   },
   {
    "duration": 14,
    "start_time": "2022-09-26T06:12:23.635Z"
   },
   {
    "duration": 11,
    "start_time": "2022-09-26T06:12:23.651Z"
   },
   {
    "duration": 7,
    "start_time": "2022-09-26T06:12:23.664Z"
   },
   {
    "duration": 41,
    "start_time": "2022-09-26T06:12:23.672Z"
   },
   {
    "duration": 25,
    "start_time": "2022-09-26T06:12:23.715Z"
   },
   {
    "duration": 16,
    "start_time": "2022-09-26T06:12:23.742Z"
   },
   {
    "duration": 30,
    "start_time": "2022-09-26T06:12:23.760Z"
   },
   {
    "duration": 10,
    "start_time": "2022-09-26T06:12:23.810Z"
   },
   {
    "duration": 190,
    "start_time": "2022-09-26T06:12:23.822Z"
   },
   {
    "duration": 23,
    "start_time": "2022-09-26T06:12:24.014Z"
   },
   {
    "duration": 10,
    "start_time": "2022-09-26T06:12:24.040Z"
   },
   {
    "duration": 1673,
    "start_time": "2022-09-26T06:12:24.052Z"
   },
   {
    "duration": 319,
    "start_time": "2022-09-26T06:12:25.727Z"
   },
   {
    "duration": 19,
    "start_time": "2022-09-26T06:12:26.048Z"
   },
   {
    "duration": 95,
    "start_time": "2022-09-26T06:12:26.069Z"
   },
   {
    "duration": 0,
    "start_time": "2022-09-26T06:12:26.166Z"
   },
   {
    "duration": 1300,
    "start_time": "2022-09-26T06:12:38.983Z"
   },
   {
    "duration": 99,
    "start_time": "2022-09-26T06:12:44.789Z"
   },
   {
    "duration": 8,
    "start_time": "2022-09-26T06:13:11.021Z"
   },
   {
    "duration": 769,
    "start_time": "2022-09-26T06:13:32.480Z"
   },
   {
    "duration": 10,
    "start_time": "2022-09-26T06:13:44.710Z"
   },
   {
    "duration": 1413,
    "start_time": "2022-09-26T06:13:59.973Z"
   },
   {
    "duration": 1166,
    "start_time": "2022-09-26T06:14:07.168Z"
   },
   {
    "duration": 11,
    "start_time": "2022-09-26T06:14:11.711Z"
   },
   {
    "duration": 11,
    "start_time": "2022-09-26T06:14:16.314Z"
   },
   {
    "duration": 9,
    "start_time": "2022-09-26T06:15:28.732Z"
   },
   {
    "duration": 8,
    "start_time": "2022-09-26T06:15:57.676Z"
   },
   {
    "duration": 10,
    "start_time": "2022-09-26T06:16:26.074Z"
   },
   {
    "duration": 11,
    "start_time": "2022-09-26T06:16:44.221Z"
   },
   {
    "duration": 104,
    "start_time": "2022-09-26T06:17:22.233Z"
   },
   {
    "duration": 106,
    "start_time": "2022-09-26T06:17:31.557Z"
   },
   {
    "duration": 60,
    "start_time": "2022-09-26T06:18:24.921Z"
   },
   {
    "duration": 131,
    "start_time": "2022-09-26T06:18:31.205Z"
   },
   {
    "duration": 1211,
    "start_time": "2022-09-26T06:21:10.176Z"
   },
   {
    "duration": 102,
    "start_time": "2022-09-26T06:24:48.833Z"
   },
   {
    "duration": 220,
    "start_time": "2022-09-26T06:25:11.608Z"
   },
   {
    "duration": 104,
    "start_time": "2022-09-26T06:25:23.349Z"
   },
   {
    "duration": 159,
    "start_time": "2022-09-26T06:26:05.244Z"
   },
   {
    "duration": 166,
    "start_time": "2022-09-26T06:28:33.765Z"
   },
   {
    "duration": 177,
    "start_time": "2022-09-26T06:31:03.591Z"
   },
   {
    "duration": 203,
    "start_time": "2022-09-26T06:31:16.360Z"
   },
   {
    "duration": 161,
    "start_time": "2022-09-26T06:32:54.267Z"
   },
   {
    "duration": 204,
    "start_time": "2022-09-26T06:33:08.426Z"
   },
   {
    "duration": 49,
    "start_time": "2022-09-27T04:31:14.271Z"
   },
   {
    "duration": 385,
    "start_time": "2022-09-27T04:31:14.322Z"
   },
   {
    "duration": 190,
    "start_time": "2022-09-27T04:31:14.708Z"
   },
   {
    "duration": 12,
    "start_time": "2022-09-27T04:31:14.899Z"
   },
   {
    "duration": 14,
    "start_time": "2022-09-27T04:31:14.912Z"
   },
   {
    "duration": 12,
    "start_time": "2022-09-27T04:31:14.927Z"
   },
   {
    "duration": 16,
    "start_time": "2022-09-27T04:31:14.940Z"
   },
   {
    "duration": 15,
    "start_time": "2022-09-27T04:31:14.957Z"
   },
   {
    "duration": 5,
    "start_time": "2022-09-27T04:31:14.973Z"
   },
   {
    "duration": 7,
    "start_time": "2022-09-27T04:31:14.980Z"
   },
   {
    "duration": 9,
    "start_time": "2022-09-27T04:31:14.988Z"
   },
   {
    "duration": 28,
    "start_time": "2022-09-27T04:31:14.998Z"
   },
   {
    "duration": 18,
    "start_time": "2022-09-27T04:31:15.028Z"
   },
   {
    "duration": 13,
    "start_time": "2022-09-27T04:31:15.048Z"
   },
   {
    "duration": 14,
    "start_time": "2022-09-27T04:31:15.062Z"
   },
   {
    "duration": 16,
    "start_time": "2022-09-27T04:31:15.077Z"
   },
   {
    "duration": 30,
    "start_time": "2022-09-27T04:31:15.094Z"
   },
   {
    "duration": 524,
    "start_time": "2022-09-27T04:31:15.126Z"
   },
   {
    "duration": 16,
    "start_time": "2022-09-27T04:31:15.652Z"
   },
   {
    "duration": 6,
    "start_time": "2022-09-27T04:31:15.670Z"
   },
   {
    "duration": 1404,
    "start_time": "2022-09-27T04:31:15.677Z"
   },
   {
    "duration": 291,
    "start_time": "2022-09-27T04:31:17.082Z"
   },
   {
    "duration": 16,
    "start_time": "2022-09-27T04:31:17.375Z"
   },
   {
    "duration": 700,
    "start_time": "2022-09-27T04:31:17.392Z"
   },
   {
    "duration": 0,
    "start_time": "2022-09-27T04:31:18.093Z"
   },
   {
    "duration": 0,
    "start_time": "2022-09-27T04:31:18.095Z"
   },
   {
    "duration": 79,
    "start_time": "2022-09-27T04:32:09.778Z"
   },
   {
    "duration": 2,
    "start_time": "2022-09-27T04:32:09.860Z"
   },
   {
    "duration": 68,
    "start_time": "2022-09-27T04:32:09.864Z"
   },
   {
    "duration": 13,
    "start_time": "2022-09-27T04:32:09.935Z"
   },
   {
    "duration": 17,
    "start_time": "2022-09-27T04:32:09.950Z"
   },
   {
    "duration": 16,
    "start_time": "2022-09-27T04:32:09.968Z"
   },
   {
    "duration": 37,
    "start_time": "2022-09-27T04:32:09.985Z"
   },
   {
    "duration": 15,
    "start_time": "2022-09-27T04:32:10.023Z"
   },
   {
    "duration": 4,
    "start_time": "2022-09-27T04:32:10.039Z"
   },
   {
    "duration": 11,
    "start_time": "2022-09-27T04:32:10.045Z"
   },
   {
    "duration": 12,
    "start_time": "2022-09-27T04:32:10.057Z"
   },
   {
    "duration": 15,
    "start_time": "2022-09-27T04:32:10.070Z"
   },
   {
    "duration": 16,
    "start_time": "2022-09-27T04:32:10.087Z"
   },
   {
    "duration": 20,
    "start_time": "2022-09-27T04:32:10.105Z"
   },
   {
    "duration": 13,
    "start_time": "2022-09-27T04:32:10.127Z"
   },
   {
    "duration": 15,
    "start_time": "2022-09-27T04:32:10.141Z"
   },
   {
    "duration": 8,
    "start_time": "2022-09-27T04:32:10.157Z"
   },
   {
    "duration": 168,
    "start_time": "2022-09-27T04:32:10.166Z"
   },
   {
    "duration": 15,
    "start_time": "2022-09-27T04:32:10.335Z"
   },
   {
    "duration": 5,
    "start_time": "2022-09-27T04:32:10.351Z"
   },
   {
    "duration": 1414,
    "start_time": "2022-09-27T04:32:10.358Z"
   },
   {
    "duration": 290,
    "start_time": "2022-09-27T04:32:11.774Z"
   },
   {
    "duration": 16,
    "start_time": "2022-09-27T04:32:12.066Z"
   },
   {
    "duration": 600,
    "start_time": "2022-09-27T04:32:12.083Z"
   },
   {
    "duration": 0,
    "start_time": "2022-09-27T04:32:12.685Z"
   },
   {
    "duration": 0,
    "start_time": "2022-09-27T04:32:12.686Z"
   },
   {
    "duration": 1213,
    "start_time": "2022-09-27T04:37:13.910Z"
   },
   {
    "duration": 1151,
    "start_time": "2022-09-27T04:38:30.096Z"
   },
   {
    "duration": 1219,
    "start_time": "2022-09-27T04:42:01.677Z"
   },
   {
    "duration": 41,
    "start_time": "2022-09-27T04:43:20.608Z"
   },
   {
    "duration": 2,
    "start_time": "2022-09-27T04:43:20.651Z"
   },
   {
    "duration": 71,
    "start_time": "2022-09-27T04:43:20.655Z"
   },
   {
    "duration": 13,
    "start_time": "2022-09-27T04:43:20.728Z"
   },
   {
    "duration": 15,
    "start_time": "2022-09-27T04:43:20.743Z"
   },
   {
    "duration": 14,
    "start_time": "2022-09-27T04:43:20.760Z"
   },
   {
    "duration": 46,
    "start_time": "2022-09-27T04:43:20.776Z"
   },
   {
    "duration": 16,
    "start_time": "2022-09-27T04:43:20.824Z"
   },
   {
    "duration": 5,
    "start_time": "2022-09-27T04:43:20.841Z"
   },
   {
    "duration": 7,
    "start_time": "2022-09-27T04:43:20.848Z"
   },
   {
    "duration": 8,
    "start_time": "2022-09-27T04:43:20.856Z"
   },
   {
    "duration": 9,
    "start_time": "2022-09-27T04:43:20.866Z"
   },
   {
    "duration": 18,
    "start_time": "2022-09-27T04:43:20.877Z"
   },
   {
    "duration": 34,
    "start_time": "2022-09-27T04:43:20.897Z"
   },
   {
    "duration": 15,
    "start_time": "2022-09-27T04:43:20.932Z"
   },
   {
    "duration": 17,
    "start_time": "2022-09-27T04:43:20.948Z"
   },
   {
    "duration": 6,
    "start_time": "2022-09-27T04:43:20.967Z"
   },
   {
    "duration": 192,
    "start_time": "2022-09-27T04:43:20.974Z"
   },
   {
    "duration": 15,
    "start_time": "2022-09-27T04:43:21.168Z"
   },
   {
    "duration": 8,
    "start_time": "2022-09-27T04:43:21.185Z"
   },
   {
    "duration": 1317,
    "start_time": "2022-09-27T04:43:21.194Z"
   },
   {
    "duration": 381,
    "start_time": "2022-09-27T04:43:22.512Z"
   },
   {
    "duration": 16,
    "start_time": "2022-09-27T04:43:22.895Z"
   },
   {
    "duration": 585,
    "start_time": "2022-09-27T04:43:22.922Z"
   },
   {
    "duration": 0,
    "start_time": "2022-09-27T04:43:23.509Z"
   },
   {
    "duration": 0,
    "start_time": "2022-09-27T04:43:23.510Z"
   },
   {
    "duration": 39,
    "start_time": "2022-09-27T04:43:40.352Z"
   },
   {
    "duration": 3,
    "start_time": "2022-09-27T04:43:40.393Z"
   },
   {
    "duration": 62,
    "start_time": "2022-09-27T04:43:40.397Z"
   },
   {
    "duration": 11,
    "start_time": "2022-09-27T04:43:40.461Z"
   },
   {
    "duration": 11,
    "start_time": "2022-09-27T04:43:40.474Z"
   },
   {
    "duration": 13,
    "start_time": "2022-09-27T04:43:40.486Z"
   },
   {
    "duration": 36,
    "start_time": "2022-09-27T04:43:40.500Z"
   },
   {
    "duration": 13,
    "start_time": "2022-09-27T04:43:40.538Z"
   },
   {
    "duration": 4,
    "start_time": "2022-09-27T04:43:40.552Z"
   },
   {
    "duration": 7,
    "start_time": "2022-09-27T04:43:40.558Z"
   },
   {
    "duration": 7,
    "start_time": "2022-09-27T04:43:40.567Z"
   },
   {
    "duration": 12,
    "start_time": "2022-09-27T04:43:40.576Z"
   },
   {
    "duration": 37,
    "start_time": "2022-09-27T04:43:40.589Z"
   },
   {
    "duration": 15,
    "start_time": "2022-09-27T04:43:40.628Z"
   },
   {
    "duration": 15,
    "start_time": "2022-09-27T04:43:40.645Z"
   },
   {
    "duration": 19,
    "start_time": "2022-09-27T04:43:40.662Z"
   },
   {
    "duration": 39,
    "start_time": "2022-09-27T04:43:40.683Z"
   },
   {
    "duration": 157,
    "start_time": "2022-09-27T04:43:40.724Z"
   },
   {
    "duration": 15,
    "start_time": "2022-09-27T04:43:40.882Z"
   },
   {
    "duration": 7,
    "start_time": "2022-09-27T04:43:40.898Z"
   },
   {
    "duration": 1380,
    "start_time": "2022-09-27T04:43:40.921Z"
   },
   {
    "duration": 372,
    "start_time": "2022-09-27T04:43:42.302Z"
   },
   {
    "duration": 17,
    "start_time": "2022-09-27T04:43:42.675Z"
   },
   {
    "duration": 596,
    "start_time": "2022-09-27T04:43:42.693Z"
   },
   {
    "duration": 0,
    "start_time": "2022-09-27T04:43:43.290Z"
   },
   {
    "duration": 0,
    "start_time": "2022-09-27T04:43:43.291Z"
   },
   {
    "duration": 18,
    "start_time": "2022-09-27T04:47:49.692Z"
   },
   {
    "duration": 1203,
    "start_time": "2022-09-27T04:59:48.882Z"
   },
   {
    "duration": 176,
    "start_time": "2022-09-27T05:00:17.150Z"
   },
   {
    "duration": 44,
    "start_time": "2022-09-27T05:00:30.356Z"
   },
   {
    "duration": 3,
    "start_time": "2022-09-27T05:00:30.401Z"
   },
   {
    "duration": 71,
    "start_time": "2022-09-27T05:00:30.405Z"
   },
   {
    "duration": 14,
    "start_time": "2022-09-27T05:00:30.477Z"
   },
   {
    "duration": 35,
    "start_time": "2022-09-27T05:00:30.492Z"
   },
   {
    "duration": 27,
    "start_time": "2022-09-27T05:00:30.529Z"
   },
   {
    "duration": 36,
    "start_time": "2022-09-27T05:00:30.558Z"
   },
   {
    "duration": 32,
    "start_time": "2022-09-27T05:00:30.595Z"
   },
   {
    "duration": 10,
    "start_time": "2022-09-27T05:00:30.629Z"
   },
   {
    "duration": 13,
    "start_time": "2022-09-27T05:00:30.641Z"
   },
   {
    "duration": 41,
    "start_time": "2022-09-27T05:00:30.656Z"
   },
   {
    "duration": 97,
    "start_time": "2022-09-27T05:00:30.699Z"
   },
   {
    "duration": 17,
    "start_time": "2022-09-27T05:00:30.798Z"
   },
   {
    "duration": 19,
    "start_time": "2022-09-27T05:00:30.817Z"
   },
   {
    "duration": 15,
    "start_time": "2022-09-27T05:00:30.837Z"
   },
   {
    "duration": 15,
    "start_time": "2022-09-27T05:00:30.854Z"
   },
   {
    "duration": 5,
    "start_time": "2022-09-27T05:00:30.871Z"
   },
   {
    "duration": 185,
    "start_time": "2022-09-27T05:00:30.877Z"
   },
   {
    "duration": 17,
    "start_time": "2022-09-27T05:00:31.064Z"
   },
   {
    "duration": 11,
    "start_time": "2022-09-27T05:00:31.083Z"
   },
   {
    "duration": 1319,
    "start_time": "2022-09-27T05:00:31.095Z"
   },
   {
    "duration": 286,
    "start_time": "2022-09-27T05:00:32.421Z"
   },
   {
    "duration": 21,
    "start_time": "2022-09-27T05:00:32.708Z"
   },
   {
    "duration": 1198,
    "start_time": "2022-09-27T05:00:32.730Z"
   },
   {
    "duration": 189,
    "start_time": "2022-09-27T05:00:33.929Z"
   },
   {
    "duration": 7,
    "start_time": "2022-09-27T05:00:34.121Z"
   },
   {
    "duration": 7,
    "start_time": "2022-09-27T05:01:51.225Z"
   },
   {
    "duration": 36,
    "start_time": "2022-09-27T05:02:00.778Z"
   },
   {
    "duration": 2,
    "start_time": "2022-09-27T05:02:00.816Z"
   },
   {
    "duration": 61,
    "start_time": "2022-09-27T05:02:00.867Z"
   },
   {
    "duration": 12,
    "start_time": "2022-09-27T05:02:00.930Z"
   },
   {
    "duration": 29,
    "start_time": "2022-09-27T05:02:00.944Z"
   },
   {
    "duration": 19,
    "start_time": "2022-09-27T05:02:00.974Z"
   },
   {
    "duration": 27,
    "start_time": "2022-09-27T05:02:00.994Z"
   },
   {
    "duration": 15,
    "start_time": "2022-09-27T05:02:01.023Z"
   },
   {
    "duration": 9,
    "start_time": "2022-09-27T05:02:01.039Z"
   },
   {
    "duration": 29,
    "start_time": "2022-09-27T05:02:01.050Z"
   },
   {
    "duration": 42,
    "start_time": "2022-09-27T05:02:01.080Z"
   },
   {
    "duration": 54,
    "start_time": "2022-09-27T05:02:01.124Z"
   },
   {
    "duration": 26,
    "start_time": "2022-09-27T05:02:01.180Z"
   },
   {
    "duration": 21,
    "start_time": "2022-09-27T05:02:01.207Z"
   },
   {
    "duration": 14,
    "start_time": "2022-09-27T05:02:01.229Z"
   },
   {
    "duration": 16,
    "start_time": "2022-09-27T05:02:01.245Z"
   },
   {
    "duration": 5,
    "start_time": "2022-09-27T05:02:01.263Z"
   },
   {
    "duration": 195,
    "start_time": "2022-09-27T05:02:01.270Z"
   },
   {
    "duration": 61,
    "start_time": "2022-09-27T05:02:01.467Z"
   },
   {
    "duration": 6,
    "start_time": "2022-09-27T05:02:01.530Z"
   },
   {
    "duration": 1373,
    "start_time": "2022-09-27T05:02:01.538Z"
   },
   {
    "duration": 407,
    "start_time": "2022-09-27T05:02:02.912Z"
   },
   {
    "duration": 16,
    "start_time": "2022-09-27T05:02:03.322Z"
   },
   {
    "duration": 1131,
    "start_time": "2022-09-27T05:02:03.340Z"
   },
   {
    "duration": 187,
    "start_time": "2022-09-27T05:02:04.473Z"
   },
   {
    "duration": 5,
    "start_time": "2022-09-27T05:02:04.661Z"
   },
   {
    "duration": 6,
    "start_time": "2022-09-27T05:02:15.259Z"
   },
   {
    "duration": 40,
    "start_time": "2022-09-27T05:14:55.058Z"
   },
   {
    "duration": 3,
    "start_time": "2022-09-27T05:14:55.100Z"
   },
   {
    "duration": 82,
    "start_time": "2022-09-27T05:14:55.105Z"
   },
   {
    "duration": 12,
    "start_time": "2022-09-27T05:14:55.190Z"
   },
   {
    "duration": 30,
    "start_time": "2022-09-27T05:14:55.204Z"
   },
   {
    "duration": 29,
    "start_time": "2022-09-27T05:14:55.236Z"
   },
   {
    "duration": 17,
    "start_time": "2022-09-27T05:14:55.267Z"
   },
   {
    "duration": 13,
    "start_time": "2022-09-27T05:14:55.286Z"
   },
   {
    "duration": 22,
    "start_time": "2022-09-27T05:14:55.301Z"
   },
   {
    "duration": 13,
    "start_time": "2022-09-27T05:14:55.326Z"
   },
   {
    "duration": 53,
    "start_time": "2022-09-27T05:14:55.340Z"
   },
   {
    "duration": 77,
    "start_time": "2022-09-27T05:14:55.395Z"
   },
   {
    "duration": 41,
    "start_time": "2022-09-27T05:14:55.474Z"
   },
   {
    "duration": 29,
    "start_time": "2022-09-27T05:14:55.517Z"
   },
   {
    "duration": 26,
    "start_time": "2022-09-27T05:14:55.548Z"
   },
   {
    "duration": 19,
    "start_time": "2022-09-27T05:14:55.576Z"
   },
   {
    "duration": 11,
    "start_time": "2022-09-27T05:14:55.597Z"
   },
   {
    "duration": 178,
    "start_time": "2022-09-27T05:14:55.610Z"
   },
   {
    "duration": 16,
    "start_time": "2022-09-27T05:14:55.790Z"
   },
   {
    "duration": 14,
    "start_time": "2022-09-27T05:14:55.808Z"
   },
   {
    "duration": 1531,
    "start_time": "2022-09-27T05:14:55.824Z"
   },
   {
    "duration": 314,
    "start_time": "2022-09-27T05:14:57.357Z"
   },
   {
    "duration": 18,
    "start_time": "2022-09-27T05:14:57.672Z"
   },
   {
    "duration": 1193,
    "start_time": "2022-09-27T05:14:57.691Z"
   },
   {
    "duration": 300,
    "start_time": "2022-09-27T05:14:58.886Z"
   },
   {
    "duration": 13,
    "start_time": "2022-09-27T05:16:27.977Z"
   },
   {
    "duration": 3,
    "start_time": "2022-09-27T05:34:18.319Z"
   },
   {
    "duration": 11,
    "start_time": "2022-09-27T05:38:11.834Z"
   },
   {
    "duration": 190,
    "start_time": "2022-09-27T05:38:25.978Z"
   },
   {
    "duration": 108,
    "start_time": "2022-09-27T05:39:09.015Z"
   },
   {
    "duration": 139,
    "start_time": "2022-09-27T05:39:18.501Z"
   },
   {
    "duration": 147,
    "start_time": "2022-09-27T05:39:30.172Z"
   },
   {
    "duration": 168,
    "start_time": "2022-09-27T05:40:00.979Z"
   },
   {
    "duration": 146,
    "start_time": "2022-09-27T05:40:22.340Z"
   },
   {
    "duration": 152,
    "start_time": "2022-09-27T05:41:09.750Z"
   },
   {
    "duration": 136,
    "start_time": "2022-09-27T05:41:15.563Z"
   },
   {
    "duration": 133,
    "start_time": "2022-09-27T05:42:59.204Z"
   },
   {
    "duration": 139,
    "start_time": "2022-09-27T05:43:20.611Z"
   },
   {
    "duration": 5,
    "start_time": "2022-09-27T05:47:27.574Z"
   },
   {
    "duration": 7,
    "start_time": "2022-09-27T05:48:31.069Z"
   },
   {
    "duration": 37,
    "start_time": "2022-09-27T05:48:56.755Z"
   },
   {
    "duration": 2,
    "start_time": "2022-09-27T05:48:56.794Z"
   },
   {
    "duration": 68,
    "start_time": "2022-09-27T05:48:56.798Z"
   },
   {
    "duration": 14,
    "start_time": "2022-09-27T05:48:56.868Z"
   },
   {
    "duration": 14,
    "start_time": "2022-09-27T05:48:56.883Z"
   },
   {
    "duration": 26,
    "start_time": "2022-09-27T05:48:56.898Z"
   },
   {
    "duration": 21,
    "start_time": "2022-09-27T05:48:56.925Z"
   },
   {
    "duration": 14,
    "start_time": "2022-09-27T05:48:56.947Z"
   },
   {
    "duration": 5,
    "start_time": "2022-09-27T05:48:56.963Z"
   },
   {
    "duration": 13,
    "start_time": "2022-09-27T05:48:56.970Z"
   },
   {
    "duration": 7,
    "start_time": "2022-09-27T05:48:56.985Z"
   },
   {
    "duration": 10,
    "start_time": "2022-09-27T05:48:56.993Z"
   },
   {
    "duration": 31,
    "start_time": "2022-09-27T05:48:57.004Z"
   },
   {
    "duration": 18,
    "start_time": "2022-09-27T05:48:57.037Z"
   },
   {
    "duration": 15,
    "start_time": "2022-09-27T05:48:57.057Z"
   },
   {
    "duration": 20,
    "start_time": "2022-09-27T05:48:57.074Z"
   },
   {
    "duration": 7,
    "start_time": "2022-09-27T05:48:57.096Z"
   },
   {
    "duration": 169,
    "start_time": "2022-09-27T05:48:57.122Z"
   },
   {
    "duration": 15,
    "start_time": "2022-09-27T05:48:57.293Z"
   },
   {
    "duration": 13,
    "start_time": "2022-09-27T05:48:57.310Z"
   },
   {
    "duration": 1502,
    "start_time": "2022-09-27T05:48:57.325Z"
   },
   {
    "duration": 310,
    "start_time": "2022-09-27T05:48:58.829Z"
   },
   {
    "duration": 17,
    "start_time": "2022-09-27T05:48:59.141Z"
   },
   {
    "duration": 1397,
    "start_time": "2022-09-27T05:48:59.159Z"
   },
   {
    "duration": 210,
    "start_time": "2022-09-27T05:49:00.557Z"
   },
   {
    "duration": 12,
    "start_time": "2022-09-27T05:49:00.768Z"
   },
   {
    "duration": 164,
    "start_time": "2022-09-27T05:49:00.782Z"
   },
   {
    "duration": 164,
    "start_time": "2022-09-27T05:49:00.949Z"
   },
   {
    "duration": 14,
    "start_time": "2022-09-27T05:49:01.114Z"
   },
   {
    "duration": 7,
    "start_time": "2022-09-27T05:52:05.530Z"
   },
   {
    "duration": 6,
    "start_time": "2022-09-27T05:52:36.971Z"
   },
   {
    "duration": 40,
    "start_time": "2022-09-27T05:52:40.941Z"
   },
   {
    "duration": 4,
    "start_time": "2022-09-27T05:52:40.983Z"
   },
   {
    "duration": 75,
    "start_time": "2022-09-27T05:52:40.988Z"
   },
   {
    "duration": 14,
    "start_time": "2022-09-27T05:52:41.066Z"
   },
   {
    "duration": 18,
    "start_time": "2022-09-27T05:52:41.081Z"
   },
   {
    "duration": 27,
    "start_time": "2022-09-27T05:52:41.101Z"
   },
   {
    "duration": 19,
    "start_time": "2022-09-27T05:52:41.130Z"
   },
   {
    "duration": 18,
    "start_time": "2022-09-27T05:52:41.151Z"
   },
   {
    "duration": 5,
    "start_time": "2022-09-27T05:52:41.171Z"
   },
   {
    "duration": 7,
    "start_time": "2022-09-27T05:52:41.179Z"
   },
   {
    "duration": 35,
    "start_time": "2022-09-27T05:52:41.188Z"
   },
   {
    "duration": 7,
    "start_time": "2022-09-27T05:52:41.224Z"
   },
   {
    "duration": 17,
    "start_time": "2022-09-27T05:52:41.232Z"
   },
   {
    "duration": 15,
    "start_time": "2022-09-27T05:52:41.250Z"
   },
   {
    "duration": 15,
    "start_time": "2022-09-27T05:52:41.266Z"
   },
   {
    "duration": 45,
    "start_time": "2022-09-27T05:52:41.283Z"
   },
   {
    "duration": 7,
    "start_time": "2022-09-27T05:52:41.330Z"
   },
   {
    "duration": 197,
    "start_time": "2022-09-27T05:52:41.338Z"
   },
   {
    "duration": 17,
    "start_time": "2022-09-27T05:52:41.537Z"
   },
   {
    "duration": 9,
    "start_time": "2022-09-27T05:52:41.556Z"
   },
   {
    "duration": 1556,
    "start_time": "2022-09-27T05:52:41.567Z"
   },
   {
    "duration": 322,
    "start_time": "2022-09-27T05:52:43.124Z"
   },
   {
    "duration": 19,
    "start_time": "2022-09-27T05:52:43.447Z"
   },
   {
    "duration": 1224,
    "start_time": "2022-09-27T05:52:43.467Z"
   },
   {
    "duration": 192,
    "start_time": "2022-09-27T05:52:44.693Z"
   },
   {
    "duration": 12,
    "start_time": "2022-09-27T05:52:44.886Z"
   },
   {
    "duration": 147,
    "start_time": "2022-09-27T05:52:44.900Z"
   },
   {
    "duration": 158,
    "start_time": "2022-09-27T05:52:45.050Z"
   },
   {
    "duration": 17,
    "start_time": "2022-09-27T05:52:45.210Z"
   },
   {
    "duration": 5,
    "start_time": "2022-09-27T05:54:50.115Z"
   },
   {
    "duration": 6,
    "start_time": "2022-09-27T05:55:01.738Z"
   },
   {
    "duration": 57,
    "start_time": "2022-09-27T07:17:09.562Z"
   },
   {
    "duration": 53,
    "start_time": "2022-09-27T07:17:14.656Z"
   },
   {
    "duration": 1002,
    "start_time": "2022-09-27T07:17:14.710Z"
   },
   {
    "duration": 115,
    "start_time": "2022-09-27T07:17:15.714Z"
   },
   {
    "duration": 14,
    "start_time": "2022-09-27T07:17:15.830Z"
   },
   {
    "duration": 12,
    "start_time": "2022-09-27T07:17:15.846Z"
   },
   {
    "duration": 12,
    "start_time": "2022-09-27T07:17:15.860Z"
   },
   {
    "duration": 36,
    "start_time": "2022-09-27T07:17:15.873Z"
   },
   {
    "duration": 16,
    "start_time": "2022-09-27T07:17:15.911Z"
   },
   {
    "duration": 5,
    "start_time": "2022-09-27T07:17:15.929Z"
   },
   {
    "duration": 17,
    "start_time": "2022-09-27T07:17:15.936Z"
   },
   {
    "duration": 23,
    "start_time": "2022-09-27T07:17:15.955Z"
   },
   {
    "duration": 16,
    "start_time": "2022-09-27T07:17:15.979Z"
   },
   {
    "duration": 18,
    "start_time": "2022-09-27T07:17:15.997Z"
   },
   {
    "duration": 15,
    "start_time": "2022-09-27T07:17:16.017Z"
   },
   {
    "duration": 16,
    "start_time": "2022-09-27T07:17:16.033Z"
   },
   {
    "duration": 25,
    "start_time": "2022-09-27T07:17:16.051Z"
   },
   {
    "duration": 41,
    "start_time": "2022-09-27T07:17:16.078Z"
   },
   {
    "duration": 205,
    "start_time": "2022-09-27T07:17:16.121Z"
   },
   {
    "duration": 17,
    "start_time": "2022-09-27T07:17:16.328Z"
   },
   {
    "duration": 18,
    "start_time": "2022-09-27T07:17:16.347Z"
   },
   {
    "duration": 1768,
    "start_time": "2022-09-27T07:17:16.367Z"
   },
   {
    "duration": 364,
    "start_time": "2022-09-27T07:17:18.137Z"
   },
   {
    "duration": 28,
    "start_time": "2022-09-27T07:17:18.503Z"
   },
   {
    "duration": 1340,
    "start_time": "2022-09-27T07:17:18.533Z"
   },
   {
    "duration": 208,
    "start_time": "2022-09-27T07:17:19.875Z"
   },
   {
    "duration": 24,
    "start_time": "2022-09-27T07:17:20.085Z"
   },
   {
    "duration": 230,
    "start_time": "2022-09-27T07:17:20.111Z"
   },
   {
    "duration": 167,
    "start_time": "2022-09-27T07:17:20.342Z"
   },
   {
    "duration": 6,
    "start_time": "2022-09-27T07:17:20.511Z"
   },
   {
    "duration": 154,
    "start_time": "2022-09-27T07:17:20.519Z"
   },
   {
    "duration": 187,
    "start_time": "2022-09-27T07:17:44.780Z"
   },
   {
    "duration": 216,
    "start_time": "2022-09-27T07:19:18.406Z"
   },
   {
    "duration": 5,
    "start_time": "2022-09-27T07:19:47.769Z"
   },
   {
    "duration": 60,
    "start_time": "2022-09-27T07:28:55.736Z"
   },
   {
    "duration": 1316,
    "start_time": "2022-09-27T07:33:15.343Z"
   },
   {
    "duration": 28,
    "start_time": "2022-09-27T07:34:25.713Z"
   },
   {
    "duration": 27,
    "start_time": "2022-09-27T07:34:44.585Z"
   },
   {
    "duration": 46,
    "start_time": "2022-09-27T07:34:51.499Z"
   },
   {
    "duration": 3,
    "start_time": "2022-09-27T07:34:51.548Z"
   },
   {
    "duration": 83,
    "start_time": "2022-09-27T07:34:51.552Z"
   },
   {
    "duration": 13,
    "start_time": "2022-09-27T07:34:51.636Z"
   },
   {
    "duration": 25,
    "start_time": "2022-09-27T07:34:51.651Z"
   },
   {
    "duration": 32,
    "start_time": "2022-09-27T07:34:51.677Z"
   },
   {
    "duration": 33,
    "start_time": "2022-09-27T07:34:51.711Z"
   },
   {
    "duration": 27,
    "start_time": "2022-09-27T07:34:51.746Z"
   },
   {
    "duration": 18,
    "start_time": "2022-09-27T07:34:51.774Z"
   },
   {
    "duration": 22,
    "start_time": "2022-09-27T07:34:51.793Z"
   },
   {
    "duration": 30,
    "start_time": "2022-09-27T07:34:51.816Z"
   },
   {
    "duration": 42,
    "start_time": "2022-09-27T07:34:51.847Z"
   },
   {
    "duration": 48,
    "start_time": "2022-09-27T07:34:51.891Z"
   },
   {
    "duration": 44,
    "start_time": "2022-09-27T07:34:51.944Z"
   },
   {
    "duration": 23,
    "start_time": "2022-09-27T07:34:51.991Z"
   },
   {
    "duration": 17,
    "start_time": "2022-09-27T07:34:52.016Z"
   },
   {
    "duration": 24,
    "start_time": "2022-09-27T07:34:52.034Z"
   },
   {
    "duration": 166,
    "start_time": "2022-09-27T07:34:52.060Z"
   },
   {
    "duration": 15,
    "start_time": "2022-09-27T07:34:52.227Z"
   },
   {
    "duration": 34,
    "start_time": "2022-09-27T07:34:52.244Z"
   },
   {
    "duration": 1701,
    "start_time": "2022-09-27T07:34:52.280Z"
   },
   {
    "duration": 334,
    "start_time": "2022-09-27T07:34:53.982Z"
   },
   {
    "duration": 16,
    "start_time": "2022-09-27T07:34:54.318Z"
   },
   {
    "duration": 1238,
    "start_time": "2022-09-27T07:34:54.336Z"
   },
   {
    "duration": 216,
    "start_time": "2022-09-27T07:34:55.576Z"
   },
   {
    "duration": 15,
    "start_time": "2022-09-27T07:34:55.794Z"
   },
   {
    "duration": 159,
    "start_time": "2022-09-27T07:34:55.811Z"
   },
   {
    "duration": 244,
    "start_time": "2022-09-27T07:34:55.972Z"
   },
   {
    "duration": 5,
    "start_time": "2022-09-27T07:34:56.217Z"
   },
   {
    "duration": 158,
    "start_time": "2022-09-27T07:34:56.224Z"
   },
   {
    "duration": 141,
    "start_time": "2022-09-27T07:34:56.384Z"
   },
   {
    "duration": 5,
    "start_time": "2022-09-27T07:34:56.527Z"
   },
   {
    "duration": 43,
    "start_time": "2022-09-27T07:34:56.533Z"
   },
   {
    "duration": 1132,
    "start_time": "2022-09-27T07:35:22.737Z"
   },
   {
    "duration": 29,
    "start_time": "2022-09-27T07:35:57.218Z"
   },
   {
    "duration": 3,
    "start_time": "2022-09-27T07:35:57.249Z"
   },
   {
    "duration": 65,
    "start_time": "2022-09-27T07:35:57.253Z"
   },
   {
    "duration": 12,
    "start_time": "2022-09-27T07:35:57.320Z"
   },
   {
    "duration": 15,
    "start_time": "2022-09-27T07:35:57.334Z"
   },
   {
    "duration": 13,
    "start_time": "2022-09-27T07:35:57.350Z"
   },
   {
    "duration": 15,
    "start_time": "2022-09-27T07:35:57.364Z"
   },
   {
    "duration": 39,
    "start_time": "2022-09-27T07:35:57.380Z"
   },
   {
    "duration": 4,
    "start_time": "2022-09-27T07:35:57.421Z"
   },
   {
    "duration": 6,
    "start_time": "2022-09-27T07:35:57.427Z"
   },
   {
    "duration": 8,
    "start_time": "2022-09-27T07:35:57.434Z"
   },
   {
    "duration": 10,
    "start_time": "2022-09-27T07:35:57.443Z"
   },
   {
    "duration": 16,
    "start_time": "2022-09-27T07:35:57.454Z"
   },
   {
    "duration": 16,
    "start_time": "2022-09-27T07:35:57.471Z"
   },
   {
    "duration": 33,
    "start_time": "2022-09-27T07:35:57.489Z"
   },
   {
    "duration": 21,
    "start_time": "2022-09-27T07:35:57.524Z"
   },
   {
    "duration": 9,
    "start_time": "2022-09-27T07:35:57.547Z"
   },
   {
    "duration": 197,
    "start_time": "2022-09-27T07:35:57.558Z"
   },
   {
    "duration": 24,
    "start_time": "2022-09-27T07:35:57.757Z"
   },
   {
    "duration": 7,
    "start_time": "2022-09-27T07:35:57.783Z"
   },
   {
    "duration": 1520,
    "start_time": "2022-09-27T07:35:57.791Z"
   },
   {
    "duration": 415,
    "start_time": "2022-09-27T07:35:59.313Z"
   },
   {
    "duration": 20,
    "start_time": "2022-09-27T07:35:59.729Z"
   },
   {
    "duration": 1326,
    "start_time": "2022-09-27T07:35:59.750Z"
   },
   {
    "duration": 202,
    "start_time": "2022-09-27T07:36:01.077Z"
   },
   {
    "duration": 12,
    "start_time": "2022-09-27T07:36:01.281Z"
   },
   {
    "duration": 158,
    "start_time": "2022-09-27T07:36:01.308Z"
   },
   {
    "duration": 154,
    "start_time": "2022-09-27T07:36:01.469Z"
   },
   {
    "duration": 6,
    "start_time": "2022-09-27T07:36:01.625Z"
   },
   {
    "duration": 172,
    "start_time": "2022-09-27T07:36:01.632Z"
   },
   {
    "duration": 152,
    "start_time": "2022-09-27T07:36:01.808Z"
   },
   {
    "duration": 5,
    "start_time": "2022-09-27T07:36:01.962Z"
   },
   {
    "duration": 1411,
    "start_time": "2022-09-27T07:36:01.969Z"
   },
   {
    "duration": 864,
    "start_time": "2022-09-27T07:37:54.728Z"
   },
   {
    "duration": 5,
    "start_time": "2022-09-27T07:39:54.125Z"
   },
   {
    "duration": 4,
    "start_time": "2022-09-27T07:40:14.264Z"
   },
   {
    "duration": 18,
    "start_time": "2022-09-27T07:40:26.848Z"
   },
   {
    "duration": 10,
    "start_time": "2022-09-27T07:45:15.273Z"
   },
   {
    "duration": 9,
    "start_time": "2022-09-27T07:46:07.913Z"
   },
   {
    "duration": 47,
    "start_time": "2022-09-27T07:46:13.168Z"
   },
   {
    "duration": 3,
    "start_time": "2022-09-27T07:46:13.217Z"
   },
   {
    "duration": 115,
    "start_time": "2022-09-27T07:46:13.221Z"
   },
   {
    "duration": 17,
    "start_time": "2022-09-27T07:46:13.338Z"
   },
   {
    "duration": 27,
    "start_time": "2022-09-27T07:46:13.357Z"
   },
   {
    "duration": 107,
    "start_time": "2022-09-27T07:46:13.385Z"
   },
   {
    "duration": 36,
    "start_time": "2022-09-27T07:46:13.494Z"
   },
   {
    "duration": 39,
    "start_time": "2022-09-27T07:46:13.532Z"
   },
   {
    "duration": 16,
    "start_time": "2022-09-27T07:46:13.573Z"
   },
   {
    "duration": 33,
    "start_time": "2022-09-27T07:46:13.590Z"
   },
   {
    "duration": 17,
    "start_time": "2022-09-27T07:46:13.625Z"
   },
   {
    "duration": 23,
    "start_time": "2022-09-27T07:46:13.644Z"
   },
   {
    "duration": 22,
    "start_time": "2022-09-27T07:46:13.669Z"
   },
   {
    "duration": 30,
    "start_time": "2022-09-27T07:46:13.694Z"
   },
   {
    "duration": 31,
    "start_time": "2022-09-27T07:46:13.726Z"
   },
   {
    "duration": 32,
    "start_time": "2022-09-27T07:46:13.759Z"
   },
   {
    "duration": 18,
    "start_time": "2022-09-27T07:46:13.792Z"
   },
   {
    "duration": 189,
    "start_time": "2022-09-27T07:46:13.812Z"
   },
   {
    "duration": 17,
    "start_time": "2022-09-27T07:46:14.003Z"
   },
   {
    "duration": 14,
    "start_time": "2022-09-27T07:46:14.021Z"
   },
   {
    "duration": 1492,
    "start_time": "2022-09-27T07:46:14.037Z"
   },
   {
    "duration": 315,
    "start_time": "2022-09-27T07:46:15.531Z"
   },
   {
    "duration": 16,
    "start_time": "2022-09-27T07:46:15.848Z"
   },
   {
    "duration": 1345,
    "start_time": "2022-09-27T07:46:15.866Z"
   },
   {
    "duration": 204,
    "start_time": "2022-09-27T07:46:17.212Z"
   },
   {
    "duration": 11,
    "start_time": "2022-09-27T07:46:17.417Z"
   },
   {
    "duration": 151,
    "start_time": "2022-09-27T07:46:17.430Z"
   },
   {
    "duration": 158,
    "start_time": "2022-09-27T07:46:17.583Z"
   },
   {
    "duration": 4,
    "start_time": "2022-09-27T07:46:17.742Z"
   },
   {
    "duration": 149,
    "start_time": "2022-09-27T07:46:17.748Z"
   },
   {
    "duration": 144,
    "start_time": "2022-09-27T07:46:17.899Z"
   },
   {
    "duration": 5,
    "start_time": "2022-09-27T07:46:18.044Z"
   },
   {
    "duration": 12,
    "start_time": "2022-09-27T07:46:18.050Z"
   },
   {
    "duration": 13,
    "start_time": "2022-09-27T07:48:00.743Z"
   },
   {
    "duration": 47,
    "start_time": "2022-09-27T12:46:36.618Z"
   },
   {
    "duration": 5,
    "start_time": "2022-09-27T12:46:48.159Z"
   },
   {
    "duration": 45,
    "start_time": "2022-09-27T12:46:54.114Z"
   },
   {
    "duration": 810,
    "start_time": "2022-09-27T12:46:54.162Z"
   },
   {
    "duration": 206,
    "start_time": "2022-09-27T12:46:54.974Z"
   },
   {
    "duration": 18,
    "start_time": "2022-09-27T12:46:55.183Z"
   },
   {
    "duration": 16,
    "start_time": "2022-09-27T12:46:55.203Z"
   },
   {
    "duration": 16,
    "start_time": "2022-09-27T12:46:55.221Z"
   },
   {
    "duration": 20,
    "start_time": "2022-09-27T12:46:55.239Z"
   },
   {
    "duration": 44,
    "start_time": "2022-09-27T12:46:55.261Z"
   },
   {
    "duration": 4,
    "start_time": "2022-09-27T12:46:55.307Z"
   },
   {
    "duration": 6,
    "start_time": "2022-09-27T12:46:55.314Z"
   },
   {
    "duration": 7,
    "start_time": "2022-09-27T12:46:55.322Z"
   },
   {
    "duration": 12,
    "start_time": "2022-09-27T12:46:55.330Z"
   },
   {
    "duration": 45,
    "start_time": "2022-09-27T12:46:55.344Z"
   },
   {
    "duration": 18,
    "start_time": "2022-09-27T12:46:55.391Z"
   },
   {
    "duration": 16,
    "start_time": "2022-09-27T12:46:55.412Z"
   },
   {
    "duration": 20,
    "start_time": "2022-09-27T12:46:55.430Z"
   },
   {
    "duration": 7,
    "start_time": "2022-09-27T12:46:55.451Z"
   },
   {
    "duration": 203,
    "start_time": "2022-09-27T12:46:55.490Z"
   },
   {
    "duration": 18,
    "start_time": "2022-09-27T12:46:55.694Z"
   },
   {
    "duration": 7,
    "start_time": "2022-09-27T12:46:55.713Z"
   },
   {
    "duration": 1663,
    "start_time": "2022-09-27T12:46:55.721Z"
   },
   {
    "duration": 345,
    "start_time": "2022-09-27T12:46:57.388Z"
   },
   {
    "duration": 19,
    "start_time": "2022-09-27T12:46:57.735Z"
   },
   {
    "duration": 1385,
    "start_time": "2022-09-27T12:46:57.755Z"
   },
   {
    "duration": 301,
    "start_time": "2022-09-27T12:46:59.142Z"
   },
   {
    "duration": 11,
    "start_time": "2022-09-27T12:46:59.445Z"
   },
   {
    "duration": 163,
    "start_time": "2022-09-27T12:46:59.457Z"
   },
   {
    "duration": 166,
    "start_time": "2022-09-27T12:46:59.623Z"
   },
   {
    "duration": 5,
    "start_time": "2022-09-27T12:46:59.791Z"
   },
   {
    "duration": 161,
    "start_time": "2022-09-27T12:46:59.798Z"
   },
   {
    "duration": 168,
    "start_time": "2022-09-27T12:46:59.961Z"
   },
   {
    "duration": 5,
    "start_time": "2022-09-27T12:47:00.132Z"
   },
   {
    "duration": 17,
    "start_time": "2022-09-27T12:47:00.139Z"
   },
   {
    "duration": 42,
    "start_time": "2022-09-27T12:47:00.157Z"
   },
   {
    "duration": 10,
    "start_time": "2022-09-27T12:57:14.666Z"
   },
   {
    "duration": 8,
    "start_time": "2022-09-27T12:59:46.626Z"
   },
   {
    "duration": 8,
    "start_time": "2022-09-27T12:59:53.314Z"
   },
   {
    "duration": 9,
    "start_time": "2022-09-27T12:59:56.361Z"
   },
   {
    "duration": 41,
    "start_time": "2022-09-27T13:00:01.005Z"
   },
   {
    "duration": 2,
    "start_time": "2022-09-27T13:00:01.048Z"
   },
   {
    "duration": 91,
    "start_time": "2022-09-27T13:00:01.052Z"
   },
   {
    "duration": 13,
    "start_time": "2022-09-27T13:00:01.144Z"
   },
   {
    "duration": 47,
    "start_time": "2022-09-27T13:00:01.160Z"
   },
   {
    "duration": 34,
    "start_time": "2022-09-27T13:00:01.208Z"
   },
   {
    "duration": 61,
    "start_time": "2022-09-27T13:00:01.243Z"
   },
   {
    "duration": 51,
    "start_time": "2022-09-27T13:00:01.306Z"
   },
   {
    "duration": 16,
    "start_time": "2022-09-27T13:00:01.359Z"
   },
   {
    "duration": 51,
    "start_time": "2022-09-27T13:00:01.377Z"
   },
   {
    "duration": 37,
    "start_time": "2022-09-27T13:00:01.430Z"
   },
   {
    "duration": 112,
    "start_time": "2022-09-27T13:00:01.469Z"
   },
   {
    "duration": 35,
    "start_time": "2022-09-27T13:00:01.583Z"
   },
   {
    "duration": 49,
    "start_time": "2022-09-27T13:00:01.621Z"
   },
   {
    "duration": 28,
    "start_time": "2022-09-27T13:00:01.672Z"
   },
   {
    "duration": 20,
    "start_time": "2022-09-27T13:00:01.701Z"
   },
   {
    "duration": 19,
    "start_time": "2022-09-27T13:00:01.723Z"
   },
   {
    "duration": 244,
    "start_time": "2022-09-27T13:00:01.745Z"
   },
   {
    "duration": 22,
    "start_time": "2022-09-27T13:00:01.992Z"
   },
   {
    "duration": 19,
    "start_time": "2022-09-27T13:00:02.016Z"
   },
   {
    "duration": 1712,
    "start_time": "2022-09-27T13:00:02.037Z"
   },
   {
    "duration": 361,
    "start_time": "2022-09-27T13:00:03.750Z"
   },
   {
    "duration": 18,
    "start_time": "2022-09-27T13:00:04.113Z"
   },
   {
    "duration": 1425,
    "start_time": "2022-09-27T13:00:04.132Z"
   },
   {
    "duration": 226,
    "start_time": "2022-09-27T13:00:05.559Z"
   },
   {
    "duration": 13,
    "start_time": "2022-09-27T13:00:05.788Z"
   },
   {
    "duration": 173,
    "start_time": "2022-09-27T13:00:05.803Z"
   },
   {
    "duration": 184,
    "start_time": "2022-09-27T13:00:05.978Z"
   },
   {
    "duration": 5,
    "start_time": "2022-09-27T13:00:06.164Z"
   },
   {
    "duration": 312,
    "start_time": "2022-09-27T13:00:06.171Z"
   },
   {
    "duration": 181,
    "start_time": "2022-09-27T13:00:06.486Z"
   },
   {
    "duration": 6,
    "start_time": "2022-09-27T13:00:06.669Z"
   },
   {
    "duration": 21,
    "start_time": "2022-09-27T13:00:06.691Z"
   },
   {
    "duration": 10,
    "start_time": "2022-09-27T13:00:06.715Z"
   },
   {
    "duration": 8,
    "start_time": "2022-09-27T13:06:11.699Z"
   },
   {
    "duration": 7,
    "start_time": "2022-09-27T13:07:29.579Z"
   },
   {
    "duration": 13,
    "start_time": "2022-09-27T13:08:34.027Z"
   },
   {
    "duration": 45,
    "start_time": "2022-09-27T13:08:59.403Z"
   },
   {
    "duration": 15,
    "start_time": "2022-09-27T13:09:20.555Z"
   },
   {
    "duration": 18,
    "start_time": "2022-09-27T13:11:44.726Z"
   },
   {
    "duration": 17,
    "start_time": "2022-09-27T13:11:58.395Z"
   },
   {
    "duration": 16,
    "start_time": "2022-09-27T13:12:27.828Z"
   },
   {
    "duration": 18,
    "start_time": "2022-09-27T13:24:52.845Z"
   },
   {
    "duration": 19,
    "start_time": "2022-09-27T13:25:21.719Z"
   },
   {
    "duration": 20,
    "start_time": "2022-09-27T13:25:30.502Z"
   },
   {
    "duration": 40,
    "start_time": "2022-09-27T13:25:41.468Z"
   },
   {
    "duration": 3,
    "start_time": "2022-09-27T13:25:41.510Z"
   },
   {
    "duration": 75,
    "start_time": "2022-09-27T13:25:41.514Z"
   },
   {
    "duration": 15,
    "start_time": "2022-09-27T13:25:41.591Z"
   },
   {
    "duration": 23,
    "start_time": "2022-09-27T13:25:41.608Z"
   },
   {
    "duration": 24,
    "start_time": "2022-09-27T13:25:41.632Z"
   },
   {
    "duration": 26,
    "start_time": "2022-09-27T13:25:41.658Z"
   },
   {
    "duration": 20,
    "start_time": "2022-09-27T13:25:41.689Z"
   },
   {
    "duration": 9,
    "start_time": "2022-09-27T13:25:41.711Z"
   },
   {
    "duration": 11,
    "start_time": "2022-09-27T13:25:41.722Z"
   },
   {
    "duration": 44,
    "start_time": "2022-09-27T13:25:41.734Z"
   },
   {
    "duration": 26,
    "start_time": "2022-09-27T13:25:41.780Z"
   },
   {
    "duration": 26,
    "start_time": "2022-09-27T13:25:41.809Z"
   },
   {
    "duration": 24,
    "start_time": "2022-09-27T13:25:41.839Z"
   },
   {
    "duration": 20,
    "start_time": "2022-09-27T13:25:41.865Z"
   },
   {
    "duration": 26,
    "start_time": "2022-09-27T13:25:41.887Z"
   },
   {
    "duration": 8,
    "start_time": "2022-09-27T13:25:41.915Z"
   },
   {
    "duration": 226,
    "start_time": "2022-09-27T13:25:41.925Z"
   },
   {
    "duration": 15,
    "start_time": "2022-09-27T13:25:42.152Z"
   },
   {
    "duration": 24,
    "start_time": "2022-09-27T13:25:42.169Z"
   },
   {
    "duration": 1539,
    "start_time": "2022-09-27T13:25:42.194Z"
   },
   {
    "duration": 348,
    "start_time": "2022-09-27T13:25:43.735Z"
   },
   {
    "duration": 19,
    "start_time": "2022-09-27T13:25:44.085Z"
   },
   {
    "duration": 1417,
    "start_time": "2022-09-27T13:25:44.105Z"
   },
   {
    "duration": 211,
    "start_time": "2022-09-27T13:25:45.524Z"
   },
   {
    "duration": 12,
    "start_time": "2022-09-27T13:25:45.737Z"
   },
   {
    "duration": 156,
    "start_time": "2022-09-27T13:25:45.750Z"
   },
   {
    "duration": 183,
    "start_time": "2022-09-27T13:25:45.908Z"
   },
   {
    "duration": 5,
    "start_time": "2022-09-27T13:25:46.093Z"
   },
   {
    "duration": 178,
    "start_time": "2022-09-27T13:25:46.100Z"
   },
   {
    "duration": 166,
    "start_time": "2022-09-27T13:25:46.280Z"
   },
   {
    "duration": 5,
    "start_time": "2022-09-27T13:25:46.447Z"
   },
   {
    "duration": 32,
    "start_time": "2022-09-27T13:25:46.454Z"
   },
   {
    "duration": 24,
    "start_time": "2022-09-27T13:25:46.488Z"
   },
   {
    "duration": 45,
    "start_time": "2022-09-27T13:25:46.514Z"
   },
   {
    "duration": 30,
    "start_time": "2022-09-27T13:25:46.560Z"
   },
   {
    "duration": 4,
    "start_time": "2022-09-27T13:29:33.942Z"
   },
   {
    "duration": 5,
    "start_time": "2022-09-27T13:29:39.134Z"
   },
   {
    "duration": 15,
    "start_time": "2022-09-27T13:33:15.631Z"
   },
   {
    "duration": 14,
    "start_time": "2022-09-27T13:33:42.568Z"
   },
   {
    "duration": 14,
    "start_time": "2022-09-27T13:34:02.631Z"
   },
   {
    "duration": 21,
    "start_time": "2022-09-27T13:34:23.247Z"
   },
   {
    "duration": 14,
    "start_time": "2022-09-27T13:34:51.608Z"
   },
   {
    "duration": 15,
    "start_time": "2022-09-27T13:36:13.031Z"
   },
   {
    "duration": 14,
    "start_time": "2022-09-27T13:36:50.368Z"
   },
   {
    "duration": 16,
    "start_time": "2022-09-27T13:37:00.495Z"
   },
   {
    "duration": 16,
    "start_time": "2022-09-27T13:37:09.271Z"
   },
   {
    "duration": 15,
    "start_time": "2022-09-27T13:37:21.512Z"
   },
   {
    "duration": 15,
    "start_time": "2022-09-27T13:37:31.687Z"
   },
   {
    "duration": 11,
    "start_time": "2022-09-27T13:38:31.313Z"
   },
   {
    "duration": 22,
    "start_time": "2022-09-27T13:38:37.215Z"
   },
   {
    "duration": 17,
    "start_time": "2022-09-27T13:43:12.286Z"
   },
   {
    "duration": 16,
    "start_time": "2022-09-27T13:43:28.104Z"
   },
   {
    "duration": 17,
    "start_time": "2022-09-27T13:44:17.048Z"
   },
   {
    "duration": 16,
    "start_time": "2022-09-27T13:44:23.753Z"
   },
   {
    "duration": 20,
    "start_time": "2022-09-27T13:48:24.409Z"
   },
   {
    "duration": 18,
    "start_time": "2022-09-27T13:48:29.761Z"
   },
   {
    "duration": 17,
    "start_time": "2022-09-27T13:48:34.921Z"
   },
   {
    "duration": 17,
    "start_time": "2022-09-27T13:49:28.017Z"
   },
   {
    "duration": 16,
    "start_time": "2022-09-27T13:51:53.881Z"
   },
   {
    "duration": 15,
    "start_time": "2022-09-27T13:52:08.266Z"
   },
   {
    "duration": 16,
    "start_time": "2022-09-27T13:52:21.186Z"
   },
   {
    "duration": 19,
    "start_time": "2022-09-27T13:56:18.338Z"
   },
   {
    "duration": 15,
    "start_time": "2022-09-27T13:58:13.194Z"
   },
   {
    "duration": 18,
    "start_time": "2022-09-27T13:58:51.457Z"
   },
   {
    "duration": 13,
    "start_time": "2022-09-27T14:00:52.570Z"
   },
   {
    "duration": 312,
    "start_time": "2022-09-27T14:01:13.177Z"
   },
   {
    "duration": 17,
    "start_time": "2022-09-27T14:01:33.490Z"
   },
   {
    "duration": 17,
    "start_time": "2022-09-27T14:02:02.546Z"
   },
   {
    "duration": 21,
    "start_time": "2022-09-27T14:06:22.098Z"
   },
   {
    "duration": 15,
    "start_time": "2022-09-27T14:07:32.162Z"
   },
   {
    "duration": 1232,
    "start_time": "2022-09-27T14:11:31.090Z"
   },
   {
    "duration": 17,
    "start_time": "2022-09-27T14:11:48.249Z"
   },
   {
    "duration": 26,
    "start_time": "2022-09-27T14:23:02.355Z"
   },
   {
    "duration": 25,
    "start_time": "2022-09-27T14:32:21.565Z"
   },
   {
    "duration": 37,
    "start_time": "2022-09-27T14:33:11.588Z"
   },
   {
    "duration": 5,
    "start_time": "2022-09-27T14:33:32.373Z"
   },
   {
    "duration": 6,
    "start_time": "2022-09-27T14:39:46.734Z"
   },
   {
    "duration": 7,
    "start_time": "2022-09-27T14:40:19.301Z"
   },
   {
    "duration": 8,
    "start_time": "2022-09-27T14:40:41.142Z"
   },
   {
    "duration": 429,
    "start_time": "2022-09-27T14:41:37.181Z"
   },
   {
    "duration": 8,
    "start_time": "2022-09-27T14:44:37.470Z"
   },
   {
    "duration": 61,
    "start_time": "2022-09-27T14:44:54.306Z"
   },
   {
    "duration": 3,
    "start_time": "2022-09-27T14:44:54.369Z"
   },
   {
    "duration": 80,
    "start_time": "2022-09-27T14:44:54.373Z"
   },
   {
    "duration": 14,
    "start_time": "2022-09-27T14:44:54.455Z"
   },
   {
    "duration": 14,
    "start_time": "2022-09-27T14:44:54.471Z"
   },
   {
    "duration": 17,
    "start_time": "2022-09-27T14:44:54.487Z"
   },
   {
    "duration": 44,
    "start_time": "2022-09-27T14:44:54.505Z"
   },
   {
    "duration": 17,
    "start_time": "2022-09-27T14:44:54.552Z"
   },
   {
    "duration": 24,
    "start_time": "2022-09-27T14:44:54.571Z"
   },
   {
    "duration": 10,
    "start_time": "2022-09-27T14:44:54.598Z"
   },
   {
    "duration": 14,
    "start_time": "2022-09-27T14:44:54.610Z"
   },
   {
    "duration": 21,
    "start_time": "2022-09-27T14:44:54.626Z"
   },
   {
    "duration": 23,
    "start_time": "2022-09-27T14:44:54.649Z"
   },
   {
    "duration": 21,
    "start_time": "2022-09-27T14:44:54.674Z"
   },
   {
    "duration": 18,
    "start_time": "2022-09-27T14:44:54.697Z"
   },
   {
    "duration": 19,
    "start_time": "2022-09-27T14:44:54.716Z"
   },
   {
    "duration": 6,
    "start_time": "2022-09-27T14:44:54.737Z"
   },
   {
    "duration": 206,
    "start_time": "2022-09-27T14:44:54.745Z"
   },
   {
    "duration": 16,
    "start_time": "2022-09-27T14:44:54.952Z"
   },
   {
    "duration": 19,
    "start_time": "2022-09-27T14:44:54.970Z"
   },
   {
    "duration": 1749,
    "start_time": "2022-09-27T14:44:54.991Z"
   },
   {
    "duration": 339,
    "start_time": "2022-09-27T14:44:56.741Z"
   },
   {
    "duration": 24,
    "start_time": "2022-09-27T14:44:57.082Z"
   },
   {
    "duration": 1384,
    "start_time": "2022-09-27T14:44:57.108Z"
   },
   {
    "duration": 393,
    "start_time": "2022-09-27T14:44:58.494Z"
   },
   {
    "duration": 13,
    "start_time": "2022-09-27T14:44:58.888Z"
   },
   {
    "duration": 167,
    "start_time": "2022-09-27T14:44:58.902Z"
   },
   {
    "duration": 165,
    "start_time": "2022-09-27T14:44:59.072Z"
   },
   {
    "duration": 5,
    "start_time": "2022-09-27T14:44:59.238Z"
   },
   {
    "duration": 185,
    "start_time": "2022-09-27T14:44:59.245Z"
   },
   {
    "duration": 172,
    "start_time": "2022-09-27T14:44:59.433Z"
   },
   {
    "duration": 8,
    "start_time": "2022-09-27T14:44:59.606Z"
   },
   {
    "duration": 18,
    "start_time": "2022-09-27T14:44:59.616Z"
   },
   {
    "duration": 9,
    "start_time": "2022-09-27T14:44:59.635Z"
   },
   {
    "duration": 47,
    "start_time": "2022-09-27T14:44:59.646Z"
   },
   {
    "duration": 32,
    "start_time": "2022-09-27T14:44:59.695Z"
   },
   {
    "duration": 25,
    "start_time": "2022-09-27T14:44:59.729Z"
   },
   {
    "duration": 41,
    "start_time": "2022-09-27T14:44:59.756Z"
   },
   {
    "duration": 16,
    "start_time": "2022-09-27T14:44:59.798Z"
   },
   {
    "duration": 27,
    "start_time": "2022-09-27T14:44:59.815Z"
   },
   {
    "duration": 57,
    "start_time": "2022-09-27T14:44:59.844Z"
   },
   {
    "duration": 2,
    "start_time": "2022-09-27T14:44:59.903Z"
   },
   {
    "duration": 11,
    "start_time": "2022-09-27T14:44:59.907Z"
   },
   {
    "duration": 11,
    "start_time": "2022-09-27T14:45:40.174Z"
   },
   {
    "duration": 7,
    "start_time": "2022-09-27T14:46:20.039Z"
   },
   {
    "duration": 8,
    "start_time": "2022-09-27T14:46:28.567Z"
   },
   {
    "duration": 5,
    "start_time": "2022-09-27T14:47:56.142Z"
   },
   {
    "duration": 6,
    "start_time": "2022-09-27T14:48:05.670Z"
   },
   {
    "duration": 4,
    "start_time": "2022-09-27T14:48:14.534Z"
   },
   {
    "duration": 74,
    "start_time": "2022-09-27T15:01:13.416Z"
   },
   {
    "duration": 38,
    "start_time": "2022-09-27T15:04:13.145Z"
   },
   {
    "duration": 8,
    "start_time": "2022-09-27T15:04:22.857Z"
   },
   {
    "duration": 4,
    "start_time": "2022-09-27T15:06:11.562Z"
   },
   {
    "duration": 4,
    "start_time": "2022-09-27T15:06:20.497Z"
   },
   {
    "duration": 43,
    "start_time": "2022-09-27T15:37:50.062Z"
   },
   {
    "duration": 635,
    "start_time": "2022-09-27T15:37:50.107Z"
   },
   {
    "duration": 70,
    "start_time": "2022-09-27T15:37:50.743Z"
   },
   {
    "duration": 15,
    "start_time": "2022-09-27T15:37:50.815Z"
   },
   {
    "duration": 13,
    "start_time": "2022-09-27T15:37:50.832Z"
   },
   {
    "duration": 18,
    "start_time": "2022-09-27T15:37:50.847Z"
   },
   {
    "duration": 21,
    "start_time": "2022-09-27T15:37:50.866Z"
   },
   {
    "duration": 17,
    "start_time": "2022-09-27T15:37:50.909Z"
   },
   {
    "duration": 5,
    "start_time": "2022-09-27T15:37:50.928Z"
   },
   {
    "duration": 17,
    "start_time": "2022-09-27T15:37:50.935Z"
   },
   {
    "duration": 18,
    "start_time": "2022-09-27T15:37:50.953Z"
   },
   {
    "duration": 13,
    "start_time": "2022-09-27T15:37:50.973Z"
   },
   {
    "duration": 29,
    "start_time": "2022-09-27T15:37:50.988Z"
   },
   {
    "duration": 19,
    "start_time": "2022-09-27T15:37:51.021Z"
   },
   {
    "duration": 22,
    "start_time": "2022-09-27T15:37:51.042Z"
   },
   {
    "duration": 50,
    "start_time": "2022-09-27T15:37:51.066Z"
   },
   {
    "duration": 8,
    "start_time": "2022-09-27T15:37:51.117Z"
   },
   {
    "duration": 200,
    "start_time": "2022-09-27T15:37:51.127Z"
   },
   {
    "duration": 23,
    "start_time": "2022-09-27T15:37:51.330Z"
   },
   {
    "duration": 11,
    "start_time": "2022-09-27T15:37:51.356Z"
   },
   {
    "duration": 1548,
    "start_time": "2022-09-27T15:37:51.368Z"
   },
   {
    "duration": 345,
    "start_time": "2022-09-27T15:37:52.917Z"
   },
   {
    "duration": 22,
    "start_time": "2022-09-27T15:37:53.264Z"
   },
   {
    "duration": 1230,
    "start_time": "2022-09-27T15:37:53.287Z"
   },
   {
    "duration": 281,
    "start_time": "2022-09-27T15:37:54.519Z"
   },
   {
    "duration": 20,
    "start_time": "2022-09-27T15:37:54.801Z"
   },
   {
    "duration": 241,
    "start_time": "2022-09-27T15:37:54.823Z"
   },
   {
    "duration": 152,
    "start_time": "2022-09-27T15:37:55.066Z"
   },
   {
    "duration": 5,
    "start_time": "2022-09-27T15:37:55.220Z"
   },
   {
    "duration": 165,
    "start_time": "2022-09-27T15:37:55.226Z"
   },
   {
    "duration": 146,
    "start_time": "2022-09-27T15:37:55.393Z"
   },
   {
    "duration": 5,
    "start_time": "2022-09-27T15:37:55.540Z"
   },
   {
    "duration": 20,
    "start_time": "2022-09-27T15:37:55.546Z"
   },
   {
    "duration": 37,
    "start_time": "2022-09-27T15:37:55.567Z"
   },
   {
    "duration": 35,
    "start_time": "2022-09-27T15:37:55.606Z"
   },
   {
    "duration": 22,
    "start_time": "2022-09-27T15:37:55.642Z"
   },
   {
    "duration": 37,
    "start_time": "2022-09-27T15:37:55.666Z"
   },
   {
    "duration": 33,
    "start_time": "2022-09-27T15:37:55.704Z"
   },
   {
    "duration": 15,
    "start_time": "2022-09-27T15:37:55.738Z"
   },
   {
    "duration": 23,
    "start_time": "2022-09-27T15:37:55.755Z"
   },
   {
    "duration": 29,
    "start_time": "2022-09-27T15:37:55.782Z"
   },
   {
    "duration": 380,
    "start_time": "2022-09-27T15:37:55.813Z"
   },
   {
    "duration": 9,
    "start_time": "2022-09-27T15:37:56.196Z"
   },
   {
    "duration": 18,
    "start_time": "2022-09-27T15:37:56.209Z"
   },
   {
    "duration": 41,
    "start_time": "2022-09-27T17:15:20.266Z"
   },
   {
    "duration": 40,
    "start_time": "2022-09-27T17:15:30.554Z"
   },
   {
    "duration": 630,
    "start_time": "2022-09-27T17:15:30.596Z"
   },
   {
    "duration": 75,
    "start_time": "2022-09-27T17:15:31.228Z"
   },
   {
    "duration": 15,
    "start_time": "2022-09-27T17:15:31.305Z"
   },
   {
    "duration": 19,
    "start_time": "2022-09-27T17:15:31.322Z"
   },
   {
    "duration": 22,
    "start_time": "2022-09-27T17:15:31.342Z"
   },
   {
    "duration": 27,
    "start_time": "2022-09-27T17:15:31.366Z"
   },
   {
    "duration": 15,
    "start_time": "2022-09-27T17:15:31.394Z"
   },
   {
    "duration": 4,
    "start_time": "2022-09-27T17:15:31.411Z"
   },
   {
    "duration": 6,
    "start_time": "2022-09-27T17:15:31.417Z"
   },
   {
    "duration": 17,
    "start_time": "2022-09-27T17:15:31.425Z"
   },
   {
    "duration": 18,
    "start_time": "2022-09-27T17:15:31.444Z"
   },
   {
    "duration": 40,
    "start_time": "2022-09-27T17:15:31.463Z"
   },
   {
    "duration": 23,
    "start_time": "2022-09-27T17:15:31.506Z"
   },
   {
    "duration": 20,
    "start_time": "2022-09-27T17:15:31.531Z"
   },
   {
    "duration": 31,
    "start_time": "2022-09-27T17:15:31.552Z"
   },
   {
    "duration": 77,
    "start_time": "2022-09-27T17:15:31.585Z"
   },
   {
    "duration": 7,
    "start_time": "2022-09-27T17:15:31.663Z"
   },
   {
    "duration": 179,
    "start_time": "2022-09-27T17:15:31.671Z"
   },
   {
    "duration": 16,
    "start_time": "2022-09-27T17:15:31.852Z"
   },
   {
    "duration": 7,
    "start_time": "2022-09-27T17:15:31.869Z"
   },
   {
    "duration": 1406,
    "start_time": "2022-09-27T17:15:31.877Z"
   },
   {
    "duration": 298,
    "start_time": "2022-09-27T17:15:33.285Z"
   },
   {
    "duration": 26,
    "start_time": "2022-09-27T17:15:33.585Z"
   },
   {
    "duration": 1245,
    "start_time": "2022-09-27T17:15:33.613Z"
   },
   {
    "duration": 218,
    "start_time": "2022-09-27T17:15:34.859Z"
   },
   {
    "duration": 12,
    "start_time": "2022-09-27T17:15:35.079Z"
   },
   {
    "duration": 230,
    "start_time": "2022-09-27T17:15:35.092Z"
   },
   {
    "duration": 153,
    "start_time": "2022-09-27T17:15:35.323Z"
   },
   {
    "duration": 4,
    "start_time": "2022-09-27T17:15:35.478Z"
   },
   {
    "duration": 148,
    "start_time": "2022-09-27T17:15:35.483Z"
   },
   {
    "duration": 146,
    "start_time": "2022-09-27T17:15:35.633Z"
   },
   {
    "duration": 4,
    "start_time": "2022-09-27T17:15:35.781Z"
   },
   {
    "duration": 27,
    "start_time": "2022-09-27T17:15:35.786Z"
   },
   {
    "duration": 7,
    "start_time": "2022-09-27T17:15:35.814Z"
   },
   {
    "duration": 13,
    "start_time": "2022-09-27T17:15:35.822Z"
   },
   {
    "duration": 17,
    "start_time": "2022-09-27T17:15:35.837Z"
   },
   {
    "duration": 15,
    "start_time": "2022-09-27T17:15:35.855Z"
   },
   {
    "duration": 44,
    "start_time": "2022-09-27T17:15:35.872Z"
   },
   {
    "duration": 15,
    "start_time": "2022-09-27T17:15:35.917Z"
   },
   {
    "duration": 22,
    "start_time": "2022-09-27T17:15:35.935Z"
   },
   {
    "duration": 22,
    "start_time": "2022-09-27T17:15:35.958Z"
   },
   {
    "duration": 417,
    "start_time": "2022-09-27T17:15:35.982Z"
   },
   {
    "duration": 11,
    "start_time": "2022-09-27T17:15:36.400Z"
   },
   {
    "duration": 10,
    "start_time": "2022-09-27T17:15:36.412Z"
   },
   {
    "duration": 9,
    "start_time": "2022-09-27T17:26:43.945Z"
   },
   {
    "duration": 51,
    "start_time": "2022-09-28T04:12:12.260Z"
   },
   {
    "duration": 61,
    "start_time": "2022-09-28T04:12:17.623Z"
   },
   {
    "duration": 904,
    "start_time": "2022-09-28T04:12:17.686Z"
   },
   {
    "duration": 208,
    "start_time": "2022-09-28T04:12:18.592Z"
   },
   {
    "duration": 16,
    "start_time": "2022-09-28T04:12:18.802Z"
   },
   {
    "duration": 27,
    "start_time": "2022-09-28T04:12:18.820Z"
   },
   {
    "duration": 35,
    "start_time": "2022-09-28T04:14:04.816Z"
   },
   {
    "duration": 15,
    "start_time": "2022-09-28T04:14:27.105Z"
   },
   {
    "duration": 60,
    "start_time": "2022-09-28T04:19:45.052Z"
   },
   {
    "duration": 41,
    "start_time": "2022-09-28T04:20:19.531Z"
   },
   {
    "duration": 3,
    "start_time": "2022-09-28T04:20:19.575Z"
   },
   {
    "duration": 80,
    "start_time": "2022-09-28T04:20:19.579Z"
   },
   {
    "duration": 17,
    "start_time": "2022-09-28T04:20:19.661Z"
   },
   {
    "duration": 17,
    "start_time": "2022-09-28T04:20:19.680Z"
   },
   {
    "duration": 20,
    "start_time": "2022-09-28T04:20:19.698Z"
   },
   {
    "duration": 19,
    "start_time": "2022-09-28T04:20:19.720Z"
   },
   {
    "duration": 25,
    "start_time": "2022-09-28T04:20:19.740Z"
   },
   {
    "duration": 19,
    "start_time": "2022-09-28T04:20:19.790Z"
   },
   {
    "duration": 5,
    "start_time": "2022-09-28T04:20:19.813Z"
   },
   {
    "duration": 14,
    "start_time": "2022-09-28T04:20:19.820Z"
   },
   {
    "duration": 8,
    "start_time": "2022-09-28T04:20:19.836Z"
   },
   {
    "duration": 12,
    "start_time": "2022-09-28T04:20:19.846Z"
   },
   {
    "duration": 50,
    "start_time": "2022-09-28T04:20:19.860Z"
   },
   {
    "duration": 19,
    "start_time": "2022-09-28T04:20:19.912Z"
   },
   {
    "duration": 16,
    "start_time": "2022-09-28T04:20:19.933Z"
   },
   {
    "duration": 46,
    "start_time": "2022-09-28T04:20:19.951Z"
   },
   {
    "duration": 104,
    "start_time": "2022-09-28T04:20:19.999Z"
   },
   {
    "duration": 8,
    "start_time": "2022-09-28T04:20:20.105Z"
   },
   {
    "duration": 244,
    "start_time": "2022-09-28T04:20:20.115Z"
   },
   {
    "duration": 28,
    "start_time": "2022-09-28T04:20:20.361Z"
   },
   {
    "duration": 7,
    "start_time": "2022-09-28T04:20:20.393Z"
   },
   {
    "duration": 1811,
    "start_time": "2022-09-28T04:20:20.402Z"
   },
   {
    "duration": 370,
    "start_time": "2022-09-28T04:20:22.215Z"
   },
   {
    "duration": 17,
    "start_time": "2022-09-28T04:20:22.588Z"
   },
   {
    "duration": 1039,
    "start_time": "2022-09-28T04:20:22.607Z"
   },
   {
    "duration": 217,
    "start_time": "2022-09-28T04:20:23.648Z"
   },
   {
    "duration": 12,
    "start_time": "2022-09-28T04:20:23.867Z"
   },
   {
    "duration": 169,
    "start_time": "2022-09-28T04:20:23.890Z"
   },
   {
    "duration": 272,
    "start_time": "2022-09-28T04:20:24.061Z"
   },
   {
    "duration": 6,
    "start_time": "2022-09-28T04:20:24.334Z"
   },
   {
    "duration": 163,
    "start_time": "2022-09-28T04:20:24.341Z"
   },
   {
    "duration": 162,
    "start_time": "2022-09-28T04:20:24.505Z"
   },
   {
    "duration": 5,
    "start_time": "2022-09-28T04:20:24.669Z"
   },
   {
    "duration": 24,
    "start_time": "2022-09-28T04:20:24.676Z"
   },
   {
    "duration": 33,
    "start_time": "2022-09-28T04:20:24.701Z"
   },
   {
    "duration": 29,
    "start_time": "2022-09-28T04:20:24.736Z"
   },
   {
    "duration": 30,
    "start_time": "2022-09-28T04:20:24.767Z"
   },
   {
    "duration": 25,
    "start_time": "2022-09-28T04:20:24.799Z"
   },
   {
    "duration": 40,
    "start_time": "2022-09-28T04:20:24.826Z"
   },
   {
    "duration": 27,
    "start_time": "2022-09-28T04:20:24.868Z"
   },
   {
    "duration": 49,
    "start_time": "2022-09-28T04:20:24.898Z"
   },
   {
    "duration": 44,
    "start_time": "2022-09-28T04:20:24.950Z"
   },
   {
    "duration": 26,
    "start_time": "2022-09-28T04:20:24.996Z"
   },
   {
    "duration": 502,
    "start_time": "2022-09-28T04:20:25.023Z"
   },
   {
    "duration": 7,
    "start_time": "2022-09-28T04:20:25.527Z"
   },
   {
    "duration": 38,
    "start_time": "2022-09-28T04:20:25.536Z"
   },
   {
    "duration": 39,
    "start_time": "2022-09-28T04:22:12.361Z"
   },
   {
    "duration": 21,
    "start_time": "2022-09-28T04:22:50.061Z"
   },
   {
    "duration": 1040,
    "start_time": "2022-09-28T04:22:58.324Z"
   },
   {
    "duration": 32,
    "start_time": "2022-09-28T04:23:04.693Z"
   },
   {
    "duration": 53,
    "start_time": "2022-09-28T04:23:11.113Z"
   },
   {
    "duration": 2,
    "start_time": "2022-09-28T04:23:11.168Z"
   },
   {
    "duration": 72,
    "start_time": "2022-09-28T04:23:11.172Z"
   },
   {
    "duration": 14,
    "start_time": "2022-09-28T04:23:11.247Z"
   },
   {
    "duration": 16,
    "start_time": "2022-09-28T04:23:11.263Z"
   },
   {
    "duration": 19,
    "start_time": "2022-09-28T04:23:11.290Z"
   },
   {
    "duration": 17,
    "start_time": "2022-09-28T04:23:11.311Z"
   },
   {
    "duration": 23,
    "start_time": "2022-09-28T04:23:11.330Z"
   },
   {
    "duration": 47,
    "start_time": "2022-09-28T04:23:11.356Z"
   },
   {
    "duration": 5,
    "start_time": "2022-09-28T04:23:11.406Z"
   },
   {
    "duration": 8,
    "start_time": "2022-09-28T04:23:11.413Z"
   },
   {
    "duration": 8,
    "start_time": "2022-09-28T04:23:11.422Z"
   },
   {
    "duration": 7,
    "start_time": "2022-09-28T04:23:11.432Z"
   },
   {
    "duration": 52,
    "start_time": "2022-09-28T04:23:11.441Z"
   },
   {
    "duration": 19,
    "start_time": "2022-09-28T04:23:11.495Z"
   },
   {
    "duration": 18,
    "start_time": "2022-09-28T04:23:11.516Z"
   },
   {
    "duration": 25,
    "start_time": "2022-09-28T04:23:11.536Z"
   },
   {
    "duration": 146,
    "start_time": "2022-09-28T04:23:11.562Z"
   },
   {
    "duration": 8,
    "start_time": "2022-09-28T04:23:11.710Z"
   },
   {
    "duration": 265,
    "start_time": "2022-09-28T04:23:11.720Z"
   },
   {
    "duration": 20,
    "start_time": "2022-09-28T04:23:11.989Z"
   },
   {
    "duration": 7,
    "start_time": "2022-09-28T04:23:12.010Z"
   },
   {
    "duration": 1655,
    "start_time": "2022-09-28T04:23:12.019Z"
   },
   {
    "duration": 471,
    "start_time": "2022-09-28T04:23:13.678Z"
   },
   {
    "duration": 21,
    "start_time": "2022-09-28T04:23:14.151Z"
   },
   {
    "duration": 1226,
    "start_time": "2022-09-28T04:23:14.174Z"
   },
   {
    "duration": 10,
    "start_time": "2022-09-28T04:28:24.456Z"
   },
   {
    "duration": 10,
    "start_time": "2022-09-28T04:28:47.067Z"
   },
   {
    "duration": 158,
    "start_time": "2022-09-28T04:29:12.756Z"
   },
   {
    "duration": 266,
    "start_time": "2022-09-28T04:29:30.949Z"
   },
   {
    "duration": 230,
    "start_time": "2022-09-28T04:29:50.259Z"
   },
   {
    "duration": 217,
    "start_time": "2022-09-28T04:30:05.013Z"
   },
   {
    "duration": 120,
    "start_time": "2022-09-28T04:33:30.941Z"
   },
   {
    "duration": 118,
    "start_time": "2022-09-28T04:33:46.679Z"
   },
   {
    "duration": 80,
    "start_time": "2022-09-28T04:42:25.780Z"
   },
   {
    "duration": 230,
    "start_time": "2022-09-28T04:42:30.403Z"
   },
   {
    "duration": 277,
    "start_time": "2022-09-28T04:42:51.987Z"
   },
   {
    "duration": 147,
    "start_time": "2022-09-28T04:46:51.230Z"
   },
   {
    "duration": 74,
    "start_time": "2022-09-28T04:47:23.528Z"
   },
   {
    "duration": 154,
    "start_time": "2022-09-28T04:47:29.401Z"
   },
   {
    "duration": 207,
    "start_time": "2022-09-28T04:48:00.028Z"
   },
   {
    "duration": 16,
    "start_time": "2022-09-28T04:48:34.347Z"
   },
   {
    "duration": 16,
    "start_time": "2022-09-28T04:49:43.080Z"
   },
   {
    "duration": 9,
    "start_time": "2022-09-28T04:51:07.585Z"
   },
   {
    "duration": 373,
    "start_time": "2022-09-28T04:53:05.495Z"
   },
   {
    "duration": 261,
    "start_time": "2022-09-28T04:58:08.680Z"
   },
   {
    "duration": 12,
    "start_time": "2022-09-28T04:59:48.879Z"
   },
   {
    "duration": 6,
    "start_time": "2022-09-28T05:03:42.008Z"
   },
   {
    "duration": 188,
    "start_time": "2022-09-28T05:05:35.968Z"
   },
   {
    "duration": 547,
    "start_time": "2022-09-28T05:05:50.469Z"
   },
   {
    "duration": 559,
    "start_time": "2022-09-28T05:06:13.003Z"
   },
   {
    "duration": 736,
    "start_time": "2022-09-28T05:07:58.341Z"
   },
   {
    "duration": 21,
    "start_time": "2022-09-28T05:12:42.034Z"
   },
   {
    "duration": 269,
    "start_time": "2022-09-28T05:12:44.206Z"
   },
   {
    "duration": 255,
    "start_time": "2022-09-28T05:12:55.825Z"
   },
   {
    "duration": 288,
    "start_time": "2022-09-28T05:13:00.733Z"
   },
   {
    "duration": 1548,
    "start_time": "2022-09-28T05:17:42.032Z"
   },
   {
    "duration": 1520,
    "start_time": "2022-09-28T05:18:18.837Z"
   },
   {
    "duration": 76,
    "start_time": "2022-09-28T05:19:15.747Z"
   },
   {
    "duration": 1529,
    "start_time": "2022-09-28T05:19:20.419Z"
   },
   {
    "duration": 141,
    "start_time": "2022-09-28T05:20:03.317Z"
   },
   {
    "duration": 83,
    "start_time": "2022-09-28T05:20:18.075Z"
   },
   {
    "duration": 76,
    "start_time": "2022-09-28T05:20:44.625Z"
   },
   {
    "duration": 1545,
    "start_time": "2022-09-28T05:20:51.098Z"
   },
   {
    "duration": 430,
    "start_time": "2022-09-28T05:22:04.534Z"
   },
   {
    "duration": 307,
    "start_time": "2022-09-28T05:23:36.687Z"
   },
   {
    "duration": 5,
    "start_time": "2022-09-28T05:48:31.857Z"
   },
   {
    "duration": 22,
    "start_time": "2022-09-28T05:52:01.734Z"
   },
   {
    "duration": 4,
    "start_time": "2022-09-28T05:52:12.094Z"
   },
   {
    "duration": 55,
    "start_time": "2022-09-28T05:52:18.689Z"
   },
   {
    "duration": 4,
    "start_time": "2022-09-28T05:52:18.747Z"
   },
   {
    "duration": 74,
    "start_time": "2022-09-28T05:52:18.753Z"
   },
   {
    "duration": 15,
    "start_time": "2022-09-28T05:52:18.830Z"
   },
   {
    "duration": 18,
    "start_time": "2022-09-28T05:52:18.847Z"
   },
   {
    "duration": 30,
    "start_time": "2022-09-28T05:52:18.867Z"
   },
   {
    "duration": 21,
    "start_time": "2022-09-28T05:52:18.899Z"
   },
   {
    "duration": 33,
    "start_time": "2022-09-28T05:52:18.922Z"
   },
   {
    "duration": 46,
    "start_time": "2022-09-28T05:52:18.958Z"
   },
   {
    "duration": 7,
    "start_time": "2022-09-28T05:52:19.007Z"
   },
   {
    "duration": 11,
    "start_time": "2022-09-28T05:52:19.016Z"
   },
   {
    "duration": 11,
    "start_time": "2022-09-28T05:52:19.029Z"
   },
   {
    "duration": 11,
    "start_time": "2022-09-28T05:52:19.042Z"
   },
   {
    "duration": 52,
    "start_time": "2022-09-28T05:52:19.055Z"
   },
   {
    "duration": 28,
    "start_time": "2022-09-28T05:52:19.109Z"
   },
   {
    "duration": 56,
    "start_time": "2022-09-28T05:52:19.139Z"
   },
   {
    "duration": 31,
    "start_time": "2022-09-28T05:52:19.197Z"
   },
   {
    "duration": 128,
    "start_time": "2022-09-28T05:52:19.230Z"
   },
   {
    "duration": 32,
    "start_time": "2022-09-28T05:52:19.360Z"
   },
   {
    "duration": 215,
    "start_time": "2022-09-28T05:52:19.394Z"
   },
   {
    "duration": 18,
    "start_time": "2022-09-28T05:52:19.610Z"
   },
   {
    "duration": 10,
    "start_time": "2022-09-28T05:52:19.630Z"
   },
   {
    "duration": 1650,
    "start_time": "2022-09-28T05:52:19.642Z"
   },
   {
    "duration": 524,
    "start_time": "2022-09-28T05:52:21.294Z"
   },
   {
    "duration": 24,
    "start_time": "2022-09-28T05:52:21.823Z"
   },
   {
    "duration": 1300,
    "start_time": "2022-09-28T05:52:21.850Z"
   },
   {
    "duration": 282,
    "start_time": "2022-09-28T05:52:23.152Z"
   },
   {
    "duration": 284,
    "start_time": "2022-09-28T05:52:23.436Z"
   },
   {
    "duration": 12,
    "start_time": "2022-09-28T05:52:23.722Z"
   },
   {
    "duration": 177,
    "start_time": "2022-09-28T05:52:23.736Z"
   },
   {
    "duration": 181,
    "start_time": "2022-09-28T05:52:23.915Z"
   },
   {
    "duration": 5,
    "start_time": "2022-09-28T05:52:24.098Z"
   },
   {
    "duration": 177,
    "start_time": "2022-09-28T05:52:24.105Z"
   },
   {
    "duration": 180,
    "start_time": "2022-09-28T05:52:24.289Z"
   },
   {
    "duration": 18,
    "start_time": "2022-09-28T05:52:24.471Z"
   },
   {
    "duration": 5,
    "start_time": "2022-09-28T05:52:24.492Z"
   },
   {
    "duration": 1755,
    "start_time": "2022-09-28T05:52:24.498Z"
   },
   {
    "duration": 16,
    "start_time": "2022-09-28T05:52:26.256Z"
   },
   {
    "duration": 307,
    "start_time": "2022-09-28T05:52:26.274Z"
   },
   {
    "duration": 321,
    "start_time": "2022-09-28T05:52:26.583Z"
   },
   {
    "duration": 21,
    "start_time": "2022-09-28T05:52:26.905Z"
   },
   {
    "duration": 20,
    "start_time": "2022-09-28T05:52:26.928Z"
   },
   {
    "duration": 46,
    "start_time": "2022-09-28T05:52:26.950Z"
   },
   {
    "duration": 19,
    "start_time": "2022-09-28T05:52:26.998Z"
   },
   {
    "duration": 24,
    "start_time": "2022-09-28T05:52:27.019Z"
   },
   {
    "duration": 3,
    "start_time": "2022-09-28T05:52:27.045Z"
   },
   {
    "duration": 61,
    "start_time": "2022-09-28T05:52:27.050Z"
   },
   {
    "duration": 11,
    "start_time": "2022-09-28T05:54:57.145Z"
   },
   {
    "duration": 40,
    "start_time": "2022-09-29T01:41:13.935Z"
   },
   {
    "duration": 616,
    "start_time": "2022-09-29T01:41:13.977Z"
   },
   {
    "duration": 69,
    "start_time": "2022-09-29T01:41:14.594Z"
   },
   {
    "duration": 13,
    "start_time": "2022-09-29T01:41:14.665Z"
   },
   {
    "duration": 15,
    "start_time": "2022-09-29T01:41:14.680Z"
   },
   {
    "duration": 13,
    "start_time": "2022-09-29T01:41:14.696Z"
   },
   {
    "duration": 14,
    "start_time": "2022-09-29T01:41:14.710Z"
   },
   {
    "duration": 20,
    "start_time": "2022-09-29T01:41:14.725Z"
   },
   {
    "duration": 40,
    "start_time": "2022-09-29T01:41:14.746Z"
   },
   {
    "duration": 5,
    "start_time": "2022-09-29T01:41:14.788Z"
   },
   {
    "duration": 9,
    "start_time": "2022-09-29T01:41:14.794Z"
   },
   {
    "duration": 12,
    "start_time": "2022-09-29T01:41:14.804Z"
   },
   {
    "duration": 14,
    "start_time": "2022-09-29T01:41:14.818Z"
   },
   {
    "duration": 20,
    "start_time": "2022-09-29T01:41:14.834Z"
   },
   {
    "duration": 31,
    "start_time": "2022-09-29T01:41:14.856Z"
   },
   {
    "duration": 17,
    "start_time": "2022-09-29T01:41:14.889Z"
   },
   {
    "duration": 29,
    "start_time": "2022-09-29T01:41:14.908Z"
   },
   {
    "duration": 74,
    "start_time": "2022-09-29T01:41:14.938Z"
   },
   {
    "duration": 7,
    "start_time": "2022-09-29T01:41:15.013Z"
   },
   {
    "duration": 243,
    "start_time": "2022-09-29T01:41:15.022Z"
   },
   {
    "duration": 22,
    "start_time": "2022-09-29T01:41:15.267Z"
   },
   {
    "duration": 15,
    "start_time": "2022-09-29T01:41:15.290Z"
   },
   {
    "duration": 1482,
    "start_time": "2022-09-29T01:41:15.307Z"
   },
   {
    "duration": 350,
    "start_time": "2022-09-29T01:41:16.791Z"
   },
   {
    "duration": 16,
    "start_time": "2022-09-29T01:41:17.143Z"
   },
   {
    "duration": 1026,
    "start_time": "2022-09-29T01:41:17.161Z"
   },
   {
    "duration": 320,
    "start_time": "2022-09-29T01:41:18.189Z"
   },
   {
    "duration": 243,
    "start_time": "2022-09-29T01:41:18.511Z"
   },
   {
    "duration": 21,
    "start_time": "2022-09-29T01:41:18.756Z"
   },
   {
    "duration": 133,
    "start_time": "2022-09-29T01:41:18.779Z"
   },
   {
    "duration": 147,
    "start_time": "2022-09-29T01:41:18.913Z"
   },
   {
    "duration": 5,
    "start_time": "2022-09-29T01:41:19.062Z"
   },
   {
    "duration": 145,
    "start_time": "2022-09-29T01:41:19.076Z"
   },
   {
    "duration": 134,
    "start_time": "2022-09-29T01:41:19.223Z"
   },
   {
    "duration": 5,
    "start_time": "2022-09-29T01:41:19.359Z"
   },
   {
    "duration": 14,
    "start_time": "2022-09-29T01:41:19.365Z"
   },
   {
    "duration": 1347,
    "start_time": "2022-09-29T01:41:19.381Z"
   },
   {
    "duration": 12,
    "start_time": "2022-09-29T01:41:20.730Z"
   },
   {
    "duration": 248,
    "start_time": "2022-09-29T01:41:20.743Z"
   },
   {
    "duration": 246,
    "start_time": "2022-09-29T01:41:20.992Z"
   },
   {
    "duration": 19,
    "start_time": "2022-09-29T01:41:21.241Z"
   },
   {
    "duration": 16,
    "start_time": "2022-09-29T01:41:21.277Z"
   },
   {
    "duration": 17,
    "start_time": "2022-09-29T01:41:21.295Z"
   },
   {
    "duration": 14,
    "start_time": "2022-09-29T01:41:21.314Z"
   },
   {
    "duration": 24,
    "start_time": "2022-09-29T01:41:21.330Z"
   },
   {
    "duration": 3,
    "start_time": "2022-09-29T01:41:21.377Z"
   },
   {
    "duration": 23,
    "start_time": "2022-09-29T01:41:21.382Z"
   },
   {
    "duration": 7,
    "start_time": "2022-09-29T01:41:21.406Z"
   },
   {
    "duration": 453,
    "start_time": "2022-09-29T01:41:21.414Z"
   },
   {
    "duration": 9,
    "start_time": "2022-09-29T01:41:21.869Z"
   },
   {
    "duration": 18,
    "start_time": "2022-09-29T01:41:21.879Z"
   }
  ],
  "kernelspec": {
   "display_name": "Python 3 (ipykernel)",
   "language": "python",
   "name": "python3"
  },
  "language_info": {
   "codemirror_mode": {
    "name": "ipython",
    "version": 3
   },
   "file_extension": ".py",
   "mimetype": "text/x-python",
   "name": "python",
   "nbconvert_exporter": "python",
   "pygments_lexer": "ipython3",
   "version": "3.9.13"
  },
  "toc": {
   "base_numbering": 1,
   "nav_menu": {},
   "number_sections": true,
   "sideBar": true,
   "skip_h1_title": true,
   "title_cell": "Table of Contents",
   "title_sidebar": "Contents",
   "toc_cell": false,
   "toc_position": {},
   "toc_section_display": true,
   "toc_window_display": false
  }
 },
 "nbformat": 4,
 "nbformat_minor": 2
}
