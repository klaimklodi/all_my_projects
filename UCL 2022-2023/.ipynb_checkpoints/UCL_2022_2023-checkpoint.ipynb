{
 "cells": [
  {
   "cell_type": "markdown",
   "id": "63a24b90",
   "metadata": {},
   "source": [
    "##  Лига Чемпионов 2022-2023"
   ]
  },
  {
   "cell_type": "markdown",
   "id": "6af9d75e",
   "metadata": {},
   "source": [
    "### Задача проекта\n",
    "По предложенным датасетам, которые содержат статистику игроков Лиги Чемпионов, найти слабые места команд и выявить лучших игроков в рзных номинациях.<br>\n",
    "\n",
    "Лига Чемпионов - это ежегодный футбольный турнир, в котором встречаются лучшие команды со всего мира."
   ]
  },
  {
   "cell_type": "markdown",
   "id": "08d2ec95",
   "metadata": {},
   "source": [
    "### Этапы проекта"
   ]
  },
  {
   "cell_type": "markdown",
   "id": "0e4c8ee8",
   "metadata": {},
   "source": [
    "- [Голкиперы](#goalkeepers)\n",
    "- [Защитные действия](#defensive)\n",
    "- [Обостряющие действия](#shot)\n",
    "- [Вывод](#conclusion)\n",
    "\n",
    "Мы провели исследования каждого из вышеперечисленных наборов данных, включающие предобработку данных и исследовательский анализ."
   ]
  },
  {
   "cell_type": "markdown",
   "id": "b2808398",
   "metadata": {},
   "source": [
    "### Голкиперы\n",
    "<a id='goalkeepers'></a>"
   ]
  },
  {
   "cell_type": "markdown",
   "id": "cc3a2da5",
   "metadata": {},
   "source": [
    "**Импортируем нужные библиотеки**"
   ]
  },
  {
   "cell_type": "code",
   "execution_count": 66,
   "id": "12d3c590",
   "metadata": {},
   "outputs": [],
   "source": [
    "import pandas as pd\n",
    "import seaborn as sns\n",
    "import matplotlib.pyplot as plt\n",
    "import matplotlib as mpl"
   ]
  },
  {
   "cell_type": "markdown",
   "id": "a13efdc0",
   "metadata": {},
   "source": [
    "**Загрузим первый датасет, посвященный голкиперам**"
   ]
  },
  {
   "cell_type": "code",
   "execution_count": 2,
   "id": "4aec51ea",
   "metadata": {
    "scrolled": true
   },
   "outputs": [
    {
     "name": "stdout",
     "output_type": "stream",
     "text": [
      "<class 'pandas.core.frame.DataFrame'>\n",
      "RangeIndex: 50 entries, 0 to 49\n",
      "Data columns (total 32 columns):\n",
      " #   Column       Non-Null Count  Dtype \n",
      "---  ------       --------------  ----- \n",
      " 0   Player       50 non-null     object\n",
      " 1   Nationality  50 non-null     object\n",
      " 2   Position     50 non-null     object\n",
      " 3   Club         50 non-null     object\n",
      " 4   Age          50 non-null     object\n",
      " 5   Born         50 non-null     object\n",
      " 6   90s          50 non-null     object\n",
      " 7   GA           50 non-null     object\n",
      " 8   PKA          50 non-null     object\n",
      " 9   FK           50 non-null     object\n",
      " 10  CK           50 non-null     object\n",
      " 11  OG           50 non-null     object\n",
      " 12  PSxG         50 non-null     object\n",
      " 13  PSxG/SoT     50 non-null     object\n",
      " 14  PSxG+/-      50 non-null     object\n",
      " 15  /90          50 non-null     object\n",
      " 16  Cmp          50 non-null     object\n",
      " 17  Att          50 non-null     object\n",
      " 18  Cmp%         50 non-null     object\n",
      " 19  Att.1        50 non-null     object\n",
      " 20  Thr          50 non-null     object\n",
      " 21  Launch%      50 non-null     object\n",
      " 22  AvgLen       50 non-null     object\n",
      " 23  Att.2        50 non-null     object\n",
      " 24  Launch%.1    50 non-null     object\n",
      " 25  AvgLen.1     50 non-null     object\n",
      " 26  Opp          50 non-null     object\n",
      " 27  Stp          50 non-null     object\n",
      " 28  Stp%         50 non-null     object\n",
      " 29  #OPA         50 non-null     object\n",
      " 30  #OPA/90      50 non-null     object\n",
      " 31  AvgDist      49 non-null     object\n",
      "dtypes: object(32)\n",
      "memory usage: 12.6+ KB\n"
     ]
    }
   ],
   "source": [
    "advanced_goalkeeping = pd.read_csv('ucl advanced goalkeeping.csv')\n",
    "advanced_goalkeeping.info()"
   ]
  },
  {
   "cell_type": "markdown",
   "id": "08342738",
   "metadata": {},
   "source": [
    "В этом датасете проблема с типами данных: все *object*. Изменим их, но сначала посмотрим, какие голкиперы представлены в датасете"
   ]
  },
  {
   "cell_type": "code",
   "execution_count": 3,
   "id": "b3770ec1",
   "metadata": {},
   "outputs": [
    {
     "data": {
      "text/plain": [
       "array(['Antonio Adán', 'Alisson', 'Kepa Arrizabalaga', 'Janis Blaswich',\n",
       "       'Yassine Bounou', 'Josh Cohen', 'Diogo Costa', 'Thibaut Courtois',\n",
       "       'Marko Dmitrović', 'Gianluigi Donnarumma', 'Ederson',\n",
       "       'Fraser Forster', 'Kamil Grabara', 'Ivo Grbić', 'Péter Gulácsi',\n",
       "       'Joe Hart', 'Lukáš Hrádecký', 'Franco Israel', 'Gregor Kobel',\n",
       "       'Philipp Köhn', 'Dominik Livaković', 'Hugo Lloris', 'Pau López',\n",
       "       'Andriy Lunin', 'Mike Maignan', 'Player', 'Allan McGregor',\n",
       "       'Jon McLaughlin', 'Edouard Mendy', 'Alex Meret', 'Alexander Meyer',\n",
       "       'Simon Mignolet', 'Manuel Neuer', 'Jan Oblak', 'André Onana',\n",
       "       'Stefan Ortega', 'Remko Pasveer', 'Iñaki Peña', 'Mattia Perin',\n",
       "       'Mathew Ryan', 'Yann Sommer', 'Jindřich Staněk',\n",
       "       'Wojciech Szczęsny', 'Ciprian Tătărușanu', 'Marc-André ter Stegen',\n",
       "       'Kevin Trapp', 'Anatolii Trubin', 'Marián Tvrdoň', 'Sven Ulreich',\n",
       "       'Odisseas Vlachodimos'], dtype=object)"
      ]
     },
     "execution_count": 3,
     "metadata": {},
     "output_type": "execute_result"
    }
   ],
   "source": [
    "advanced_goalkeeping['Player'].unique()"
   ]
  },
  {
   "cell_type": "markdown",
   "id": "b0d3d8e6",
   "metadata": {},
   "source": [
    "Видим, что есть игрок *Player*. Очевидно, что нужно исключить эту строку из данных"
   ]
  },
  {
   "cell_type": "code",
   "execution_count": 4,
   "id": "054ff980",
   "metadata": {},
   "outputs": [],
   "source": [
    "advanced_goalkeeping = advanced_goalkeeping[advanced_goalkeeping['Player']!='Player']"
   ]
  },
  {
   "cell_type": "markdown",
   "id": "d4a4f5bc",
   "metadata": {},
   "source": [
    "**Изменим тип данных**"
   ]
  },
  {
   "cell_type": "code",
   "execution_count": 5,
   "id": "c2bc2e62",
   "metadata": {
    "scrolled": true
   },
   "outputs": [
    {
     "name": "stdout",
     "output_type": "stream",
     "text": [
      "<class 'pandas.core.frame.DataFrame'>\n",
      "Int64Index: 49 entries, 0 to 49\n",
      "Data columns (total 32 columns):\n",
      " #   Column       Non-Null Count  Dtype  \n",
      "---  ------       --------------  -----  \n",
      " 0   Player       49 non-null     object \n",
      " 1   Nationality  49 non-null     object \n",
      " 2   Position     49 non-null     object \n",
      " 3   Club         49 non-null     object \n",
      " 4   Age          49 non-null     int64  \n",
      " 5   Born         49 non-null     int64  \n",
      " 6   90s          49 non-null     float64\n",
      " 7   GA           49 non-null     int64  \n",
      " 8   PKA          49 non-null     int64  \n",
      " 9   FK           49 non-null     int64  \n",
      " 10  CK           49 non-null     int64  \n",
      " 11  OG           49 non-null     int64  \n",
      " 12  PSxG         49 non-null     float64\n",
      " 13  PSxG/SoT     49 non-null     float64\n",
      " 14  PSxG+/-      49 non-null     float64\n",
      " 15  /90          49 non-null     float64\n",
      " 16  Cmp          49 non-null     int64  \n",
      " 17  Att          49 non-null     int64  \n",
      " 18  Cmp%         49 non-null     float64\n",
      " 19  Att.1        49 non-null     int64  \n",
      " 20  Thr          49 non-null     int64  \n",
      " 21  Launch%      49 non-null     float64\n",
      " 22  AvgLen       49 non-null     float64\n",
      " 23  Att.2        49 non-null     int64  \n",
      " 24  Launch%.1    49 non-null     float64\n",
      " 25  AvgLen.1     49 non-null     float64\n",
      " 26  Opp          49 non-null     int64  \n",
      " 27  Stp          49 non-null     int64  \n",
      " 28  Stp%         49 non-null     float64\n",
      " 29  #OPA         49 non-null     int64  \n",
      " 30  #OPA/90      49 non-null     float64\n",
      " 31  AvgDist      48 non-null     float64\n",
      "dtypes: float64(13), int64(15), object(4)\n",
      "memory usage: 12.6+ KB\n"
     ]
    }
   ],
   "source": [
    "cols_to_numeric = advanced_goalkeeping.columns[4:]\n",
    "advanced_goalkeeping[cols_to_numeric] = advanced_goalkeeping[cols_to_numeric].apply(pd.to_numeric)\n",
    "advanced_goalkeeping.info()"
   ]
  },
  {
   "cell_type": "markdown",
   "id": "cae3147a",
   "metadata": {},
   "source": [
    "Теперь с типами данных все хорошо, перейдем ко второму датасету"
   ]
  },
  {
   "cell_type": "markdown",
   "id": "f5d01df8",
   "metadata": {},
   "source": [
    "**Загрузим второй датасет**"
   ]
  },
  {
   "cell_type": "code",
   "execution_count": 6,
   "id": "5da4816e",
   "metadata": {
    "scrolled": true
   },
   "outputs": [
    {
     "name": "stdout",
     "output_type": "stream",
     "text": [
      "<class 'pandas.core.frame.DataFrame'>\n",
      "RangeIndex: 49 entries, 0 to 48\n",
      "Data columns (total 25 columns):\n",
      " #   Column       Non-Null Count  Dtype  \n",
      "---  ------       --------------  -----  \n",
      " 0   Player       49 non-null     object \n",
      " 1   Nationality  49 non-null     object \n",
      " 2   Position     49 non-null     object \n",
      " 3   Club         49 non-null     object \n",
      " 4   Age          49 non-null     int64  \n",
      " 5   Born         49 non-null     int64  \n",
      " 6   MP           49 non-null     int64  \n",
      " 7   Starts       49 non-null     int64  \n",
      " 8   Min          49 non-null     object \n",
      " 9   90s          49 non-null     float64\n",
      " 10  GA           49 non-null     int64  \n",
      " 11  GA90         49 non-null     float64\n",
      " 12  SoTA         49 non-null     int64  \n",
      " 13  Saves        49 non-null     int64  \n",
      " 14  Save%        49 non-null     float64\n",
      " 15  W            49 non-null     int64  \n",
      " 16  D            49 non-null     int64  \n",
      " 17  L            49 non-null     int64  \n",
      " 18  CS           49 non-null     int64  \n",
      " 19  CS%          49 non-null     float64\n",
      " 20  PKatt        49 non-null     int64  \n",
      " 21  PKA          49 non-null     int64  \n",
      " 22  PKsv         49 non-null     int64  \n",
      " 23  PKm          49 non-null     int64  \n",
      " 24  Save%.1      26 non-null     float64\n",
      "dtypes: float64(5), int64(15), object(5)\n",
      "memory usage: 9.7+ KB\n"
     ]
    }
   ],
   "source": [
    "goalkeeper = pd.read_csv('ucl goalkeeper.csv')\n",
    "goalkeeper.info()"
   ]
  },
  {
   "cell_type": "markdown",
   "id": "27ef7638",
   "metadata": {},
   "source": [
    "Здесь проблем нет. Выясним, содержат ли датасеты информацию об одних и тех же голкиперах"
   ]
  },
  {
   "cell_type": "code",
   "execution_count": 7,
   "id": "729ef905",
   "metadata": {},
   "outputs": [
    {
     "name": "stdout",
     "output_type": "stream",
     "text": [
      "Всего разных голкиперов в двух датасетах: 49\n"
     ]
    }
   ],
   "source": [
    "print('Всего разных голкиперов в двух датасетах:', len(set(advanced_goalkeeping['Player']) | set(goalkeeper['Player'])))"
   ]
  },
  {
   "cell_type": "markdown",
   "id": "b98028a0",
   "metadata": {},
   "source": [
    "Значит, что в данных информация про одних и тех же голкиперов. Можем объединить датасеты в один для удобства"
   ]
  },
  {
   "cell_type": "markdown",
   "id": "0dd7e858",
   "metadata": {},
   "source": [
    "**Объединим датасеты**"
   ]
  },
  {
   "cell_type": "code",
   "execution_count": 8,
   "id": "f1e707f9",
   "metadata": {
    "scrolled": true
   },
   "outputs": [],
   "source": [
    "same_columns = list(set(advanced_goalkeeping.columns) & set(goalkeeper.columns)) #общие датасеты\n",
    "result_goalkeepers = pd.merge(advanced_goalkeeping, goalkeeper, on=same_columns, how='inner')"
   ]
  },
  {
   "cell_type": "code",
   "execution_count": 9,
   "id": "53b4d93c",
   "metadata": {
    "scrolled": true
   },
   "outputs": [
    {
     "name": "stdout",
     "output_type": "stream",
     "text": [
      "<class 'pandas.core.frame.DataFrame'>\n",
      "Int64Index: 49 entries, 0 to 48\n",
      "Data columns (total 48 columns):\n",
      " #   Column       Non-Null Count  Dtype  \n",
      "---  ------       --------------  -----  \n",
      " 0   Player       49 non-null     object \n",
      " 1   Nationality  49 non-null     object \n",
      " 2   Position     49 non-null     object \n",
      " 3   Club         49 non-null     object \n",
      " 4   Age          49 non-null     int64  \n",
      " 5   Born         49 non-null     int64  \n",
      " 6   90s          49 non-null     float64\n",
      " 7   GA           49 non-null     int64  \n",
      " 8   PKA          49 non-null     int64  \n",
      " 9   FK           49 non-null     int64  \n",
      " 10  CK           49 non-null     int64  \n",
      " 11  OG           49 non-null     int64  \n",
      " 12  PSxG         49 non-null     float64\n",
      " 13  PSxG/SoT     49 non-null     float64\n",
      " 14  PSxG+/-      49 non-null     float64\n",
      " 15  /90          49 non-null     float64\n",
      " 16  Cmp          49 non-null     int64  \n",
      " 17  Att          49 non-null     int64  \n",
      " 18  Cmp%         49 non-null     float64\n",
      " 19  Att.1        49 non-null     int64  \n",
      " 20  Thr          49 non-null     int64  \n",
      " 21  Launch%      49 non-null     float64\n",
      " 22  AvgLen       49 non-null     float64\n",
      " 23  Att.2        49 non-null     int64  \n",
      " 24  Launch%.1    49 non-null     float64\n",
      " 25  AvgLen.1     49 non-null     float64\n",
      " 26  Opp          49 non-null     int64  \n",
      " 27  Stp          49 non-null     int64  \n",
      " 28  Stp%         49 non-null     float64\n",
      " 29  #OPA         49 non-null     int64  \n",
      " 30  #OPA/90      49 non-null     float64\n",
      " 31  AvgDist      48 non-null     float64\n",
      " 32  MP           49 non-null     int64  \n",
      " 33  Starts       49 non-null     int64  \n",
      " 34  Min          49 non-null     object \n",
      " 35  GA90         49 non-null     float64\n",
      " 36  SoTA         49 non-null     int64  \n",
      " 37  Saves        49 non-null     int64  \n",
      " 38  Save%        49 non-null     float64\n",
      " 39  W            49 non-null     int64  \n",
      " 40  D            49 non-null     int64  \n",
      " 41  L            49 non-null     int64  \n",
      " 42  CS           49 non-null     int64  \n",
      " 43  CS%          49 non-null     float64\n",
      " 44  PKatt        49 non-null     int64  \n",
      " 45  PKsv         49 non-null     int64  \n",
      " 46  PKm          49 non-null     int64  \n",
      " 47  Save%.1      26 non-null     float64\n",
      "dtypes: float64(17), int64(26), object(5)\n",
      "memory usage: 18.8+ KB\n"
     ]
    }
   ],
   "source": [
    "result_goalkeepers.info()"
   ]
  },
  {
   "cell_type": "markdown",
   "id": "3282b8de",
   "metadata": {},
   "source": [
    "Данные готовы к исследованию"
   ]
  },
  {
   "cell_type": "markdown",
   "id": "5d1dc75a",
   "metadata": {},
   "source": [
    "**Посчитаем среднее количество матчей для голкипера**"
   ]
  },
  {
   "cell_type": "code",
   "execution_count": 10,
   "id": "307ee0d8",
   "metadata": {},
   "outputs": [
    {
     "name": "stdout",
     "output_type": "stream",
     "text": [
      "Среднее количество матчей на одного голкипера: 5.163265306122449\n"
     ]
    }
   ],
   "source": [
    "print('Среднее количество матчей на одного голкипера:' , result_goalkeepers['MP'].mean())"
   ]
  },
  {
   "cell_type": "markdown",
   "id": "42034b0c",
   "metadata": {},
   "source": [
    "**Посмотрим на количество сыгранных матчей**"
   ]
  },
  {
   "cell_type": "markdown",
   "id": "d17f229f",
   "metadata": {},
   "source": [
    "Напишем функцию для построения столбчатой диаграммы"
   ]
  },
  {
   "cell_type": "code",
   "execution_count": 11,
   "id": "5697005a",
   "metadata": {},
   "outputs": [],
   "source": [
    "def bar_plot(y, title):\n",
    "    plt.figure(figsize=(10,5))\n",
    "    sns.barplot(data=result_goalkeepers.sort_values(y, ascending=False).head(10), x='Player', y=y)\n",
    "    plt.title(title)\n",
    "    plt.xlabel('Голкиперы')\n",
    "    plt.xticks(rotation=15, fontsize=8)\n",
    "    plt.show()"
   ]
  },
  {
   "cell_type": "code",
   "execution_count": 12,
   "id": "71f8b688",
   "metadata": {
    "scrolled": false
   },
   "outputs": [
    {
     "data": {
      "image/png": "[encoded data removed]",
      "text/plain": [
       "<Figure size 1000x500 with 1 Axes>"
      ]
     },
     "metadata": {},
     "output_type": "display_data"
    },
    {
     "data": {
      "image/png": "[encoded data removed]",
      "text/plain": [
       "<Figure size 1000x500 with 1 Axes>"
      ]
     },
     "metadata": {},
     "output_type": "display_data"
    }
   ],
   "source": [
    "bar_plot('MP', 'Топ голкиперов по количеству сыгранных матчей')\n",
    "bar_plot('Save%', 'Топ голкиперов по проценту отраженных ударов')"
   ]
  },
  {
   "cell_type": "markdown",
   "id": "c1a0ccbf",
   "metadata": {},
   "source": [
    "**Выводы**\n",
    "- *Andre Onana* рекордсмен по количеству сыгранных матчей в Лиге Чемпионов 2022-2023\n",
    "- *Dmitrović* и *Neuer* отразили 100% нанесенных ударов! Однако они провели 3 и 2 матча соответственно"
   ]
  },
  {
   "cell_type": "markdown",
   "id": "b170a9ac",
   "metadata": {},
   "source": [
    "**Проверим, уменьшается ли процент отраженных ударов с увеличением числа ударов по воротам**"
   ]
  },
  {
   "cell_type": "markdown",
   "id": "05b6f204",
   "metadata": {},
   "source": [
    "Построим точечную диаграмму"
   ]
  },
  {
   "cell_type": "code",
   "execution_count": 13,
   "id": "1780a3be",
   "metadata": {},
   "outputs": [
    {
     "data": {
      "image/png": "[encoded data removed]",
      "text/plain": [
       "<Figure size 1000x500 with 1 Axes>"
      ]
     },
     "metadata": {},
     "output_type": "display_data"
    }
   ],
   "source": [
    "plt.figure(figsize=(10,5))\n",
    "sns.scatterplot(data=result_goalkeepers, x='SoTA', y='Save%')\n",
    "plt.title('Распределение процента отраженных ударов в зависимости от ударов по воротам')\n",
    "plt.xlabel('Удары по воротам')\n",
    "plt.ylabel('Отраженные удары, %')\n",
    "plt.show()"
   ]
  },
  {
   "cell_type": "markdown",
   "id": "ddbe98d4",
   "metadata": {},
   "source": [
    "Видим, что количество ударов не влияет на процент отраженных ударов. Значит, дело в мастерстве голкиперов"
   ]
  },
  {
   "cell_type": "markdown",
   "id": "9028c6c3",
   "metadata": {},
   "source": [
    "**Посмотрим на распределение процента отраженных ударов в зависимости от возраста голкипера**"
   ]
  },
  {
   "cell_type": "code",
   "execution_count": 14,
   "id": "6304852c",
   "metadata": {},
   "outputs": [
    {
     "data": {
      "image/png": "[encoded data removed]",
      "text/plain": [
       "<Figure size 600x600 with 3 Axes>"
      ]
     },
     "metadata": {},
     "output_type": "display_data"
    }
   ],
   "source": [
    "sns.jointplot(data=result_goalkeepers, x='Age', y='Save%', kind='reg')\n",
    "plt.xlabel('Возраст')\n",
    "plt.show()"
   ]
  },
  {
   "cell_type": "markdown",
   "id": "c846e3c1",
   "metadata": {},
   "source": [
    "Видим, что возраст голкипера заметно не влияет на успешность его игры"
   ]
  },
  {
   "cell_type": "markdown",
   "id": "915a8d1b",
   "metadata": {},
   "source": [
    "**Определим лучшего голкипера**"
   ]
  },
  {
   "cell_type": "markdown",
   "id": "89bf42ea",
   "metadata": {},
   "source": [
    "Прежде всего удалим из данных голкиперов, которые провели меньше 5 матчей (среднее значение)"
   ]
  },
  {
   "cell_type": "code",
   "execution_count": 15,
   "id": "b328c3f2",
   "metadata": {},
   "outputs": [
    {
     "name": "stdout",
     "output_type": "stream",
     "text": [
      "Более 5 матчей провели 22 голкипера\n"
     ]
    }
   ],
   "source": [
    "result_goalkeepers = result_goalkeepers[result_goalkeepers['MP']>5]\n",
    "print(f'Более 5 матчей провели {len(result_goalkeepers)} голкипера')"
   ]
  },
  {
   "cell_type": "markdown",
   "id": "298a6a82",
   "metadata": {},
   "source": [
    "Ключевой показатель - это процент отраженных ударов. Выведем топ-10 по этому показателю"
   ]
  },
  {
   "cell_type": "code",
   "execution_count": 16,
   "id": "0a4296bf",
   "metadata": {},
   "outputs": [
    {
     "data": {
      "text/html": [
       "<div>\n",
       "<style scoped>\n",
       "    .dataframe tbody tr th:only-of-type {\n",
       "        vertical-align: middle;\n",
       "    }\n",
       "\n",
       "    .dataframe tbody tr th {\n",
       "        vertical-align: top;\n",
       "    }\n",
       "\n",
       "    .dataframe thead th {\n",
       "        text-align: right;\n",
       "    }\n",
       "</style>\n",
       "<table border=\"1\" class=\"dataframe\">\n",
       "  <thead>\n",
       "    <tr style=\"text-align: right;\">\n",
       "      <th></th>\n",
       "      <th>Player</th>\n",
       "      <th>Nationality</th>\n",
       "      <th>Position</th>\n",
       "      <th>Club</th>\n",
       "      <th>Age</th>\n",
       "      <th>Born</th>\n",
       "      <th>90s</th>\n",
       "      <th>GA</th>\n",
       "      <th>PKA</th>\n",
       "      <th>FK</th>\n",
       "      <th>...</th>\n",
       "      <th>Save%</th>\n",
       "      <th>W</th>\n",
       "      <th>D</th>\n",
       "      <th>L</th>\n",
       "      <th>CS</th>\n",
       "      <th>CS%</th>\n",
       "      <th>PKatt</th>\n",
       "      <th>PKsv</th>\n",
       "      <th>PKm</th>\n",
       "      <th>Save%.1</th>\n",
       "    </tr>\n",
       "  </thead>\n",
       "  <tbody>\n",
       "    <tr>\n",
       "      <th>10</th>\n",
       "      <td>Ederson</td>\n",
       "      <td>BRA</td>\n",
       "      <td>GK</td>\n",
       "      <td>Manchester City</td>\n",
       "      <td>28</td>\n",
       "      <td>1993</td>\n",
       "      <td>11.0</td>\n",
       "      <td>4</td>\n",
       "      <td>1</td>\n",
       "      <td>0</td>\n",
       "      <td>...</td>\n",
       "      <td>90.3</td>\n",
       "      <td>7</td>\n",
       "      <td>4</td>\n",
       "      <td>0</td>\n",
       "      <td>7</td>\n",
       "      <td>63.6</td>\n",
       "      <td>1</td>\n",
       "      <td>0</td>\n",
       "      <td>0</td>\n",
       "      <td>0.0</td>\n",
       "    </tr>\n",
       "    <tr>\n",
       "      <th>6</th>\n",
       "      <td>Diogo Costa</td>\n",
       "      <td>POR</td>\n",
       "      <td>GK</td>\n",
       "      <td>Porto</td>\n",
       "      <td>22</td>\n",
       "      <td>1999</td>\n",
       "      <td>8.0</td>\n",
       "      <td>8</td>\n",
       "      <td>1</td>\n",
       "      <td>0</td>\n",
       "      <td>...</td>\n",
       "      <td>81.6</td>\n",
       "      <td>4</td>\n",
       "      <td>1</td>\n",
       "      <td>3</td>\n",
       "      <td>4</td>\n",
       "      <td>50.0</td>\n",
       "      <td>4</td>\n",
       "      <td>3</td>\n",
       "      <td>0</td>\n",
       "      <td>75.0</td>\n",
       "    </tr>\n",
       "    <tr>\n",
       "      <th>33</th>\n",
       "      <td>André Onana</td>\n",
       "      <td>CMR</td>\n",
       "      <td>GK</td>\n",
       "      <td>Inter</td>\n",
       "      <td>26</td>\n",
       "      <td>1996</td>\n",
       "      <td>13.0</td>\n",
       "      <td>11</td>\n",
       "      <td>0</td>\n",
       "      <td>0</td>\n",
       "      <td>...</td>\n",
       "      <td>80.7</td>\n",
       "      <td>7</td>\n",
       "      <td>3</td>\n",
       "      <td>3</td>\n",
       "      <td>8</td>\n",
       "      <td>61.5</td>\n",
       "      <td>0</td>\n",
       "      <td>0</td>\n",
       "      <td>0</td>\n",
       "      <td>NaN</td>\n",
       "    </tr>\n",
       "    <tr>\n",
       "      <th>30</th>\n",
       "      <td>Simon Mignolet</td>\n",
       "      <td>BEL</td>\n",
       "      <td>GK</td>\n",
       "      <td>Club Brugge</td>\n",
       "      <td>34</td>\n",
       "      <td>1988</td>\n",
       "      <td>8.0</td>\n",
       "      <td>11</td>\n",
       "      <td>2</td>\n",
       "      <td>0</td>\n",
       "      <td>...</td>\n",
       "      <td>80.0</td>\n",
       "      <td>3</td>\n",
       "      <td>2</td>\n",
       "      <td>3</td>\n",
       "      <td>5</td>\n",
       "      <td>62.5</td>\n",
       "      <td>3</td>\n",
       "      <td>0</td>\n",
       "      <td>1</td>\n",
       "      <td>0.0</td>\n",
       "    </tr>\n",
       "    <tr>\n",
       "      <th>7</th>\n",
       "      <td>Thibaut Courtois</td>\n",
       "      <td>BEL</td>\n",
       "      <td>GK</td>\n",
       "      <td>Real Madrid</td>\n",
       "      <td>30</td>\n",
       "      <td>1992</td>\n",
       "      <td>10.0</td>\n",
       "      <td>11</td>\n",
       "      <td>0</td>\n",
       "      <td>1</td>\n",
       "      <td>...</td>\n",
       "      <td>79.2</td>\n",
       "      <td>7</td>\n",
       "      <td>1</td>\n",
       "      <td>2</td>\n",
       "      <td>5</td>\n",
       "      <td>50.0</td>\n",
       "      <td>1</td>\n",
       "      <td>1</td>\n",
       "      <td>0</td>\n",
       "      <td>100.0</td>\n",
       "    </tr>\n",
       "    <tr>\n",
       "      <th>24</th>\n",
       "      <td>Mike Maignan</td>\n",
       "      <td>FRA</td>\n",
       "      <td>GK</td>\n",
       "      <td>Milan</td>\n",
       "      <td>27</td>\n",
       "      <td>1995</td>\n",
       "      <td>7.0</td>\n",
       "      <td>6</td>\n",
       "      <td>0</td>\n",
       "      <td>0</td>\n",
       "      <td>...</td>\n",
       "      <td>77.8</td>\n",
       "      <td>2</td>\n",
       "      <td>3</td>\n",
       "      <td>2</td>\n",
       "      <td>2</td>\n",
       "      <td>28.6</td>\n",
       "      <td>1</td>\n",
       "      <td>1</td>\n",
       "      <td>0</td>\n",
       "      <td>100.0</td>\n",
       "    </tr>\n",
       "    <tr>\n",
       "      <th>20</th>\n",
       "      <td>Dominik Livaković</td>\n",
       "      <td>CRO</td>\n",
       "      <td>GK</td>\n",
       "      <td>Dinamo Zagreb</td>\n",
       "      <td>27</td>\n",
       "      <td>1995</td>\n",
       "      <td>6.0</td>\n",
       "      <td>11</td>\n",
       "      <td>3</td>\n",
       "      <td>0</td>\n",
       "      <td>...</td>\n",
       "      <td>77.1</td>\n",
       "      <td>1</td>\n",
       "      <td>1</td>\n",
       "      <td>4</td>\n",
       "      <td>1</td>\n",
       "      <td>16.7</td>\n",
       "      <td>3</td>\n",
       "      <td>0</td>\n",
       "      <td>0</td>\n",
       "      <td>0.0</td>\n",
       "    </tr>\n",
       "    <tr>\n",
       "      <th>2</th>\n",
       "      <td>Kepa Arrizabalaga</td>\n",
       "      <td>ESP</td>\n",
       "      <td>GK</td>\n",
       "      <td>Chelsea</td>\n",
       "      <td>27</td>\n",
       "      <td>1994</td>\n",
       "      <td>9.0</td>\n",
       "      <td>8</td>\n",
       "      <td>0</td>\n",
       "      <td>0</td>\n",
       "      <td>...</td>\n",
       "      <td>77.1</td>\n",
       "      <td>4</td>\n",
       "      <td>1</td>\n",
       "      <td>4</td>\n",
       "      <td>3</td>\n",
       "      <td>33.3</td>\n",
       "      <td>0</td>\n",
       "      <td>0</td>\n",
       "      <td>0</td>\n",
       "      <td>NaN</td>\n",
       "    </tr>\n",
       "    <tr>\n",
       "      <th>28</th>\n",
       "      <td>Alex Meret</td>\n",
       "      <td>ITA</td>\n",
       "      <td>GK</td>\n",
       "      <td>Napoli</td>\n",
       "      <td>25</td>\n",
       "      <td>1997</td>\n",
       "      <td>10.0</td>\n",
       "      <td>8</td>\n",
       "      <td>1</td>\n",
       "      <td>0</td>\n",
       "      <td>...</td>\n",
       "      <td>76.7</td>\n",
       "      <td>7</td>\n",
       "      <td>1</td>\n",
       "      <td>2</td>\n",
       "      <td>4</td>\n",
       "      <td>40.0</td>\n",
       "      <td>2</td>\n",
       "      <td>1</td>\n",
       "      <td>0</td>\n",
       "      <td>50.0</td>\n",
       "    </tr>\n",
       "    <tr>\n",
       "      <th>16</th>\n",
       "      <td>Lukáš Hrádecký</td>\n",
       "      <td>FIN</td>\n",
       "      <td>GK</td>\n",
       "      <td>Leverkusen</td>\n",
       "      <td>32</td>\n",
       "      <td>1989</td>\n",
       "      <td>6.0</td>\n",
       "      <td>8</td>\n",
       "      <td>2</td>\n",
       "      <td>0</td>\n",
       "      <td>...</td>\n",
       "      <td>75.0</td>\n",
       "      <td>1</td>\n",
       "      <td>2</td>\n",
       "      <td>3</td>\n",
       "      <td>2</td>\n",
       "      <td>33.3</td>\n",
       "      <td>3</td>\n",
       "      <td>1</td>\n",
       "      <td>0</td>\n",
       "      <td>33.3</td>\n",
       "    </tr>\n",
       "  </tbody>\n",
       "</table>\n",
       "<p>10 rows × 48 columns</p>\n",
       "</div>"
      ],
      "text/plain": [
       "               Player Nationality Position             Club  Age  Born   90s  \\\n",
       "10            Ederson         BRA       GK  Manchester City   28  1993  11.0   \n",
       "6         Diogo Costa         POR       GK            Porto   22  1999   8.0   \n",
       "33        André Onana         CMR       GK            Inter   26  1996  13.0   \n",
       "30     Simon Mignolet         BEL       GK      Club Brugge   34  1988   8.0   \n",
       "7    Thibaut Courtois         BEL       GK      Real Madrid   30  1992  10.0   \n",
       "24       Mike Maignan         FRA       GK            Milan   27  1995   7.0   \n",
       "20  Dominik Livaković         CRO       GK    Dinamo Zagreb   27  1995   6.0   \n",
       "2   Kepa Arrizabalaga         ESP       GK          Chelsea   27  1994   9.0   \n",
       "28         Alex Meret         ITA       GK           Napoli   25  1997  10.0   \n",
       "16     Lukáš Hrádecký         FIN       GK       Leverkusen   32  1989   6.0   \n",
       "\n",
       "    GA  PKA  FK  ...  Save%  W  D  L  CS   CS%  PKatt  PKsv  PKm  Save%.1  \n",
       "10   4    1   0  ...   90.3  7  4  0   7  63.6      1     0    0      0.0  \n",
       "6    8    1   0  ...   81.6  4  1  3   4  50.0      4     3    0     75.0  \n",
       "33  11    0   0  ...   80.7  7  3  3   8  61.5      0     0    0      NaN  \n",
       "30  11    2   0  ...   80.0  3  2  3   5  62.5      3     0    1      0.0  \n",
       "7   11    0   1  ...   79.2  7  1  2   5  50.0      1     1    0    100.0  \n",
       "24   6    0   0  ...   77.8  2  3  2   2  28.6      1     1    0    100.0  \n",
       "20  11    3   0  ...   77.1  1  1  4   1  16.7      3     0    0      0.0  \n",
       "2    8    0   0  ...   77.1  4  1  4   3  33.3      0     0    0      NaN  \n",
       "28   8    1   0  ...   76.7  7  1  2   4  40.0      2     1    0     50.0  \n",
       "16   8    2   0  ...   75.0  1  2  3   2  33.3      3     1    0     33.3  \n",
       "\n",
       "[10 rows x 48 columns]"
      ]
     },
     "execution_count": 16,
     "metadata": {},
     "output_type": "execute_result"
    }
   ],
   "source": [
    "top_10_goalkepeers = result_goalkeepers.sort_values('Save%', ascending=False).head(10)\n",
    "top_10_goalkepeers"
   ]
  },
  {
   "cell_type": "code",
   "execution_count": 17,
   "id": "da40082a",
   "metadata": {
    "scrolled": true
   },
   "outputs": [
    {
     "name": "stdout",
     "output_type": "stream",
     "text": [
      "<class 'pandas.core.frame.DataFrame'>\n",
      "Int64Index: 10 entries, 10 to 16\n",
      "Data columns (total 48 columns):\n",
      " #   Column       Non-Null Count  Dtype  \n",
      "---  ------       --------------  -----  \n",
      " 0   Player       10 non-null     object \n",
      " 1   Nationality  10 non-null     object \n",
      " 2   Position     10 non-null     object \n",
      " 3   Club         10 non-null     object \n",
      " 4   Age          10 non-null     int64  \n",
      " 5   Born         10 non-null     int64  \n",
      " 6   90s          10 non-null     float64\n",
      " 7   GA           10 non-null     int64  \n",
      " 8   PKA          10 non-null     int64  \n",
      " 9   FK           10 non-null     int64  \n",
      " 10  CK           10 non-null     int64  \n",
      " 11  OG           10 non-null     int64  \n",
      " 12  PSxG         10 non-null     float64\n",
      " 13  PSxG/SoT     10 non-null     float64\n",
      " 14  PSxG+/-      10 non-null     float64\n",
      " 15  /90          10 non-null     float64\n",
      " 16  Cmp          10 non-null     int64  \n",
      " 17  Att          10 non-null     int64  \n",
      " 18  Cmp%         10 non-null     float64\n",
      " 19  Att.1        10 non-null     int64  \n",
      " 20  Thr          10 non-null     int64  \n",
      " 21  Launch%      10 non-null     float64\n",
      " 22  AvgLen       10 non-null     float64\n",
      " 23  Att.2        10 non-null     int64  \n",
      " 24  Launch%.1    10 non-null     float64\n",
      " 25  AvgLen.1     10 non-null     float64\n",
      " 26  Opp          10 non-null     int64  \n",
      " 27  Stp          10 non-null     int64  \n",
      " 28  Stp%         10 non-null     float64\n",
      " 29  #OPA         10 non-null     int64  \n",
      " 30  #OPA/90      10 non-null     float64\n",
      " 31  AvgDist      10 non-null     float64\n",
      " 32  MP           10 non-null     int64  \n",
      " 33  Starts       10 non-null     int64  \n",
      " 34  Min          10 non-null     object \n",
      " 35  GA90         10 non-null     float64\n",
      " 36  SoTA         10 non-null     int64  \n",
      " 37  Saves        10 non-null     int64  \n",
      " 38  Save%        10 non-null     float64\n",
      " 39  W            10 non-null     int64  \n",
      " 40  D            10 non-null     int64  \n",
      " 41  L            10 non-null     int64  \n",
      " 42  CS           10 non-null     int64  \n",
      " 43  CS%          10 non-null     float64\n",
      " 44  PKatt        10 non-null     int64  \n",
      " 45  PKsv         10 non-null     int64  \n",
      " 46  PKm          10 non-null     int64  \n",
      " 47  Save%.1      8 non-null      float64\n",
      "dtypes: float64(17), int64(26), object(5)\n",
      "memory usage: 3.8+ KB\n"
     ]
    }
   ],
   "source": [
    "top_10_goalkepeers.info()"
   ]
  },
  {
   "cell_type": "markdown",
   "id": "c7402b78",
   "metadata": {},
   "source": [
    "Для дальнейшего анализа выделим наиболее важные для анализа признаки:\n",
    "- MP - сыгранные матчи\n",
    "- GA - пропущенные голы\n",
    "- SoTA - удары по повротам\n",
    "- Save% - процент отраженных ударов\n",
    "- PSxG+/- - От какого количества голов голкипер спас команду"
   ]
  },
  {
   "cell_type": "code",
   "execution_count": 18,
   "id": "e5e90968",
   "metadata": {},
   "outputs": [
    {
     "data": {
      "text/html": [
       "<div>\n",
       "<style scoped>\n",
       "    .dataframe tbody tr th:only-of-type {\n",
       "        vertical-align: middle;\n",
       "    }\n",
       "\n",
       "    .dataframe tbody tr th {\n",
       "        vertical-align: top;\n",
       "    }\n",
       "\n",
       "    .dataframe thead th {\n",
       "        text-align: right;\n",
       "    }\n",
       "</style>\n",
       "<table border=\"1\" class=\"dataframe\">\n",
       "  <thead>\n",
       "    <tr style=\"text-align: right;\">\n",
       "      <th></th>\n",
       "      <th>Player</th>\n",
       "      <th>MP</th>\n",
       "      <th>GA</th>\n",
       "      <th>SoTA</th>\n",
       "      <th>Save%</th>\n",
       "      <th>PSxG+/-</th>\n",
       "    </tr>\n",
       "  </thead>\n",
       "  <tbody>\n",
       "    <tr>\n",
       "      <th>10</th>\n",
       "      <td>Ederson</td>\n",
       "      <td>11</td>\n",
       "      <td>4</td>\n",
       "      <td>31</td>\n",
       "      <td>90.3</td>\n",
       "      <td>2.5</td>\n",
       "    </tr>\n",
       "    <tr>\n",
       "      <th>6</th>\n",
       "      <td>Diogo Costa</td>\n",
       "      <td>8</td>\n",
       "      <td>8</td>\n",
       "      <td>38</td>\n",
       "      <td>81.6</td>\n",
       "      <td>3.7</td>\n",
       "    </tr>\n",
       "    <tr>\n",
       "      <th>33</th>\n",
       "      <td>André Onana</td>\n",
       "      <td>13</td>\n",
       "      <td>11</td>\n",
       "      <td>57</td>\n",
       "      <td>80.7</td>\n",
       "      <td>7.6</td>\n",
       "    </tr>\n",
       "    <tr>\n",
       "      <th>30</th>\n",
       "      <td>Simon Mignolet</td>\n",
       "      <td>8</td>\n",
       "      <td>11</td>\n",
       "      <td>45</td>\n",
       "      <td>80.0</td>\n",
       "      <td>4.1</td>\n",
       "    </tr>\n",
       "    <tr>\n",
       "      <th>7</th>\n",
       "      <td>Thibaut Courtois</td>\n",
       "      <td>10</td>\n",
       "      <td>11</td>\n",
       "      <td>53</td>\n",
       "      <td>79.2</td>\n",
       "      <td>5.5</td>\n",
       "    </tr>\n",
       "    <tr>\n",
       "      <th>24</th>\n",
       "      <td>Mike Maignan</td>\n",
       "      <td>7</td>\n",
       "      <td>6</td>\n",
       "      <td>27</td>\n",
       "      <td>77.8</td>\n",
       "      <td>1.5</td>\n",
       "    </tr>\n",
       "    <tr>\n",
       "      <th>20</th>\n",
       "      <td>Dominik Livaković</td>\n",
       "      <td>6</td>\n",
       "      <td>11</td>\n",
       "      <td>35</td>\n",
       "      <td>77.1</td>\n",
       "      <td>2.5</td>\n",
       "    </tr>\n",
       "    <tr>\n",
       "      <th>2</th>\n",
       "      <td>Kepa Arrizabalaga</td>\n",
       "      <td>9</td>\n",
       "      <td>8</td>\n",
       "      <td>35</td>\n",
       "      <td>77.1</td>\n",
       "      <td>1.6</td>\n",
       "    </tr>\n",
       "    <tr>\n",
       "      <th>28</th>\n",
       "      <td>Alex Meret</td>\n",
       "      <td>10</td>\n",
       "      <td>8</td>\n",
       "      <td>30</td>\n",
       "      <td>76.7</td>\n",
       "      <td>3.4</td>\n",
       "    </tr>\n",
       "    <tr>\n",
       "      <th>16</th>\n",
       "      <td>Lukáš Hrádecký</td>\n",
       "      <td>6</td>\n",
       "      <td>8</td>\n",
       "      <td>24</td>\n",
       "      <td>75.0</td>\n",
       "      <td>-1.0</td>\n",
       "    </tr>\n",
       "  </tbody>\n",
       "</table>\n",
       "</div>"
      ],
      "text/plain": [
       "               Player  MP  GA  SoTA  Save%  PSxG+/-\n",
       "10            Ederson  11   4    31   90.3      2.5\n",
       "6         Diogo Costa   8   8    38   81.6      3.7\n",
       "33        André Onana  13  11    57   80.7      7.6\n",
       "30     Simon Mignolet   8  11    45   80.0      4.1\n",
       "7    Thibaut Courtois  10  11    53   79.2      5.5\n",
       "24       Mike Maignan   7   6    27   77.8      1.5\n",
       "20  Dominik Livaković   6  11    35   77.1      2.5\n",
       "2   Kepa Arrizabalaga   9   8    35   77.1      1.6\n",
       "28         Alex Meret  10   8    30   76.7      3.4\n",
       "16     Lukáš Hrádecký   6   8    24   75.0     -1.0"
      ]
     },
     "execution_count": 18,
     "metadata": {},
     "output_type": "execute_result"
    }
   ],
   "source": [
    "cols = ['Player', 'MP', 'GA', 'SoTA', 'Save%', 'PSxG+/-']\n",
    "top_10_goalkepeers[cols]"
   ]
  },
  {
   "cell_type": "markdown",
   "id": "d41bf1ea",
   "metadata": {},
   "source": [
    "Выбор лучшего голкипера зависит от ключевой метрики, которая имеет наибольшую важность для исследователя. Со своей стороны выделю топ-3 голкиперов, которые достойно показали себя по всем показателям:<br>\n",
    "- Ederson (лучший показатель по проценту отраженных ударов)\n",
    "- André Onana (лучший показатель по спасению от ожидаемых голов)\n",
    "- Thibaut Courtois (топ-2 по спасению от ожидаемых голов и достойный процент отраженных ударов)"
   ]
  },
  {
   "cell_type": "markdown",
   "id": "97c247a5",
   "metadata": {},
   "source": [
    "### Защитные действия\n",
    "<a id='defensive'></a>"
   ]
  },
  {
   "cell_type": "code",
   "execution_count": 19,
   "id": "99668e2e",
   "metadata": {
    "scrolled": true
   },
   "outputs": [
    {
     "name": "stdout",
     "output_type": "stream",
     "text": [
      "<class 'pandas.core.frame.DataFrame'>\n",
      "RangeIndex: 727 entries, 0 to 726\n",
      "Data columns (total 23 columns):\n",
      " #   Column                               Non-Null Count  Dtype  \n",
      "---  ------                               --------------  -----  \n",
      " 0   Player                               727 non-null    object \n",
      " 1   Nationality                          727 non-null    object \n",
      " 2   Position                             727 non-null    object \n",
      " 3   Club                                 727 non-null    object \n",
      " 4   Age                                  727 non-null    int64  \n",
      " 5   Born                                 727 non-null    int64  \n",
      " 6   90s                                  727 non-null    float64\n",
      " 7   No. of players tackled               727 non-null    int64  \n",
      " 8   Tackles won                          727 non-null    int64  \n",
      " 9   Tackles (Def 3rd)                    727 non-null    int64  \n",
      " 10  Tackles (Mid 3rd)                    727 non-null    int64  \n",
      " 11  Tackles (Att 3rd)                    727 non-null    int64  \n",
      " 12  No. of dribblers tackled             727 non-null    int64  \n",
      " 13  Dribbles challenged (total)          727 non-null    int64  \n",
      " 14  % of dribblers successfully tackled  599 non-null    float64\n",
      " 15  challenges lost                      727 non-null    int64  \n",
      " 16  Blocks                               727 non-null    int64  \n",
      " 17  Shots blocked                        727 non-null    int64  \n",
      " 18  Passes blocked                       727 non-null    int64  \n",
      " 19  Interceptions                        727 non-null    int64  \n",
      " 20  Tackles + internceptions             727 non-null    int64  \n",
      " 21  Clearances                           727 non-null    int64  \n",
      " 22  Errors                               727 non-null    int64  \n",
      "dtypes: float64(2), int64(17), object(4)\n",
      "memory usage: 130.8+ KB\n"
     ]
    }
   ],
   "source": [
    "defensive = pd.read_csv('ucl defensive actions.csv')\n",
    "defensive.info()"
   ]
  },
  {
   "cell_type": "markdown",
   "id": "303ba696",
   "metadata": {},
   "source": [
    "В одном столбце есть пропуски, в остальном данные в порядке"
   ]
  },
  {
   "cell_type": "markdown",
   "id": "793a2a10",
   "metadata": {},
   "source": [
    "**Заполним пропуски**"
   ]
  },
  {
   "cell_type": "markdown",
   "id": "02505d1e",
   "metadata": {},
   "source": [
    "Пропуск в столбце *% of dribblers successfully tackled* появляется из-за того, что показателя высчитывается как отношение удачных отборов на число попыток. Если число попыток равно нулю, то столбец содержит пропуск. Заполним столбец *% of dribblers successfully tackled* нулями"
   ]
  },
  {
   "cell_type": "code",
   "execution_count": 20,
   "id": "1124517a",
   "metadata": {
    "scrolled": true
   },
   "outputs": [
    {
     "name": "stdout",
     "output_type": "stream",
     "text": [
      "<class 'pandas.core.frame.DataFrame'>\n",
      "RangeIndex: 727 entries, 0 to 726\n",
      "Data columns (total 23 columns):\n",
      " #   Column                               Non-Null Count  Dtype  \n",
      "---  ------                               --------------  -----  \n",
      " 0   Player                               727 non-null    object \n",
      " 1   Nationality                          727 non-null    object \n",
      " 2   Position                             727 non-null    object \n",
      " 3   Club                                 727 non-null    object \n",
      " 4   Age                                  727 non-null    int64  \n",
      " 5   Born                                 727 non-null    int64  \n",
      " 6   90s                                  727 non-null    float64\n",
      " 7   No. of players tackled               727 non-null    int64  \n",
      " 8   Tackles won                          727 non-null    int64  \n",
      " 9   Tackles (Def 3rd)                    727 non-null    int64  \n",
      " 10  Tackles (Mid 3rd)                    727 non-null    int64  \n",
      " 11  Tackles (Att 3rd)                    727 non-null    int64  \n",
      " 12  No. of dribblers tackled             727 non-null    int64  \n",
      " 13  Dribbles challenged (total)          727 non-null    int64  \n",
      " 14  % of dribblers successfully tackled  727 non-null    float64\n",
      " 15  challenges lost                      727 non-null    int64  \n",
      " 16  Blocks                               727 non-null    int64  \n",
      " 17  Shots blocked                        727 non-null    int64  \n",
      " 18  Passes blocked                       727 non-null    int64  \n",
      " 19  Interceptions                        727 non-null    int64  \n",
      " 20  Tackles + internceptions             727 non-null    int64  \n",
      " 21  Clearances                           727 non-null    int64  \n",
      " 22  Errors                               727 non-null    int64  \n",
      "dtypes: float64(2), int64(17), object(4)\n",
      "memory usage: 130.8+ KB\n"
     ]
    }
   ],
   "source": [
    "defensive['% of dribblers successfully tackled'] = defensive['% of dribblers successfully tackled'].fillna(0) \n",
    "defensive.info()"
   ]
  },
  {
   "cell_type": "markdown",
   "id": "d31acc7e",
   "metadata": {},
   "source": [
    "В данных пропусков больше нет. Перейдем к исследованию данных"
   ]
  },
  {
   "cell_type": "markdown",
   "id": "f5b2ee6b",
   "metadata": {},
   "source": [
    "**Посмотрим, какие позиции указаны у игроков**"
   ]
  },
  {
   "cell_type": "code",
   "execution_count": 21,
   "id": "ab40ec26",
   "metadata": {},
   "outputs": [
    {
     "data": {
      "text/plain": [
       "DF       226\n",
       "MF       172\n",
       "FW       110\n",
       "FW,MF     62\n",
       "GK        49\n",
       "MF,FW     45\n",
       "DF,MF     33\n",
       "DF,FW     10\n",
       "MF,DF     10\n",
       "FW,DF     10\n",
       "Name: Position, dtype: int64"
      ]
     },
     "execution_count": 21,
     "metadata": {},
     "output_type": "execute_result"
    }
   ],
   "source": [
    "defensive['Position'].value_counts()"
   ]
  },
  {
   "cell_type": "markdown",
   "id": "6dfaea91",
   "metadata": {},
   "source": [
    "Больше всего игроков на позиции DF (защитник), MF (полузащитник) и FW (форвард, нападающий). Так же имеем голкиперов, но их мы проанализировали ранее, поэтому удалим их из данных"
   ]
  },
  {
   "cell_type": "code",
   "execution_count": 22,
   "id": "382b9108",
   "metadata": {},
   "outputs": [],
   "source": [
    "defensive = defensive[defensive['Position']!='GK']"
   ]
  },
  {
   "cell_type": "markdown",
   "id": "39e00762",
   "metadata": {},
   "source": [
    "**Выясним, какие клубы имеют лучших оборонительных игроков**"
   ]
  },
  {
   "cell_type": "markdown",
   "id": "ddb11ec0",
   "metadata": {},
   "source": [
    "Сгруппируем игроков по клубам и посчитаем суммарное число отборов и перехватов"
   ]
  },
  {
   "cell_type": "code",
   "execution_count": 23,
   "id": "bb9da759",
   "metadata": {},
   "outputs": [
    {
     "data": {
      "image/png": "[encoded data removed]",
      "text/plain": [
       "<Figure size 1000x500 with 1 Axes>"
      ]
     },
     "metadata": {},
     "output_type": "display_data"
    }
   ],
   "source": [
    "pivot = defensive.groupby(by='Club', as_index = False)['Tackles + internceptions'].sum().sort_values('Tackles + internceptions', ascending=False)\n",
    "\n",
    "plt.figure(figsize=(10, 5))\n",
    "sns.barplot(data=pivot.head(10), x='Club', y='Tackles + internceptions')\n",
    "plt.title('Лучшие команды по сумме отборов и перехватов')\n",
    "plt.xlabel('Клубы')\n",
    "plt.ylabel('Сумма отборов и перехватов')\n",
    "plt.xticks(rotation=15, fontsize=8)\n",
    "plt.show()"
   ]
  },
  {
   "cell_type": "markdown",
   "id": "6b1c1144",
   "metadata": {},
   "source": [
    "Итальянские команды умеют бороться на поле! *Inter* и *Milan* лучшие по сумме отборов и перехватов. Однако стоит учитывать, что какие-то команды провели меньше матчей, чем другие. Например, *Benfica* и *Bayern* провели на 3 матча меньше, чем *Manchester City*, но по числу отборов и перехватов опережают их"
   ]
  },
  {
   "cell_type": "markdown",
   "id": "14b63caa",
   "metadata": {},
   "source": [
    "**Выясним, какие клубы имеют больше успешных оборонительных действий за матч**"
   ]
  },
  {
   "cell_type": "markdown",
   "id": "76a58492",
   "metadata": {},
   "source": [
    "В сводную возьмем информацию о проведенных матчах и удачных отборах и перехватах"
   ]
  },
  {
   "cell_type": "code",
   "execution_count": 24,
   "id": "c9a4c21e",
   "metadata": {},
   "outputs": [
    {
     "data": {
      "image/png": "[encoded data removed]",
      "text/plain": [
       "<Figure size 1000x500 with 1 Axes>"
      ]
     },
     "metadata": {},
     "output_type": "display_data"
    }
   ],
   "source": [
    "pivot = pd.pivot_table(data=defensive, index='Club', values=['90s', 'Tackles + internceptions'], aggfunc={'90s' : sum,\n",
    "                                                                'Tackles + internceptions' : sum}).reset_index()\n",
    "pivot['Tkl + Int per 90s'] = pivot['Tackles + internceptions'] / pivot['90s']\n",
    "pivot.sort_values('Tkl + Int per 90s', ascending=False).head(10)\n",
    "\n",
    "plt.figure(figsize=(10, 5))\n",
    "sns.barplot(data=pivot.sort_values('Tkl + Int per 90s', ascending=False).head(10), x='Club', y='Tkl + Int per 90s')\n",
    "plt.title('Лучшие команды по сумме отборов и перехватов за матч на одного игрока')\n",
    "plt.xlabel('Клубы')\n",
    "plt.ylabel('Сумма отборов и перехватов за матч на игрока')\n",
    "plt.xticks(rotation=15, fontsize=8)\n",
    "plt.show()"
   ]
  },
  {
   "cell_type": "markdown",
   "id": "93620c63",
   "metadata": {},
   "source": [
    "*Inter* и *Milan* уже не в топ-10! По числу отборов за матч на игрока лидируют *Salzburg* и *Benfica*"
   ]
  },
  {
   "cell_type": "markdown",
   "id": "33957d11",
   "metadata": {},
   "source": [
    "**Посмотрим, влияет ли возраст игрока на успешную игру в обороне**"
   ]
  },
  {
   "cell_type": "markdown",
   "id": "551e38f1",
   "metadata": {},
   "source": [
    "Для сравнения будем использовать метрику *% of dribblers successfully tackled*, которая показывает процент успешных отборов"
   ]
  },
  {
   "cell_type": "markdown",
   "id": "d68a8db1",
   "metadata": {},
   "source": [
    "Создадим сводную таблицу"
   ]
  },
  {
   "cell_type": "code",
   "execution_count": 25,
   "id": "a34dd914",
   "metadata": {},
   "outputs": [
    {
     "data": {
      "image/png": "[encoded data removed]",
      "text/plain": [
       "<Figure size 1000x500 with 1 Axes>"
      ]
     },
     "metadata": {},
     "output_type": "display_data"
    }
   ],
   "source": [
    "pivot = pd.pivot_table(data=defensive, index=['Age'] , values='% of dribblers successfully tackled', aggfunc='mean').reset_index()\n",
    "\n",
    "plt.figure(figsize=(10, 5))\n",
    "sns.lineplot(data=pivot, x='Age', y='% of dribblers successfully tackled')\n",
    "plt.title('Зависимость процента успешных отборов от возраста')\n",
    "plt.xlabel('Возраст')\n",
    "plt.ylabel('Средний процент успешных отборов')\n",
    "plt.show()"
   ]
  },
  {
   "cell_type": "markdown",
   "id": "72a14222",
   "metadata": {},
   "source": [
    "Видим, что игроки до 20 лет имеют меньший процент успешных отборов, а вот игрокам старше 36 уже помогает опыт, единоборства выиграть у них все сложнее"
   ]
  },
  {
   "cell_type": "markdown",
   "id": "4d92335f",
   "metadata": {},
   "source": [
    "**Выберем лучших оборонительных игроков этого сезона Лиги Чемпионов**"
   ]
  },
  {
   "cell_type": "markdown",
   "id": "2ef73c77",
   "metadata": {},
   "source": [
    "Приоритетные показатели:<br>\n",
    "- *90s* - сыгранные матчи\n",
    "- *% of dribblers successfully tackled* - процент успешных отборов\n",
    "- *Tackles + internceptions* - отборы и перехваты"
   ]
  },
  {
   "cell_type": "markdown",
   "id": "49643c59",
   "metadata": {},
   "source": [
    "Выделим ключевые показатели, также добавим столбец, показывающий отборы и перехваты за один матч"
   ]
  },
  {
   "cell_type": "code",
   "execution_count": 26,
   "id": "fb1b0f7b",
   "metadata": {},
   "outputs": [
    {
     "data": {
      "text/plain": [
       "678"
      ]
     },
     "execution_count": 26,
     "metadata": {},
     "output_type": "execute_result"
    }
   ],
   "source": [
    "defensive_top = defensive.loc[:, ['Player', 'Nationality', 'Position', 'Club', 'Age', '90s', '% of dribblers successfully tackled',\n",
    "                        'Tackles + internceptions']]\n",
    "defensive_top['Tkl + Int per 90s'] = defensive_top['Tackles + internceptions'] / defensive_top['90s']\n",
    "len(defensive_top)"
   ]
  },
  {
   "cell_type": "markdown",
   "id": "8818cc40",
   "metadata": {},
   "source": [
    "Имеем 678 претендентов. Посмотрим, сколько в среденем матчей провели игроки"
   ]
  },
  {
   "cell_type": "code",
   "execution_count": 27,
   "id": "a1d23afe",
   "metadata": {},
   "outputs": [
    {
     "data": {
      "image/png": "[encoded data removed]",
      "text/plain": [
       "<Figure size 1000x500 with 1 Axes>"
      ]
     },
     "metadata": {},
     "output_type": "display_data"
    }
   ],
   "source": [
    "plt.figure(figsize=(10, 5))\n",
    "sns.boxplot(data=defensive_top, x='90s')\n",
    "plt.title('Распределение числа матчей')\n",
    "plt.xlabel('Число матчей')\n",
    "plt.show()"
   ]
  },
  {
   "cell_type": "markdown",
   "id": "cae41729",
   "metadata": {},
   "source": [
    "Удалим из данных тех, кто провел меньше 6 матчей"
   ]
  },
  {
   "cell_type": "code",
   "execution_count": 28,
   "id": "b4bf8ad5",
   "metadata": {},
   "outputs": [
    {
     "name": "stdout",
     "output_type": "stream",
     "text": [
      "Осталось 135 игрока, которые провели больше 6 матчей\n"
     ]
    }
   ],
   "source": [
    "defensive_top = defensive_top[defensive_top['90s']>= 6]\n",
    "print(f'Осталось {len(defensive_top)} игрока, которые провели больше 6 матчей')"
   ]
  },
  {
   "cell_type": "markdown",
   "id": "21968f4b",
   "metadata": {},
   "source": [
    "Посмотрим, сколько в среднем игроки совершали отборов и перехватов за матч"
   ]
  },
  {
   "cell_type": "code",
   "execution_count": 29,
   "id": "183f5390",
   "metadata": {},
   "outputs": [
    {
     "data": {
      "image/png": "[encoded data removed]",
      "text/plain": [
       "<Figure size 1000x500 with 1 Axes>"
      ]
     },
     "metadata": {},
     "output_type": "display_data"
    }
   ],
   "source": [
    "plt.figure(figsize=(10, 5))\n",
    "sns.boxplot(data=defensive_top, x='Tkl + Int per 90s')\n",
    "plt.title('Распределение числа отборов и перехватов за матч')\n",
    "plt.xlabel('Число перехватов и отборов за матч')\n",
    "plt.show()"
   ]
  },
  {
   "cell_type": "markdown",
   "id": "c87deb5f",
   "metadata": {},
   "source": [
    "Оставим тех, кто делал не менее 4 отборов и перехватов за матч"
   ]
  },
  {
   "cell_type": "code",
   "execution_count": 30,
   "id": "b4cf6e89",
   "metadata": {},
   "outputs": [
    {
     "name": "stdout",
     "output_type": "stream",
     "text": [
      "Осталось 16 игроков, которые перехватывали мяч не менее 4 раз за матч\n"
     ]
    }
   ],
   "source": [
    "defensive_top = defensive_top[defensive_top['Tkl + Int per 90s'] >= 4]\n",
    "print(f'Осталось {len(defensive_top)} игроков, которые перехватывали мяч не менее 4 раз за матч')"
   ]
  },
  {
   "cell_type": "markdown",
   "id": "223a798f",
   "metadata": {},
   "source": [
    "Отсортируем игроков по показателю *% of dribblers successfully tackled* - процент успешных отборов и выделим тех футболистов, у которых этот процент более 50%"
   ]
  },
  {
   "cell_type": "code",
   "execution_count": 31,
   "id": "49eff2f6",
   "metadata": {
    "scrolled": true
   },
   "outputs": [
    {
     "data": {
      "text/html": [
       "<div>\n",
       "<style scoped>\n",
       "    .dataframe tbody tr th:only-of-type {\n",
       "        vertical-align: middle;\n",
       "    }\n",
       "\n",
       "    .dataframe tbody tr th {\n",
       "        vertical-align: top;\n",
       "    }\n",
       "\n",
       "    .dataframe thead th {\n",
       "        text-align: right;\n",
       "    }\n",
       "</style>\n",
       "<table border=\"1\" class=\"dataframe\">\n",
       "  <thead>\n",
       "    <tr style=\"text-align: right;\">\n",
       "      <th></th>\n",
       "      <th>Player</th>\n",
       "      <th>Nationality</th>\n",
       "      <th>Position</th>\n",
       "      <th>Club</th>\n",
       "      <th>Age</th>\n",
       "      <th>90s</th>\n",
       "      <th>% of dribblers successfully tackled</th>\n",
       "      <th>Tackles + internceptions</th>\n",
       "      <th>Tkl + Int per 90s</th>\n",
       "    </tr>\n",
       "  </thead>\n",
       "  <tbody>\n",
       "    <tr>\n",
       "      <th>160</th>\n",
       "      <td>Amar Dedić</td>\n",
       "      <td>BIH</td>\n",
       "      <td>DF</td>\n",
       "      <td>RB Salzburg</td>\n",
       "      <td>19</td>\n",
       "      <td>6.0</td>\n",
       "      <td>83.3</td>\n",
       "      <td>28</td>\n",
       "      <td>4.666667</td>\n",
       "    </tr>\n",
       "    <tr>\n",
       "      <th>102</th>\n",
       "      <td>Emre Can</td>\n",
       "      <td>GER</td>\n",
       "      <td>MF</td>\n",
       "      <td>Dortmund</td>\n",
       "      <td>28</td>\n",
       "      <td>6.3</td>\n",
       "      <td>63.6</td>\n",
       "      <td>29</td>\n",
       "      <td>4.603175</td>\n",
       "    </tr>\n",
       "    <tr>\n",
       "      <th>152</th>\n",
       "      <td>Alphonso Davies</td>\n",
       "      <td>CAN</td>\n",
       "      <td>DF</td>\n",
       "      <td>Bayern Munich</td>\n",
       "      <td>21</td>\n",
       "      <td>6.7</td>\n",
       "      <td>60.0</td>\n",
       "      <td>30</td>\n",
       "      <td>4.477612</td>\n",
       "    </tr>\n",
       "    <tr>\n",
       "      <th>602</th>\n",
       "      <td>Nicolas Seiwald</td>\n",
       "      <td>AUT</td>\n",
       "      <td>MF</td>\n",
       "      <td>RB Salzburg</td>\n",
       "      <td>21</td>\n",
       "      <td>6.0</td>\n",
       "      <td>60.0</td>\n",
       "      <td>27</td>\n",
       "      <td>4.500000</td>\n",
       "    </tr>\n",
       "    <tr>\n",
       "      <th>625</th>\n",
       "      <td>Djibril Sow</td>\n",
       "      <td>SUI</td>\n",
       "      <td>MF</td>\n",
       "      <td>Eint Frankfurt</td>\n",
       "      <td>25</td>\n",
       "      <td>8.0</td>\n",
       "      <td>58.3</td>\n",
       "      <td>32</td>\n",
       "      <td>4.000000</td>\n",
       "    </tr>\n",
       "  </tbody>\n",
       "</table>\n",
       "</div>"
      ],
      "text/plain": [
       "              Player Nationality Position            Club  Age  90s  \\\n",
       "160       Amar Dedić         BIH       DF     RB Salzburg   19  6.0   \n",
       "102         Emre Can         GER       MF        Dortmund   28  6.3   \n",
       "152  Alphonso Davies         CAN       DF   Bayern Munich   21  6.7   \n",
       "602  Nicolas Seiwald         AUT       MF     RB Salzburg   21  6.0   \n",
       "625      Djibril Sow         SUI       MF  Eint Frankfurt   25  8.0   \n",
       "\n",
       "     % of dribblers successfully tackled  Tackles + internceptions  \\\n",
       "160                                 83.3                        28   \n",
       "102                                 63.6                        29   \n",
       "152                                 60.0                        30   \n",
       "602                                 60.0                        27   \n",
       "625                                 58.3                        32   \n",
       "\n",
       "     Tkl + Int per 90s  \n",
       "160           4.666667  \n",
       "102           4.603175  \n",
       "152           4.477612  \n",
       "602           4.500000  \n",
       "625           4.000000  "
      ]
     },
     "execution_count": 31,
     "metadata": {},
     "output_type": "execute_result"
    }
   ],
   "source": [
    "defensive_top[defensive_top['% of dribblers successfully tackled'] > 50].sort_values('% of dribblers successfully tackled', \n",
    "                                                                                     ascending=False)"
   ]
  },
  {
   "cell_type": "markdown",
   "id": "74a245ad",
   "metadata": {},
   "source": [
    "Вот они топ-5 игроков этого сезона ЛЧ по оборонительным действиям"
   ]
  },
  {
   "cell_type": "markdown",
   "id": "d54d8c0c",
   "metadata": {},
   "source": [
    "### Обостряющие действия\n",
    "<a id='shot'></a>"
   ]
  },
  {
   "cell_type": "markdown",
   "id": "b66c0e83",
   "metadata": {},
   "source": [
    "Загрузим датасет и посмотрим на него"
   ]
  },
  {
   "cell_type": "code",
   "execution_count": 32,
   "id": "f061c71f",
   "metadata": {
    "scrolled": true
   },
   "outputs": [
    {
     "name": "stdout",
     "output_type": "stream",
     "text": [
      "<class 'pandas.core.frame.DataFrame'>\n",
      "RangeIndex: 727 entries, 0 to 726\n",
      "Data columns (total 23 columns):\n",
      " #   Column          Non-Null Count  Dtype  \n",
      "---  ------          --------------  -----  \n",
      " 0   Player          727 non-null    object \n",
      " 1   Nationality     727 non-null    object \n",
      " 2   Position        727 non-null    object \n",
      " 3   Club            727 non-null    object \n",
      " 4   Age             727 non-null    int64  \n",
      " 5   Born            727 non-null    int64  \n",
      " 6   90s             727 non-null    float64\n",
      " 7   SCA             727 non-null    int64  \n",
      " 8   SCA/90          727 non-null    float64\n",
      " 9   SCA (PassLive)  727 non-null    int64  \n",
      " 10  SCA (PassDead)  727 non-null    int64  \n",
      " 11  SCA (TO)        727 non-null    int64  \n",
      " 12  SCA(Sh)         727 non-null    int64  \n",
      " 13  SCA(Fld)        727 non-null    int64  \n",
      " 14  SCA(Def)        727 non-null    int64  \n",
      " 15  GCA             727 non-null    int64  \n",
      " 16  GCA/90          727 non-null    float64\n",
      " 17  GCA (PassLive)  727 non-null    int64  \n",
      " 18  GCA (PassDead)  727 non-null    int64  \n",
      " 19  GCA (TO)        727 non-null    int64  \n",
      " 20  GCA (Sh)        727 non-null    int64  \n",
      " 21  GCA (Fld)       727 non-null    int64  \n",
      " 22  GCA (Def)       726 non-null    float64\n",
      "dtypes: float64(4), int64(15), object(4)\n",
      "memory usage: 130.8+ KB\n"
     ]
    }
   ],
   "source": [
    "goal_and_shot = pd.read_csv('ucl goal and shot creation.csv')\n",
    "goal_and_shot.info()"
   ]
  },
  {
   "cell_type": "markdown",
   "id": "c521b12f",
   "metadata": {},
   "source": [
    "Для анализа помимо информации об игркое нам будет достаточно всего 3 признаков:<br>\n",
    "- *90s* - сыгранные матчи\n",
    "- *SCA (Shot-Creating Actions)* - любые действие, которые способствуют тому, что команда наносит удар по воротам.\n",
    "- *GCA (Goal-Creating Actions)* - любые действия, приведшие к голу."
   ]
  },
  {
   "cell_type": "markdown",
   "id": "a957a55c",
   "metadata": {},
   "source": [
    "Выделим нужные нам столбцы и удалим остальные"
   ]
  },
  {
   "cell_type": "code",
   "execution_count": 33,
   "id": "36f18350",
   "metadata": {},
   "outputs": [
    {
     "data": {
      "text/plain": [
       "['Player', 'Nationality', 'Position', 'Club', 'Age', '90s', 'SCA', 'GCA']"
      ]
     },
     "execution_count": 33,
     "metadata": {},
     "output_type": "execute_result"
    }
   ],
   "source": [
    "cols = goal_and_shot.columns.tolist()\n",
    "\n",
    "good_cols = cols[:5] + cols[6:8] + [cols[15]]\n",
    "good_cols"
   ]
  },
  {
   "cell_type": "code",
   "execution_count": 34,
   "id": "c4e8a6a8",
   "metadata": {},
   "outputs": [
    {
     "name": "stdout",
     "output_type": "stream",
     "text": [
      "<class 'pandas.core.frame.DataFrame'>\n",
      "RangeIndex: 727 entries, 0 to 726\n",
      "Data columns (total 8 columns):\n",
      " #   Column       Non-Null Count  Dtype  \n",
      "---  ------       --------------  -----  \n",
      " 0   Player       727 non-null    object \n",
      " 1   Nationality  727 non-null    object \n",
      " 2   Position     727 non-null    object \n",
      " 3   Club         727 non-null    object \n",
      " 4   Age          727 non-null    int64  \n",
      " 5   90s          727 non-null    float64\n",
      " 6   SCA          727 non-null    int64  \n",
      " 7   GCA          727 non-null    int64  \n",
      "dtypes: float64(1), int64(3), object(4)\n",
      "memory usage: 45.6+ KB\n"
     ]
    }
   ],
   "source": [
    "goal_and_shot = goal_and_shot[good_cols]\n",
    "goal_and_shot.info()"
   ]
  },
  {
   "cell_type": "markdown",
   "id": "1ffa5fee",
   "metadata": {},
   "source": [
    "**Найдем лучших игроков по показателю *GCA***"
   ]
  },
  {
   "cell_type": "code",
   "execution_count": 35,
   "id": "4b4be59a",
   "metadata": {},
   "outputs": [
    {
     "data": {
      "text/html": [
       "<div>\n",
       "<style scoped>\n",
       "    .dataframe tbody tr th:only-of-type {\n",
       "        vertical-align: middle;\n",
       "    }\n",
       "\n",
       "    .dataframe tbody tr th {\n",
       "        vertical-align: top;\n",
       "    }\n",
       "\n",
       "    .dataframe thead th {\n",
       "        text-align: right;\n",
       "    }\n",
       "</style>\n",
       "<table border=\"1\" class=\"dataframe\">\n",
       "  <thead>\n",
       "    <tr style=\"text-align: right;\">\n",
       "      <th></th>\n",
       "      <th>Player</th>\n",
       "      <th>Nationality</th>\n",
       "      <th>Position</th>\n",
       "      <th>Club</th>\n",
       "      <th>Age</th>\n",
       "      <th>90s</th>\n",
       "      <th>SCA</th>\n",
       "      <th>GCA</th>\n",
       "    </tr>\n",
       "  </thead>\n",
       "  <tbody>\n",
       "    <tr>\n",
       "      <th>610</th>\n",
       "      <td>Rafa Silva</td>\n",
       "      <td>POR</td>\n",
       "      <td>MF</td>\n",
       "      <td>Benfica</td>\n",
       "      <td>29</td>\n",
       "      <td>9.1</td>\n",
       "      <td>48</td>\n",
       "      <td>10</td>\n",
       "    </tr>\n",
       "    <tr>\n",
       "      <th>422</th>\n",
       "      <td>Kylian Mbappé</td>\n",
       "      <td>FRA</td>\n",
       "      <td>FW</td>\n",
       "      <td>Paris S-G</td>\n",
       "      <td>23</td>\n",
       "      <td>7.2</td>\n",
       "      <td>28</td>\n",
       "      <td>8</td>\n",
       "    </tr>\n",
       "    <tr>\n",
       "      <th>364</th>\n",
       "      <td>Khvicha Kvaratskhelia</td>\n",
       "      <td>GEO</td>\n",
       "      <td>FW</td>\n",
       "      <td>Napoli</td>\n",
       "      <td>21</td>\n",
       "      <td>7.7</td>\n",
       "      <td>44</td>\n",
       "      <td>8</td>\n",
       "    </tr>\n",
       "    <tr>\n",
       "      <th>317</th>\n",
       "      <td>Vinicius Júnior</td>\n",
       "      <td>BRA</td>\n",
       "      <td>FW</td>\n",
       "      <td>Real Madrid</td>\n",
       "      <td>22</td>\n",
       "      <td>10.8</td>\n",
       "      <td>53</td>\n",
       "      <td>8</td>\n",
       "    </tr>\n",
       "    <tr>\n",
       "      <th>569</th>\n",
       "      <td>Rodrygo</td>\n",
       "      <td>BRA</td>\n",
       "      <td>FW</td>\n",
       "      <td>Real Madrid</td>\n",
       "      <td>21</td>\n",
       "      <td>9.1</td>\n",
       "      <td>32</td>\n",
       "      <td>8</td>\n",
       "    </tr>\n",
       "  </tbody>\n",
       "</table>\n",
       "</div>"
      ],
      "text/plain": [
       "                    Player Nationality Position         Club  Age   90s  SCA  \\\n",
       "610             Rafa Silva         POR       MF      Benfica   29   9.1   48   \n",
       "422          Kylian Mbappé         FRA       FW    Paris S-G   23   7.2   28   \n",
       "364  Khvicha Kvaratskhelia         GEO       FW       Napoli   21   7.7   44   \n",
       "317        Vinicius Júnior         BRA       FW  Real Madrid   22  10.8   53   \n",
       "569                Rodrygo         BRA       FW  Real Madrid   21   9.1   32   \n",
       "\n",
       "     GCA  \n",
       "610   10  \n",
       "422    8  \n",
       "364    8  \n",
       "317    8  \n",
       "569    8  "
      ]
     },
     "execution_count": 35,
     "metadata": {},
     "output_type": "execute_result"
    }
   ],
   "source": [
    "goal_and_shot.sort_values('GCA', ascending=False).head()"
   ]
  },
  {
   "cell_type": "markdown",
   "id": "62f6fc5f",
   "metadata": {},
   "source": [
    "*Rafa Silva* совершил больше всех действий, которые привели к голу"
   ]
  },
  {
   "cell_type": "markdown",
   "id": "f9d6fcc7",
   "metadata": {},
   "source": [
    "**Найдем лучших игроков по показателю *SCA***"
   ]
  },
  {
   "cell_type": "code",
   "execution_count": 36,
   "id": "5ff06748",
   "metadata": {},
   "outputs": [
    {
     "data": {
      "text/html": [
       "<div>\n",
       "<style scoped>\n",
       "    .dataframe tbody tr th:only-of-type {\n",
       "        vertical-align: middle;\n",
       "    }\n",
       "\n",
       "    .dataframe tbody tr th {\n",
       "        vertical-align: top;\n",
       "    }\n",
       "\n",
       "    .dataframe thead th {\n",
       "        text-align: right;\n",
       "    }\n",
       "</style>\n",
       "<table border=\"1\" class=\"dataframe\">\n",
       "  <thead>\n",
       "    <tr style=\"text-align: right;\">\n",
       "      <th></th>\n",
       "      <th>Player</th>\n",
       "      <th>Nationality</th>\n",
       "      <th>Position</th>\n",
       "      <th>Club</th>\n",
       "      <th>Age</th>\n",
       "      <th>90s</th>\n",
       "      <th>SCA</th>\n",
       "      <th>GCA</th>\n",
       "    </tr>\n",
       "  </thead>\n",
       "  <tbody>\n",
       "    <tr>\n",
       "      <th>251</th>\n",
       "      <td>Jack Grealish</td>\n",
       "      <td>ENG</td>\n",
       "      <td>FW</td>\n",
       "      <td>Manchester City</td>\n",
       "      <td>26</td>\n",
       "      <td>10.4</td>\n",
       "      <td>55</td>\n",
       "      <td>6</td>\n",
       "    </tr>\n",
       "    <tr>\n",
       "      <th>317</th>\n",
       "      <td>Vinicius Júnior</td>\n",
       "      <td>BRA</td>\n",
       "      <td>FW</td>\n",
       "      <td>Real Madrid</td>\n",
       "      <td>22</td>\n",
       "      <td>10.8</td>\n",
       "      <td>53</td>\n",
       "      <td>8</td>\n",
       "    </tr>\n",
       "    <tr>\n",
       "      <th>610</th>\n",
       "      <td>Rafa Silva</td>\n",
       "      <td>POR</td>\n",
       "      <td>MF</td>\n",
       "      <td>Benfica</td>\n",
       "      <td>29</td>\n",
       "      <td>9.1</td>\n",
       "      <td>48</td>\n",
       "      <td>10</td>\n",
       "    </tr>\n",
       "    <tr>\n",
       "      <th>364</th>\n",
       "      <td>Khvicha Kvaratskhelia</td>\n",
       "      <td>GEO</td>\n",
       "      <td>FW</td>\n",
       "      <td>Napoli</td>\n",
       "      <td>21</td>\n",
       "      <td>7.7</td>\n",
       "      <td>44</td>\n",
       "      <td>8</td>\n",
       "    </tr>\n",
       "    <tr>\n",
       "      <th>690</th>\n",
       "      <td>Federico Valverde</td>\n",
       "      <td>URU</td>\n",
       "      <td>MF,FW</td>\n",
       "      <td>Real Madrid</td>\n",
       "      <td>24</td>\n",
       "      <td>10.7</td>\n",
       "      <td>43</td>\n",
       "      <td>6</td>\n",
       "    </tr>\n",
       "  </tbody>\n",
       "</table>\n",
       "</div>"
      ],
      "text/plain": [
       "                    Player Nationality Position             Club  Age   90s  \\\n",
       "251          Jack Grealish         ENG       FW  Manchester City   26  10.4   \n",
       "317        Vinicius Júnior         BRA       FW      Real Madrid   22  10.8   \n",
       "610             Rafa Silva         POR       MF          Benfica   29   9.1   \n",
       "364  Khvicha Kvaratskhelia         GEO       FW           Napoli   21   7.7   \n",
       "690      Federico Valverde         URU    MF,FW      Real Madrid   24  10.7   \n",
       "\n",
       "     SCA  GCA  \n",
       "251   55    6  \n",
       "317   53    8  \n",
       "610   48   10  \n",
       "364   44    8  \n",
       "690   43    6  "
      ]
     },
     "execution_count": 36,
     "metadata": {},
     "output_type": "execute_result"
    }
   ],
   "source": [
    "goal_and_shot.sort_values('SCA', ascending=False).head()"
   ]
  },
  {
   "cell_type": "markdown",
   "id": "405d66c6",
   "metadata": {},
   "source": [
    "По действиям, которые привели к удару по воротам, первое место занимает *Jack Grealish*. Примечательно, что *Rafa Silva* входит в топ-3 и по этому показателю!"
   ]
  },
  {
   "cell_type": "markdown",
   "id": "7b5afc1e",
   "metadata": {},
   "source": [
    "**Вычислим самые обострающие игру позиции на поле**"
   ]
  },
  {
   "cell_type": "markdown",
   "id": "c2536e43",
   "metadata": {},
   "source": [
    "Построим круговую диаграмму, которая будет показывать, какую долю от всех обостряющих действий, совершила та или иная команда"
   ]
  },
  {
   "cell_type": "markdown",
   "id": "efb62046",
   "metadata": {},
   "source": [
    "Первым делом, сгруппируем данные по командам и суммарные *SCA* на команду и *90s*"
   ]
  },
  {
   "cell_type": "code",
   "execution_count": 72,
   "id": "6fb2ae82",
   "metadata": {
    "scrolled": true
   },
   "outputs": [],
   "source": [
    "pivot = pd.pivot_table(data=goal_and_shot, index='Position', values='SCA', aggfunc=sum).reset_index()"
   ]
  },
  {
   "cell_type": "markdown",
   "id": "7cc9a432",
   "metadata": {},
   "source": [
    "Построим круговую диаграмму"
   ]
  },
  {
   "cell_type": "code",
   "execution_count": 73,
   "id": "902b247f",
   "metadata": {},
   "outputs": [
    {
     "data": {
      "image/png": "[encoded data removed]",
      "text/plain": [
       "<Figure size 1000x500 with 1 Axes>"
      ]
     },
     "metadata": {},
     "output_type": "display_data"
    }
   ],
   "source": [
    "mpl.rcParams['font.size'] = 8\n",
    "\n",
    "labels=pivot['Position'].unique()\n",
    "sizes=pivot['SCA']\n",
    "\n",
    "fig, ax = plt.subplots(1,1, figsize=(10,5))\n",
    "ax.set_title('Доли обостряющих действий по позициям на поле', fontsize=12)\n",
    "ax.pie(sizes, labels=labels, autopct='%1.1f%%', pctdistance=1.25, labeldistance=0.7, startangle=90)\n",
    "plt.show()"
   ]
  },
  {
   "cell_type": "markdown",
   "id": "849c5b15",
   "metadata": {},
   "source": [
    "Ярко выраженные полузащитники и нападающие (как неожиданно!) создали больше всего моментов, котоыре привели к ударам по воротам"
   ]
  },
  {
   "cell_type": "markdown",
   "id": "85b40c42",
   "metadata": {},
   "source": [
    "### Вывод\n",
    "<a id='conclusion'></a>"
   ]
  },
  {
   "cell_type": "markdown",
   "id": "0bdc7a43",
   "metadata": {},
   "source": [
    "Нам были даны датасеты, содержащие информацию о Лиге Чемпионов 2022-2023, а точнее, о действиях голкиперов, защитников и обостряющих действиях игроков команд. На каждом этапе мы **считывали данные**, проводили **предобработку** и **исследовательский анализ**, который включал построение сводных таблиц и разнообразных графиков. На протяжении всего анализа мы формулировали **выводы** по каждому датасету. **Например:**\n",
    "- **Голкиперы**\n",
    "    - *Andre Onana* рекордсмен по количеству сыгранных матчей в Лиге Чемпионов 2022-2023 среди голкиперов\n",
    "    - Увидели, что возраст голкипера заметно не влияет на успешность его игры\n",
    "- **Защитные действия**\n",
    "    - По числу отборов за матч на игрока лидируют *Salzburg* и *Benfica*\n",
    "    - В среднем игроки совершали около 2,7 отборов и перехватов за один матч\n",
    "- **Атакующие действия**\n",
    "    - *Rafa Silva* из *Benfica* совершил больше всех действий, которые привели к голам\n",
    "    - По действиям, которые привели к удару по воротам, первое место занимает *Jack Grealish*"
   ]
  }
 ],
 "metadata": {
  "kernelspec": {
   "display_name": "Python 3 (ipykernel)",
   "language": "python",
   "name": "python3"
  },
  "language_info": {
   "codemirror_mode": {
    "name": "ipython",
    "version": 3
   },
   "file_extension": ".py",
   "mimetype": "text/x-python",
   "name": "python",
   "nbconvert_exporter": "python",
   "pygments_lexer": "ipython3",
   "version": "3.9.13"
  }
 },
 "nbformat": 4,
 "nbformat_minor": 5
}
