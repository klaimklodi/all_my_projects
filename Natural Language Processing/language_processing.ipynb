{
 "cells": [
  {
   "cell_type": "markdown",
   "id": "43c5b4ec",
   "metadata": {},
   "source": [
    "## Обработка естественного языка"
   ]
  },
  {
   "cell_type": "markdown",
   "id": "0e582591",
   "metadata": {},
   "source": [
    "### Задача проекта"
   ]
  },
  {
   "cell_type": "markdown",
   "id": "2f3eca3a",
   "metadata": {},
   "source": [
    "Научиться предсказывать, какие публикации в Twitter являются сообщениями о катастрофах, а какие нет."
   ]
  },
  {
   "cell_type": "markdown",
   "id": "5d81e2ca",
   "metadata": {},
   "source": [
    "### Этапы проекта"
   ]
  },
  {
   "cell_type": "markdown",
   "id": "c1cb7784",
   "metadata": {},
   "source": [
    "- [Загрузка данных и общая информация](#download)\n",
    "- [Предобработка данных](#preprocessing)\n",
    "- [Исследовательский анализ](#analysis)\n",
    "- [Построение модели](#model)\n",
    "- [Вывод](#conclusion)"
   ]
  },
  {
   "cell_type": "markdown",
   "id": "57660cf1",
   "metadata": {},
   "source": [
    "### Загрузка данных и общая информация\n",
    "<a id='download'></a>"
   ]
  },
  {
   "cell_type": "markdown",
   "id": "9726c6d6",
   "metadata": {},
   "source": [
    "**Импортируем необходимые библиотеки**"
   ]
  },
  {
   "cell_type": "code",
   "execution_count": 128,
   "id": "eb75795d",
   "metadata": {},
   "outputs": [],
   "source": [
    "import pandas as pd\n",
    "import matplotlib.pyplot as plt\n",
    "import seaborn as sns\n",
    "from sklearn import feature_extraction, linear_model, model_selection, preprocessing\n",
    "import numpy as np\n",
    "import nltk\n",
    "import re\n",
    "from nltk.corpus import stopwords\n",
    "from sklearn.linear_model import LogisticRegression\n",
    "from sklearn.ensemble import AdaBoostClassifier\n",
    "from sklearn import svm"
   ]
  },
  {
   "cell_type": "markdown",
   "id": "08728864",
   "metadata": {},
   "source": [
    "**Загрузим датасеты и посмотрим на них**"
   ]
  },
  {
   "cell_type": "markdown",
   "id": "f3771245",
   "metadata": {},
   "source": [
    "Тренировочный датасет"
   ]
  },
  {
   "cell_type": "code",
   "execution_count": 129,
   "id": "af741224",
   "metadata": {},
   "outputs": [
    {
     "name": "stdout",
     "output_type": "stream",
     "text": [
      "<class 'pandas.core.frame.DataFrame'>\n",
      "Int64Index: 7613 entries, 1 to 10873\n",
      "Data columns (total 4 columns):\n",
      " #   Column    Non-Null Count  Dtype \n",
      "---  ------    --------------  ----- \n",
      " 0   keyword   7552 non-null   object\n",
      " 1   location  5080 non-null   object\n",
      " 2   text      7613 non-null   object\n",
      " 3   target    7613 non-null   int64 \n",
      "dtypes: int64(1), object(3)\n",
      "memory usage: 297.4+ KB\n"
     ]
    }
   ],
   "source": [
    "data_train = pd.read_csv('train.csv', index_col = 'id')\n",
    "data_train.info()"
   ]
  },
  {
   "cell_type": "markdown",
   "id": "c67d71d5",
   "metadata": {},
   "source": [
    "Тестовый датасет"
   ]
  },
  {
   "cell_type": "code",
   "execution_count": 130,
   "id": "5b32d0ac",
   "metadata": {},
   "outputs": [
    {
     "name": "stdout",
     "output_type": "stream",
     "text": [
      "<class 'pandas.core.frame.DataFrame'>\n",
      "Int64Index: 3263 entries, 0 to 10875\n",
      "Data columns (total 3 columns):\n",
      " #   Column    Non-Null Count  Dtype \n",
      "---  ------    --------------  ----- \n",
      " 0   keyword   3237 non-null   object\n",
      " 1   location  2158 non-null   object\n",
      " 2   text      3263 non-null   object\n",
      "dtypes: object(3)\n",
      "memory usage: 102.0+ KB\n"
     ]
    }
   ],
   "source": [
    "data_test = pd.read_csv('test.csv', index_col = 'id')\n",
    "data_test.info()"
   ]
  },
  {
   "cell_type": "markdown",
   "id": "b6d7c3ca",
   "metadata": {},
   "source": [
    "Видим, что в данных есть пропуски, а с типами данных все в порядке. Займемся предобработкой"
   ]
  },
  {
   "cell_type": "markdown",
   "id": "ecf0f1c4",
   "metadata": {},
   "source": [
    "### Предобработка данных\n",
    "<a id='preprocessing'></a>"
   ]
  },
  {
   "cell_type": "code",
   "execution_count": 131,
   "id": "97a17f6c",
   "metadata": {},
   "outputs": [
    {
     "data": {
      "text/html": [
       "<div>\n",
       "<style scoped>\n",
       "    .dataframe tbody tr th:only-of-type {\n",
       "        vertical-align: middle;\n",
       "    }\n",
       "\n",
       "    .dataframe tbody tr th {\n",
       "        vertical-align: top;\n",
       "    }\n",
       "\n",
       "    .dataframe thead th {\n",
       "        text-align: right;\n",
       "    }\n",
       "</style>\n",
       "<table border=\"1\" class=\"dataframe\">\n",
       "  <thead>\n",
       "    <tr style=\"text-align: right;\">\n",
       "      <th></th>\n",
       "      <th>keyword</th>\n",
       "      <th>location</th>\n",
       "      <th>text</th>\n",
       "      <th>target</th>\n",
       "    </tr>\n",
       "    <tr>\n",
       "      <th>id</th>\n",
       "      <th></th>\n",
       "      <th></th>\n",
       "      <th></th>\n",
       "      <th></th>\n",
       "    </tr>\n",
       "  </thead>\n",
       "  <tbody>\n",
       "    <tr>\n",
       "      <th>1</th>\n",
       "      <td>NaN</td>\n",
       "      <td>NaN</td>\n",
       "      <td>Our Deeds are the Reason of this #earthquake M...</td>\n",
       "      <td>1</td>\n",
       "    </tr>\n",
       "    <tr>\n",
       "      <th>4</th>\n",
       "      <td>NaN</td>\n",
       "      <td>NaN</td>\n",
       "      <td>Forest fire near La Ronge Sask. Canada</td>\n",
       "      <td>1</td>\n",
       "    </tr>\n",
       "    <tr>\n",
       "      <th>5</th>\n",
       "      <td>NaN</td>\n",
       "      <td>NaN</td>\n",
       "      <td>All residents asked to 'shelter in place' are ...</td>\n",
       "      <td>1</td>\n",
       "    </tr>\n",
       "    <tr>\n",
       "      <th>6</th>\n",
       "      <td>NaN</td>\n",
       "      <td>NaN</td>\n",
       "      <td>13,000 people receive #wildfires evacuation or...</td>\n",
       "      <td>1</td>\n",
       "    </tr>\n",
       "    <tr>\n",
       "      <th>7</th>\n",
       "      <td>NaN</td>\n",
       "      <td>NaN</td>\n",
       "      <td>Just got sent this photo from Ruby #Alaska as ...</td>\n",
       "      <td>1</td>\n",
       "    </tr>\n",
       "  </tbody>\n",
       "</table>\n",
       "</div>"
      ],
      "text/plain": [
       "   keyword location                                               text  target\n",
       "id                                                                            \n",
       "1      NaN      NaN  Our Deeds are the Reason of this #earthquake M...       1\n",
       "4      NaN      NaN             Forest fire near La Ronge Sask. Canada       1\n",
       "5      NaN      NaN  All residents asked to 'shelter in place' are ...       1\n",
       "6      NaN      NaN  13,000 people receive #wildfires evacuation or...       1\n",
       "7      NaN      NaN  Just got sent this photo from Ruby #Alaska as ...       1"
      ]
     },
     "execution_count": 131,
     "metadata": {},
     "output_type": "execute_result"
    }
   ],
   "source": [
    "data_train.head()"
   ]
  },
  {
   "cell_type": "markdown",
   "id": "a8dcb11a",
   "metadata": {},
   "source": [
    "Пропуски в колонках *keyword* и *location*. По описанию пропуски в них допускаются, заменим их на \"No\""
   ]
  },
  {
   "cell_type": "code",
   "execution_count": 132,
   "id": "a5631994",
   "metadata": {},
   "outputs": [],
   "source": [
    "cols = ['keyword', 'location']\n",
    "\n",
    "data_train[cols] = data_train[cols].fillna('No')\n",
    "data_test[cols] = data_test[cols].fillna('No')"
   ]
  },
  {
   "cell_type": "markdown",
   "id": "e6f3129e",
   "metadata": {},
   "source": [
    "Пропуски заполнены, переходим к построению модели"
   ]
  },
  {
   "cell_type": "markdown",
   "id": "9899e5e7",
   "metadata": {},
   "source": [
    "### Исследовательский анализ\n",
    "<a id='analysis'></a>"
   ]
  },
  {
   "cell_type": "markdown",
   "id": "e88df965",
   "metadata": {},
   "source": [
    "Создадим столбец, показывающий длину текста в твите"
   ]
  },
  {
   "cell_type": "code",
   "execution_count": 133,
   "id": "c5d70518",
   "metadata": {},
   "outputs": [
    {
     "data": {
      "image/png": "[encoded data removed]",
      "text/plain": [
       "<Figure size 1000x500 with 1 Axes>"
      ]
     },
     "metadata": {},
     "output_type": "display_data"
    }
   ],
   "source": [
    "data_train['len_text'] = data_train['text'].apply(len)\n",
    "\n",
    "plt.figure(figsize=(10, 5))\n",
    "plt.title('Распределение длины твитов')\n",
    "sns.boxplot(data=data_train, x='target', y='len_text')\n",
    "plt.show()"
   ]
  },
  {
   "cell_type": "markdown",
   "id": "ff6ee299",
   "metadata": {},
   "source": [
    "Видим, что средняя длина твитов, посвященных катастрофам чуть больше, чем прочих"
   ]
  },
  {
   "cell_type": "markdown",
   "id": "3d54d016",
   "metadata": {},
   "source": [
    "**Посмотрим, какие ключевые слова встречаются в твитах**"
   ]
  },
  {
   "cell_type": "code",
   "execution_count": 134,
   "id": "48e8e3d0",
   "metadata": {},
   "outputs": [],
   "source": [
    "d = data_train[data_train['keyword']!='No'].value_counts('keyword').sort_values(ascending=False).reset_index().head(10)\n",
    "d = d.rename(columns={0:'count'})"
   ]
  },
  {
   "cell_type": "code",
   "execution_count": 135,
   "id": "85c2beef",
   "metadata": {
    "scrolled": false
   },
   "outputs": [
    {
     "data": {
      "text/plain": [
       "[]"
      ]
     },
     "execution_count": 135,
     "metadata": {},
     "output_type": "execute_result"
    },
    {
     "data": {
      "image/png": "[encoded data removed]",
      "text/plain": [
       "<Figure size 1200x500 with 1 Axes>"
      ]
     },
     "metadata": {},
     "output_type": "display_data"
    }
   ],
   "source": [
    "fig, axs = plt.subplots(figsize=(12,5))\n",
    "\n",
    "axs.set_title('Топ 10 самых частых ключевых слов')\n",
    "sns.barplot(data=d, x='keyword', y='count', ax=axs)\n",
    "\n",
    "plt.plot()"
   ]
  },
  {
   "cell_type": "markdown",
   "id": "59269130",
   "metadata": {},
   "source": [
    "Есть теория, что если твит имеет ключевое слово, то он посвящен катастрофе. Проверим это"
   ]
  },
  {
   "cell_type": "code",
   "execution_count": 136,
   "id": "a74a536e",
   "metadata": {},
   "outputs": [
    {
     "data": {
      "text/plain": [
       "0    4323\n",
       "1    3229\n",
       "Name: target, dtype: int64"
      ]
     },
     "execution_count": 136,
     "metadata": {},
     "output_type": "execute_result"
    }
   ],
   "source": [
    "data_train[data_train['keyword'] != 'No']['target'].value_counts()"
   ]
  },
  {
   "cell_type": "markdown",
   "id": "79ac1148",
   "metadata": {},
   "source": [
    "Теория оказалось ложной. Более 4000 твитов с ключевым словом не связаны с катастрофами. По каждому ключевому слову посчитаем долю твитов, рассказывающих о катасрофах, от общего количества твитов с этим ключевым словом"
   ]
  },
  {
   "cell_type": "markdown",
   "id": "e3c79f28",
   "metadata": {},
   "source": [
    "Напишем функцию, для создания сводной таблицы"
   ]
  },
  {
   "cell_type": "code",
   "execution_count": 137,
   "id": "c78d4b37",
   "metadata": {},
   "outputs": [],
   "source": [
    "def pivot_share(param):\n",
    "    share = pd.pivot_table(data=data_train, index=param, values=['target'], aggfunc='count').\\\n",
    "                                rename(columns={'target':'count'}).reset_index()\n",
    "    share['disaster_count'] = share[param].apply(lambda x: data_train[data_train[param]==x]['target'].sum())\n",
    "    share['percent_of_disaster_tweets'] = share['disaster_count']*100 / share['count'] \n",
    "    display(share.loc[:, [param, 'count', 'percent_of_disaster_tweets']].sort_values(['count', 'percent_of_disaster_tweets'], \\\n",
    "                                                                                     ascending=False).head(10))"
   ]
  },
  {
   "cell_type": "markdown",
   "id": "043d0f2b",
   "metadata": {},
   "source": [
    "Выведем доли"
   ]
  },
  {
   "cell_type": "code",
   "execution_count": 138,
   "id": "aa006090",
   "metadata": {},
   "outputs": [
    {
     "data": {
      "text/html": [
       "<div>\n",
       "<style scoped>\n",
       "    .dataframe tbody tr th:only-of-type {\n",
       "        vertical-align: middle;\n",
       "    }\n",
       "\n",
       "    .dataframe tbody tr th {\n",
       "        vertical-align: top;\n",
       "    }\n",
       "\n",
       "    .dataframe thead th {\n",
       "        text-align: right;\n",
       "    }\n",
       "</style>\n",
       "<table border=\"1\" class=\"dataframe\">\n",
       "  <thead>\n",
       "    <tr style=\"text-align: right;\">\n",
       "      <th></th>\n",
       "      <th>keyword</th>\n",
       "      <th>count</th>\n",
       "      <th>percent_of_disaster_tweets</th>\n",
       "    </tr>\n",
       "  </thead>\n",
       "  <tbody>\n",
       "    <tr>\n",
       "      <th>0</th>\n",
       "      <td>No</td>\n",
       "      <td>61</td>\n",
       "      <td>68.852459</td>\n",
       "    </tr>\n",
       "    <tr>\n",
       "      <th>105</th>\n",
       "      <td>fatalities</td>\n",
       "      <td>45</td>\n",
       "      <td>57.777778</td>\n",
       "    </tr>\n",
       "    <tr>\n",
       "      <th>64</th>\n",
       "      <td>deluge</td>\n",
       "      <td>42</td>\n",
       "      <td>14.285714</td>\n",
       "    </tr>\n",
       "    <tr>\n",
       "      <th>9</th>\n",
       "      <td>armageddon</td>\n",
       "      <td>42</td>\n",
       "      <td>11.904762</td>\n",
       "    </tr>\n",
       "    <tr>\n",
       "      <th>58</th>\n",
       "      <td>damage</td>\n",
       "      <td>41</td>\n",
       "      <td>46.341463</td>\n",
       "    </tr>\n",
       "    <tr>\n",
       "      <th>178</th>\n",
       "      <td>sinking</td>\n",
       "      <td>41</td>\n",
       "      <td>19.512195</td>\n",
       "    </tr>\n",
       "    <tr>\n",
       "      <th>120</th>\n",
       "      <td>harm</td>\n",
       "      <td>41</td>\n",
       "      <td>9.756098</td>\n",
       "    </tr>\n",
       "    <tr>\n",
       "      <th>30</th>\n",
       "      <td>body%20bags</td>\n",
       "      <td>41</td>\n",
       "      <td>2.439024</td>\n",
       "    </tr>\n",
       "    <tr>\n",
       "      <th>154</th>\n",
       "      <td>outbreak</td>\n",
       "      <td>40</td>\n",
       "      <td>97.500000</td>\n",
       "    </tr>\n",
       "    <tr>\n",
       "      <th>96</th>\n",
       "      <td>evacuate</td>\n",
       "      <td>40</td>\n",
       "      <td>62.500000</td>\n",
       "    </tr>\n",
       "  </tbody>\n",
       "</table>\n",
       "</div>"
      ],
      "text/plain": [
       "         keyword  count  percent_of_disaster_tweets\n",
       "0             No     61                   68.852459\n",
       "105   fatalities     45                   57.777778\n",
       "64        deluge     42                   14.285714\n",
       "9     armageddon     42                   11.904762\n",
       "58        damage     41                   46.341463\n",
       "178      sinking     41                   19.512195\n",
       "120         harm     41                    9.756098\n",
       "30   body%20bags     41                    2.439024\n",
       "154     outbreak     40                   97.500000\n",
       "96      evacuate     40                   62.500000"
      ]
     },
     "metadata": {},
     "output_type": "display_data"
    }
   ],
   "source": [
    "pivot_share('keyword')"
   ]
  },
  {
   "cell_type": "markdown",
   "id": "d7e0db35",
   "metadata": {},
   "source": [
    "70% твитов без ключевого слова повествуют о катастрофах, а твиты с ключевым словом *body%20bags* поти во всех случаях не связаны с природными происшествиями"
   ]
  },
  {
   "cell_type": "markdown",
   "id": "5231ae95",
   "metadata": {},
   "source": [
    "**Посмотрим, какие локации встречаются чаще всего**"
   ]
  },
  {
   "cell_type": "code",
   "execution_count": 139,
   "id": "c406dfe4",
   "metadata": {},
   "outputs": [
    {
     "data": {
      "text/plain": [
       "[]"
      ]
     },
     "execution_count": 139,
     "metadata": {},
     "output_type": "execute_result"
    },
    {
     "data": {
      "image/png": "[encoded data removed]",
      "text/plain": [
       "<Figure size 1200x500 with 1 Axes>"
      ]
     },
     "metadata": {},
     "output_type": "display_data"
    }
   ],
   "source": [
    "d = data_train[data_train['location']!='No'].value_counts('location').sort_values(ascending=False).reset_index().head(10)\n",
    "d = d.rename(columns={0:'count'})\n",
    "\n",
    "\n",
    "plt.figure(figsize=(12,5))\n",
    "\n",
    "plt.title('Топ 10 самых частых локаций')\n",
    "sns.barplot(data=d, x='location', y='count')\n",
    "\n",
    "plt.plot()"
   ]
  },
  {
   "cell_type": "markdown",
   "id": "78412750",
   "metadata": {},
   "source": [
    "Проверим долю твитов, рассказывающих о катастрофах, по каждой локации"
   ]
  },
  {
   "cell_type": "code",
   "execution_count": 140,
   "id": "05d0233a",
   "metadata": {},
   "outputs": [
    {
     "data": {
      "text/html": [
       "<div>\n",
       "<style scoped>\n",
       "    .dataframe tbody tr th:only-of-type {\n",
       "        vertical-align: middle;\n",
       "    }\n",
       "\n",
       "    .dataframe tbody tr th {\n",
       "        vertical-align: top;\n",
       "    }\n",
       "\n",
       "    .dataframe thead th {\n",
       "        text-align: right;\n",
       "    }\n",
       "</style>\n",
       "<table border=\"1\" class=\"dataframe\">\n",
       "  <thead>\n",
       "    <tr style=\"text-align: right;\">\n",
       "      <th></th>\n",
       "      <th>location</th>\n",
       "      <th>count</th>\n",
       "      <th>percent_of_disaster_tweets</th>\n",
       "    </tr>\n",
       "  </thead>\n",
       "  <tbody>\n",
       "    <tr>\n",
       "      <th>1866</th>\n",
       "      <td>No</td>\n",
       "      <td>2533</td>\n",
       "      <td>42.439795</td>\n",
       "    </tr>\n",
       "    <tr>\n",
       "      <th>2644</th>\n",
       "      <td>USA</td>\n",
       "      <td>104</td>\n",
       "      <td>64.423077</td>\n",
       "    </tr>\n",
       "    <tr>\n",
       "      <th>1826</th>\n",
       "      <td>New York</td>\n",
       "      <td>71</td>\n",
       "      <td>22.535211</td>\n",
       "    </tr>\n",
       "    <tr>\n",
       "      <th>2663</th>\n",
       "      <td>United States</td>\n",
       "      <td>50</td>\n",
       "      <td>54.000000</td>\n",
       "    </tr>\n",
       "    <tr>\n",
       "      <th>1506</th>\n",
       "      <td>London</td>\n",
       "      <td>45</td>\n",
       "      <td>35.555556</td>\n",
       "    </tr>\n",
       "    <tr>\n",
       "      <th>587</th>\n",
       "      <td>Canada</td>\n",
       "      <td>29</td>\n",
       "      <td>44.827586</td>\n",
       "    </tr>\n",
       "    <tr>\n",
       "      <th>1860</th>\n",
       "      <td>Nigeria</td>\n",
       "      <td>28</td>\n",
       "      <td>78.571429</td>\n",
       "    </tr>\n",
       "    <tr>\n",
       "      <th>2633</th>\n",
       "      <td>UK</td>\n",
       "      <td>27</td>\n",
       "      <td>59.259259</td>\n",
       "    </tr>\n",
       "    <tr>\n",
       "      <th>1534</th>\n",
       "      <td>Los Angeles, CA</td>\n",
       "      <td>26</td>\n",
       "      <td>30.769231</td>\n",
       "    </tr>\n",
       "    <tr>\n",
       "      <th>1262</th>\n",
       "      <td>India</td>\n",
       "      <td>24</td>\n",
       "      <td>83.333333</td>\n",
       "    </tr>\n",
       "  </tbody>\n",
       "</table>\n",
       "</div>"
      ],
      "text/plain": [
       "             location  count  percent_of_disaster_tweets\n",
       "1866               No   2533                   42.439795\n",
       "2644              USA    104                   64.423077\n",
       "1826         New York     71                   22.535211\n",
       "2663    United States     50                   54.000000\n",
       "1506           London     45                   35.555556\n",
       "587            Canada     29                   44.827586\n",
       "1860          Nigeria     28                   78.571429\n",
       "2633               UK     27                   59.259259\n",
       "1534  Los Angeles, CA     26                   30.769231\n",
       "1262            India     24                   83.333333"
      ]
     },
     "metadata": {},
     "output_type": "display_data"
    }
   ],
   "source": [
    "pivot_share('location')"
   ]
  },
  {
   "cell_type": "markdown",
   "id": "649ffdc6",
   "metadata": {},
   "source": [
    "83% твитов из Индии связаны с катастрофами, невеселая статистика"
   ]
  },
  {
   "cell_type": "markdown",
   "id": "9aa8afe9",
   "metadata": {},
   "source": [
    "### Построение модели \n",
    "<a id='model'></a>"
   ]
  },
  {
   "cell_type": "markdown",
   "id": "81f7bb99",
   "metadata": {},
   "source": [
    "Векторизация"
   ]
  },
  {
   "cell_type": "code",
   "execution_count": 141,
   "id": "63db2df0",
   "metadata": {},
   "outputs": [],
   "source": [
    "count_vectorizer = feature_extraction.text.CountVectorizer()\n",
    "\n",
    "train_vectors = count_vectorizer.fit_transform(data_train[\"text\"])\n",
    "test_vectors = count_vectorizer.transform(data_test[\"text\"])"
   ]
  },
  {
   "cell_type": "markdown",
   "id": "117eb928",
   "metadata": {},
   "source": [
    "Зададим модель, будем использовать LogisticRegression"
   ]
  },
  {
   "cell_type": "code",
   "execution_count": 157,
   "id": "bb2cf1d6",
   "metadata": {},
   "outputs": [
    {
     "data": {
      "text/plain": [
       "array([0.62683824, 0.5567704 , 0.62258065, 0.59245961, 0.728125  ])"
      ]
     },
     "execution_count": 157,
     "metadata": {},
     "output_type": "execute_result"
    }
   ],
   "source": [
    "clf = LogisticRegression(max_iter=1000)\n",
    "# clf = svm.SVC()\n",
    "scores = model_selection.cross_val_score(clf, train_vectors, data_train[\"target\"], cv=5, scoring=\"f1\")\n",
    "scores"
   ]
  },
  {
   "cell_type": "markdown",
   "id": "96be6699",
   "metadata": {},
   "source": [
    "Обучим модель и получим предсказания"
   ]
  },
  {
   "cell_type": "code",
   "execution_count": 145,
   "id": "4db3ee9b",
   "metadata": {},
   "outputs": [
    {
     "data": {
      "text/plain": [
       "array([0, 0, 1, ..., 1, 1, 0], dtype=int64)"
      ]
     },
     "execution_count": 145,
     "metadata": {},
     "output_type": "execute_result"
    }
   ],
   "source": [
    "clf.fit(train_vectors, data_train[\"target\"])\n",
    "preds = clf.predict(test_vectors)\n",
    "preds"
   ]
  },
  {
   "cell_type": "markdown",
   "id": "0eee3f27",
   "metadata": {},
   "source": [
    "Запишем предсказания в файл"
   ]
  },
  {
   "cell_type": "code",
   "execution_count": 146,
   "id": "9887b553",
   "metadata": {},
   "outputs": [],
   "source": [
    "output = pd.DataFrame({'id': data_test.index, 'target': preds})\n",
    "output.to_csv('my_submission.csv', index=False)"
   ]
  },
  {
   "cell_type": "markdown",
   "id": "39e63ede",
   "metadata": {},
   "source": [
    "### Вывод\n",
    "<a id='conclusion'></a>"
   ]
  },
  {
   "cell_type": "markdown",
   "id": "40629b8d",
   "metadata": {},
   "source": [
    "Перед нами стояла задача **логистической классификации**. Для начала мы **загрузили** датасеты и ознакомились с **общей информацией**. Тренировочный датасет содержал базу твитов, с их текстом, ключевым словом (если указано), локацией (если указано). Значение в столбце *target* равно 1, если твит связан с катастрофой, и равно 0 в противном случае. На этапе **предобработки данных** мы заполнили пропуски, а затем занялись **исследовательским анализом** данных. Оказалось, что 70% твитов без ключевого слова повествуют о катастрофах, а 83% твитов из Индии связаны с катастрофами. На следующем этапе мы построили **модель** (LogisticRegression) для предсказания принадлежности твитов в тестовом датасете."
   ]
  }
 ],
 "metadata": {
  "kernelspec": {
   "display_name": "Python 3 (ipykernel)",
   "language": "python",
   "name": "python3"
  },
  "language_info": {
   "codemirror_mode": {
    "name": "ipython",
    "version": 3
   },
   "file_extension": ".py",
   "mimetype": "text/x-python",
   "name": "python",
   "nbconvert_exporter": "python",
   "pygments_lexer": "ipython3",
   "version": "3.9.13"
  }
 },
 "nbformat": 4,
 "nbformat_minor": 5
}
