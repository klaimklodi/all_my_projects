{
 "cells": [
  {
   "cell_type": "markdown",
   "id": "680fc01b",
   "metadata": {},
   "source": [
    "## Проект по SQL"
   ]
  },
  {
   "cell_type": "markdown",
   "id": "dedee6f7",
   "metadata": {},
   "source": [
    "### Цель проекта"
   ]
  },
  {
   "cell_type": "markdown",
   "id": "7cdb0a61",
   "metadata": {},
   "source": [
    "Наша задача — проанализировать базу данных."
   ]
  },
  {
   "cell_type": "markdown",
   "id": "a77f4fa6",
   "metadata": {},
   "source": [
    "### Этапы проекта"
   ]
  },
  {
   "cell_type": "markdown",
   "id": "3135c05a",
   "metadata": {},
   "source": [
    "- [Подключиться к базе данных](#connection)\n",
    "- [Исследовать таблицы — вывести первые строки](#researching)\n",
    "- [Анализ базы данных](#analysis)\n",
    "    - Посчитать, сколько книг вышло после 1 января 2000 года\n",
    "    - Для каждой книги посчитать количество обзоров и среднюю оценку\n",
    "    - Определить издательство, которое выпустило наибольшее число книг толще 50 страниц — так мы исключим из анализа брошюры\n",
    "    - Определить автора с самой высокой средней оценкой книг — учитываем только книги с 50 и более оценками\n",
    "    - Посчитать среднее количество обзоров от пользователей, которые поставили больше 50 оценок.\n",
    "- [Вывод](#conclusion)"
   ]
  },
  {
   "cell_type": "markdown",
   "id": "9d2af3a6",
   "metadata": {},
   "source": [
    "### Схема данных\n",
    "<a id=\"scheme\"></a>"
   ]
  },
  {
   "cell_type": "markdown",
   "id": "315ced6b",
   "metadata": {},
   "source": [
    "<img src=\"https://pictures.s3.yandex.net/resources/scheme_1589269096.png\">"
   ]
  },
  {
   "cell_type": "markdown",
   "id": "f70d5bbd",
   "metadata": {},
   "source": [
    "### Подключение к базе данных\n",
    "<a id=\"connection\"></a>"
   ]
  },
  {
   "cell_type": "markdown",
   "id": "bea5cb5f",
   "metadata": {},
   "source": [
    "Подключимся к базе данных"
   ]
  },
  {
   "cell_type": "code",
   "execution_count": 1,
   "id": "9acba63c",
   "metadata": {},
   "outputs": [],
   "source": [
    "import pandas as pd\n",
    "from sqlalchemy import create_engine "
   ]
  },
  {
   "cell_type": "code",
   "execution_count": 2,
   "id": "eaf61f98",
   "metadata": {},
   "outputs": [],
   "source": [
    "db_config = {'user': '',\n",
    "'pwd': '',\n",
    "'host': '',\n",
    "'port': , \n",
    "'db': ''}   #удалил в целях безопасности"
   ]
  },
  {
   "cell_type": "code",
   "execution_count": 3,
   "id": "ef8c9e2d",
   "metadata": {},
   "outputs": [],
   "source": [
    "connection_string = 'postgresql://{}:{}@{}:{}/{}'.format(db_config['user'],\n",
    " db_config['pwd'],\n",
    " db_config['host'],\n",
    " db_config['port'],\n",
    " db_config['db']) "
   ]
  },
  {
   "cell_type": "code",
   "execution_count": 4,
   "id": "3f04bfaf",
   "metadata": {},
   "outputs": [],
   "source": [
    "engine = create_engine(connection_string, connect_args={'sslmode':'require'})"
   ]
  },
  {
   "cell_type": "code",
   "execution_count": 5,
   "id": "edaf6fed",
   "metadata": {},
   "outputs": [],
   "source": [
    "query = \"SELECT * FROM books LIMIT 10\""
   ]
  },
  {
   "cell_type": "code",
   "execution_count": 6,
   "id": "0b78a82f",
   "metadata": {},
   "outputs": [
    {
     "data": {
      "text/html": [
       "<div>\n",
       "<style scoped>\n",
       "    .dataframe tbody tr th:only-of-type {\n",
       "        vertical-align: middle;\n",
       "    }\n",
       "\n",
       "    .dataframe tbody tr th {\n",
       "        vertical-align: top;\n",
       "    }\n",
       "\n",
       "    .dataframe thead th {\n",
       "        text-align: right;\n",
       "    }\n",
       "</style>\n",
       "<table border=\"1\" class=\"dataframe\">\n",
       "  <thead>\n",
       "    <tr style=\"text-align: right;\">\n",
       "      <th></th>\n",
       "      <th>author_id</th>\n",
       "      <th>title</th>\n",
       "      <th>num_pages</th>\n",
       "      <th>publication_date</th>\n",
       "      <th>publisher_id</th>\n",
       "    </tr>\n",
       "    <tr>\n",
       "      <th>book_id</th>\n",
       "      <th></th>\n",
       "      <th></th>\n",
       "      <th></th>\n",
       "      <th></th>\n",
       "      <th></th>\n",
       "    </tr>\n",
       "  </thead>\n",
       "  <tbody>\n",
       "    <tr>\n",
       "      <th>1</th>\n",
       "      <td>546</td>\n",
       "      <td>'Salem's Lot</td>\n",
       "      <td>594</td>\n",
       "      <td>2005-11-01</td>\n",
       "      <td>93</td>\n",
       "    </tr>\n",
       "    <tr>\n",
       "      <th>2</th>\n",
       "      <td>465</td>\n",
       "      <td>1 000 Places to See Before You Die</td>\n",
       "      <td>992</td>\n",
       "      <td>2003-05-22</td>\n",
       "      <td>336</td>\n",
       "    </tr>\n",
       "    <tr>\n",
       "      <th>3</th>\n",
       "      <td>407</td>\n",
       "      <td>13 Little Blue Envelopes (Little Blue Envelope...</td>\n",
       "      <td>322</td>\n",
       "      <td>2010-12-21</td>\n",
       "      <td>135</td>\n",
       "    </tr>\n",
       "    <tr>\n",
       "      <th>4</th>\n",
       "      <td>82</td>\n",
       "      <td>1491: New Revelations of the Americas Before C...</td>\n",
       "      <td>541</td>\n",
       "      <td>2006-10-10</td>\n",
       "      <td>309</td>\n",
       "    </tr>\n",
       "    <tr>\n",
       "      <th>5</th>\n",
       "      <td>125</td>\n",
       "      <td>1776</td>\n",
       "      <td>386</td>\n",
       "      <td>2006-07-04</td>\n",
       "      <td>268</td>\n",
       "    </tr>\n",
       "    <tr>\n",
       "      <th>6</th>\n",
       "      <td>257</td>\n",
       "      <td>1st to Die (Women's Murder Club  #1)</td>\n",
       "      <td>424</td>\n",
       "      <td>2005-05-20</td>\n",
       "      <td>116</td>\n",
       "    </tr>\n",
       "    <tr>\n",
       "      <th>7</th>\n",
       "      <td>258</td>\n",
       "      <td>2nd Chance (Women's Murder Club  #2)</td>\n",
       "      <td>400</td>\n",
       "      <td>2005-05-20</td>\n",
       "      <td>116</td>\n",
       "    </tr>\n",
       "    <tr>\n",
       "      <th>8</th>\n",
       "      <td>260</td>\n",
       "      <td>4th of July (Women's Murder Club  #4)</td>\n",
       "      <td>448</td>\n",
       "      <td>2006-06-01</td>\n",
       "      <td>318</td>\n",
       "    </tr>\n",
       "    <tr>\n",
       "      <th>9</th>\n",
       "      <td>563</td>\n",
       "      <td>A Beautiful Mind</td>\n",
       "      <td>461</td>\n",
       "      <td>2002-02-04</td>\n",
       "      <td>104</td>\n",
       "    </tr>\n",
       "    <tr>\n",
       "      <th>10</th>\n",
       "      <td>445</td>\n",
       "      <td>A Bend in the Road</td>\n",
       "      <td>341</td>\n",
       "      <td>2005-04-01</td>\n",
       "      <td>116</td>\n",
       "    </tr>\n",
       "  </tbody>\n",
       "</table>\n",
       "</div>"
      ],
      "text/plain": [
       "         author_id                                              title  \\\n",
       "book_id                                                                 \n",
       "1              546                                       'Salem's Lot   \n",
       "2              465                 1 000 Places to See Before You Die   \n",
       "3              407  13 Little Blue Envelopes (Little Blue Envelope...   \n",
       "4               82  1491: New Revelations of the Americas Before C...   \n",
       "5              125                                               1776   \n",
       "6              257               1st to Die (Women's Murder Club  #1)   \n",
       "7              258               2nd Chance (Women's Murder Club  #2)   \n",
       "8              260              4th of July (Women's Murder Club  #4)   \n",
       "9              563                                   A Beautiful Mind   \n",
       "10             445                                 A Bend in the Road   \n",
       "\n",
       "         num_pages publication_date  publisher_id  \n",
       "book_id                                            \n",
       "1              594       2005-11-01            93  \n",
       "2              992       2003-05-22           336  \n",
       "3              322       2010-12-21           135  \n",
       "4              541       2006-10-10           309  \n",
       "5              386       2006-07-04           268  \n",
       "6              424       2005-05-20           116  \n",
       "7              400       2005-05-20           116  \n",
       "8              448       2006-06-01           318  \n",
       "9              461       2002-02-04           104  \n",
       "10             341       2005-04-01           116  "
      ]
     },
     "execution_count": 6,
     "metadata": {},
     "output_type": "execute_result"
    }
   ],
   "source": [
    "pd.io.sql.read_sql(query, con = engine, index_col='book_id') "
   ]
  },
  {
   "cell_type": "markdown",
   "id": "11ca248c",
   "metadata": {},
   "source": [
    "Мы успешно подключились к базе данных. Выведем все таблицы для проверки"
   ]
  },
  {
   "cell_type": "markdown",
   "id": "4bf1901f",
   "metadata": {},
   "source": [
    "### Исследуем все таблицы\n",
    "<a id=\"researching\">"
   ]
  },
  {
   "cell_type": "markdown",
   "id": "f8259092",
   "metadata": {},
   "source": [
    "Для удобства напишем функцию, которая выводит наш запрос"
   ]
  },
  {
   "cell_type": "code",
   "execution_count": 7,
   "id": "b76e8c50",
   "metadata": {},
   "outputs": [],
   "source": [
    "def return_sql(query):\n",
    "    return pd.io.sql.read_sql(query, con = engine, parse_dates=['publication_date'])"
   ]
  },
  {
   "cell_type": "markdown",
   "id": "b3a55234",
   "metadata": {},
   "source": [
    "Запишем названия наших таблиц в список, а затем пройдемся по нему с вызовом функции"
   ]
  },
  {
   "cell_type": "code",
   "execution_count": 8,
   "id": "ad89369d",
   "metadata": {
    "scrolled": true
   },
   "outputs": [
    {
     "data": {
      "text/html": [
       "<div>\n",
       "<style scoped>\n",
       "    .dataframe tbody tr th:only-of-type {\n",
       "        vertical-align: middle;\n",
       "    }\n",
       "\n",
       "    .dataframe tbody tr th {\n",
       "        vertical-align: top;\n",
       "    }\n",
       "\n",
       "    .dataframe thead th {\n",
       "        text-align: right;\n",
       "    }\n",
       "</style>\n",
       "<table border=\"1\" class=\"dataframe\">\n",
       "  <thead>\n",
       "    <tr style=\"text-align: right;\">\n",
       "      <th></th>\n",
       "      <th>book_id</th>\n",
       "      <th>author_id</th>\n",
       "      <th>title</th>\n",
       "      <th>num_pages</th>\n",
       "      <th>publication_date</th>\n",
       "      <th>publisher_id</th>\n",
       "    </tr>\n",
       "  </thead>\n",
       "  <tbody>\n",
       "    <tr>\n",
       "      <th>0</th>\n",
       "      <td>1</td>\n",
       "      <td>546</td>\n",
       "      <td>'Salem's Lot</td>\n",
       "      <td>594</td>\n",
       "      <td>2005-11-01</td>\n",
       "      <td>93</td>\n",
       "    </tr>\n",
       "    <tr>\n",
       "      <th>1</th>\n",
       "      <td>2</td>\n",
       "      <td>465</td>\n",
       "      <td>1 000 Places to See Before You Die</td>\n",
       "      <td>992</td>\n",
       "      <td>2003-05-22</td>\n",
       "      <td>336</td>\n",
       "    </tr>\n",
       "    <tr>\n",
       "      <th>2</th>\n",
       "      <td>3</td>\n",
       "      <td>407</td>\n",
       "      <td>13 Little Blue Envelopes (Little Blue Envelope...</td>\n",
       "      <td>322</td>\n",
       "      <td>2010-12-21</td>\n",
       "      <td>135</td>\n",
       "    </tr>\n",
       "    <tr>\n",
       "      <th>3</th>\n",
       "      <td>4</td>\n",
       "      <td>82</td>\n",
       "      <td>1491: New Revelations of the Americas Before C...</td>\n",
       "      <td>541</td>\n",
       "      <td>2006-10-10</td>\n",
       "      <td>309</td>\n",
       "    </tr>\n",
       "    <tr>\n",
       "      <th>4</th>\n",
       "      <td>5</td>\n",
       "      <td>125</td>\n",
       "      <td>1776</td>\n",
       "      <td>386</td>\n",
       "      <td>2006-07-04</td>\n",
       "      <td>268</td>\n",
       "    </tr>\n",
       "    <tr>\n",
       "      <th>5</th>\n",
       "      <td>6</td>\n",
       "      <td>257</td>\n",
       "      <td>1st to Die (Women's Murder Club  #1)</td>\n",
       "      <td>424</td>\n",
       "      <td>2005-05-20</td>\n",
       "      <td>116</td>\n",
       "    </tr>\n",
       "    <tr>\n",
       "      <th>6</th>\n",
       "      <td>7</td>\n",
       "      <td>258</td>\n",
       "      <td>2nd Chance (Women's Murder Club  #2)</td>\n",
       "      <td>400</td>\n",
       "      <td>2005-05-20</td>\n",
       "      <td>116</td>\n",
       "    </tr>\n",
       "    <tr>\n",
       "      <th>7</th>\n",
       "      <td>8</td>\n",
       "      <td>260</td>\n",
       "      <td>4th of July (Women's Murder Club  #4)</td>\n",
       "      <td>448</td>\n",
       "      <td>2006-06-01</td>\n",
       "      <td>318</td>\n",
       "    </tr>\n",
       "    <tr>\n",
       "      <th>8</th>\n",
       "      <td>9</td>\n",
       "      <td>563</td>\n",
       "      <td>A Beautiful Mind</td>\n",
       "      <td>461</td>\n",
       "      <td>2002-02-04</td>\n",
       "      <td>104</td>\n",
       "    </tr>\n",
       "    <tr>\n",
       "      <th>9</th>\n",
       "      <td>10</td>\n",
       "      <td>445</td>\n",
       "      <td>A Bend in the Road</td>\n",
       "      <td>341</td>\n",
       "      <td>2005-04-01</td>\n",
       "      <td>116</td>\n",
       "    </tr>\n",
       "  </tbody>\n",
       "</table>\n",
       "</div>"
      ],
      "text/plain": [
       "   book_id  author_id                                              title  \\\n",
       "0        1        546                                       'Salem's Lot   \n",
       "1        2        465                 1 000 Places to See Before You Die   \n",
       "2        3        407  13 Little Blue Envelopes (Little Blue Envelope...   \n",
       "3        4         82  1491: New Revelations of the Americas Before C...   \n",
       "4        5        125                                               1776   \n",
       "5        6        257               1st to Die (Women's Murder Club  #1)   \n",
       "6        7        258               2nd Chance (Women's Murder Club  #2)   \n",
       "7        8        260              4th of July (Women's Murder Club  #4)   \n",
       "8        9        563                                   A Beautiful Mind   \n",
       "9       10        445                                 A Bend in the Road   \n",
       "\n",
       "   num_pages publication_date  publisher_id  \n",
       "0        594       2005-11-01            93  \n",
       "1        992       2003-05-22           336  \n",
       "2        322       2010-12-21           135  \n",
       "3        541       2006-10-10           309  \n",
       "4        386       2006-07-04           268  \n",
       "5        424       2005-05-20           116  \n",
       "6        400       2005-05-20           116  \n",
       "7        448       2006-06-01           318  \n",
       "8        461       2002-02-04           104  \n",
       "9        341       2005-04-01           116  "
      ]
     },
     "metadata": {},
     "output_type": "display_data"
    },
    {
     "data": {
      "text/html": [
       "<div>\n",
       "<style scoped>\n",
       "    .dataframe tbody tr th:only-of-type {\n",
       "        vertical-align: middle;\n",
       "    }\n",
       "\n",
       "    .dataframe tbody tr th {\n",
       "        vertical-align: top;\n",
       "    }\n",
       "\n",
       "    .dataframe thead th {\n",
       "        text-align: right;\n",
       "    }\n",
       "</style>\n",
       "<table border=\"1\" class=\"dataframe\">\n",
       "  <thead>\n",
       "    <tr style=\"text-align: right;\">\n",
       "      <th></th>\n",
       "      <th>author_id</th>\n",
       "      <th>author</th>\n",
       "    </tr>\n",
       "  </thead>\n",
       "  <tbody>\n",
       "    <tr>\n",
       "      <th>0</th>\n",
       "      <td>1</td>\n",
       "      <td>A.S. Byatt</td>\n",
       "    </tr>\n",
       "    <tr>\n",
       "      <th>1</th>\n",
       "      <td>2</td>\n",
       "      <td>Aesop/Laura Harris/Laura Gibbs</td>\n",
       "    </tr>\n",
       "    <tr>\n",
       "      <th>2</th>\n",
       "      <td>3</td>\n",
       "      <td>Agatha Christie</td>\n",
       "    </tr>\n",
       "    <tr>\n",
       "      <th>3</th>\n",
       "      <td>4</td>\n",
       "      <td>Alan Brennert</td>\n",
       "    </tr>\n",
       "    <tr>\n",
       "      <th>4</th>\n",
       "      <td>5</td>\n",
       "      <td>Alan Moore/David   Lloyd</td>\n",
       "    </tr>\n",
       "    <tr>\n",
       "      <th>5</th>\n",
       "      <td>6</td>\n",
       "      <td>Alan Paton</td>\n",
       "    </tr>\n",
       "    <tr>\n",
       "      <th>6</th>\n",
       "      <td>7</td>\n",
       "      <td>Albert Camus/Justin O'Brien</td>\n",
       "    </tr>\n",
       "    <tr>\n",
       "      <th>7</th>\n",
       "      <td>8</td>\n",
       "      <td>Aldous Huxley</td>\n",
       "    </tr>\n",
       "    <tr>\n",
       "      <th>8</th>\n",
       "      <td>9</td>\n",
       "      <td>Aldous Huxley/Christopher Hitchens</td>\n",
       "    </tr>\n",
       "    <tr>\n",
       "      <th>9</th>\n",
       "      <td>10</td>\n",
       "      <td>Aleksandr Solzhenitsyn/H.T. Willetts</td>\n",
       "    </tr>\n",
       "  </tbody>\n",
       "</table>\n",
       "</div>"
      ],
      "text/plain": [
       "   author_id                                author\n",
       "0          1                            A.S. Byatt\n",
       "1          2        Aesop/Laura Harris/Laura Gibbs\n",
       "2          3                       Agatha Christie\n",
       "3          4                         Alan Brennert\n",
       "4          5              Alan Moore/David   Lloyd\n",
       "5          6                            Alan Paton\n",
       "6          7           Albert Camus/Justin O'Brien\n",
       "7          8                         Aldous Huxley\n",
       "8          9    Aldous Huxley/Christopher Hitchens\n",
       "9         10  Aleksandr Solzhenitsyn/H.T. Willetts"
      ]
     },
     "metadata": {},
     "output_type": "display_data"
    },
    {
     "data": {
      "text/html": [
       "<div>\n",
       "<style scoped>\n",
       "    .dataframe tbody tr th:only-of-type {\n",
       "        vertical-align: middle;\n",
       "    }\n",
       "\n",
       "    .dataframe tbody tr th {\n",
       "        vertical-align: top;\n",
       "    }\n",
       "\n",
       "    .dataframe thead th {\n",
       "        text-align: right;\n",
       "    }\n",
       "</style>\n",
       "<table border=\"1\" class=\"dataframe\">\n",
       "  <thead>\n",
       "    <tr style=\"text-align: right;\">\n",
       "      <th></th>\n",
       "      <th>rating_id</th>\n",
       "      <th>book_id</th>\n",
       "      <th>username</th>\n",
       "      <th>rating</th>\n",
       "    </tr>\n",
       "  </thead>\n",
       "  <tbody>\n",
       "    <tr>\n",
       "      <th>0</th>\n",
       "      <td>1</td>\n",
       "      <td>1</td>\n",
       "      <td>ryanfranco</td>\n",
       "      <td>4</td>\n",
       "    </tr>\n",
       "    <tr>\n",
       "      <th>1</th>\n",
       "      <td>2</td>\n",
       "      <td>1</td>\n",
       "      <td>grantpatricia</td>\n",
       "      <td>2</td>\n",
       "    </tr>\n",
       "    <tr>\n",
       "      <th>2</th>\n",
       "      <td>3</td>\n",
       "      <td>1</td>\n",
       "      <td>brandtandrea</td>\n",
       "      <td>5</td>\n",
       "    </tr>\n",
       "    <tr>\n",
       "      <th>3</th>\n",
       "      <td>4</td>\n",
       "      <td>2</td>\n",
       "      <td>lorichen</td>\n",
       "      <td>3</td>\n",
       "    </tr>\n",
       "    <tr>\n",
       "      <th>4</th>\n",
       "      <td>5</td>\n",
       "      <td>2</td>\n",
       "      <td>mariokeller</td>\n",
       "      <td>2</td>\n",
       "    </tr>\n",
       "    <tr>\n",
       "      <th>5</th>\n",
       "      <td>6</td>\n",
       "      <td>3</td>\n",
       "      <td>johnsonamanda</td>\n",
       "      <td>4</td>\n",
       "    </tr>\n",
       "    <tr>\n",
       "      <th>6</th>\n",
       "      <td>7</td>\n",
       "      <td>3</td>\n",
       "      <td>scotttamara</td>\n",
       "      <td>5</td>\n",
       "    </tr>\n",
       "    <tr>\n",
       "      <th>7</th>\n",
       "      <td>8</td>\n",
       "      <td>3</td>\n",
       "      <td>lesliegibbs</td>\n",
       "      <td>5</td>\n",
       "    </tr>\n",
       "    <tr>\n",
       "      <th>8</th>\n",
       "      <td>9</td>\n",
       "      <td>4</td>\n",
       "      <td>abbottjames</td>\n",
       "      <td>5</td>\n",
       "    </tr>\n",
       "    <tr>\n",
       "      <th>9</th>\n",
       "      <td>10</td>\n",
       "      <td>4</td>\n",
       "      <td>valenciaanne</td>\n",
       "      <td>4</td>\n",
       "    </tr>\n",
       "  </tbody>\n",
       "</table>\n",
       "</div>"
      ],
      "text/plain": [
       "   rating_id  book_id       username  rating\n",
       "0          1        1     ryanfranco       4\n",
       "1          2        1  grantpatricia       2\n",
       "2          3        1   brandtandrea       5\n",
       "3          4        2       lorichen       3\n",
       "4          5        2    mariokeller       2\n",
       "5          6        3  johnsonamanda       4\n",
       "6          7        3    scotttamara       5\n",
       "7          8        3    lesliegibbs       5\n",
       "8          9        4    abbottjames       5\n",
       "9         10        4   valenciaanne       4"
      ]
     },
     "metadata": {},
     "output_type": "display_data"
    },
    {
     "data": {
      "text/html": [
       "<div>\n",
       "<style scoped>\n",
       "    .dataframe tbody tr th:only-of-type {\n",
       "        vertical-align: middle;\n",
       "    }\n",
       "\n",
       "    .dataframe tbody tr th {\n",
       "        vertical-align: top;\n",
       "    }\n",
       "\n",
       "    .dataframe thead th {\n",
       "        text-align: right;\n",
       "    }\n",
       "</style>\n",
       "<table border=\"1\" class=\"dataframe\">\n",
       "  <thead>\n",
       "    <tr style=\"text-align: right;\">\n",
       "      <th></th>\n",
       "      <th>review_id</th>\n",
       "      <th>book_id</th>\n",
       "      <th>username</th>\n",
       "      <th>text</th>\n",
       "    </tr>\n",
       "  </thead>\n",
       "  <tbody>\n",
       "    <tr>\n",
       "      <th>0</th>\n",
       "      <td>1</td>\n",
       "      <td>1</td>\n",
       "      <td>brandtandrea</td>\n",
       "      <td>Mention society tell send professor analysis. ...</td>\n",
       "    </tr>\n",
       "    <tr>\n",
       "      <th>1</th>\n",
       "      <td>2</td>\n",
       "      <td>1</td>\n",
       "      <td>ryanfranco</td>\n",
       "      <td>Foot glass pretty audience hit themselves. Amo...</td>\n",
       "    </tr>\n",
       "    <tr>\n",
       "      <th>2</th>\n",
       "      <td>3</td>\n",
       "      <td>2</td>\n",
       "      <td>lorichen</td>\n",
       "      <td>Listen treat keep worry. Miss husband tax but ...</td>\n",
       "    </tr>\n",
       "    <tr>\n",
       "      <th>3</th>\n",
       "      <td>4</td>\n",
       "      <td>3</td>\n",
       "      <td>johnsonamanda</td>\n",
       "      <td>Finally month interesting blue could nature cu...</td>\n",
       "    </tr>\n",
       "    <tr>\n",
       "      <th>4</th>\n",
       "      <td>5</td>\n",
       "      <td>3</td>\n",
       "      <td>scotttamara</td>\n",
       "      <td>Nation purpose heavy give wait song will. List...</td>\n",
       "    </tr>\n",
       "    <tr>\n",
       "      <th>5</th>\n",
       "      <td>6</td>\n",
       "      <td>3</td>\n",
       "      <td>lesliegibbs</td>\n",
       "      <td>Analysis no several cause international.</td>\n",
       "    </tr>\n",
       "    <tr>\n",
       "      <th>6</th>\n",
       "      <td>7</td>\n",
       "      <td>4</td>\n",
       "      <td>valenciaanne</td>\n",
       "      <td>One there cost another. Say type save. With pe...</td>\n",
       "    </tr>\n",
       "    <tr>\n",
       "      <th>7</th>\n",
       "      <td>8</td>\n",
       "      <td>4</td>\n",
       "      <td>abbottjames</td>\n",
       "      <td>Within enough mother. There at system full rec...</td>\n",
       "    </tr>\n",
       "    <tr>\n",
       "      <th>8</th>\n",
       "      <td>9</td>\n",
       "      <td>5</td>\n",
       "      <td>npowers</td>\n",
       "      <td>Thank now focus realize economy focus fly. Ite...</td>\n",
       "    </tr>\n",
       "    <tr>\n",
       "      <th>9</th>\n",
       "      <td>10</td>\n",
       "      <td>5</td>\n",
       "      <td>staylor</td>\n",
       "      <td>Game push lot reduce where remember. Including...</td>\n",
       "    </tr>\n",
       "  </tbody>\n",
       "</table>\n",
       "</div>"
      ],
      "text/plain": [
       "   review_id  book_id       username  \\\n",
       "0          1        1   brandtandrea   \n",
       "1          2        1     ryanfranco   \n",
       "2          3        2       lorichen   \n",
       "3          4        3  johnsonamanda   \n",
       "4          5        3    scotttamara   \n",
       "5          6        3    lesliegibbs   \n",
       "6          7        4   valenciaanne   \n",
       "7          8        4    abbottjames   \n",
       "8          9        5        npowers   \n",
       "9         10        5        staylor   \n",
       "\n",
       "                                                text  \n",
       "0  Mention society tell send professor analysis. ...  \n",
       "1  Foot glass pretty audience hit themselves. Amo...  \n",
       "2  Listen treat keep worry. Miss husband tax but ...  \n",
       "3  Finally month interesting blue could nature cu...  \n",
       "4  Nation purpose heavy give wait song will. List...  \n",
       "5           Analysis no several cause international.  \n",
       "6  One there cost another. Say type save. With pe...  \n",
       "7  Within enough mother. There at system full rec...  \n",
       "8  Thank now focus realize economy focus fly. Ite...  \n",
       "9  Game push lot reduce where remember. Including...  "
      ]
     },
     "metadata": {},
     "output_type": "display_data"
    },
    {
     "data": {
      "text/html": [
       "<div>\n",
       "<style scoped>\n",
       "    .dataframe tbody tr th:only-of-type {\n",
       "        vertical-align: middle;\n",
       "    }\n",
       "\n",
       "    .dataframe tbody tr th {\n",
       "        vertical-align: top;\n",
       "    }\n",
       "\n",
       "    .dataframe thead th {\n",
       "        text-align: right;\n",
       "    }\n",
       "</style>\n",
       "<table border=\"1\" class=\"dataframe\">\n",
       "  <thead>\n",
       "    <tr style=\"text-align: right;\">\n",
       "      <th></th>\n",
       "      <th>publisher_id</th>\n",
       "      <th>publisher</th>\n",
       "    </tr>\n",
       "  </thead>\n",
       "  <tbody>\n",
       "    <tr>\n",
       "      <th>0</th>\n",
       "      <td>1</td>\n",
       "      <td>Ace</td>\n",
       "    </tr>\n",
       "    <tr>\n",
       "      <th>1</th>\n",
       "      <td>2</td>\n",
       "      <td>Ace Book</td>\n",
       "    </tr>\n",
       "    <tr>\n",
       "      <th>2</th>\n",
       "      <td>3</td>\n",
       "      <td>Ace Books</td>\n",
       "    </tr>\n",
       "    <tr>\n",
       "      <th>3</th>\n",
       "      <td>4</td>\n",
       "      <td>Ace Hardcover</td>\n",
       "    </tr>\n",
       "    <tr>\n",
       "      <th>4</th>\n",
       "      <td>5</td>\n",
       "      <td>Addison Wesley Publishing Company</td>\n",
       "    </tr>\n",
       "    <tr>\n",
       "      <th>5</th>\n",
       "      <td>6</td>\n",
       "      <td>Aladdin</td>\n",
       "    </tr>\n",
       "    <tr>\n",
       "      <th>6</th>\n",
       "      <td>7</td>\n",
       "      <td>Aladdin Paperbacks</td>\n",
       "    </tr>\n",
       "    <tr>\n",
       "      <th>7</th>\n",
       "      <td>8</td>\n",
       "      <td>Albin Michel</td>\n",
       "    </tr>\n",
       "    <tr>\n",
       "      <th>8</th>\n",
       "      <td>9</td>\n",
       "      <td>Alfred A. Knopf</td>\n",
       "    </tr>\n",
       "    <tr>\n",
       "      <th>9</th>\n",
       "      <td>10</td>\n",
       "      <td>Alfred A. Knopf Books for Young Readers</td>\n",
       "    </tr>\n",
       "  </tbody>\n",
       "</table>\n",
       "</div>"
      ],
      "text/plain": [
       "   publisher_id                                publisher\n",
       "0             1                                      Ace\n",
       "1             2                                 Ace Book\n",
       "2             3                                Ace Books\n",
       "3             4                            Ace Hardcover\n",
       "4             5        Addison Wesley Publishing Company\n",
       "5             6                                  Aladdin\n",
       "6             7                       Aladdin Paperbacks\n",
       "7             8                             Albin Michel\n",
       "8             9                          Alfred A. Knopf\n",
       "9            10  Alfred A. Knopf Books for Young Readers"
      ]
     },
     "metadata": {},
     "output_type": "display_data"
    }
   ],
   "source": [
    "tables = ['books', 'authors', 'ratings', 'reviews', 'publishers']\n",
    "for table in tables:\n",
    "    display(return_sql(f'SELECT * FROM {table} LIMIT 10'))"
   ]
  },
  {
   "cell_type": "markdown",
   "id": "d4d901d4",
   "metadata": {},
   "source": [
    "Мы просмотрели все таблицы, они соответствуют схеме данных. Можем переходить к анализу БД"
   ]
  },
  {
   "cell_type": "markdown",
   "id": "5593cd9b",
   "metadata": {},
   "source": [
    "### Анализ БД\n",
    "<a id=\"analysis\">"
   ]
  },
  {
   "cell_type": "markdown",
   "id": "ea6f400a",
   "metadata": {},
   "source": [
    "**1) Посчитаем, сколько книг вышло после 1 января 2000 года**<br>\n",
    "[Посмотреть схему БД](#scheme)"
   ]
  },
  {
   "cell_type": "code",
   "execution_count": 9,
   "id": "36a9e83d",
   "metadata": {},
   "outputs": [
    {
     "data": {
      "text/html": [
       "<div>\n",
       "<style scoped>\n",
       "    .dataframe tbody tr th:only-of-type {\n",
       "        vertical-align: middle;\n",
       "    }\n",
       "\n",
       "    .dataframe tbody tr th {\n",
       "        vertical-align: top;\n",
       "    }\n",
       "\n",
       "    .dataframe thead th {\n",
       "        text-align: right;\n",
       "    }\n",
       "</style>\n",
       "<table border=\"1\" class=\"dataframe\">\n",
       "  <thead>\n",
       "    <tr style=\"text-align: right;\">\n",
       "      <th></th>\n",
       "      <th>count_books</th>\n",
       "    </tr>\n",
       "  </thead>\n",
       "  <tbody>\n",
       "    <tr>\n",
       "      <th>0</th>\n",
       "      <td>819</td>\n",
       "    </tr>\n",
       "  </tbody>\n",
       "</table>\n",
       "</div>"
      ],
      "text/plain": [
       "   count_books\n",
       "0          819"
      ]
     },
     "execution_count": 9,
     "metadata": {},
     "output_type": "execute_result"
    }
   ],
   "source": [
    "query = '''\n",
    "        SELECT COUNT(*) as count_books\n",
    "        FROM books \n",
    "        WHERE publication_date > '2000-01-01'\n",
    "        '''\n",
    "return_sql(query)"
   ]
  },
  {
   "cell_type": "markdown",
   "id": "bef92d1d",
   "metadata": {},
   "source": [
    "После 1 января 2000 года было опубликовано 819 книг"
   ]
  },
  {
   "cell_type": "markdown",
   "id": "54c9802a",
   "metadata": {},
   "source": [
    "**2) Для каждой книги посчитаем количество обзоров и среднюю оценку** <br>\n",
    "[Посмотреть схему БД](#scheme)"
   ]
  },
  {
   "cell_type": "code",
   "execution_count": 10,
   "id": "11b6bf58",
   "metadata": {},
   "outputs": [
    {
     "data": {
      "text/html": [
       "<div>\n",
       "<style scoped>\n",
       "    .dataframe tbody tr th:only-of-type {\n",
       "        vertical-align: middle;\n",
       "    }\n",
       "\n",
       "    .dataframe tbody tr th {\n",
       "        vertical-align: top;\n",
       "    }\n",
       "\n",
       "    .dataframe thead th {\n",
       "        text-align: right;\n",
       "    }\n",
       "</style>\n",
       "<table border=\"1\" class=\"dataframe\">\n",
       "  <thead>\n",
       "    <tr style=\"text-align: right;\">\n",
       "      <th></th>\n",
       "      <th>book_id</th>\n",
       "      <th>title</th>\n",
       "      <th>avg_rating</th>\n",
       "      <th>count_reviews</th>\n",
       "    </tr>\n",
       "  </thead>\n",
       "  <tbody>\n",
       "    <tr>\n",
       "      <th>0</th>\n",
       "      <td>17</td>\n",
       "      <td>A Dirty Job (Grim Reaper  #1)</td>\n",
       "      <td>5.00</td>\n",
       "      <td>4</td>\n",
       "    </tr>\n",
       "    <tr>\n",
       "      <th>1</th>\n",
       "      <td>444</td>\n",
       "      <td>Moneyball: The Art of Winning an Unfair Game</td>\n",
       "      <td>5.00</td>\n",
       "      <td>3</td>\n",
       "    </tr>\n",
       "    <tr>\n",
       "      <th>2</th>\n",
       "      <td>553</td>\n",
       "      <td>School's Out—Forever (Maximum Ride  #2)</td>\n",
       "      <td>5.00</td>\n",
       "      <td>3</td>\n",
       "    </tr>\n",
       "    <tr>\n",
       "      <th>3</th>\n",
       "      <td>20</td>\n",
       "      <td>A Fistful of Charms (The Hollows  #4)</td>\n",
       "      <td>5.00</td>\n",
       "      <td>2</td>\n",
       "    </tr>\n",
       "    <tr>\n",
       "      <th>4</th>\n",
       "      <td>55</td>\n",
       "      <td>A Woman of Substance (Emma Harte Saga #1)</td>\n",
       "      <td>5.00</td>\n",
       "      <td>2</td>\n",
       "    </tr>\n",
       "    <tr>\n",
       "      <th>...</th>\n",
       "      <td>...</td>\n",
       "      <td>...</td>\n",
       "      <td>...</td>\n",
       "      <td>...</td>\n",
       "    </tr>\n",
       "    <tr>\n",
       "      <th>995</th>\n",
       "      <td>915</td>\n",
       "      <td>The World Is Flat: A Brief History of the Twen...</td>\n",
       "      <td>2.25</td>\n",
       "      <td>3</td>\n",
       "    </tr>\n",
       "    <tr>\n",
       "      <th>996</th>\n",
       "      <td>202</td>\n",
       "      <td>Drowning Ruth</td>\n",
       "      <td>2.00</td>\n",
       "      <td>3</td>\n",
       "    </tr>\n",
       "    <tr>\n",
       "      <th>997</th>\n",
       "      <td>316</td>\n",
       "      <td>His Excellency: George Washington</td>\n",
       "      <td>2.00</td>\n",
       "      <td>2</td>\n",
       "    </tr>\n",
       "    <tr>\n",
       "      <th>998</th>\n",
       "      <td>371</td>\n",
       "      <td>Junky</td>\n",
       "      <td>2.00</td>\n",
       "      <td>2</td>\n",
       "    </tr>\n",
       "    <tr>\n",
       "      <th>999</th>\n",
       "      <td>303</td>\n",
       "      <td>Harvesting the Heart</td>\n",
       "      <td>1.50</td>\n",
       "      <td>2</td>\n",
       "    </tr>\n",
       "  </tbody>\n",
       "</table>\n",
       "<p>1000 rows × 4 columns</p>\n",
       "</div>"
      ],
      "text/plain": [
       "     book_id                                              title  avg_rating  \\\n",
       "0         17                      A Dirty Job (Grim Reaper  #1)        5.00   \n",
       "1        444       Moneyball: The Art of Winning an Unfair Game        5.00   \n",
       "2        553            School's Out—Forever (Maximum Ride  #2)        5.00   \n",
       "3         20              A Fistful of Charms (The Hollows  #4)        5.00   \n",
       "4         55          A Woman of Substance (Emma Harte Saga #1)        5.00   \n",
       "..       ...                                                ...         ...   \n",
       "995      915  The World Is Flat: A Brief History of the Twen...        2.25   \n",
       "996      202                                      Drowning Ruth        2.00   \n",
       "997      316                  His Excellency: George Washington        2.00   \n",
       "998      371                                              Junky        2.00   \n",
       "999      303                               Harvesting the Heart        1.50   \n",
       "\n",
       "     count_reviews  \n",
       "0                4  \n",
       "1                3  \n",
       "2                3  \n",
       "3                2  \n",
       "4                2  \n",
       "..             ...  \n",
       "995              3  \n",
       "996              3  \n",
       "997              2  \n",
       "998              2  \n",
       "999              2  \n",
       "\n",
       "[1000 rows x 4 columns]"
      ]
     },
     "execution_count": 10,
     "metadata": {},
     "output_type": "execute_result"
    }
   ],
   "source": [
    "query = '''\n",
    "        SELECT DISTINCT b.book_id,\n",
    "        b.title,\n",
    "        ROUND(AVG(r.rating),2) as avg_rating,\n",
    "        COUNT(DISTINCT re.text) as count_reviews\n",
    "        FROM books b\n",
    "        LEFT JOIN ratings r ON  r.book_id = b.book_id\n",
    "        LEFT JOIN reviews re ON re.book_id = b.book_id\n",
    "        GROUP BY 1\n",
    "        ORDER BY 3 DESC, 4 DESC\n",
    "        '''\n",
    "return_sql(query)"
   ]
  },
  {
   "cell_type": "markdown",
   "id": "07d1a4c0",
   "metadata": {},
   "source": [
    "По всем книгам у нас рейтинг от 5 и вплоть до 1,5."
   ]
  },
  {
   "cell_type": "markdown",
   "id": "0f4d850a",
   "metadata": {},
   "source": [
    "**3) Определим издательство, которое выпустило наибольшее число книг толще 50 страниц**<br>\n",
    "[Посмотреть схему БД](#scheme)"
   ]
  },
  {
   "cell_type": "code",
   "execution_count": 11,
   "id": "09b2cce5",
   "metadata": {},
   "outputs": [
    {
     "data": {
      "text/html": [
       "<div>\n",
       "<style scoped>\n",
       "    .dataframe tbody tr th:only-of-type {\n",
       "        vertical-align: middle;\n",
       "    }\n",
       "\n",
       "    .dataframe tbody tr th {\n",
       "        vertical-align: top;\n",
       "    }\n",
       "\n",
       "    .dataframe thead th {\n",
       "        text-align: right;\n",
       "    }\n",
       "</style>\n",
       "<table border=\"1\" class=\"dataframe\">\n",
       "  <thead>\n",
       "    <tr style=\"text-align: right;\">\n",
       "      <th></th>\n",
       "      <th>publisher</th>\n",
       "      <th>count_books</th>\n",
       "    </tr>\n",
       "  </thead>\n",
       "  <tbody>\n",
       "    <tr>\n",
       "      <th>0</th>\n",
       "      <td>Penguin Books</td>\n",
       "      <td>42</td>\n",
       "    </tr>\n",
       "  </tbody>\n",
       "</table>\n",
       "</div>"
      ],
      "text/plain": [
       "       publisher  count_books\n",
       "0  Penguin Books           42"
      ]
     },
     "execution_count": 11,
     "metadata": {},
     "output_type": "execute_result"
    }
   ],
   "source": [
    "query = '''\n",
    "        SELECT p.publisher, \n",
    "        COUNT(b.book_id) as count_books\n",
    "        FROM publishers p\n",
    "        JOIN books b ON p.publisher_id = b.publisher_id\n",
    "        WHERE b.num_pages>50\n",
    "        GROUP BY 1\n",
    "        ORDER BY 2 DESC\n",
    "        LIMIT 1\n",
    "        '''\n",
    "return_sql(query)"
   ]
  },
  {
   "cell_type": "markdown",
   "id": "3b433ae5",
   "metadata": {},
   "source": [
    "Издательство Penguin Books выпустило 42 книги!"
   ]
  },
  {
   "cell_type": "markdown",
   "id": "9c5d83a7",
   "metadata": {},
   "source": [
    "**4) Определим автора с самой высокой средней оценкой книг — учитываем только книги с 50 и более оценками**<br>\n",
    "[Посмотреть схему БД](#scheme)"
   ]
  },
  {
   "cell_type": "code",
   "execution_count": 12,
   "id": "fe73ab3b",
   "metadata": {},
   "outputs": [
    {
     "data": {
      "text/html": [
       "<div>\n",
       "<style scoped>\n",
       "    .dataframe tbody tr th:only-of-type {\n",
       "        vertical-align: middle;\n",
       "    }\n",
       "\n",
       "    .dataframe tbody tr th {\n",
       "        vertical-align: top;\n",
       "    }\n",
       "\n",
       "    .dataframe thead th {\n",
       "        text-align: right;\n",
       "    }\n",
       "</style>\n",
       "<table border=\"1\" class=\"dataframe\">\n",
       "  <thead>\n",
       "    <tr style=\"text-align: right;\">\n",
       "      <th></th>\n",
       "      <th>author</th>\n",
       "      <th>avg_rating</th>\n",
       "    </tr>\n",
       "  </thead>\n",
       "  <tbody>\n",
       "    <tr>\n",
       "      <th>0</th>\n",
       "      <td>J.K. Rowling/Mary GrandPré</td>\n",
       "      <td>4.285</td>\n",
       "    </tr>\n",
       "  </tbody>\n",
       "</table>\n",
       "</div>"
      ],
      "text/plain": [
       "                       author  avg_rating\n",
       "0  J.K. Rowling/Mary GrandPré       4.285"
      ]
     },
     "execution_count": 12,
     "metadata": {},
     "output_type": "execute_result"
    }
   ],
   "source": [
    "query = '''\n",
    "        WITH good_books as\n",
    "        (\n",
    "        SELECT b.book_id\n",
    "        FROM books b\n",
    "        JOIN ratings r ON r.book_id = b.book_id\n",
    "        GROUP BY 1\n",
    "        HAVING COUNT(r.book_id)>=50\n",
    "        ORDER BY COUNT(r.book_id) DESC\n",
    "        )\n",
    "        \n",
    "        SELECT a.author,\n",
    "        AVG(tab.avg_rating) as avg_rating\n",
    "        FROM books b\n",
    "        JOIN\n",
    "            (SELECT r1.book_id,\n",
    "            ROUND(AVG(r1.rating),2) as avg_rating\n",
    "            FROM ratings r1\n",
    "            JOIN good_books gb ON gb.book_id = r1.book_id\n",
    "            GROUP BY 1) tab ON tab.book_id = b.book_id\n",
    "        JOIN authors a ON a.author_id = b.author_id\n",
    "        GROUP BY 1\n",
    "        ORDER BY 2 DESC\n",
    "        LIMIT 1\n",
    "        '''\n",
    "return_sql(query)"
   ]
  },
  {
   "cell_type": "markdown",
   "id": "1a5a8ffb",
   "metadata": {},
   "source": [
    "Джоан Роулинг возглавляет наш список!"
   ]
  },
  {
   "cell_type": "markdown",
   "id": "d71b8ede",
   "metadata": {},
   "source": [
    "**5) Посчитаем среднее количество обзоров от пользователей, которые поставили больше 50 оценок.**<br>\n",
    "[Посмотреть схему БД](#scheme)"
   ]
  },
  {
   "cell_type": "code",
   "execution_count": 13,
   "id": "73bcf382",
   "metadata": {},
   "outputs": [
    {
     "data": {
      "text/html": [
       "<div>\n",
       "<style scoped>\n",
       "    .dataframe tbody tr th:only-of-type {\n",
       "        vertical-align: middle;\n",
       "    }\n",
       "\n",
       "    .dataframe tbody tr th {\n",
       "        vertical-align: top;\n",
       "    }\n",
       "\n",
       "    .dataframe thead th {\n",
       "        text-align: right;\n",
       "    }\n",
       "</style>\n",
       "<table border=\"1\" class=\"dataframe\">\n",
       "  <thead>\n",
       "    <tr style=\"text-align: right;\">\n",
       "      <th></th>\n",
       "      <th>avg_count_reviews</th>\n",
       "    </tr>\n",
       "  </thead>\n",
       "  <tbody>\n",
       "    <tr>\n",
       "      <th>0</th>\n",
       "      <td>24.0</td>\n",
       "    </tr>\n",
       "  </tbody>\n",
       "</table>\n",
       "</div>"
      ],
      "text/plain": [
       "   avg_count_reviews\n",
       "0               24.0"
      ]
     },
     "execution_count": 13,
     "metadata": {},
     "output_type": "execute_result"
    }
   ],
   "source": [
    "query = '''\n",
    "        WITH our_table as (\n",
    "        SELECT re.username,\n",
    "        COUNT(*) as count_reviews\n",
    "        FROM reviews re\n",
    "        WHERE re.username IN(\n",
    "            SELECT r.username\n",
    "            FROM ratings r\n",
    "            GROUP BY 1\n",
    "            HAVING COUNT(*) > 50\n",
    "            ORDER BY COUNT(*) DESC\n",
    "        )\n",
    "        GROUP BY 1\n",
    "        ) \n",
    "        \n",
    "        SELECT ROUND(AVG(our_table.count_reviews), 0) as avg_count_reviews\n",
    "        FROM our_table\n",
    "\n",
    "        '''\n",
    "return_sql(query)"
   ]
  },
  {
   "cell_type": "markdown",
   "id": "efeeac75",
   "metadata": {},
   "source": [
    "Пользователи, поставившие более 50 оценок, в среднем написали около 24 обзоров на человека"
   ]
  },
  {
   "cell_type": "markdown",
   "id": "3d757afc",
   "metadata": {},
   "source": [
    "### Вывод\n",
    "<a id='conclusion'></a>"
   ]
  },
  {
   "cell_type": "markdown",
   "id": "e5148c56",
   "metadata": {},
   "source": [
    "База данных изучена! Было написано несколько запросов, которые помогли нам получить представление о БД. Оказалось, что после 1 января 2000 года вышло 819 книг, а издательство Penguin Books выпустило больше всех книг."
   ]
  }
 ],
 "metadata": {
  "ExecuteTimeLog": [
   {
    "duration": 525,
    "start_time": "2023-03-05T04:45:29.888Z"
   },
   {
    "duration": 2,
    "start_time": "2023-03-05T04:45:30.415Z"
   },
   {
    "duration": 50,
    "start_time": "2023-03-05T04:45:30.419Z"
   },
   {
    "duration": 9602,
    "start_time": "2023-03-05T04:45:30.471Z"
   },
   {
    "duration": 3,
    "start_time": "2023-03-05T04:45:40.075Z"
   },
   {
    "duration": 278,
    "start_time": "2023-03-05T04:45:40.080Z"
   },
   {
    "duration": 3,
    "start_time": "2023-03-05T04:45:40.359Z"
   },
   {
    "duration": 344,
    "start_time": "2023-03-05T04:45:40.363Z"
   },
   {
    "duration": 68,
    "start_time": "2023-03-05T04:45:40.708Z"
   },
   {
    "duration": 107,
    "start_time": "2023-03-05T04:45:40.777Z"
   },
   {
    "duration": 71,
    "start_time": "2023-03-05T04:45:40.885Z"
   },
   {
    "duration": 102,
    "start_time": "2023-03-05T04:46:00.044Z"
   },
   {
    "duration": 104,
    "start_time": "2023-03-05T04:46:09.432Z"
   },
   {
    "duration": 219,
    "start_time": "2023-03-05T04:50:07.615Z"
   },
   {
    "duration": 77,
    "start_time": "2023-03-05T04:50:22.947Z"
   },
   {
    "duration": 73,
    "start_time": "2023-03-05T04:50:55.937Z"
   },
   {
    "duration": 104,
    "start_time": "2023-03-05T04:53:18.208Z"
   },
   {
    "duration": 123,
    "start_time": "2023-03-05T04:54:35.916Z"
   },
   {
    "duration": 122,
    "start_time": "2023-03-05T04:55:33.113Z"
   },
   {
    "duration": 121,
    "start_time": "2023-03-05T04:55:47.170Z"
   },
   {
    "duration": 119,
    "start_time": "2023-03-05T04:56:07.462Z"
   },
   {
    "duration": 167,
    "start_time": "2023-03-05T04:57:31.504Z"
   },
   {
    "duration": 111,
    "start_time": "2023-03-05T04:57:41.917Z"
   },
   {
    "duration": 53,
    "start_time": "2023-03-05T15:12:08.276Z"
   },
   {
    "duration": 486,
    "start_time": "2023-03-05T15:12:13.108Z"
   },
   {
    "duration": 3,
    "start_time": "2023-03-05T15:12:13.595Z"
   },
   {
    "duration": 11,
    "start_time": "2023-03-05T15:12:13.599Z"
   },
   {
    "duration": 8029,
    "start_time": "2023-03-05T15:12:13.611Z"
   },
   {
    "duration": 3,
    "start_time": "2023-03-05T15:12:21.645Z"
   },
   {
    "duration": 275,
    "start_time": "2023-03-05T15:12:21.650Z"
   },
   {
    "duration": 4,
    "start_time": "2023-03-05T15:12:21.926Z"
   },
   {
    "duration": 355,
    "start_time": "2023-03-05T15:12:21.932Z"
   },
   {
    "duration": 70,
    "start_time": "2023-03-05T15:12:22.289Z"
   },
   {
    "duration": 124,
    "start_time": "2023-03-05T15:12:22.361Z"
   },
   {
    "duration": 72,
    "start_time": "2023-03-05T15:12:22.487Z"
   },
   {
    "duration": 209,
    "start_time": "2023-03-05T15:12:22.561Z"
   },
   {
    "duration": 0,
    "start_time": "2023-03-05T15:12:22.773Z"
   },
   {
    "duration": 95,
    "start_time": "2023-03-05T15:12:39.267Z"
   },
   {
    "duration": 154,
    "start_time": "2023-03-05T15:13:31.075Z"
   },
   {
    "duration": 89,
    "start_time": "2023-03-05T15:13:35.958Z"
   },
   {
    "duration": 183,
    "start_time": "2023-03-05T15:13:55.186Z"
   },
   {
    "duration": 73,
    "start_time": "2023-03-05T15:14:07.554Z"
   },
   {
    "duration": 71,
    "start_time": "2023-03-05T15:14:38.091Z"
   },
   {
    "duration": 74,
    "start_time": "2023-03-05T15:15:16.279Z"
   },
   {
    "duration": 167,
    "start_time": "2023-03-05T15:16:24.514Z"
   },
   {
    "duration": 161,
    "start_time": "2023-03-05T15:17:00.589Z"
   },
   {
    "duration": 166,
    "start_time": "2023-03-05T15:17:23.671Z"
   },
   {
    "duration": 168,
    "start_time": "2023-03-05T15:21:30.150Z"
   },
   {
    "duration": 185,
    "start_time": "2023-03-05T15:22:16.667Z"
   },
   {
    "duration": 72,
    "start_time": "2023-03-05T15:22:36.737Z"
   },
   {
    "duration": 72,
    "start_time": "2023-03-05T15:22:56.932Z"
   },
   {
    "duration": 88,
    "start_time": "2023-03-05T15:24:15.799Z"
   },
   {
    "duration": 74,
    "start_time": "2023-03-05T15:27:50.533Z"
   },
   {
    "duration": 154,
    "start_time": "2023-03-05T15:30:14.470Z"
   },
   {
    "duration": 158,
    "start_time": "2023-03-05T15:30:35.400Z"
   },
   {
    "duration": 160,
    "start_time": "2023-03-05T15:31:15.992Z"
   },
   {
    "duration": 154,
    "start_time": "2023-03-05T15:33:01.604Z"
   },
   {
    "duration": 149,
    "start_time": "2023-03-05T15:33:48.903Z"
   },
   {
    "duration": 76,
    "start_time": "2023-03-05T15:34:14.224Z"
   },
   {
    "duration": 75,
    "start_time": "2023-03-05T15:38:20.903Z"
   },
   {
    "duration": 76,
    "start_time": "2023-03-05T15:38:48.975Z"
   },
   {
    "duration": 81,
    "start_time": "2023-03-05T15:39:08.430Z"
   },
   {
    "duration": 76,
    "start_time": "2023-03-05T15:39:29.401Z"
   },
   {
    "duration": 159,
    "start_time": "2023-03-05T15:40:00.135Z"
   },
   {
    "duration": 79,
    "start_time": "2023-03-05T15:40:25.411Z"
   },
   {
    "duration": 78,
    "start_time": "2023-03-05T15:40:45.909Z"
   },
   {
    "duration": 147,
    "start_time": "2023-03-05T15:42:27.188Z"
   },
   {
    "duration": 183,
    "start_time": "2023-03-05T15:42:50.580Z"
   },
   {
    "duration": 75,
    "start_time": "2023-03-05T15:43:14.436Z"
   },
   {
    "duration": 77,
    "start_time": "2023-03-05T15:43:19.745Z"
   },
   {
    "duration": 73,
    "start_time": "2023-03-05T15:43:36.135Z"
   }
  ],
  "kernelspec": {
   "display_name": "Python 3 (ipykernel)",
   "language": "python",
   "name": "python3"
  },
  "language_info": {
   "codemirror_mode": {
    "name": "ipython",
    "version": 3
   },
   "file_extension": ".py",
   "mimetype": "text/x-python",
   "name": "python",
   "nbconvert_exporter": "python",
   "pygments_lexer": "ipython3",
   "version": "3.9.13"
  },
  "toc": {
   "base_numbering": 1,
   "nav_menu": {},
   "number_sections": true,
   "sideBar": true,
   "skip_h1_title": true,
   "title_cell": "Table of Contents",
   "title_sidebar": "Contents",
   "toc_cell": false,
   "toc_position": {},
   "toc_section_display": true,
   "toc_window_display": false
  }
 },
 "nbformat": 4,
 "nbformat_minor": 5
}
